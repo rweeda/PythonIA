{
 "cells": [
  {
   "cell_type": "markdown",
   "metadata": {},
   "source": [
    "## Onderwerp 13: Afsluitende opdrachten\n",
    "\n",
    "<p>Met de volgende afsluitende opdrachten kun je kijken hoe goed je de stof beheerst. Controleer steeds je eigen oplossing met de voorbeelduitwerking.</p>\n"
   ]
  },
  {
   "cell_type": "markdown",
   "metadata": {},
   "source": [
    "### Afsluitende opdracht 13.1 Letterteller\n",
    "\n",
    "<p>Schrijf een programma dat de gebruiker om een woord vraagt en dan binnen een loop steeds:\n",
    "<ol>\n",
    "<li>de laatste letter weghaald;\n",
    "<li>dit resultaat print;\n",
    "<li>print hoeveel letters er zijn weggehaald.\n",
    "</ol>\n",
    "Laat het programma na afloop controleren of het aantal weggehaalde letters gelijk is aan de oorspronkelijke woordlengte.</p> "
   ]
  },
  {
   "cell_type": "code",
   "execution_count": null,
   "metadata": {},
   "outputs": [],
   "source": []
  },
  {
   "cell_type": "markdown",
   "metadata": {},
   "source": [
    "### Afsluitende opdracht 13.2 Mottenbal in het Maleis\n",
    "\n",
    "<p>Schrijf een eigen functie die in de zin “<i>Janny Rademakers en Jaap Stam kapen een bal.</i>\" alle voorkomens van de letter '<i>a</i>' in de letter '<i>o</i>' verandert. De functie toont eerst de oorspronkelijke zin en daarna de gewijzigde.</p>\n"
   ]
  },
  {
   "cell_type": "code",
   "execution_count": null,
   "metadata": {},
   "outputs": [],
   "source": []
  },
  {
   "cell_type": "markdown",
   "metadata": {},
   "source": [
    "### Afsluitende opdracht 13.3 Palindroom of nachtmerrie?\n",
    "\n",
    "<p>Schrijf een programma dat om een woord vraagt en controleert of deze een palindroom is. Een palindroom is een woord of zin die achterstevoren hetzelfde is, ook wel keerwoord genoemd. Voorbeelden van palindromische woorden zijn: kok, lepel, level, negen, meetsysteem en parterretrap. Bedenk zelf hoe je de gebruiker verteld of het een palindroom is of niet.</p>\n"
   ]
  },
  {
   "cell_type": "code",
   "execution_count": null,
   "metadata": {},
   "outputs": [],
   "source": [
    "\n",
    "\n"
   ]
  }
 ],
 "metadata": {
  "kernelspec": {
   "display_name": "Python 3",
   "language": "python",
   "name": "python3"
  },
  "language_info": {
   "codemirror_mode": {
    "name": "ipython",
    "version": 3
   },
   "file_extension": ".py",
   "mimetype": "text/x-python",
   "name": "python",
   "nbconvert_exporter": "python",
   "pygments_lexer": "ipython3",
   "version": "3.11.9"
  }
 },
 "nbformat": 4,
 "nbformat_minor": 2
}
