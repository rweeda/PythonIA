{
 "cells": [
  {
   "cell_type": "markdown",
   "metadata": {},
   "source": [
    "# Hoofdstuk 12 - Geneste loops\n",
    "\n",
    "\n",
    "\n",
    "<p>Je kunt een loop in een andere loop stoppen. Dit gebruik je om alle combinaties van twee dingen af te drukken, bijvoorbeeld van coördinaten of tabellen.</p>\n",
    "\n",
    "\n",
    "\n",
    "<p>In dit onderwerp:</p>\n",
    "\n",
    "<ul>\n",
    "    <li>leer je hoe je met geneste <code>for</code>-loops moet werken;</li>\n",
    "    <li>leer je hoe je lijsten kan nesten;</li>\n",
    "    <li>leer je nesten te combineren met voorwaarden/condities.</li>\n",
    "</ul>\n",
    "\n",
    "<div class=\"fa fa-clock-o fa-3x\"></div><br> <b>2 uur</b>"
   ]
  }
 ],
 "metadata": {
  "kernelspec": {
   "display_name": "Python 3",
   "language": "python",
   "name": "python3"
  },
  "language_info": {
   "codemirror_mode": {
    "name": "ipython",
    "version": 3
   },
   "file_extension": ".py",
   "mimetype": "text/x-python",
   "name": "python",
   "nbconvert_exporter": "python",
   "pygments_lexer": "ipython3",
   "version": "3.11.8"
  }
 },
 "nbformat": 4,
 "nbformat_minor": 2
}
