{
 "cells": [
  {
   "cell_type": "markdown",
   "metadata": {},
   "source": [
    "## 3: Herhaling: lijsten\n",
    "\n",
    "<p>We herhalen nu kort hoe lijsten werken.</p>\n",
    "\n",
    "<p>Een lijst is een verzameling elementen. De lengte van een lijst (dus het aantal elementen) kun je bepalen met <code>len(lijst)</code>.</p>\n",
    "<p>De positie van een element noemen we een <i>index</i>. De index kun je gebruiken om een element op een bepaalde plek te krijgen of daar juist neer te zetten. De index van het laatste element is de lengte van de lijst min 1.</p>\n",
    "\n",
    "<ul>\n",
    "    <li><code>lijst[0]</code> : eerste element</li>\n",
    "    <li><code>lijst[1]</code> : tweede element</li>\n",
    "    <li>...</li>\n",
    "    <li><code>lijst[ (len(lijst)-1) ]</code> : laatste element</li>\n",
    "\n",
    "</ul>"
   ]
  },
  {
   "cell_type": "code",
   "execution_count": null,
   "metadata": {},
   "outputs": [],
   "source": [
    "lijst = [\"a\", \"b\", \"c\", \"d\"]\n",
    "\n",
    "print(\"lengte lijst:\", len(lijst) ) # lengte van de lijst\n",
    "\n",
    "print( \"eerste:\", lijst[0] ) #eerste element\n",
    "print( \"tweede:\", lijst[1] ) # tweede element\n",
    "\n",
    "print( \"laatste:\", lijst[ (len(lijst)-1) ] ) #laatste element, zit op index: lengte-1"
   ]
  },
  {
   "cell_type": "markdown",
   "metadata": {},
   "source": [
    "### Opdracht 12.2 Oefenen met lijsten\n",
    "<p>In deze opgaven oefenen we met de index van een lijst:\n",
    "</p>\n",
    "<ol>\n",
    "    <li><b>Deel A</b>: Bekijk de lijst met cijfers: <code>cijferLijst</code>. Wat is de index van het cijfer 3.4? Verander het eerste cijfer in 5.5.</li>\n",
    "    <li><b>Deel B</b>: Bekijk de lijst met tekens: <code>tekenLijst</code>. Wat is de index van de underscore,\n",
    "        \"_\"? Gebruik de index om de underscore te vervangen door de letter \"t\".</li>\n",
    "    <li><b>Deel C</b>: Met de laatste regel code willen we van <i>elke cijferLijst</i> het laatste cijfer printen, maar er zit een fout in de code. Kan jij de fout oplossen?</li>\n",
    "</ol>"
   ]
  },
  {
   "cell_type": "code",
   "execution_count": null,
   "metadata": {},
   "outputs": [],
   "source": [
    "#DEEL A\n",
    "cijferLijst = [3.4, 8.0, 6.9, 7.0, 8.2]\n",
    "#vervang hier 3.4 met 5.5\n",
    "print(cijferLijst)\n",
    "\n",
    "#DEEL B:\n",
    "tekenLijst = [\"k\", \"a\", \"_\"]\n",
    "#vervang hier _ met t\n",
    "print(tekenLijst)\n",
    "\n",
    "#DEEL C:\n",
    "laatste = cijferLijst[ len(cijferLijst) ]  #pas de fout hier aan print(laatste)"
   ]
  },
  {
   "cell_type": "markdown",
   "metadata": {},
   "source": [
    "\n",
    "\n",
    "<!--\n",
    "<pre\n",
    "class=\"python\">\n",
    "#DEEL A cijferLijst = [3.4, 8.0, 6.9, 7.0, 8.2] #vervang 3.4 met 5.5\n",
    "\n",
    "cijferLijst[0] = 5.5\n",
    "print(cijferLijst)\n",
    "\n",
    "#DEEL B: letterLijst = [\"k\", \"a\", \"_\"] #vervang _ met t letterLijst [2] = \"t\" print(letterLijst)\n",
    "\n",
    "#DEEL C: laatste =\n",
    "cijferLijst[ len(cijferLijst)-1 ] #pas de fout hier aan print(laatste) </pre>\n",
    "-->\n",
    "<p>Bekijk <a href=\"https://course.cs.ru.nl/pythonVO/Teams/IA_uitwerkingen/IA_H12_oplossingen.html#opgave1221\">hier</a> een voorbeelduitwerking.</p>"
   ]
  }
 ],
 "metadata": {
  "kernelspec": {
   "display_name": "Python 3",
   "language": "python",
   "name": "python3"
  },
  "language_info": {
   "codemirror_mode": {
    "name": "ipython",
    "version": 3
   },
   "file_extension": ".py",
   "mimetype": "text/x-python",
   "name": "python",
   "nbconvert_exporter": "python",
   "pygments_lexer": "ipython3",
   "version": "3.11.8"
  }
 },
 "nbformat": 4,
 "nbformat_minor": 2
}
