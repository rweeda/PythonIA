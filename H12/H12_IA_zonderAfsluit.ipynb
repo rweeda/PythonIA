{
 "cells": [
  {
   "cell_type": "markdown",
   "metadata": {},
   "source": [
    "## 6: Geneste lijsten"
   ]
  },
  {
   "cell_type": "markdown",
   "metadata": {},
   "source": [
    "[![Watch the video](https://img.youtube.com/vi/V80VC7KIljU/hqdefault.jpg)](https://www.youtube.com/embed/V80VC7KIljU)"
   ]
  },
  {
   "cell_type": "markdown",
   "metadata": {},
   "source": [
    "<p>Je kunt ook lijsten van lijsten maken. Eigenlijk is dit een tabel (of\n",
    "    matrix). Tabellen kom je overal tegen, bijvoorbeeld voor je resultaten van een\n",
    "    natuurkunde-experiment of om bij te houden welke stoelen in een bioscoop\n",
    "    zijn gereserveerd. Daarnaast worden deze tweedimensionale lijsten ook\n",
    "    gebruikt om plaatjes in de computer te representeren (weet je nog, bitmap?)\n",
    "    of bij computerspellen:</p>\n",
    "\n",
    "\n",
    "<div style=\"display:flex\">\n",
    "<img src=\"https://course.cs.ru.nl/pythonVO/img/bitmapImage.PNG\" width=\"100\" alt=\"Bitmap representatie\">\n",
    "<img src=\"https://course.cs.ru.nl/pythonVO/img/schaakbord.PNG\" width=\"100\" alt=\"Schaakbord\">\n",
    "<img src=\"https://course.cs.ru.nl/pythonVO/img/minesweeper_small.png\" width=\"100\" alt=\"Mijnenveger\">\n",
    "</div>\n",
    "\n",
    "<p>In het voorbeeld hieronder staan drie lijsten (drie rijen) genest in een lijst,\n",
    "    samen vormen ze een tabel met X,O,-. Zo kun je bijvoorbeeld een\n",
    "    boter-kaas-eierenbord bouwen (een liggend streepje is een lege cel). Om bij\n",
    "    een element in een geneste lijst te komen, moet je beide indexen geven, net\n",
    "    als een soort coördinaat. Met <code>bord[0][0]</code> kom je bij het element linksboven en met <code>bord[0][2]</code> bij het element rechtsboven.</p>\n"
   ]
  },
  {
   "cell_type": "code",
   "execution_count": null,
   "metadata": {},
   "outputs": [],
   "source": [
    "bord = [ [\"X\", \"O\", \"-\"], [\"X\", \"O\", \"O\"], [\"-\", \"X\", \"-\"] ]\n",
    "\n",
    "print( bord[0][0], bord[0][1], bord[0][2] )\n",
    "print( bord[1][0], bord[1][1], bord[1][2] )\n",
    "print( bord[2][0], bord[2][1], bord[2][2] )"
   ]
  },
  {
   "cell_type": "markdown",
   "metadata": {},
   "source": [
    "### Opdracht 12.6 Winnen met Boter-kaas-eieren\n",
    "<p>Win\n",
    "    het spel hieronder door op regel 3 maar één regel code toe te\n",
    "    voegen. Gebruik de co&ouml;rdinaten/indexen om een '-' in een 'X' te\n",
    "    veranderen.</p>"
   ]
  },
  {
   "cell_type": "code",
   "execution_count": null,
   "metadata": {},
   "outputs": [],
   "source": [
    "bord = [ [\"X\", \"O\", \"-\"], [\"X\", \"O\", \"O\"], [\"-\", \"X\", \"-\"] ]\n",
    "\n",
    " #Win het spel door hier 1 regel code toe te voegen, daardoor verander je een - in een X te veranderen\n",
    "\n",
    "print( bord[0][0], bord[0][1], bord[0][2] ) #print eerst rij van bord\n",
    "print( bord[1][0], bord[1][1], bord[1][2] ) #print tweede rij van bord\n",
    "print( bord[2][0], bord[2][1], bord[2][2] ) #print derde rij van bord"
   ]
  },
  {
   "cell_type": "markdown",
   "metadata": {},
   "source": [
    "<p>Bekijk <a href=\"https://course.cs.ru.nl/pythonVO/Teams/IA_uitwerkingen/IA_H12_oplossingen.html#opgave1241\">hier</a> een voorbeelduitwerking.</p>"
   ]
  },
  {
   "cell_type": "markdown",
   "metadata": {},
   "source": [
    "## 7: Een geneste lijst doorlopen met een geneste <code>for</code>-loop"
   ]
  },
  {
   "cell_type": "markdown",
   "metadata": {},
   "source": [
    "[![Watch the video](https://img.youtube.com/vi/eRvfUeEkBuA/hqdefault.jpg)](https://www.youtube.com/embed/eRvfUeEkBuA)"
   ]
  },
  {
   "cell_type": "markdown",
   "metadata": {},
   "source": [
    "\n",
    "\n",
    "<p>Met een <code>for</code>-loop doorloop je een lijst. Met een geneste\n",
    "    <code>for</code>-loop doorloop je een geneste lijst. Als je voor elke kolom\n",
    "    in elke rij wat wilt afdrukken gebruik je een <code>for</code> om elke rij te\n",
    "    doorlopen en daarbinnen een andere <code>for</code> om elke kolom af te\n",
    "    lopen:\n",
    "</p>"
   ]
  },
  {
   "cell_type": "code",
   "execution_count": null,
   "metadata": {},
   "outputs": [],
   "source": [
    "bord = [ [\"X\", \"O\", \"-\"], [\"X\", \"O\", \"O\"], [\"-\", \"X\", \"-\"] ]\n",
    "\n",
    "for rij in range (3):\n",
    "\tfor kolom in range (3):\n",
    "\t\tprint(bord[rij][kolom], end=\"\") #druk zet af, maar zonder naar nieuwe regel door te gaan\n",
    "\tprint() #ga naar volgende regel"
   ]
  },
  {
   "cell_type": "markdown",
   "metadata": {},
   "source": [
    "### Opdracht 12.7 Smiley\n",
    "<p>De bedoeling van de code\n",
    "    hieronder is om een smiley te printen. </p>\n",
    "<ul>\n",
    "    <li><b>Deel A</b>: schrijf code om een plaatje van vijf breed en vijf hoog af te drukken.</li>\n",
    "    <li><b>Deel B</b>: gebruik de indices om het plaatje in een glimlach te veranderen. Kijk op regel 9 voor een tip.</li>\n",
    "</ul>\n",
    "\n"
   ]
  },
  {
   "cell_type": "code",
   "execution_count": null,
   "metadata": {},
   "outputs": [],
   "source": [
    "plaatje = [ [\" \",\"X\", \" \", \"X\", \" \"],\n",
    "\t\t   [\" \",\"X\", \" \", \"X\", \" \"],\n",
    "\t\t   [\" \",\" \", \" \", \" \", \" \"],\n",
    "\t\t   [\" \",\"X\", \"X\", \"X\", \" \"],\n",
    "\t           [\"X\",\" \", \" \", \" \", \"X\"] ]\n",
    "\t\t\t\t\n",
    "#VOEG HIER CODE TOE OM Xjes OP COORDINATEN AAN TE PASSEN\n",
    "\n",
    "#plaatje[3][0] = \"X\"\n",
    "\n",
    "#DRUK HET PLAATJE AF\n"
   ]
  },
  {
   "cell_type": "markdown",
   "metadata": {},
   "source": [
    "<p>Bekijk <a href=\"https://course.cs.ru.nl/pythonVO/Teams/IA_uitwerkingen/IA_H12_oplossingen.html#opgave1242\">hier</a> een\n",
    "    voorbeelduitwerking.</p>"
   ]
  }
 ],
 "metadata": {
  "kernelspec": {
   "display_name": "Python 3",
   "language": "python",
   "name": "python3"
  },
  "language_info": {
   "codemirror_mode": {
    "name": "ipython",
    "version": 3
   },
   "file_extension": ".py",
   "mimetype": "text/x-python",
   "name": "python",
   "nbconvert_exporter": "python",
   "pygments_lexer": "ipython3",
   "version": "3.11.8"
  }
 },
 "nbformat": 4,
 "nbformat_minor": 2
}
