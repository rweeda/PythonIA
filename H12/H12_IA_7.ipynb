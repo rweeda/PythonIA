{
 "cells": [
  {
   "cell_type": "markdown",
   "metadata": {},
   "source": [
    "## 7: Een geneste lijst doorlopen met een geneste <code>for</code>-loop"
   ]
  },
  {
   "cell_type": "markdown",
   "metadata": {},
   "source": [
    "[![Watch the video](https://img.youtube.com/vi/eRvfUeEkBuA/hqdefault.jpg)](https://www.youtube.com/embed/eRvfUeEkBuA)"
   ]
  },
  {
   "cell_type": "markdown",
   "metadata": {},
   "source": [
    "\n",
    "\n",
    "<p>Met een <code>for</code>-loop doorloop je een lijst. Met een geneste\n",
    "    <code>for</code>-loop doorloop je een geneste lijst. Als je voor elke kolom\n",
    "    in elke rij wat wilt afdrukken gebruik je een <code>for</code> om elke rij te\n",
    "    doorlopen en daarbinnen een andere <code>for</code> om elke kolom af te\n",
    "    lopen:\n",
    "</p>"
   ]
  },
  {
   "cell_type": "code",
   "execution_count": null,
   "metadata": {},
   "outputs": [],
   "source": [
    "bord = [ [\"X\", \"O\", \"-\"], [\"X\", \"O\", \"O\"], [\"-\", \"X\", \"-\"] ]\n",
    "\n",
    "for rij in range (3):\n",
    "\tfor kolom in range (3):\n",
    "\t\tprint(bord[rij][kolom], end=\"\") #druk zet af, maar zonder naar nieuwe regel door te gaan\n",
    "\tprint() #ga naar volgende regel"
   ]
  },
  {
   "cell_type": "markdown",
   "metadata": {},
   "source": [
    "### Opdracht 11.7 Smiley\n",
    "<p>De bedoeling van de code\n",
    "    hieronder is om een smiley te printen. </p>\n",
    "<ul>\n",
    "    <li><b>Deel A</b>: schrijf code om een plaatje van vijf breed en vijf hoog af te drukken.</li>\n",
    "    <li><b>Deel B</b>: gebruik de indices om het plaatje in een glimlach te veranderen. Kijk op regel 9 voor een tip.</li>\n",
    "</ul>\n",
    "\n"
   ]
  },
  {
   "cell_type": "code",
   "execution_count": null,
   "metadata": {},
   "outputs": [],
   "source": [
    "plaatje = [ [\" \",\"X\", \" \", \"X\", \" \"],\n",
    "\t\t   [\" \",\"X\", \" \", \"X\", \" \"],\n",
    "\t\t   [\" \",\" \", \" \", \" \", \" \"],\n",
    "\t\t   [\" \",\"X\", \"X\", \"X\", \" \"],\n",
    "\t           [\"X\",\" \", \" \", \" \", \"X\"] ]\n",
    "\t\t\t\t\n",
    "#VOEG HIER CODE TOE OM Xjes OP COORDINATEN AAN TE PASSEN\n",
    "\n",
    "#plaatje[3][0] = \"X\"\n",
    "\n",
    "#DRUK HET PLAATJE AF\n"
   ]
  },
  {
   "cell_type": "markdown",
   "metadata": {},
   "source": [
    "<p>Bekijk <a href=\"https://course.cs.ru.nl/pythonVO/Teams/IA_uitwerkingen/IA_H12_oplossingen.html#opgave1242\">hier</a> een\n",
    "    voorbeelduitwerking.</p>"
   ]
  }
 ],
 "metadata": {
  "kernelspec": {
   "display_name": "Python 3",
   "language": "python",
   "name": "python3"
  },
  "language_info": {
   "codemirror_mode": {
    "name": "ipython",
    "version": 3
   },
   "file_extension": ".py",
   "mimetype": "text/x-python",
   "name": "python",
   "nbconvert_exporter": "python",
   "pygments_lexer": "ipython3",
   "version": "3.11.8"
  }
 },
 "nbformat": 4,
 "nbformat_minor": 2
}
