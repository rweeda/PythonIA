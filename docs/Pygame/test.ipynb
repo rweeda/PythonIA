{
 "cells": [
  {
   "cell_type": "markdown",
   "id": "6c5288e3",
   "metadata": {},
   "source": [
    "<!-- Verbeterde versie van H16_IA_9_filteren.md -->\n",
    "\n",
    "## 9: Waarden filteren en in een nieuwe dictionary zetten\n",
    "\n",
    "<p>Soms wil je alleen bepaalde waarden uit een dictionary hebben, bijvoorbeeld alle landen uit Zuid Amerika. Die gewenste waarden sla je in een nieuwe dictionary op. Dat noemen we <i>filteren</i>. Je maakt een nieuwe lege dictionary aan en vul je deze aan met de waarden uit de dictionary die je wilt hebben.</p>\n",
    "\n",
    "<p><img src=\"https://raw.githubusercontent.com/rweeda/PythonIA/main/img/16_filter_dictionary.jpg\" alt=\"Figuur: Stroomdiagram waarden eruit filteren\" width=\"100\"></p>\n",
    "\n",
    "<p>In het voorbeeld hieronder voegen we elk Zuid-Amerikaanse stad toe aan een nieuwe dictionary <code>zuid_amerika_dictionary</code>:</p>"
   ]
  },
  {
   "cell_type": "code",
   "execution_count": null,
   "id": "70a9a024",
   "metadata": {},
   "outputs": [],
   "source": [
    "steden = {\n",
    "    \"Amsterdam\": {\"land\": \"Nederland\", \"inwoners\": 921000, \"werelddeel\": \"Europa\"},\n",
    "    \"Buenos Aires\": {\"land\": \"Argentinië\", \"inwoners\": 2890000, \"werelddeel\": \"Zuid-Amerika\"},\n",
    "    \"Rome\": {\"land\": \"Italië\", \"inwoners\": 2873000, \"werelddeel\": \"Europa\"},\n",
    "    \"São Paulo\": {\"land\": \"Brazilië\", \"inwoners\": 12330000, \"werelddeel\": \"Zuid-Amerika\"},\n",
    "    \"Tokyo\": {\"land\": \"Japan\", \"inwoners\": 13960000, \"werelddeel\": \"Azië\"}\n",
    "}\n",
    "\n",
    "zuid_amerika_dictionary = {}                        # maak een lege dictionary aan voor Zuid-Amerikaanse steden\n",
    "for stad, gegevens in steden.items():               # loop door de steden dictionary en haal de gegevens voor elke stad op\n",
    "\tif gegevens[\"werelddeel\"] == \"Zuid-Amerika\":    # als de werelddeel Zuid-Amerika is\n",
    "\t\tzuid_amerika_dictionary[stad] = gegevens\t#voeg stad toe aan zuid_amerika_dictionary\n",
    "\n",
    "print(\"Lijst met Zuid-Amerikaanse steden:\", zuid_amerika_dictionary)\n",
    "print(steden)"
   ]
  },
  {
   "cell_type": "markdown",
   "id": "63fa8604",
   "metadata": {},
   "source": [
    "### ✅ Klaar? Sla je werk op!\n",
    "\n",
    "1. Klik op **Bestand > Downloaden als > Jupyter Notebook (.ipynb)**.\n",
    "2. Upload dit bestand naar Moodle / lever het in via de opdrachtpagina."
   ]
  },
  {
   "cell_type": "code",
   "execution_count": 3,
   "id": "c3614b5b",
   "metadata": {
    "hide_input": true
   },
   "outputs": [
    {
     "data": {
      "text/html": [
       "\n",
       "    <p><b>Klik hieronder om je werk te downloaden:</b></p>\n",
       "    <button onclick=\"Jupyter.notebook.save_notebook()\">Download notebook</button>\n"
      ],
      "text/plain": [
       "<IPython.core.display.HTML object>"
      ]
     },
     "metadata": {},
     "output_type": "display_data"
    }
   ],
   "source": [
    "from IPython.display import display, HTML\n",
    "\n",
    "display(HTML('''\n",
    "    <p><b>Klik hieronder om je werk te downloaden:</b></p>\n",
    "    <button onclick=\"Jupyter.notebook.save_notebook()\">Download notebook</button>\n",
    "'''))\n"
   ]
  },
  {
   "cell_type": "markdown",
   "id": "e7dae808",
   "metadata": {},
   "source": [
    "### ✅ Volgende stap\n",
    "\n",
    "Upload het gedownloade `.ipynb`-bestand in Moodle als je klaar bent.  "
   ]
  }
 ],
 "metadata": {
  "kernelspec": {
   "display_name": "Python 3",
   "language": "python",
   "name": "python3"
  },
  "language_info": {
   "codemirror_mode": {
    "name": "ipython",
    "version": 3
   },
   "file_extension": ".py",
   "mimetype": "text/x-python",
   "name": "python",
   "nbconvert_exporter": "python",
   "pygments_lexer": "ipython3",
   "version": "3.13.2"
  }
 },
 "nbformat": 4,
 "nbformat_minor": 5
}
