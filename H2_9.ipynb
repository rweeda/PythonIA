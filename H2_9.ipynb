{
 "cells": [
  {
   "cell_type": "markdown",
   "id": "ce8e58a3",
   "metadata": {},
   "source": [
    "## 9: Gebruiker om invoer vragen\n",
    "\n",
    "<p><!--<iframe width=\"640\" height=\"360\" src=\"https://www.youtube.com/embed/cuieyTKAcF8\" title=\"YouTube video player\" frameborder=\"0\" allow=\"accelerometer; autoplay; clipboard-write; encrypted-media; gyroscope; picture-in-picture\" allowfullscreen=\"\" class=\"cursor-hover\" data-dashlane-frameid=\"376\"></iframe>\n",
    "-->\n",
    "\n",
    "[![Watch the video](https://img.youtube.com/vi/cuieyTKAcF8/hqdefault.jpg)](https://www.youtube.com/embed/cuieyTKAcF8)\n",
    "</p>\n",
    "<p>Met <code>input()</code> kun je de gebruiker vragen om wat in te voeren. Het antwoord van de gebruiker sla je op in een <i>variabele</i>. Een variabele kun je gebruiken om dingen te onthouden. In het voorbeeld hieronder wordt het antwoord van de gebruiker opgeslagen in de variabele <code>ingevoerde_tekst</code>.</p>\n"
   ]
  },
  {
   "cell_type": "code",
   "execution_count": null,
   "id": "611d0554",
   "metadata": {},
   "outputs": [],
   "source": [
    "print( \"Typ iets\" )\n",
    "ingevoerde_tekst = input()\t#sla invoer op in variabele 'ingevoerde_tekst'\n",
    "print( \"Je hebt het volgende ingetypt:\", ingevoerde_tekst )"
   ]
  },
  {
   "cell_type": "markdown",
   "id": "11a4eb33",
   "metadata": {},
   "source": [
    "<p class=\"cursor-hover\">Het is een goede gewoonte om even te printen wat is ingevoerd. Zo kun je testen of je programma goed werkt.</p>\n"
   ]
  },
  {
   "cell_type": "markdown",
   "id": "118ad037",
   "metadata": {},
   "source": [
    "### Opdracht 2.8 Gebruiker persoonlijk groeten\n",
    "\n",
    "<p>Geef de gebruiker een persoonlijke groet, zoals:&nbsp;<i>Hallo, Piet</i>. We willen natuurlijk wel zijn echte naam. Vraag de gebruiker hoe die heet. Sla het antwoord op in een variabele <code>naam</code>&nbsp;en groet hem door \"Hallo\" te printen en dan zijn naam.</p>"
   ]
  },
  {
   "cell_type": "code",
   "execution_count": null,
   "id": "f49211a0",
   "metadata": {
    "tags": [
     "Opdracht"
    ]
   },
   "outputs": [],
   "source": []
  },
  {
   "cell_type": "markdown",
   "id": "0b215024",
   "metadata": {},
   "source": [
    "<p>Bekijk <a href=\"https://course.cs.ru.nl/pythonVO/Teams/IA_uitwerkingen/IA_H2_oplossingen.html#opgave231\" target=\"_blank\">hier</a> de voorbeelduitwerking.</p>"
   ]
  }
 ],
 "metadata": {
  "kernelspec": {
   "display_name": "Python 3",
   "language": "python",
   "name": "python3"
  },
  "language_info": {
   "codemirror_mode": {
    "name": "ipython",
    "version": 3
   },
   "file_extension": ".py",
   "mimetype": "text/x-python",
   "name": "python",
   "nbconvert_exporter": "python",
   "pygments_lexer": "ipython3",
   "version": "3.11.8"
  }
 },
 "nbformat": 4,
 "nbformat_minor": 5
}
