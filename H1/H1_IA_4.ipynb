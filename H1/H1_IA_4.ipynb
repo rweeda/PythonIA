{
 "cells": [
  {
   "cell_type": "markdown",
   "metadata": {},
   "source": [
    "## 3: Inspringen heeft een betekenis"
   ]
  },
  {
   "cell_type": "markdown",
   "metadata": {},
   "source": [
    "<p class=\"cursor-hover\">Inspringen (oftewel, de ruimte links van je coderegels)\n",
    "    heeft bij Python een belangrijke betekenis. Code die even ver naar rechts\n",
    "    inspringt, hoort bij elkaar. Waar je dat precies voor moet gebruiken leren we\n",
    "    later. Voor nu is het belangrijk dat je al je code zo ver mogelijk naar links\n",
    "    zet.</p>"
   ]
  },
  {
   "cell_type": "markdown",
   "metadata": {},
   "source": [
    "<p>Goed:</p>"
   ]
  },
  {
   "cell_type": "code",
   "execution_count": null,
   "metadata": {},
   "outputs": [],
   "source": [
    "print(\"Hallo\")\n",
    "print(\"Hoe is het?\")"
   ]
  },
  {
   "cell_type": "markdown",
   "metadata": {},
   "source": [
    "<p>NIET goed:</p>"
   ]
  },
  {
   "cell_type": "code",
   "execution_count": null,
   "metadata": {},
   "outputs": [],
   "source": [
    "    print(\"Hallo\")\n",
    " print(\"Hoe is het?\")"
   ]
  },
  {
   "cell_type": "markdown",
   "metadata": {},
   "source": [
    "### Opdracht 1.2 Inspringen"
   ]
  },
  {
   "cell_type": "markdown",
   "metadata": {},
   "source": [
    "Deze code levert een foutmelding. Run het programma, bekijk de\n",
    "foutmelding en herstel de fout."
   ]
  },
  {
   "cell_type": "code",
   "execution_count": null,
   "metadata": {},
   "outputs": [],
   "source": [
    "print(\"Welkom bij deze Python cursus. De twee belangrijkste regels zijn:\")\n",
    "    print(\"Help elkaar, daar leer je zelf ook veel van.\")\n",
    "    print(\"… geef niet op!\")"
   ]
  }
 ],
 "metadata": {
  "kernelspec": {
   "display_name": "Python 3",
   "language": "python",
   "name": "python3"
  },
  "language_info": {
   "codemirror_mode": {
    "name": "ipython",
    "version": 3
   },
   "file_extension": ".py",
   "mimetype": "text/x-python",
   "name": "python",
   "nbconvert_exporter": "python",
   "pygments_lexer": "ipython3",
   "version": "3.11.8"
  }
 },
 "nbformat": 4,
 "nbformat_minor": 2
}
