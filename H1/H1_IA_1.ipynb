{
 "cells": [
  {
   "cell_type": "markdown",
   "metadata": {},
   "source": [
    "## 1: Jupyter notebooks: het lesmateriaal"
   ]
  },
  {
   "cell_type": "markdown",
   "metadata": {},
   "source": [
    "<!--<h3><span style=\"color:green\">Jouw digitale schrift</span></h3>-->\n",
    "\n",
    "<p>Het bestand waar je nu naar kijkt heet een Jupyter Notebook (met extensie .ipynb). Daar kun je uitleg in lezen, maar ook programmacode in runnen. Het is jouw digitale schrift.</p>\n",
    "\n",
    "<p><img src=\"http://course.cs.ru.nl/pythonVO/Jupyter/img/BBasthon_omgeving.png\" alt=\"lesmateriaal\" width=\"500\"></p>\n"
   ]
  }
 ],
 "metadata": {
  "kernelspec": {
   "display_name": "Python 3",
   "language": "python",
   "name": "python3"
  },
  "language_info": {
   "codemirror_mode": {
    "name": "ipython",
    "version": 3
   },
   "file_extension": ".py",
   "mimetype": "text/x-python",
   "name": "python",
   "nbconvert_exporter": "python",
   "pygments_lexer": "ipython3",
   "version": "3.11.8"
  }
 },
 "nbformat": 4,
 "nbformat_minor": 2
}
