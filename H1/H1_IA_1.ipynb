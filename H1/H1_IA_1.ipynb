{
 "cells": [
  {
   "cell_type": "markdown",
   "metadata": {},
   "source": [
    "## 1: De leeromgeving"
   ]
  },
  {
   "cell_type": "markdown",
   "metadata": {},
   "source": [
    "<!--<h3><span style=\"color:green\">Jouw digitale schrift</span></h3>-->\n",
    "\n",
    "<p>Het bestand waar je nu naar kijkt heet een Jupyter Notebook (met extensie .ipynb). Daar kun je uitleg in lezen, maar ook programmacode in runnen. Het is jouw digitale schrift.</p>\n",
    "\n",
    "<p><img src=\"https://raw.githubusercontent.com/rweeda/PythonIA/main/img/Basthon_omgeving.png\" alt=\"lesmateriaal\" width=\"700\"></p>\n"
   ]
  },
  {
   "cell_type": "markdown",
   "metadata": {},
   "source": [
    "## Je werk opslaan\n",
    "\n",
    "<p>Bovenaan bij 'Bestand' kun je met 'Bewaar notebook als..' je werk opslaan. Met 'Open' kun je een volgende keer het inladen. Dit bestand kun je ook inleveren bij je docent bij 'Opslaan of inleveren'.</p>"
   ]
  }
 ],
 "metadata": {
  "kernelspec": {
   "display_name": "Python 3",
   "language": "python",
   "name": "python3"
  },
  "language_info": {
   "codemirror_mode": {
    "name": "ipython",
    "version": 3
   },
   "file_extension": ".py",
   "mimetype": "text/x-python",
   "name": "python",
   "nbconvert_exporter": "python",
   "pygments_lexer": "ipython3",
   "version": "3.11.8"
  }
 },
 "nbformat": 4,
 "nbformat_minor": 2
}
