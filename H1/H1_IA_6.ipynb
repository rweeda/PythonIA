{
 "cells": [
  {
   "cell_type": "markdown",
   "metadata": {},
   "source": [
    "## 5: Tekenen met turtle"
   ]
  },
  {
   "cell_type": "markdown",
   "metadata": {},
   "source": [
    "\n",
    "<p class=\"cursor-hover\">In deze opdracht gaan we tekenen! Hiervoor gebruiken we de Turtle-module, waarmee je met Python een schildpad kunt 'besturen', die vervolgens lijntjes tekent.</p>\n",
    "<p class=\"cursor-hover\">Je kunt een Turtle commando's laten uitvoeren, zoals <code>turtle.pendown()</code> om de pen neer te zetten, <code class=\"cursor-hover\">turtle.forward()</code> om vooruit te lopen of <code>turtle.right(90)</code> om 90 graden naar rechts te draaien.</p>\n",
    "<p>Code met Turtle begint altijd met <code>import turtle</code>. Om het venster met de tekening open te houden eindigt de code met <code>turtle.done()</code>.</p>\n",
    "\n",
    "<img src=\"https://raw.githubusercontent.com/rweeda/PythonIA/main/img/Python1_WereldTurtle.jpg\" alt=\"Wereld van Turtle\" width=\"500\">\n",
    "<p>Hierboven zie je een plaatje van de wereld waarin Turtle woont. Turtle begint altijd op coördinaat (0,0), kijkend naar rechts.\n",
    "    <!--&‌ouml;-->"
   ]
  },
  {
   "cell_type": "markdown",
   "metadata": {},
   "source": [
    "### Opdracht 1.4 Vierkantje tekenen"
   ]
  },
  {
   "cell_type": "markdown",
   "metadata": {},
   "source": [
    "\n",
    "\n",
    "<p>Het doel van deze opdracht is om een vierkant te tekenen.</p>\n",
    "\n",
    "<p>Bekijk eerst het volgende filmpje waarin deze opdracht uitgelegd wordt:</p>\n"
   ]
  },
  {
   "cell_type": "markdown",
   "metadata": {},
   "source": [
    "[![Watch the video](https://img.youtube.com/vi/_Sfey6gfcFw/hqdefault.jpg)](https://www.youtube.com/embed/_Sfey6gfcFw)\n",
    "\n"
   ]
  },
  {
   "cell_type": "markdown",
   "metadata": {},
   "source": [
    "a. Voer de code hieronder uit door op het run-knop te drukken;\n",
    "\n",
    "b. Maak de regelnummers zichtbaar (tip: <b>SHIFT</b> + <b>L</b>);\n",
    "\n",
    "c. Breid de code uit vanaf regel 7 zodat er een vierkant getekend wordt;\n",
    "\n",
    "d. Pas de code daarna aan zodat een vierkant getekend wordt dat twee keer zo groot is."
   ]
  },
  {
   "cell_type": "code",
   "execution_count": null,
   "metadata": {},
   "outputs": [],
   "source": [
    "import turtle       # gebruik turtle module\n",
    "\n",
    "turtle.pendown()    # zet pen neer\n",
    "turtle.forward(50)  # 50 stappen vooruit\n",
    "turtle.right(90)    # draai 90 graden naar rechts\n",
    "turtle.forward(50)  # 50 stappen vooruit\n",
    "\n",
    "\n",
    "\n",
    "turtle.done()       # klaar met tekenen, maar sluit het tekenvenster niet meteen af"
   ]
  },
  {
   "cell_type": "markdown",
   "metadata": {},
   "source": [
    "<p>Bekijk <a href=\"https://course.cs.ru.nl/pythonVO/Teams/IA_uitwerkingen/IA_H1_oplossingen.html#opgave141\" target=\"_blank\">hier</a> de voorbeelduitwerking.</p>"
   ]
  }
 ],
 "metadata": {
  "kernelspec": {
   "display_name": "Python 3",
   "language": "python",
   "name": "python3"
  },
  "language_info": {
   "codemirror_mode": {
    "name": "ipython",
    "version": 3
   },
   "file_extension": ".py",
   "mimetype": "text/x-python",
   "name": "python",
   "nbconvert_exporter": "python",
   "pygments_lexer": "ipython3",
   "version": "3.11.8"
  }
 },
 "nbformat": 4,
 "nbformat_minor": 2
}
