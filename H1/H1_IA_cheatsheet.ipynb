{
 "cells": [
  {
   "cell_type": "markdown",
   "id": "61552ac1",
   "metadata": {},
   "source": [
    "# Onderwerp 1 - Instructies geven: Samenvatting\n",
    "\n",
    "In dit onderwerp maak je kennis met Python en het geven van instructies aan de computer.\n",
    "\n",
    "## 1.1 t/m 1.4: Code runnen en testen\n",
    "<p><img src=\"https://raw.githubusercontent.com/rweeda/PythonIA/main/img/Basthon_Run_Regelnr.png\" alt=\"Run-knop links van code\" width=\"700\"></p>\n",
    "\n",
    "- Programma runnen: Run-knop of <b>Ctrl</b> + <b>Enter</b>.\n",
    "- Opslaan: Bovenaan bij 'Bestand' kun je met 'Bewaar notebook als..' op slaan\n",
    "- Voorbeelduitwerkingen: Aan het einde van elke onderwerp staat een link naar uitwerkingen.\n",
    "- Regelnummers: <b>Shift</b> + <b>L</b> \n",
    "- Commentaar begint met een hekje (#), gebruik voor meerdere regels <b>CTRL</b> + <b>/</b> \n"
   ]
  },
  {
   "cell_type": "code",
   "execution_count": null,
   "id": "da57c124",
   "metadata": {},
   "outputs": [],
   "source": [
    "# dit is commentaar\n",
    "# Met SHIFT + ENTER kun je code runnnen\n",
    "\n",
    "print(\"Zorg dat de code netjes links begint.\") # inspringen heeft een betekenis\n",
    "\n",
    "# Met CTRL + / kun je regels code snel commentaar maken of verwijderen\n",
    "# Met CRTL + L kun je regelnummering aanzetten"
   ]
  },
  {
   "cell_type": "markdown",
   "id": "9121101d",
   "metadata": {},
   "source": [
    "## 1.5 & 1.6: Tekenen met Turtle"
   ]
  },
  {
   "cell_type": "code",
   "execution_count": null,
   "id": "aa632e43",
   "metadata": {},
   "outputs": [],
   "source": [
    "import turtle  # importeer turtle-module, code altijd hiermee beginnen\n",
    "\n",
    "turtle.pendown()            # Zet pen op papier, bewegingen hierna zijn onzichtbaar\n",
    "turtle.pencolor(\"darkViolet\") # Kleur van de pen. Je kunt ook kiezen uit black, tan, gold, blue, red, ...\n",
    "\n",
    "turtle.fillcolor(\"red\")     # Kleur om figuur mee in te kleuren\n",
    "turtle.begin_fill()         # Dit zet je aan het begin van het figuur dat ingekleurd moet worden.\n",
    "turtle.right(90)            # Draai 90 graden naar rechts\n",
    "turtle.forward(10)          # Loop 10 stappen vooruit\n",
    "turtle.left(45)             # Draai 45 graden naar links\n",
    "turtle.forward(-20)         # Loop 20 stappen terug\n",
    "\n",
    "turtle.end_fill()           # Dit zet je aan het eind van het figuur dat ingekleurd moet worden.\n",
    "\n",
    "turtle.penup()              # Haal pen van papier, bewegingen hierna zijn onzichtbaar\n",
    "turtle.goto(40, 40)         # Zet de schildpad op positie (x,y). (0,0) is het midden van het scherm\n",
    "turtle.setheading(90)       # Kijkrichting. 90 is naar boven, 0 is naar rechts\n",
    "\n",
    "\n",
    "turtle.done()               # Altijd achteraan toevoegen: venster met de tekening open houden"
   ]
  }
 ],
 "metadata": {
  "language_info": {
   "name": "python"
  }
 },
 "nbformat": 4,
 "nbformat_minor": 5
}
