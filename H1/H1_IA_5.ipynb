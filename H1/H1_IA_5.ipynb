{
 "cells": [
  {
   "cell_type": "markdown",
   "metadata": {},
   "source": [
    "## 4: Regelnummers zichtbaar maken en commentaar toevoegen aan je code"
   ]
  },
  {
   "cell_type": "markdown",
   "metadata": {},
   "source": [
    "Soms is het handig om regelnummers te zien. In Jupyter notebooks kun je <b>regelnummering</b> aanzetten door ergens in de tekst te staan en dan <b>Shift</b> en <b>L</b> in te drukken. Links van elke coderegel staat dan de regelnummer."
   ]
  },
  {
   "cell_type": "markdown",
   "metadata": {},
   "source": [
    "<p>Met <b>commentaar</b> maak je aantekeningen\n",
    "        in code. Zo kun je toelichten wat het doel van een blok code is. De computer\n",
    "        negeert code die in commentaar staat. Je kunt het dus ook handig gebruiken om\n",
    "        delen van je code te testen.</p>\n",
    "\n",
    "- Commentaar begint in Python met een hekje (<code>#</code>);\n",
    "\n",
    "- Je kunt <b>Ctrl</b> en <b>/</b> gebruiken om een regel in commentaar te zetten (of er juist uit te halen)."
   ]
  },
  {
   "cell_type": "markdown",
   "metadata": {},
   "source": [
    "### Opdracht 1.3 Regelnummers aanzetten en commentaar toevoegen\n",
    "a. Zet eerst de regelnummering aan (<b>Shift</b> en <b>L</b>);\n",
    "\n",
    "b. Voeg achter elk regel commentaar toe (met <code>#</code>) dat toelicht wat de regel code doet."
   ]
  },
  {
   "cell_type": "code",
   "execution_count": null,
   "metadata": {},
   "outputs": [],
   "source": [
    "print(\"Hoi! Jij zit vast in klas\")      \n",
    "print(4)"
   ]
  },
  {
   "cell_type": "markdown",
   "metadata": {},
   "source": [
    "<p>Bekijk <a href=\"https://course.cs.ru.nl/pythonVO/Teams/IA_uitwerkingen/IA_H1_oplossingen.html#opgave132\" target=\"_blank\">hier</a> de\n",
    "    voorbeelduitwerking.</p>"
   ]
  }
 ],
 "metadata": {
  "kernelspec": {
   "display_name": "Python 3",
   "language": "python",
   "name": "python3"
  },
  "language_info": {
   "codemirror_mode": {
    "name": "ipython",
    "version": 3
   },
   "file_extension": ".py",
   "mimetype": "text/x-python",
   "name": "python",
   "nbconvert_exporter": "python",
   "pygments_lexer": "ipython3",
   "version": "3.11.8"
  }
 },
 "nbformat": 4,
 "nbformat_minor": 2
}
