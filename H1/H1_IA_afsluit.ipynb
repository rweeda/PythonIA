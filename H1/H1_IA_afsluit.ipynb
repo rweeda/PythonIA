{
 "cells": [
  {
   "cell_type": "markdown",
   "metadata": {},
   "source": [
    "## Onderwerp 1: Afsluitende opdrachten"
   ]
  },
  {
   "cell_type": "markdown",
   "metadata": {},
   "source": [
    "<p>Tip: Turtle-functies vind je bij paragraaf '7: Handige Turtle-functies'.</p>"
   ]
  },
  {
   "cell_type": "markdown",
   "metadata": {},
   "source": [
    "### Afsluitende opdracht 1.1 Huisje tekenen"
   ]
  },
  {
   "cell_type": "markdown",
   "metadata": {},
   "source": [
    "a. Teken een dak op je vierkant om zo een huisje te maken. Tip: teken eerst je huisje op papier, schrijf de lengtes en de hoeken erbij.\n",
    "\n",
    "b. Gebruik commentaar in je code om aan te geven wat een reeks code doet. Bijvoorbeeld, geef aan welke regels het dak tekenen.\n",
    "\n",
    "c. Maak het dak rood."
   ]
  },
  {
   "cell_type": "code",
   "execution_count": null,
   "metadata": {},
   "outputs": [],
   "source": [
    "import turtle"
   ]
  },
  {
   "cell_type": "markdown",
   "metadata": {},
   "source": [
    "<p>Bekijk <a href=\"https://rweeda.github.io/PythonIA/docs/IA_H1_oplossingen.html#AfOpgave11\" target=\"_blank\">hier</a> de voorbeelduitwerking.</p>"
   ]
  },
  {
   "cell_type": "markdown",
   "metadata": {},
   "source": [
    "### Afsluitende opdracht 1.2 Nederlandse vlag"
   ]
  },
  {
   "cell_type": "markdown",
   "metadata": {},
   "source": [
    "<p>Teken de Nederlandse vlag tekenen zoals hier is afgebeeld. Gebruik commentaar in je code om overzichtelijk te houden wat bij welk deel van de vlag hoort. <br> Tip: het is handig om de klus op te delen in taken: teken eerst een rechthoek\n",
    "    voor rood. Gebruik deze zelfde code voor wit en blauw. Als laatste teken je de mast.\n",
    "</p> <img src=\"https://raw.githubusercontent.com/rweeda/PythonIA/main/img/NL_flag_klein.png\" alt=\"Nederlandse vlag\" width=\"303\" height=\"246\">"
   ]
  },
  {
   "cell_type": "code",
   "execution_count": null,
   "metadata": {},
   "outputs": [],
   "source": [
    "import turtle "
   ]
  },
  {
   "cell_type": "markdown",
   "metadata": {},
   "source": [
    "<p>Bekijk <a href=\"https://rweeda.github.io/PythonIA/docs/IA_H1_oplossingen.html#AfOpgave12\" target=\"_blank\">hier</a> de voorbeelduitwerking.</p>"
   ]
  },
  {
   "cell_type": "markdown",
   "metadata": {},
   "source": [
    "### Afsluitende opdracht 1.3 Eigen creatie"
   ]
  },
  {
   "cell_type": "markdown",
   "metadata": {},
   "source": [
    "<p>Je mag nu zelf iets door Turtle laten tekenen.</p>\n",
    "\n",
    "a. Maak eerst een ontwerp/tekening op papier;\n",
    "\n",
    "b. Geef Turtle de juiste instructies om deze te tekenen. Test steeds tussendoor;\n",
    "\n",
    "c. Voeg commentaar toe aan je code.\n",
    "\n",
    "<p>Ik ben benieuwd naar het resultaat!</p>"
   ]
  },
  {
   "cell_type": "code",
   "execution_count": null,
   "metadata": {},
   "outputs": [],
   "source": [
    "import turtle"
   ]
  }
 ],
 "metadata": {
  "kernelspec": {
   "display_name": "Python 3",
   "language": "python",
   "name": "python3"
  },
  "language_info": {
   "codemirror_mode": {
    "name": "ipython",
    "version": 3
   },
   "file_extension": ".py",
   "mimetype": "text/x-python",
   "name": "python",
   "nbconvert_exporter": "python",
   "pygments_lexer": "ipython3",
   "version": "3.11.8"
  }
 },
 "nbformat": 4,
 "nbformat_minor": 2
}
