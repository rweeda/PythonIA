{
 "cells": [
  {
   "cell_type": "markdown",
   "metadata": {},
   "source": [
    "## 7: Handige Turtle functies"
   ]
  },
  {
   "cell_type": "markdown",
   "metadata": {},
   "source": [
    "<p class=\"cursor-hover\">Een paar handige <code>Turtle</code>-functies zijn:</p>"
   ]
  },
  {
   "cell_type": "code",
   "execution_count": null,
   "metadata": {},
   "outputs": [],
   "source": [
    "import turtle  # importeer Turtle-module, code altijd hiermee beginnen\n",
    "\n",
    "turtle.pendown()  \t\t\t# Zet pen op papier, bewegingen hierna zijn onzichtbaar\n",
    "turtle.penup()   \t\t\t# Haal pen van papier, bewegingen hierna zijn onzichtbaar\n",
    "turtle.pencolor(\"darkViolet\") # Kleur van de pen. Je kunt ook kiezen uit black, tan, gold, blue, red, ...\n",
    "\n",
    "turtle.shape(\"turtle\")      # Maakt een schildpadje van de cursor in plaats van een pijltje\n",
    "\n",
    "turtle.right(90)            # Draai 90 graden naar rechts\n",
    "turtle.left(45)             # Draai 45 graden naar links\n",
    "turtle.forward(10)          # Loop 10 stappen vooruit\n",
    "\n",
    "turtle.goto(40, 40)         # Zet de schildpad op positie (x,y). (0,0) is het midden van het scherm\n",
    "turtle.setheading(90)       # Kijkrichting. 90 is naar boven, 0 is naar rechts\n",
    "\n",
    "turtle.fillcolor(\"red\")     # Kleur om figuur mee in te kleuren\n",
    "turtle.begin_fill()         # Dit zet je aan het begin van het figuur dat ingekleurd moet worden.\n",
    "turtle.end_fill()           # Dit zet je aan het eind van het figuur dat ingekleurd moet worden. </pre>"
   ]
  },
  {
   "cell_type": "markdown",
   "metadata": {},
   "source": [
    "<p>Als je begint, staat Turtle altijd op (0,0), kijkend naar rechts.</p>\n",
    "\n",
    "<p><a href=\"https://docs.python.org/3/library/turtle.html#special-turtle-methods\" target=\"_blank\">Hier</a> vind je nog veel meer Turtle-functies.\n",
    "</p>"
   ]
  },
  {
   "cell_type": "markdown",
   "metadata": {},
   "source": [
    "### Opdracht 1.6 Een zeshoek tekenen"
   ]
  },
  {
   "cell_type": "markdown",
   "metadata": {},
   "source": [
    "<p>Het doel van deze opdracht is om een blauwe zeshoek te tekenen.</p>\n",
    "<img src=\"http://course.cs.ru.nl/pythonVO/Jupyter/img/Python1_Blauwe6hoek.png\" alt=\"Blauwe zeshoek\" width=\"200\">\n",
    "\n",
    "<p>Bekijk eerst het volgende filmpje waarin deze opdracht uitgelegd wordt:</p>"
   ]
  },
  {
   "cell_type": "markdown",
   "metadata": {},
   "source": [
    "[![Watch the video](https://img.youtube.com/vi/qns1ZKaXY44/hqdefault.jpg)](https://www.youtube.com/embed/qns1ZKaXY44)"
   ]
  },
  {
   "cell_type": "markdown",
   "metadata": {},
   "source": [
    "a. Teken eerst een zeshoek op papier, schrijf de lengtes en de hoeken erbij.\n",
    " \n",
    " <img src=\"http://course.cs.ru.nl/pythonVO/Jupyter/img/Python1_Schets6hoek.jpg\" alt=\"zeshoek\" class=\"pointer-hover\" width=\"200\">\n",
    "\n",
    "b. Bedenk een strategie:\n",
    "\n",
    "    1. Gebruik een Turtle\n",
    "    2. Zet pen op papier\n",
    "    3. Kies vulkleur blauw\n",
    "\n",
    "    4. Begin met tekenen van de zeshoek. Herhaal 6 keer:\n",
    "        - Vooruit 100\n",
    "        - Draai 60 graden\n",
    "\n",
    "\n",
    "c. Schrijf code en test;\n",
    "\n",
    "d. Gebruik commentaar in je code om aan te geven wat een reeks code doet. Bijvoorbeeld, geef aan met welke regels echt de zeshoek tekenen;\n",
    "\n",
    "e. Maak de zeshoek blauw. Tips: Geef kleur aan met <code>turtle.fillcolor(\"blue\")</code>. Geef aan waar je figuur begint <code>turtle.begin_fill()</code> en eindigt <code>turtle.end_fill()</code>;\n",
    "\n",
    "f. Test je code opnieuw (altijd na elke wijziging).\n",
    "\n"
   ]
  },
  {
   "cell_type": "code",
   "execution_count": null,
   "metadata": {},
   "outputs": [],
   "source": [
    "import turtle"
   ]
  },
  {
   "cell_type": "markdown",
   "metadata": {},
   "source": [
    "<p>Bekijk <a href=\"https://course.cs.ru.nl/pythonVO/Teams/IA_uitwerkingen/IA_H1_oplossingen.html#opgave142\" target=\"_blank\">hier</a> de voorbeelduitwerking.</p>"
   ]
  }
 ],
 "metadata": {
  "kernelspec": {
   "display_name": "Python 3",
   "language": "python",
   "name": "python3"
  },
  "language_info": {
   "codemirror_mode": {
    "name": "ipython",
    "version": 3
   },
   "file_extension": ".py",
   "mimetype": "text/x-python",
   "name": "python",
   "nbconvert_exporter": "python",
   "pygments_lexer": "ipython3",
   "version": "3.11.8"
  }
 },
 "nbformat": 4,
 "nbformat_minor": 2
}
