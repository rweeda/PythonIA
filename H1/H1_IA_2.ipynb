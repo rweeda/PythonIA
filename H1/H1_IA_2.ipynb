{
 "cells": [
  {
   "cell_type": "markdown",
   "metadata": {},
   "source": [
    "## 2: Je eerste programma"
   ]
  },
  {
   "cell_type": "markdown",
   "metadata": {},
   "source": [
    "<p><img src=\"http://course.cs.ru.nl/pythonVO/Jupyter/img/Basthon_Run_Regelnr.png\" alt=\"Run-knop links van code\" width=\"700\"></p>\n",
    "<p>Om je programma te runnen, druk je op het Run-knop <img src=\"http://course.cs.ru.nl/pythonVO/Jupyter/img/Basthon_Run.png\" alt=\"Run-knop\"> of gebruik <b>Ctrl</b> en <b>Enter</b>. Het Run-knop vind je in het balk bovenaan je scherm. Direct onder de programmacode verschijnt het resultaat. Het kan zijn dat er\n",
    "    een foutmelding staat. Pas dan je code aan en run het opnieuw.</p>\n",
    "\n",
    "<p>Controleer altijd je eigen oplossing. Onder elke opgave staat een link naar een voorbeeldoplossing: <i>Bekijk hier de voorbeelduitwerking.</i> </p>"
   ]
  },
  {
   "cell_type": "markdown",
   "metadata": {},
   "source": [
    "### Opdracht 1.1 Je eerste programma\n",
    "Je gaat nu je eerste programma schrijven. Het programma print de tekst ''Hello, world!''. De code die je hiervoor nodig hebt is:<br>\n",
    "<code>print( \"Hello, world!\" )</code>\n",
    "\n",
    "a. Typ het bovenstaande code over in de lege cel hieronder.\n",
    "\n",
    "b. Run de code hieronder door op het Run-knop te klikken of gebruik <b>Ctrl</b> en <b>Enter</b>. Het Run-knop kun je in het balk bovenaan je scherm vinden: \n",
    "<img src=\"http://course.cs.ru.nl/pythonVO/Jupyter/img/Basthon_Run.png\" alt=\"Run-knop\">\n",
    "<p>Als je een foutmelding krijgt, herstel deze.</p>\n",
    "\n",
    "c. Bekijk het resultaat: Zie je dat de tekst ''Hello, world!'' eronder getoond is?\n",
    "\n",
    "d. Pas de tekst tussen aanhalingstekens aan zodat het een persoonlijke groet geeft. Run opnieuw. Wat gebeurt er?\n",
    "\n",
    "e. Haal de aanhanlingstekens weg. Wat gebeurt er?"
   ]
  },
  {
   "cell_type": "code",
   "execution_count": null,
   "metadata": {},
   "outputs": [],
   "source": []
  },
  {
   "cell_type": "markdown",
   "metadata": {},
   "source": [
    "<p>Bekijk <a href=\"https://course.cs.ru.nl/pythonVO/Teams/IA_uitwerkingen/IA_H1_oplossingen.html#opgave113\" target=\"_blank\">hier</a> de voorbeelduitwerking.</p>"
   ]
  }
 ],
 "metadata": {
  "kernelspec": {
   "display_name": "Python 3",
   "language": "python",
   "name": "python3"
  },
  "language_info": {
   "codemirror_mode": {
    "name": "ipython",
    "version": 3
   },
   "file_extension": ".py",
   "mimetype": "text/x-python",
   "name": "python",
   "nbconvert_exporter": "python",
   "pygments_lexer": "ipython3",
   "version": "3.11.8"
  }
 },
 "nbformat": 4,
 "nbformat_minor": 2
}
