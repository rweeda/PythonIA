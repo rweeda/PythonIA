{
 "cells": [
  {
   "cell_type": "markdown",
   "metadata": {},
   "source": [
    "# Onderwerp 1 - Instructies geven\n",
    "\n",
    "<p>Programmeren leer je door te doen! We gaan dus steeds kleine stukjes uitleg geven en je tussendoor laten oefenen met het lezen, aanpassen en schrijven van code. We gaan aan de slag met Python, een wereldwijd veelgebruikte programmeertaal.</p>\n",
    "<p>Alle lesmateriaal vind je hier terug, in Juypter notebooks. De opdrachten kan je in de browser maken en uitvoeren. In onderwerp '1: De leeromgeving' leer je hoe de leeromgeving werkt.</p>\n",
    "<p>Daarna ga je in '2: Pythoncode runnen en testen'\n",
    "    al meteen aan de slag met het schrijven van je eerste programma.</p>\n",
    "\n",
    "<p>In dit onderwerp:</p>\n",
    "<ul>\n",
    "    <li>leer je hoe je de leeromgeving gebruikt;</li>\n",
    "    <li>leer je een computerprogramma schrijven in de taal Python;</li>\n",
    "    <li>leer je hoe je code kan schrijven en runnen;</li>\n",
    "    <li>leer je met <code>Turtle</code> een figuur te tekenen;</li>\n",
    "    <li>leer je met commentaar aan te geven wat het doel van een blokje code is;</li>\n",
    "    <li>leer je dat het belangrijk is dat de code netjes onder elkaar staat.\n",
    "    </li>\n",
    "</ul>\n",
    "\n",
    "<div class=\"fa fa-clock-o fa-3x\"></div><br> <b>1 uur</b>"
   ]
  }
 ],
 "metadata": {
  "kernelspec": {
   "display_name": "Python 3",
   "language": "python",
   "name": "python3"
  },
  "language_info": {
   "codemirror_mode": {
    "name": "ipython",
    "version": 3
   },
   "file_extension": ".py",
   "mimetype": "text/x-python",
   "name": "python",
   "nbconvert_exporter": "python",
   "pygments_lexer": "ipython3",
   "version": "3.11.8"
  }
 },
 "nbformat": 4,
 "nbformat_minor": 2
}
