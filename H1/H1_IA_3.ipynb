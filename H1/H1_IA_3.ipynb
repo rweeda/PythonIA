{
 "cells": [
  {
   "cell_type": "markdown",
   "metadata": {},
   "source": [
    "## 3: Je eerste programma"
   ]
  },
  {
   "cell_type": "markdown",
   "metadata": {},
   "source": [
    "<p class=\"cursor-hover\">Als je een nieuwe programmeeromgeving test begin je altijd eerst met een\n",
    "    programma te schrijven dat ''Hello, world!'' afdrukt. Dit om te controleren dat alles juist ingesteld is en werkt. Dat programma schrijf je met de\n",
    "    volgende code: <code>print( \"Hello, world!\" )</code></p>\n"
   ]
  },
  {
   "cell_type": "markdown",
   "metadata": {},
   "source": [
    "### Opdracht 1.2 Hello world!"
   ]
  },
  {
   "cell_type": "markdown",
   "metadata": {},
   "source": [
    "Je gaat nu je eerste programma runnen. Het programma print de tekst ''Hello, world!''. De code die je hiervoor nodig hebt is:\n",
    "<code>print( \"Hello, world!\" )</code>\n"
   ]
  },
  {
   "cell_type": "markdown",
   "metadata": {},
   "source": [
    "a. Typ het bovenstaande code over in de lege cel hieronder.\n",
    "\n",
    "b. Voer het programma uit: druk op het run-knop. Als je een foutmelding krijgt, herstel deze.\n",
    "\n",
    "c. Controleer de uitvoer: Zie je dat de tekst ''Hello, world!'' eronder getoond is?\n",
    "\n",
    "d. Controleer je eigen oplossing met de uitwerking: Open de voorbeeld oplossing en vergelijk deze met jouw oplossing.\n",
    "\n",
    "e. Sla je werk op met <b>Ctrl + S</b>"
   ]
  },
  {
   "cell_type": "code",
   "execution_count": null,
   "metadata": {},
   "outputs": [],
   "source": []
  },
  {
   "cell_type": "markdown",
   "metadata": {},
   "source": [
    "<p>Bekijk <a href=\"https://course.cs.ru.nl/pythonVO/Teams/IA_uitwerkingen/IA_H1_oplossingen.html#opgave121\" target=\"_blank\">hier</a> de voorbeelduitwerking.</p>"
   ]
  }
 ],
 "metadata": {
  "kernelspec": {
   "display_name": "Python 3",
   "language": "python",
   "name": "python3"
  },
  "language_info": {
   "codemirror_mode": {
    "name": "ipython",
    "version": 3
   },
   "file_extension": ".py",
   "mimetype": "text/x-python",
   "name": "python",
   "nbconvert_exporter": "python",
   "pygments_lexer": "ipython3",
   "version": "3.11.8"
  }
 },
 "nbformat": 4,
 "nbformat_minor": 2
}
