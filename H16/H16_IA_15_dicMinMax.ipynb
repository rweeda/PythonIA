{
 "cells": [
  {
   "cell_type": "markdown",
   "id": "dec9aa5a",
   "metadata": {},
   "source": [
    "<!-- Verbeterde versie van H16_IA_13_dicMinMax.md -->\n",
    "\n",
    "## 14: Kleinste en grootste waarde uit een dictionary bepalen\n",
    "\n",
    "<p>Om te bepalen wat de kleinste of grootste waarde in een dictionary is gebruik je het <i>minimumplan</i> (deze is behandeld in <a href=\"https://moodle.informatica-actief.nl/mod/url/view.php?id=82097\">Onderwerp 10.5</a>).\n",
    "\n",
    "\n",
    "<p>Met een <code>for</code>-loop kun je ook bepalen wat het kleinste (of grootste) getal is dat in een dictionary voorkomt. Je gebruikt hiervoor een variabele om bij te houden wat de kleinste waarde is die je tot dan toe gezien hebt. Kom je nog een kleinere waarde tegen, dan sla je die kleinere waarde op in je variabele. Om te beginnen is de eerste waarde gelijk aan oneindig: <code>float(inf)</code>.</p>\n",
    "\n",
    "\n",
    "TODO NEW AFBEELDING\n",
    "<p><img src=\"https://course.cs.ru.nl/pythonVO/img/10.5Kleinste_Stroomdiagram.jpg\" alt=\"Figuur: Stroomdiagram kleinste\" width=\"400\"></p>"
   ]
  },
  {
   "cell_type": "code",
   "execution_count": null,
   "id": "f6559878",
   "metadata": {},
   "outputs": [],
   "source": [
    "steden = {\n",
    "    \"Amsterdam\": {\"land\": \"Nederland\", \"inwoners\": 921000, \"werelddeel\": \"Europa\"},\n",
    "    \"Buenos Aires\": {\"land\": \"Argentinië\", \"inwoners\": 2890000, \"werelddeel\": \"Zuid-Amerika\"},\n",
    "    \"Rome\": {\"land\": \"Italië\", \"inwoners\": 2873000, \"werelddeel\": \"Europa\"},\n",
    "    \"São Paulo\": {\"land\": \"Brazilië\", \"inwoners\": 12330000, \"werelddeel\": \"Zuid-Amerika\"},\n",
    "    \"Tokyo\": {\"land\": \"Japan\", \"inwoners\": 13960000, \"werelddeel\": \"Azië\"},\n",
    "}\n",
    "\n",
    "# Initialiseer het huidige minimum\n",
    "min_inwoners = float(inf) # begin met oneindig groot\n",
    "kleinste_stad =  \"\"       # er is geen stad\n",
    "\n",
    "# Doorloop alle steden in de dictionary\n",
    "for stad in stad_namen:\n",
    "    # Vergelijk het aantal inwoners met het huidige minimum\n",
    "    if steden[stad][\"inwoners\"] < min_inwoners:\n",
    "        min_inwoners = steden[stad][\"inwoners\"] \t \t\n",
    "        kleinste_stad = stad\n",
    "\n",
    "print(\"De stad met de minste inwoners is\", kleinste_stad, \"met\", min_inwoners, \"inwoners.\")"
   ]
  },
  {
   "cell_type": "markdown",
   "id": "ee19366a",
   "metadata": {},
   "source": [
    "### 16.14.1 Kleinst aantal exemplaren\n",
    "\n",
    "Schrijf een programma dat de dierentuin dictionary doorloopt en print van welk dier het minst voorkomen, en welk dier dat is.\n",
    "\n",
    "<p>De verwachte uitvoer is:<br>\n",
    "<i></i></p>"
   ]
  },
  {
   "cell_type": "code",
   "execution_count": null,
   "id": "76f10693",
   "metadata": {},
   "outputs": [],
   "source": [
    "dierentuin = {\n",
    "    \"Leeuw\": {\"soort\": \"Zoogdier\", \"verblijf\": \"Savanne\", \"dieet\": [\"vlees\"], \"aantal\": 2},\n",
    "    \"Pinguïn\": {\"soort\": \"Vogel\", \"verblijf\": \"Poolgebied\", \"dieet\": [\"vis\", \"kril\"], \"aantal\": 15},\n",
    "    \"Python\": {\"soort\": \"Reptiel\", \"verblijf\": \"Terrarium\", \"dieet\": [\"muizen\", \"ratten\"], \"aantal\": 3},\n",
    "    \"Olifant\": {\"soort\": \"Zoogdier\", \"verblijf\": \"Savanne\", \"dieet\": [\"planten\", \"fruit\", \"bladeren\"], \"aantal\": 1},\n",
    "    \"IJsbeer\": {\"soort\": \"Zoogdier\", \"verblijf\": \"Poolgebied\", \"dieet\": [\"vlees\"], \"aantal\": 2}\n",
    "}"
   ]
  },
  {
   "cell_type": "markdown",
   "id": "edf68f57",
   "metadata": {},
   "source": [
    "<p>Bekijk <a href=\"https://rweeda.github.io/PythonIA/docs/IA_H10_oplossingen.html#opgave16141\" target=\"_blank\">hier</a> de voorbeelduitwerking.</p>\n",
    "\n",
    "<!--\n",
    "ANTWOORD\n",
    "\n",
    "\n",
    "\n",
    "dierentuin = {\n",
    "    \"Leeuw\": {\"soort\": \"Zoogdier\", \"verblijf\": \"Savanne\", \"dieet\": [\"vlees\"], \"aantal\": 2},\n",
    "    \"Pinguïn\": {\"soort\": \"Vogel\", \"verblijf\": \"Poolgebied\", \"dieet\": [\"vis\", \"kril\"], \"aantal\": 15},\n",
    "    \"Python\": {\"soort\": \"Reptiel\", \"verblijf\": \"Terrarium\", \"dieet\": [\"muizen\", \"ratten\"], \"aantal\": 3},\n",
    "    \"Olifant\": {\"soort\": \"Zoogdier\", \"verblijf\": \"Savanne\", \"dieet\": [\"planten\", \"fruit\", \"bladeren\"], \"aantal\": 1},\n",
    "    \"IJsbeer\": {\"soort\": \"Zoogdier\", \"verblijf\": \"Poolgebied\", \"dieet\": [\"vlees\"], \"aantal\": 2}\n",
    "}\n",
    "\n",
    "# Startwaarden instellen:\n",
    "# - min_aantal wordt op een heel hoog getal gezet, zodat elke echte waarde kleiner zal zijn\n",
    "# - dier_met_minste houdt bij van welk dier dit is\n",
    "min_aantal = float(\"inf\")\n",
    "dier_met_minste = \"\"\n",
    "\n",
    "# Loop door elk dier en bijbehorende informatie in de dictionary\n",
    "for dier, info in dierentuin.items():\n",
    "    # Vergelijk het aantal met het huidige minimum\n",
    "    if info[\"aantal\"] < min_aantal:\n",
    "        # Als dit dier minder exemplaren heeft, sla dat dan op\n",
    "        min_aantal = info[\"aantal\"]\n",
    "        dier_met_minste = dier\n",
    "\n",
    "# Toon het resultaat netjes in een zin\n",
    "print(\"Het dier met het minste aantal is de\", dier_met_minste, \"met\", min_aantal, \"exemplaren.\")\n",
    "\n",
    "-->\n",
    "\n",
    "### 16.14.2 Meeste exemplaren\n",
    "<p>Schrijf een programma dat de dierentuin dictionary doorloopt en print van welk dier er het meest zijn, en welk dier dat is.</p>\n",
    "\n",
    "<p>Tip: gebruik <code>float(-inf)</code> om het maximum op -oneindig te initialiseren.</p>\n",
    "\n",
    "<p>De verwachte uitvoer is:<br>\n",
    "<i></i></p>"
   ]
  },
  {
   "cell_type": "code",
   "execution_count": null,
   "id": "94ddb3dd",
   "metadata": {},
   "outputs": [],
   "source": [
    "dierentuin = {\n",
    "    \"Leeuw\": {\"soort\": \"Zoogdier\", \"verblijf\": \"Savanne\", \"dieet\": [\"vlees\"], \"aantal\": 2},\n",
    "    \"Pinguïn\": {\"soort\": \"Vogel\", \"verblijf\": \"Poolgebied\", \"dieet\": [\"vis\", \"kril\"], \"aantal\": 15},\n",
    "    \"Python\": {\"soort\": \"Reptiel\", \"verblijf\": \"Terrarium\", \"dieet\": [\"muizen\", \"ratten\"], \"aantal\": 3},\n",
    "    \"Olifant\": {\"soort\": \"Zoogdier\", \"verblijf\": \"Savanne\", \"dieet\": [\"planten\", \"fruit\", \"bladeren\"], \"aantal\": 1},\n",
    "    \"IJsbeer\": {\"soort\": \"Zoogdier\", \"verblijf\": \"Poolgebied\", \"dieet\": [\"vlees\"], \"aantal\": 2}\n",
    "}"
   ]
  },
  {
   "cell_type": "markdown",
   "id": "d5c098b7",
   "metadata": {},
   "source": [
    "<p>Bekijk <a href=\"https://rweeda.github.io/PythonIA/docs/IA_H10_oplossingen.html#opgave16142\" target=\"_blank\">hier</a> de voorbeelduitwerking.</p>\n",
    "\n",
    "<!--\n",
    "ANTWOORD\n",
    "# Startwaarden instellen:\n",
    "# - max_aantal wordt op 0 gezet, omdat elk dier minstens 1 exemplaar heeft\n",
    "# - dier_met_meeste houdt bij van welk dier dit is\n",
    "max_aantal = 0\n",
    "dier_met_meeste = \"\"\n",
    "\n",
    "# Loop door elk dier en bijbehorende informatie in de dictionary\n",
    "for dier, info in dierentuin.items():\n",
    "    # Vergelijk het aantal met het huidige maximum\n",
    "    if info[\"aantal\"] > max_aantal:\n",
    "        # Als dit dier meer exemplaren heeft, sla dat dan op\n",
    "        max_aantal = info[\"aantal\"]\n",
    "        dier_met_meeste = dier\n",
    "\n",
    "# Toon het resultaat netjes in een zin\n",
    "print(\"Het dier met het meeste aantal is de\", dier_met_meeste, \"met\", max_aantal, \"exemplaren.\")\n",
    "\n",
    "\n",
    "-->"
   ]
  }
 ],
 "metadata": {
  "language_info": {
   "name": "python"
  }
 },
 "nbformat": 4,
 "nbformat_minor": 5
}
