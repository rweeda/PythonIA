{
 "cells": [
  {
   "cell_type": "markdown",
   "id": "6c5288e3",
   "metadata": {},
   "source": [
    "<!-- Verbeterde versie van H16_IA_9_filteren.md -->\n",
    "\n",
    "## 9: Waarden uit een dictionary filteren en in een lijst zetten\n",
    "\n",
    "<p>Soms wil je alleen bepaalde waarden uit een dictionary hebben, bijvoorbeeld alle dagen van de week, behalve de weekenden. Die gewenste waarden sla je in een lijst op. Dat noemen we <i>filteren</i>. Je maakt een nieuwe lege lijst aan en vul je deze aan met de waarden uit de dictionary die je wilt hebben.</p>\n",
    "\n",
    "<p><img src=\"https://course.cs.ru.nl/pythonVO/img/10.2FilterWeekendenEruit_Stroomdiagram.png\" alt=\"Figuur: Stroomdiagram waarden eruit filteren\" width=\"400\"></p>\n",
    "\n",
    "\n",
    "<p>In het voorbeeld hieronder voegen we elk Zuid-Amerikaanse stad toe aan een nieuwe lijst <code>zuidAmerikaLijst</code>:</p>"
   ]
  },
  {
   "cell_type": "code",
   "execution_count": null,
   "id": "70a9a024",
   "metadata": {},
   "outputs": [],
   "source": [
    "steden = {\n",
    "    \"Amsterdam\": {\"land\": \"Nederland\", \"inwoners\": 921000, \"werelddeel\": \"Europa\"},\n",
    "    \"Buenos Aires\": {\"land\": \"Argentinië\", \"inwoners\": 2890000, \"werelddeel\": \"Zuid-Amerika\"},\n",
    "    \"Rome\": {\"land\": \"Italië\", \"inwoners\": 2873000, \"werelddeel\": \"Europa\"},\n",
    "    \"São Paulo\": {\"land\": \"Brazilië\", \"inwoners\": 12330000, \"werelddeel\": \"Zuid-Amerika\"},\n",
    "    \"Tokyo\": {\"land\": \"Japan\", \"inwoners\": 13960000, \"werelddeel\": \"Azië\"}\n",
    "}\n",
    "\n",
    "zuidAmerikaLijst =[]                                # maak een lege lijst\n",
    "for stad, gegevens in steden.items():               # loop door de dictionary en haal de gegevens voor elke stad op\n",
    "\tif gegevens[\"werelddeel\"] == \"Zuid-Amerika\":    # als de werelddeel Zuid-Amerika is\n",
    "\t\tzuidAmerikaLijst.append( stad )\t            #voeg stad toe aan zuidAmerikaLijst\n",
    "\n",
    "print(\"Lijst met Zuid-Amerikaanse steden:\", zuidAmerikaLijst)"
   ]
  },
  {
   "cell_type": "markdown",
   "id": "86872504",
   "metadata": {},
   "source": [
    "<p>Toelichting:</p>\n",
    "<ul>\n",
    "    <li>We maken een nieuwe lijst aan: <code>zuidAmerikaLijst</code>.</li>\n",
    "    <li>Met een <code>for</code>-loop doorlopen we ieder stad in de dictionary</li>\n",
    "    <li>Als we een stad tegenkomen die in Zuid-Amerika ligt, dan voegen we die aan <code>zuidAmerikaLijst</code> toe.</li>\n",
    "</ul>\n",
    "Na afloop hebben we dus onze oorspronkelijke dictionary en een nieuwe lijst <code>zuidAmerikaLijst</code> met de Zuid-Amerikaanse steden.\n",
    "\n",
    "### Opdracht 16.9.1 Miljoenensteden\n",
    "\n",
    "Doorloop de dictionary en lever een lijst op met miljoenensteden (steden met meer dan 1000000 inwoners). Print de lijst om te controleren of vier van de steden erin voorkomen."
   ]
  },
  {
   "cell_type": "code",
   "execution_count": null,
   "id": "79a69a79",
   "metadata": {},
   "outputs": [],
   "source": [
    "steden = {\n",
    "    \"Amsterdam\": {\"land\": \"Nederland\", \"inwoners\": 921000, \"werelddeel\": \"Europa\"},\n",
    "    \"Buenos Aires\": {\"land\": \"Argentinië\", \"inwoners\": 2890000, \"werelddeel\": \"Zuid-Amerika\"},\n",
    "    \"Rome\": {\"land\": \"Italië\", \"inwoners\": 2873000, \"werelddeel\": \"Europa\"},\n",
    "    \"São Paulo\": {\"land\": \"Brazilië\", \"inwoners\": 12330000, \"werelddeel\": \"Zuid-Amerika\"},\n",
    "    \"Tokyo\": {\"land\": \"Japan\", \"inwoners\": 13960000, \"werelddeel\": \"Azië\"}\n",
    "}"
   ]
  },
  {
   "cell_type": "markdown",
   "id": "ba6634ce",
   "metadata": {},
   "source": [
    "<p>Klik <a href=\"https://rweeda.github.io/PythonIA/docs/IA_H15_oplossingen.html#opgave1691\">hier</a> voor een voorbeelduitwerking.</p>\n",
    "\n",
    "<!-- ANTWOORD\n",
    "miljoenenstedenLijst =[]                            # maak een lege lijst\n",
    "for stad, gegevens in steden.items():               # loop door de dictionary en haal de gegevens voor elke stad op\n",
    "\tif gegevens[\"inwoners\"] > 1000000 :              # als er meer dan 1 miljoen inwoners zijn\n",
    "\t\tmiljoenenstedenLijst.append( stad )\t        # voeg stad toe aan miljoenenstedenLijst\n",
    "\n",
    "print(\"Lijst met miljoenensteden:\", miljoenenstedenLijst)\n",
    "-->\n",
    "\n",
    "\n",
    "### Opdracht 16.9.2 Lijst van alle dieren in de Savanne\n",
    "\n",
    "Druk een lijst af van alle dieren in de `Dierentuin' die in de Savanne verblijven."
   ]
  },
  {
   "cell_type": "code",
   "execution_count": null,
   "id": "56a2f306",
   "metadata": {},
   "outputs": [],
   "source": [
    "dierentuin = {\n",
    "    \"Leeuw\": {\"soort\": \"Zoogdier\", \"verblijf\": \"Savanne\", \"dieet\": [\"vlees\"], \"aantal\": 2},\n",
    "    \"Pinguïn\": {\"soort\": \"Vogel\", \"verblijf\": \"Poolgebied\", \"dieet\": [\"vis\", \"kril\"], \"aantal\": 15},\n",
    "    \"Python\": {\"soort\": \"Reptiel\", \"verblijf\": \"Terrarium\", \"dieet\": [\"muizen\", \"ratten\"], \"aantal\": 3},\n",
    "    \"Olifant\": {\"soort\": \"Zoogdier\", \"verblijf\": \"Savanne\", \"dieet\": [\"planten\", \"fruit\", \"bladeren\"], \"aantal\": 1},\n",
    "    \"IJsbeer\": {\"soort\": \"Zoogdier\", \"verblijf\": \"Poolgebied\", \"dieet\": [\"vlees\"], \"aantal\": 2}\n",
    "}"
   ]
  },
  {
   "cell_type": "markdown",
   "id": "d428804f",
   "metadata": {},
   "source": [
    "<p>Bekijk <a href=\"https://rweeda.github.io/PythonIA/docs/IA_H10_oplossingen.html#opgave1692\" target=\"_blank\">hier</a> de voorbeelduitwerking.</p>\n",
    "\n",
    "<!--\n",
    "dierentuin = {\n",
    "    \"Leeuw\": {\"soort\": \"Zoogdier\", \"verblijf\": \"Savanne\", \"dieet\": [\"vlees\"], \"aantal\": 2},\n",
    "    \"Pinguïn\": {\"soort\": \"Vogel\", \"verblijf\": \"Poolgebied\", \"dieet\": [\"vis\", \"kril\"], \"aantal\": 15},\n",
    "    \"Python\": {\"soort\": \"Reptiel\", \"verblijf\": \"Terrarium\", \"dieet\": [\"muizen\", \"ratten\"], \"aantal\": 3},\n",
    "    \"Olifant\": {\"soort\": \"Zoogdier\", \"verblijf\": \"Savanne\", \"dieet\": [\"planten\", \"fruit\", \"bladeren\"], \"aantal\": 1},\n",
    "    \"IJsbeer\": {\"soort\": \"Zoogdier\", \"verblijf\": \"Poolgebied\", \"dieet\": [\"vlees\"], \"aantal\": 2}\n",
    "}\n",
    "\n",
    "savanneLijst = []                                 # maak een lege lijst\n",
    "for dier, gegevens in dierentuin.items():        # loop door de dictionary en haal de gegevens voor elk dier op\n",
    "    if gegevens[\"verblijf\"] == \"Savanne\":         # als het verblijf de Savanne is\n",
    "        savanneLijst.append(dier)                  # voeg het dier toe aan savanneLijst\n",
    "\n",
    "print(savanneLijst)\n",
    "-->\n",
    "\n",
    "### Opdracht 16.9.3 Lijst van alle dieren die vlees eten\n",
    "\n",
    "Druk een lijst af van alle dieren in de `Dierentuin' die vlees eten."
   ]
  },
  {
   "cell_type": "code",
   "execution_count": null,
   "id": "25bbdaa0",
   "metadata": {},
   "outputs": [],
   "source": [
    "dierentuin = {\n",
    "    \"Leeuw\": {\"soort\": \"Zoogdier\", \"verblijf\": \"Savanne\", \"dieet\": [\"vlees\"], \"aantal\": 2},\n",
    "    \"Pinguïn\": {\"soort\": \"Vogel\", \"verblijf\": \"Poolgebied\", \"dieet\": [\"vis\", \"kril\"], \"aantal\": 15},\n",
    "    \"Python\": {\"soort\": \"Reptiel\", \"verblijf\": \"Terrarium\", \"dieet\": [\"muizen\", \"ratten\"], \"aantal\": 3},\n",
    "    \"Olifant\": {\"soort\": \"Zoogdier\", \"verblijf\": \"Savanne\", \"dieet\": [\"planten\", \"fruit\", \"bladeren\"], \"aantal\": 1},\n",
    "    \"IJsbeer\": {\"soort\": \"Zoogdier\", \"verblijf\": \"Poolgebied\", \"dieet\": [\"vlees\"], \"aantal\": 2}\n",
    "}"
   ]
  },
  {
   "cell_type": "markdown",
   "id": "bafeced6",
   "metadata": {},
   "source": [
    "<p>Bekijk <a href=\"https://rweeda.github.io/PythonIA/docs/IA_H10_oplossingen.html#opgave16.9.3\" target=\"_blank\">hier</a> de voorbeelduitwerking.</p>\n",
    "\n",
    "<!--\n",
    "dierentuin = {\n",
    "    \"Leeuw\": {\"soort\": \"Zoogdier\", \"verblijf\": \"Savanne\", \"dieet\": [\"vlees\"], \"aantal\": 2},\n",
    "    \"Pinguïn\": {\"soort\": \"Vogel\", \"verblijf\": \"Poolgebied\", \"dieet\": [\"vis\", \"kril\"], \"aantal\": 15},\n",
    "    \"Python\": {\"soort\": \"Reptiel\", \"verblijf\": \"Terrarium\", \"dieet\": [\"muizen\", \"ratten\"], \"aantal\": 3},\n",
    "    \"Olifant\": {\"soort\": \"Zoogdier\", \"verblijf\": \"Savanne\", \"dieet\": [\"planten\", \"fruit\", \"bladeren\"], \"aantal\": 1},\n",
    "    \"IJsbeer\": {\"soort\": \"Zoogdier\", \"verblijf\": \"Poolgebied\", \"dieet\": [\"vlees\"], \"aantal\": 2}\n",
    "}\n",
    "\n",
    "vleesDiet = []                                 # maak een lege lijst\n",
    "for dier, gegevens in dierentuin.items():        # loop door de dictionary en haal de gegevens voor elk dier op\n",
    "    if \"vlees\" in gegevens[\"dieet\"]:            # als er vlees in het dieet van het dier zit\n",
    "        vleesDiet.append(dier)                  # voeg het dier toe aan vleesDiet\n",
    "\n",
    "print(vleesDiet)\n",
    "-->\n",
    "\n",
    "### Opdracht 16.9.4 Lijst van alle benodigde eten\n",
    "\n",
    "<p>Maak een lijst van alle eten dat gehaald moet worden voor de dieren. Druk de lijst af.</p>\n",
    "<p>\n",
    "<p>De verwachte uitvoer is:<br>\n",
    "<i>  ['vlees', 'vis', 'kril', 'muizen', 'ratten', 'planten', 'fruit', 'bladeren', 'vlees']\n",
    "</i>\n",
    "</p>"
   ]
  },
  {
   "cell_type": "code",
   "execution_count": null,
   "id": "46451647",
   "metadata": {},
   "outputs": [],
   "source": [
    "dierentuin = {\n",
    "    \"Leeuw\": {\"soort\": \"Zoogdier\", \"verblijf\": \"Savanne\", \"dieet\": [\"vlees\"], \"aantal\": 2},\n",
    "    \"Pinguïn\": {\"soort\": \"Vogel\", \"verblijf\": \"Poolgebied\", \"dieet\": [\"vis\", \"kril\"], \"aantal\": 15},\n",
    "    \"Python\": {\"soort\": \"Reptiel\", \"verblijf\": \"Terrarium\", \"dieet\": [\"muizen\", \"ratten\"], \"aantal\": 3},\n",
    "    \"Olifant\": {\"soort\": \"Zoogdier\", \"verblijf\": \"Savanne\", \"dieet\": [\"planten\", \"fruit\", \"bladeren\"], \"aantal\": 1},\n",
    "    \"IJsbeer\": {\"soort\": \"Zoogdier\", \"verblijf\": \"Poolgebied\", \"dieet\": [\"vlees\"], \"aantal\": 2}\n",
    "}"
   ]
  },
  {
   "cell_type": "markdown",
   "id": "96ea0886",
   "metadata": {},
   "source": [
    "<p>Bekijk <a href=\"https://rweeda.github.io/PythonIA/docs/IA_H10_oplossingen.html#opgave1694\" target=\"_blank\">hier</a> de voorbeelduitwerking.</p>\n",
    "\n",
    "<!-- ANTWOORD\n",
    "\n",
    "dierentuin = {\n",
    "    \"Leeuw\": {\"soort\": \"Zoogdier\", \"verblijf\": \"Savanne\", \"dieet\": [\"vlees\"], \"aantal\": 2},\n",
    "    \"Pinguïn\": {\"soort\": \"Vogel\", \"verblijf\": \"Poolgebied\", \"dieet\": [\"vis\", \"kril\"], \"aantal\": 15},\n",
    "    \"Python\": {\"soort\": \"Reptiel\", \"verblijf\": \"Terrarium\", \"dieet\": [\"muizen\", \"ratten\"], \"aantal\": 3},\n",
    "    \"Olifant\": {\"soort\": \"Zoogdier\", \"verblijf\": \"Savanne\", \"dieet\": [\"planten\", \"fruit\", \"bladeren\"], \"aantal\": 1},\n",
    "    \"IJsbeer\": {\"soort\": \"Zoogdier\", \"verblijf\": \"Poolgebied\", \"dieet\": [\"vlees\"], \"aantal\": 2}\n",
    "}\n",
    "\n",
    "\n",
    "voedingLijst = []                                 # maak een lege lijst\n",
    "for dier, gegevens in dierentuin.items():        # loop door de dictionary en haal de gegevens voor elk dier op\n",
    "    voedingLijst.append(gegevens[\"dieet\"])                   \n",
    "print(voedingLijst)\n",
    "\n",
    "OF\n",
    "\n",
    "\n",
    "voedingLijst = []                                 # maak een lege lijst\n",
    "for dier, gegevens in dierentuin.items():        # loop door de dictionary en haal de gegevens voor elk dier op             \n",
    "    voedingLijst += gegevens[\"dieet\"]     \n",
    "print(voedingLijst)\n",
    "\n",
    "\n",
    "-->"
   ]
  }
 ],
 "metadata": {
  "language_info": {
   "name": "python"
  }
 },
 "nbformat": 4,
 "nbformat_minor": 5
}
