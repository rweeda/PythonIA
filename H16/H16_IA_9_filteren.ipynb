{
 "cells": [
  {
   "cell_type": "markdown",
   "id": "6c5288e3",
   "metadata": {},
   "source": [
    "<!-- Verbeterde versie van H16_IA_9_filteren.md -->\n",
    "\n",
    "## 9: Waarden uit een dictionary filteren en in een lijst zetten\n",
    "\n",
    "<p>Soms wil je alleen bepaalde waarden uit een dictionary hebben, bijvoorbeeld alle landen uit Zuid Amerika. Die gewenste waarden sla je in een nieuwe dictionary op. Dat noemen we <i>filteren</i>. Je maakt een nieuwe lege dictionary aan en vul je deze aan met de waarden uit de dictionary die je wilt hebben.</p>\n",
    "\n",
    "<p><img src=\"https://raw.githubusercontent.com/rweeda/PythonIA/main/img/16_filter_dictionary.jpg\" alt=\"Figuur: Stroomdiagram waarden eruit filteren\" width=\"400\"></p>\n",
    "\n",
    "<p>In het voorbeeld hieronder voegen we elk Zuid-Amerikaanse stad toe aan een nieuwe dictionary <code>zuid_amerika_dictionary</code>:</p>"
   ]
  },
  {
   "cell_type": "code",
   "execution_count": null,
   "id": "70a9a024",
   "metadata": {},
   "outputs": [
    {
     "name": "stdout",
     "output_type": "stream",
     "text": [
      "Lijst met Zuid-Amerikaanse steden: {'Buenos Aires': {'land': 'Argentinië', 'inwoners': 2890000, 'werelddeel': 'Zuid-Amerika'}, 'São Paulo': {'land': 'Brazilië', 'inwoners': 12330000, 'werelddeel': 'Zuid-Amerika'}}\n",
      "{'Amsterdam': {'land': 'Nederland', 'inwoners': 921000, 'werelddeel': 'Europa'}, 'Buenos Aires': {'land': 'Argentinië', 'inwoners': 2890000, 'werelddeel': 'Zuid-Amerika'}, 'Rome': {'land': 'Italië', 'inwoners': 2873000, 'werelddeel': 'Europa'}, 'São Paulo': {'land': 'Brazilië', 'inwoners': 12330000, 'werelddeel': 'Zuid-Amerika'}, 'Tokyo': {'land': 'Japan', 'inwoners': 13960000, 'werelddeel': 'Azië'}}\n"
     ]
    }
   ],
   "source": [
    "steden = {\n",
    "    \"Amsterdam\": {\"land\": \"Nederland\", \"inwoners\": 921000, \"werelddeel\": \"Europa\"},\n",
    "    \"Buenos Aires\": {\"land\": \"Argentinië\", \"inwoners\": 2890000, \"werelddeel\": \"Zuid-Amerika\"},\n",
    "    \"Rome\": {\"land\": \"Italië\", \"inwoners\": 2873000, \"werelddeel\": \"Europa\"},\n",
    "    \"São Paulo\": {\"land\": \"Brazilië\", \"inwoners\": 12330000, \"werelddeel\": \"Zuid-Amerika\"},\n",
    "    \"Tokyo\": {\"land\": \"Japan\", \"inwoners\": 13960000, \"werelddeel\": \"Azië\"}\n",
    "}\n",
    "\n",
    "zuid_amerika_dictionary = {}                        # maak een lege dictionary aan voor Zuid-Amerikaanse steden\n",
    "for stad, gegevens in steden.items():               # loop door de steden dictionary en haal de gegevens voor elke stad op\n",
    "\tif gegevens[\"werelddeel\"] == \"Zuid-Amerika\":    # als de werelddeel Zuid-Amerika is\n",
    "\t\tzuid_amerika_dictionary[stad] = gegevens\t#voeg stad toe aan zuid_amerika_dictionary\n",
    "\n",
    "print(\"Lijst met Zuid-Amerikaanse steden:\", zuid_amerika_dictionary)\n",
    "print(steden)"
   ]
  },
  {
   "cell_type": "markdown",
   "id": "86872504",
   "metadata": {},
   "source": [
    "<p>Toelichting:</p>\n",
    "<ul>\n",
    "    <li>We maken een nieuwe dictionary aan: <code>zuid_amerika_dictionary = {}</code>.</li>\n",
    "    <li>Met een <code>for</code>-loop doorlopen we ieder stad in de gegeven dictionary</li>\n",
    "    <li>Als we een stad tegenkomen die in Zuid-Amerika ligt, dan voegen we die aan <code>zuid_amerika_dictionary</code> toe.</li>\n",
    "</ul>\n",
    "Na afloop hebben we dus onze oorspronkelijke dictionary <code>steden</code> en een nieuwe dictionary <code>zuid_amerika_dictionary</code> met de Zuid-Amerikaanse steden.\n"
   ]
  },
  {
   "cell_type": "markdown",
   "id": "513fc78e",
   "metadata": {},
   "source": [
    "\n",
    "### Opdracht 16.9.1 Miljoenensteden\n",
    "\n",
    "<p>Doorloop de dictionary en lever een nieuwe dictionary op met miljoenensteden (steden met meer dan 1000000 inwoners). Print de dictionary om te controleren of vier van de steden erin voorkomen.</p>\n",
    "\n",
    "<p>De verwachte uitvoer is:<br>\n",
    "<i>Dictionary met miljoenensteden: {'Buenos Aires': {'land': 'Argentinië', 'inwoners': 2890000, 'werelddeel': 'Zuid-Amerika'}, 'Rome': {'land': 'Italië', 'inwoners': 2873000, 'werelddeel': 'Europa'}, 'São Paulo': {'land': 'Brazilië', 'inwoners': 12330000, 'werelddeel': 'Zuid-Amerika'}, 'Tokyo': {'land': 'Japan', 'inwoners': 13960000, 'werelddeel': 'Azië'}}</i></p>"
   ]
  },
  {
   "cell_type": "code",
   "execution_count": null,
   "id": "79a69a79",
   "metadata": {},
   "outputs": [],
   "source": [
    "steden = {\n",
    "    \"Amsterdam\": {\"land\": \"Nederland\", \"inwoners\": 921000, \"werelddeel\": \"Europa\"},\n",
    "    \"Buenos Aires\": {\"land\": \"Argentinië\", \"inwoners\": 2890000, \"werelddeel\": \"Zuid-Amerika\"},\n",
    "    \"Rome\": {\"land\": \"Italië\", \"inwoners\": 2873000, \"werelddeel\": \"Europa\"},\n",
    "    \"São Paulo\": {\"land\": \"Brazilië\", \"inwoners\": 12330000, \"werelddeel\": \"Zuid-Amerika\"},\n",
    "    \"Tokyo\": {\"land\": \"Japan\", \"inwoners\": 13960000, \"werelddeel\": \"Azië\"}\n",
    "}\n",
    "\n",
    "\n",
    "\n",
    "\n",
    "#print(\"Dictionary met miljoenensteden:\", miljoenensteden_dictionary)"
   ]
  },
  {
   "cell_type": "markdown",
   "id": "d52d5c2a",
   "metadata": {},
   "source": [
    "<p>Klik <a href=\"https://rweeda.github.io/PythonIA/docs/IA_H16_oplossingen.html#opgave1691\">hier</a> voor een voorbeelduitwerking.</p>"
   ]
  },
  {
   "cell_type": "markdown",
   "id": "ba6634ce",
   "metadata": {},
   "source": [
    "### Opdracht 16.9.2 Lijst van alle dieren in de Savanne\n",
    "\n",
    "Maak een dictionary van alle dieren in de `Dierentuin' die in de Savanne verblijven. Druk die daarna af.\n",
    "\n",
    "<p>De verwachte uitvoer is:<br>\n",
    "<i>{'Leeuw': {'soort': 'Zoogdier', 'verblijf': 'Savanne', 'dieet': ['vlees'], 'aantal': 2}, 'Olifant': {'soort': 'Zoogdier', 'verblijf': 'Savanne', 'dieet': ['planten', 'fruit', 'bladeren'], 'aantal': 1}}</i></p>"
   ]
  },
  {
   "cell_type": "code",
   "execution_count": null,
   "id": "56a2f306",
   "metadata": {},
   "outputs": [],
   "source": [
    "dierentuin = {\n",
    "    \"Leeuw\": {\"soort\": \"Zoogdier\", \"verblijf\": \"Savanne\", \"dieet\": [\"vlees\"], \"aantal\": 2},\n",
    "    \"Pinguïn\": {\"soort\": \"Vogel\", \"verblijf\": \"Poolgebied\", \"dieet\": [\"vis\", \"kril\"], \"aantal\": 15},\n",
    "    \"Python\": {\"soort\": \"Reptiel\", \"verblijf\": \"Terrarium\", \"dieet\": [\"muizen\", \"ratten\"], \"aantal\": 3},\n",
    "    \"Olifant\": {\"soort\": \"Zoogdier\", \"verblijf\": \"Savanne\", \"dieet\": [\"planten\", \"fruit\", \"bladeren\"], \"aantal\": 1},\n",
    "    \"IJsbeer\": {\"soort\": \"Zoogdier\", \"verblijf\": \"Poolgebied\", \"dieet\": [\"vlees\"], \"aantal\": 2}\n",
    "}\n",
    "\n"
   ]
  },
  {
   "cell_type": "markdown",
   "id": "d428804f",
   "metadata": {},
   "source": [
    "<p>Bekijk <a href=\"https://rweeda.github.io/PythonIA/docs/IA_H16_oplossingen.html#opgave1692\" target=\"_blank\">hier</a> de voorbeelduitwerking.</p>\n"
   ]
  },
  {
   "cell_type": "markdown",
   "id": "bb8229ce",
   "metadata": {},
   "source": [
    "\n",
    "### Opdracht 16.9.3 Lijst van alle benodigde eten\n",
    "\n",
    "<p>Maak een boodschappenlijst voor alle benodigde eten. Druk de lijst af.</p>\n",
    "<p>Tip: doorloop de dictionary en voeg alle <i>dieet</i> gegevens toe aan een lijst. T\n",
    "er herinnering, met <code>+=</code> kun je gegevens toevoegen aan een lijst.</p>\n",
    "\n",
    "<p>De verwachte uitvoer is:<br>\n",
    "<i>[['vlees'], ['vis', 'kril'], ['muizen', 'ratten'], ['planten', 'fruit', 'bladeren'], ['vlees']]</i></p>\n",
    "\n"
   ]
  },
  {
   "cell_type": "code",
   "execution_count": null,
   "id": "46451647",
   "metadata": {},
   "outputs": [
    {
     "name": "stdout",
     "output_type": "stream",
     "text": [
      "[['vlees'], ['vis', 'kril'], ['muizen', 'ratten'], ['planten', 'fruit', 'bladeren'], ['vlees']]\n"
     ]
    }
   ],
   "source": [
    "dierentuin = {\n",
    "    \"Leeuw\": {\"soort\": \"Zoogdier\", \"verblijf\": \"Savanne\", \"dieet\": [\"vlees\"], \"aantal\": 2},\n",
    "    \"Pinguïn\": {\"soort\": \"Vogel\", \"verblijf\": \"Poolgebied\", \"dieet\": [\"vis\", \"kril\"], \"aantal\": 15},\n",
    "    \"Python\": {\"soort\": \"Reptiel\", \"verblijf\": \"Terrarium\", \"dieet\": [\"muizen\", \"ratten\"], \"aantal\": 3},\n",
    "    \"Olifant\": {\"soort\": \"Zoogdier\", \"verblijf\": \"Savanne\", \"dieet\": [\"planten\", \"fruit\", \"bladeren\"], \"aantal\": 1},\n",
    "    \"IJsbeer\": {\"soort\": \"Zoogdier\", \"verblijf\": \"Poolgebied\", \"dieet\": [\"vlees\"], \"aantal\": 2}\n",
    "}\n",
    "\n"
   ]
  },
  {
   "cell_type": "markdown",
   "id": "96ea0886",
   "metadata": {},
   "source": [
    "<p>Bekijk <a href=\"https://rweeda.github.io/PythonIA/docs/IA_H16_oplossingen.html#opgave1694\" target=\"_blank\">hier</a> de voorbeelduitwerking.</p>\n"
   ]
  }
 ],
 "metadata": {
  "kernelspec": {
   "display_name": "Python 3",
   "language": "python",
   "name": "python3"
  },
  "language_info": {
   "codemirror_mode": {
    "name": "ipython",
    "version": 3
   },
   "file_extension": ".py",
   "mimetype": "text/x-python",
   "name": "python",
   "nbconvert_exporter": "python",
   "pygments_lexer": "ipython3",
   "version": "3.13.2"
  }
 },
 "nbformat": 4,
 "nbformat_minor": 5
}
