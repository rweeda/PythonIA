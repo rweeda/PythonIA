{
 "cells": [
  {
   "cell_type": "markdown",
   "id": "0c823eb7",
   "metadata": {},
   "source": [
    "## 1: Inleiding geneste dictionary's\n",
    "\n",
    "Een dictionary kan ook binnenin een andere dictionary zitten; dit heet een <b>geneste dictionary</b>. Een geneste dictionary is handig om gegevens van meerdere objecten overzichtelijk en gestructureerd op te slaan. Dit leggen we uit aan de hand van een voorbeeld. We hebben een aantal dictionary's met informatie over steden, bijvoorbeeld over Amsterdam, Parijs en Berlijn. Deze dictionary's houden we samen bij in één grote dictionary: <code>steden</code>.\n",
    "\n",
    "\n",
    "Hieronder zie je een dictionary <b>stad</b> met informatie over de stad, zoals <b>naam</b>, <b>land</b> en aantal <b>inwoners</b>. Hier is <b>naam</b> een sleutel en <b>Amsterdam</b> de bijbehorende waarde. Ter herinnering, met <code>stad[\"land\"]</code> krijg je \"Nederland\"."
   ]
  },
  {
   "cell_type": "code",
   "execution_count": null,
   "id": "4c91ae5a",
   "metadata": {},
   "outputs": [],
   "source": [
    "stad = {\n",
    "    \"naam\": \"Amsterdam\",\n",
    "    \"land\": \"Nederland\",\n",
    "    \"inwoners\": 921000\n",
    "}\n",
    "\n",
    "print(stad)           # Print de hele dictionary\n",
    "print(stad[\"land\"])   # Print het land van de stad"
   ]
  },
  {
   "cell_type": "markdown",
   "id": "bf62b1fe",
   "metadata": {},
   "source": [
    "Als je van meerdere steden een dictionary hebt, kun je ze samen in één geneste dictionary bijhouden. Hieronder zie je een voorbeeld van een geneste dictionary <code>steden</code> met de gegevens van Amsterdam, Parijs en Berlijn. Met <code>print()</code> kun je de inhoud van een geneste dictionary afdrukken. Geef dan de naam van de dictionary mee tussen haakjes."
   ]
  },
  {
   "cell_type": "code",
   "execution_count": null,
   "id": "9028189d",
   "metadata": {},
   "outputs": [],
   "source": [
    "steden = {\n",
    "    \"Amsterdam\":{\"land\": \"Nederland\", \"inwoners\": 921000},\n",
    "    \"Parijs\": {\"land\": \"Frankrijk\", \"inwoners\": 2148000},\n",
    "    \"Berlijn\": {\"land\": \"Duitsland\", \"inwoners\": 3769000}\n",
    "}\n",
    "\n",
    "print(steden)"
   ]
  },
  {
   "cell_type": "markdown",
   "id": "669ad167",
   "metadata": {},
   "source": [
    "<!-- <p>De onderstaande visualisatie laat zien hoe een geneste dictionary eruit ziet.<br>\n",
    "\n",
    "<iframe width=\"1000\" height=\"500\" frameborder=\"0\" src=\"https://pythontutor.com/iframe-embed.html#code=steden%20%3D%20%7B%0A%20%20%20%20%22Amsterdam%22%3A%7B%22land%22%3A%20%22Nederland%22,%20%22inwoners%22%3A%20921000%7D,%0A%20%20%20%20%22Parijs%22%3A%20%7B%22land%22%3A%20%22Frankrijk%22,%20%22inwoners%22%3A%202148000%7D,%0A%20%20%20%20%22Berlijn%22%3A%20%7B%22land%22%3A%20%22Duitsland%22,%20%22inwoners%22%3A%203769000%7D%0A%7D&codeDivHeight=400&codeDivWidth=350&cumulative=false&curInstr=4&heapPrimitives=nevernest&origin=opt-frontend.js&py=311&rawInputLstJSON=%5B%5D&textReferences=false\"> </iframe> -->\n",
    "\n",
    "\n",
    "\n",
    "\n",
    "\n",
    "### Opdracht 16.1.1 Kennismaken met de geneste dictionary `dierentuin`\n",
    "\n",
    "\n",
    "<table>\n",
    "  <tr>\n",
    "    <td style=\"text-align: left; vertical-align: top;\">\n",
    "      <p>Bekijk de dictionary <code>dierentuin</code> hieronder en beantwoord de volgende vragen, <em>zonder code te schrijven</em>:</p>\n",
    "      <ol type=\"a\">\n",
    "        <li>Wat is de naam van het verblijf van de olifant?</li>\n",
    "        <li>Hoeveel pinguïns zijn er in de dierentuin?</li>\n",
    "        <li>Hoeveel soorten dieren zijn er in de dierentuin?</li>\n",
    "        <li>Wat is het dieet van de Python?</li>\n",
    "        <li>Wat is het datatype van dieet?</li>\n",
    "      </ol>\n",
    "    </td>\n",
    "    <td style=\"vertical-align: top;\" width=70%>\n",
    "      <img src=\"https://raw.githubusercontent.com/rweeda/PythonIA/main/img/Pythontutor_dierentuin.jpg\">\n",
    "    </td>\n",
    "  </tr>\n",
    "</table>"
   ]
  },
  {
   "cell_type": "code",
   "execution_count": null,
   "id": "f29924bd",
   "metadata": {},
   "outputs": [],
   "source": [
    "dierentuin = {\n",
    "    \"Leeuw\": {\"soort\": \"Zoogdier\", \"verblijf\": \"Savanne\", \"dieet\": [\"vlees\"], \"aantal\": 2},\n",
    "    \"Pinguïn\": {\"soort\": \"Vogel\", \"verblijf\": \"Poolgebied\", \"dieet\": [\"vis\", \"kril\"], \"aantal\": 15},\n",
    "    \"Python\": {\"soort\": \"Reptiel\", \"verblijf\": \"Terrarium\", \"dieet\": [\"muizen\", \"ratten\"], \"aantal\": 3}\n",
    "}"
   ]
  },
  {
   "cell_type": "markdown",
   "id": "16b8c4ce",
   "metadata": {},
   "source": [
    "<!-- ANTWOORDEN\n",
    "<ol type=\"a\">\n",
    "<li>Savanne\n",
    "<li>15\n",
    "<li>3, namelijk: Zoogdier, Vogel, Reptiel\n",
    "<li>muizen en ratten</li>\n",
    "<li>een lijst</li>\n",
    "</ol>\n",
    "--> \n",
    "\n",
    "<p>Klik <a href=\"https://rweeda.github.io/PythonIA/docs/IA_H16_oplossingen.html#opgave1611\">hier</a> voor een voorbeelduitwerking.</p>\n",
    "\n",
    "\n",
    "### Opdracht 16.1.2: Gegevens in `dierentuin` printen\n",
    "<p>De dictionary <code>dierentuin</code> bevat informatie over verschillende dieren in de dierentuin.</p>\n",
    "\n",
    "Elke *diernaam* (zoals \"Leeuw\" of \"Olifant\") is een *sleutel* in de dictionary.\n",
    "De bijbehorende waarde is een *geneste dictionary* met informatie over dat dier:\n",
    "<ul>\n",
    "<li>\"soort\": het type dier (bijv. zoogdier, vogel, reptiel),\n",
    "<li>\"verblijf\": het gebied of verblijf waar het dier woont,\n",
    "<li>\"dieet\": een lijst met dingen die het dier eet,\n",
    "<li>\"aantal\": het aantal dieren van die soort in de dierentuin.\n",
    "</ul>\n",
    "</p>\n",
    "<p>Print de volledige inhoud van de dictionary <code>dierentuin</code>.</p>\n",
    "\n",
    "\n",
    "\n",
    "<p>De verwachte uitvoer is:<br>\n",
    "<i>Alle informatie over de dierentuin: {'Leeuw': {'soort': 'Zoogdier', 'verblijf': 'Savanne', 'dieet': ['vlees'], 'aantal': 2}, 'Pinguïn': {'soort': 'Vogel', 'verblijf': 'Poolgebied', 'dieet': ['vis', 'kril'], 'aantal': 15}, 'Python': {'soort': 'Reptiel', 'verblijf': 'Terrarium', 'dieet': ['muizen', 'ratten'], 'aantal': 3}}</i></p>"
   ]
  },
  {
   "cell_type": "code",
   "execution_count": null,
   "id": "ff9a300f",
   "metadata": {},
   "outputs": [],
   "source": [
    "dierentuin = {\n",
    "    \"Leeuw\": {\"soort\": \"Zoogdier\", \"verblijf\": \"Savanne\", \"dieet\": [\"vlees\"], \"aantal\": 2},\n",
    "    \"Pinguïn\": {\"soort\": \"Vogel\", \"verblijf\": \"Poolgebied\", \"dieet\": [\"vis\", \"kril\"], \"aantal\": 15},\n",
    "    \"Python\": {\"soort\": \"Reptiel\", \"verblijf\": \"Terrarium\", \"dieet\": [\"muizen\", \"ratten\"], \"aantal\": 3}\n",
    "}"
   ]
  },
  {
   "cell_type": "markdown",
   "id": "a75d00cd",
   "metadata": {},
   "source": [
    "<p>Klik <a href=\"https://rweeda.github.io/PythonIA/docs/IA_H16_oplossingen.html#opgave1612\">hier</a> voor een voorbeelduitwerking.</p>\n",
    "<!-- ANTWOORD\n",
    "#a: Print de verblijf over de dierentuin\n",
    "print(\"Alle informatie over de dierentuin:\", dierentuin)\n",
    "-->"
   ]
  }
 ],
 "metadata": {
  "language_info": {
   "name": "python"
  }
 },
 "nbformat": 4,
 "nbformat_minor": 5
}
