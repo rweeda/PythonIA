{
 "cells": [
  {
   "cell_type": "markdown",
   "id": "290513f5",
   "metadata": {},
   "source": [
    "## 14: Gemiddelde bepalen\n",
    "Voor het bepalen van de gemiddelde moet je twee plannen samenvoegen:\n",
    "<ol>\n",
    "<li>bepaal de som\n",
    "<li>aantal gegevens tellen\n",
    "</ol>\n",
    "Om de gemiddelde uit te rekenen deel je de som door het aantal gegevens.\n",
    "\n",
    "\n",
    "\n",
    "<p><img src=\"https://raw.githubusercontent.com/rweeda/PythonIA/main/img/16.14_gemiddeldeBepalenDictionary.png\" width=\"450\"></p>\n",
    "\n"
   ]
  },
  {
   "cell_type": "markdown",
   "id": "8c9ae2ed",
   "metadata": {},
   "source": [
    "### Opdracht 16.14.1 Gemiddeld aantal diersoort van elk soort\n",
    "\n",
    "<p>Onze dierentuin heeft een aantal van elk diersoort: 2 leeuwen, 15 pinguins, 3 pythons, etc. Hoeveel exemplaren zijn er gemiddeld per diersoort?</p>\n",
    "\n",
    "<p>Tip: dit bereken je door de totaal aantal dieren te delen door het aantal diersorten.</p>\n",
    "\n",
    "<p>De verwachte uitvoer is:<br><i>Het gemiddelde aantal dieren per diersoort is: 4.6</i></p>"
   ]
  },
  {
   "cell_type": "code",
   "execution_count": null,
   "id": "762ee4af",
   "metadata": {},
   "outputs": [],
   "source": [
    "dierentuin = {\n",
    "    \"Leeuw\": {\"soort\": \"Zoogdier\", \"verblijf\": \"Savanne\", \"dieet\": [\"vlees\"], \"aantal\": 2},\n",
    "    \"Pinguïn\": {\"soort\": \"Vogel\", \"verblijf\": \"Poolgebied\", \"dieet\": [\"vis\", \"kril\"], \"aantal\": 15},\n",
    "    \"Python\": {\"soort\": \"Reptiel\", \"verblijf\": \"Terrarium\", \"dieet\": [\"muizen\", \"ratten\"], \"aantal\": 3},\n",
    "    \"Olifant\": {\"soort\": \"Zoogdier\", \"verblijf\": \"Savanne\", \"dieet\": [\"planten\", \"fruit\", \"bladeren\"], \"aantal\": 1},\n",
    "    \"IJsbeer\": {\"soort\": \"Zoogdier\", \"verblijf\": \"Poolgebied\", \"dieet\": [\"vlees\"], \"aantal\": 2}\n",
    "}\n",
    "\n",
    "\n",
    "\n",
    "\n",
    "#print(\"Het gemiddelde aantal dieren per diersoort is:\", gemiddeld)"
   ]
  },
  {
   "cell_type": "markdown",
   "id": "012f878d",
   "metadata": {},
   "source": [
    "<p>Bekijk <a href=\"https://rweeda.github.io/PythonIA/docs/IA_H16_oplossingen.html#opgave16141\" target=\"_blank\">hier</a> de voorbeelduitwerking.</p>\n"
   ]
  }
 ],
 "metadata": {
  "language_info": {
   "name": "python"
  }
 },
 "nbformat": 4,
 "nbformat_minor": 5
}
