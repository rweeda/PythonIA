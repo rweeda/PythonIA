{
 "cells": [
  {
   "cell_type": "markdown",
   "id": "af64e984",
   "metadata": {},
   "source": [
    "<!-- Herschreven versie van H16_IA_5_verwijderen.md -->\n",
    "\n",
    "\n",
    "<!--H16_verwijderen-->\n",
    "\n",
    "## 5: Gegevens verwijderen\n",
    "\n",
    "<p>Met <code>del</code> kun je gegevens verwijderen uit een dictionary. Je zet er de naam van de dictionary achter met tussen vierkant haken <code>[ ]</code> de sleutel van de gegevens dat je wilt verwijderen. In het voorbeeld hieronder verwijderen we de sleutel 'Berlijn' en de bijbehorende gegevens.</p>"
   ]
  },
  {
   "cell_type": "code",
   "execution_count": null,
   "id": "837ebf3c",
   "metadata": {},
   "outputs": [],
   "source": [
    "steden = {\n",
    "    \"Amsterdam\":{\"land\": \"Nederland\", \"inwoners\": 921000},\n",
    "    \"Parijs\": {\"land\": \"Frankrijk\", \"inwoners\": 2148000},\n",
    "    \"Berlijn\": {\"land\": \"Duitsland\", \"inwoners\": 3769000},\n",
    "}\n",
    "\n",
    "del steden[\"Berlijn\"]   # Verwijder de stad Berlijn (sleutel) uit de dictionary\n",
    "print(steden)   # Print de dictionary"
   ]
  },
  {
   "cell_type": "markdown",
   "id": "2ccf1ca5",
   "metadata": {},
   "source": [
    "### Opdracht 16.5.1 Olifant verwijderen\n",
    "\n",
    "De Olifanten zijn overgeplaatst naar een ander dierentuin.\n",
    "<ul style=\"list-style: none; padding-left: 0;\">\n",
    "<li>a. Verwijder de olifant-soort uit de dierentuin dictionary;\n",
    "<li>b. Print alle informatie over de dierentuin om te controleren of het dier inderdaad is verwijderd.\n",
    "</ul>\n",
    "\n",
    "<p>De verwachte uitvoer is:<br>\n",
    "<i>\n",
    "{'Leeuw': {'soort': 'Zoogdier', 'verblijf': 'Savanne', 'dieet': ['vlees'], 'aantal': 2}, 'Pinguïn': {'soort': 'Vogel', 'verblijf': 'Poolgebied', 'dieet': ['vis', 'kril'], 'aantal': 15}, 'Python': {'soort': 'Reptiel', 'verblijf': 'Terrarium', 'dieet': ['muizen', 'ratten'], 'aantal': 3}}</i></p>"
   ]
  },
  {
   "cell_type": "code",
   "execution_count": null,
   "id": "9cd660c5",
   "metadata": {},
   "outputs": [],
   "source": [
    "dierentuin = {\n",
    "    \"Leeuw\": {\"soort\": \"Zoogdier\", \"verblijf\": \"Savanne\", \"dieet\": [\"vlees\"], \"aantal\": 2},\n",
    "    \"Pinguïn\": {\"soort\": \"Vogel\", \"verblijf\": \"Poolgebied\", \"dieet\": [\"vis\", \"kril\"], \"aantal\": 15},\n",
    "    \"Python\": {\"soort\": \"Reptiel\", \"verblijf\": \"Terrarium\", \"dieet\": [\"muizen\", \"ratten\"], \"aantal\": 3},\n",
    "    \"Olifant\": {\"soort\": \"Zoogdier\", \"verblijf\": \"Savanne\",  \"dieet\": [\"planten\", \"fruit\", \"bladeren\"],\n",
    "        \"aantal\": 6}\n",
    "}"
   ]
  },
  {
   "cell_type": "markdown",
   "id": "88fe4c55",
   "metadata": {},
   "source": [
    "<p>Klik <a href=\"https://rweeda.github.io/PythonIA/docs/IA_H16_oplossingen.html#opgave1651\">hier</a> voor een voorbeelduitwerking.</p>\n",
    "\n",
    "<!-- ANTWOORD\n",
    "del dierentuin[\"Olifant\"]\n",
    "print(dierentuin)   \n",
    "-->"
   ]
  }
 ],
 "metadata": {
  "kernelspec": {
   "display_name": "Python 3",
   "language": "python",
   "name": "python3"
  },
  "language_info": {
   "codemirror_mode": {
    "name": "ipython",
    "version": 3
   },
   "file_extension": ".py",
   "mimetype": "text/x-python",
   "name": "python",
   "nbconvert_exporter": "python",
   "pygments_lexer": "ipython3",
   "version": "3.13.2"
  }
 },
 "nbformat": 4,
 "nbformat_minor": 5
}
