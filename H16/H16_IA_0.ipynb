{
 "cells": [
  {
   "cell_type": "markdown",
   "metadata": {},
   "source": [
    "\n",
    "<h4>Onderwerp 1X - Geneste dictionary's</h4>\n",
    "\n",
    "<img src=\"https://raw.githubusercontent.com/rweeda/PythonIA/main/img/dicitonary_gamescores_aangevuld.png\" alt=\"\" width=\"300\" height=\"259\" role=\"presentation\" class=\"img-responsive atto_image_button_right\">\n",
    "<div style=\"display:flex\">\n",
    "\n",
    "<p>Een dictionary kan ook binnenin een andere dictionary zitten; dit heet een <b>geneste dictionary</b>. Met een geneste dictionary kan je handig data van meerdere dingen op een gestructureerde manier opslaan.\n",
    "In dit onderwerp leer je naast het werken met geneste dictionary's, om <i>plannen</i> te gebruiken. Plannen zijn veel gebruikte oplossingen voor problemen. Door deze te leren wordt het makkelijker om de kennis toe te passen in andere situaties.</p>\n",
    "</div>\n",
    "\n",
    "<p>In dit onderwerp:</span></p>\n",
    "<ul>\n",
    "    <li>leer je wat een geneste dictionary is, welke eigenschappen deze heeft en waarvoor je die kan gebruiken;</li><!--H16_kennis-->\n",
    "    <li>leer je om een geneste dictionary te maken en te printen;</li><!--H16_kennis-->\n",
    "    <li>leer je hoe je gegevens uit een geneste dictionary op kunt halen;</li><!--H16_opvragen-->\n",
    "    <li>leer je de waardes voor een sleutel aan te passen;</li><!--H16_aanpassen-->\n",
    "    <li>leer je hoe je gegevens met een sleutel (key) kunt toevoegen aan een geneste dictionary;</li><!--H16_toevoegen-->   \n",
    "    <li>leer je gegevens kunt verwijderen met <code>del()</code>;</li><!--H16_verwijderen-->\n",
    "    <li>leer je het aantal gegevens in een dictionary tellen;</li><!-- H16_gegevenstellen-->\n",
    "    <li>leer je hoe je een geneste dictionary kunt doorlopen met een <code>for</code>-loop;</li><!--H16_IA_forloop-->\n",
    "    <li>leer je een dictionary te doorzoeken naar een bepaalde waarde;</li> <!-- H16_5: dictElementZoeken -->\n",
    "    <li>leer je waarden uit een dictionary filteren en in een lijst zetten;</li> <!--H16_filteren-->\n",
    "    <li>leer je het aantal voorkomens van een speciefiek gegeven in een dictionary tellen;</li> <!-- H16_Tellen-->\n",
    "    <li>leer je een logische operatoren te gebruiken om een dictionary;</li> <!-- Bool-->\n",
    "   <!-- <li>*ZOEKEN IN MEERDERE DICTIONARIES????*</li>-->\n",
    "    <li>leer je de som en gemiddelde van waarden uit een dictionary to bepalen</li> <!-- dicSOM -->\n",
    "    <li>leer je de grootste en kleinste waarde uit een dictionary to bepalen</li> <!-- dicMinMax -->\n",
    "<!--\n",
    "    <li>ZOEKEN BIJ GENEST?? leer je om <code>keys</code>, <code>values</code> en <code>items</code> te gebruiken om de inhoud van een dictionary op te vragen en in een lijst te zetten;</li> ZIT AL IMPLICIET IN dictElementZoeken-->\n",
    "<!-- H10\n",
    "    <li>leer je om een waarde op te halen met <code>get()</code>;</li>\n",
    "-->\n",
    "</ul>\n",
    "\n",
    "\n",
    "\n",
    "<p><b>Standaardmethoden met dictionary's</b></p>\n",
    "<p>Voor dictionary's zijn er heel veel standaardmethoden die je kunt gebruiken. We behandelen niet alle standaardmethoden. Als je er meer over wilt leren kun je <a href=\"https://www.w3schools.com/python/python_ref_dictionary.asp\" target=\"_blank\">hier</a> meer informatie\n",
    "    vinden.</p> \n",
    "\n",
    "\n",
    "<div class=\"fa fa-clock-o fa-3x\"></div><br> Verwerkingstijd: <b>3 uur</b>"
   ]
  }
 ],
 "metadata": {
  "kernelspec": {
   "display_name": "Python 3",
   "language": "python",
   "name": "python3"
  },
  "language_info": {
   "codemirror_mode": {
    "name": "ipython",
    "version": 3
   },
   "file_extension": ".py",
   "mimetype": "text/x-python",
   "name": "python",
   "nbconvert_exporter": "python",
   "pygments_lexer": "ipython3",
   "version": "3.13.2"
  }
 },
 "nbformat": 4,
 "nbformat_minor": 2
}
