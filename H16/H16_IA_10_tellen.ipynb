{
 "cells": [
  {
   "cell_type": "markdown",
   "id": "cae93078",
   "metadata": {},
   "source": [
    "<!-- Verbeterde versie van H16_IA_10_tellen.md -->\n",
    "\n",
    "## 10: Bepaalde gegevens tellen\n",
    "\n",
    "<p>Wil je tellen hoe vaak iets voorkomt in een (geneste)dictionary, dan moet je een teller bijhouden. Doorloop de dictionary op zoek naar het gegeven dat je zoekt. Elke keer als je het gezochte gegeven tegenkomt, hoog je de teller op. Bekijk het voorbeeld hieronder waarbij we tellen hoeveel miljoenensteden er zijn (steden met meer dan 1000000 inwoners):</p>\n",
    "\n",
    "<p><img src=\"https://course.cs.ru.nl/pythonVO/img/16.3_genesteDict_voorkomensTellen_stroomdiagram.png\" alt=\"Figuur: Stroomdiagram voorkomens tellen\" width=\"400\"></p>"
   ]
  },
  {
   "cell_type": "code",
   "execution_count": null,
   "id": "7ee2d7d6",
   "metadata": {},
   "outputs": [],
   "source": [
    "steden = {\n",
    "    \"Amsterdam\": {\"land\": \"Nederland\", \"inwoners\": 921000, \"werelddeel\": \"Europa\"},\n",
    "    \"Buenos Aires\": {\"land\": \"Argentinië\", \"inwoners\": 2890000, \"werelddeel\": \"Zuid-Amerika\"},\n",
    "    \"Rome\": {\"land\": \"Italië\", \"inwoners\": 2873000, \"werelddeel\": \"Europa\"},\n",
    "    \"São Paulo\": {\"land\": \"Brazilië\", \"inwoners\": 12330000, \"werelddeel\": \"Zuid-Amerika\"},\n",
    "    \"Tokyo\": {\"land\": \"Japan\", \"inwoners\": 13960000, \"werelddeel\": \"Azië\"}\n",
    "}\n",
    "\n",
    "aantalMiljoenensteden = 0\t#teller begint op 0\n",
    "for stad in steden:\n",
    "\tif steden[stad][\"inwoners\"] > 1000000:\t#als de inwoners meer zijn dan 1 miljoen\n",
    "\t\taantalMiljoenensteden += 1\t#teller ophogen zodra element gevonden is\n",
    "\n",
    "print(\"Aantal miljoenensteden is:\", aantalMiljoenensteden)"
   ]
  },
  {
   "cell_type": "markdown",
   "id": "ba501002",
   "metadata": {},
   "source": [
    "<p>Toelichting:</p>\n",
    "<ul>\n",
    "    <li>zet een teller op 0.</li>\n",
    "    <li>met een <code>for</code>-loop doorloop je ieder geneste dictionary (stad) in de dictionary <code>steden</code>;</li>\n",
    "    <li>als je in de geneste dictionary de waarde vindt dat aan de voorwaarde voldoet, dan hoog je de teller op.\n",
    "    </li>\n",
    "</ul>\n",
    "\n",
    "\n",
    "### Opdracht 16.10.1 Aantal Zuid-Amerikaanse landen tellen\n",
    "\n",
    "<p>Schrijf een programma dat telt hoeveel Zuid-Amerikaanse landen er in onze `steden`-dictionary voorkomen. Druk dit aantal af.</p>\n",
    "\n",
    "<p>De verwachte uitvoer is:<br>\n",
    "<i>Aantal Zuid-Amerikaanse steden is: 2</i></p>"
   ]
  },
  {
   "cell_type": "code",
   "execution_count": null,
   "id": "026426f8",
   "metadata": {},
   "outputs": [],
   "source": [
    "steden = {\n",
    "    \"Amsterdam\": {\"land\": \"Nederland\", \"inwoners\": 921000, \"werelddeel\": \"Europa\"},\n",
    "    \"Buenos Aires\": {\"land\": \"Argentinië\", \"inwoners\": 2890000, \"werelddeel\": \"Zuid-Amerika\"},\n",
    "    \"Rome\": {\"land\": \"Italië\", \"inwoners\": 2873000, \"werelddeel\": \"Europa\"},\n",
    "    \"São Paulo\": {\"land\": \"Brazilië\", \"inwoners\": 12330000, \"werelddeel\": \"Zuid-Amerika\"},\n",
    "    \"Tokyo\": {\"land\": \"Japan\", \"inwoners\": 13960000, \"werelddeel\": \"Azië\"}\n",
    "}"
   ]
  },
  {
   "cell_type": "markdown",
   "id": "94813439",
   "metadata": {},
   "source": [
    "<p>Bekijk <a href=\"https://rweeda.github.io/PythonIA/docs/IA_H10_oplossingen.html#opgave16101\" target=\"_blank\">hier</a> de voorbeelduitwerking.</p>\n",
    "\n",
    "### Opdracht 16.10.2 Aantal soorten in het Poolgebied\n",
    "\n",
    "<p>Bepaal hoeveel soorten er om het Poolgebied verblijven. Print dit.</p>\n",
    "\n",
    "<p>De verwachte uitvoer is:<br> <i>Aantal dieren in het Poolgebied: 2</i></p>"
   ]
  },
  {
   "cell_type": "code",
   "execution_count": null,
   "id": "2c1a2fb5",
   "metadata": {},
   "outputs": [],
   "source": [
    "dierentuin = {\n",
    "    \"Leeuw\": {\"soort\": \"Zoogdier\", \"verblijf\": \"Savanne\", \"dieet\": [\"vlees\"], \"aantal\": 2},\n",
    "    \"Pinguïn\": {\"soort\": \"Vogel\", \"verblijf\": \"Poolgebied\", \"dieet\": [\"vis\", \"kril\"], \"aantal\": 15},\n",
    "    \"Python\": {\"soort\": \"Reptiel\", \"verblijf\": \"Terrarium\", \"dieet\": [\"muizen\", \"ratten\"], \"aantal\": 3},\n",
    "    \"Olifant\": {\"soort\": \"Zoogdier\", \"verblijf\": \"Savanne\", \"dieet\": [\"planten\", \"fruit\", \"bladeren\"], \"aantal\": 1},\n",
    "    \"IJsbeer\": {\"soort\": \"Zoogdier\", \"verblijf\": \"Poolgebied\", \"dieet\": [\"vlees\"], \"aantal\": 2}\n",
    "}"
   ]
  },
  {
   "cell_type": "markdown",
   "id": "ab9e6089",
   "metadata": {},
   "source": [
    "<p>Bekijk <a href=\"https://rweeda.github.io/PythonIA/docs/IA_H10_oplossingen.html#opgave16102\" target=\"_blank\">hier</a> de voorbeelduitwerking.</p>\n",
    "\n",
    "\n",
    "<!--\n",
    "ANTWOORD:\n",
    "dierentuin = {\n",
    "    \"Leeuw\": {\"soort\": \"Zoogdier\", \"verblijf\": \"Savanne\", \"dieet\": [\"vlees\"], \"aantal\": 2},\n",
    "    \"Pinguïn\": {\"soort\": \"Vogel\", \"verblijf\": \"Poolgebied\", \"dieet\": [\"vis\", \"kril\"], \"aantal\": 15},\n",
    "    \"Python\": {\"soort\": \"Reptiel\", \"verblijf\": \"Terrarium\", \"dieet\": [\"muizen\", \"ratten\"], \"aantal\": 3},\n",
    "    \"Olifant\": {\"soort\": \"Zoogdier\", \"verblijf\": \"Savanne\", \"dieet\": [\"planten\", \"fruit\", \"bladeren\"], \"aantal\": 1},\n",
    "    \"IJsbeer\": {\"soort\": \"Zoogdier\", \"verblijf\": \"Poolgebied\", \"dieet\": [\"vlees\"], \"aantal\": 2}\n",
    "}\n",
    "\n",
    "aantal_poolgebied = 0\n",
    "\n",
    "for dier, info in dierentuin.items():\n",
    "    if info[\"verblijf\"] == \"Poolgebied\":\n",
    "        aantal_poolgebied += 1\n",
    "\n",
    "print(\"Aantal dieren in het Poolgebied:\", aantal_poolgebied)\n",
    "\n",
    "-->"
   ]
  }
 ],
 "metadata": {
  "language_info": {
   "name": "python"
  }
 },
 "nbformat": 4,
 "nbformat_minor": 5
}
