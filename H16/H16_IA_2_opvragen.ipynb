{
 "cells": [
  {
   "cell_type": "markdown",
   "id": "053c650d",
   "metadata": {},
   "source": [
    "<!-- Herschreven versie van H16_IA_2_opvragen.md -->\n",
    "\n",
    "\n",
    "\n",
    "## 2: Informatie opvragen uit een geneste dictionary\n",
    "\n",
    "<p>Je kunt gegevens van meerdere steden samen opslaan in een geneste dictionary.  Elke stad, zoals (<b>Amsterdam, Parijs, Berlijn</b>), heeft dan een eigen dictionary met specifieke informatie.<br>\n",
    "<img src=\"https://raw.githubusercontent.com/rweeda/PythonIA/main/img/dictionary_steden.png\" width=\"500\">\n",
    "\n",
    "\n",
    "<p>Met <code>steden[\"Parijs\"]</code> haal je de dictionary met gegevens over Parijs op. Door hier een tweede sleutel aan toe te voegen, zoals <b>land</b>, kun je een specifieke waarde opvragen:</p><p><code>steden[\"Parijs\"][\"land\"]</code>.</p>"
   ]
  },
  {
   "cell_type": "code",
   "execution_count": null,
   "id": "32e75b9f",
   "metadata": {},
   "outputs": [],
   "source": [
    "steden = {\n",
    "    \"Amsterdam\":{\"land\": \"Nederland\", \"inwoners\": 921000},\n",
    "    \"Parijs\": {\"land\": \"Frankrijk\", \"inwoners\": 2148000},\n",
    "    \"Berlijn\": {\"land\": \"Duitsland\", \"inwoners\": 3769000}\n",
    "}\n",
    "\n",
    "print(steden[\"Parijs\"])   # Geeft {\"land\": \"Frankrijk\", \"inwoners\": 2148000}\n",
    "print(steden[\"Parijs\"][\"land\"])   # Geeft \"Frankrijk\""
   ]
  },
  {
   "cell_type": "markdown",
   "id": "1e80dd8d",
   "metadata": {},
   "source": [
    "### Opdracht 16.2.1: Gegevens uit `dierentuin` printen\n",
    "\n",
    "<p>Hieronder staat in dictionary <code>dierentuin</code> gegevens over verschillende dieren in een dierentuin.\n",
    "<ol type=\"a\">\n",
    "<li>Print alle informatie over de <b>pinguïn</b>.</li>\n",
    "<li>Print het verblijf van de <b>pinguïn</b>.</li>\n",
    "</ol>\n",
    "\n",
    "<p>\n",
    "<p>De verwachte uitvoer is:<br>\n",
    "<i>\n",
    "Alle informatie over de Pinguïn: {'soort': 'Vogel', 'verblijf': 'Poolgebied', 'dieet': ['vis', 'kril'], 'aantal': 15}\n",
    "<br>\n",
    "Het verblijf van de Pinguïn is: Poolgebied</i>\n",
    "</p>"
   ]
  },
  {
   "cell_type": "code",
   "execution_count": null,
   "id": "00f66f27",
   "metadata": {},
   "outputs": [],
   "source": [
    "dierentuin = {\n",
    "    \"Leeuw\": {\"soort\": \"Zoogdier\", \"verblijf\": \"Savanne\", \"dieet\": [\"vlees\"], \"aantal\": 2},\n",
    "    \"Pinguïn\": {\"soort\": \"Vogel\", \"verblijf\": \"Poolgebied\", \"dieet\": [\"vis\", \"kril\"], \"aantal\": 15},\n",
    "    \"Python\": {\"soort\": \"Reptiel\", \"verblijf\": \"Terrarium\", \"dieet\": [\"muizen\", \"ratten\"], \"aantal\": 3}\n",
    "}"
   ]
  },
  {
   "cell_type": "markdown",
   "id": "d0fd4228",
   "metadata": {},
   "source": [
    "<p>Klik <a href=\"https://rweeda.github.io/PythonIA/docs/IA_H16_oplossingen.html#opgave1621\">hier</a> voor een voorbeelduitwerking.</p>\n",
    "<!-- ANTWOORD\n",
    "#b: Print alle informatie over de Pinguïn\n",
    "print(\"Alle informatie over de Pinguïn:\", dierentuin[\"Pinguïn\"])\n",
    "#c: Print de verblijf van de Pinguïn \n",
    "print(\"Het verblijf van de Pinguïn is:\", dierentuin[\"Pinguïn\"][\"verblijf\"])\n",
    "-->"
   ]
  }
 ],
 "metadata": {
  "language_info": {
   "name": "python"
  }
 },
 "nbformat": 4,
 "nbformat_minor": 5
}
