{
 "cells": [
  {
   "cell_type": "markdown",
   "id": "f454d93a",
   "metadata": {},
   "source": [
    "<!-- Verbeterde versie van H16_IA_12_dicSOM.md -->\n",
    "\n",
    "## 13: Som van waarden uit een dictionary to bepalen\n",
    "<p>Met een <code>for</code>-loop kun je ook bepalen wat de som van alle waarden in de dictionary is.\n",
    "    je gebruikt hiervoor een variabele om de som bij te houden. Je doorloopt de dictionary en elk getal tel je op bij de som. Om te beginnen is de som 0. Na afloop is dat de som van alle waarden in de dictionary.</p>\n",
    "\n",
    "<p>Met het voorbeeld hieronder bepalen we de som van het aantal inwoners:</p>"
   ]
  },
  {
   "cell_type": "code",
   "execution_count": null,
   "id": "ac8cb70e",
   "metadata": {},
   "outputs": [],
   "source": [
    "steden = {\n",
    "    \"Amsterdam\": {\"land\": \"Nederland\", \"inwoners\": 921000, \"werelddeel\": \"Europa\"},\n",
    "    \"Buenos Aires\": {\"land\": \"Argentinië\", \"inwoners\": 2890000, \"werelddeel\": \"Zuid-Amerika\"},\n",
    "    \"Rome\": {\"land\": \"Italië\", \"inwoners\": 2873000, \"werelddeel\": \"Europa\"},\n",
    "    \"São Paulo\": {\"land\": \"Brazilië\", \"inwoners\": 12330000, \"werelddeel\": \"Zuid-Amerika\"},\n",
    "    \"Tokyo\": {\"land\": \"Japan\", \"inwoners\": 13960000, \"werelddeel\": \"Azië\"}\n",
    "}\n",
    "\n",
    "som = 0\n",
    "for stad in steden:\n",
    "\tsom += steden[stad][\"inwoners\"]\n",
    "print(\"Het totaal aantal inwoners is:\", som)"
   ]
  },
  {
   "cell_type": "markdown",
   "id": "1162254b",
   "metadata": {},
   "source": [
    "### Opdracht 16.13.1 Totaal aantal dieren\n",
    "\n",
    "<p>Bepaal hoeveel dieren er in totaal in de dierentuin zijn.</p>\n",
    "\n",
    "<p>De verwachte uitvoer is:<br>\n",
    "<i>Het totaal aantal dieren is: 23</i></p>"
   ]
  },
  {
   "cell_type": "code",
   "execution_count": null,
   "id": "203f4ef9",
   "metadata": {},
   "outputs": [],
   "source": [
    "dierentuin = {\n",
    "    \"Leeuw\": {\"soort\": \"Zoogdier\", \"verblijf\": \"Savanne\", \"dieet\": [\"vlees\"], \"aantal\": 2},\n",
    "    \"Pinguïn\": {\"soort\": \"Vogel\", \"verblijf\": \"Poolgebied\", \"dieet\": [\"vis\", \"kril\"], \"aantal\": 15},\n",
    "    \"Python\": {\"soort\": \"Reptiel\", \"verblijf\": \"Terrarium\", \"dieet\": [\"muizen\", \"ratten\"], \"aantal\": 3},\n",
    "    \"Olifant\": {\"soort\": \"Zoogdier\", \"verblijf\": \"Savanne\", \"dieet\": [\"planten\", \"fruit\", \"bladeren\"], \"aantal\": 1},\n",
    "    \"IJsbeer\": {\"soort\": \"Zoogdier\", \"verblijf\": \"Poolgebied\", \"dieet\": [\"vlees\"], \"aantal\": 2}\n",
    "}"
   ]
  },
  {
   "cell_type": "markdown",
   "id": "ab56ca8f",
   "metadata": {},
   "source": [
    "<p>Bekijk <a href=\"https://rweeda.github.io/PythonIA/docs/IA_H16_oplossingen.html#opgave16131\" target=\"_blank\">hier</a> de voorbeelduitwerking.</p>\n",
    "\n",
    "<!-- ANTWOORD:\n",
    "totaal = 0\n",
    "for dier in dierentuin:\n",
    "    totaal += dierentuin[dier][\"aantal\"]\n",
    "\n",
    "print(\"Het totaal aantal dieren is:\", totaal)\n",
    "-->\n",
    "\n",
    "\n",
    "### Opdracht 16.13.2 Aantal zoordieren\n",
    "\n",
    "<p>Bepaal hoeveel zoogdieren dierentuin heeft.</p>\n",
    "\n",
    "<p>De verwachte uitvoer is:<br>\n",
    "<i>Het aantal zoogdieren in de dierentuin is: 5</i></p>"
   ]
  },
  {
   "cell_type": "code",
   "execution_count": null,
   "id": "ff3b6cb0",
   "metadata": {},
   "outputs": [],
   "source": [
    "dierentuin = {\n",
    "    \"Leeuw\": {\"soort\": \"Zoogdier\", \"verblijf\": \"Savanne\", \"dieet\": [\"vlees\"], \"aantal\": 2},\n",
    "    \"Pinguïn\": {\"soort\": \"Vogel\", \"verblijf\": \"Poolgebied\", \"dieet\": [\"vis\", \"kril\"], \"aantal\": 15},\n",
    "    \"Python\": {\"soort\": \"Reptiel\", \"verblijf\": \"Terrarium\", \"dieet\": [\"muizen\", \"ratten\"], \"aantal\": 3},\n",
    "    \"Olifant\": {\"soort\": \"Zoogdier\", \"verblijf\": \"Savanne\", \"dieet\": [\"planten\", \"fruit\", \"bladeren\"], \"aantal\": 1},\n",
    "    \"IJsbeer\": {\"soort\": \"Zoogdier\", \"verblijf\": \"Poolgebied\", \"dieet\": [\"vlees\"], \"aantal\": 2}\n",
    "}"
   ]
  },
  {
   "cell_type": "markdown",
   "id": "8c9ae2ed",
   "metadata": {},
   "source": [
    "<p>Bekijk <a href=\"https://rweeda.github.io/PythonIA/docs/IA_H16_oplossingen.html#opgave16132\" target=\"_blank\">hier</a> de voorbeelduitwerking.</p>\n",
    "\n",
    "<!-- ANTWOORD:\n",
    "aantal_zoogdieren = 0\n",
    "for dier in dierentuin:\n",
    "    if dierentuin[dier][\"soort\"] == \"Zoogdier\":\n",
    "        aantal_zoogdieren += dierentuin[dier][\"aantal\"]\n",
    "print(\"Aantal zoogdieren in de dierentuin:\", aantal_zoogdieren)\n",
    "# Het aantal zoogdieren in de dierentuin is: 5\n",
    "-->"
   ]
  }
 ],
 "metadata": {
  "language_info": {
   "name": "python"
  }
 },
 "nbformat": 4,
 "nbformat_minor": 5
}
