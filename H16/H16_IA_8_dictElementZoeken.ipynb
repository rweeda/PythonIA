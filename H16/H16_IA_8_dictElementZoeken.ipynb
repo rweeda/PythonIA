{
 "cells": [
  {
   "cell_type": "markdown",
   "id": "0dc26769",
   "metadata": {},
   "source": [
    "<!-- Verbeterde versie van H16_IA_8_dictElementZoeken.md -->\n",
    "\n",
    "## 8: Dictionary doorzoeken naar een bepaalde waarde\n",
    "\n",
    "## Zoeken naar een sleutelwaarde\n",
    "Het zoeken naar een sleutelwaarde kan met <code>in</code>."
   ]
  },
  {
   "cell_type": "code",
   "execution_count": null,
   "id": "31933567",
   "metadata": {},
   "outputs": [],
   "source": [
    "steden = {\n",
    "    \"Amsterdam\":{\"land\": \"Nederland\", \"inwoners\": 921000},\n",
    "    \"Parijs\": {\"land\": \"Frankrijk\", \"inwoners\": 2148000},\n",
    "    \"Berlijn\": {\"land\": \"Duitsland\", \"inwoners\": 3769000}\n",
    "}\n",
    "if \"Parijs\" in steden:\t# Is 'Parijs' een sleutel in de dictionary? \n",
    "    print(\"Parijs in steden!\")\n",
    "else:\n",
    "    print(\"Parijs niet in steden!\")"
   ]
  },
  {
   "cell_type": "markdown",
   "id": "7b762beb",
   "metadata": {},
   "source": [
    "## Zoeken of een specifiek waarde voldoet\n",
    "<p>Om een geneste dictionary te doorzoeken of er een specifieke waarde in voorkomt, gebruik je een logische vlag (op dezelfde manier als in <i>Onderwerp '7.3 Logische vlag'</i>). Je houdt een Boolean <code>gevonden</code> bij, die eerst <code>False</code> is. Je doorloopt de dictionary en als je de waarde vindt, zet je de vlag op <code>True</code>.</p>\n",
    "\n",
    "\n",
    "\n",
    "<p><img src=\"https://course.cs.ru.nl/pythonVO/img/16.3_genesteDict_voorkomensTellen_stroomdiagram.png\" alt=\"Figuur: Stroomdiagram zoeken\" width=\"400\"></p>\n",
    "\n",
    "<p>Om te bepalen of een waarde in een geneste dictionary voorkomt, moet je eerst met de sleutel de geneste dictionary ophalen, en dan daarin kijken of een bepaalde waarde voorkomt.</p>\n",
    "\n",
    "\n",
    "<p>In het voorbeeld hieronder bekijken we er een waarde voorkomt die voldoet aan een bepaalde voorwaarde. In dit geval zoeken we of er een stad is waarvan het aantal <code>inwoners</code> minder is dan 1 miljoen.</p>"
   ]
  },
  {
   "cell_type": "code",
   "execution_count": null,
   "id": "ecca2c80",
   "metadata": {},
   "outputs": [],
   "source": [
    "steden = {\n",
    "    \"Amsterdam\":{\"land\": \"Nederland\", \"inwoners\": 921000},\n",
    "    \"Parijs\": {\"land\": \"Frankrijk\", \"inwoners\": 2148000},\n",
    "    \"Berlijn\": {\"land\": \"Duitsland\", \"inwoners\": 3769000}\n",
    "}\n",
    "\n",
    "gevonden = False\t#logische vlag: waarde nu nog niet gevonden\n",
    "\n",
    "for stad_info in steden.values(): # loop door de waardes van de dictionary\n",
    "    if stad_info[\"inwoners\"] < 1000000:  #als de waarde aan de voorwaarde voldoet\n",
    "        gevonden = True # zet de vlag op True\n",
    "\n",
    "if gevonden == True: # als de vlag op True staat\n",
    "\tprint(\"Stad met minder dan 1 miljoen inwoners gevonden!\") # print bevestiging dat waarde is gevonden\n",
    "else:\n",
    "\tprint(\"Geen stad met minder dan 1 miljoen inwoners gevonden.\") # of print dat de waarde niet is gevonden"
   ]
  },
  {
   "cell_type": "markdown",
   "id": "dedd1bc8",
   "metadata": {},
   "source": [
    "<p>Toelichting:\n",
    "<ul>\n",
    "    <li>om te beginnen is de waarde nog niet gevonden, dus <code>gevonden</code> is\n",
    "        <code>False</code>;\n",
    "    <li>we doorlopen de dictionary met een <code>for</code>-loop;</li>\n",
    "    <li><code>steden.values()</code> geeft alle waardes van de dictionary (dus de dictionaries van Amsterdam, Parijs en Berlijn);\n",
    "    <li>we controleren de voorwaarde, it dit geval met <code>stad_info[\"inwoners\"] < 1000000\"</code>;\n",
    "    </li>\n",
    "    <li>komen we de een waarde tegenkomen die aan de voorwaarde voldoet, dan wordt <code>gevonden</code>\n",
    "        <code>True</code>;\n",
    "    </li>\n",
    "    <li>is <code>gevonden</code> na afloop nog steeds <code>False</code>, dan weet je dat er geen waarde in de dictionary voorkomt die aan de voorwaarde voldoet.</li>\n",
    "</ul>\n",
    "</p>\n",
    "\n",
    "\n",
    "### Opdracht 16.8.1 Zoeken of er een waarde is die aan een voorwaarde voldoet\n",
    "\n",
    "<p>Bepaal of minstens één stad in de dictionary is die meer dan 2 miljoen (2000000) inwoners heeft, en print dan of dat zo is of niet.</p>"
   ]
  },
  {
   "cell_type": "code",
   "execution_count": null,
   "id": "41e5df2e",
   "metadata": {},
   "outputs": [],
   "source": [
    "steden = {\n",
    "    \"Amsterdam\": {\"land\": \"Nederland\", \"inwoners\": 921000, \"werelddeel\": \"Europa\"},\n",
    "    \"Buenos Aires\": {\"land\": \"Argentinië\", \"inwoners\": 2890000, \"werelddeel\": \"Zuid-Amerika\"},\n",
    "    \"Rome\": {\"land\": \"Italië\", \"inwoners\": 2873000, \"werelddeel\": \"Europa\"},\n",
    "    \"São Paulo\": {\"land\": \"Brazilië\", \"inwoners\": 12330000, \"werelddeel\": \"Zuid-Amerika\"},\n",
    "    \"Tokyo\": {\"land\": \"Japan\", \"inwoners\": 13960000, \"werelddeel\": \"Azië\"}\n",
    "}"
   ]
  },
  {
   "cell_type": "markdown",
   "id": "81b99d28",
   "metadata": {},
   "source": [
    "<p>Klik <a href=\"https://rweeda.github.io/PythonIA/docs/IA_H15_oplossingen.html#opgave1681\">hier</a> voor een voorbeelduitwerking.</p>\n",
    "<!-- ANTWOORD\n",
    "steden = {\n",
    "    \"Amsterdam\": {\"land\": \"Nederland\", \"inwoners\": 921000, \"werelddeel\": \"Europa\"},\n",
    "    \"Buenos Aires\": {\"land\": \"Argentinië\", \"inwoners\": 2890000, \"werelddeel\": \"Zuid-Amerika\"},\n",
    "    \"Rome\": {\"land\": \"Italië\", \"inwoners\": 2873000, \"werelddeel\": \"Europa\"},\n",
    "    \"São Paulo\": {\"land\": \"Brazilië\", \"inwoners\": 12330000, \"werelddeel\": \"Zuid-Amerika\"},\n",
    "    \"Tokyo\": {\"land\": \"Japan\", \"inwoners\": 13960000, \"werelddeel\": \"Azië\"}\n",
    "}\n",
    "gevonden = False\t#logische vlag: waarde nu nog niet gevonden\n",
    "\n",
    "for stad_info in steden.values():\n",
    "    if stad_info[\"inwoners\"] > 2000000:  #als de waarde aan de voorwaarde voldoet\n",
    "        gevonden = True # zet de vlag op True\n",
    "\n",
    "if gevonden == True: # als de vlag op True staat\n",
    "\tprint(\"Stad met meer dan 2 miljoen inwoners gevonden!\") # print bevestiging dat waarde is gevonden\n",
    "else:\n",
    "\tprint(\"Geen stad met meer dan 2 miljoen inwoners gevonden.\") # of print dat de waarde niet is gevonden\n",
    "\n",
    "-->\n",
    "\n",
    "\n",
    "### Opdracht 16.8.2 Check op kleine groepen\n",
    "\n",
    "<p>Schrijf code die met een logische vlag <code>gevonden</code> de dierentuin dictionary doorloopt, en deze op <code>True</code> zet als er voor een diersoort 3 of minder dieren zijn. Na afloop van de loop druk je af of er een waarde is gevonden dat aan de voorwaarde voldoet (dit laatste is al voor je voorgegeven).</p>\n",
    "\n",
    "\n",
    "<p>De verwachte uitvoer is:<br>\n",
    "<i> Diersoort met 3 of minder gevonden!</i></o>"
   ]
  },
  {
   "cell_type": "code",
   "execution_count": null,
   "id": "15497b73",
   "metadata": {},
   "outputs": [],
   "source": [
    "dierentuin = {\n",
    "    \"Leeuw\": {\"soort\": \"Zoogdier\", \"verblijf\": \"Savanne\", \"dieet\": [\"vlees\"], \"aantal\": 2},\n",
    "    \"Pinguïn\": {\"soort\": \"Vogel\", \"verblijf\": \"Poolgebied\", \"dieet\": [\"vis\", \"kril\"], \"aantal\": 15},\n",
    "    \"Python\": {\"soort\": \"Reptiel\", \"verblijf\": \"Terrarium\", \"dieet\": [\"muizen\", \"ratten\"], \"aantal\": 3}\n",
    "}\n",
    "# HIER JE CODE SCHRIJVEN\n",
    "\n",
    "\n",
    "\n",
    "\n",
    "\n",
    "\n",
    "\n",
    "if gevonden == True: # als de vlag op True staat\n",
    "\tprint(\"Diersoort met 3 of minder gevonden!\") # print bevestiging dat waarde is gevonden\n",
    "else:\n",
    "\tprint(\"Geen diersoort met 3 of minder gevonden.\") # of print dat de waarde niet is gevonden"
   ]
  },
  {
   "cell_type": "markdown",
   "id": "0cfbe57b",
   "metadata": {},
   "source": [
    "<p>Bekijk <a href=\"https://rweeda.github.io/PythonIA/docs/IA_H10_oplossingen.html#opgave1682\" target=\"_blank\">hier</a> de voorbeelduitwerking.</p>\n"
   ]
  }
 ],
 "metadata": {
  "language_info": {
   "name": "python"
  }
 },
 "nbformat": 4,
 "nbformat_minor": 5
}
