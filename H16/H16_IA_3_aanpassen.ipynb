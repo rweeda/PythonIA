{
 "cells": [
  {
   "cell_type": "markdown",
   "id": "020648d2",
   "metadata": {},
   "source": [
    "<!--H16_aanpassen-->\n",
    "## 3: Een waarde in een geneste dictionary aanpassen\n",
    "\n",
    "Je kunt ook een waarde aanpassen in een geneste dictionary. Dit doe je door met vierkante haken aan te geven welke sleutels je nodig hebt om bij de juiste waarde te komen. Daarna geef je met een '='-teken aan wat de nieuwe waarde wordt. Bijvoorbeeld, met de volgende regel wordt het aantal inwoners van Parijs aangepast:<br><br>\n",
    "<code>steden[\"Parijs\"][\"inwoners\"] = 2200000</code>\n",
    "\n",
    "### Opdracht 16.3.1 Aantal inwoners van Berlijn aanpassen\n",
    "\n",
    "<p>Schrijf code om \"Duitsland\" te vervangen door de afkorting \"DL\". Print daarna het land om te controleren of de wijziging is doorgevoerd.</p>\n",
    "\n",
    "<p>De verwachte uitvoer is:<br><i>DL</i></p>"
   ]
  },
  {
   "cell_type": "code",
   "execution_count": null,
   "id": "4aa1fe71",
   "metadata": {},
   "outputs": [],
   "source": [
    "steden = {\n",
    "    \"Amsterdam\":{\"land\": \"Nederland\", \"inwoners\": 921000},\n",
    "    \"Parijs\": {\"land\": \"Frankrijk\", \"inwoners\": 2148000},\n",
    "    \"Berlijn\": {\"land\": \"Duitsland\", \"inwoners\": 3769000},\n",
    "}\n",
    "\n",
    "steden[\"Berlijn\"][\"land\"] = \"DL\"\n",
    "print(steden[\"Berlijn\"][\"land\"])"
   ]
  },
  {
   "cell_type": "markdown",
   "id": "cf809981",
   "metadata": {},
   "source": [
    "<p>Klik <a href=\"https://rweeda.github.io/PythonIA/docs/IA_H16_oplossingen.html#opgave1631\">hier</a> voor een voorbeelduitwerking.</p>\n",
    "<!-- steden[\"Berlijn\"][\"land\"] = \"DL\"\n",
    "print(steden[\"Berlijn\"][\"land\"])   # Geeft \"DL\"\n",
    "-->\n",
    "\n",
    "\n",
    "### Opdracht 16.3.2: Er is een Python geboren\n",
    "\n",
    "<p>Mooi nieuws, in de dierentuin is een Python geboren.</p>\n",
    "\n",
    "<ol type=\"a\">\n",
    "<li>Pas het aantal Pythons aan naar 4;</li>\n",
    "<li>Print het aantal Pythons.</li>\n",
    "</ol>\n",
    "\n",
    "<p>De verwachte uitvoer is:<br><i>\n",
    "{'Leeuw': {'soort': 'Zoogdier', 'verblijf': 'Savanne', 'dieet': ['vlees'], 'aantal': 2}, 'Pinguïn': {'soort': 'Vogel', 'verblijf': 'Poolgebied', 'dieet': ['vis', 'kril'], 'aantal': 15}, 'Python': {'soort': 'Reptiel', 'verblijf': 'Terrarium', 'dieet': ['muizen', 'ratten'], 'aantal': 4}}</i></p>"
   ]
  },
  {
   "cell_type": "code",
   "execution_count": null,
   "id": "1f8732b3",
   "metadata": {},
   "outputs": [],
   "source": [
    "dierentuin = {\n",
    "    \"Leeuw\": {\"soort\": \"Zoogdier\", \"verblijf\": \"Savanne\", \"dieet\": [\"vlees\"], \"aantal\": 2},\n",
    "    \"Pinguïn\": {\"soort\": \"Vogel\", \"verblijf\": \"Poolgebied\", \"dieet\": [\"vis\", \"kril\"], \"aantal\": 15},\n",
    "    \"Python\": {\"soort\": \"Reptiel\", \"verblijf\": \"Terrarium\", \"dieet\": [\"muizen\", \"ratten\"], \"aantal\": 3}\n",
    "}"
   ]
  },
  {
   "cell_type": "markdown",
   "id": "842b15a2",
   "metadata": {},
   "source": [
    "<p>Klik <a href=\"https://rweeda.github.io/PythonIA/docs/IA_H16_oplossingen.html#opgave1632\">hier</a> voor een voorbeelduitwerking.</p>\n",
    "<!-- ANTWOORD\n",
    "# Pas het aantal Pythons aan naar 4\n",
    "dierentuin[\"Python\"][\"aantal\"] = 4\n",
    "print(dierentuin)\n",
    "-->"
   ]
  }
 ],
 "metadata": {
  "language_info": {
   "name": "python"
  }
 },
 "nbformat": 4,
 "nbformat_minor": 5
}
