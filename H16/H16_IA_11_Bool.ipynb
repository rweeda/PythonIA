{
 "cells": [
  {
   "cell_type": "markdown",
   "id": "093d16c6",
   "metadata": {},
   "source": [
    "<!-- Verbeterde versie van H16_IA_11_Bool.md -->\n",
    "\n",
    "## 11: Logische opertoren AND, OR en NOT\n",
    "\n",
    "<p>Met <code>and</code>, <code>or</code> and <code>not</code> kun je condities samenstellen, bijvoorbeeld als je zoekt naar bepaalde informatie. Deze heten *logische operatoren*.</p>\n",
    "\n",
    "<p>In het voorbeeld hieronder zie je het verchil tussen een <code>and</code> en een <code>or</code>. Als je de code uitvoerd zie je dat de <code>and</code> maar één stad oplevert, terwijl je met de <code>or</code> alle steden krijgt.</p>"
   ]
  },
  {
   "cell_type": "code",
   "execution_count": null,
   "id": "7869f83e",
   "metadata": {},
   "outputs": [],
   "source": [
    "steden = {\n",
    "    \"Amsterdam\": {\"land\": \"Nederland\", \"inwoners\": 921000, \"werelddeel\": \"Europa\"},\n",
    "    \"Buenos Aires\": {\"land\": \"Argentinië\", \"inwoners\": 2890000, \"werelddeel\": \"Zuid-Amerika\"},\n",
    "    \"Rome\": {\"land\": \"Italië\", \"inwoners\": 2873000, \"werelddeel\": \"Europa\"},\n",
    "    \"São Paulo\": {\"land\": \"Brazilië\", \"inwoners\": 12330000, \"werelddeel\": \"Zuid-Amerika\"},\n",
    "    \"Tokyo\": {\"land\": \"Japan\", \"inwoners\": 13960000, \"werelddeel\": \"Azië\"},\n",
    "\n",
    "}\n",
    "\n",
    "for stad, gegevens in steden.items():\t#voor elke stad in de dictionary steden\n",
    "    if steden[stad][\"inwoners\"] > 1000000 and steden[stad][\"werelddeel\"]==\"Europa\": # steden met meer dan 1 miljoen inwoners en in Europa\n",
    "        print(stad, \"heeft meer dan 1 miljoen inwoners EN ligt in Europa.\")\n",
    "\n",
    "for stad, gegevens in steden.items():\t#voor elke stad in de dictionary steden\n",
    "    if steden[stad][\"inwoners\"] > 1000000 or steden[stad][\"werelddeel\"]==\"Europa\":\t# steden met meer dan 1 miljoen inwoners of in Europa\n",
    "        print(stad, \"heeft meer dan 1 miljoen inwoners OF ligt in Europa.\")"
   ]
  },
  {
   "cell_type": "markdown",
   "id": "10969e34",
   "metadata": {},
   "source": [
    "<p>In het voorbeeld hieronder zie wat er gebeurt als je een <code>not</code> combineert met een <code>and</code> of <code>or</code>.</p>"
   ]
  },
  {
   "cell_type": "code",
   "execution_count": null,
   "id": "52acf802",
   "metadata": {},
   "outputs": [],
   "source": [
    "steden = {\n",
    "    \"Amsterdam\": {\"land\": \"Nederland\", \"inwoners\": 921000, \"werelddeel\": \"Europa\"},\n",
    "    \"Buenos Aires\": {\"land\": \"Argentinië\", \"inwoners\": 2890000, \"werelddeel\": \"Zuid-Amerika\"},\n",
    "    \"Rome\": {\"land\": \"Italië\", \"inwoners\": 2873000, \"werelddeel\": \"Europa\"},\n",
    "    \"São Paulo\": {\"land\": \"Brazilië\", \"inwoners\": 12330000, \"werelddeel\": \"Zuid-Amerika\"},\n",
    "    \"Tokyo\": {\"land\": \"Japan\", \"inwoners\": 13960000, \"werelddeel\": \"Azië\"},\n",
    "\n",
    "}\n",
    "\n",
    "for stad, gegevens in steden.items():\t#voor elke stad in de dictionary steden\n",
    "    if steden[stad][\"inwoners\"] > 1000000 and not steden[stad][\"werelddeel\"]==\"Europa\": #steden met meer dan 1 miljoen inwoners en niet in Europa\n",
    "        print(stad, \"heeft meer dan 1 miljoen inwoners EN ligt NIET in Europa.\")\n",
    "\n",
    "for stad, gegevens in steden.items():\t#voor elke stad in de dictionary steden\n",
    "    if steden[stad][\"inwoners\"] > 1000000 or not steden[stad][\"werelddeel\"]==\"Europa\": # steden met meer dan 1 miljoen inwoners of niet in Europa\n",
    "        print(stad, \"heeft meer dan 1 miljoen inwoners OF ligt NIET in Europa.\")"
   ]
  },
  {
   "cell_type": "markdown",
   "id": "acb29555",
   "metadata": {},
   "source": [
    "### 16.11.1 Opdracht logische operatoren <code>and</code> en <code>or</code>\n",
    "\n",
    "Schrijf een programma dat de diersoorten print die aan de volgende eisen voldoet:\n",
    "<ol type=\"a\">\n",
    "<li>Het is een zoogdier en het verblijft in de savanne. Tip: hier zijn er twee van.\n",
    "<li>Het is een zoogdier of het vervlijft in de savanne. Tip: hier zijn er 6 van.\n",
    "</ol>\n",
    "\n",
    "<!--\n",
    "<p>Verwachte uitvoer:\n",
    "<i>\n",
    "    Leeuw is een zoogdier EN verblijft in de savanne.\n",
    "    Olifant is een zoogdier EN verblijft in de savanne.\n",
    "    Leeuw is een zoogdier OF verblijft in de savanne.\n",
    "    Olifant is een zoogdier OF verblijft in de savanne.\n",
    "    IJsbeer is een zoogdier OF verblijft in de savanne.\n",
    "    Leeuw is een zoogdier OF ( verblijft in de savanne EN er zijn meer dan 3 dieren ).\n",
    "    Olifant is een zoogdier OF ( verblijft in de savanne EN er zijn meer dan 3 dieren ).\n",
    "    IJsbeer is een zoogdier OF ( verblijft in de savanne EN er zijn meer dan 3 dieren ).\n",
    "    </i>\n",
    "-->"
   ]
  },
  {
   "cell_type": "code",
   "execution_count": null,
   "id": "666b495c",
   "metadata": {},
   "outputs": [],
   "source": [
    "dierentuin = {\n",
    "    \"Leeuw\": {\"soort\": \"Zoogdier\", \"verblijf\": \"Savanne\", \"dieet\": [\"vlees\"], \"aantal\": 2},\n",
    "    \"Pinguïn\": {\"soort\": \"Vogel\", \"verblijf\": \"Poolgebied\", \"dieet\": [\"vis\", \"kril\"], \"aantal\": 15},\n",
    "    \"Python\": {\"soort\": \"Reptiel\", \"verblijf\": \"Terrarium\", \"dieet\": [\"muizen\", \"ratten\"], \"aantal\": 3},\n",
    "    \"Olifant\": {\"soort\": \"Zoogdier\", \"verblijf\": \"Savanne\", \"dieet\": [\"planten\", \"fruit\", \"bladeren\"], \"aantal\": 1},\n",
    "    \"IJsbeer\": {\"soort\": \"Zoogdier\", \"verblijf\": \"Poolgebied\", \"dieet\": [\"vlees\"], \"aantal\": 2}\n",
    "}"
   ]
  },
  {
   "cell_type": "markdown",
   "id": "e735c6bf",
   "metadata": {},
   "source": [
    "<p>Bekijk <a href=\"https://rweeda.github.io/PythonIA/docs/IA_H10_oplossingen.html#opgave16111\" target=\"_blank\">hier</a> de voorbeelduitwerking.</p>\n",
    "\n",
    "<!-- ANTWOORD\n",
    "for diersoort, gegevens in dierentuin.items():\t#voor elk dier in de dictionary dierentuin\n",
    "    if gegevens[\"soort\"] == \"Zoogdier\" and gegevens[\"verblijf\"] == \"Savanne\":\t#dieren die zoogdieren zijn EN in de savanne verblijven\n",
    "        print(diersoort, \"is een zoogdier EN verblijft in de savanne.\")\n",
    "\n",
    "for diersoort, gegevens in dierentuin.items():\t#voor elk dier in de dictionary dierentuin\n",
    "    if gegevens[\"soort\"] == \"Zoogdier\" or gegevens[\"verblijf\"] == \"Savanne\":\t#dieren die zoogdieren zijn OF in de savanne verblijven\n",
    "        print(diersoort, \"is een zoogdier OF verblijft in de savanne.\")\n",
    "        -->"
   ]
  }
 ],
 "metadata": {},
 "nbformat": 4,
 "nbformat_minor": 5
}
