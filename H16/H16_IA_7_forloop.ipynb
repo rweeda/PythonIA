{
 "cells": [
  {
   "cell_type": "markdown",
   "id": "dd779366",
   "metadata": {},
   "source": [
    "<!-- Herschreven versie van H16_IA_7_forloop.md -->\n",
    "\n",
    "## 7: Een geneste dictionary doorlopen met een <code>for</code>-loop\n",
    "\n",
    "<p>Met een <code>for</code>-loop en <code>.items()</code> kun je alle sleutels één voor één doorlopen, om bijvoorbeeld de bijbehorende dictionary af te drukken:</p>"
   ]
  },
  {
   "cell_type": "code",
   "execution_count": null,
   "id": "34584301",
   "metadata": {},
   "outputs": [],
   "source": [
    "steden = {\n",
    "    \"Amsterdam\": {\"land\": \"Nederland\", \"inwoners\": 921000},\n",
    "    \"Parijs\": {\"land\": \"Frankrijk\", \"inwoners\": 2148000},\n",
    "    \"Berlijn\": {\"land\": \"Duitsland\", \"inwoners\": 3769000}\n",
    "}\n",
    "\n",
    "# Door de steden lopen en alle gegevens printen\n",
    "for stad, gegevens in steden.items():\n",
    "    print( stad,  \"ligt in\", gegevens['land'], \"en heeft\", gegevens['inwoners'], \"inwoners.\")"
   ]
  },
  {
   "cell_type": "markdown",
   "id": "f08c5cfe",
   "metadata": {},
   "source": [
    "### Opdracht 16.7.1 Geneste dictionary doorlopen met een for-loop\n",
    "<p>Gebruik een <code>for</code>-loop om alle dieren uit de dierentuin dictionary en hun gegevens netjes af te drukken.</p>\n",
    "\n",
    "<p>De verwachte uitvoer is:<br>\n",
    "<i>Alle dieren:<br>\n",
    "Leeuw is van het soort Zoogdier leeft in Savanne en er zijn er 2 van.<br>\n",
    "Pinguïn is van het soort Vogel leeft in Poolgebied en er zijn er 15 van.<br>\n",
    "Python is van het soort Reptiel leeft in Terrarium en er zijn er 3 van.</i></p>"
   ]
  },
  {
   "cell_type": "code",
   "execution_count": null,
   "id": "04e4e896",
   "metadata": {},
   "outputs": [],
   "source": [
    "dierentuin = {\n",
    "    \"Leeuw\": {\"soort\": \"Zoogdier\", \"verblijf\": \"Savanne\", \"dieet\": [\"vlees\"], \"aantal\": 2},\n",
    "    \"Pinguïn\": {\"soort\": \"Vogel\", \"verblijf\": \"Poolgebied\", \"dieet\": [\"vis\", \"kril\"], \"aantal\": 15},\n",
    "    \"Python\": {\"soort\": \"Reptiel\", \"verblijf\": \"Terrarium\", \"dieet\": [\"muizen\", \"ratten\"], \"aantal\": 3}\n",
    "}"
   ]
  },
  {
   "cell_type": "markdown",
   "id": "8390c643",
   "metadata": {},
   "source": [
    "<p>Klik <a href=\"https://rweeda.github.io/PythonIA/docs/IA_H15_oplossingen.html#opgave1671\">hier</a> voor een voorbeelduitwerking.</p>"
   ]
  }
 ],
 "metadata": {
  "language_info": {
   "name": "python"
  }
 },
 "nbformat": 4,
 "nbformat_minor": 5
}
