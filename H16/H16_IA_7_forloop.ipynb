{
 "cells": [
  {
   "cell_type": "markdown",
   "id": "dd779366",
   "metadata": {},
   "source": [
    "<!-- Herschreven versie van H16_IA_7_forloop.md -->\n",
    "\n",
    "## 7: Een geneste dictionary doorlopen met een <code>for</code>-loop\n",
    "\n",
    "<p>Met een <code>for</code>-loop en <code>.items()</code> kun je alle sleutels één voor één doorlopen, om bijvoorbeeld de bijbehorende dictionary af te drukken:</p>"
   ]
  },
  {
   "cell_type": "code",
   "execution_count": null,
   "id": "34584301",
   "metadata": {},
   "outputs": [],
   "source": [
    "steden = {\n",
    "    \"Amsterdam\": {\"land\": \"Nederland\", \"inwoners\": 921000},\n",
    "    \"Parijs\": {\"land\": \"Frankrijk\", \"inwoners\": 2148000},\n",
    "    \"Berlijn\": {\"land\": \"Duitsland\", \"inwoners\": 3769000}\n",
    "}\n",
    "\n",
    "# Door de steden lopen en alle gegevens printen\n",
    "for stad, gegevens in steden.items():\n",
    "    print( stad,  \"ligt in\", gegevens['land'], \"en heeft\", gegevens['inwoners'], \"inwoners.\")"
   ]
  },
  {
   "cell_type": "markdown",
   "id": "f08c5cfe",
   "metadata": {},
   "source": [
    "### 16.7.1 Opdracht geneste dictionary doorlopen met een for-loop\n",
    "\n",
    "Gebruik een <code>for</code>-loop om alle dieren uit de dierentuin dictioanry en hun gegevens netjes af te drukken."
   ]
  },
  {
   "cell_type": "code",
   "execution_count": null,
   "id": "04e4e896",
   "metadata": {},
   "outputs": [],
   "source": [
    "dierentuin = {\n",
    "    \"Leeuw\": {\"soort\": \"Zoogdier\", \"verblijf\": \"Savanne\", \"dieet\": [\"vlees\"], \"aantal\": 2},\n",
    "    \"Pinguïn\": {\"soort\": \"Vogel\", \"verblijf\": \"Poolgebied\", \"dieet\": [\"vis\", \"kril\"], \"aantal\": 15},\n",
    "    \"Python\": {\"soort\": \"Reptiel\", \"verblijf\": \"Terrarium\", \"dieet\": [\"muizen\", \"ratten\"], \"aantal\": 3}\n",
    "}"
   ]
  },
  {
   "cell_type": "markdown",
   "id": "8390c643",
   "metadata": {},
   "source": [
    "<p>Klik <a href=\"https://rweeda.github.io/PythonIA/docs/IA_H15_oplossingen.html#opgave1671\">hier</a> voor een voorbeelduitwerking.</p>\n",
    "<!-- ANTWOORD\n",
    "# Druk de informatie van alle dieren (netjes) af\n",
    "print(\"Alle dieren:\")\n",
    "for dier, gegevens in dierentuin.items():\n",
    "    print(dier, \"is van het soort\", gegevens['soort'], \"leeft in\", gegevens['verblijf'], \"en er zijn er\", gegevens['aantal'], \"van.\")\n",
    "\n",
    "-->"
   ]
  }
 ],
 "metadata": {},
 "nbformat": 4,
 "nbformat_minor": 5
}
