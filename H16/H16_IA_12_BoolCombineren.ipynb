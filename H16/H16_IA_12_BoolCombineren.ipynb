{
 "cells": [
  {
   "cell_type": "markdown",
   "id": "ee2ac36b",
   "metadata": {},
   "source": [
    "## 12: Logische operatoren combineren\n",
    "\n",
    "<p>Gebruik je meer dan twee logische operatoren, gebruik dan altijd haakjes zodat je de juiste informatie krijgt. In het voorbeeld hieronder zie je dat <code>(A and B) or C</code>  wat anders betekend dan <code>A and (B or C)</code>. Voer het programma uit.</p>"
   ]
  },
  {
   "cell_type": "code",
   "execution_count": null,
   "id": "02737ddf",
   "metadata": {},
   "outputs": [],
   "source": [
    "steden = {\n",
    "    \"Amsterdam\": {\"land\": \"Nederland\", \"inwoners\": 921000, \"werelddeel\": \"Europa\"},\n",
    "    \"Buenos Aires\": {\"land\": \"Argentinië\", \"inwoners\": 2890000, \"werelddeel\": \"Zuid-Amerika\"},\n",
    "    \"Rome\": {\"land\": \"Italië\", \"inwoners\": 2873000, \"werelddeel\": \"Europa\"},\n",
    "    \"São Paulo\": {\"land\": \"Brazilië\", \"inwoners\": 12330000, \"werelddeel\": \"Zuid-Amerika\"},\n",
    "    \"Tokyo\": {\"land\": \"Japan\", \"inwoners\": 13960000, \"werelddeel\": \"Azië\"},\n",
    "\n",
    "}\n",
    "\n",
    "#haakjes om de and: (A and B) or C\n",
    "print(\"Bij (A and B) or C:\")\n",
    "for stad, gegevens in steden.items():\t#voor elke stad in de dictionary steden\n",
    "    if (steden[stad][\"inwoners\"] < 1000000 and steden[stad][\"werelddeel\"]==\"Europa\") or steden[stad][\"werelddeel\"]==\"Azië\":\t# steden met (minder dan 1 miljoen inwoners EN in Europa), OF de steden in Azië\n",
    "        print(\"(\",stad, \"heeft minder dan 1 miljoen inwoners EN ligt in Europa ) OF ligt in Azië.\")\n",
    "\n",
    "print(\"Bij A and (B or C):\")\n",
    "#haakjes om de or: A and (B or C)\n",
    "for stad, gegevens in steden.items():\t#voor elke stad in de dictionary steden\n",
    "    if steden[stad][\"inwoners\"] < 1000000 and (steden[stad][\"werelddeel\"]==\"Europa\" or steden[stad][\"werelddeel\"]==\"Azië\"):\t# steden met minder dan 1 miljoen inwoners EN  (in Europa OF in Azië)\n",
    "        print(stad, \"heeft minder dan 1 miljoen inwoners  EN ( ligt in Europa OF ligt in Azië ).\")"
   ]
  },
  {
   "cell_type": "markdown",
   "id": "bfdabf29",
   "metadata": {},
   "source": [
    "\n",
    "### Opdracht 16.12.1 Zoogdieren zoeken met combinaties van AND en OR\n",
    "\n",
    "Schrijf een programma dat de diersoorten print die aan de volgende eisen voldoet:\n",
    "<ol type=\"a\">\n",
    "<li>Het is een zoogdier, of het verblijft in de savanne en er zijn meer dan 3 exemplaren van.\n",
    "<li>Het is een zoogdier of het verblijft in de savanne, en er zijn meer dan 3 exemplaren van.\n",
    "</ol>\n",
    "Leg uit waarom bij de tweede niets wordt afgedrukt.\n",
    "\n",
    "<p>Tip: gebruik haakjes!</p>"
   ]
  },
  {
   "cell_type": "code",
   "execution_count": null,
   "id": "5be2b301",
   "metadata": {},
   "outputs": [],
   "source": [
    "dierentuin = {\n",
    "    \"Leeuw\": {\"soort\": \"Zoogdier\", \"verblijf\": \"Savanne\", \"dieet\": [\"vlees\"], \"aantal\": 2},\n",
    "    \"Pinguïn\": {\"soort\": \"Vogel\", \"verblijf\": \"Poolgebied\", \"dieet\": [\"vis\", \"kril\"], \"aantal\": 15},\n",
    "    \"Python\": {\"soort\": \"Reptiel\", \"verblijf\": \"Terrarium\", \"dieet\": [\"muizen\", \"ratten\"], \"aantal\": 3},\n",
    "    \"Olifant\": {\"soort\": \"Zoogdier\", \"verblijf\": \"Savanne\", \"dieet\": [\"planten\", \"fruit\", \"bladeren\"], \"aantal\": 1},\n",
    "    \"IJsbeer\": {\"soort\": \"Zoogdier\", \"verblijf\": \"Poolgebied\", \"dieet\": [\"vlees\"], \"aantal\": 2}\n",
    "}"
   ]
  },
  {
   "cell_type": "markdown",
   "id": "3831425b",
   "metadata": {},
   "source": [
    "### Opdracht 16.12.2 Zoogdieren zoeken met combinaties van AND, OR en NOT\n",
    "\n",
    "Schrijf een programma dat de diersoorten print die aan de volgende eisen voldoet:\n",
    "<ol type=\"a\">\n",
    "<li>Het is een zoogdier maar verblijft niet in de Savanne of Terrarium\n",
    "<li>Het is een zoogdier of, het verblijft in de savanne maar er zijn niet minder dan 3 exemplaren van.\n",
    "</ol>\n",
    "Verklaar elk van je antwoorden.\n",
    "<p>Tip: gebruik haakjes!</p>\n",
    "\n",
    "<p>De verwachte uitvoer is:<br>\n",
    "<i>\n",
    "    IJsbeer is een zoogdier en verblijft niet in de savanne of terrarium.<br>\n",
    "    Pinguïn is geen zoogdier of verblijft in de savanne en er zijn niet minder dan 3.<br>\n",
    "    Python is geen zoogdier of verblijft in de savanne en er zijn niet minder dan 3.<br>\n",
    "    </i>"
   ]
  },
  {
   "cell_type": "code",
   "execution_count": null,
   "id": "3d8aea12",
   "metadata": {},
   "outputs": [],
   "source": [
    "dierentuin = {\n",
    "    \"Leeuw\": {\"soort\": \"Zoogdier\", \"verblijf\": \"Savanne\", \"dieet\": [\"vlees\"], \"aantal\": 2},\n",
    "    \"Pinguïn\": {\"soort\": \"Vogel\", \"verblijf\": \"Poolgebied\", \"dieet\": [\"vis\", \"kril\"], \"aantal\": 15},\n",
    "    \"Python\": {\"soort\": \"Reptiel\", \"verblijf\": \"Terrarium\", \"dieet\": [\"muizen\", \"ratten\"], \"aantal\": 3},\n",
    "    \"Olifant\": {\"soort\": \"Zoogdier\", \"verblijf\": \"Savanne\", \"dieet\": [\"planten\", \"fruit\", \"bladeren\"], \"aantal\": 1},\n",
    "    \"IJsbeer\": {\"soort\": \"Zoogdier\", \"verblijf\": \"Poolgebied\", \"dieet\": [\"vlees\"], \"aantal\": 2}\n",
    "}"
   ]
  },
  {
   "cell_type": "markdown",
   "id": "96d06344",
   "metadata": {},
   "source": [
    "### Opdracht 16.12.3: Zoek zoogdieren en vogels die geen vis eten\n",
    "\n",
    "Schrijf een programma dat alle diersoorten print die zoogdieren en vogels er zijn, maar die geen vis eten.\n",
    "\n",
    "<p>De verwachte uitvoer is:<br>\n",
    "<i>Leeuw is een Zoogdier of een vogel die geen vis eet<br>\n",
    "Olifant is een Zoogdier of een vogel die geen vis eet<br>\n",
    "IJsbeer is een Zoogdier of een vogel die geen vis eet</i>\n",
    "\n",
    "\n"
   ]
  },
  {
   "cell_type": "code",
   "execution_count": null,
   "id": "3b67cb21",
   "metadata": {},
   "outputs": [],
   "source": [
    "dierentuin = {\n",
    "    \"Leeuw\": {\"soort\": \"Zoogdier\", \"verblijf\": \"Savanne\", \"dieet\": [\"vlees\"], \"aantal\": 2},\n",
    "    \"Pinguïn\": {\"soort\": \"Vogel\", \"verblijf\": \"Poolgebied\", \"dieet\": [\"vis\", \"kril\"], \"aantal\": 15},\n",
    "    \"Python\": {\"soort\": \"Reptiel\", \"verblijf\": \"Terrarium\", \"dieet\": [\"muizen\", \"ratten\"], \"aantal\": 3},\n",
    "    \"Olifant\": {\"soort\": \"Zoogdier\", \"verblijf\": \"Savanne\", \"dieet\": [\"planten\", \"fruit\", \"bladeren\"], \"aantal\": 1},\n",
    "    \"IJsbeer\": {\"soort\": \"Zoogdier\", \"verblijf\": \"Poolgebied\", \"dieet\": [\"vlees\"], \"aantal\": 2}\n",
    "}"
   ]
  }
 ],
 "metadata": {
  "kernelspec": {
   "display_name": "Python 3",
   "language": "python",
   "name": "python3"
  },
  "language_info": {
   "codemirror_mode": {
    "name": "ipython",
    "version": 3
   },
   "file_extension": ".py",
   "mimetype": "text/x-python",
   "name": "python",
   "nbconvert_exporter": "python",
   "pygments_lexer": "ipython3",
   "version": "3.13.2"
  }
 },
 "nbformat": 4,
 "nbformat_minor": 5
}
