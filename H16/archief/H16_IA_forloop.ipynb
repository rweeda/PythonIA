{
 "cells": [
  {
   "cell_type": "markdown",
   "id": "2effe132",
   "metadata": {},
   "source": [
    "### Een geneste dictionary doorlopen met een <code>for</code>-loop\n",
    "\n",
    "<p>Met een <code>for</code>-loop en <code>.items()</code> kun je alle sleutels één voor één doorlopen, om bijvoorbeeld de bijbehorende dictionary af te drukken:</p>\n",
    "\n"
   ]
  },
  {
   "cell_type": "code",
   "execution_count": null,
   "id": "43812bf2",
   "metadata": {},
   "outputs": [],
   "source": [
    "steden = {\n",
    "    \"Amsterdam\": {\"land\": \"Nederland\", \"inwoners\": 921000},\n",
    "    \"Parijs\": {\"land\": \"Frankrijk\", \"inwoners\": 2148000},\n",
    "    \"Berlijn\": {\"land\": \"Duitsland\", \"inwoners\": 3769000}\n",
    "}\n",
    "\n",
    "# Door de steden lopen en alle gegevens printen\n",
    "for stad, gegevens in steden.items():\n",
    "    print( stad,  \"ligt in\", gegevens['land'], \"en heeft\", gegevens['inwoners'], \"inwoners.\")\n"
   ]
  },
  {
   "cell_type": "markdown",
   "id": "d9e76ef1",
   "metadata": {},
   "source": [
    "### Opdracht geneste dictionary doorlopen met een for-loop\n",
    "\n",
    "Gebruik een <code>for</code>-loop om alle dieren uit de dierentuin dictioanry en hun gegevens netjes af te drukken."
   ]
  },
  {
   "cell_type": "code",
   "execution_count": null,
   "id": "4d62e479",
   "metadata": {},
   "outputs": [],
   "source": [
    "dierentuin = {\n",
    "    \"Leeuw\": {\"soort\": \"Zoogdier\", \"verblijf\": \"Savanne\", \"dieet\": [\"vlees\"], \"aantal\": 2},\n",
    "    \"Pinguïn\": {\"soort\": \"Vogel\", \"verblijf\": \"Poolgebied\", \"dieet\": [\"vis\", \"kril\"], \"aantal\": 15},\n",
    "    \"Python\": {\"soort\": \"Reptiel\", \"verblijf\": \"Terrarium\", \"dieet\": [\"muizen\", \"ratten\"], \"aantal\": 3}\n",
    "}\n"
   ]
  },
  {
   "cell_type": "markdown",
   "id": "1b7f3e7e",
   "metadata": {},
   "source": [
    "<p>Klik <a href=\"https://rweeda.github.io/PythonIA/docs/IA_H15_oplossingen.html#opgave164\">hier</a> voor een voorbeelduitwerking.</p>\n",
    "<!-- ANTWOORD\n",
    "# Druk de informatie van alle dieren (netjes) af\n",
    "print(\"Alle dieren:\")\n",
    "for dier, gegevens in dierentuin.items():\n",
    "    print(dier, \"is van het soort\", gegevens['soort'], \"leeft in\", gegevens['verblijf'], \"en er zijn er\", gegevens['aantal'], \"van.\")\n",
    "\n",
    "-->"
   ]
  }
 ],
 "metadata": {
  "language_info": {
   "name": "python"
  }
 },
 "nbformat": 4,
 "nbformat_minor": 5
}
