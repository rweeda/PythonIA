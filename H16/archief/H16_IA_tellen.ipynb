{
 "cells": [
  {
   "cell_type": "markdown",
   "id": "a40ed028",
   "metadata": {},
   "source": [
    "## 4: Aantal voorkomens van een specifiek gegeven in een dictionary tellen\n",
    "\n",
    "<p>Wil je tellen hoe vaak iets voorkomt in een (geneste)dictionary, dan moet je een teller bijhouden. Doorloop de dictionary op zoek naar het gegeven dat je zoekt. Elke keer als je het gezochte gegeven tegenkomt, hoog je de teller op. Bekijk het voorbeeld hieronder waarbij we tellen hoeveel miljoenensteden er zijn (steden met meer dan 1000000 inwoners):</p>\n",
    "\n",
    "<p><img src=\"https://course.cs.ru.nl/pythonVO/img/16.3_genesteDict_voorkomensTellen_stroomdiagram.png\" alt=\"Figuur: Stroomdiagram voorkomens tellen\" width=\"400\"></p>\n"
   ]
  },
  {
   "cell_type": "code",
   "execution_count": null,
   "id": "2d25f9fc",
   "metadata": {},
   "outputs": [],
   "source": [
    "steden = {\n",
    "    \"Amsterdam\": {\"land\": \"Nederland\", \"inwoners\": 921000, \"werelddeel\": \"Europa\"},\n",
    "    \"Buenos Aires\": {\"land\": \"Argentinië\", \"inwoners\": 2890000, \"werelddeel\": \"Zuid-Amerika\"},\n",
    "    \"Rome\": {\"land\": \"Italië\", \"inwoners\": 2873000, \"werelddeel\": \"Europa\"},\n",
    "    \"São Paulo\": {\"land\": \"Brazilië\", \"inwoners\": 12330000, \"werelddeel\": \"Zuid-Amerika\"},\n",
    "    \"Tokyo\": {\"land\": \"Japan\", \"inwoners\": 13960000, \"werelddeel\": \"Azië\"}\n",
    "}\n",
    "\n",
    "aantalMiljoenensteden = 0\t#teller begint op 0\n",
    "for stad in steden:\n",
    "\tif steden[stad][\"inwoners\"] > 1000000:\t#als de inwoners meer zijn dan 1 miljoen\n",
    "\t\taantalMiljoenensteden += 1\t#teller ophogen zodra element gevonden is\n",
    "\n",
    "print(\"Aantal miljoenensteden is:\", aantalMiljoenensteden)\n"
   ]
  },
  {
   "cell_type": "markdown",
   "id": "3821622d",
   "metadata": {},
   "source": [
    "<p>Toelichting:</p>\n",
    "<ul>\n",
    "    <li>zet een teller op 0.</li>\n",
    "    <li>met een <code>for</code>-loop doorloop je ieder geneste dictionary (stad) in de dictionary <code>steden</code>;</li>\n",
    "    <li>as je in de geneste dictionary de waarde vindt dat aan de voorwaarde voldoet, dan hoog je de teller op.\n",
    "    </li>\n",
    "</ul>"
   ]
  },
  {
   "cell_type": "markdown",
   "id": "43f507c7",
   "metadata": {},
   "source": [
    "\n",
    "### Opdracht 16.8 Aantal Zuid-Amerikaanse landen tellen\n",
    "\n",
    "<p>Schrijf een programma dat telt hoeveel Zuid-Amerikaanse landen er in onze `steden`-dictionary voorkomen. Druk dit aantal af.</p>\n",
    "\n",
    "<p>Verwachtte uitvoer: \"<i>Aantal Zuid-Amerikaanse steden is: 2</i>\"</p>\n",
    "\n"
   ]
  },
  {
   "cell_type": "code",
   "execution_count": null,
   "id": "aba7fb4f",
   "metadata": {},
   "outputs": [],
   "source": [
    "steden = {\n",
    "    \"Amsterdam\": {\"land\": \"Nederland\", \"inwoners\": 921000, \"werelddeel\": \"Europa\"},\n",
    "    \"Buenos Aires\": {\"land\": \"Argentinië\", \"inwoners\": 2890000, \"werelddeel\": \"Zuid-Amerika\"},\n",
    "    \"Rome\": {\"land\": \"Italië\", \"inwoners\": 2873000, \"werelddeel\": \"Europa\"},\n",
    "    \"São Paulo\": {\"land\": \"Brazilië\", \"inwoners\": 12330000, \"werelddeel\": \"Zuid-Amerika\"},\n",
    "    \"Tokyo\": {\"land\": \"Japan\", \"inwoners\": 13960000, \"werelddeel\": \"Azië\"}\n",
    "}"
   ]
  },
  {
   "cell_type": "markdown",
   "id": "8515b733",
   "metadata": {},
   "source": [
    "\n",
    "<p>Bekijk <a href=\"https://rweeda.github.io/PythonIA/docs/IA_H10_oplossingen.html#opgave168\" target=\"_blank\">hier</a> de voorbeelduitwerking.</p>"
   ]
  },
  {
   "cell_type": "markdown",
   "id": "86cde7be",
   "metadata": {},
   "source": [
    "### Opdracht 16.9 Aantal soorten in de poolgebied\n",
    "\n",
    "<p>Bepaal hoeveel soorten er om de poolgebied verblijven. Print dit.</p>\n",
    "\n",
    "<p>Verwachte uitvoer: \"<i>Aantal dieren in het Poolgebied: 2</i>\"</p>"
   ]
  },
  {
   "cell_type": "code",
   "execution_count": null,
   "id": "e6c11aa1",
   "metadata": {},
   "outputs": [],
   "source": [
    "dierentuin = {\n",
    "    \"Leeuw\": {\"soort\": \"Zoogdier\", \"verblijf\": \"Savanne\", \"dieet\": [\"vlees\"], \"aantal\": 2},\n",
    "    \"Pinguïn\": {\"soort\": \"Vogel\", \"verblijf\": \"Poolgebied\", \"dieet\": [\"vis\", \"kril\"], \"aantal\": 15},\n",
    "    \"Python\": {\"soort\": \"Reptiel\", \"verblijf\": \"Terrarium\", \"dieet\": [\"muizen\", \"ratten\"], \"aantal\": 3},\n",
    "    \"Olifant\": {\"soort\": \"Zoogdier\", \"verblijf\": \"Savanne\", \"dieet\": [\"planten\", \"fruit\", \"bladeren\"], \"aantal\": 1},\n",
    "    \"IJsbeer\": {\"soort\": \"Zoogdier\", \"verblijf\": \"Poolgebied\", \"dieet\": [\"vlees\"], \"aantal\": 2}\n",
    "}\n",
    "\n"
   ]
  },
  {
   "cell_type": "markdown",
   "id": "3e335423",
   "metadata": {},
   "source": [
    "<p>Bekijk <a href=\"https://rweeda.github.io/PythonIA/docs/IA_H10_oplossingen.html#opgave169\" target=\"_blank\">hier</a> de voorbeelduitwerking.</p>"
   ]
  }
 ],
 "metadata": {
  "kernelspec": {
   "display_name": "Python 3",
   "language": "python",
   "name": "python3"
  },
  "language_info": {
   "codemirror_mode": {
    "name": "ipython",
    "version": 3
   },
   "file_extension": ".py",
   "mimetype": "text/x-python",
   "name": "python",
   "nbconvert_exporter": "python",
   "pygments_lexer": "ipython3",
   "version": "3.13.2"
  }
 },
 "nbformat": 4,
 "nbformat_minor": 5
}
