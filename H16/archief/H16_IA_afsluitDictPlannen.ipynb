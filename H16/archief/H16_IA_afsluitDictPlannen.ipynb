{
 "cells": [
  {
   "cell_type": "markdown",
   "metadata": {},
   "source": [
    "## Onderwerp 16: Afsluitende opdrachten\n",
    "\n",
    "<p>Met de volgende afsluitende opdrachten kun je kijken hoe goed je de stof beheerst. Controleer steeds je eigen oplossing met de voorbeelduitwerking.</p>\n",
    "\n",
    "<p>Voor de volgende afsluitende opdrachten maken we steeds gebruik van de dictionary <code>profielen</code>. Deze dictionary bevat gegevens over verschillende gebruikers van een social media-platform. Elke gebruikersnaam (zoals \"skydiver_22\" of \"techie99\") is een sleutel in de dictionary. De bijbehorende waarde is een geneste dictionary met vier onderdelen:\n",
    "<ul>\n",
    "<li>\"bio\": een korte beschrijving van de gebruiker (string),\n",
    "<li>\"volgers\": het aantal volgers van de gebruiker (integer),\n",
    "<li>\"posts\": het aantal berichten dat de gebruiker heeft geplaatst (integer),\n",
    "<li>\"interesses\": een lijst van onderwerpen waarin de gebruiker geïnteresseerd is (list van strings).\n",
    "</ol></p>\n",
    "\n",
    "```python\n",
    "profielen = {\n",
    "    \"skydiver_22\": {\n",
    "        \"bio\": \"Ik hou van katten en gamen\",\n",
    "        \"volgers\": 134,\n",
    "        \"posts\": 47,\n",
    "        \"interesses\": [\"dieren\", \"games\", \"fotografie\"]\n",
    "    },\n",
    "    \"dancequeen\": {\n",
    "        \"bio\": \"Altijd aan het dansen\",\n",
    "        \"volgers\": 245,\n",
    "        \"posts\": 82,\n",
    "        \"interesses\": [\"muziek\", \"games\", \"vloggen\"]\n",
    "    },\n",
    "    \"bookworm\": {\n",
    "        \"bio\": \"Ik lees elke dag\",\n",
    "        \"volgers\": 98,\n",
    "        \"posts\": 133,\n",
    "        \"interesses\": [\"boeken\", \"schrijven\", \"fotografie\"]\n",
    "    },\n",
    "    \"techie99\": {\n",
    "        \"bio\": \"Fan van programmeren en robots\",\n",
    "        \"volgers\": 187,\n",
    "        \"posts\": 59,\n",
    "        \"interesses\": [\"programmeren\", \"AI\", \"games\"]\n",
    "    }\n",
    "}\n"
   ]
  },
  {
   "cell_type": "markdown",
   "metadata": {},
   "source": [
    "\n"
   ]
  },
  {
   "cell_type": "markdown",
   "metadata": {},
   "source": [
    "\n",
    "### Afsluitende Opdracht 16.X Profielen met meer dan 100 volgers\n",
    "<p>Schrijf een programma dat print welke profielen meer dan 100 volgers hebben.</p>\n",
    "\n",
    "<p>Verwachte uitvoer:<br>\n",
    "<i>Profiel skydiver_22 heeft meer dan 100 volgers<br>\n",
    "Profiel dancequeen heeft meer dan 100 volgers<br>\n",
    "Profiel techie99 heeft meer dan 100 volgers</i></p>\n"
   ]
  },
  {
   "cell_type": "code",
   "execution_count": null,
   "metadata": {},
   "outputs": [
    {
     "name": "stdout",
     "output_type": "stream",
     "text": [
      "Profiel skydiver_22 heeft meer dan 100 volgers\n",
      "Profiel dancequeen heeft meer dan 100 volgers\n",
      "Profiel techie99 heeft meer dan 100 volgers\n"
     ]
    }
   ],
   "source": [
    "profielen = {\n",
    "    \"skydiver_22\": {\n",
    "        \"bio\": \"Ik hou van katten en gamen\",\n",
    "        \"volgers\": 134,\n",
    "        \"posts\": 47,\n",
    "        \"interesses\": [\"dieren\", \"games\", \"fotografie\"]\n",
    "    },\n",
    "    \"dancequeen\": {\n",
    "        \"bio\": \"Altijd aan het dansen\",\n",
    "        \"volgers\": 245,\n",
    "        \"posts\": 82,\n",
    "        \"interesses\": [\"muziek\", \"games\", \"vloggen\"]\n",
    "    },\n",
    "    \"bookworm\": {\n",
    "        \"bio\": \"Ik lees elke dag\",\n",
    "        \"volgers\": 98,\n",
    "        \"posts\": 133,\n",
    "        \"interesses\": [\"boeken\", \"schrijven\", \"fotografie\"]\n",
    "    },\n",
    "    \"techie99\": {\n",
    "        \"bio\": \"Fan van programmeren en robots\",\n",
    "        \"volgers\": 187,\n",
    "        \"posts\": 59,\n",
    "        \"interesses\": [\"programmeren\", \"AI\", \"games\"]\n",
    "    }\n",
    "}\n"
   ]
  },
  {
   "cell_type": "markdown",
   "metadata": {},
   "source": [
    "\n",
    "<p>Bekijk <a href=\"https://rweeda.github.io/PythonIA/docs/IA_H16_oplossingen.html#AfOpgave16X\" target=\"_blank\">hier</a> de voorbeelduitwerking.</p>\n",
    "\n",
    "<!--ANTWOORD\n",
    "profielen = {\n",
    "    \"skydiver_22\": {\n",
    "        \"bio\": \"Ik hou van katten en gamen\",\n",
    "        \"volgers\": 134,\n",
    "        \"posts\": 47,\n",
    "        \"interesses\": [\"dieren\", \"games\", \"fotografie\"]\n",
    "    },\n",
    "    \"dancequeen\": {\n",
    "        \"bio\": \"Altijd aan het dansen\",\n",
    "        \"volgers\": 245,\n",
    "        \"posts\": 82,\n",
    "        \"interesses\": [\"muziek\", \"games\", \"vloggen\"]\n",
    "    },\n",
    "    \"bookworm\": {\n",
    "        \"bio\": \"Ik lees elke dag\",\n",
    "        \"volgers\": 98,\n",
    "        \"posts\": 133,\n",
    "        \"interesses\": [\"boeken\", \"schrijven\", \"fotografie\"]\n",
    "    },\n",
    "    \"techie99\": {\n",
    "        \"bio\": \"Fan van programmeren en robots\",\n",
    "        \"volgers\": 187,\n",
    "        \"posts\": 59,\n",
    "        \"interesses\": [\"programmeren\", \"AI\", \"games\"]\n",
    "    }\n",
    "}\n",
    "\n",
    "for profiel, gegevens in profielen.items():\n",
    "    if gegevens[\"volgers\"] > 100:\n",
    "        print(\"Profiel\", profiel, \"heeft meer dan 100 volgers\")\n",
    "\n",
    "\n",
    "-->"
   ]
  },
  {
   "cell_type": "markdown",
   "metadata": {},
   "source": [
    "### Afsluitende Opdracht 16.X Games als interesse\n",
    "\n",
    "Schrijf een functie die de dictionary doorloopt en een lijst oplevert van alle profielen die 'games' als interesse hebben.\n",
    "\n",
    "### Afsluitende Opdracht Profielen met top 3 aantal volgers (gesorteerd)\n",
    "Gebruik sort\n",
    "maak lijst met append, en dan lijst.sort (nieuwlijst = sorted.lijst)\n",
    "\n",
    "### Afsluitende Opdracht Gemiddeld aantal posts (aantal posts/aantal profielen)\n",
    "\n",
    "### Afsluitende Opdracht 16.X Alle profielen met minder dan 60 posts verwijderen uit dictionary\n",
    "\n",
    "\n",
    "### Schrijf een functie die een gebruiker vraagt om een profielnaam, bio en interesses. Als deze profiel niet bestaat, voeg die toe aan de dictionary met volgers en posts moet 0 zijn. Als de profiel al wel bestaat, geef een foutmelding\n",
    "\n",
    "### Bij iedereen aantal volgers ophogen met 1\n",
    "\n",
    "### Schrijf een functie die de gebruiker om een interesse vraagt, en de dictionary doorzoekt naar alle profielen die die interesse hebben\n",
    "\n",
    "### Een lijst van alle interesses (elk interesse mag maar 1 keer voorkomen)\n",
    "\n",
    "### Een lijst van alle profielen met >100 volgers en die van fotografie houden\n",
    "\n",
    "### Alle bio's afdrukken van mensen die wel als interesse programmeren hebben OF die meer posts dan volgers hebben \n",
    "\n",
    "### Alle profielen met meer dan 10000 posts verwijderen (spam)\n",
    "del (kan niet in for-loop) - eerst de keys bepalen, en dan nieuwe forloop--- denken we\n"
   ]
  },
  {
   "cell_type": "markdown",
   "metadata": {},
   "source": [
    "\n",
    "### Afsluitende Opdracht 10.2 Stemmingen\n",
    "<p>Schrijf een programma om te bepalen hoeveel van je vrienden gelukkig zijn.</p>\n",
    "<ol style=\"list-style-type: lower-alpha\">\n",
    "    <li>Schrijf een functie die aan vijf van je vrienden vraagt om hun stemming met een emoticon (of emoji) weer te geven. Zet de emoticons één voor één in een lijst. Lever de lijst op met een return.</li>\n",
    "    <li>Roep de functie aan in je hoofdprogramma en test of deze werkt door de lijst te printen.</li>\n",
    "    <li>Schrijf een functie die de lijst met een loop doorloopt en telt hoe vaak de ':)'-smiley in de lijst voorkomt. Je <b>moet</b> een loop met een teller gebruiken. Lever het aantal smileys op met een return.</li>\n",
    "    <li>Roep je telfunctie aan in je hoofdprogramma en druk af hoeveel smileys er gevonden zijn.\n",
    "    </li>\n",
    "</ol>\n",
    "\n",
    "\n",
    "\n"
   ]
  },
  {
   "cell_type": "code",
   "execution_count": null,
   "metadata": {},
   "outputs": [],
   "source": [
    "### FUNCTIEDEFINITIES\n",
    "\n",
    "\n",
    "\n",
    "### HOOFPROGRAMMA\n"
   ]
  },
  {
   "cell_type": "markdown",
   "metadata": {},
   "source": [
    "\n",
    "<p>Bekijk <a href=\"https://rweeda.github.io/PythonIA/docs/IA_H10_oplossingen.html#AfOpgave102\" target=\"_blank\">hier</a> de voorbeelduitwerking.</p>\n",
    "\n",
    "\n",
    "\n"
   ]
  },
  {
   "cell_type": "markdown",
   "metadata": {},
   "source": [
    "\n",
    "### Afsluitende Opdracht 10.3 Cijferlijst opleuken\n",
    "\n",
    "<p>Stel, dit is jouw (dramatische) cijferlijst:</p>\n",
    "<p><code>cijferLijst = [5.0, 5.5, 2.3, 4.6, 6.1, 5.6, 9.8]</code></p>\n",
    "\n",
    "<p>Maak een nieuwe cijferlijst waarbij elk cijfer met 0.5 punt opgehoogd is. Na afloop druk je de nieuwe cijferlijst af.</p>\n",
    "\n",
    "<p>Het is dus de bedoeling dat na afloop het volgende wordt afgedrukt:<i> [5.5, 6.0, 2.8, 5.1, 6.6, 6.1, 9.8]</i></p>\n",
    "\n",
    "<p>Tips:\n",
    "</p>\n",
    "<ul>\n",
    "    <li>doorloop de lijst met een <code>for</code>-loop en print elk cijfer uit.\n",
    "    </li>\n",
    "    <li>hoog het cijfer met 0.5 punten op. Zet het opgehoogde cijfer in een nieuwe lijst.\n",
    "    </li>\n",
    "    <li>zorg dat er geen cijfer boven de 10 uitkomt. Als het cijfer na ophoging boven de 10 uitkomt, stel het dan gelijk aan 10.\n",
    "    </li>\n",
    "</ul>\n",
    "<p></p>\n",
    "\n"
   ]
  },
  {
   "cell_type": "code",
   "execution_count": null,
   "metadata": {},
   "outputs": [],
   "source": [
    "cijferLijst = [9.8, 5.5, 2.3, 4.6, 6.1, 5.6]"
   ]
  },
  {
   "cell_type": "markdown",
   "metadata": {},
   "source": [
    "\n",
    "<p>Bekijk <a href=\"https://rweeda.github.io/PythonIA/docs/IA_H10_oplossingen.html#AfOpgave103\" target=\"_blank\">hier</a> de voorbeelduitwerking.</p>\n",
    "\n"
   ]
  },
  {
   "cell_type": "markdown",
   "metadata": {},
   "source": [
    "\n",
    "### Afsluitende Opdracht 10.4 Meeste regen\n",
    "<p>Janneke hield voor de maand februari dagelijks bij hoeveel regen er gevallen is. Wat was de meeste regen die er op een dag gevallen was en op welke datum was dat? Je moet hiervoor een of twee <code>for</code>-loops gebruiken.</p>\n",
    "\n",
    "\n",
    "<p>Aanwijzingen:\n",
    "</p>\n",
    "<ul>\n",
    "    <li>doorloop de lijst met een <code>for</code>-loop en bepaal wat de meeste regen is die er gevallen is.\n",
    "    </li>\n",
    "    <li>doorloop de lijst met een <code>for</code>-loop en zoek op welke index die voorkomt.\n",
    "    </li>\n",
    "    <li>pas de index aan naar een datum.\n",
    "    </li>\n",
    "</ul>\n",
    "<p></p>\n",
    "\n"
   ]
  },
  {
   "cell_type": "code",
   "execution_count": null,
   "metadata": {},
   "outputs": [],
   "source": [
    "regenlijst = [ 0, 10, 15, 20, 18, 15, 13, 14, 16, 34, 12, 10, 0, 0, 0, 1, 2, 0, 4, 8, 0, 0, 1, 2, 1, 10, 8, 1 ]"
   ]
  },
  {
   "cell_type": "markdown",
   "metadata": {},
   "source": [
    "\n",
    "<p>Bekijk <a href=\"https://rweeda.github.io/PythonIA/docs/IA_H10_oplossingen.html#AfOpgave104\" target=\"_blank\">hier</a> de voorbeelduitwerking.</p>\n",
    "\n"
   ]
  },
  {
   "cell_type": "markdown",
   "metadata": {},
   "source": [
    "\n",
    "### Afsluitende Opdracht 10.5 Loonstrookje\n",
    "<p>Piet heeft de afgelopen maand zijn dagloon in een lijst bijgehouden. Schrijf een programma dat de lijst met een loop doorloopt en zijn maandloon bepaalt (de som van alle lonen in de lijst).</p>\n"
   ]
  },
  {
   "cell_type": "code",
   "execution_count": null,
   "metadata": {},
   "outputs": [],
   "source": [
    "loonlijst = [24.00, 28.50, 45.80, 45.80, 23.10, 32.15]\n"
   ]
  },
  {
   "cell_type": "markdown",
   "metadata": {},
   "source": [
    "<p>Bekijk <a href=\"https://rweeda.github.io/PythonIA/docs/IA_H10_oplossingen.html#AfOpgave105\" target=\"_blank\">hier</a> de voorbeelduitwerking.</p>"
   ]
  },
  {
   "cell_type": "markdown",
   "metadata": {},
   "source": [
    "\n",
    "### Afsluitende Opdracht 10.6 Foutieve metingen\n",
    "<p>In een fabriek wordt in een lijst bijgehouden hoeveel storingen er zijn. Helaas is er wat misgegaan en komen er nu foute waarden in de lijst voor. Kijk maar:</p>\n",
    "<p><code>storingenlijst = [ 0, 3, -1, 4, 3, 2, -1 ]</code></p>\n",
    "<p>Jouw taak is om de lijst te doorlopen en de negatieve waarden eruit te filteren: maak een nieuwe lijst zonder de negatieve waarden. Je nieuwe lijst moet er dus zo uit komen te zien:</p>\n",
    "<p><code>storingenlijst = [ 0, 3, 4, 3, 2 ]</code></p>\n",
    "\n",
    "\n",
    "\n"
   ]
  },
  {
   "cell_type": "code",
   "execution_count": null,
   "metadata": {},
   "outputs": [],
   "source": [
    "storingenlijst = [ 0, 3, -1, 4, 3, 2, -1 ]\n"
   ]
  },
  {
   "cell_type": "markdown",
   "metadata": {},
   "source": [
    "\n",
    "<p>Bekijk <a href=\"https://rweeda.github.io/PythonIA/docs/IA_H10_oplossingen.html#AfOpgave106\" target=\"_blank\">hier</a> de voorbeelduitwerking.</p>\n",
    "\n"
   ]
  },
  {
   "cell_type": "markdown",
   "metadata": {},
   "source": [
    "\n",
    "### Afsluitende Opdracht 10.7 Gemiddelde bepalen\n",
    "<p>Schrijf een functie die een lijst getallen binnenkrijgt, deze met een loop doorloopt en de gemiddelde waarde van alle elementen oplevert. Let op: als er geen waarden in de lijst staan, kun je geen gemiddelde berekenen en moet je programma, in plaats van een berekening maken, het volgende printen: \"<i>Fout, geen gegevens</i>\".</p>\n",
    "\n",
    "\n",
    "\n"
   ]
  },
  {
   "cell_type": "code",
   "execution_count": null,
   "metadata": {},
   "outputs": [],
   "source": [
    "### FUNCTIEDEFINITIES\n",
    "\n",
    "\n",
    "### HOOFDPROGRAMMA\n",
    "getallenlijst = [4,5,6,3,5,6]\n"
   ]
  },
  {
   "cell_type": "markdown",
   "metadata": {},
   "source": [
    "\n",
    "<p>Bekijk <a href=\"https://rweeda.github.io/PythonIA/docs/IA_H10_oplossingen.html#AfOpgave107\" target=\"_blank\">hier</a> de voorbeelduitwerking.</p>"
   ]
  }
 ],
 "metadata": {
  "kernelspec": {
   "display_name": "Python 3",
   "language": "python",
   "name": "python3"
  },
  "language_info": {
   "codemirror_mode": {
    "name": "ipython",
    "version": 3
   },
   "file_extension": ".py",
   "mimetype": "text/x-python",
   "name": "python",
   "nbconvert_exporter": "python",
   "pygments_lexer": "ipython3",
   "version": "3.13.2"
  }
 },
 "nbformat": 4,
 "nbformat_minor": 2
}
