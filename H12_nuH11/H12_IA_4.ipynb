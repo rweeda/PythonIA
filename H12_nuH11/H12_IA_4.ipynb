{
 "cells": [
  {
   "cell_type": "markdown",
   "metadata": {},
   "source": [
    "## 4: Herhaling: lijst doorlopen met een <code>for</code>-loop\n",
    "\n",
    "<p>Met een <code>for</code>-loop doorloop je alle elementen van een lijst.\n",
    "    Het volgende programma\n",
    "    doorloopt één voor één alle kleuren in een lijst en print ze.</p>\n"
   ]
  },
  {
   "cell_type": "code",
   "execution_count": null,
   "metadata": {},
   "outputs": [],
   "source": [
    "kleurenLijst = [\"zwart\", \"rood\", \"blauw\", \"groen\", \"geel\"]\n",
    "\n",
    "for kleur in kleurenLijst:\n",
    "\tprint(\"kleur is:\", kleur)"
   ]
  }
 ],
 "metadata": {
  "kernelspec": {
   "display_name": "Python 3",
   "language": "python",
   "name": "python3"
  },
  "language_info": {
   "codemirror_mode": {
    "name": "ipython",
    "version": 3
   },
   "file_extension": ".py",
   "mimetype": "text/x-python",
   "name": "python",
   "nbconvert_exporter": "python",
   "pygments_lexer": "ipython3",
   "version": "3.11.8"
  }
 },
 "nbformat": 4,
 "nbformat_minor": 2
}
