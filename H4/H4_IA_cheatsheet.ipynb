{
 "cells": [
  {
   "cell_type": "markdown",
   "id": "d092cec2",
   "metadata": {},
   "source": [
    "# Onderwerp 4 - Keuzes: Samenvatting\n",
    "\n",
    "<p>Met een <i>Als..dan..anders...</i> kun je keuzes aangeven en bepalen onder welke voorwaarde code wordt uitgevoerd.</p>"
   ]
  },
  {
   "cell_type": "markdown",
   "id": "4a239daf",
   "metadata": {},
   "source": [
    "## 4.3 & 4.4: <code>if</code> ('<i>als</i>')\n",
    "\n",
    "Met <code>if</code> ('<i>als</i>') kan je een keuze aangeven.\n",
    "Het datatype van <code>True</code> en <code>False</code> heet <code>bool</code> (verkort voor Boolean).\n",
    "\n",
    "<p><img src=\"https://raw.githubusercontent.com/rweeda/PythonIA/main/img/Python4_Stroomdiagram_dubbeleIf.jpg\" alt=\"Stroomdiagram voor meerdere if's\" width=\"300\"></p>"
   ]
  },
  {
   "cell_type": "code",
   "execution_count": null,
   "id": "b723c06a",
   "metadata": {},
   "outputs": [],
   "source": [
    "kleur = \"groen\"\n",
    "vervoer = \"fiets\"\n",
    "\n",
    "if kleur == \"groen\":\n",
    "  print(\"Groen is mooi\")\n",
    "\n",
    "if vervoer == \"fiets\":\n",
    "  print(\"fietsen is fijn\")"
   ]
  },
  {
   "cell_type": "markdown",
   "id": "2676e4d7",
   "metadata": {},
   "source": [
    "## 4.1: Vergelijkingen <, <=, ==, >, >=, !="
   ]
  },
  {
   "cell_type": "code",
   "execution_count": null,
   "id": "743fc87c",
   "metadata": {},
   "outputs": [],
   "source": [
    "x = 5\n",
    "if x == 5: # controleer of x gelijk is aan 5\n",
    "    print( \"x is gelijk aan 5\" )\n",
    "if x != 5 : # controleer of x ongelijk is aan 5\n",
    "    print( \"x is NIET gelijk aan 5\" )\n",
    "\n",
    "if x < 4: # controleer of x kleiner is dan 4\n",
    "    print( \"x is kleiner dan 4\" )\n",
    "if x > 4: # controleer of x groter is dan 4\n",
    "    print( \"x is groter dan 4\" )\n",
    "\n",
    "if x <= 5: # controleer of x kleiner of gelijk is aan 5\n",
    "    print( \"x is kleiner dan of gelijk aan 5\" )\n",
    "if x >= 4: # controleer of x groter of gelijk is aan 4\n",
    "    print( \"x is groter dan of gelijk aan 4\" )\n"
   ]
  },
  {
   "cell_type": "markdown",
   "id": "6d1fe932",
   "metadata": {},
   "source": [
    "## 4.2: Met <code>in</code> controleren of iets voorkomt"
   ]
  },
  {
   "cell_type": "code",
   "execution_count": null,
   "id": "cf539a1a",
   "metadata": {},
   "outputs": [],
   "source": [
    "woord = \"Informatica\"\n",
    "if \"I\" in woord:\n",
    "    print( \"De letter I komt voor in Informatica\" )\n",
    "if \"b\"  not in woord:\n",
    "  print( \"De letter b komt niet voor in Informatica\" )"
   ]
  },
  {
   "cell_type": "markdown",
   "id": "231de4ee",
   "metadata": {},
   "source": [
    "## 4.5: <code>if.. else</code> ('<i>als-dan</i>')\n",
    "<p>De <code>if</code> kan uitgebreid worden met een <code>else</code>, een actie die uitgevoerd moet worden als de conditie in de <code>if</code> niet waar is.</p>\n",
    "<p><img src=\"https://raw.githubusercontent.com/rweeda/PythonIA/main/img/Python4_Stroomdiagram_leeftijdRijbewijs.jpg\" alt=\"Figuur 6.2: Stroomdiagram van een twee-weg beslissing\" width=\"450\" height=\"466\" class=\"img-fluid atto_image_button_text-bottom\"></p>"
   ]
  },
  {
   "cell_type": "code",
   "execution_count": null,
   "id": "1420de47",
   "metadata": {},
   "outputs": [],
   "source": [
    "leeftijd = int(input() ) \t# vraag gebruiker om leeftijd en maak hier een int (geheel getal van)\n",
    "\n",
    "if leeftijd >= 17: \t\t\t# als leeftijd groter dan of gelijk aan 17\n",
    "\tprint( \"Ja. Je mag je rijbewijs halen.\" )\n",
    "else:\t\t\t\t\t\t# anders - leeftijd is niet groeter dan of gelijk aan 17\n",
    "\tprint( \"Nee. Je moet nog even wachten.\" )\n",
    "\t\n",
    "print( \"Klaar.\" )"
   ]
  },
  {
   "cell_type": "markdown",
   "id": "079d6861",
   "metadata": {},
   "source": [
    "## 4.6 Logische operatoren: <code>and</code> <code>or</code> <code>not</code>\n",
    "\n",
    "- <code>and</code> → beide dingen zijn waar\n",
    "- <code>or</code> → één van de dingen is waar\n",
    "- <code>not</code> → keert de logische waarde om"
   ]
  },
  {
   "cell_type": "code",
   "execution_count": null,
   "id": "f8215773",
   "metadata": {},
   "outputs": [],
   "source": [
    "band = \"lek\"\n",
    "ketting = \"eraf\"\n",
    "\n",
    "if (band == \"lek\") and (ketting == \"eraf\"): # AND: beide condities moeten waar zijn\n",
    "    print(\"Zowel je band is lek als je ketting is eraf.\")\n",
    "    print(\"Je kunt echt niet verder fietsen.\")\n",
    "\n",
    "\n",
    "if (band == \"lek\") or (ketting == \"eraf\"): # OR: één van de condities is genoeg\n",
    "    print(\"Je hebt een probleem met je fiets.\")\n",
    "    print(\"Dat kan aan je band liggen of aan je ketting.\")\n",
    "\n",
    "if not ( band == \"lek\" ): # NOT: keert de voorwaarde om\n",
    "    print(\"Gelukkig is band is niet lek.\")\n",
    "else:\n",
    "    print(\"Je band is lek!\")"
   ]
  },
  {
   "cell_type": "markdown",
   "id": "bd0a77a5",
   "metadata": {},
   "source": [
    "## 4.9 & 4.10: een <code>if.. else</code> binnen een andere <code>if.. else</code>\n",
    "<p>Je kunt binnen een beslissing weer een\n",
    "    beslissing hebben.</p>\n",
    "\n",
    "<p><img src=\"https://raw.githubusercontent.com/rweeda/PythonIA/main/img/Python4_Stroomdiagram_genesteIf.jpg\" alt=\"Figuur 6.2: Stroomdiagram van een geneste beslissing\" width=\"750\" height=\"736\" class=\"img-fluid atto_image_button_text-bottom\"></p>"
   ]
  },
  {
   "cell_type": "code",
   "execution_count": null,
   "id": "fe0bb783",
   "metadata": {},
   "outputs": [],
   "source": [
    "leeftijd = int(input() )    # vraag gebruiker om leeftijd en maak hier een int (geheel getal van)\n",
    "if leeftijd < 12:           # als leeftijd kleiner is dan 12\n",
    "  print( \"kind\" )\n",
    "else:                       # anders - leeftijd is niet kleiner dan 12\n",
    "  if leeftijd < 18:         # als leeftijd kleiner is dan 18\n",
    "    print( \"tiener\" )\n",
    "  else:                     # anders - leeftijd is niet kleiner dan 18\n",
    "    if leeftijd < 30:       # als leeftijd kleiner is dan 30\n",
    "      print( \"jong\" )\n",
    "    else:                   # anders - leeftijd is niet kleiner dan 30\n",
    "      if leeftijd < 50:     # als leeftijd kleiner is dan 50\n",
    "        print( \"ouder\" )\n",
    "      else:                 # anders - leeftijd is niet kleiner dan 50 \n",
    "        print( \"oud\" )"
   ]
  },
  {
   "cell_type": "markdown",
   "id": "d29e6c17",
   "metadata": {},
   "source": [
    "Dit kan ook met een <code>if-elif-else</code> ('<i>anders als</i>') geschreven worden:"
   ]
  },
  {
   "cell_type": "code",
   "execution_count": null,
   "id": "2486f0c0",
   "metadata": {},
   "outputs": [],
   "source": [
    "leeftijd = int(input() )    # vraag gebruiker om leeftijd en maak hier een int (geheel getal van)\n",
    "if leeftijd < 12:           #als leeftijd kleiner is dan 12\n",
    "    print( \"kind\" )\n",
    "elif leeftijd < 18:         #anders als leeftijd kleiner is dan 18\n",
    "    print( \"tiener\" )\n",
    "elif leeftijd < 30:         #anders als leeftijd kleiner is dan 30\n",
    "    print( \"jong\" )\n",
    "if leeftijd < 50:           #anders als leeftijd kleiner is dan 50\n",
    "        print( \"ouder\" )\n",
    "else:                       #anders - leeftijd is 50 of ouder\n",
    "    print( \"oud\" )\n",
    "\t\n",
    "print(\"Klaar!\")"
   ]
  }
 ],
 "metadata": {
  "language_info": {
   "name": "python"
  }
 },
 "nbformat": 4,
 "nbformat_minor": 5
}
