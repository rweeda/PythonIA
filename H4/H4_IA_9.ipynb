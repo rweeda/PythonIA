{
 "cells": [
  {
   "cell_type": "markdown",
   "metadata": {},
   "source": [
    "### 9: Uitgebreidere condities\n",
    "\n",
    "<p>Je kunt binnen een beslissing weer een\n",
    "    beslissing hebben.</p>\n",
    "<p>\n",
    "    Een geneste <code>if-else</code> is een manier om beslissingen te nemen op basis van meerdere voorwaarden. Een geneste <code>if-else</code> bestaat uit een reeks <code>if-else</code>-verklaringen die in elkaar zijn geplaatst.</p>\n",
    "    <ul>\n",
    "<li>De eerste <code>if-else</code>-verklaring wordt geëvalueerd en als deze <code>True</code> is, wordt de bijbehorende code uitgevoerd.</li>\n",
    "<li>Als de eerste <code>if-else</code>-verklaring <code>False</code> is, wordt de tweede <code>if-else</code>-verklaring geëvalueerd en als deze <code>True</code> is, wordt de bijbehorende code uitgevoerd.</li>\n",
    "<li>Dit gaat door totdat er geen <code>if-else</code>-verklaringen meer zijn of totdat er een <code>True</code> is gevonden. Als geen van de <code>if-else</code>-verklaringen <code>True</code> is, wordt de code in het <code>else</code>-blok uitgevoerd.</li>\n",
    "</ul>\n",
    "<p>Hieronder zie je een voorbeeldstroomdiagram van een geneste <code>if-else</code>-verklaring:</p>\n",
    "\n",
    "<p><img src=\"https://raw.githubusercontent.com/rweeda/PythonIA/main/img/Python4_Stroomdiagram_genesteIf.jpg\" alt=\"Figuur 6.2: Stroomdiagram van een geneste beslissing\" width=\"750\" height=\"736\" class=\"img-fluid atto_image_button_text-bottom\"></p>\n",
    "\n",
    "\n",
    "<p>De vertaling van het bovenstaande stroomdiagram in code is:</p>\n"
   ]
  },
  {
   "cell_type": "code",
   "execution_count": null,
   "metadata": {},
   "outputs": [],
   "source": [
    "leeftijd = 21\n",
    "if leeftijd < 12:\n",
    "  print( \"kind\" )\n",
    "else:\n",
    "  if leeftijd < 18:\n",
    "    print( \"tiener\" )\n",
    "  else:\n",
    "    if leeftijd < 30:\n",
    "      print( \"jong\" )\n",
    "    else:\n",
    "      if leeftijd < 50:\n",
    "        print( \"ouder\" )\n",
    "      else:\n",
    "        print( \"oud\" )"
   ]
  },
  {
   "cell_type": "markdown",
   "metadata": {},
   "source": [
    "### Opdracht 4.15: Geneste condities\n",
    "\n",
    "<p> Verander in de code hieronder de waarde van de variabele <code>leeftijd</code>. Leg aan je buurman of buurvrouw uit hoe de geneste <code><code>if-else</code></code> werkt.</p>\n"
   ]
  },
  {
   "cell_type": "code",
   "execution_count": null,
   "metadata": {
    "tags": [
     "Opdracht"
    ]
   },
   "outputs": [],
   "source": [
    "leeftijd = 21\n",
    "if leeftijd < 12:\n",
    "  print( \"kind\" )\n",
    "else:\n",
    "  if leeftijd < 18:\n",
    "    print( \"tiener\" )\n",
    "  else:\n",
    "    if leeftijd < 30:\n",
    "      print( \"jong\" )\n",
    "    else:\n",
    "      if leeftijd < 50:\n",
    "        print( \"ouder\" )\n",
    "      else:\n",
    "        print( \"oud\" )\n",
    "print(\"Klaar!\")"
   ]
  },
  {
   "cell_type": "markdown",
   "metadata": {},
   "source": [
    "### Opdracht 4.16: Nadenken over geneste condities\n",
    "\n",
    "<p>Voor welke waarden van <code>getal</code> zal <i>B</i> worden\n",
    "    geprint?</p>"
   ]
  },
  {
   "cell_type": "code",
   "execution_count": null,
   "metadata": {
    "tags": [
     "Opdracht"
    ]
   },
   "outputs": [],
   "source": [
    "getal = 0\n",
    "\n",
    "if getal < 3:\n",
    "\tprint(\"A\")\n",
    "\n",
    "else:\n",
    "\tif getal < 6:\n",
    "\t\tprint(\"B\")\n",
    "\telse:\n",
    "\t\tprint(\"C\")"
   ]
  }
 ],
 "metadata": {
  "kernelspec": {
   "display_name": "Python 3",
   "language": "python",
   "name": "python3"
  },
  "language_info": {
   "name": "python",
   "version": "3.12.2"
  }
 },
 "nbformat": 4,
 "nbformat_minor": 2
}
