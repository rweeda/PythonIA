{
 "cells": [
  {
   "cell_type": "markdown",
   "metadata": {},
   "source": [
    "## 6: Logische operatoren\n",
    "\n",
    "[![Watch the video](https://img.youtube.com/vi/ihHAc0SWBgs/hqdefault.jpg)](https://www.youtube.com/embed/ihHAc0SWBgs)\n",
    "\n",
    "\n",
    "<p>Condities kun je combineren met een combinatie van de drie logische operatoren: <code>and</code>, <code>or</code> en <code>not</code>. </p>\n",
    "                <ul>\n",
    "                    <li>Als <b><code>and</code></b> tussen twee condities staat, is het resultaat <code>True</code> als beide condities <code>True</code> zijn; anders is het resultaat <code>False</code>.\n",
    "                    </li>\n",
    "                    <li>Als <b><code>or</code></b> tussen twee condities staat, is het resultaat <code>True</code> als één of beide condities <code>True</code> is. Het resultaat is alleen <code>False</code> als beide <code>False</code> zijn.\n",
    "                    </li>\n",
    "                    <li><b><code>not</code> </b>kun je voor een conditie plaatsen om deze om te keren van <code>True</code> naar <code>False</code> en andersom.\n",
    "                    </li>\n",
    "                </ul>\n",
    "\n",
    "<p>We bekijken een voorbeeld. Bij het inloggen op een website moeten <b>zowel</b> de gebruikersnaam als het wachtwoord kloppen. Hiervoor gebruik je de <code>and</code>:\n"
   ]
  },
  {
   "cell_type": "code",
   "execution_count": null,
   "metadata": {},
   "outputs": [],
   "source": [
    "gebruikersnaam = \"Janneke\"\n",
    "\n",
    "print(\"Voer wachtwoord in:\")\n",
    "wachtwoord = input()\n",
    "\n",
    "if (gebruikersnaam == \"Janneke\") and (wachtwoord == \"appelmoes\"):\n",
    "  print(\"je bent ingelogd\")\n",
    "\n",
    "else:\n",
    "  print (\"je bent niet ingelogd\")"
   ]
  },
  {
   "cell_type": "markdown",
   "metadata": {},
   "source": [
    "## Complete voorwaarden\n",
    "<p>Bij de <code>if</code> moeten zowel links als rechts van de operatoren complete voorwaarden staan. In Python kun je niet zeggen:<br>\n",
    "Als <code>dobbelsteen == 2 or 4 or 6\"</code> (dus: \"<i>Als dobbelsteen 2 of 4 of 6 is</i>\").</p>\n",
    "\n",
    "<p>Je moet expliciet de variabele <code>dobbelsteen</code> herhalen, dus: <code>dobbelsteen == 2 or dobbelsteen == 4 or dobbelsteen == 6</code>.</p>\n",
    "\n",
    "<p>De uitkomst levert anders namelijk niet altijd een correct antwoord op. Bijvoorbeeld, de code \n",
    "hieronder geeft bij 3 aan dat het even is. Dit gaat fout omdat <code>dobbelsteen == </code> bij 4 en 6 ontbreekt.\n",
    "</p>"
   ]
  },
  {
   "cell_type": "code",
   "execution_count": null,
   "metadata": {},
   "outputs": [],
   "source": [
    "dobbelsteen = 3\n",
    "\n",
    "if dobbelsteen == 2 or 4 or 6: # Dit is FOUT: 'dobelsteen ==' ontbreekt twee keer\n",
    "    print( dobbelsteen, \"is even.\" )\n",
    "else:\n",
    "    print( dobbelsteen, \"is oneven.\")"
   ]
  },
  {
   "cell_type": "markdown",
   "metadata": {},
   "source": [
    "### Opdracht 4.12: Het is weekend!\n",
    "\n",
    "<p>Schrijf een programma dat de gebruiker vraagt om de dag van de week en dan print of het weekend is of niet.</p>\n",
    "                <ol type=\"a\">\n",
    "                    <li>Vraag de gebruiker welke dag van de week het is, bijvoorbeeld: \"maandag\".\n",
    "                    </li>\n",
    "                    <li>Sla de gebruikersinvoer op in een variabele <code>vandaag</code>.\n",
    "                    </li>\n",
    "                    <li>Als <code>vandaag</code> zaterdag of zondag is, druk dan af: <i>Het is weekend!</i>\n",
    "                    </li>\n",
    "                    <li>Anders druk je af: <i>Helaas, geen weekend.</i>\n",
    "                    </li>\n",
    "                    <li>Test met verschillende dagen van de week, bijvoorbeeld \"donderdag\" en \"zaterdag\".\n",
    "                    </li>\n",
    "                </ol>\n",
    "\n",
    "\n",
    "<!-- ## Complete voorwaarden\n",
    "<p>Let op: links en rechts van de operatoren moeten complete voorwaarden staan.\n",
    "\n",
    "Dus in Python kun je niet zeggen:\n",
    "\n",
    "<p>Als <code>vandaag == \"zaterdag\" or \"zondag\"</code> (dus: \"<i>Als het vandaag zaterdag of zondag is</i>\").</p>\n",
    "\n",
    "<p>Je moet expliciet de variabele <code>vandaag</code> herhalen, dus: <code>vandaag == \"zaterdag\" or vandaag == \"zondag\"</code>.</p>\n",
    "\n",
    "<p>De uitkomst levert anders namelijk niet altijd een correct antwoord op. Bijvoorbeeld, de code \n",
    "hieronder geeft voor \"<i>donderdag</i>\" aan dat het weekend is. Dit is fout omdat <code>vandaag == </code> bij zondag ontbreekt.\n",
    "</p>-->"
   ]
  },
  {
   "cell_type": "code",
   "execution_count": null,
   "metadata": {
    "tags": [
     "Opdracht"
    ]
   },
   "outputs": [],
   "source": [
    "# vraag de gebruiker om invoer en sla dit op in een variabele 'vandaag'\n",
    "\n",
    "\n",
    "if #controleer hier iets\n",
    "    print( \"Het is weekend!\" )\n",
    "#vul hier ook iets in\n",
    "    print( \"Helaas, geen weekend.\")"
   ]
  }
 ],
 "metadata": {
  "kernelspec": {
   "display_name": "Python 3",
   "language": "python",
   "name": "python3"
  },
  "language_info": {
   "codemirror_mode": {
    "name": "ipython",
    "version": 3
   },
   "file_extension": ".py",
   "mimetype": "text/x-python",
   "name": "python",
   "nbconvert_exporter": "python",
   "pygments_lexer": "ipython3",
   "version": "3.13.2"
  }
 },
 "nbformat": 4,
 "nbformat_minor": 2
}
