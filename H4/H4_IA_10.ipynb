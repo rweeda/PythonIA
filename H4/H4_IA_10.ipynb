{
 "cells": [
  {
   "cell_type": "markdown",
   "metadata": {},
   "source": [
    "## 10: Anders als: <code>if-elif-else</code>\n",
    "\n",
    "[![Watch the video](https://img.youtube.com/vi/P6VwBw0V5a8/hqdefault.jpg)](https://www.youtube.com/embed/P6VwBw0V5a8)\n",
    "\n",
    "\n",
    "<p>Een andere manier om een <em>geneste if</em> te schrijven is met een\n",
    "    <code>if-elif-else</code>-constructie. <code>elif</code>\n",
    "    staat voor \"else if\" (oftewel \"anders als\"). Hiermee voer je één van\n",
    "    meerdere blokken uit, maar niet meer dan &eacute;&eacute;n. \n",
    "</p>"
   ]
  },
  {
   "cell_type": "code",
   "execution_count": null,
   "metadata": {},
   "outputs": [],
   "source": [
    "leeftijd = 21\n",
    "if leeftijd < 12:\n",
    "    print( \"kind\" )\n",
    "elif leeftijd < 18:\n",
    "    print( \"tiener\" )\n",
    "elif leeftijd < 30:\n",
    "    print( \"jong\" )\n",
    "elif leeftijd < 50:\n",
    "    print( \"ouder\" )\n",
    "else:\n",
    "    print( \"oud\" )\n",
    "\t\n",
    "print(\"Klaar!\")"
   ]
  },
  {
   "cell_type": "markdown",
   "metadata": {},
   "source": [
    "<p>Deze code geeft trouwens hetzelfde resultaat als de <em>geneste if</em>\n",
    "    bij het vorige theorieblok.</p>\n",
    "\n",
    "<p>De verschillende tests in een <code>if-elif-else</code>-constructie worden\n",
    "    achter elkaar uitgevoerd. Zodra er een conditie <code>True</code> is, dan\n",
    "    wordt het bijbehorende ingesprongen blok code uitgevoerd. Daarna wordt er\n",
    "    <b>geen</b> code meer uitgevoerd die bij de <code>if-elif-else</code>-constructie hoort en gaat het programma verder na het blok van de laatste\n",
    "    <code>elif</code> of <code>else</code>.\n",
    "</p>\n",
    "\n",
    "\n",
    "<p>Voor het voorbeeld hierboven betekent dit:\n",
    "\n",
    "</p>\n",
    "<ul>\n",
    "    <li>De <code>if</code> op\n",
    "        regel 2 levert <code>False</code> op, dus wordt doorgegaan naar regel 4;\n",
    "    </li>\n",
    "    <li>De <code>elif</code> op regel 4 levert <code>True</code> op, dus de\n",
    "        <code>print(\"tiener\")</code> op regel 5 wordt uitgevoerd;\n",
    "    </li>\n",
    "    <li>Er is één blok uitgevoerd, dus het programma is klaar. Er\n",
    "        wordt naar het einde van de constructie op regel 12 gesprongen;\n",
    "    </li>\n",
    "    <li>De\n",
    "        volgende regel code na de <code>if-elif-else</code> wordt uitgevoerd, dus\n",
    "        <code>print(\"Klaar!\")</code>.\n",
    "    </li>\n",
    "</ul>"
   ]
  },
  {
   "cell_type": "markdown",
   "metadata": {},
   "source": [
    "### Opdracht 4.17: Anders als: <code>elif</code>\n",
    "\n",
    "<p>Verander in de code hieronder de waarde van de variabele\n",
    "    <code>leeftijd</code> in achtereenvolgens: 11, 12, 18, 30, 50 en 66. Leg aan je buurman of buurvrouw uit hoe de\n",
    "    <code>elif</code>-constructie werkt.\n",
    "</p>"
   ]
  },
  {
   "cell_type": "code",
   "execution_count": null,
   "metadata": {
    "tags": [
     "Opdracht"
    ]
   },
   "outputs": [],
   "source": [
    "leeftijd = 21\n",
    "if leeftijd < 12:\n",
    "\tprint( \"kind\" )\n",
    "elif leeftijd < 18:\n",
    "\tprint( \"tiener\" )\n",
    "elif leeftijd < 30:\n",
    "\tprint( \"jong\" )\n",
    "elif leeftijd < 50:\n",
    "\tprint( \"ouder\" )\n",
    "else:\n",
    "\tprint( \"oud\" )\n",
    "\t\n",
    "print(\"Klaar!\")"
   ]
  },
  {
   "cell_type": "markdown",
   "metadata": {},
   "source": [
    "### Opgave 4.18: Bagagetoeslag\n",
    "\n",
    "<p>\n",
    "    Schrijf een programma voor een vliegtuigmaatschappij dat bepaalt of de bagage\n",
    "    te zwaar is of niet.</p>\n",
    "\n",
    "<ul>\n",
    "    <li>Vraag de gebruiker om een gewicht in te voeren.\n",
    "    </li>\n",
    "    <li>Maak een variabele <code>gewicht</code> en stel dit gelijk aan de\n",
    "        ingevoerde waarde.\n",
    "    </li>\n",
    "    <li>Als de bagage zwaarder is dan 20, print je: <i>Er moet een toeslag van\n",
    "            $25 betaald worden voor bagage die te zwaar is.</i>\n",
    "    </li>\n",
    "    <li>Als de bagage lichter is dan 20, print je: <i>Goede reis!</i>\n",
    "    </li>\n",
    "    <li>Als de bagage precies 20 weegt, print je: <i>Poeh! Dat gewicht is precies\n",
    "            goed!</i> </li>\n",
    "</ul>\n",
    "\n",
    "<p>Wijzig de waarde van <code>gewicht</code> een paar keer om de code te testen.</p>\n"
   ]
  },
  {
   "cell_type": "code",
   "execution_count": null,
   "metadata": {
    "tags": [
     "Opdracht"
    ]
   },
   "outputs": [],
   "source": [
    "print(\"Wat is het gewicht? \")\n",
    "invoer = input()\n",
    "gewicht = float( invoer )\n",
    "\n",
    "### typ hier iets\n",
    "\tprint( \"Er moet een toeslag van $25 betaald worden voor bagage die te zwaar is.\" )\n",
    "### typ hier iets\n",
    "\tprint( \"Goede reis!\" )\n",
    "### typ hier iets\n",
    "\tprint( \"Poeh! Dat gewicht is precies goed!\" )"
   ]
  },
  {
   "cell_type": "markdown",
   "metadata": {},
   "source": [
    "### Opdracht 4.19: Enquête\n",
    "\n",
    "<p>\n",
    "    Voor haar PWS over leesboeken wil Julie met een enquête enkele vragen stellen\n",
    "    aan kinderen van 16 jaar en jonger. Hiervoor heeft ze het onderstaand\n",
    "    programma geschreven. Gebruik <code>elif</code>'s om de vragen aan te passen\n",
    "    aan leeftijdscategorieën: </p>\n",
    "<ol>\n",
    "    <li>vraag bij kinderen van 6 jaar en jonger vraag naar de lievelings<i>prentenboek</i>;</li>\n",
    "    <li>vraag bij kinderen tussen de 6 en 10 vraag naar de lievelings<i>verhalenboek</i>. Kinderen van 10 krijgen deze vraag te zien, maar kinderen van 6 niet;</li>\n",
    "    <li>vraag bij kinderen tussen de 10 en 16 vraag naar de lievelings<i>roman</i>. Kinderen van 16 krijgen deze vraag wel te zien, maar kinderen van 10 niet.</li>\n",
    "</ol>"
   ]
  },
  {
   "cell_type": "code",
   "execution_count": null,
   "metadata": {
    "tags": [
     "Opdracht"
    ]
   },
   "outputs": [],
   "source": [
    "print(\"Hoe oud ben jij?\")\n",
    "invoer = input()\n",
    "jouw_leeftijd = int( invoer )\n",
    "\n",
    "if jouw_leeftijd <= 16:\n",
    "\tprint(\"Perfect. Ik wil graag weten wat voor leesboeken kinderen leuk vinden.\")\n",
    "\tjouw_boek_keuze = input(\"Wat is je lievelingsboek?\")\n",
    "\tprint(\"Goeie keuze! Ik vind\", jouw_boek_keuze, \"ook leuk!\")\n",
    "\n",
    "else:\n",
    "\tprint(\"Bedankt voor het meedenken, maar deze enquête is alleen voor kinderen\")"
   ]
  }
 ],
 "metadata": {
  "kernelspec": {
   "display_name": "Python 3",
   "language": "python",
   "name": "python3"
  },
  "language_info": {
   "codemirror_mode": {
    "name": "ipython",
    "version": 3
   },
   "file_extension": ".py",
   "mimetype": "text/x-python",
   "name": "python",
   "nbconvert_exporter": "python",
   "pygments_lexer": "ipython3",
   "version": "3.13.2"
  }
 },
 "nbformat": 4,
 "nbformat_minor": 2
}
