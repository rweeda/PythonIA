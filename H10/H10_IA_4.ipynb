{
 "cells": [
  {
   "cell_type": "markdown",
   "metadata": {},
   "source": [
    "## 4: Lijst doorzoeken\n",
    "\n",
    "\n",
    "[![Watch the video](https://img.youtube.com/vi/ASBwLyuCbBA/hqdefault.jpg)](https://www.youtube.com/embed/ASBwLyuCbBA)\n",
    "\n",
    "<p>Om een lijst te doorzoeken of er een specifieke waarde in voorkomt, gebruik je een logische vlag (op hetzelfde manier als in <i>Onderwerp '7.3 Logische vlag'</i>). Je houdt een Boolean <code>gevonden</code> bij, die eerst <code>False</code> is. Je doorloopt de lijst en als je de waarde vindt, zet je de vlag op <code>True</code>.</p>\n",
    "\n",
    "\n",
    "<p><img src=\"https://course.cs.ru.nl/pythonVO/img/10.4VoorkomensZoeken_Stroomdiagram.jpg\" alt=\"Figuur: Stroomdiagram zoeken\" width=\"400\"></p>\n",
    "\n",
    "\n",
    "<p>In het voorbeeld hieronder bekijken we of \"wortel\" in <code>fruitLijst</code> voorkomt of niet.</p>\n",
    "\n"
   ]
  },
  {
   "cell_type": "code",
   "execution_count": null,
   "metadata": {},
   "outputs": [],
   "source": [
    "fruitLijst  = [\"banaan\", \"appel\", \"druif\", \"peer\", \"wortel\"]\n",
    "\n",
    "wortelGevonden = False\t#logische vlag: nu nog geen wortel gevonden\n",
    "\n",
    "for fruit in fruitLijst:\n",
    "\tif fruit == \"wortel\":\t\t#'wortel' in lijst gevonden\n",
    "\t\twortelGevonden = True\t#logische vlag aanpassen\n",
    "\n",
    "\n",
    "if wortelGevonden == True:\n",
    "\tprint(\"Een wortel is toch geen fruit!\")\n",
    "else:\n",
    "\tprint(\"Er staat alleen fruit in je lijst.\")"
   ]
  },
  {
   "cell_type": "markdown",
   "metadata": {},
   "source": [
    "\n",
    "<p>Toelichting:\n",
    "</p>\n",
    "<ul>\n",
    "    <li>we doorlopen de lijst met een <code>for</code>-loop.</li>\n",
    "    <li>om te beginnen is er nog geen wortel gevonden, dus <code>wortelGevonden</code> is\n",
    "        <code>False</code>.\n",
    "    </li>\n",
    "    <li>komen we een wortel tegen, dan wordt <code>wortelGevonden</code>\n",
    "        <code>True</code>.\n",
    "    </li>\n",
    "    <li>is <code>wortelGevonden</code> na afloop nog steeds <code>False</code>, dan weet je dat er geen wortel in de lijst stond.</li>\n",
    "</ul>\n",
    "<p></p>\n",
    "\n",
    "\n"
   ]
  },
  {
   "cell_type": "markdown",
   "metadata": {},
   "source": [
    "\n",
    "### Opdracht 10.6 Check op onvoldoendes in cijferlijst\n",
    "\n",
    "<p>Schrijf een functie die de cijferlijst van een leerling doorloopt, <code>True</code> oplevert als hier een onvoldoende in staat, anders <code>False</code> oplevert. Een 5 of lager is onvoldoende.</p>\n",
    "\n",
    "<p>Test je functie met de volgende cijferlijsten (zet ze om de beurt in commentaar):</p>\n",
    "\n",
    "\n",
    "\n",
    "\n",
    "\n"
   ]
  },
  {
   "cell_type": "code",
   "execution_count": null,
   "metadata": {},
   "outputs": [],
   "source": [
    "cijferLijst = [8.2, 7.4, 6.1, 9.0, 4.9, 8.0]\t#met onvoldoende\n",
    "#cijferLijst = [8.2, 7.4, 6.1, 9.0, 5.1, 8.0]\t#zonder onvoldoende\n"
   ]
  },
  {
   "cell_type": "markdown",
   "metadata": {},
   "source": [
    "\n",
    "<p>Bekijk <a href=\"https://rweeda.github.io/PythonIA/docs/IA_H10_oplossingen.html#opgave1041\" target=\"_blank\">hier</a> de voorbeelduitwerking.</p>"
   ]
  }
 ],
 "metadata": {
  "kernelspec": {
   "display_name": "Python 3",
   "language": "python",
   "name": "python3"
  },
  "language_info": {
   "codemirror_mode": {
    "name": "ipython",
    "version": 3
   },
   "file_extension": ".py",
   "mimetype": "text/x-python",
   "name": "python",
   "nbconvert_exporter": "python",
   "pygments_lexer": "ipython3",
   "version": "3.11.8"
  }
 },
 "nbformat": 4,
 "nbformat_minor": 2
}
