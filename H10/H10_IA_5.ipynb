{
 "cells": [
  {
   "cell_type": "markdown",
   "metadata": {},
   "source": [
    "## 5: Kleinste en grootste uit een lijst bepalen\n",
    "<p>Met een <code>for</code>-loop kun je ook bepalen wat het kleinste (of grootste) getal is dat in een lijst voorkomt. Je gebruikt daarvoor een variabele om bij te houden wat de kleinste waarde is die je tot dan toe gezien hebt. Kom je nog een kleinere waarde tegen, dan sla je die kleinere waarde op in je variabele. Om te beginnen is de eerste waarde de kleinste waarde tot dan toe.</p>\n",
    "\n",
    "<p><img src=\"https://course.cs.ru.nl/pythonVO/img/10.5Kleinste_Stroomdiagram.jpg\" alt=\"Figuur: Stroomdiagram kleinste\" width=\"400\"></p>\n",
    "\n",
    "\n",
    "\n",
    "\n"
   ]
  },
  {
   "cell_type": "code",
   "execution_count": null,
   "metadata": {},
   "outputs": [],
   "source": [
    "getallenlijst = [ 4, 2, 3, 1, 6, 7]\n",
    "\n",
    "#pak de eerste waarde uit lijst, \n",
    "#die is dan de kleinste tot nu toe\n",
    "kleinste_tot_nu_toe = getallenlijst[0] \n",
    "\n",
    "#doorloop alle getallen\n",
    "for getal in getallenlijst:\n",
    "\tif getal < kleinste_tot_nu_toe:\t\t#als er kleinere waarde wordt gevonden\n",
    "\t\tkleinste_tot_nu_toe = getal\t\t\t#dan de waarde van kleinste aanpassen\n",
    "\n",
    "print(\"kleinste is\", kleinste_tot_nu_toe)"
   ]
  },
  {
   "cell_type": "markdown",
   "metadata": {},
   "source": [
    "\n",
    "### Opdracht 10.7 De meeste likes\n",
    "<p>Een groepje meiden wil hun aantal likes bij TikTok vergelijken. Hun likes staan in een lijst:\n",
    "    <!--<pre class=\"python\">\n",
    "likes_lijst = [102, 110, 502, 234, 340, 20]\n",
    "</pre>-->\n",
    "\n",
    "</p>\n",
    "<p>Bepaal wat het grootste aantal likes is. Hiervoor gebruik je een <code>for</code>-loop zoals in het vorige voorbeeld gedaan is, maar in plaats van naar het kleinste ga je op zoek naar de grootste.</p>\n"
   ]
  },
  {
   "cell_type": "code",
   "execution_count": null,
   "metadata": {},
   "outputs": [],
   "source": [
    "likes_lijst = [102, 110, 502, 234, 340, 20]"
   ]
  },
  {
   "cell_type": "markdown",
   "metadata": {},
   "source": [
    "\n",
    "<p>Bekijk <a href=\"https://course.cs.ru.nl/pythonVO/Teams/IA_uitwerkingen/IA_H10_oplossingen.html#opgave1051\" target=\"_blank\">hier</a> de voorbeelduitwerking.</p>"
   ]
  }
 ],
 "metadata": {
  "kernelspec": {
   "display_name": "Python 3",
   "language": "python",
   "name": "python3"
  },
  "language_info": {
   "codemirror_mode": {
    "name": "ipython",
    "version": 3
   },
   "file_extension": ".py",
   "mimetype": "text/x-python",
   "name": "python",
   "nbconvert_exporter": "python",
   "pygments_lexer": "ipython3",
   "version": "3.11.8"
  }
 },
 "nbformat": 4,
 "nbformat_minor": 2
}
