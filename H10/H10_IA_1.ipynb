{
 "cells": [
  {
   "cell_type": "markdown",
   "metadata": {},
   "source": [
    "## 1: Lijsten met <code>for</code>-loop doorlopen (herhaling)\n",
    "[![Watch the video](https://img.youtube.com/vi/76YyLvpCJmw/hqdefault.jpg)](https://www.youtube.com/embed/76YyLvpCJmw)\n",
    "\n",
    "<p>Met een <code>for</code>-loop kun je makkelijk door de elementen van een lijst heen lopen. Eén voor één wordt elk element uit de lijst in een variabele opgeslagen. In de code van de <code>for</code>-loop kan je dan iets met die variabele doen.</p>\n",
    "\n",
    "<p>Hieronder zie je een voorbeeld waarbij we alle elementen van de lijst <code>fruitlijst</code> doorlopen. Eén voor één wordt elk element opgeslagen in een variabele <code>fruit</code> die we vervolgens afdrukken:</p>\n",
    "\n"
   ]
  },
  {
   "cell_type": "code",
   "execution_count": null,
   "metadata": {},
   "outputs": [],
   "source": [
    "fruitlijst  = [\"banaan\", \"appel\", \"wortel\", \"druif\", \"peer\"]\n",
    "\n",
    "for fruit in fruitlijst:\n",
    "\tprint( fruit )"
   ]
  },
  {
   "cell_type": "markdown",
   "metadata": {},
   "source": [
    "\n",
    "### Opdracht 10.1 Weekend!\n",
    "<p>Het onderstaande programma doorloopt een lijst met dagen en print <i>Vandaag is het ... dus het is weekend!</i> als het een zaterdag of zondag tegenkomt. Helaas staan de regels code in de verkeerde volgorde. Kan jij de regels op de juiste volgorde zetten?</p>\n",
    "\n"
   ]
  },
  {
   "cell_type": "code",
   "execution_count": null,
   "metadata": {},
   "outputs": [],
   "source": [
    "\tif( dag == \"za\" or dag == \"zo\"):\n",
    "dagenlijst = [\"ma\", \"di\", \"wo\", \"do\", \"vr\", \"za\", \"zo\"]\n",
    "\t\tprint(\"Vandaag is het\", dag, \"dus het is weekend!\")\n",
    "for dag in dagenlijst:"
   ]
  },
  {
   "cell_type": "markdown",
   "metadata": {},
   "source": [
    "<p>Bekijk <a href=\"https://rweeda.github.io/PythonIA/docs/IA_H10_oplossingen.html#opgave1011\" target=\"_blank\">hier</a> de voorbeelduitwerking.</p>\n",
    "\n"
   ]
  },
  {
   "cell_type": "markdown",
   "metadata": {},
   "source": [
    "\n",
    "### Opdracht 10.2 Let op voor de onvoldoendes\n",
    "<p>Schrijf een programma dat een cijferlijst doorloopt en voor elke onvoldoende de tekst \"<i>Let op: een ... is onvoldoende!</i>\" print. Een 5 of lager is onvoldoende. Op de plek van ... komt het cijfer te staan.</p>\n",
    "\n",
    "<p>Bijvoorbeeld, bij de cijferlijst <code>[8.2, 6.2, 5.0, 4.9, 7.1]</code> wordt geprint:</p>\n",
    "<p><i>Let op: een 5.0 is onvoldoende!</i><br><i>Let op: een 4.9 is onvoldoende!</i></p>\n",
    "\n",
    "\n",
    "\n",
    "\n"
   ]
  },
  {
   "cell_type": "code",
   "execution_count": null,
   "metadata": {},
   "outputs": [],
   "source": [
    "cijferlijst = [8.2, 6.2, 5.0, 4.9, 7.1]\n"
   ]
  },
  {
   "cell_type": "markdown",
   "metadata": {},
   "source": [
    "<p>Bekijk <a href=\"https://rweeda.github.io/PythonIA/docs/IA_H10_oplossingen.html#opgave1012\" target=\"_blank\">hier</a> de voorbeelduitwerking.</p>"
   ]
  }
 ],
 "metadata": {
  "kernelspec": {
   "display_name": "Python 3",
   "language": "python",
   "name": "python3"
  },
  "language_info": {
   "codemirror_mode": {
    "name": "ipython",
    "version": 3
   },
   "file_extension": ".py",
   "mimetype": "text/x-python",
   "name": "python",
   "nbconvert_exporter": "python",
   "pygments_lexer": "ipython3",
   "version": "3.11.8"
  }
 },
 "nbformat": 4,
 "nbformat_minor": 2
}
