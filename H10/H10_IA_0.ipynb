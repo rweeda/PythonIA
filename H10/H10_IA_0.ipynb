{
 "cells": [
  {
   "cell_type": "markdown",
   "metadata": {},
   "source": [
    "# Onderwerp  10 - Plannen met lijsten\n",
    "\n",
    "<p>Bij dit onderwerp staan we stil bij een aantal vaak voorkomende algoritmen of <i>plannen</i>. Deze plannen worden vaak samengevoegd en aangepast om andere problemen op te lossen. Door ze te herkennen en toe te passen zal je zelf makkelijker grotere programma's\n",
    "    kunnen schrijven. Voor sommige van deze algoritmen kent Python standaardfuncties. Het gaat er nu juist om dat je leert nadenken over hoe zo'n algoritme werkt en dus <b>juist niet</b>&nbsp;over het aanroepen van een bestaande functie.</p>\n",
    "\n",
    "<p>Met een <code>for</code>-loop kun je makkelijk door de elementen van een lijst heen lopen. Eén voor één wordt elk element uit de lijst in een variabele opgeslagen. In de code van de for-loop kan je dan iets met die variabele doen. </p>\n",
    "\n",
    "\n",
    "<p>In dit onderwerp:</p>\n",
    "<ul>\n",
    "    <li> leer je met een <code>for</code>-loop een lijst doorlopen;</li>\n",
    "    <li> leer je zoeken: met een <code>for</code>-loop kijken of een bepaalde waarde in de lijst voorkomt en waar die voorkomt;</li>\n",
    "    <li> leer je filteren: gegeven een lijst een nieuwe opleveren met bepaalde waarden daaruit weggelaten;</li>\n",
    "    <li> leer je voorkomens tellen: met een <code>for</code>-loop het aantal voorkomens in een lijst tellen;</li>\n",
    "    <li> leer je met een <code>for</code>-loop de grootste en kleinste waarde van een lijst bepalen;</li>\n",
    "    <li> leer je met een <code>for</code>-loop de som van alle waarden van een lijst bepalen.</li>\n",
    "</ul>\n",
    "<p></p>\n",
    "\n",
    "<div class=\"fa fa-clock-o fa-3x\"></div><br> <b>2 uur</b>"
   ]
  }
 ],
 "metadata": {
  "kernelspec": {
   "display_name": "Python 3",
   "language": "python",
   "name": "python3"
  },
  "language_info": {
   "codemirror_mode": {
    "name": "ipython",
    "version": 3
   },
   "file_extension": ".py",
   "mimetype": "text/x-python",
   "name": "python",
   "nbconvert_exporter": "python",
   "pygments_lexer": "ipython3",
   "version": "3.11.8"
  }
 },
 "nbformat": 4,
 "nbformat_minor": 2
}
