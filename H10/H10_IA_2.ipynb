{
 "cells": [
  {
   "cell_type": "markdown",
   "metadata": {},
   "source": [
    "## 2: Waarderen uit een lijst filteren\n",
    "\n",
    "\n",
    "[![Watch the video](https://img.youtube.com/vi/5UemeYRqX7A/hqdefault.jpg)](https://www.youtube.com/embed/5UemeYRqX7A)\n",
    "\n",
    "\n",
    "\n",
    "<p>Soms wil je alleen bepaalde waarden uit een lijst hebben, bijvoorbeeld alle getallen, behalve 0. Dat noemen we <i>filteren</i>. Je maakt een nieuwe lege lijst aan en vul je aan met de waarden die je wilt behouden.</p>\n",
    "<p>In het voorbeeld hieronder maken we een nieuwe lijst aan:&nbsp;<code>weekdagenlijst</code>. We doorlopen de lijst <code>dagenlijst</code>. Als we een dag tegenkomen die niet in het weekend valt, dan voegen we die aan <code>weekdagenlijst</code> toe. Na afloop zijn er dus twee lijsten: de originele <code>dagenlijst</code> met alle dagen en een nieuwe <code>weekdagenlijst</code> met alleen de weekdagen.</p>\n",
    "<p><img src=\"https://course.cs.ru.nl/pythonVO/img/10.2FilterWeekendenEruit_Stroomdiagram.png\" alt=\"Figuur: Stroomdiagram waarden eruit filteren\" width=\"400\"></p>\n",
    "\n",
    "\n"
   ]
  },
  {
   "cell_type": "code",
   "execution_count": null,
   "metadata": {},
   "outputs": [],
   "source": [
    "dagenlijst = [\"ma\", \"di\", \"wo\", \"do\", \"vr\", \"za\", \"zo\"]\t#alle dagen van de week\n",
    "\n",
    "weekdagenlijst = []\t#lege lijst\n",
    "\n",
    "for dag in dagenlijst:\n",
    "\tif( dag != \"za\" and dag != \"zo\"): #als het geen van beide weekenddagen is\n",
    "\t\tweekdagenlijst.append( dag )\t#voeg dag toe aan weekdagenlijst\n",
    "\n",
    "print(\"Lijst met weekdagen: \", weekdagenlijst)"
   ]
  },
  {
   "cell_type": "markdown",
   "metadata": {},
   "source": [
    "\n",
    "### Opdracht 10.3 Weg met de onvoldoendes\n",
    "<p>De functie hieronder heeft als doel om alle onvoldoendes uit een lijst te filteren. Zij krijgt een lijst als parameter binnen en levert een nieuwe lijst op, zonder onvoldoendes erin. Maar de coderegels staan in de verkeerde volgorde. Kun je het programma fixen?</p>\n",
    "\n",
    "\n",
    "\n"
   ]
  },
  {
   "cell_type": "code",
   "execution_count": null,
   "metadata": {},
   "outputs": [],
   "source": [
    "### FUNCTIEDEFINITIE\n",
    "\treturn lijst_zonder_onvoldoendes\n",
    "\t\tif cijfer > 5.0:\n",
    "\tfor cijfer in lijst_met_onvoldoendes:\n",
    "\tlijst_zonder_onvoldoendes = []\t\n",
    "\t\t\tlijst_zonder_onvoldoendes.append( cijfer )\n",
    "def geefLijstZonderOnvoldoende( lijst_met_onvoldoendes ):\t\n",
    "\t\n",
    "### HOOFDPROGRAMMA\n",
    "print( nieuwelijst )\n",
    "cijferlijst = [8.2, 6.2, 5.0, 4.9, 7.1]\n",
    "nieuwelijst = geefLijstZonderOnvoldoende( cijferlijst )"
   ]
  },
  {
   "cell_type": "markdown",
   "metadata": {},
   "source": [
    "<p>Bekijk <a href=\"https://course.cs.ru.nl/pythonVO/Teams/IA_uitwerkingen/IA_H10_oplossingen.html#opgave1021\" target=\"_blank\">hier</a> de voorbeelduitwerking.</p>\n",
    "\n"
   ]
  },
  {
   "cell_type": "markdown",
   "metadata": {},
   "source": [
    "\n",
    "### Opdracht 10.4 Alleen vorstdagen\n",
    "<p>De KNMI houdt dagelijks de temperaturen bij in een lijst, maar is alleen geïnteresseerd in de vorstdagen, dus met temperatuur onder 0. Schrijf een functie die een temperaturenlijst binnenkrijgt als parameter en een lijst met alleen negatieve temperaturen oplevert. Roep de functie in je hoofdprogramma aan en print ter controle de opgeleverde lijst.</p>\n",
    "\n"
   ]
  },
  {
   "cell_type": "code",
   "execution_count": null,
   "metadata": {},
   "outputs": [],
   "source": [
    "### FUNCTIEDEFINITIE\n",
    "\n",
    "\n",
    "\n",
    "\n",
    "\n",
    "\n",
    "### HOOFDPROGRAMMA\n",
    "temperatuurlijst = [ -2.2, 3.1, 0.0, -0.4, 0.2]\n",
    "\n"
   ]
  },
  {
   "cell_type": "markdown",
   "metadata": {},
   "source": [
    "\n",
    "<p>Bekijk <a href=\"https://course.cs.ru.nl/pythonVO/Teams/IA_uitwerkingen/IA_H10_oplossingen.html#opgave1022\" target=\"_blank\">hier</a> de voorbeelduitwerking.</p>"
   ]
  }
 ],
 "metadata": {
  "kernelspec": {
   "display_name": "Python 3",
   "language": "python",
   "name": "python3"
  },
  "language_info": {
   "codemirror_mode": {
    "name": "ipython",
    "version": 3
   },
   "file_extension": ".py",
   "mimetype": "text/x-python",
   "name": "python",
   "nbconvert_exporter": "python",
   "pygments_lexer": "ipython3",
   "version": "3.11.8"
  }
 },
 "nbformat": 4,
 "nbformat_minor": 2
}
