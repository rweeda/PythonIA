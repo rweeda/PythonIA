{
 "cells": [
  {
   "cell_type": "markdown",
   "metadata": {},
   "source": [
    "## 3: Aantal voorkomens in een lijst tellen\n",
    "\n",
    "[![Watch the video](https://img.youtube.com/vi/GzH7TMBwvtY/hqdefault.jpg)](https://www.youtube.com/embed/GzH7TMBwvtY)\n",
    "\n",
    "<p>Wil je tellen hoe vaak iets voorkomt in een lijst, dan moet je een teller bijhouden. Doorloop de lijst. Elke keer als je het gezochte element tegenkomt, hoog je de teller op. Bekijk het voorbeeld hieronder waarbij we tellen hoeveel vorstdagen er zijn (temperaturen onder de 0):</p>\n",
    "\n",
    "<p><img src=\"https://course.cs.ru.nl/pythonVO/img/Python_H103-voorkomensTellen_stroomdiagram.jpg\" alt=\"Figuur: Stroomdiagram voorkomens tellen\" width=\"400\"></p>\n",
    "\n",
    "\n",
    "\n",
    "\n",
    "\n",
    "\n"
   ]
  },
  {
   "cell_type": "code",
   "execution_count": null,
   "metadata": {},
   "outputs": [],
   "source": [
    "temperatuurlijst = [1.0, 4.0, 2.2, -1.3, -0.1, 1.9, -2.2]\n",
    "\n",
    "vorst_teller = 0\t\t#teller begint op 0\n",
    "for temperatuur in temperatuurlijst:\n",
    "\tif temperatuur < 0.0:\n",
    "\t\tvorst_teller += 1\t#teller ophogen zodra element gevonden is\n",
    "\t\t\n",
    "print(\"Aantal dagen vorst is:\", vorst_teller)"
   ]
  },
  {
   "cell_type": "markdown",
   "metadata": {},
   "source": [
    "\n",
    "### Opdracht 10.5 Vijf-sterrenhotels tellen\n",
    "<p>Amsterdam heeft heel veel hotels. In een lijst wordt bijgehouden hoeveel sterren elk hotel heeft. Schrijf een programma dat telt hoeveel vijf-sterrenhotels er zijn. Druk dit aantal af.</p>\n",
    "\n"
   ]
  },
  {
   "cell_type": "code",
   "execution_count": null,
   "metadata": {},
   "outputs": [],
   "source": [
    "hotellijst = [ \"**\", \"*\", \"***\", \"***\", \"**\", \"*****\", \"****\", \"*****\", \"**\", \"****\", \"*****\"]\n"
   ]
  },
  {
   "cell_type": "markdown",
   "metadata": {},
   "source": [
    "\n",
    "<p>Bekijk <a href=\"https://course.cs.ru.nl/pythonVO/Teams/IA_uitwerkingen/IA_H10_oplossingen.html#opgave1031\" target=\"_blank\">hier</a> de voorbeelduitwerking.</p>"
   ]
  }
 ],
 "metadata": {
  "kernelspec": {
   "display_name": "Python 3",
   "language": "python",
   "name": "python3"
  },
  "language_info": {
   "codemirror_mode": {
    "name": "ipython",
    "version": 3
   },
   "file_extension": ".py",
   "mimetype": "text/x-python",
   "name": "python",
   "nbconvert_exporter": "python",
   "pygments_lexer": "ipython3",
   "version": "3.11.8"
  }
 },
 "nbformat": 4,
 "nbformat_minor": 2
}
