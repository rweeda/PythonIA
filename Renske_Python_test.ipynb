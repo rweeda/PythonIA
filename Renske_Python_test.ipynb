{
 "cells": [
  {
   "cell_type": "markdown",
   "id": "76d63bfe-08ca-492a-af51-976ae5f299a2",
   "metadata": {},
   "source": [
    "<b>Opdracht 1:</b>\n",
    "    Print de tekst: hallo"
   ]
  },
  {
   "cell_type": "markdown",
   "id": "beeb0d39-0c14-491c-a1d9-6e70c1ae91b0",
   "metadata": {},
   "source": [
    "<div class=\"content\">\n",
    "\t\n",
    "<h1 id=\"h31\">H3.1 - Variabelen en waarden</h1>\n",
    "\n",
    "\n",
    "\n",
    "<h2>Naam van een variabele</h2>\n",
    "<p>In een variabele kun je een waarde opslaan. De naam mag je zelf kiezen, maar het is belangrijk om een zinnige zelfstandige naamwoord als naam te kiezen. Er mogen geen spaties in de namen voorkomen, in plaats daarvan gebruik je een liggend streepje: '_', bijvoorbeeld <code>lengte_in_m</code>.\n",
    "\n"
   ]
  },
  {
   "cell_type": "markdown",
   "id": "3836337c-9199-4373-adfb-03f05089997d",
   "metadata": {},
   "source": [
    "<h2>Waarde aan een variabele geven</h2>\n",
    "Een variabele geef je een waarde met het is-gelijk (=) teken. Als je het voorleest zeg je <i>wordt</i>. Aan de linkerkant van het is-gelijk symbool zet je de variabele naam, en aan de rechterkant de waarde die je wilt opslaan in de variabele. In het voorbeeld hieronder, <code>mijn_geluks_getal</code> <b>wordt</b> 5:</p>\n",
    "\n",
    "\n",
    "\n"
   ]
  },
  {
   "cell_type": "code",
   "execution_count": null,
   "id": "312147d7-776e-49b4-9252-d852ee093d4a",
   "metadata": {},
   "outputs": [],
   "source": [
    "mijn_geluks_getal = 5\n",
    "print( mijn_geluks_getal )"
   ]
  },
  {
   "cell_type": "markdown",
   "id": "fce9187d-5d73-4a7a-ac78-71bbdd84c9c9",
   "metadata": {},
   "source": [
    "<h2>Waarde van een variabele veranderen</h2>\n",
    "Je kunt de waarde van een variabele veranderen, dan wordt de oude waarde \"overschreven\" door een nieuwe waarde. De is-gelijk (=) teken lees je als <i>wordt</i>."
   ]
  },
  {
   "cell_type": "markdown",
   "id": "0833676b-3fb9-4043-b136-3425ac154655",
   "metadata": {},
   "source": [
    "<h2 id=\"opgave311\">Opgave 3.1.1  Rekenen met variabelen</h2>\n",
    "Geef <code>x</code> een waarde zodat 7 wordt afgedrukt.</p>"
   ]
  },
  {
   "cell_type": "code",
   "execution_count": null,
   "id": "a26adf3a-5ab8-46dd-8ff6-5e125539c99d",
   "metadata": {},
   "outputs": [],
   "source": [
    "x = 9 # deze waarde aanpassen\n",
    "getal = x + 3\n",
    "print( getal )"
   ]
  },
  {
   "cell_type": "code",
   "execution_count": null,
   "id": "9ea8b3c8-9814-4383-a9b4-9fdaa0331ace",
   "metadata": {},
   "outputs": [],
   "source": [
    "kleur_fiets = \"rood\" \t\t# variabele krijgt een waarde\n",
    "print( kleur_fiets )\n",
    "\n",
    "kleur_fiets = \"blauw\"\t\t# variabele krijgt een nieuwe waarde\n",
    "print( kleur_fiets )"
   ]
  },
  {
   "cell_type": "markdown",
   "id": "a4dc96e7-b5af-44f5-8567-4060dedf67ac",
   "metadata": {},
   "source": [
    "<h1>TEST TURTLE CODE: WERKT!</h1>"
   ]
  },
  {
   "cell_type": "code",
   "execution_count": null,
   "id": "102c8c14-26da-41f3-89b0-7d29bf1f4635",
   "metadata": {},
   "outputs": [],
   "source": [
    "import turtle       # importeer turtle module\n",
    "\n",
    "turtle.pendown()    # zet pen neer\n",
    "turtle.forward(50) # 50 stappen vooruit\n",
    "turtle.right(90)    # draai 90 graden naar rechts\n",
    "turtle.forward(50) # 50 stappen vooruit\n",
    "\n",
    "\n",
    "\n",
    "turtle.done()       # klaar met tekenen, maar sluit het tekenvenster niet meteen af"
   ]
  },
  {
   "cell_type": "markdown",
   "id": "b029ba72-d5bd-4b50-beac-0067b6b0216a",
   "metadata": {},
   "source": [
    "<H1>WERKT! TEST HTML LINKS</H1>\n",
    "<p>Bekijk <a href=\"https://course.cs.ru.nl/pythonVO/Teams/IA_uitwerkingen/IA_H1_oplossingen.html#opgave141\" target=\"_blank\">hier</a> de voorbeelduitwerking.</p>"
   ]
  },
  {
   "cell_type": "markdown",
   "id": "31d20e94-3e04-4943-986b-c35b2d25bce0",
   "metadata": {},
   "source": [
    "<h1>TEST EMBED YOUTUBE FILM:</h1>\n",
    "\n",
    "<h2>Onzichtbaar: iframe met youtube</h2>\n",
    "<p><iframe width=\"640\" height=\"360\" src=\"https://www.youtube.com/embed/IWvkVL3UtVM\" title=\"YouTube video player\" frameborder=\"0\" allow=\"accelerometer; autoplay; clipboard-write; encrypted-media; gyroscope; picture-in-picture\" allowfullscreen></iframe></p>\n",
    "\n",
    "\n",
    "<h2>laad niet markdown video</h2>\n",
    "<video width=30%\n",
    "       src=\"https://www.youtube.com/embed/IWvkVL3UtVM\"  \n",
    "       controls>\n",
    "</video>\n",
    "\n",
    "\n",
    "<h2>EMBED LOKAAL FIMPJE:</h2>\n",
    "\n",
    "<video width=\"320\" height=\"240\" \n",
    "       src=\"./video/Renske_Py1_Opgave142_6hoektekenen.mp4\"  \n",
    "       controls>\n",
    "</video>\n"
   ]
  },
  {
   "cell_type": "markdown",
   "id": "5cb0984d-fdf9-4679-8a36-e51e9aefc172",
   "metadata": {},
   "source": [
    "Ander imbed: [![Watch the video](https://img.youtube.com/vi/IWvkVL3UtVM/hqdefault.jpg)](https://www.youtube.com/embed/IWvkVL3UtVM)\n",
    "\n"
   ]
  },
  {
   "cell_type": "code",
   "execution_count": null,
   "id": "8d094a4b-ad7d-4755-be2a-655812dc41cf",
   "metadata": {},
   "outputs": [],
   "source": [
    "EN nog iets: [<img src=\"https://img.youtube.com/vi/IWvkVL3UtVM/hqdefault.jpg\" width=\"600\" height=\"300\"\n",
    "/>](https://www.youtube.com/embed/IWvkVL3UtVM)"
   ]
  },
  {
   "cell_type": "markdown",
   "id": "970a6867-bfa6-46c6-b45a-b5be45a1eb41",
   "metadata": {},
   "source": [
    "<h1>WERKT! TEST IMG INVOEGEN:</h1>\n",
    "<p>We testen het invoegen van een img:</p>\n",
    "<p>\n",
    "<img src=\"http://course.cs.ru.nl/pythonVO/Jupyter/img/Python1_WereldTurtle.jpg\" alt=\"Wereld van Turtle\">\n",
    "<p>Hierboven zie je een plaatje van de wereld waarin Turtle woont. Turtle begint altijd op coördinaat (0,0), kijkend naar rechts."
   ]
  },
  {
   "cell_type": "markdown",
   "id": "a7ba821a-8065-428a-8d0c-06b4e1dd0103",
   "metadata": {},
   "source": []
  }
 ],
 "metadata": {
  "kernelspec": {
   "display_name": "Python 3 (ipykernel)",
   "language": "python",
   "name": "python3"
  },
  "language_info": {
   "codemirror_mode": {
    "name": "ipython",
    "version": 3
   },
   "file_extension": ".py",
   "mimetype": "text/x-python",
   "name": "python",
   "nbconvert_exporter": "python",
   "pygments_lexer": "ipython3",
   "version": "3.9.7"
  },
  "toc-showcode": true
 },
 "nbformat": 4,
 "nbformat_minor": 5
}
