{
 "cells": [
  {
   "cell_type": "markdown",
   "id": "ddd8afd9",
   "metadata": {},
   "source": [
    "## 10: Gebruiker om een getal vragen\n",
    "\n",
    "<p><!--<iframe width=\"640\" height=\"360\" src=\"https://www.youtube.com/embed/zVB6QMSN9eE\" title=\"YouTube video player\" frameborder=\"0\" allow=\"accelerometer; autoplay; clipboard-write; encrypted-media; gyroscope; picture-in-picture\" allowfullscreen=\"\"></iframe>-->\n",
    "\n",
    "[![Watch the video](https://img.youtube.com/vi/zVB6QMSN9eE/hqdefault.jpg)](https://www.youtube.com/embed/zVB6QMSN9eE)\n",
    "</p>"
   ]
  },
  {
   "cell_type": "markdown",
   "id": "fe1c2a77",
   "metadata": {},
   "source": [
    "<p>De functie <code>input()</code> geeft altijd een string (tekst) terug. Verwacht je van de gebruiker een getal, dan moet je de invoer omzetten van tekst naar een getal met <code>int()</code> (voor een geheel getal):</p>"
   ]
  },
  {
   "cell_type": "code",
   "execution_count": null,
   "id": "4568f87d",
   "metadata": {},
   "outputs": [],
   "source": [
    "print( \"Wat is je lievelingsgetal?\" )\n",
    "invoer = input()\n",
    "lievelingsgetal = int( invoer )\t\t\t\t# invoer omzetten van tekst naar een getal\n",
    "print( \"Je lievelingsgetal is\", lievelingsgetal )"
   ]
  },
  {
   "cell_type": "markdown",
   "id": "677eb5b6",
   "metadata": {},
   "source": [
    "<p>Als je een kommagetal verwacht, gebruik je <code>float()</code>. Je converteert van het een datatype (tekst) naar een ander datatype (getal). Dat heet <i>type casting</i>.</p>"
   ]
  },
  {
   "cell_type": "code",
   "execution_count": null,
   "id": "2889794e",
   "metadata": {},
   "outputs": [],
   "source": [
    "print( \"Wat is de temperatuur?\" )\n",
    "invoer = input()\n",
    "temperatuur = float( invoer )\t\t\t\t# invoer omzetten van tekst naar een kommagetal\n",
    "print( \"De temperatuur is\", temperatuur, \"graden.\" )"
   ]
  },
  {
   "cell_type": "markdown",
   "id": "ac1eff00",
   "metadata": {},
   "source": [
    "### Opdracht 2.9 Leeftijd vragen\n",
    "\n",
    "<p>Schrijf een programma dat de gebruiker om zijn leeftijd vraagt en dan print:</p>\n",
    "<p><i>Jij bent .... jaar oud.</i></p>"
   ]
  },
  {
   "cell_type": "code",
   "execution_count": null,
   "id": "3112d2a0",
   "metadata": {
    "tags": [
     "Opdracht"
    ]
   },
   "outputs": [],
   "source": []
  },
  {
   "cell_type": "markdown",
   "id": "49719930",
   "metadata": {},
   "source": [
    "<p>Bekijk <a href=\"https://course.cs.ru.nl/pythonVO/Teams/IA_uitwerkingen/IA_H2_oplossingen.html#opgave232\" target=\"_blank\">hier</a> de voorbeelduitwerking.</p>"
   ]
  },
  {
   "cell_type": "markdown",
   "id": "76032b71",
   "metadata": {},
   "source": [
    "### Opdracht 2.10 Sterretjes afdrukken\n",
    "\n",
    "<p>Schrijf een programma dat de gebruiker vraagt hoeveel sterretjes hij wil zien, en dan precies zoveel sterretjes afdrukt. Laat de gebruiker ook zien wat is getypt. Bijvoorbeeld: als de gebruiker '4' intikt, wordt het volgende geprint:<br><br>\n",
    "    <i>Hier zijn de 4 sterretjes:</i><br>\n",
    "    <i>'****</i>\n",
    "</p>"
   ]
  },
  {
   "cell_type": "code",
   "execution_count": null,
   "id": "9664a9ea",
   "metadata": {
    "tags": [
     "Opdracht"
    ]
   },
   "outputs": [],
   "source": []
  },
  {
   "cell_type": "markdown",
   "id": "1219d49f",
   "metadata": {},
   "source": [
    "<p>Bekijk <a href=\"https://course.cs.ru.nl/pythonVO/Teams/IA_uitwerkingen/IA_H2_oplossingen.html#opgave233\" target=\"_blank\">hier</a> de voorbeelduitwerking.</p>"
   ]
  },
  {
   "cell_type": "markdown",
   "id": "486c0049",
   "metadata": {},
   "source": [
    "### Opdracht 2.11 Gebruiker kiest lengte\n",
    "\n",
    "<p>Schrijf een programma dat de gebruiker om een lengte vraagt en dan een lijn met die lengte tekent. Ook hier laat je de gebruiker zien wat is ingetikt.</p>"
   ]
  },
  {
   "cell_type": "code",
   "execution_count": 8,
   "id": "b8677fe2",
   "metadata": {
    "tags": [
     "Opdracht"
    ]
   },
   "outputs": [],
   "source": [
    "import turtle       # importeer de turtle module\n",
    "\n",
    "# VRAAG GEBRUIKER OM EEN LENGTE\n",
    "\n",
    "turtle.pendown()    # zet pen neer\n",
    "turtle.forward(150) # 150 stappen vooruit, PAS DEZE AAN VOOR LENGTE DOOR GEBRUIKER AANGEGEVEN\n",
    "\n",
    "turtle.done()       # klaar"
   ]
  },
  {
   "cell_type": "markdown",
   "id": "2d22b51b",
   "metadata": {},
   "source": [
    "<p>Bekijk <a href=\"https://course.cs.ru.nl/pythonVO/Teams/IA_uitwerkingen/IA_H2_oplossingen.html#opgave234\" target=\"_blank\">hier</a> de voorbeelduitwerking.</p>"
   ]
  }
 ],
 "metadata": {
  "kernelspec": {
   "display_name": "Python 3",
   "language": "python",
   "name": "python3"
  },
  "language_info": {
   "codemirror_mode": {
    "name": "ipython",
    "version": 3
   },
   "file_extension": ".py",
   "mimetype": "text/x-python",
   "name": "python",
   "nbconvert_exporter": "python",
   "pygments_lexer": "ipython3",
   "version": "3.11.8"
  }
 },
 "nbformat": 4,
 "nbformat_minor": 5
}
