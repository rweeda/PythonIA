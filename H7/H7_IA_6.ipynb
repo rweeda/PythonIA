{
 "cells": [
  {
   "cell_type": "markdown",
   "metadata": {},
   "source": [
    "## 6: Uitgebreide conditie met logische vlag\n",
    "\n",
    "<td>Soms heb je een uitgebreidere conditie nodig. Bijvoorbeeld, bij het invoeren van een pincode. Je vraagt een pincode pas nog een keer als de vorige poging niet goed was en er nog geen drie pogingen gedaan zijn. De conditie van de herhaling moet dus op meerdere dingen controleren:<ul>\n",
    "        <li>de ingevoerde waarde</li>\n",
    "        <li>de waarde van de teller</li>\n",
    "    </ul>\n"
   ]
  },
  {
   "cell_type": "markdown",
   "metadata": {},
   "source": [
    "### Opdracht 7.10: Pincode invoeren\n",
    "\n",
    "<p>Het doel van het programma hieronder is om een ingevoerde pincode te controleren. Als er binnen drie pogingen een juiste pincode ingevoerd wordt, drukt het programma af: <i>Toegang verleend</i>. Als de pincode onjuist is, wordt opnieuw gevraagd. Maar na drie pogingen drukt het programma af: <i>3 foutieve pogingen gedaan. Toegang geweigerd</i>. Daarna moet het programma stoppen.</p>\n",
    "\n",
    "<p>Helaas staan de regels in de verkeerde volgorde. Zet de regels in de juiste volgorde en test je programma goed.</p>\n"
   ]
  },
  {
   "cell_type": "code",
   "execution_count": null,
   "metadata": {
    "tags": [
     "Opdracht"
    ]
   },
   "outputs": [],
   "source": [
    "PINCODE = \"1234\"\n",
    "pogingen = 0\n",
    "\n",
    "while pogingen_resterend: #herhaal zolang niet juist ingevoerd is\n",
    "\t\t\tpogingen_resterend = False\n",
    "\n",
    "\tif invoer == PINCODE:\n",
    "\telse:\n",
    "\t\tprint(\"Toegang verleend.\")\n",
    "\t\tpogingen_resterend = False\n",
    "\n",
    "\t\tif pogingen < 3:\n",
    "\t\telse: # te veel foute pogingen\n",
    "\t\t\tprint(\"Fout... probeer het opnieuw\")\n",
    "\t\t\tprint(pogingen, \"foutieve pogingen gedaan. Toegang geweigerd.\")\n",
    "\tprint( \"Voer pincode in: \" )\n",
    "\tinvoer = input() #vraag om de pincode\n",
    "\tprint( \"Je hebt ingevoerd:\", invoer)\n",
    "pogingen_resterend = True\n",
    "\t\tpogingen += 1"
   ]
  },
  {
   "cell_type": "markdown",
   "metadata": {},
   "source": [
    "<p>Bekijk <a href=\"https://rweeda.github.io/PythonIA/docs/IA_H7_oplossingen.html#opgave741\" target=\"_blank\">hier</a> de voorbeelduitwerking.</p>\n"
   ]
  },
  {
   "cell_type": "markdown",
   "metadata": {},
   "source": [
    "### Opdracht 7.11: Wachtwoord met bijhouden van aantal foute pogingen\n",
    "\n",
    "<p>Schrijf een programma dat de gebruiker herhaaldelijk om een wachtwoord vraagt totdat dit goed is ingevoerd. Als de gebruiker een verkeerd wachtwoord intypt, meld je hoeveel foute pogingen al gedaan zijn.</p>\n",
    "\n",
    "<p>Tips:</p>\n",
    "<ul>\n",
    "    <li>Schrijf eerst code om herhaaldelijk om de pincode te vragen totdat deze juist is ingevoerd. Hiervoor gebruik je een logische vlag.\n",
    "    </li>\n",
    "    <li>Houd een teller bij voor het aantal foute pogingen. Voor de loop zet je die op 0. Als de gebruiker een foute poging doet, moet je hem ophogen en printen.\n",
    "    </li>\n",
    "</ul>\n"
   ]
  },
  {
   "cell_type": "code",
   "execution_count": null,
   "metadata": {
    "tags": [
     "Opdracht"
    ]
   },
   "outputs": [],
   "source": [
    "WACHTWOORD = \"GEHEIM\"\n",
    "\n",
    "#Vul hier de code aan"
   ]
  }
 ],
 "metadata": {
  "kernelspec": {
   "display_name": "Python 3",
   "language": "python",
   "name": "python3"
  },
  "language_info": {
   "codemirror_mode": {
    "name": "ipython",
    "version": 3
   },
   "file_extension": ".py",
   "mimetype": "text/x-python",
   "name": "python",
   "nbconvert_exporter": "python",
   "pygments_lexer": "ipython3",
   "version": "3.12.2"
  }
 },
 "nbformat": 4,
 "nbformat_minor": 2
}
