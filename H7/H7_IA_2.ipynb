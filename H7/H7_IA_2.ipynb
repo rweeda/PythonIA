{
 "cells": [
  {
   "cell_type": "markdown",
   "metadata": {},
   "source": [
    "## 2: Herhalingen met een while-loop\n",
    "\n",
    "[![Watch the video](https://img.youtube.com/vi/Xic59t6jFt4/hqdefault.jpg)](https://www.youtube.com/embed/Xic59t6jFt4)\n",
    "\n",
    "<p>Een herhaling zoals <i>zolang.. dan.. </i> heet in Python een <code>while</code>-constructie.</p>\n",
    "<ul>\n",
    "    <li>Het begint met een test (conditie) in de <code>while</code>.\n",
    "    </li>\n",
    "    <li>Als uit de conditie <code>False</code> komt slaat Python het blok code dat bij de <code>while</code> hoort over, en gaat daaronder verder.\n",
    "    </li>\n",
    "    <li>Als uit de test <i>True</i> (waar) komt, dan wordt het blok code onder de <code>while</code> uitgevoerd.\n",
    "    </li>\n",
    "    <li>Wanneer het blok code uitgevoerd is, gaat Python <b>terug</b> naar de test na de <code>while</code> en test die opnieuw.\n",
    "    </li>\n",
    "    <li>Als de voorwaarde nog steeds <code>True</code> oplevert, dan wordt het blok code nogmaals uitgevoerd. Dit wordt steeds herhaald, totdat uit de test <code>False</code> komt.\n",
    "    </li>\n",
    "</ul>"
   ]
  },
  {
   "cell_type": "markdown",
   "metadata": {},
   "source": [
    "### Opdracht 7.2: Aftellen\n",
    "\n",
    "<p>Het doel van het programma hieronder is om <code>tijd</code> af te tellen. Eerst vragen we de gebruiker om aan te geven vanaf welk getal we moeten aftellen. Zolang de <code>tijd</code> groter is dan 0, wordt deze eentje minder en dan geprint. Pas als de <code>tijd</code> 0 heeft bereikt, wordt de loop niet uitgevoerd en print je \"AF!\"</p>\n",
    "\n",
    "<p>Helaas staan de regels in de verkeerde volgorde. Zet de regels in de juiste volgorde en test je programma.</p>"
   ]
  },
  {
   "cell_type": "markdown",
   "metadata": {},
   "source": [
    "<div style=\"display:flex\">\n",
    "<img src=\"http://course.cs.ru.nl/pythonVO/Jupyter/img/Python7_driehoekKunst.jpg\" alt=\"Driehoek kunst\" width=\"300\"><br>\n",
    "<img src=\"http://course.cs.ru.nl/pythonVO/Jupyter/img/Python7_Stroomdiagram_driehoekKunst.jpg\" alt=\"Driehoekkunst\" width=\"300\"><br>\n",
    "\n",
    "</div>\n",
    "\n",
    "Het programma vraagt op regel 24 aan de gebruiker hoe groot de eerste driehoek moet zijn.\n",
    "\n",
    "Schrijf zelf de code voor de <code>while</code>-loop (op regel 27): <ul>\n",
    "    <li>Zolang de lengte groter is dan 10,\n",
    "    </li>\n",
    "    <li>teken een driehoek met die lengte.\n",
    "    </li>\n",
    "    <li>Maak dan de lengte 10 kleiner.\n",
    "    </li>\n",
    "</ul>"
   ]
  },
  {
   "cell_type": "code",
   "execution_count": null,
   "metadata": {
    "tags": [
     "Opdracht"
    ]
   },
   "outputs": [],
   "source": [
    "import turtle\n",
    "\n",
    "### FUNCTIEDEFINITIE\n",
    "\n",
    "#tekent een driehoek met de gegeven lengte\n",
    "def tekenDriehoek( lengte ):\n",
    "    turtle.forward( lengte )\n",
    "    turtle.right( 120 )\n",
    "    turtle.forward( lengte )\n",
    "    turtle.right( 120 )\n",
    "    turtle.forward( lengte )\n",
    "    turtle.right( 120 )\n",
    "\n",
    "def vraagGebruikerOmLengte():\n",
    "    print(\"Geef een getal tussen de 50 en 200:\")\n",
    "    invoer = input()\n",
    "    lengte = int (invoer)\n",
    "    print( \"Het eerste driehoek wordt\", lengte, \"groot.\")\n",
    "    return lengte\n",
    "\n",
    "\n",
    "### HOOFDPROGRAMMA\n",
    "turtle.pendown()\n",
    "lengte = vraagGebruikerOmLengte()\n",
    "\n",
    "#SCHRIJF HIER DE WHILE LOOP MET DAARIN HET TEKENEN VAN DE DRIEHOEK EN VERKLEINEN VAN DE LENGTE\n",
    "\n",
    "\n",
    "\n",
    "turtle.done()"
   ]
  },
  {
   "cell_type": "markdown",
   "metadata": {},
   "source": [
    "<p>Bekijk <a href=\"https://course.cs.ru.nl/pythonVO/Teams/IA_uitwerkingen/IA_H7_oplossingen.html#opgave713\" target=\"_blank\">hier</a> de voorbeelduitwerking.</p>\n"
   ]
  }
 ],
 "metadata": {
  "kernelspec": {
   "display_name": "Python 3",
   "language": "python",
   "name": "python3"
  },
  "language_info": {
   "codemirror_mode": {
    "name": "ipython",
    "version": 3
   },
   "file_extension": ".py",
   "mimetype": "text/x-python",
   "name": "python",
   "nbconvert_exporter": "python",
   "pygments_lexer": "ipython3",
   "version": "3.12.2"
  }
 },
 "nbformat": 4,
 "nbformat_minor": 2
}
