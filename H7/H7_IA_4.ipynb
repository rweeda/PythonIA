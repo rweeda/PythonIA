{
 "cells": [
  {
   "cell_type": "markdown",
   "metadata": {},
   "source": [
    "## 4: <code>While</code>-loop met een logische vlag\n",
    "\n",
    "<p>Voor het programmeren van een spel heb je altijd één hoofdlus: zolang het spel niet is afgelopen, herhaal dan: vraag de gebruiker om invoer en doe daar iets mee in het spel.</p>\n",
    "<p>Een spel kan aflopen om verschillende redenen, bijvoorbeeld omdat er gewonnen is of juist omdat de beurten of levens op zijn. Dit wordt op verschillende momenten in het spel bepaald. Om bij te houden of een spel wel of niet is afgelopen maken we gebruik van een <i>logische vlag</i> (in het Engels: Boolean Flag).\n",
    "</p>\n",
    "\n",
    "[![Watch the video](https://img.youtube.com/vi/RomqEq2_nGA/hqdefault.jpg)](https://www.youtube.com/embed/RomqEq2_nGA)\n",
    "\n",
    "<p>Een <i>logische vlag</i> is een variabele die je vooraf op <code>True</code> of <code>False</code> zet. De waarde van de vlag gebruik je in een conditie die bepaalt of het programma wel of niet doorgaat. De waarde van de vlag pas je aan zodra de situatie veranderd is. Dit is handig voor het controleren van een wachtwoord of het maken van een spelletje.</p>\n",
    "\n",
    "\n",
    "<p>We bekijken een voorbeeld van een quiz: de gebruiker moet de som van 3+2 uitrekenen. Zolang het antwoord niet goed is ingevoerd, vragen we de gebruiker om het opnieuw te proberen. Het volgende stroomdiagram laat het algoritme zien met gebruik van een logische vlag <code>goed_geraden</code>:</p>\n",
    "<br>\n",
    "<div style=\"display:flex\">\n",
    "<img src=\"http://course.cs.ru.nl/pythonVO/Jupyter/img/Python7_Stroomdiagram_spelRekenQuiz.jpg\" alt=\"Stroomdiagram voor while-loop met logische vlag\" width=\"450\"><br>\n",
    "<div>\n",
    "                <p>Toelichting op het stroomdiagram hiernaast en de bijbehorende code hieronder:</p>\n",
    "                <ul>\n",
    "                    <li>regel 2: de logische vlag heet <code>goed_geraden</code> en begint op <code>False</code>;\n",
    "                    </li>\n",
    "                    <li>regel 4: in de conditie van de <code>while</code>-loop wordt naar de waarde van <code>goed_geraden</code> gekeken. Zolang nog niet <code>goed_geraden</code>, dan worden de acties eronder uitgevoerd;\n",
    "                    </li>\n",
    "                    <li>regels 5 t/m 12: acties van de loop:\n",
    "                        <ul>\n",
    "                            <li>regels 5 en 6: de gebruiker moet een antwoord op de vraag geven;\n",
    "                            </li>\n",
    "                            <li>regels 8, 9 en 10: als het antwoord goed is, wordt de vlag <code>goed_geraden</code> op <code>True</code> gezet;\n",
    "                            </li>\n",
    "                            <li>als het antwoord fout is blijft de vlag <code>goed_geraden</code> op <code>False</code>;\n",
    "                            </li>\n",
    "                        </ul>\n",
    "                    </li>\n",
    "                    <li>regel 4: na afloop van de acties springt het programma weer naar de conditie van de loop:\n",
    "                        <ul>\n",
    "                            <li>zolang de conditie <code>True</code> is, worden de acties in de lus weer uitgevoerd;\n",
    "                            </li>\n",
    "                            <li>zodra bij de controle blijkt dat de conditie <code>False</code> is, springt het programma uit de lus en zal de herhaling niet meer uitgevoerd worden;\n",
    "                            </li>\n",
    "                        </ul>\n",
    "                    </li>\n",
    "                    <li>regel 14: na afloop van de <code>while</code>-loop wordt er <i>Spel afgelopen</i> geprint.\n",
    "                    </li>\n",
    "                </ul>\n",
    "</div>\n",
    "</div>"
   ]
  },
  {
   "cell_type": "code",
   "execution_count": null,
   "metadata": {},
   "outputs": [],
   "source": [
    "ANTWOORD = 5\n",
    "goed_geraden = False #om te beginnen staat de vlag op False\n",
    "\n",
    "while not goed_geraden: #herhaal zolang nog niet geraden\n",
    "\tprint( \"3 + 2 = \" )\n",
    "\tinvoer = input( )  #vraag antwoord op quizvraag\n",
    "\tgebruikers_antwoord = int( invoer )\n",
    "\tif gebruikers_antwoord == ANTWOORD: #er is goed geraden\n",
    "\t\tprint(\"Goed geraden!\")\n",
    "\t\tgoed_geraden = True #de vlag wordt op True gezet, hierna zal de while-loop niet nog een keer uitgevoerd gaan worden\n",
    "\telse: #fout geraden\n",
    "\t\tprint(\"Jammer, fout... probeer het nog een keer\") #vlag blijft op niet geraden, de loop wordt weer een keer herhaald\n",
    "\n",
    "print(\"Spel afgelopen\")"
   ]
  }
 ],
 "metadata": {
  "kernelspec": {
   "display_name": "Python 3",
   "language": "python",
   "name": "python3"
  },
  "language_info": {
   "codemirror_mode": {
    "name": "ipython",
    "version": 3
   },
   "file_extension": ".py",
   "mimetype": "text/x-python",
   "name": "python",
   "nbconvert_exporter": "python",
   "pygments_lexer": "ipython3",
   "version": "3.12.2"
  }
 },
 "nbformat": 4,
 "nbformat_minor": 2
}
