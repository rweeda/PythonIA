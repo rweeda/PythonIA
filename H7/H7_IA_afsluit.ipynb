{
 "cells": [
  {
   "cell_type": "markdown",
   "metadata": {},
   "source": [
    "## Onderwerp 7 - Afsluitende opdrachten\n",
    "\n",
    "<p>Met de volgende afsluitende opdrachten kun je kijken hoe goed je de stof beheerst. Controleer steeds je eigen oplossing met de voorbeelduitwerking.</p>\n"
   ]
  },
  {
   "cell_type": "markdown",
   "metadata": {},
   "source": [
    "### Afsluitende opdracht 7.1: Rekenspel\n",
    "\n",
    "<div style=\"display:flex\">\n",
    "<img src=\"https://raw.githubusercontent.com/rweeda/PythonIA/main/img/Python7_Stroomdiagram_rekenSpel.jpg\" alt=\"Stroomdiagram voor herhalen met invoer\" width=\"550\"><br>\n",
    "<div>\n",
    "<p>We maken een rekenspel:</p>\n",
    "                <ol>\n",
    "                    <li>Het programma verzint een rekensommetje met twee willekeurige getallen.\n",
    "                    </li>\n",
    "                    <li>De speler moet het antwoord uitrekenen en invullen.\n",
    "                    </li>\n",
    "                    <li>Jouw programma controleert het antwoord.\n",
    "                    </li>\n",
    "                    <li>Bij een juist antwoord krijgt de speler een nieuwe som. Ga terug naar stap 1.\n",
    "                    </li>\n",
    "                    <li>Heeft de speler het fout, dan is de speler af. Geef het juiste antwoord.\n",
    "                    </li>\n",
    "                    <li>Na afloop van het spel print je \"Bedankt voor het spelen\"\n",
    "                    </li>\n",
    "                </ol>\n",
    "                <p>Schrijf de code voor dit spel.</p>\n",
    "                <p>Tip: voor een willekeurig getal tussen 0 en 10 gebruik je <code>random.randint(0,10)</code>. Boven aan je code zet je eerst <code>import random</code>.</p>\n",
    "\n",
    "</div>\n",
    "</div>"
   ]
  },
  {
   "cell_type": "code",
   "execution_count": null,
   "metadata": {
    "tags": [
     "Opdracht"
    ]
   },
   "outputs": [],
   "source": []
  },
  {
   "cell_type": "markdown",
   "metadata": {},
   "source": [
    "### Afsluitende opdracht 7.2: Rekenspel met punten\n",
    "\n",
    "\n",
    "<p>We maken een vergelijkbaar rekenspel als bij Afsluitende opdracht 7.1, maar met een paar aanpassingen:</p>\n",
    "<ol>\n",
    "    <li>Geef een keersom.\n",
    "    </li>\n",
    "    <li>De speler begint met 100 punten.\n",
    "    </li>\n",
    "    <li>Als de speler een juist antwoord geeft, krijgt die 10 punten erbij.\n",
    "    </li>\n",
    "    <li>Bij een verkeerd antwoord gaan er 10 punten vanaf.\n",
    "    </li>\n",
    "    <li>Als de speler 0 punten heeft, dan is het spel afgelopen.\n",
    "    </li>\n",
    "</ol>\n",
    "\n",
    "\n",
    "<p>Tips:</p>\n",
    "<ul>\n",
    "    <li>Pak het stapsgewijs aan en test je werk tussendoor. Begin dus eerst met het spel zoals bij Afsluitende opdracht 7.1 en voeg dan &eacute;&eacute;n voor &eacute;&eacute;n de aanpassingen hierboven toe.\n",
    "    </li>\n",
    "    <li>Het controleren op 0 punten doe je aan het einde van de while-loop. Als het aantal punten gelijk aan 0 is, dan pas je de vlag aan.\n",
    "    </li>\n",
    "</ul>\n",
    "\n",
    "<p>Extra uitdaging: vraag de gebruiker of welke sommen hij wil: <code>+</code>, <code>-</code> , <code>*</code> of <code>/</code>.</p>\n"
   ]
  },
  {
   "cell_type": "code",
   "execution_count": null,
   "metadata": {
    "tags": [
     "Opdracht"
    ]
   },
   "outputs": [],
   "source": []
  },
  {
   "cell_type": "markdown",
   "metadata": {},
   "source": [
    "### Afsluitende opdracht 7.3: Krimpende spirograaf\n",
    "\n",
    "<div style=\"display:flex\">\n",
    "<img src=\"https://raw.githubusercontent.com/rweeda/PythonIA/main/img/Python7_krimpendeSpirograaf.jpg\" alt=\"Krimpende spirograaf\" width=\"300\"><br>\n",
    "<div>\n",
    "<p>Deze spirograaf is gemaakt door meerdere vierkanten te tekenen. Elk vierkant is net iets kleiner dan het vorige. Na elk vierkant worden er steeds 15 graden gedraaid. Je stopt met tekenen als de lengte kleiner dan 10 wordt.</p>\n",
    "\n",
    "<p>Schrijf een programma dat zo'n spirograaf tekent.</p>\n",
    "<ol>\n",
    "    <li>Schrijf een functie die de gebruiker om de zijlengte van het eerste vierkant vraagt (tussen de 50 en 400). Deze lengte lever je op met een return.\n",
    "    </li>\n",
    "    <li>Sla de opgeleverde lengte op in een variabele. Doe dit in je hoofdprogramma, nog voor de code van de <code>while</code>-loop.\n",
    "    </li>\n",
    "    <li>Teken een vierkant met de gegeven <code>lengte</code>.\n",
    "    </li>\n",
    "    <li>Herhaal (met een while-loop) totdat de lengte kleiner dan 10 is:\n",
    "    <ul>\n",
    "        <li>teken vierkant\n",
    "        </li>\n",
    "        <li>draai 15 graden\n",
    "        </li>\n",
    "        <li>maak lengte 10 korter\n",
    "        </li>\n",
    "    </ul>\n",
    "</li>\n",
    "<li>Gebruik hierbij de onderstaande code.\n",
    "</li>\n",
    "</ol>\n",
    "</div>\n",
    "</div>"
   ]
  },
  {
   "cell_type": "code",
   "execution_count": null,
   "metadata": {
    "tags": [
     "Opdracht"
    ]
   },
   "outputs": [],
   "source": [
    "import turtle\n",
    "\n",
    "### FUNCTIEDEFINITIE\n",
    "\n",
    "#tekent een vierkant met de gegeven lengte\n",
    "def tekenVierkant( lengte ):\n",
    "\tturtle.forward( lengte )\n",
    "\tturtle.right( 90 )\n",
    "\tturtle.forward( lengte )\n",
    "\tturtle.right( 90 )\n",
    "\tturtle.forward( lengte )\n",
    "\tturtle.right( 90 )\n",
    "\tturtle.forward( lengte )\n",
    "\tturtle.right( 90 )\n",
    "\n",
    "\n",
    "#SCHRIJF HIER EEN DEF OM DE GEBRUIKER OM EEN LENGTE TE VRAGEN\n",
    "\n",
    "\n",
    "### HOOFDPROGRAMMA\n",
    "turtle.pendown()\n",
    "\n",
    "\n",
    "tekenVierkant( lengte )\n",
    "turtle.done()"
   ]
  },
  {
   "cell_type": "markdown",
   "metadata": {},
   "source": [
    "### Afsluitende opdracht 7.4: Som berekenen\n",
    "\n",
    "<p>Schrijf een programma dat de som van een aantal getallen berekent. De gebruiker geeft getallen een voor een in en geeft aan dat hij klaar is door een 'X' in te voeren.</p>\n"
   ]
  },
  {
   "cell_type": "code",
   "execution_count": null,
   "metadata": {
    "tags": [
     "Opdracht"
    ]
   },
   "outputs": [],
   "source": []
  },
  {
   "cell_type": "markdown",
   "metadata": {},
   "source": [
    "### Afsluitende opdracht 7.5: Gemiddelde berekenen\n",
    "\n",
    "<p>Schrijf een programma dat het gemiddelde van een aantal getallen berekent. De gebruiker geeft getallen een voor een in en geeft aan dat hij klaar is door een 'X' in te voeren.</p>\n",
    "\n",
    "\n",
    "<p>Tip: Om het gemiddelde uit te rekenen moet je bijhouden hoeveel getallen zijn ingevoerd en wat de som daarvan is.</p>\n"
   ]
  },
  {
   "cell_type": "code",
   "execution_count": null,
   "metadata": {
    "tags": [
     "Opdracht"
    ]
   },
   "outputs": [],
   "source": []
  }
 ],
 "metadata": {
  "kernelspec": {
   "display_name": "Python 3",
   "language": "python",
   "name": "python3"
  },
  "language_info": {
   "codemirror_mode": {
    "name": "ipython",
    "version": 3
   },
   "file_extension": ".py",
   "mimetype": "text/x-python",
   "name": "python",
   "nbconvert_exporter": "python",
   "pygments_lexer": "ipython3",
   "version": "3.12.2"
  }
 },
 "nbformat": 4,
 "nbformat_minor": 2
}
