{
 "cells": [
  {
   "cell_type": "markdown",
   "metadata": {},
   "source": [
    "# Hoofdstuk 7 - Herhalingen met een <code>while</code>-loop\n",
    "\n",
    "<p>Computers raken niet verveeld als ze dingen moeten herhalen. In dit hoofdstuk maak je kennis met een <code>while</code>-loop waarmee je code kunt laten herhalen.\n",
    "\n",
    "\n",
    "\n",
    "</p>\n",
    "In dit onderwerp:</p>\n",
    "<ul>\n",
    "    <li> leer je code te laten herhalen met een <code>while</code>-loop;</li>\n",
    "    <li> leer je hoe je een stroomdiagram met een <code>while</code> om kan zetten in code en andersom;</li>\n",
    "    <li> leer je een logische vlag te gebruiken om het aantal herhalingen te laten afhangen van gebruikersinvoer;</li>\n",
    "    <li> leer je een logische vlag te combineren met een conditie om het aantal herhalingen te bepalen;</li>\n",
    "    <li> leer je een <code>while</code>-loop met een teller te gebruiken om te tellen hoe vaak een herhaling plaats heeft gevonden.\n",
    "    </li>\n",
    "</ul>\n",
    "\n",
    "Verwachte tijd: <b>2 uur</b>"
   ]
  }
 ],
 "metadata": {
  "kernelspec": {
   "display_name": "Python 3",
   "language": "python",
   "name": "python3"
  },
  "language_info": {
   "codemirror_mode": {
    "name": "ipython",
    "version": 3
   },
   "file_extension": ".py",
   "mimetype": "text/x-python",
   "name": "python",
   "nbconvert_exporter": "python",
   "pygments_lexer": "ipython3",
   "version": "3.12.2"
  }
 },
 "nbformat": 4,
 "nbformat_minor": 2
}
