{
 "cells": [
  {
   "cell_type": "markdown",
   "metadata": {},
   "source": [
    "## 3: <code>While</code>-loop met een teller\n",
    "\n",
    "[![Watch the video](https://img.youtube.com/vi/cc9xeSJpwRc/hqdefault.jpg)](https://www.youtube.com/embed/cc9xeSJpwRc)\n",
    "\n",
    "<p>Soms weet je precies hoe vaak je iets wilt herhalen. Met een <code>while</code>-loop voer je code een bepaald aantal keren uit door:\n",
    "</p>\n",
    "<ul>\n",
    "    <li>een teller te gebruiken om bij te houden hoe vaak de code herhaald is (deze begint op 0);</li>\n",
    "    <li>de teller elke keer op te hogen;</li>\n",
    "    <li>in de conditie van de herhaling te controleren of er nog een herhaling plaats mag vinden.</li>\n",
    "</ul>\n",
    "\n",
    "\n",
    "<p>Het volgende programma telt van 0 tot 10. Zolang de <code>teller</code> kleiner is dan 10, wordt die geprint en opgehoogd.</p>\n",
    "\n",
    "<div style=\"display:flex\">\n",
    "<img src=\"https://raw.githubusercontent.com/rweeda/PythonIA/main/img/Python7_Stroomdiagram_print10teller.jpg\" alt=\"Stroomdiagram 10x herhalen met while\" width=\"40%\" height=\"40%\">&nbsp;\n",
    "<img src=\"https://raw.githubusercontent.com/rweeda/PythonIA/main/img/7.1_while_voorbeeld_code.png\" alt=\"Code: 10x herhalen met while\" width=\"20%\" height=\"20%\">\n",
    "</div>"
   ]
  },
  {
   "cell_type": "code",
   "execution_count": null,
   "metadata": {},
   "outputs": [],
   "source": [
    "teller= 0\n",
    "\n",
    "while teller < 10:\n",
    "    print( teller )\n",
    "    teller += 1\n",
    "\n",
    "print(\"Klaar!\")"
   ]
  },
  {
   "cell_type": "markdown",
   "metadata": {},
   "source": [
    "### Opdracht 7.4: Aaa!\n",
    "\n",
    "<p>Het doel van het programma hieronder is om drie keer de letter <i>a</i> af te drukken en na afloop <i>Klaar!</i>. Helaas staan de regels in de verkeerde volgorde. Zet de regels in de juiste volgorde.</p>\n"
   ]
  },
  {
   "cell_type": "code",
   "execution_count": null,
   "metadata": {
    "tags": [
     "Opdracht"
    ]
   },
   "outputs": [],
   "source": [
    "\n",
    "print(\"Klaar!\")\n",
    "  aantal_a += 1 \n",
    "  print( \"a\" )\n",
    "while aantal_a < 3:\n",
    "aantal_a= 0\n"
   ]
  },
  {
   "cell_type": "markdown",
   "metadata": {},
   "source": [
    "### Opdracht 7.5: Strafregels\n",
    "\n",
    "<p>Je hebt je misdragen op school. Helaas zal je nu strafregels moeten schrijven. Gelukkig ben je een slimme scholier en besluit je om een programma te schrijven dat voor jou je strafwerk schrijft.</p>\n",
    "\n",
    "<p>Schrijf een programma dat de volgende tekst 100 keer afdrukt:<br>\n",
    "    <i>Ik mag code niet kopieren van een ander.</i><br><br>\n",
    "    Maak gebruik van een <code>while</code>-loop.\n",
    "</p>"
   ]
  },
  {
   "cell_type": "code",
   "execution_count": null,
   "metadata": {
    "tags": [
     "Opdracht"
    ]
   },
   "outputs": [],
   "source": []
  }
 ],
 "metadata": {
  "kernelspec": {
   "display_name": "Python 3",
   "language": "python",
   "name": "python3"
  },
  "language_info": {
   "codemirror_mode": {
    "name": "ipython",
    "version": 3
   },
   "file_extension": ".py",
   "mimetype": "text/x-python",
   "name": "python",
   "nbconvert_exporter": "python",
   "pygments_lexer": "ipython3",
   "version": "3.12.2"
  }
 },
 "nbformat": 4,
 "nbformat_minor": 2
}
