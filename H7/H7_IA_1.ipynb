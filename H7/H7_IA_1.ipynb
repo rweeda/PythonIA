{
 "cells": [
  {
   "cell_type": "markdown",
   "metadata": {},
   "source": [
    "## 1: De while-loop zelf ontdekken\n",
    "\n",
    "<p>De <code>while</code>-constructie lees je als <i>\"zolang\"</i>: zolang een conditie waar is, herhaal een actie."
   ]
  },
  {
   "cell_type": "markdown",
   "metadata": {},
   "source": [
    "### Opdracht 7.1: Voorspellen wat een <code>while</code> doet\n",
    "\n",
    "Bekijk het onderstaande stroomdiagram en de bijbehorende code. Wat denk je dat het programma doet? Run het dan en kijk of je\n",
    "het goed had.<br>\n",
    "\n",
    "<img src=\"http://course.cs.ru.nl/pythonVO/Jupyter/img/Python7_Stroomdiagram_evenTM10.jpg\" alt=\"Stroomdiagram voor\n",
    "functie evenGetallenTot10\" width=\"300\">"
   ]
  },
  {
   "cell_type": "code",
   "execution_count": null,
   "metadata": {
    "tags": [
     "Opdracht"
    ]
   },
   "outputs": [],
   "source": [
    "getal = 0\n",
    "print(\"Het eerste getal is:\", getal)\n",
    "while getal < 10:\n",
    "  getal += 2      #tel er twee bij op\n",
    "  print(\"Het volgende getal is:\", getal)\n",
    "\n",
    "print(\"Klaar!\")"
   ]
  },
  {
   "cell_type": "markdown",
   "metadata": {},
   "source": [
    "<p>Bekijk <a href=\"Https://course.cs.ru.nl/pythonVO/Teams/IA_uitwerkingen/IA_H7_oplossingen.html#Opgave711\" target=\"_blank\">hier</a> de voorbeelduitwerking.</p>\n"
   ]
  }
 ],
 "metadata": {
  "kernelspec": {
   "display_name": "Python 3",
   "language": "python",
   "name": "python3"
  },
  "language_info": {
   "codemirror_mode": {
    "name": "ipython",
    "version": 3
   },
   "file_extension": ".py",
   "mimetype": "text/x-python",
   "name": "python",
   "nbconvert_exporter": "python",
   "pygments_lexer": "ipython3",
   "version": "3.12.2"
  }
 },
 "nbformat": 4,
 "nbformat_minor": 2
}
