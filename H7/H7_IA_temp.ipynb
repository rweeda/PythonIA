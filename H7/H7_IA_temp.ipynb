{
 "cells": [
  {
   "cell_type": "markdown",
   "metadata": {},
   "source": [
    "## 5: Oefenen met een logische vlag"
   ]
  },
  {
   "cell_type": "markdown",
   "metadata": {},
   "source": [
    "### Opdracht 7.6: Toegang met wachtwoord\n",
    "\n",
    "<p>Het doel van het programma hieronder is om een wachtwoord aan de gebruiker te vragen. Pas als het wachtwoord klopt, wordt toegang verleend. Zolang het wachtwoord niet klopt, wordt de gebruiker opnieuw om invoer gevraagd.</p>\n",
    "\n",
    "<p>Helaas staan de regels in de verkeerde volgorde. Zet de regels in de juiste volgorde en test je programma.</p>\n"
   ]
  },
  {
   "cell_type": "code",
   "execution_count": null,
   "metadata": {
    "tags": [
     "Opdracht"
    ]
   },
   "outputs": [],
   "source": [
    "\telse:\n",
    "WACHTWOORD = \"Geheim\"\n",
    "\tinvoer = input()\n",
    "goed_geraden = False\n",
    "\t\tgoed_geraden = True\n",
    "\tprint( \"Voer wachtwoord in: \" )\n",
    "\tif invoer == WACHTWOORD:\n",
    "\t\tprint(\"Fout... probeer het opnieuw\")\n",
    "while not goed_geraden:\n",
    "    print(\"Goed zo!\")\n"
   ]
  },
  {
   "cell_type": "markdown",
   "metadata": {},
   "source": [
    "<p>Bekijk <a href=\"https://course.cs.ru.nl/pythonVO/Teams/IA_uitwerkingen/IA_H7_oplossingen.html#opgave731\" target=\"_blank\">hier</a> de voorbeelduitwerking.</p>\n"
   ]
  },
  {
   "cell_type": "markdown",
   "metadata": {},
   "source": [
    "### Opdracht 7.7: Raad het geheime getal\n",
    "\n",
    "We gaan een spelletje maken: <i>Raad het geheime getal</i>.<br>\n",
    "Spelregels:\n",
    "<ul>\n",
    "    <li>De computer kiest een willekeurig getal tussen de 0 en 100 (0 of 100 mag ook)\n",
    "    </li>\n",
    "    <li>De speler gokt een getal\n",
    "    </li>\n",
    "    <li>Is het gegokte getal juist, dan wint de speler en krijgt de speler een compliment\n",
    "    </li>\n",
    "    <li>Is het gegokte getal fout, dan krijgt de speler hierover een melding en moet de speler opnieuw gokken.\n",
    "    </li>\n",
    "    <li>Na afloop van het spel wordt de speler bedankt.\n",
    "    </li>\n",
    "</ul>\n",
    "\n",
    "<p>Het volgende stroomdiagram laat het algoritme zien met gebruik van een logische vlag <code>goed_geraden</code>:</p>\n",
    "\n",
    "<img src=\"http://course.cs.ru.nl/pythonVO/Jupyter/img/Python7_Stroomdiagram_raadGeheimGetal.jpg\" alt=\"Stroomdiagram voor while-loop met logische vlag\" width=\"450\"><br>\n",
    "\n",
    "\n",
    "<p>Hieronder staat een deel van de code. Breid de code uit (aangegeven bij STAP 1 t/m 4) zodat deze overeenkomt met het bovenstaande stroomdiagram.</p>\n"
   ]
  },
  {
   "cell_type": "code",
   "execution_count": null,
   "metadata": {
    "tags": [
     "Opdracht"
    ]
   },
   "outputs": [],
   "source": [
    "import random\n",
    "\n",
    "#GLOBALE VARIABELEN\n",
    "TE_RADEN_GETAL = random.randint(0,100) #computer kiest een willekeurige getal tussen 0 en 100 (0 of 100 kan ook)\n",
    "\n",
    "### HOOFDPROGRAMMA\n",
    "goed_geraden = False #om te beginnen staat de vlag op False\n",
    "\n",
    "# STAP 1. herhaal zolang vlag nog op False staat\n",
    "\tprint(  \"Gok een getal tussen de 0 en 100 (0 of 100 mag ook)!\" )\n",
    "\tinvoer = input()\n",
    "\tgebruikers_antwoord = int( invoer )\n",
    "\n",
    "\tif gebruikers_antwoord == TE_RADEN_GETAL: #als getal goed is geraden\n",
    "\t  print(\"Goed geraden!\")\n",
    "\t\t# STAP 2. de vlag wordt op True gezet, hierna zal de while-loop niet opnieuw uitgevoerd gaan worden\n",
    "\telse: #fout geraden\n",
    "\t\t# STAP 3. print de tekst: \"Jammer, fout... probeer het opnieuw\"\n",
    "\n",
    "#STAP 4. print \"Bedankt voor het spelen\""
   ]
  },
  {
   "cell_type": "markdown",
   "metadata": {},
   "source": [
    "<p>Bekijk <a href=\"https://course.cs.ru.nl/pythonVO/Teams/IA_uitwerkingen/IA_H7_oplossingen.html#opgave732\" target=\"_blank\">hier</a> de voorbeelduitwerking.</p>\n"
   ]
  },
  {
   "cell_type": "markdown",
   "metadata": {},
   "source": [
    "### Opdracht 7.8: Herhaaldelijk complimentjes geven\n",
    "\n",
    "<p>Schrijf een programma dat de gebruiker steeds vraagt of hij een complimentje wil, totdat hij aangeeft dat hij wil stoppen (logische vlag: <code>gebruiker_wil_stoppen</code>). Tikt de gebruiker een 'J' in, dan krijgt hij een complimentje. Dit wordt herhaald tot de gebruiker het zat is en iets anders dan een 'J' intikt. Dan wordt de logische vlag <code>gebruiker_wil_stoppen</code> aangepast.</p>\n"
   ]
  },
  {
   "cell_type": "code",
   "execution_count": null,
   "metadata": {
    "tags": [
     "Opdracht"
    ]
   },
   "outputs": [],
   "source": [
    "#A: Maak een logische vlag gebruiker_wil_stoppen\n",
    "\n",
    "#B: Maak een herhaling\n",
    "  print(\"Typ J voor een complimentje\")\n",
    "  print(\"Gebruik een andere toets als je geen complimentje wilt.\")\n",
    "  invoer = input()\n",
    "\n",
    "  if invoer == \"J\":\n",
    "    print( \"Ik vind je aardig!\" )\n",
    "  else:\n",
    "    #C: pas de vlag aan\n",
    "\n",
    "print(\"Wat jammer dat je geen complimentje meer wilt ontvangen.\")\n",
    "\n"
   ]
  },
  {
   "cell_type": "markdown",
   "metadata": {},
   "source": [
    "<p>Bekijk <a href=\"https://course.cs.ru.nl/pythonVO/Teams/IA_uitwerkingen/IA_H7_oplossingen.html#opgave733\" target=\"_blank\">hier</a> de voorbeelduitwerking.</p>\n"
   ]
  },
  {
   "cell_type": "markdown",
   "metadata": {},
   "source": [
    "### Opdracht 7.9: Som van een aantal getallen. De gebruiker geeft het aan als het klaar is\n",
    "\n",
    "\n",
    "<p>Het doel van het programma hieronder is om de gebruiker een paar getallen te laten invoeren, en na afloop de som af te drukken. De gebruiker mag zelf bepalen wanneer hij klaar is met invoeren. We spreken met de gebruiker af dat er steeds om invoer gevraagd wordt totdat een <code>X</code> wordt ingevoerd.</p>\n",
    "\n",
    "<p>Helaas staan de regels in de verkeerde volgorde. Zet de regels in de juiste volgorde.</p>\n"
   ]
  },
  {
   "cell_type": "code",
   "execution_count": null,
   "metadata": {
    "tags": [
     "Opdracht"
    ]
   },
   "outputs": [],
   "source": [
    "        print(\"Je hebt ingevoerd\", ingevoerde_getal )\n",
    "        totaal += ingevoerde_getal          #tel ingevoerde getal op bij het totaal\n",
    "    print(\"Geef een getal (of 'X' om te stoppen): \")\n",
    "    invoer = input(  )                      #vraag gebruiker om invoer\n",
    "\t\tingevoerde_getal = int( invoer )    #zet de invoer om in een getal\n",
    "    if invoer == 'X':\n",
    "    else:\n",
    "print( \"Totaal is\", totaal )                #druk aan einde het totaal af\n",
    "while not klaar:                            #zolang nier klaar, herhaal dan\n",
    "klaar = False\n",
    "        klaar = True\n",
    "totaal = 0"
   ]
  },
  {
   "cell_type": "markdown",
   "metadata": {},
   "source": [
    "<p>Bekijk <a href=\"https://course.cs.ru.nl/pythonVO/Teams/IA_uitwerkingen/IA_H7_oplossingen.html#opgave734\" target=\"_blank\">hier</a> de voorbeelduitwerking.</p>\n"
   ]
  },
  {
   "cell_type": "markdown",
   "metadata": {},
   "source": [
    "## 6: Uitgebreide conditie met logische vlag\n",
    "\n",
    "<td>Soms heb je een uitgebreidere conditie nodig. Bijvoorbeeld, bij het invoeren van een pincode. Je vraagt een pincode pas nog een keer als de vorige poging niet goed was en er nog geen drie pogingen gedaan zijn. De conditie van de herhaling moet dus op meerdere dingen controleren:<ul>\n",
    "        <li>de ingevoerde waarde</li>\n",
    "        <li>de waarde van de teller</li>\n",
    "    </ul>\n"
   ]
  },
  {
   "cell_type": "markdown",
   "metadata": {},
   "source": [
    "### Opdracht 7.10: Pincode invoeren\n",
    "\n",
    "<p>Het doel van het programma hieronder is om een ingevoerde pincode te controleren. Als er binnen drie pogingen een juiste pincode ingevoerd wordt, drukt het programma af: <i>Toegang verleend</i>. Als de pincode onjuist is, wordt opnieuw gevraagd. Maar na drie pogingen drukt het programma af: <i>3 foutieve pogingen gedaan. Toegang geweigerd</i>. Daarna moet het programma stoppen.</p>\n",
    "\n",
    "<p>Helaas staan de regels in de verkeerde volgorde. Zet de regels in de juiste volgorde en test je programma goed.</p>\n"
   ]
  },
  {
   "cell_type": "code",
   "execution_count": null,
   "metadata": {
    "tags": [
     "Opdracht"
    ]
   },
   "outputs": [],
   "source": [
    "PINCODE = \"1234\"\n",
    "pogingen = 0\n",
    "\n",
    "while pogingen_resterend: #herhaal zolang niet juist ingevoerd is\n",
    "\t\t\tpogingen_resterend = False\n",
    "\n",
    "\tif invoer == PINCODE:\n",
    "\telse:\n",
    "\t\tprint(\"Toegang verleend.\")\n",
    "\t\tpogingen_resterend = False\n",
    "\n",
    "\t\tif pogingen < 3:\n",
    "\t\telse: # te veel foute pogingen\n",
    "\t\t\tprint(\"Fout... probeer het opnieuw\")\n",
    "\t\t\tprint(pogingen, \"foutieve pogingen gedaan. Toegang geweigerd.\")\n",
    "\tprint( \"Voer pincode in: \" )\n",
    "\tinvoer = input() #vraag om de pincode\n",
    "\tprint( \"Je hebt ingevoerd:\", invoer)\n",
    "pogingen_resterend = True\n",
    "\t\tpogingen += 1"
   ]
  },
  {
   "cell_type": "markdown",
   "metadata": {},
   "source": [
    "<p>Bekijk <a href=\"https://course.cs.ru.nl/pythonVO/Teams/IA_uitwerkingen/IA_H7_oplossingen.html#opgave741\" target=\"_blank\">hier</a> de voorbeelduitwerking.</p>\n"
   ]
  },
  {
   "cell_type": "markdown",
   "metadata": {},
   "source": [
    "### Opdracht 7.11: Wachtwoord met bijhouden van aantal foute pogingen\n",
    "\n",
    "<p>Schrijf een programma dat de gebruiker herhaaldelijk om een wachtwoord vraagt totdat dit goed is ingevoerd. Als de gebruiker een verkeerd wachtwoord intypt, meld je hoeveel foute pogingen al gedaan zijn.</p>\n",
    "\n",
    "<p>Tips:</p>\n",
    "<ul>\n",
    "    <li>Schrijf eerst code om herhaaldelijk om de pincode te vragen totdat deze juist is ingevoerd. Hiervoor gebruik je een logische vlag.\n",
    "    </li>\n",
    "    <li>Houd een teller bij voor het aantal foute pogingen. Voor de loop zet je die op 0. Als de gebruiker een foute poging doet, moet je hem ophogen en printen.\n",
    "    </li>\n",
    "</ul>\n"
   ]
  },
  {
   "cell_type": "code",
   "execution_count": null,
   "metadata": {
    "tags": [
     "Opdracht"
    ]
   },
   "outputs": [],
   "source": [
    "WACHTWOORD = \"GEHEIM\"\n",
    "\n",
    "#Vul hier de code aan"
   ]
  },
  {
   "cell_type": "markdown",
   "metadata": {},
   "source": [
    "<p>Bekijk <a href=\"https://course.cs.ru.nl/pythonVO/Teams/IA_uitwerkingen/IA_H7_oplossingen.html#opgave742\" target=\"_blank\">hier</a> de voorbeelduitwerking.</p>\n"
   ]
  }
 ],
 "metadata": {
  "kernelspec": {
   "display_name": "Python 3",
   "language": "python",
   "name": "python3"
  },
  "language_info": {
   "codemirror_mode": {
    "name": "ipython",
    "version": 3
   },
   "file_extension": ".py",
   "mimetype": "text/x-python",
   "name": "python",
   "nbconvert_exporter": "python",
   "pygments_lexer": "ipython3",
   "version": "3.12.2"
  }
 },
 "nbformat": 4,
 "nbformat_minor": 2
}
