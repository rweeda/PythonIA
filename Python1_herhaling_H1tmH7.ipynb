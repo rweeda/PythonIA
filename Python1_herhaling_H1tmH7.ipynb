{
 "cells": [
  {
   "cell_type": "markdown",
   "metadata": {},
   "source": [
    "# Herhaling Python 1: H1 t/m H7\n",
    "\n"
   ]
  },
  {
   "cell_type": "markdown",
   "metadata": {},
   "source": [
    "## Wat je tot nu toe geleerd hebt in Python\n",
    "<p>In Python I is het volgende behandeld:</p>\n",
    "<ul>\n",
    "<li>Types: <code>string</code>, <code>int</code>, <code>float</code></li>\n",
    "<li>Interactie: <code>print()</code> en <code>input()</code></li>\n",
    "<li>Variabelen en rekenen: <code>score = score + 1</code></li>\n",
    "<li>Commentaar: Met een '#' kun je toelichting in je code toevoegen</li>\n",
    "<li>Keuzes: <code>if.. elif.. else</code></li>\n",
    "<li>Functies: <code>def</code> en retourwaarden <code>return</code></li>\n",
    "<li>Herhalingen: <code>while</code></li>\n",
    "<!--<li>Eigen functies</li>-->\n",
    "</ul>"
   ]
  },
  {
   "cell_type": "markdown",
   "metadata": {},
   "source": [
    "### Herhalingsopgave 1: Ophoger\n",
    "<p>Zet in de code hieronder de juiste vergelijkingsoperatoren op de plek van de puntjes:</p>\n",
    "Wat doet het programma hieronder?<br>\n",
    "Pas het programma aan zodat het de gebruiker vraagt om een getal, deze met eentje ophoogt, en dat dan in een zin print. Als de gebruiker 8 typt, print het programma: <i>''Eentje meer is 9''</i>.<br>\n",
    "Als dat lukt, print er een '!; achter (zonder spatie): <i>''Eentje meer is 9!''</i><br><br>\n",
    "\n",
    "Tips: \n",
    "<ul>\n",
    "\t<li>Print de waarde van <code>invoer</code> om te testen of het programma werkt.\n",
    "\t<li>Wat de gebruiker intypt is een <code>string</code> (tekst). Deze moet je eerst omzetten naar een <code>int</code> (getal). Kijk eventueel terug bij  hoofdstuk 2.3: Getallen afdrukken<!--Meer uitleg <a href=\"../H2/H23.html#theorie_inputcasting\" target=\"_blank\">hier</a>-->.</li>\n",
    "\t<li>Met getallen kun je gewoon rekenen. Gebruik een nieuwe variabele voor de opgehoogde getal. Kijk eventueel terug bij hoofdstuk 2.4: Tekst afdrukken<a href=\"../H2/H24.html\" target=\"_blank\">hier</a>.</li>\n",
    "\t<li>Om een rijtje gegevens te printen gebruik je '<code>,</code>''. Kijk eventueel terug bij hoofdstuk 2.5: Een rijtje gegevens afdrukken<!-- <a href=\"../H2/H22.html#theorie_rijtjeprinten\" target=\"_blank\">hier</a>-->.</li>\n",
    "\t<li>Voor de !: Printen zonder spatie (want, met '<code>,</code> krijg je een spatie erbij), doe je door twee teksten aan elkaar te plakken. Daarvoor moet je er eerst een tekst van maken (met <code>str</code>), en dan 'plakken' met '<code>+</code>'.Kijk eventueel terug bij hoofdstuk 2.7: Strings achter elkaar afdrukken<!--<a href=\"../H2/H23.html#theorie_stringsplakken\" target=\"_blank\">hier</a>-->.\n",
    "</ul>"
   ]
  },
  {
   "cell_type": "code",
   "execution_count": null,
   "metadata": {
    "tags": [
     "Opdracht"
    ]
   },
   "outputs": [],
   "source": [
    "invoer = input(\"Geef een getal: \")\n",
    "print(invoer)\n",
    "\n",
    "\n"
   ]
  },
  {
   "cell_type": "markdown",
   "metadata": {},
   "source": [
    "<p>Bekijk <a href=\"https://course.cs.ru.nl/pythonVO/Teams/IA_uitwerkingen/HerP1_oplossingen.html#opgaveHerP11\" target=\"_blank\">hier</a> de voorbeelduitwerking.</p>\n"
   ]
  },
  {
   "cell_type": "markdown",
   "metadata": {},
   "source": [
    "<h3 id=\"opgaveHerP12\">Herhalingsopgave 2: Geheimzinnig</h3>\n",
    "(Bijbehorende theorie: <a href=\"../H7/H7_index.html\">H7 - While</a>)<br>\n",
    "<ol>\n",
    "<li>Hoeveel variabelen zitten er in de code hieronder?<br>\n",
    "<li>Waarom is <code>WACHTWOORD</code> met hoofdletters geschreven?<br>\n",
    "<li>Run de code hieronder. Wat gebeurt er als je \"Hallo\" als wachtwoord invoert? En wat bij \"Geheim\"?<br>\n",
    "</ol>\n",
    "<!-- GIVEN\n",
    "<pre class=\"python\">\n",
    "WACHTWOORD = \"Geheim\"\n",
    "goed_geraden = False                #om te beginnen staat de vlag op False\n",
    "\n",
    "while not goed_geraden:             #herhaal zolang vlag nog op False staat\n",
    "    print( \"Voer wachtwoord in: \" ) #vraag de wachtwoord\n",
    "    invoer = input()\n",
    "    if invoer == WACHTWOORD:        #goed geraden\n",
    "        print(\"Goed zo!\")\n",
    "        goed_geraden = True         #de vlag wordt op True gezet, hierna zal de while loop niet opnieuw uitgevoerd gaan worden\n",
    "    else:                           #fout geraden\n",
    "        print(\"Fout... probeer het opnieuw\")\n",
    "</pre>-->"
   ]
  },
  {
   "cell_type": "code",
   "execution_count": 1,
   "metadata": {},
   "outputs": [
    {
     "name": "stdout",
     "output_type": "stream",
     "text": [
      "Voer wachtwoord in: \n",
      "Fout... probeer het opnieuw\n",
      "Voer wachtwoord in: \n",
      "Fout... probeer het opnieuw\n",
      "Voer wachtwoord in: \n",
      "Fout... probeer het opnieuw\n",
      "Voer wachtwoord in: \n"
     ]
    }
   ],
   "source": [
    "WACHTWOORD = \"Geheim\"\n",
    "goed_geraden = False                #om te beginnen staat de vlag op False\n",
    "\n",
    "while not goed_geraden:             #herhaal zolang vlag nog op False staat\n",
    "    print( \"Voer wachtwoord in: \" ) #vraag de wachtwoord\n",
    "    invoer = input()\n",
    "    if invoer == WACHTWOORD:        #goed geraden\n",
    "        print(\"Goed zo!\")\n",
    "        goed_geraden = True         #de vlag wordt op True gezet, hierna zal de while loop niet opnieuw uitgevoerd gaan worden\n",
    "    else:                           #fout geraden\n",
    "        print(\"Fout... probeer het opnieuw\")"
   ]
  },
  {
   "cell_type": "markdown",
   "metadata": {},
   "source": [
    "<p>Bekijk <a href=\"HerP1_oplossingen.html#opgaveHerP12\" target=\"_blank\">hier</a> een voorbeeld uitwerking.</p>"
   ]
  },
  {
   "cell_type": "markdown",
   "metadata": {},
   "source": [
    "<h3 id=\"opgaveHerP13\">Herhalingsopgave 3: ID-check</h3>\n",
    "(Bijbehorende theorie: H4 - Keuzes</a>\n",
    ")<br>\n",
    "Schrijf het volgende stroomdiagram om naar code:<br>\n",
    "<img src=\"http://course.cs.ru.nl/pythonVO/Jupyter/img/Condities_Stroomdiagram_IDalcohol.png\" alt=\"Stroomdiagram van een geneste beslissing\" width=\"800\"><br>\n"
   ]
  },
  {
   "cell_type": "code",
   "execution_count": null,
   "metadata": {},
   "outputs": [],
   "source": [
    "#waarden om mee te testen\n",
    "leeftijd = 25\n",
    "ID_kaart_mee = True\n",
    "\n",
    "#hier begint het programma\n"
   ]
  },
  {
   "cell_type": "markdown",
   "metadata": {},
   "source": [
    "<p>Bekijk <a href=\"HerP1_oplossingen.html#opgaveHerP13\" target=\"_blank\">hier</a> een voorbeeld uitwerking.</p>"
   ]
  },
  {
   "cell_type": "markdown",
   "metadata": {},
   "source": [
    "<h3 id=\"opgaveHerP14\">Herhalingsopgave 4: Quizvraag</h3>\n",
    "De code hieronder print een quizvraag. Maak het af:\n",
    "<ul>\n",
    "<li>is de invoer 'a' of 'c', print dan \"fout\";\n",
    "<li>is de invoer 'b', print dan \"goed\";\n",
    "<li>bij alle andere invoer print dan \"Foutieve invoer\".\n",
    "</ul>"
   ]
  },
  {
   "cell_type": "code",
   "execution_count": null,
   "metadata": {},
   "outputs": [],
   "source": [
    "print(\"Wat is de hoofdstad van Frakrijk?\")\n",
    "print(\"a. Schiphol\")\n",
    "print(\"b. Parijs\")\n",
    "print(\"c. London\")\n",
    "antwoord = input (\"Maak je keuze: a, b, c\")\n",
    "\n",
    "\n"
   ]
  },
  {
   "cell_type": "markdown",
   "metadata": {},
   "source": [
    "<p>Bekijk <a href=\"HerP1_oplossingen.html#opgaveHerP14\" target=\"_blank\">hier</a> een voorbeeld uitwerking.</p>"
   ]
  },
  {
   "cell_type": "markdown",
   "metadata": {},
   "source": [
    "<h3 id=\"opgaveHerP15\">Herhalingsopgave 5: Algoritme samenvatten</h3>\n",
    "Ga na wat het doel is van het volgende algoritme. Geef een geschikte naam voor het programma.\n",
    "<p><img src=\"http://course.cs.ru.nl/pythonVO/Jupyter/img/ConditiesStroomdiagram_printMax.png\" /></p>\n"
   ]
  },
  {
   "cell_type": "code",
   "execution_count": null,
   "metadata": {},
   "outputs": [],
   "source": []
  },
  {
   "cell_type": "markdown",
   "metadata": {},
   "source": [
    "<p>Bekijk <a href=\"HerP1_oplossingen.html#opgaveHerP15\" target=\"_blank\">hier</a> een voorbeeld uitwerking.</p>"
   ]
  },
  {
   "cell_type": "markdown",
   "metadata": {},
   "source": [
    "<h3 id=\"opgaveHerP16\">Herhalingsopgave 6: Rekenspel</h3>\n",
    "Hieronder staat code voor een rekenspel, maar de regels staan allemaal in de verkeerde volgorde. Kan jij het programma werkend krijgen?<br>\n",
    "Het spel werkt zo: zolang de speler een verkeerd antwoord geeft, blijft de computer opnieuw vragen wat 3+4 is.<br>\n"
   ]
  },
  {
   "cell_type": "code",
   "execution_count": null,
   "metadata": {},
   "outputs": [],
   "source": [
    "antwoord_juist = False\n",
    "\tantwoord = int( input() )\n",
    "\tantwoord_juist = True\n",
    "getal2 = 4\n",
    "\t\tprint(\"Fout! Opnieuw\")\n",
    "while antwoord_juist == False:\n",
    "\telse:\n",
    "\tprint(\"Wat is \" + str(getal1) + \"+\" + str(getal2)+ \"?\")\n",
    "\tif antwoord == (getal1 + getal2):\n",
    "\t\tprint(\"Goed!\")\n",
    "print(\"Klaar!\")\t\n",
    "getal1 = 3"
   ]
  },
  {
   "cell_type": "markdown",
   "metadata": {},
   "source": [
    "<p>Bekijk <a href=\"HerP1_oplossingen.html#opgaveHerP16\" target=\"_blank\">hier</a> een voorbeeld uitwerking.</p>"
   ]
  },
  {
   "cell_type": "markdown",
   "metadata": {},
   "source": [
    "<h3 id=\"opgaveHerP17\">Herhalingsopgave 7: ID mee met functie definitie</h3>\n",
    "We gaan nu de code uit <i>Herhalingsopgave 3: ID-check</i> uitbreiden zodat je die kan aanroepen met een functie.<br><br>\n",
    "<b>Opdracht:</b> Schrijf een functie (dus een def) <code>checkID</code> die tussen de haakjes twee gegevens meekrijgt: een getal <code>leeftijd</code> en een Boolean <code>ID_kaart_mee</code> (dus <code>True</code> of <code>False</code>), en dan print of alcohol wel of niet gekocht mag worden.<br><br>\n",
    "De code van Herhalingsopgave 3 staat in de tweede cel hieronder, dat mag je in je antwoord overnemen als je wilt."
   ]
  },
  {
   "cell_type": "code",
   "execution_count": null,
   "metadata": {},
   "outputs": [],
   "source": [
    "### FUNCTIEDEFINITIES\n",
    "\n",
    "\n",
    "### HOOFDPROGRAMMA: hier je functie aanroepen"
   ]
  },
  {
   "cell_type": "code",
   "execution_count": null,
   "metadata": {},
   "outputs": [],
   "source": [
    "# ANTWOORD VAN Herhalingsopgave 3: ID-check\n",
    "if(leeftijd > 25):\n",
    "    print(\"Je mag alcohol kopen.\")\n",
    "else:\n",
    "    if (ID_kaart_mee == True):\n",
    "        if(leeftijd >= 18):\n",
    "            print(\"Je mag alcohol kopen.\")\n",
    "        else:\n",
    "            print(\"Je mag geen alcohol kopen.\")\n",
    "    else:\n",
    "        print(\"Je mag geen alcohol kopen.\")"
   ]
  },
  {
   "cell_type": "markdown",
   "metadata": {},
   "source": [
    "<h3 id=\"opgaveHerP18\">Herhalingsopgave 8: Functie met return</h3>\n",
    "Het programma hieronder moet een willekeurige getal tussen de 0 en 10 afdrukken. In de code ontbreken een aantal regels. Kun jij ze aanvullen?<br>\n",
    "\n",
    "Het is de bedoeling dat:\n",
    "<ol>\n",
    "<li>de functie <code>geefWillekeurigGetal()</code> een willekeurig getal oplevert met een <code>return</code> (regel 6);\n",
    "<li>het resultaat van de functie <code>geefWillekeurigGetal()</code> opgeslagen wordt in een variabele (regel 9);\n",
    "<li>de variabele dan geprint wordt (regel 10). \n",
    "</ol>"
   ]
  },
  {
   "cell_type": "code",
   "execution_count": null,
   "metadata": {},
   "outputs": [],
   "source": [
    "import random\n",
    "\n",
    "### FUNCTIE DEFINITIE\n",
    "def geefWillekeurigGetal():\n",
    "\twillekeurig_getal = random.randint(0,10) #maak een willekeurig getal 0-10\n",
    "\t\n",
    "\n",
    "### HOOFDPROGRAMMA\n",
    "geefWillekeurigGetal()\n",
    "print()"
   ]
  },
  {
   "cell_type": "markdown",
   "metadata": {},
   "source": [
    "  <p>Bekijk <a href=\"HerP1_oplossingen.html#opgaveHerP18\" target=\"_blank\">hier</a> een voorbeeld uitwerking.</p>\n"
   ]
  }
 ],
 "metadata": {
  "kernelspec": {
   "display_name": "Python 3",
   "language": "python",
   "name": "python3"
  },
  "language_info": {
   "codemirror_mode": {
    "name": "ipython",
    "version": 3
   },
   "file_extension": ".py",
   "mimetype": "text/x-python",
   "name": "python",
   "nbconvert_exporter": "python",
   "pygments_lexer": "ipython3",
   "version": "3.11.8"
  }
 },
 "nbformat": 4,
 "nbformat_minor": 2
}
