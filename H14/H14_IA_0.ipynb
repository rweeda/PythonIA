{
 "cells": [
  {
   "cell_type": "markdown",
   "metadata": {},
   "source": [
    "# Hoofdstuk 14 - Python-specifieke mogelijkheden\n",
    "\n",
    "<p>In dit hoofdstuk bespreken we paar dingen die specifiek voor Python zijn. Omdat we maar een deel van\n",
    "    Python behandelen (geen objectoriëntatie) kunnen deze onderwerpen handig zijn als je een PO of groter project gaat maken.</p>\n",
    "\n",
    "\n",
    "\n",
    "\n",
    "<p><span style=\"font-size: 1rem;\">In dit onderwerp:</span></p>\n",
    "<ul>\n",
    "    <li>leer je met een functie meerdere waarden retourneren;</li>\n",
    "    <li>leer je globale variabelen te gebruiken en aan te passen.</li>\n",
    "</ul>\n",
    "\n",
    "<div class=\"fa fa-clock-o fa-3x\"></div><br> <b>0,5 uur</b>"
   ]
  }
 ],
 "metadata": {
  "kernelspec": {
   "display_name": "Python 3",
   "language": "python",
   "name": "python3"
  },
  "language_info": {
   "codemirror_mode": {
    "name": "ipython",
    "version": 3
   },
   "file_extension": ".py",
   "mimetype": "text/x-python",
   "name": "python",
   "nbconvert_exporter": "python",
   "pygments_lexer": "ipython3",
   "version": "3.11.8"
  }
 },
 "nbformat": 4,
 "nbformat_minor": 2
}
