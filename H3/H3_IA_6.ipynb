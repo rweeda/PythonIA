{
 "cells": [
  {
   "cell_type": "markdown",
   "metadata": {},
   "source": [
    "## 6: Code debuggen\n",
    "\n",
    "\n",
    "<p>Als je gaat programmeren, maak je fouten. Dat hoort erbij. Het opsporen en oplossen van fouten in je code heet <i>debuggen</i>.</p>\n",
    "\n",
    "<p>Om te ontdekken waar het fout gaat, kun je het beste de waarden van variabelen printen in je code. Druk daarbij ook af om welke variabele het gaat. Zo blijft het voor jezelf overzichtelijk.</p>"
   ]
  },
  {
   "cell_type": "code",
   "execution_count": null,
   "metadata": {},
   "outputs": [],
   "source": [
    "getal1 = 2\n",
    "getal2 = 3\n",
    "\n",
    "getal3 = getal1 * getal2\n",
    "print( \"getal1:\", getal1, \"getal2:\", getal2, \"getal3:\", getal3 )\n",
    "\n",
    "getal2 = getal3 - getal1\n",
    "print( \"getal1:\", getal1, \"getal2:\", getal2, \"getal3:\", getal3 )\n",
    "\n",
    "getal1 = getal1 + getal2 + getal3\n",
    "print( \"getal1:\", getal1, \"getal2:\", getal2, \"getal3:\", getal3 )\n",
    "\n",
    "getal3 = getal2 * getal1\n",
    "print( \"getal1:\", getal1, \"getal2:\", getal2, \"getal3:\", getal3 )"
   ]
  },
  {
   "cell_type": "markdown",
   "metadata": {},
   "source": [
    "### Opdracht 3.6: Fout opsporen door waarden te bekijken\n",
    "\n",
    "<p>De code hieronder geeft een foutmelding op regel 7.</p>\n",
    "\n",
    "<p>Wat zijn de waarden van <code>getal1</code>, <code>getal2</code> en <code>getal3</code> op regel 6, vlak voordat de fout gemeld wordt? Druk met <code>print()</code> de waarden af.\n"
   ]
  },
  {
   "cell_type": "code",
   "execution_count": null,
   "metadata": {
    "tags": [
     "Opdracht"
    ]
   },
   "outputs": [],
   "source": [
    "getal1 = 5\n",
    "getal2 = 4\n",
    "getal3 = 2\n",
    "getal1 = getal3 - 1\n",
    "getal1 = getal1 - 1\n",
    "\n",
    "getal3 = getal2 / getal1\n",
    "print(getal3)"
   ]
  },
  {
   "cell_type": "markdown",
   "metadata": {},
   "source": [
    "## Fouten opsporen door types te bekijken\n",
    "\n",
    "<p>Variabelen hebben een type. Een variabele van een type zal zich misschien anders gedragen dan een variabele van een ander type.\n",
    "    In de code hieronder wordt de optelling (<code>+</code>) twee keer gebruikt en het effect is afhankelijk van de types van de variabelen. Met <code>type(a)</code> en <code>type(c)</code> kun je de types achterhalen.</p>\n"
   ]
  },
  {
   "cell_type": "code",
   "execution_count": null,
   "metadata": {
    "tags": [
     "Opdracht"
    ]
   },
   "outputs": [],
   "source": [
    "a = 1\n",
    "print( \"a:\", a, \"type van a:\", type(a) )\n",
    "b = 4\n",
    "print( \"b:\", b, \"type van b:\", type(b) )\n",
    "c = \"1\"\n",
    "print( \"c:\", c, \"type van c:\", type(c) )\n",
    "d = \"4\"\n",
    "print( \"d:\", d, \"type van d:\", type(d) )\n",
    "\n",
    "print( a + b )\n",
    "print( c + d )"
   ]
  },
  {
   "cell_type": "markdown",
   "metadata": {},
   "source": [
    " <p><code>a</code> en <code>b</code> zijn ints (gehele getallen). Python telt twee ints bij elkaar op, dus 1+4 wordt 5.<br>\n",
    " <code>c</code> en <code>d</code> zijn strings (teksten). Python plakt twee strings aan elkaar, dus \"1\"+\"4\" wordt 14.</p>"
   ]
  },
  {
   "cell_type": "markdown",
   "metadata": {},
   "source": [
    "### Opdracht 3.7: Fout opsporen door types te bekijken\n",
    "<p>Janneke wil een programma schrijven dat getallen verdubbelt, maar er zit een fout in haar code.</p>\n",
    "\n",
    "a. Bekijk de code hieronder en bedenk, zonder de code te runnen, wat er gebeurt.<br>\n",
    "b. Run de code.<br>\n",
    "c. Zoek de fout. Gebruik eventueel <code>type()</code>.<br>\n",
    "d. Pas de fout aan. Geef in commentaar aan wat je hebt aangepast en waarom dat nodig is."
   ]
  },
  {
   "cell_type": "code",
   "execution_count": null,
   "metadata": {},
   "outputs": [],
   "source": [
    "print(\"Geef een getal tussen de 1 en 6.\")\n",
    "invoer = input()\n",
    "verdubbelaar = 2 * invoer\n",
    "print(\"Het dubbele is\", verdubbelaar)"
   ]
  }
 ],
 "metadata": {
  "kernelspec": {
   "display_name": "Python 3",
   "language": "python",
   "name": "python3"
  },
  "language_info": {
   "name": "python",
   "version": "3.12.2"
  }
 },
 "nbformat": 4,
 "nbformat_minor": 2
}
