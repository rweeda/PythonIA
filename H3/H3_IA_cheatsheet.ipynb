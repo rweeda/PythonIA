{
 "cells": [
  {
   "cell_type": "markdown",
   "id": "639447b9",
   "metadata": {},
   "source": [
    "# Onderwerp 3 - Variabelen: Samenvatting\n",
    "\n",
    "<p>Met een <i>variabele</i> kun je dingen onthouden. In dit onderwerp leer je wat een variabele precies is en hoe je er mee kan rekenen. Ook leer je hoe je een willekeurig getal kan maken.</p>"
   ]
  },
  {
   "cell_type": "markdown",
   "id": "7fa8253c",
   "metadata": {},
   "source": [
    "## 3.1 Waarde toekennen aan een variabele"
   ]
  },
  {
   "cell_type": "code",
   "execution_count": null,
   "id": "8f7f07a6",
   "metadata": {},
   "outputs": [],
   "source": [
    "# Een variabele krijgt een waarde met =\n",
    "leeftijd = 18\n",
    "print(leeftijd)  # toont 18"
   ]
  },
  {
   "cell_type": "markdown",
   "id": "af6d4887",
   "metadata": {},
   "source": [
    "## 3.2: Waarde van een variabele veranderen"
   ]
  },
  {
   "cell_type": "code",
   "execution_count": null,
   "id": "431f007b",
   "metadata": {},
   "outputs": [],
   "source": [
    "score = 0 # startwaarde is 0\n",
    "score = score + 1  # verhoog score met 1\n",
    "print(score)"
   ]
  },
  {
   "cell_type": "markdown",
   "id": "d6288103",
   "metadata": {},
   "source": [
    "## 3.5: Tracetabel maken (waarden van variabelen traceren)"
   ]
  },
  {
   "cell_type": "code",
   "execution_count": null,
   "id": "472a4997",
   "metadata": {},
   "outputs": [],
   "source": [
    "# Je kunt de tussenstappen printen om een tracetabel (overzicht) te maken\n",
    "x = 2\n",
    "print(\"stap\", 0, \"x =\", x)\n",
    "\n",
    "x = x + 3\n",
    "print(\"stap\", 1, \"x =\", x)\n",
    "\n",
    "x = x * 2\n",
    "print(\"stap\", 2, \"x =\", x)"
   ]
  },
  {
   "cell_type": "markdown",
   "id": "19d0744c",
   "metadata": {},
   "source": [
    "## 3.7: Verkorte operatoren: +=, -=, *=, /="
   ]
  },
  {
   "cell_type": "code",
   "execution_count": null,
   "id": "bb0543d8",
   "metadata": {},
   "outputs": [],
   "source": [
    "n = 10\n",
    "n += 5   # zelfde als: n = n + 5\n",
    "print(n)\n",
    "\n",
    "n -= 3   # zelfde als: n = n - 3\n",
    "print(n)\n",
    "\n",
    "n *= 2   # zelfde als: n = n * 2\n",
    "print(n)\n",
    "\n",
    "n /= 4   # zelfde als: n = n / 4\n",
    "print(n)"
   ]
  },
  {
   "cell_type": "markdown",
   "id": "b8bd86b3",
   "metadata": {},
   "source": [
    "## 3.8: Standaardfuncties <code>max()</code>, <code>min()</code>, <code>pow()</code>, <code>round()</code>, <code>abs()</code>, <code>len()</code>"
   ]
  },
  {
   "cell_type": "code",
   "execution_count": null,
   "id": "e73cccce",
   "metadata": {},
   "outputs": [],
   "source": [
    "getallen = [3, 10, -2, 7]\n",
    "print(max(getallen))   # grootste waarde uit een lijst\n",
    "print(min(getallen))   # kleinste waarde uit een lijst\n",
    "\n",
    "print(pow(2, 3))       # 2 tot de macht 3\n",
    "print(round(3.65, 1))  # afronden 3.65 op 1 plaats na de komma\n",
    "print(abs(-8))         # absolute waarde: maak van een negatief getal een positief getal\n",
    "\n",
    "woord = \"informatica\"\n",
    "print(len(woord))      # telt lengte of aantal tekens"
   ]
  },
  {
   "cell_type": "markdown",
   "id": "1bfbe4b0",
   "metadata": {},
   "source": [
    "## 3.9: Willekeurig geheel getal: <code>random.randint(a, b)</code>"
   ]
  },
  {
   "cell_type": "code",
   "execution_count": null,
   "id": "bbdd6fa8",
   "metadata": {},
   "outputs": [],
   "source": [
    "import random       # importeer de module random\n",
    "\n",
    "dobbelsteen = random.randint(1, 6) # kiest een willekeurig geheel getal uit 1 t/m 6 (zoals een dobbelsteen)\n",
    "print(dobbelsteen)\n",
    "\n",
    "willekeurig_kommagetal = random.random()  # kiest een willekeurig kommagetal tussen 0 (incl) en 1.0 (exclusief)\n",
    "print(willekeurig_kommagetal)"
   ]
  }
 ],
 "metadata": {
  "language_info": {
   "name": "python"
  }
 },
 "nbformat": 4,
 "nbformat_minor": 5
}
