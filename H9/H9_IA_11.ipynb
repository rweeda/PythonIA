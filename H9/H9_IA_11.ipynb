{
 "cells": [
  {
   "cell_type": "markdown",
   "metadata": {},
   "source": [
    "## 11: Element invoegen met <code>insert()</code>\n",
    "\n",
    "<p>Met <code>.insert()</code> kun je een element op een bepaalde index in de lijst invoegen. Je geeft dan twee dingen mee: de index en het element dat je wilt invoegen. De lijst wordt hierdoor een element langer.</p>"
   ]
  },
  {
   "cell_type": "code",
   "execution_count": null,
   "metadata": {},
   "outputs": [],
   "source": [
    "fruitlijst = [\"appel\", \"aardbei\", \"perzik\"]\n",
    "fruitlijst.insert(1, \"banaan\") #voegt element \"banaan\" toe op positie 1\n",
    "\n",
    "print( fruitlijst ) #druk de lijst af"
   ]
  },
  {
   "cell_type": "markdown",
   "metadata": {},
   "source": [
    "<p>Hierdoor komt \"banaan\" achter \"appel\" te staan op index 1.</p>"
   ]
  },
  {
   "cell_type": "markdown",
   "metadata": {},
   "source": [
    "### Opdracht 9.11 Ranglijst\n",
    "<p>Het programma hieronder print een ranglijst af. Maar er ontbreekt er eentje. Gebruik <code>.insert()</code> om <i>derde</i> op de juiste plek in te voegen en print daarna de lijst.</p>"
   ]
  },
  {
   "cell_type": "code",
   "execution_count": null,
   "metadata": {},
   "outputs": [],
   "source": [
    "ranglijst = [ \"eerste\", \"tweede\", \"vierde\", \"vijfde\"]\n",
    "\n",
    "print( ranglijst )"
   ]
  }
 ],
 "metadata": {
  "kernelspec": {
   "display_name": "Python 3",
   "language": "python",
   "name": "python3"
  },
  "language_info": {
   "codemirror_mode": {
    "name": "ipython",
    "version": 3
   },
   "file_extension": ".py",
   "mimetype": "text/x-python",
   "name": "python",
   "nbconvert_exporter": "python",
   "pygments_lexer": "ipython3",
   "version": "3.11.9"
  }
 },
 "nbformat": 4,
 "nbformat_minor": 2
}
