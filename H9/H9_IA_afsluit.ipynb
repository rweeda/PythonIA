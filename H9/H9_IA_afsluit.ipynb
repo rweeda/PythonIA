{
 "cells": [
  {
   "cell_type": "markdown",
   "metadata": {},
   "source": [
    "## Onderwerp 9 - Afsluitende opdrachten\n",
    "\n",
    "\n",
    "<p>Met de volgende afsluitende opdrachten kun je kijken hoe goed je de stof beheerst. Controleer steeds je eigen oplossing met de voorbeeld uitwerking.</p>\n",
    "\n",
    "### Afsluitende opdracht 9.1 Beurten geven\n",
    "<p>Tijdens een les wil de docent een paar keer willekeurig de beurt geven aan een leerling.\n",
    "</p>\n",
    "<ol style=\"list-style-type: lower-alpha\">\n",
    "    <li>Schrijf een functie die een willekeurige naam uit een klassenlijst pakt en deze print.\n",
    "    </li>\n",
    "    <li>Schrijf een functie die de docent vraagt om hoeveel beurten het gaat. Lever met een return het aantal beurten op.\n",
    "    </li>\n",
    "    <li>In je hoofdprogramma roep je de functie aan om het aantal beurten te vragen. Daarna roep je (binnen een loop) zoveel keer je functie aan voor het printen van een willekeurige naam.\n",
    "    </li>\n",
    "</ol>"
   ]
  },
  {
   "cell_type": "code",
   "execution_count": null,
   "metadata": {},
   "outputs": [],
   "source": [
    "import random\n",
    "klassenlijst = [ \"Janneke\", \"Tim\", \"Piet\", \"Ilse\", \"Luna\", \"Heleen\", \"Jan\" ]\n",
    "\n",
    "### FUNCTIEDEFINITIES\n",
    "\n",
    "\n",
    "\n",
    "\n",
    "\n",
    "### HOOFDPROGRAMMA\t\n",
    "\n",
    "\n"
   ]
  },
  {
   "cell_type": "markdown",
   "metadata": {},
   "source": [
    "\n",
    "<p>Klik <a href=\"https://course.cs.ru.nl/pythonVO/Teams/IA_uitwerkingen/IA_H9_oplossingen.html#AfOpgave91\">hier</a> voor een voorbeelduitwerking.</p>"
   ]
  },
  {
   "cell_type": "markdown",
   "metadata": {},
   "source": [
    "### Afsluitende opdracht 9.2 Van achter naar voren\n",
    "<p>Schrijf een programma dat het laatste element van een lijst ook vooraan toevoegt. Dit element komt dan twee keer voor, zowel vooraan als achteraan. Je code moet voor elke willekeurige rij werken.</p>\n"
   ]
  },
  {
   "cell_type": "code",
   "execution_count": null,
   "metadata": {},
   "outputs": [],
   "source": [
    "wachtrij = [ \"Janneke\", \"Tim\", \"Piet\", \"Ilse\", \"Luna\", \"Heleen\", \"Jan\" ]\n"
   ]
  },
  {
   "cell_type": "markdown",
   "metadata": {},
   "source": [
    "<p>Klik <a href=\"https://course.cs.ru.nl/pythonVO/Teams/IA_uitwerkingen/IA_H9_oplossingen.html#AfOpgave92\">hier</a> voor een voorbeelduitwerking.</p>"
   ]
  },
  {
   "cell_type": "markdown",
   "metadata": {},
   "source": [
    "### Afsluitende opdracht 9.3 Tweelingen\n",
    "<p>Anton en Piet zijn tweelingen die toevallig altijd gelijke kleren uitzoeken. Kiest Anton een blauw shirt uit, dan doet Piet dat ook. Irritant, want niemand kan de broertjes uit elkaar houden.</p>\n",
    "<p>Schrijf een programma dat twee lijsten maakt met zeven willekeurige kleuren (voor zeven dagen), eentje voor Anton en de ander voor Piet.\n",
    "</p>\n",
    "<ol style=\"list-style-type: lower-alpha\">\n",
    "    <li>Maak een lijst met een aantal kleuren in het Engels.</li>\n",
    "    <li>Schrijf een functie die een willekeurige kleur kiest en deze in een nieuwe lijst zet. Test of dit werkt.\n",
    "    </li>\n",
    "    <li>Pas je programma aan om zeven kleuren te kiezen: gebruik een loop! Lever de lijst op met return.\n",
    "    </li>\n",
    "    <li>Sla de opgeleverde lijst op voor Anton.</li>\n",
    "    <li>Maak ook een lijst voor Piet. Hiervoor roep je dezelfde functie weer aan.</li>\n",
    "    <li>Print beide lijsten.</li>\n",
    "</ol>"
   ]
  },
  {
   "cell_type": "code",
   "execution_count": null,
   "metadata": {},
   "outputs": [],
   "source": [
    "import random\n",
    "kleurenlijst = [\"red\", \"blue\", \"yellow\", \"green\", \"white\"]\n",
    "\n",
    "### FUNCTIEDEFINTIES\n",
    "def maakWillekeurigeKleurenLijst(kleurenlijst):\n",
    "\twillekeurige_lijst = [] # maak een lege lijst om kleuren in bij te houden\n",
    "\n",
    "\tfor i in range(7): # 7 keer voor 7 dagen\n",
    "\t\twillekeurige_kleur = random.choice(kleurenlijst) #kies een willekeurige kleur\n",
    "\t\twillekeurige_lijst.append(willekeurige_kleur) #voeg nieuwe kleur toe aan lijst\n",
    "\n",
    "\treturn willekeurige_lijst\n",
    "\n",
    "\n",
    "### HOOFDPROGRAMMA\n"
   ]
  },
  {
   "cell_type": "markdown",
   "metadata": {},
   "source": [
    "<p>Klik <a href=\"https://course.cs.ru.nl/pythonVO/Teams/IA_uitwerkingen/IA_H9_oplossingen.html#AfOpgave93\">hier</a> voor een voorbeelduitwerking.</p>"
   ]
  },
  {
   "cell_type": "markdown",
   "metadata": {},
   "source": [
    "### Afsluitende opdracht 9.4 Regendagen tellen\n",
    "<p>De hoeveelheid regen van de afgelopen dagen is bijgehouden in een lijst. Bepaal op hoeveel dagen er regen is gevallen.</p>\n",
    "<p>Tip: Houd een tellertje bij. Doorloop de elementen met een <code>for</code>-loop en hoog de teller in de juiste gevallen op.</p>\n"
   ]
  },
  {
   "cell_type": "code",
   "execution_count": null,
   "metadata": {},
   "outputs": [],
   "source": [
    "regenmetingen = [10, 0, 12, 0, 0, 2, 0]\n",
    "\n"
   ]
  },
  {
   "cell_type": "markdown",
   "metadata": {},
   "source": [
    "<p>Klik <a href=\"https://course.cs.ru.nl/pythonVO/Teams/IA_uitwerkingen/IA_H9_oplossingen.html#AfOpgave94\">hier</a> voor een voorbeelduitwerking.</p>"
   ]
  }
 ],
 "metadata": {
  "kernelspec": {
   "display_name": "Python 3",
   "language": "python",
   "name": "python3"
  },
  "language_info": {
   "codemirror_mode": {
    "name": "ipython",
    "version": 3
   },
   "file_extension": ".py",
   "mimetype": "text/x-python",
   "name": "python",
   "nbconvert_exporter": "python",
   "pygments_lexer": "ipython3",
   "version": "3.11.9"
  }
 },
 "nbformat": 4,
 "nbformat_minor": 2
}
