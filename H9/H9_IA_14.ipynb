{
 "cells": [
  {
   "cell_type": "markdown",
   "metadata": {},
   "source": [
    "## 14: Lijst doorlopen met een <code>for</code>-loop\n",
    "\n",
    "\n",
    "\n",
    "[![Watch the video](https://img.youtube.com/vi/j2epbJ5DAeo/hqdefault.jpg)](https://www.youtube.com/embed/j2epbJ5DAeo)\n",
    "\n",
    "<p>Met een <code>for</code>-loop kun je alle elementen van een lijst één voor één doorlopen.</p>"
   ]
  },
  {
   "cell_type": "code",
   "execution_count": null,
   "metadata": {},
   "outputs": [],
   "source": [
    "kleurenLijst = [\"zwart\", \"rood\", \"blauw\", \"groen\", \"geel\"]\n",
    "\n",
    "for kleur in kleurenLijst:\n",
    "\tprint(\"kleur is:\", kleur)"
   ]
  },
  {
   "cell_type": "markdown",
   "metadata": {},
   "source": [
    "### Opdracht 9.14 Vorstwaarschuwing\n",
    "<p>De weersvoorspelling voor de komende dagen staat in de lijst&nbsp;<code>temperatuurvoorspelling</code>. Doorloop één voor één de voorspellingen en print \"<i>Let op: Strooien</i>\" elke keer als de temperatuur onder nul komt.</p>\n"
   ]
  },
  {
   "cell_type": "code",
   "execution_count": null,
   "metadata": {},
   "outputs": [],
   "source": [
    "temperatuurvoorspelling = [1.2, 3.2, 0, -0.1, -1.3, 4.1, -0.2]\n"
   ]
  },
  {
   "cell_type": "markdown",
   "metadata": {},
   "source": [
    "<p>Klik <a href=\"https://course.cs.ru.nl/pythonVO/Teams/IA_uitwerkingen/IA_H9_oplossingen.html#opgave961\">hier</a> voor een voorbeelduitwerking.</p>"
   ]
  }
 ],
 "metadata": {
  "kernelspec": {
   "display_name": "Python 3",
   "language": "python",
   "name": "python3"
  },
  "language_info": {
   "codemirror_mode": {
    "name": "ipython",
    "version": 3
   },
   "file_extension": ".py",
   "mimetype": "text/x-python",
   "name": "python",
   "nbconvert_exporter": "python",
   "pygments_lexer": "ipython3",
   "version": "3.11.9"
  }
 },
 "nbformat": 4,
 "nbformat_minor": 2
}
