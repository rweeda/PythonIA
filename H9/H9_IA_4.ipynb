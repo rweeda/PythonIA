{
 "cells": [
  {
   "cell_type": "markdown",
   "metadata": {},
   "source": [
    "## 4: Bepaalde elementen uit een lijst pakken\n",
    "<p>Met de index kun je een bepaald element uit een lijst pakken. De index zet je tussen vierkante haken [ ], bijvoorbeeld <code>lijst[2]</code> om het element op index 2 van een lijst te krijgen.</p>\n"
   ]
  },
  {
   "cell_type": "code",
   "execution_count": null,
   "metadata": {},
   "outputs": [],
   "source": [
    "boodschappenlijst = [ \"appels\", \"brood\", \"melk\" , \"kaas\"]\t#maak een boodschappenlijst\n",
    "\n",
    "print( \"Op index 0 staat:\", boodschappenlijst[0] ) #druk het eerste element af\n",
    "print( \"Op index 1 staat:\", boodschappenlijst[1] ) #druk element op index 1 af (het 2e element)\n",
    "print( \"Op index 2 staat:\", boodschappenlijst[2] ) #druk element op index 2 af (het 3e element)"
   ]
  },
  {
   "cell_type": "markdown",
   "metadata": {},
   "source": [
    "### Opdracht 9.4 Bepaalde elementen afdrukken</p>\n",
    "<p>Een meetstation heeft voor een paar dagen de temperatuur bijgehouden: 22.3, 23.0, 25.1, 23.2, 21.9.</p>\n",
    "<p>Gebruik de index om het tweede element te printen (dus 23.0) en het achterste element (dus 21.9).</p>\n"
   ]
  },
  {
   "cell_type": "code",
   "execution_count": null,
   "metadata": {},
   "outputs": [],
   "source": [
    "temperatuurlijst = [22.3, 23.0, 25.1, 23.2, 21.9]"
   ]
  },
  {
   "cell_type": "markdown",
   "metadata": {},
   "source": [
    "<p>Klik <a href=\"https://rweeda.github.io/PythonIA/docs/IA_H9_oplossingen.html#opgave931\">hier</a> voor een voorbeelduitwerking.</p>"
   ]
  }
 ],
 "metadata": {
  "kernelspec": {
   "display_name": "Python 3",
   "language": "python",
   "name": "python3"
  },
  "language_info": {
   "codemirror_mode": {
    "name": "ipython",
    "version": 3
   },
   "file_extension": ".py",
   "mimetype": "text/x-python",
   "name": "python",
   "nbconvert_exporter": "python",
   "pygments_lexer": "ipython3",
   "version": "3.11.9"
  }
 },
 "nbformat": 4,
 "nbformat_minor": 2
}
