{
 "cells": [
  {
   "cell_type": "markdown",
   "metadata": {},
   "source": [
    "# Onderwerp 9 - Lijsten\n",
    "\n",
    "\n",
    "<div style=\"display:flex\">\n",
    "\n",
    "<p>Een <i>lijst</i> (in het Engels: list) is een verzameling elementen. Lijsten zijn handig om 'dingen' in op te slaan. Dat kunnen getallen zijn, zoals in een cijferlijst of woorden zoals in een boodschappenlijst.</p>\n",
    "\n",
    "<p><img src=\"https://course.cs.ru.nl/pythonVO/Jupyter/img/H9_0.png\" alt=\"Lijsten in Python\"  class=\"img-responsive atto_image_button_text-bottom\"></p>\n",
    "\n",
    "</div>\n",
    "\n",
    "<p>In dit onderwerp:</span></p>\n",
    "<ul>\n",
    "    <li>leer je hoe je een lijst maakt, print en aanpast;</li>\n",
    "    <li>leer je om met een index een bepaald element in een lijst te krijgen, een element op een bepaalde index aan te passen, in te voegen met <code>insert()</code>, toe te voegen met <code>append()</code>, verwijderen met <code>remove()</code> of het aantal voorkomens tellen met <code>count()</code>;</li>\n",
    "    <li>leer je de lengte van een lijst te bepalen met <code>len()</code>;</li>\n",
    "    <li>leer je met één regel code het laatste element uit elke lijst te halen;</li>\n",
    "    <li>leer je met <code>random.choice()</code> een willekeurig element uit een lijst te halen;</li>\n",
    "    <li>leer je hoe je een lijst kan doorlopen met een <code>for</code>-loop, om met elk element iets te doen.</li>\n",
    "\n",
    "</ul>\n",
    "<p></p>\n",
    "\n",
    "\n",
    "<p><b>Standaardfuncties met lijsten</b></p>\n",
    "<p>Voor lijsten zijn er heel veel standaardfuncties die je kunt gebruiken. We behandelen ze niet allemaal. Als je er meer over wilt leren kun je <a href=\"https://www.w3schools.com/python/python_ref_list.asp\" target=\"_blank\">hier</a> meer informatie\n",
    "    vinden.</p>\n",
    "\n",
    "\n",
    "<div class=\"fa fa-clock-o fa-3x\"></div><br> Tijdsbesteding: <b>2 uur</b>"
   ]
  }
 ],
 "metadata": {
  "kernelspec": {
   "display_name": "Python 3",
   "language": "python",
   "name": "python3"
  },
  "language_info": {
   "codemirror_mode": {
    "name": "ipython",
    "version": 3
   },
   "file_extension": ".py",
   "mimetype": "text/x-python",
   "name": "python",
   "nbconvert_exporter": "python",
   "pygments_lexer": "ipython3",
   "version": "3.11.9"
  }
 },
 "nbformat": 4,
 "nbformat_minor": 2
}
