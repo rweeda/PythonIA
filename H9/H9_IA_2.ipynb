{
 "cells": [
  {
   "cell_type": "markdown",
   "metadata": {},
   "source": [
    "## 2: Lengte van een lijst bepalen\n",
    "\n",
    "\n",
    "[![Watch the video](https://img.youtube.com/vi/3CrZo7x_eVo/hqdefault.jpg)](https://www.youtube.com/embed/3CrZo7x_eVo)\n",
    "\n",
    "<p>Met <code>len()</code> kun je de lengte van een lijst bepalen, dus hoeveel elementen erin zitten. Bijvoorbeeld:</p>"
   ]
  },
  {
   "cell_type": "code",
   "execution_count": null,
   "metadata": {},
   "outputs": [],
   "source": [
    "boodschappenlijst = [ \"appels\", \"brood\", \"melk\" , \"kaas\"]\t#maak een boodschappenlijst\n",
    "\n",
    "lengte = len( boodschappenlijst )                         #bepaal de lengte van de boodschappenlijst\n",
    "print( \"De lengte is\", lengte )\t                        \t#druk de lengte van de lijst af"
   ]
  },
  {
   "cell_type": "markdown",
   "metadata": {},
   "source": [
    "### Opdracht 9.2 Lengte van een lijst\n",
    "\n",
    "<p>Print de lengte van de gegeven lijst.</p>\n"
   ]
  },
  {
   "cell_type": "code",
   "execution_count": null,
   "metadata": {},
   "outputs": [],
   "source": [
    "temperatuurlijst = [22.3, 23.0, 25.1, 23.2, 21.9]"
   ]
  },
  {
   "cell_type": "markdown",
   "metadata": {},
   "source": [
    "<p>Klik <a href=\"https://rweeda.github.io/PythonIA/docs/IA_H9_oplossingen.html#opgave921\">hier</a> voor een voorbeelduitwerking.</p>\n",
    "\n"
   ]
  },
  {
   "cell_type": "markdown",
   "metadata": {},
   "source": [
    "### Opdracht 9.3 Lengte van een lege lijst\n",
    "<p> Maak een lege lijst aan. Gebruik <code>len()</code> om de lengte van de lijst te bepalen en print deze.</p>\n"
   ]
  },
  {
   "cell_type": "code",
   "execution_count": null,
   "metadata": {},
   "outputs": [],
   "source": []
  },
  {
   "cell_type": "markdown",
   "metadata": {},
   "source": [
    "<p>Klik <a href=\"https://rweeda.github.io/PythonIA/docs/IA_H9_oplossingen.html#opgave922\">hier</a> voor een voorbeelduitwerking.</p>"
   ]
  }
 ],
 "metadata": {
  "kernelspec": {
   "display_name": "Python 3",
   "language": "python",
   "name": "python3"
  },
  "language_info": {
   "codemirror_mode": {
    "name": "ipython",
    "version": 3
   },
   "file_extension": ".py",
   "mimetype": "text/x-python",
   "name": "python",
   "nbconvert_exporter": "python",
   "pygments_lexer": "ipython3",
   "version": "3.11.9"
  }
 },
 "nbformat": 4,
 "nbformat_minor": 2
}
