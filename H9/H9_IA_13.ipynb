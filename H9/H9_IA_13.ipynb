{
 "cells": [
  {
   "cell_type": "markdown",
   "metadata": {},
   "source": [
    "## 13: Willekeurig uit een lijst pakken met <code>choice()</code>\n",
    "\n",
    "<p>Met <code>.choice()</code> kun een willekeurig element uit een lijst pakken. Hiervoor heb je wel <code>import random</code> nodig.</p>"
   ]
  },
  {
   "cell_type": "code",
   "execution_count": null,
   "metadata": {},
   "outputs": [],
   "source": [
    "import random\n",
    "\n",
    "kleurenlijst = [\"rood\", \"blauw\", \"groen\", \"geel\"]\n",
    "print( \"De lijst is:\", kleurenlijst )\n",
    "willekeurig_kleur = random.choice( kleurenlijst )\n",
    "\n",
    "print( \"Willekeurig gekozen kleur is:\", willekeurig_kleur )"
   ]
  },
  {
   "cell_type": "markdown",
   "metadata": {},
   "source": [
    "\n",
    "### Opdracht 9.13 Kleurrijke spirograaf\n",
    "\n",
    "<p>Je gaat een spirograaf tekenen met voor elke zijde een verschillende kleur. Je maakt hiervoor een lijst met kleuren en kiest er steeds een willekeurige uit.</p>\n",
    "\n",
    "<p>Dat doe je zo:\n",
    "</p>\n",
    "<ol style=\"list-style-type: lower-alpha\">\n",
    "    <li>teken eerst je spirograaf in het zwart. Ik geef je de code cadeau. Controleer eerst of dit goed werkt;\n",
    "    </li>\n",
    "    <li>pas de code nu aan zodat je spirograaf in het blauw getekend wordt, met <code>pencolor()</code>;\n",
    "    </li>\n",
    "    <li>maak bovenin je code een lijst met een aantal kleuren. Klik <a href=\"https://trinket.io/docs/colors\">hier</a> voor een overzicht van alle Python Turtle kleuren;\n",
    "    </li>\n",
    "    <li>elke keer voordat een zijde getekend wordt, wil je willekeurig een nieuwe kleur kiezen en je pen deze kleur geven:\n",
    "        <ul>\n",
    "            <li>bovenaan je programma importeer je de module <code>random</code> met <code>import random</code>;\n",
    "            </li>\n",
    "            <li>gebruik <code>random.choice()</code> om een willekeurige kleur uit je lijst te kiezen;\n",
    "            </li>\n",
    "            <li>geef de pen de gekozen kleur.\n",
    "            </li>\n",
    "        </ul>\n",
    "    </li>\n",
    "</ol>\n",
    "<p></p>\n",
    "\n",
    "<p>Uitbreiding: Je kunt ook een ander mooi figuur maken. Probeer ook eens het volgende steeds te herhalen:</p>\n",
    "\n",
    "\n",
    "<pre class=\"python\">turtle.forward(200)\n",
    "turtle.left(170)\n",
    "</pre>\n"
   ]
  },
  {
   "cell_type": "code",
   "execution_count": null,
   "metadata": {},
   "outputs": [],
   "source": [
    "import turtle\n",
    "\n",
    "turtle.pendown()\n",
    "\n",
    "for i in range(50): #teken een spirograaf met 50 zijden\n",
    "\tturtle.forward(100)\n",
    "\tturtle.right(65)\n",
    "\n",
    "turtle.done()"
   ]
  }
 ],
 "metadata": {
  "kernelspec": {
   "display_name": "Python 3",
   "language": "python",
   "name": "python3"
  },
  "language_info": {
   "codemirror_mode": {
    "name": "ipython",
    "version": 3
   },
   "file_extension": ".py",
   "mimetype": "text/x-python",
   "name": "python",
   "nbconvert_exporter": "python",
   "pygments_lexer": "ipython3",
   "version": "3.11.9"
  }
 },
 "nbformat": 4,
 "nbformat_minor": 2
}
