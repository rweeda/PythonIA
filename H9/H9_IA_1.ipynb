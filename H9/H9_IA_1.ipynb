{
 "cells": [
  {
   "cell_type": "markdown",
   "metadata": {},
   "source": [
    "## 1: Lijst maken en afdrukken\n",
    "\n",
    "\n",
    "[![Watch the video](https://img.youtube.com/vi/KPslYjB8Qxw/hqdefault.jpg)](https://www.youtube.com/embed/KPslYjB8Qxw)\n",
    "\n",
    "### Lijst maken\n",
    "<p>Een lijst maak je door de elementen tussen vierkante haken te zetten en te scheiden met komma's. Hier een paar voorbeelden:\n",
    "\n",
    "</p>\n",
    "<ul>\n",
    "    <li><code>boodschappenlijst = [ \"appels\", \"brood\", \"melk\" , \"kaas\"]</code></li>\n",
    "    <li><code>schoenmaten = [ 36, 37, 38, 39, 40, 41 ]</code></li>\n",
    "    <li><code>cijferlijst = [8.0, 7.8, 6.5, 9.2]</code></li>\n",
    "    <li><code>leegLijst = []</code></li>\n",
    "</ul>\n",
    "<p></p>\n",
    "<p>Het laatste voorbeeld is een lege lijst: een nieuwe lijst waar nog niets in zit.</p>\n",
    "\n",
    "\n",
    "### Lijst afdrukken\n",
    "<p>Met <code>print()</code> kun je een lijst afdrukken. Zoals je ziet als je op de <i>Run</i>-knop drukt, worden de vierkante haken [ ] ook afgedrukt.</p>\n"
   ]
  },
  {
   "cell_type": "code",
   "execution_count": null,
   "metadata": {},
   "outputs": [],
   "source": [
    "boodschappenlijst = [ \"appels\", \"brood\", \"melk\" , \"kaas\"]\t#maak een boodschappenlijst\n",
    "print(boodschappenlijst)"
   ]
  },
  {
   "cell_type": "markdown",
   "metadata": {},
   "source": [
    "### Opdracht 9.1 Lijst maken en afdrukken\n",
    "<p>Een meetstation heeft voor een paar dagen de temperatuur bijgehouden: 22.3, 23.0, 25.1, 23.2, 21.9.</p>\n",
    "<p>Zet de metingen in een lijst en druk de lijst daarna af.</p>\n",
    "\n"
   ]
  },
  {
   "cell_type": "code",
   "execution_count": null,
   "metadata": {},
   "outputs": [],
   "source": []
  }
 ],
 "metadata": {
  "kernelspec": {
   "display_name": "Python 3",
   "language": "python",
   "name": "python3"
  },
  "language_info": {
   "codemirror_mode": {
    "name": "ipython",
    "version": 3
   },
   "file_extension": ".py",
   "mimetype": "text/x-python",
   "name": "python",
   "nbconvert_exporter": "python",
   "pygments_lexer": "ipython3",
   "version": "3.11.9"
  }
 },
 "nbformat": 4,
 "nbformat_minor": 2
}
