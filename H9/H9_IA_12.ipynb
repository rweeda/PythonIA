{
 "cells": [
  {
   "cell_type": "markdown",
   "metadata": {},
   "source": [
    "## 12: Element verwijderen met <code>remove()</code>\n",
    "\n",
    "<p>Met <code>.remove()</code> verwijder je een element uit de lijst. Tussen haakjes geef je aan welk element je wilt verwijderen.<br>\n",
    "Als het element meerdere keren voorkomt in de lijst, dan wordt alleen het eerste voorkomen verwijderd. Als je een element probeert te verwijderen dat niet voorkomt op de list, dan krijg je een foutmelding.</p>"
   ]
  },
  {
   "cell_type": "code",
   "execution_count": null,
   "metadata": {},
   "outputs": [],
   "source": [
    "fruitlijst = [\"appel\", \"banaan\", \"kers\", \"aardbei\"]\n",
    "print( fruitlijst )\n",
    "\n",
    "fruitlijst.remove( \"banaan\" )\n",
    "print( fruitlijst )"
   ]
  },
  {
   "cell_type": "markdown",
   "metadata": {},
   "source": [
    "### Opdracht 9.12 Weg met die onvoldoendes\n",
    "\n",
    "Verwijder de onvoldoendes uit je cijferlijst. Gebruik hiervoor <code>.remove()</code>. Controleer je met <code>print</code> wel of je alle onvoldoendes eruit hebt gehaald?!?"
   ]
  },
  {
   "cell_type": "code",
   "execution_count": null,
   "metadata": {},
   "outputs": [],
   "source": [
    "cijferlijst = [9, 8, 4, 6, 4, 7, 8]\n"
   ]
  },
  {
   "cell_type": "markdown",
   "metadata": {},
   "source": [
    "Klik <a href=\"https://course.cs.ru.nl/pythonVO/Teams/IA_uitwerkingen/IA_H9_oplossingen.html#opgave945\">hier</a> voor een voorbeeld uitwerking."
   ]
  }
 ],
 "metadata": {
  "kernelspec": {
   "display_name": "Python 3",
   "language": "python",
   "name": "python3"
  },
  "language_info": {
   "codemirror_mode": {
    "name": "ipython",
    "version": 3
   },
   "file_extension": ".py",
   "mimetype": "text/x-python",
   "name": "python",
   "nbconvert_exporter": "python",
   "pygments_lexer": "ipython3",
   "version": "3.11.9"
  }
 },
 "nbformat": 4,
 "nbformat_minor": 2
}
