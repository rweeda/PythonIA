{
 "cells": [
  {
   "cell_type": "markdown",
   "metadata": {},
   "source": [
    "## 9: Lijsten aan elkaar plakken\n",
    "\n",
    "<p>Met <code>+</code> kun je twee lijsten aan elkaar 'plakken'. Het resultaat is een lijst die de elementen bevat\n",
    "    van beide lijsten. Je moet het resultaat in een nieuwe variabele opslaan.</p>\n"
   ]
  },
  {
   "cell_type": "code",
   "execution_count": null,
   "metadata": {},
   "outputs": [],
   "source": [
    "#Lijsten achter elkaar plakken\n",
    "lijst_meisjes = [\"Heleen\", \"Luna\"]\n",
    "lijst_jongens = [\"Piet\", \"Jan\", \"Rick\"]\n",
    "\n",
    "klassenlijst = lijst_meisjes  + lijst_jongens \t#plak twee lijsten achter elkaar\n",
    "print( klassenlijst )"
   ]
  },
  {
   "cell_type": "markdown",
   "metadata": {},
   "source": [
    "### Opdracht 9.9 Gescheurde boodschappenlijst\n",
    "<p>Je boodschappenlijst is door midden gescheurd. Schrijf code om de twee helften weer aan elkaar te plakken. Test je code door de nieuwe lijst te printen.</p>"
   ]
  },
  {
   "cell_type": "code",
   "execution_count": null,
   "metadata": {},
   "outputs": [],
   "source": [
    "eerste_helft = [\"brood\", \"kaas\", \"appels\"]\n",
    "tweede_helft = [\"chips\", \"cola\"]"
   ]
  },
  {
   "cell_type": "markdown",
   "metadata": {},
   "source": [
    "<p>Klik <a href=\"https://course.cs.ru.nl/pythonVO/Teams/IA_uitwerkingen/IA_H9_oplossingen.html#opgave942\">hier</a> voor een voorbeelduitwerking.</p>"
   ]
  }
 ],
 "metadata": {
  "kernelspec": {
   "display_name": "Python 3",
   "language": "python",
   "name": "python3"
  },
  "language_info": {
   "codemirror_mode": {
    "name": "ipython",
    "version": 3
   },
   "file_extension": ".py",
   "mimetype": "text/x-python",
   "name": "python",
   "nbconvert_exporter": "python",
   "pygments_lexer": "ipython3",
   "version": "3.11.9"
  }
 },
 "nbformat": 4,
 "nbformat_minor": 2
}
