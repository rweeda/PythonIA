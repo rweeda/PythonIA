{
 "cells": [
  {
   "cell_type": "markdown",
   "metadata": {},
   "source": [
    "## 10: Element achteraan een lijst toevoegen met <code>append()</code>\n",
    "\n",
    "<p>Met <code>.append()</code> kun je een element achteraan een lijst toevoegen. Tussen haakjes zet je het nieuwe element.</p>\n"
   ]
  },
  {
   "cell_type": "code",
   "execution_count": null,
   "metadata": {},
   "outputs": [],
   "source": [
    "vriendinnenlijst = [\"Heleen\", \"Luna\"]\n",
    "\n",
    "vriendinnenlijst.append(\"Janneke\")  # achteraan lijst toevoegen\n",
    "print( vriendinnenlijst )"
   ]
  },
  {
   "cell_type": "markdown",
   "metadata": {},
   "source": [
    "### Opdracht 9.10 Boodschappenlijst uitbreiden\n",
    "<p>Breid de boodschappenlijst uit met een artikel naar keuze. Test je code door de nieuwe lijst te printen.</p>"
   ]
  },
  {
   "cell_type": "code",
   "execution_count": null,
   "metadata": {},
   "outputs": [],
   "source": [
    "boodschappenlijst = [\"brood\", \"kaas\", \"appels\"]\n"
   ]
  }
 ],
 "metadata": {
  "kernelspec": {
   "display_name": "Python 3",
   "language": "python",
   "name": "python3"
  },
  "language_info": {
   "codemirror_mode": {
    "name": "ipython",
    "version": 3
   },
   "file_extension": ".py",
   "mimetype": "text/x-python",
   "name": "python",
   "nbconvert_exporter": "python",
   "pygments_lexer": "ipython3",
   "version": "3.11.9"
  }
 },
 "nbformat": 4,
 "nbformat_minor": 2
}
