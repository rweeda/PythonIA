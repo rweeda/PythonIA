{
 "cells": [
  {
   "cell_type": "markdown",
   "metadata": {},
   "source": [
    "## 7: Kijken of een element voorkomt in een lijst\n",
    "\n",
    "<p>Met <code>in</code> en <code>not in</code> kun je testen of een element voorkomt in een lijst.</p>\n"
   ]
  },
  {
   "cell_type": "code",
   "execution_count": null,
   "metadata": {},
   "outputs": [],
   "source": [
    "getallenlijst = [0,1,2,3,4,5]\t#maak een lijst met getallen\n",
    "\n",
    "print( \"Zit 1 in de lijst?\", 1 in getallenlijst ) #controleer of getal 1 in de lijst zit\n",
    "print( \"Zit 10 in de lijst?\", 10 in getallenlijst ) #controleer of getal 10 in de lijst zit\n",
    "print( \"Zit 100 in de lijst?\", 100 in getallenlijst ) #controleer of getal 100 NIET in de lijst zit\n",
    "print( \"Zit 100 NIET in de lijst?\", 100 not in getallenlijst ) #controleer of getal 100 NIET in de lijst zit"
   ]
  },
  {
   "cell_type": "markdown",
   "metadata": {},
   "source": [
    "### Opdracht 9.7 Jackpot\n",
    "<p>Tijdens de trekking van een loterij moet gekeken worden of het lot in de lijst met verkochte lotnummers voorkomt.</p>\n",
    "\n",
    "<p>Schrijf code om te controleren of een lotnummer voorkomt. Als dit voorkomt, print dan \"<i>Gefeliciteerd</i>\" en anders \"<i>Jammer</i>\".</p>\n"
   ]
  },
  {
   "cell_type": "code",
   "execution_count": null,
   "metadata": {},
   "outputs": [],
   "source": [
    "lotenlijst = [12254, 45567, 23534, 54546, 65556, 76765]\t#maak een lijst met lotnummers\n",
    "lotnummer = 45567"
   ]
  }
 ],
 "metadata": {
  "kernelspec": {
   "display_name": "Python 3",
   "language": "python",
   "name": "python3"
  },
  "language_info": {
   "codemirror_mode": {
    "name": "ipython",
    "version": 3
   },
   "file_extension": ".py",
   "mimetype": "text/x-python",
   "name": "python",
   "nbconvert_exporter": "python",
   "pygments_lexer": "ipython3",
   "version": "3.11.9"
  }
 },
 "nbformat": 4,
 "nbformat_minor": 2
}
