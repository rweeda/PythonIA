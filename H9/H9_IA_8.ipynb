{
 "cells": [
  {
   "cell_type": "markdown",
   "metadata": {},
   "source": [
    "## 8: Element in een lijst aanpassen\n",
    "<p>Je kunt de waarde van een element aanpassen door op die index een nieuwe waarde toe te kennen: <code>lijst[index] = nieuw_waarde</code>.</p>\n"
   ]
  },
  {
   "cell_type": "code",
   "execution_count": null,
   "metadata": {},
   "outputs": [],
   "source": [
    "fruitlijst = [\"appel\", \"banaan\", \"kers\", \"mango\"]\n",
    "print( fruitlijst )\n",
    "\n",
    "fruitlijst[2] = \"aardbei\" #verander de waarde van de derde element\n",
    "print( fruitlijst )"
   ]
  },
  {
   "cell_type": "markdown",
   "metadata": {},
   "source": [
    "### Opdracht 9.8 Waarde veranderen\n",
    "<p>Hieronder staat de cijferlijst van een medeleerling. Schrijf code om het cijfer 4.9 te veranderen in 5.9. Test je code door de cijferlijst te printen.</p>\n"
   ]
  },
  {
   "cell_type": "code",
   "execution_count": null,
   "metadata": {},
   "outputs": [],
   "source": [
    "cijferlijst = [6.2, 5.8, 7.3, 4.9, 8.0, 7.0]"
   ]
  },
  {
   "cell_type": "markdown",
   "metadata": {},
   "source": [
    "<p>Klik <a href=\"https://course.cs.ru.nl/pythonVO/Teams/IA_uitwerkingen/IA_H9_oplossingen.html#opgave941\">hier</a> voor een voorbeelduitwerking.</p>"
   ]
  }
 ],
 "metadata": {
  "kernelspec": {
   "display_name": "Python 3",
   "language": "python",
   "name": "python3"
  },
  "language_info": {
   "codemirror_mode": {
    "name": "ipython",
    "version": 3
   },
   "file_extension": ".py",
   "mimetype": "text/x-python",
   "name": "python",
   "nbconvert_exporter": "python",
   "pygments_lexer": "ipython3",
   "version": "3.11.9"
  }
 },
 "nbformat": 4,
 "nbformat_minor": 2
}
