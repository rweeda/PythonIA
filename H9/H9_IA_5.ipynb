{
 "cells": [
  {
   "cell_type": "markdown",
   "metadata": {},
   "source": [
    "## 5: Laatste element in een lijst benaderen\n",
    "\n",
    "[![Watch the video](https://img.youtube.com/vi/6FWfFh-YUO8/hqdefault.jpg)](https://www.youtube.com/embed/6FWfFh-YUO8)\n",
    "\n",
    "<p>Het laatste element van elke lijst benader je met de index <code>lengte-1</code>:</p>\n"
   ]
  },
  {
   "cell_type": "code",
   "execution_count": null,
   "metadata": {},
   "outputs": [],
   "source": [
    "boodschappenlijst = [ \"appels\", \"brood\", \"melk\" , \"kaas\"]\t#maak een boodschappenlijst\n",
    "\n",
    "lengte = len( boodschappenlijst )                         #bepaal de lengte van de boodschappenlijst\n",
    "print( \"De lengte is\", lengte )\t                        \t#druk de lengte van de lijst af\n",
    "\n",
    "print( \"Achteraan staat:\", boodschappenlijst[ lengte-1 ] ) #druk laatste element af"
   ]
  },
  {
   "cell_type": "markdown",
   "metadata": {},
   "source": [
    "### Opdracht 9.5 Laatste element afdrukken\n",
    "\n",
    "<p>In de temperatuurlijst staat de temperatuur van vandaag altijd achteraan. Hoe meer metingen we doen, hoe langer de lijst wordt.</p>\n",
    "<p>Schrijf code om het laatste element uit een lijst te printen. De code moet voor elke lijst werken, ongeacht hoe lang de lijst is.</p>\n",
    "\n",
    "<p>Tips:\n",
    "</p>\n",
    "<ul>\n",
    "    <li>Gebruik <code>len</code> om de lengte van de lijst te bepalen.\n",
    "    </li>\n",
    "    <li>Bepaal dan de index waarop het laatste element staat en print dat element.\n",
    "    </li>\n",
    "</ul>\n",
    "<p></p>"
   ]
  },
  {
   "cell_type": "code",
   "execution_count": null,
   "metadata": {},
   "outputs": [],
   "source": [
    "temperatuurlijst = [22.3, 23.0, 25.1, 23.2, 21.9]"
   ]
  }
 ],
 "metadata": {
  "kernelspec": {
   "display_name": "Python 3",
   "language": "python",
   "name": "python3"
  },
  "language_info": {
   "codemirror_mode": {
    "name": "ipython",
    "version": 3
   },
   "file_extension": ".py",
   "mimetype": "text/x-python",
   "name": "python",
   "nbconvert_exporter": "python",
   "pygments_lexer": "ipython3",
   "version": "3.11.9"
  }
 },
 "nbformat": 4,
 "nbformat_minor": 2
}
