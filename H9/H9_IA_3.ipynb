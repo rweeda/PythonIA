{
 "cells": [
  {
   "cell_type": "markdown",
   "metadata": {},
   "source": [
    "## 3: Index van een element in een lijst\n",
    "\n",
    "\n",
    "[![Watch the video](https://img.youtube.com/vi/6BX-aR57ak0/hqdefault.jpg)](https://www.youtube.com/embed/6BX-aR57ak0)\n",
    "\n",
    "<p>De elementen van een lijst staan op volgorde. Ieder element van een lijst kun je pakken via een <i>index</i> (of positie). Het eerste element in een lijst heeft index 0:\n",
    "</p>\n",
    "<ul>\n",
    "    <li>index 0: eerste element</li>\n",
    "    <li>index 1: tweede element</li>\n",
    "    <li>index 2: derde element</li>\n",
    "    <li>...</li>\n",
    "    <li>index (lengte-1): laatste element</li>\n",
    "</ul>\n",
    "<p></p>\n",
    "\n",
    "\n",
    "<p>Stel we maken een lijst: <code>boodschappenlijst = [ \"appels\", \"brood\", \"melk\" , \"kaas\"]</code>.</p>\n",
    "<p></p>\n",
    "<table cellspacing=\"\" cellpadding=\"\" border=\"\" width=\"\" align=\"\">\n",
    "    <tbody>\n",
    "        <tr>\n",
    "            <td><code>boodschappenlijst</code></td>\n",
    "            <td><code>\"appels\"</code></td>\n",
    "            <td><code>\"brood\"</code></td>\n",
    "            <td><code>\"melk\"</code></td>\n",
    "            <td><code>\"kaas\"</code></td>\n",
    "        </tr>\n",
    "        <tr>\n",
    "            <td>index</td>\n",
    "            <td>0</td>\n",
    "            <td>1</td>\n",
    "            <td>2</td>\n",
    "            <td>3</td>\n",
    "        </tr>\n",
    "    </tbody>\n",
    "</table>\n",
    "<p></p>\n",
    "\n",
    "<p>In deze lijst staat \"appels\" op index 0, \"brood\" op index 1, ... en \"kaas\" op index 3 (oftewel, lengte van de lijst -1).</p>"
   ]
  }
 ],
 "metadata": {
  "kernelspec": {
   "display_name": "Python 3",
   "language": "python",
   "name": "python3"
  },
  "language_info": {
   "codemirror_mode": {
    "name": "ipython",
    "version": 3
   },
   "file_extension": ".py",
   "mimetype": "text/x-python",
   "name": "python",
   "nbconvert_exporter": "python",
   "pygments_lexer": "ipython3",
   "version": "3.11.9"
  }
 },
 "nbformat": 4,
 "nbformat_minor": 2
}
