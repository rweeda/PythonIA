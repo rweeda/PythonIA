{
 "cells": [
  {
   "cell_type": "markdown",
   "metadata": {},
   "source": [
    "## 8: Functies zonder parameters en zonder retourwaarde\n",
    "\n",
    "<p>Code die bij elkaar hoort of die vaker gebruikt wordt, zet je samen in een functie. Soms heeft een functie geen parameters, omdat deze geen specifieke informatie nodig heeft. Soms levert een functie geen retourwaarde op, maar \"doet ze iets\".</p>\n",
    "\n",
    "<p>Bekijk het voorbeeld hieronder. De vijf regels code voor het tekenen van een driehoek horen bij elkaar omdat ze samen een doel bereiken. Daarom staan ze bij elkaar in een functie <code>tekenDriehoek()</code>. Deze functie heeft geen parameters (er staat niets tussen de haakjes) en ook geen retourwaarde (ze levert niks op, maar ze doet iets).</p>\n"
   ]
  },
  {
   "cell_type": "code",
   "execution_count": null,
   "metadata": {},
   "outputs": [],
   "source": [
    "import turtle\n",
    "\n",
    "### FUNCTIEDEFINITIE\n",
    "def tekenDriehoek():\n",
    "\tturtle.forward(50)\n",
    "\tturtle.right(120)\n",
    "\tturtle.forward(50)\n",
    "\tturtle.right(120)\n",
    "\tturtle.forward(50)\n",
    "\n",
    "### HOOFDPROGRAMMA MET FUNCTIEAANROEP\n",
    "turtle.pendown()\n",
    "tekenDriehoek()"
   ]
  },
  {
   "cell_type": "markdown",
   "metadata": {},
   "source": [
    "### Opdracht 5.4: Figuurtje tekenen\n",
    "\n",
    "<p>Bekijk de code hieronder. Beantwoord voor jezelf de volgende vragen zonder de code te runnen:\n",
    "</p>\n",
    "<ol>\n",
    "    <li>Vat in je eigen woorden samen wat de functie <code>tekenFiguur()</code> doet. Wat zou een betere naam voor de functie zijn?\n",
    "    </li>\n",
    "    <li>Heeft <code>tekenFiguur()</code> informatie nodig om zijn werk te doen? Oftewel: krijgt hij parameters mee?\n",
    "    </li>\n",
    "    <li>Levert <code>tekenFiguur()</code> informatie op (die bijvoorbeeld later in het programma nog gebruikt kan worden)? Oftewel: heeft <code>tekenFiguur()</code> een coderegel met <code>return</code>?\n",
    "    </li>\n",
    "    <li>Roep <code>tekenFiguur()</code> aan op regel 15, dus na <code>turtle.right(135)</code>.\n",
    "    </li>\n",
    "    <li>Als <code>tekenFiguur()&nbsp;</code>niet in een functie had gestaan, hoe vaak had je dan <code>turtle.forward(50)</code> moeten intikken om hetzelfde resultaat te krijgen?\n",
    "    </li>\n",
    "</ol>\n",
    "<p></p>\n",
    "<p>Run de code om je vermoedens te controleren.</p>"
   ]
  },
  {
   "cell_type": "code",
   "execution_count": null,
   "metadata": {
    "tags": [
     "Opdracht"
    ]
   },
   "outputs": [],
   "source": [
    "import turtle\n",
    "\n",
    "### FUNCTIEDEFINITIE\n",
    "def tekenFiguur():\n",
    "\tturtle.forward(50)\n",
    "\tturtle.right(120)\n",
    "\tturtle.forward(50)\n",
    "\tturtle.right(120)\n",
    "\tturtle.forward(50)\n",
    "\n",
    "### HOOFDPROGRAMMA MET FUNCTIEAANROEP\n",
    "turtle.pendown()\n",
    "tekenFiguur()\n",
    "turtle.right(135)\n",
    "\n",
    "turtle.done()"
   ]
  },
  {
   "cell_type": "markdown",
   "metadata": {},
   "source": [
    "<p>Bekijk <a href=\"Https://rweeda.github.io/PythonIA/docs/IA_H5_oplossingen.html#opgave541\" target=\"_blank\">hier</a> de voorbeelduitwerking.</p>\n"
   ]
  }
 ],
 "metadata": {
  "kernelspec": {
   "display_name": "Python 3",
   "language": "python",
   "name": "python3"
  },
  "language_info": {
   "codemirror_mode": {
    "name": "ipython",
    "version": 3
   },
   "file_extension": ".py",
   "mimetype": "text/x-python",
   "name": "python",
   "nbconvert_exporter": "python",
   "pygments_lexer": "ipython3",
   "version": "3.12.2"
  }
 },
 "nbformat": 4,
 "nbformat_minor": 2
}
