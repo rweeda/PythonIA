{
 "cells": [
  {
   "cell_type": "markdown",
   "metadata": {},
   "source": [
    "## 2: Onderdelen van een functie\n",
    "\n",
    "[![Watch the video](https://img.youtube.com/vi/QPsZMU9o_28/hqdefault.jpg)](https://www.youtube.com/embed/QPsZMU9o_28)\n",
    "\n",
    "<p>Een functie is een blok herbruikbare code dat een bepaalde actie uitvoert. Om een functie aan te roepen (te gebruiken) moet je drie dingen weten:\n",
    "</p>\n",
    "<ul>\n",
    "    <li><i>Functienaam</i>: hoe de functie heet;</li>\n",
    "    <li><i>Parameters</i>: informatie die de functie nodig heeft;</li>\n",
    "    <li><i>Retourwaarde</i>: wat de functie teruggeeft (als die iets teruggeeft).</li>\n",
    "</ul>\n",
    "<p></p>\n",
    "<p>Een functie kan gezien worden als een taak die je aan iemand uitbesteedt. Je roept een commando, geeft bepaalde informatie dat nodig is om de taak uit te voeren en die persoon levert iets op (soms een getal of een tekst, soms een dienst).</p>\n",
    "\n",
    "\n",
    "<p><b>Voorbeeld van een functie: <code>max()</code></b></p>\n",
    "<p>We geven een voorbeeld van een functie en bespreken de functienaam, parameters en retourwaarde.</p>\n",
    "<p>Wil je het grootste getal van een rijtje getallen weten, dan roep je de functie <code>max()</code> aan. Als je iemand vraagt om het grootste van een rijtje getallen voor je te bepalen, dan heeft die persoon als extra informatie het rijtje getallen nodig waarvan je het grootste wilt weten. Die getallen zijn de <i>parameters</i>. Als resultaat wordt er een getal als antwoord geroepen. Dat resultaat moeten we zelf meteen opslaan, anders vergeten we dat.</p>\n"
   ]
  },
  {
   "cell_type": "code",
   "execution_count": null,
   "metadata": {},
   "outputs": [],
   "source": [
    "grootste = max( -4, 2, 6 )\n",
    "print(grootste)"
   ]
  },
  {
   "cell_type": "markdown",
   "metadata": {},
   "source": [
    "<p>Voor de code hierboven is:\n",
    "</p>\n",
    "<ul>\n",
    "    <li><i>functienaam</i>: <code>max</code>;</li>\n",
    "    <li><i>parameters</i>: <code>-4, 2, 6</code>. Dit is het rijtje getallen waarvan de grootste bepaald moet worden;</li>\n",
    "    <li><i>retourwaarde</i>: het antwoord van de functie <code>max()</code> dat we opslaan als <code>grootste</code>.</li>\n",
    "</ul>"
   ]
  }
 ],
 "metadata": {
  "kernelspec": {
   "display_name": "Python 3",
   "language": "python",
   "name": "python3"
  },
  "language_info": {
   "codemirror_mode": {
    "name": "ipython",
    "version": 3
   },
   "file_extension": ".py",
   "mimetype": "text/x-python",
   "name": "python",
   "nbconvert_exporter": "python",
   "pygments_lexer": "ipython3",
   "version": "3.12.2"
  }
 },
 "nbformat": 4,
 "nbformat_minor": 2
}
