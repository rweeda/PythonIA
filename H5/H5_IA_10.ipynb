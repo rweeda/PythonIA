{
 "cells": [
  {
   "cell_type": "markdown",
   "metadata": {},
   "source": [
    "## 10: Functies aanroepen vanuit andere functies\n",
    "\n",
    "<p>Functies mogen andere functies aanroepen. Bijvoorbeeld: hieronder zie je hoe de functie <code>tekenLolly()</code> de functies <code>tekenSnoep()</code> (op regel 18)\n",
    "    en <code>tekenStok()</code> (op regel 19) gebruikt om de lolly als geheel te tekenen:</p>\n"
   ]
  },
  {
   "cell_type": "code",
   "execution_count": null,
   "metadata": {},
   "outputs": [],
   "source": [
    "import turtle\n",
    "\n",
    "### FUNCTIEDEFINITIES\n",
    "#teken snoep\n",
    "def tekenSnoep( straal, kleur ):\n",
    "  turtle.fillcolor( kleur)\n",
    "  turtle.begin_fill()\n",
    "  turtle.circle( straal )\n",
    "  turtle.end_fill()\n",
    "\n",
    "#teken stok\n",
    "def tekenStok( lengte_stok ):\n",
    "  turtle.right(90)\n",
    "  turtle.forward( lengte_stok )\n",
    "\n",
    "#tekent lolly\n",
    "def tekenLolly( straal, kleur, lengte_stok ):\n",
    "  tekenSnoep( straal, kleur )\n",
    "  tekenStok( lengte_stok ) #andere functie wordt aangeroepen om stok te tekenen\n",
    "\n",
    "### HOOFDPROGRAMMA\n",
    "turtle.pendown()\n",
    "tekenLolly(40, \"blue\", 100 ) #parameters: straal, kleur, lengte_stok)\n",
    "turtle.done()"
   ]
  }
 ],
 "metadata": {
  "kernelspec": {
   "display_name": "Python 3",
   "language": "python",
   "name": "python3"
  },
  "language_info": {
   "codemirror_mode": {
    "name": "ipython",
    "version": 3
   },
   "file_extension": ".py",
   "mimetype": "text/x-python",
   "name": "python",
   "nbconvert_exporter": "python",
   "pygments_lexer": "ipython3",
   "version": "3.12.2"
  }
 },
 "nbformat": 4,
 "nbformat_minor": 2
}
