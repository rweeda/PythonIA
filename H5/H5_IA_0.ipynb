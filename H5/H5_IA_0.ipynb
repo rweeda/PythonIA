{
 "cells": [
  {
   "cell_type": "markdown",
   "metadata": {},
   "source": [
    "# Onderwerp 5 - Functies (Deel 1)\n",
    "\n",
    "<img src=\"http://course.cs.ru.nl/pythonVO/Jupyter/img/Python5_AfbFunctieCode.jpg\" alt=\"Figuur: Bereik van variabelen bij blokken code\" width=\"200\">\n",
    "\n",
    "<p><i>Functies</i> zijn een van de belangrijkste concepten bij programmeren. Ze zijn krachtig, je kan er heel veel mee en daarnaast verhogen ze de kwaliteit van je code: overzichtelijker, minder fout-gevoelig en herbruikbaar. In hoofdstukken 5 en 6 leer je zelf functies schrijven.</p>\n",
    "\n",
    "<p>In dit onderwerp:</p>\n",
    "\n",
    "<ul>\n",
    "    <li>leer je dat functies helpen om code overzichtelijk en herbruikbaar te maken;\n",
    "    </li>\n",
    "    <li> leer je dat een <i>parameter</i> informatie is die een functie <i>meekrijgt</i> om haar werk te kunnen uitvoeren;\n",
    "    </li>\n",
    "    <li>leer je dat een <i>retourwaarde</i> informatie is die een functie <i>teruggeeft</i> aan het hoofdprogramma;\n",
    "    </li>\n",
    "    <li> leer je een programma met functies traceren, door in te zien dat <code>def</code>'s worden overgeslagen en de code in het hoofdprogramma als eerste wordt uitgevoerd;\n",
    "    </li>\n",
    "    <li> leer je hoe je een eigen functie maakt en aanroept;</li>\n",
    "    <li> leer je parameters te gebruiken om functies generiek te maken;</li>\n",
    "    <li> leer je hoe je functies kan aanroepen vanuit andere functies;</li>\n",
    "    <li> leer je code overzichtelijk te maken door functiedefinities boven aan de code bij elkaar te zetten, apart van de code van het hoofdprogramma; </li>\n",
    "    <li> leer je zinvol (functie)commentaar toe te voegen om de leesbaarheid van je code te verbeteren;\n",
    "    </li>\n",
    "    <li> met <b>Ctrl</b> + <b>/</b> meerdere regels code in één keer in (of uit) commentaar te zetten.</li>\n",
    "</ul>\n",
    "\n",
    "<div class=\"fa fa-clock-o fa-3x\"></div><br> <b>2 uur</b>"
   ]
  }
 ],
 "metadata": {
  "kernelspec": {
   "display_name": "Python 3",
   "language": "python",
   "name": "python3"
  },
  "language_info": {
   "codemirror_mode": {
    "name": "ipython",
    "version": 3
   },
   "file_extension": ".py",
   "mimetype": "text/x-python",
   "name": "python",
   "nbconvert_exporter": "python",
   "pygments_lexer": "ipython3",
   "version": "3.12.2"
  }
 },
 "nbformat": 4,
 "nbformat_minor": 2
}
