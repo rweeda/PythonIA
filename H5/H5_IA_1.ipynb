{
 "cells": [
  {
   "cell_type": "markdown",
   "metadata": {},
   "source": [
    "## 1: Het nut van functies\n",
    "\n",
    "<p>Met een <i>functie</i> kun je code gebruiken die een ander voor je geschreven heeft. Functies hebben we al eerder gebruikt, bijvoorbeeld bij het positief maken van een getal:</p>\n"
   ]
  },
  {
   "cell_type": "code",
   "execution_count": null,
   "metadata": {},
   "outputs": [],
   "source": [
    "positief_getal = abs( -4 )\n",
    "print( positief_getal )"
   ]
  },
  {
   "cell_type": "markdown",
   "metadata": {},
   "source": [
    "<p>Iemand anders heeft de code voor <code>abs()</code> geschreven. Die functie kun je nu zelf gebruiken zonder\n",
    "    dat je hoeft te weten hoe deze precies geprogrammeerd is. Met functies kun je makkelijk code hergebruiken en ook\n",
    "    maakt het je code overzichtelijk.</p>\n",
    "\n",
    "\n",
    "<p>We gaan nu uitgebreider in op wat een functie precies is en hoe ze werkt.</p>\n",
    "\n",
    "<p>Waarom zou je functies willen maken?\n",
    "</p>\n",
    "<ul>\n",
    "    <li><em>Decompositie</em>: een (complex) probleem opdelen in kleinere stukken om het makkelijker op te lossen. Ieder stuk ontwikkel en test je los van de rest. De code kun je dan later gebruiken zonder er verder over na te denken. </li>\n",
    "    <li><em>Hergebruik</em>: met functies kun je een bepaald stuk code op meerdere plekken in je programma gebruiken. Je kunt dan beter verwijzen naar waar de code staat (de functie) dan deze te kopi&euml;ren. Ook kun je dan code aan andere programmeurs beschikbaar stellen (via modules).</li>\n",
    "    <li><em>Abstractie</em>: met parameters kun je de code voor meerdere toepassingen gebruiken en wordt deze ook makkelijker te lezen en te onderhouden.</li>\n",
    "    <li><em>Overzichtelijkheid</em>: met functies kun je lange code opsplitsen en daardoor overzichtelijker maken.</li>\n",
    "</ul>\n",
    "<p></p>"
   ]
  }
 ],
 "metadata": {
  "kernelspec": {
   "display_name": "Python 3",
   "language": "python",
   "name": "python3"
  },
  "language_info": {
   "codemirror_mode": {
    "name": "ipython",
    "version": 3
   },
   "file_extension": ".py",
   "mimetype": "text/x-python",
   "name": "python",
   "nbconvert_exporter": "python",
   "pygments_lexer": "ipython3",
   "version": "3.12.2"
  }
 },
 "nbformat": 4,
 "nbformat_minor": 2
}
