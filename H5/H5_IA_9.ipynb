{
 "cells": [
  {
   "cell_type": "markdown",
   "metadata": {},
   "source": [
    "## 9: Functies met parameters, maar zonder retourwaarde\n",
    "\n",
    "[![Watch the video](https://img.youtube.com/vi/MlZ1DVsTmGQ/hqdefault.jpg)](https://www.youtube.com/embed/MlZ1DVsTmGQ)\n",
    "\n",
    "\n",
    "<p>Heb je code die je vaker gebruikt, maar er telkens iets anders uit ziet? Dan kan je met <i>parameters</i> aangeven wat er in de functie anders moet.</p>\n",
    "\n",
    "<p>Stel, <code>tekenDriehoek()</code> moet steeds een ander kleure gebruiken. De functie <code>tekenDriehoek()</code> moet de kleur weten. De kleur geef je als parameter (extra informatie) mee:\n",
    "</p>\n",
    "<ul>\n",
    "    <li><i>Aanroep</i>: geef de kleur mee bij de aanroep van de functie: <code>tekenDriehoek( \"red\" )</code> (regel 14).\n",
    "    </li>\n",
    "    <li><i>Functiedefinitie</i>: geef in de functiedefinitie aan hoe die informatie binnen de functie genoemd wordt: hier <code>kleur</code> (regel 4). In de functie zelf wordt elk voorkomen van <code>kleur</code> vervangen door <code>\"red\"</code>,\n",
    "        bijvoorbeeld op regel 5.\n",
    "    </li>\n",
    "</ul>"
   ]
  },
  {
   "cell_type": "code",
   "execution_count": null,
   "metadata": {},
   "outputs": [],
   "source": [
    "import turtle\n",
    "\n",
    "### FUNCTIEDEFINITIE\n",
    "def tekenDriehoek( kleur ):\n",
    "    turtle.pencolor( kleur )\n",
    "    turtle.forward(50)\n",
    "    turtle.right(120)\n",
    "    turtle.forward(50)\n",
    "    turtle.right(120)\n",
    "    turtle.forward(50)\n",
    "\n",
    "### HOOFDPROGRAMMA MET FUNCTIEAANROEP\n",
    "turtle.pendown()\n",
    "tekenDriehoek( \"red\" )\n",
    "\n",
    "turtle.done()"
   ]
  },
  {
   "cell_type": "markdown",
   "metadata": {},
   "source": [
    "### Opdracht 5.5: Cirkels met verschillende maten tekenen\n",
    "\n",
    "<p>Hieronder zie je de functie <code>tekenCirkel( kleur )</code> die als extra informatie (parameter) een kleur meekrijgt. Run de code.</p>\n",
    "\n",
    "<p>Breid de code uit zodat ook de grootte van de cirkel meegegeven wordt:\n",
    "</p>\n",
    "<ol>\n",
    "    <li>Pas de functiedefinitie aan op regel 4 zodat deze ook een grootte meekrijgt: <code>def tekenCirkel( kleur, grootte ):</code>\n",
    "    </li>\n",
    "    <li>Vervang in je functie de 'harde waarde' (het getal 50) door de naam die je gekozen hebt voor de informatie: <code>grootte</code>\n",
    "    </li>\n",
    "    <li>Roep in je hoofdprogramma de functie aan met de juiste informatie (op regel 14).\n",
    "    </li>\n",
    "    <li>Roep in je hoofdprogramma de functie nog een keer aan (op regel 15), deze keer met een andere kleur en andere grootte.\n",
    "    </li>\n",
    "</ol>"
   ]
  },
  {
   "cell_type": "code",
   "execution_count": null,
   "metadata": {
    "tags": [
     "Opdracht"
    ]
   },
   "outputs": [],
   "source": [
    "import turtle\n",
    "\n",
    "### FUNCTIEDEFINITIE\n",
    "#tekent een cirkel, en krijgt als informatie (parameter) de kleur mee\n",
    "def tekenCirkel( kleur ):\n",
    "  turtle.pencolor( kleur )\n",
    "  turtle.circle( 50 )\n",
    "\n",
    "### HOOFDPROGRAMMA\n",
    "tekenCirkel(\"blue\")\n",
    "\n",
    "\n",
    "turtle.done()"
   ]
  },
  {
   "cell_type": "markdown",
   "metadata": {},
   "source": [
    "<p>Bekijk <a href=\"Https://rweeda.github.io/PythonIA/docs/IA_H5_oplossingen.html#opgave542\" target=\"_blank\">hier</a> de voorbeelduitwerking.</p>\n"
   ]
  },
  {
   "cell_type": "markdown",
   "metadata": {},
   "source": [
    "### Opdracht 5.6: Persoonlijke groet\n",
    "\n",
    "<p>Hieronder staat een functiedefinitie die een groet print. Jouw opdracht is om dat persoonlijker te maken: <i>\"Hallo Sebas uit Spanje!\"</i>. De boodschap is natuurlijk afhankelijk van wat er als informatie aan de functie wordt meegegeven.</p>\n",
    "\n",
    "<p>Pas de functiedefinitie aan zodat naam en land meegegeven wordn, en dat eze informatie gebruikt wordt voor het afdrukken van de persoonlijke groet.</p>\n"
   ]
  },
  {
   "cell_type": "code",
   "execution_count": null,
   "metadata": {
    "tags": [
     "Opdracht"
    ]
   },
   "outputs": [],
   "source": [
    "### FUNCTIEDEFINITIE\n",
    "def groet( naam ):\n",
    "    print( \"Hallo!\")\n",
    "\n",
    "\n",
    "### HOOFDPROGRAMMA MET AANROEP VAN FUNCTIE\n",
    "groet( \"Sebas\", \"Spanje\" )\n",
    "groet( \"John\", \"Engeland\" )\n",
    "groet( \"Janneke\", \"Nederland\" )"
   ]
  },
  {
   "cell_type": "markdown",
   "metadata": {},
   "source": [
    "<p>Bekijk <a href=\"Https://rweeda.github.io/PythonIA/docs/IA_H5_oplossingen.html#opgave543\" target=\"_blank\">hier</a> de voorbeelduitwerking.</p>\n"
   ]
  }
 ],
 "metadata": {
  "kernelspec": {
   "display_name": "Python 3",
   "language": "python",
   "name": "python3"
  },
  "language_info": {
   "codemirror_mode": {
    "name": "ipython",
    "version": 3
   },
   "file_extension": ".py",
   "mimetype": "text/x-python",
   "name": "python",
   "nbconvert_exporter": "python",
   "pygments_lexer": "ipython3",
   "version": "3.12.2"
  }
 },
 "nbformat": 4,
 "nbformat_minor": 2
}
