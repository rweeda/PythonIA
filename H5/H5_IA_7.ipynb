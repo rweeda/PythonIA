{
 "cells": [
  {
   "cell_type": "markdown",
   "metadata": {},
   "source": [
    "## 7: Functies met en zonder parameters en retourwaarden\n",
    "\n",
    "<p><i>Functies</i> bij het programmeren zijn net als functies die iemand heeft in een bedrijf: ze moeten <i>iets doen</i>. Soms moet die persoon informatie van je hebben om zijn werk goed te doen (invoer). Soms levert het een concreet product op (iemand maakt iets voor je) en soms een dienst (iemand doet iets voor je). Neem de bakker bijvoorbeeld:\n",
    "</p>\n",
    "<ul>\n",
    "    <li>Wat doet de bakker? Hij bakt brood.</li>\n",
    "    <li>Welk informatie heeft de bakker van je nodig? Hij moet weten welk brood je wilt en bijvoorbeeld of je een heel of een half brood wilt. Deze informatie geef je aan de bakker (als parameter).</li>\n",
    "    <li>Wat geeft de bakker jou? De bakker levert een brood op dat hij aan jou geeft (als retourwaarde).</li>\n",
    "</ul>\n",
    "<p></p>\n",
    "\n",
    "<p><b>Algemene uitleg over verschillende soorten functies</b></p>\n",
    "\n",
    "<p>Je hebt verschillende soorten functies:\n",
    "</p>\n",
    "<ol>\n",
    "    <li><p><i>Zonder parameters, zonder retourwaarde</i> (zie paragraaf '8: Functies zonder parameters of retourwaarde'): <p>Deze geef je geen informatie (dus <b>zonder parameters</b>) en ze geven niets terug (dus\n",
    "            leveren <b>geen retourwaarde</b> op). Soms kan iemand iets doen zonder dat hij of zij daar specifiek\n",
    "            informatie voor nodig heeft en zonder dat er echt een tastbare retourwaarde (of resultaat) opgeleverd wordt.\n",
    "            Bijvoorbeeld: de buschauffeuse. Zij rijdt rondjes en stopt op vaste locaties, je stapt in de bus, je hoeft haar\n",
    "            niet te vertellen waar ze heen (geen parameters) moet rijden en ze geeft jou ook niets (levert geen concreet\n",
    "            resultaat op).</p>\n",
    "    </li>\n",
    "    <li><p><i>Met parameters, zonder retourwaarde</i> (zie paragraaf '9: Functies met parameters'): <p>Deze geef je\n",
    "            wel informatie (dus <b>met parameters</b>), maar ze geven niets terug (dus leveren <b>geen retourwaarde</b> op). Soms heeft iemand specifieke informatie nodig om iets te doen, maar het hoeft niet per se een\n",
    "            tastbare retourwaarde (of resultaat) op te leveren. Bijvoorbeeld: de bibliothecaresse die boeken inneemt. Je\n",
    "            geeft haar jouw boeken, zij registreert dat je ze in hebt geleverd en zet ze op de juiste plek terug in de\n",
    "            bibliotheek.</p>\n",
    "    </li>\n",
    "    <li><i>Met parameters, met retourwaarde</i> (zie onderwerp 6, paragraaf '2: Functies met een retourwaarde'): <p>Aan deze geef je wel informatie (dus <b>met parameters</b>), en ze geven je iets terug (dus leveren <b>met\n",
    "                <code>return</code></b> een concrete retourwaarde op). Soms heeft iemand specifieke informatie om iets te doen en geeft hij je ook iets terug (een resultaat) waar je daarna iets mee kan doen. Bijvoorbeeld: de loketmedewerker bij een geldwisselkantoor. Je geeft haar euro’s omdat je dollars nodig hebt voor je vakantie in Amerika, ze berekent hoeveel dollars die euro’s waard zijn en geeft je dollars terug.</p>\n",
    "    </li>\n",
    "    <li><p><i>Zonder parameters, met retourwaarde</i> (zie onderwerp 6, paragraaf '3: Functies met retourwaarden en parameters'):\n",
    "        <p>Aan deze geef je geen informatie (dus <b>zonder parameters</b>), maar ze geven je wel iets terug (dus leveren <b>met <code>return</code></b> een concrete retourwaarde). Soms heeft iemand geen specifieke informatie nodig om iets te doen, maar geeft je wel iets terug (een resultaat) waar je daarna iets mee kan doen. Bijvoorbeeld: een verkeersregelaar. Die geeft aanwijzingen voor wat je moet doen.</p>\n",
    "    </li>\n",
    "</ol>"
   ]
  }
 ],
 "metadata": {
  "kernelspec": {
   "display_name": "Python 3",
   "language": "python",
   "name": "python3"
  },
  "language_info": {
   "codemirror_mode": {
    "name": "ipython",
    "version": 3
   },
   "file_extension": ".py",
   "mimetype": "text/x-python",
   "name": "python",
   "nbconvert_exporter": "python",
   "pygments_lexer": "ipython3",
   "version": "3.12.2"
  }
 },
 "nbformat": 4,
 "nbformat_minor": 2
}
