{
 "cells": [
  {
   "cell_type": "markdown",
   "metadata": {},
   "source": [
    "## 3: Functienaam, parameters en retourwaarde\n",
    "\n",
    "<p><b>Functienaam</b></p>\n",
    "<p>Iedere functie heeft een naam. De naam van een functie geeft een korte beschrijving van wat de functie doet:\n",
    "  met werkwoord(en). Functienamen schrijven we in <i>camelCase</i>, aan elkaar en met elk volgend woord als hoofdletter.\n",
    "    Bijvoorbeeld: <code>tekenRoodHuis()</code> of <code>isEven()</code>.</p>\n",
    "\n",
    "\n",
    "\n",
    "\n",
    "\n",
    "<p><b>Parameters</b></p>\n",
    "\n",
    "<p>Sommige functies hebben parameters (informatie) nodig. De parameters geef je tussen de haakjes mee. Hier volgen wat voorbeelden:\n",
    "\n",
    "</p>\n",
    "<ul>\n",
    "    <li><i>Een getal als parameter:</i><br>In de code hieronder is het getal -5 een parameter:<br>\n",
    "        <pre code=\"python\">positief_getal = abs( -5 )  \t# maak van het gegeven getal een positief getal</pre>\n",
    "    </li>\n",
    "    <li><i>Een string als parameter:</i><br>In de code hieronder is de tekst <i>\"hallo\"</i> een parameter:<br>\n",
    "        <pre code=\"python\">print( \"hallo\" )</pre>\n",
    "    </li><br>\n",
    "    <li><i>Geen parameter:</i><br>Functies hoeven niet altijd parameters te hebben. Bijvoorbeeld: <code>print()</code> kan ook aangeroepen worden zonder parameter:<br>\n",
    "        <pre code=\"python\">print()\t\t#print een nieuwe regel</pre>\n",
    "      <p>Heb je geen parameters, dan moet je toch altijd de haakjes plaatsen.</p>\n",
    "    </li><br>\n",
    "    <li><i>Meerdere parameters:</i>\n",
    "        <p>Een functie kan ook meerdere parameters krijgen. Als een functie meerdere\n",
    "            parameters krijgt, maakt de volgorde wel uit. Bijvoorbeeld: de standaardfunctie <code>pow()</code> krijgt\n",
    "            twee parameters en rekent de waarde uit van de eerste tot de macht van de tweede (andersom geeft een\n",
    "            andere uitkomst):</p>\n",
    "    </li>\n",
    "</ul>"
   ]
  },
  {
   "cell_type": "code",
   "execution_count": null,
   "metadata": {},
   "outputs": [],
   "source": [
    "basis = 2\n",
    "exponent = 3\n",
    "antwoord = pow( basis, exponent )  # bereken 2 tot de macht 3\n",
    "print( antwoord )"
   ]
  },
  {
   "cell_type": "markdown",
   "metadata": {},
   "source": [
    "<p><b>Retourwaarde</b></p>\n",
    "<p>Een functie kan wat opleveren of teruggeven. Dit noemen we de <i>retourwaarde</i>. Deze waarde wordt niet zomaar vanzelf onthouden. Het resultaat van een functie moet je daarom meteen opslaan. </p>\n",
    "\n",
    "<p>In het voorbeeld hieronder levert de functie <code>max()</code> het getal 6 op. Deze retourwaarde slaan we\n",
    "    op in de variabele <code>grootste</code>. Bij de aanroep van zo'n functie moet je dus <b>altijd</b> een\n",
    "    '='-teken gebruiken met aan de linkerkant een variabele waarin de retourwaarde opgeslagen wordt.</p>\n",
    "\n",
    "<pre code=\"python\"> grootste = max( -4, 2, 6 ) </pre>\n",
    "\n",
    "<p>Niet alle functies leveren iets op, bijvoorbeeld: <code>print()</code> 'doet iets'. Die levert geen getal of tekst\n",
    "    op, maar een dienst. Dan hoeven we ook niks op te slaan en kunnen we de functie aanroepen zonder een '='-teken.</p>"
   ]
  },
  {
   "cell_type": "markdown",
   "metadata": {},
   "source": [
    "### Opdracht 5.1: Onderdelen van een functie benoemen\n",
    "\n",
    "<p>Hieronder staat code. Geef voor elk van de volgende termen een voorbeeld uit de code:\n",
    "</p>\n",
    "<ol>\n",
    "    <li>Naam van de functie\n",
    "    </li>\n",
    "    <li>Parameters\n",
    "    </li>\n",
    "    <li>Type van parameters\n",
    "    </li>\n",
    "    <li>Retourwaarde\n",
    "    </li>\n",
    "    <li>Variabele waarin de retourwaarde (het antwoord) wordt opgeslagen\n",
    "    </li>\n",
    "    <li>Type van de retourwaarde (het antwoord)\n",
    "    </li>\n",
    "</ol>\n",
    "<p></p>"
   ]
  },
  {
   "cell_type": "code",
   "execution_count": null,
   "metadata": {
    "tags": [
     "Opdracht"
    ]
   },
   "outputs": [],
   "source": [
    "afgerond = round(3.14342, 2)  #afronden op 2 cijfers achter de komma"
   ]
  }
 ],
 "metadata": {
  "kernelspec": {
   "display_name": "Python 3",
   "language": "python",
   "name": "python3"
  },
  "language_info": {
   "codemirror_mode": {
    "name": "ipython",
    "version": 3
   },
   "file_extension": ".py",
   "mimetype": "text/x-python",
   "name": "python",
   "nbconvert_exporter": "python",
   "pygments_lexer": "ipython3",
   "version": "3.12.2"
  }
 },
 "nbformat": 4,
 "nbformat_minor": 2
}
