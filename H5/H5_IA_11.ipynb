{
 "cells": [
  {
   "cell_type": "markdown",
   "metadata": {},
   "source": [
    "## 11: Leesbaarheid\n",
    "\n",
    "<p><b>Overzichtelijke code</b></p>\n",
    "<p>Code wordt leesbaarder door:\n",
    "</p>\n",
    "<ul>\n",
    "    <li>goede keuze van variabelenamen en functienamen: zinvol en volgens conventies (zoals <code>var_naam</code> of <code>functienaam</code>);\n",
    "    </li>\n",
    "    <li>gebruik te maken van witregels tussen functies of blokken code die bij elkaar horen;\n",
    "    </li>\n",
    "    <li>code bij elkaar te zetten die bij elkaar hoort, zoals het scheiden van functiedefinities van het hoofdprogramma;\n",
    "    </li>\n",
    "    <li>globale variabelen (constanten en variabelen die door het hele programma gebruikt worden) bij elkaar bovenaan de code te zetten.\n",
    "    </li>\n",
    "</ul>\n",
    "<p></p>\n",
    "\n",
    "\n",
    "\n",
    "<p><b>Functies om leesbaarheid te verbeteren</b></p>\n",
    "<p>Je code wordt ook overzichtelijker als je code die bij elkaar hoort en dus een doel heeft, bij elkaar zet in een functie. Het doel vat je samen in de functienaam. Een functie hoort geen zijeffecten te hebben. Ze doet wat de samenvatting zegt en verder niks. Dat wil zeggen, een functie <code>isEven()</code> bepaalt of een getal even of oneven is, maar doet verder helemaal niks! Anders wordt het namelijk moeilijker om over je code te redeneren.</p>\n",
    "\n",
    "<p><b>Commentaar om leesbaarheid te verbeteren</b></p>\n",
    "\n",
    "<p><i>Commentaar</i> is bedoeld om code toe te lichten. Commentaar geef je aan met een <code>#</code>. Python negeert deze tijdens de uitvoering. Commentaar is niet alleen nuttig voor anderen die je code lezen, maar ook voor jezelf, aangezien je soms je eigen code later nog moet wijzigen. Gebruik het dus om blokken code samen te vatten, ingewikkelde code uit te leggen of als je een bestaande functie voor het eerst gebruikt, uit te leggen wat deze doet.</p>\n",
    "\n",
    "\n",
    "<pre code=\"python\">#Deze functie heeft als doel om ....\n",
    "def doeIets():\n",
    "\tprint( \"Iets...\" ) # Dit is commentaar\n",
    "</pre>\n",
    "\n",
    "\n",
    "<p><b>Functiecommentaar</b></p>\n",
    "<p>Het idee achter een functie is dat de gebruiker van de functie de code van de functie niet hoeft te kennen. Functiecommentaar schrijf je boven iedere functiedefinitie. Met functiecommentaar geef je aanwijzingen over het gebruik van je functie:\n",
    "</p>\n",
    "<ul>\n",
    "    <li>Samenvattend: hoe de functie werkt;</li>\n",
    "    <li>Onder welke omstandigheden de functie (niet) goed werkt;</li>\n",
    "    <li>Welke parameters meegegeven moeten worden;</li>\n",
    "    <li>Wat de functie retourneert, ook bij ongeldige invoer.</li>\n",
    "</ul>\n",
    "<p></p>\n",
    "\n",
    "<p>\n",
    "    Bijvoorbeeld:\n",
    "</p>"
   ]
  },
  {
   "cell_type": "code",
   "execution_count": null,
   "metadata": {},
   "outputs": [],
   "source": [
    "### FUNCTIEDEFINITIE\n",
    "#Doel: rekent aantal kilometers (groter of gelijk aan 0) om naar meters\n",
    "#Invoer: kilometers, als int of float\n",
    "#Uitvoer: meters, als int of float (zelfde type als de invoer)\n",
    "def rekenKmNaarMeters( afstand_in_km ):\n",
    "\tafstand_in_m = afstand_in_km * 1000\n",
    "\treturn( afstand_in_m )\n",
    "\n",
    "### HOOFDPROGRAMMA MET AANROEP VAN FUNCTIE\n",
    "aantal_meters = rekenKmNaarMeters( 4 )\n",
    "print( aantal_meters )"
   ]
  },
  {
   "cell_type": "markdown",
   "metadata": {},
   "source": [
    "<p><b>Strategie: Commentaar gebruiken tijdens debuggen</b></p>\n",
    "\n",
    "<p>Je kunt commentaar ook goed gebruiken om de oorzaak van fouten in je code op te sporen. Met <code>#</code> kan je een regel in commentaar zetten. Die doet dan niet meer mee aan het programma. Zo kun je uitsluiten dat de regel een fout veroorzaakt. Ook kun je meerdere regels in commentaar zetten en regel voor regel het commentaar weghalen om zo te ontdekken wat de fout veroorzaakt.</p>\n",
    "\n",
    "<p><b>Tip: meerdere regels in één keer in commentaar:</b>\n",
    "</p>\n",
    "<ol style=\"list-style-type: lower-alpha\">\n",
    "    <li>Selecteer de code die je in commentaar wilt zetten.\n",
    "    </li>\n",
    "    <li>Druk gelijktijdig op <b>CTRL</b> + <b>/</b> om de geselecteerde regels allemaal in één keer in commentaar te zetten.\n",
    "    </li>\n",
    "    <li>Run de code. Is de fout opgelost? Dan zit de fout in de code die je net in commentaar hebt gezet.\n",
    "    </li>\n",
    "    <li>Haal één regel uit commentaar en run de code opnieuw.\n",
    "    </li>\n",
    "    <li>Herhaal regel voor regel totdat je de oorzaak van de fout hebt ontdekt.\n",
    "    </li>\n",
    "</ol>"
   ]
  },
  {
   "cell_type": "markdown",
   "metadata": {},
   "source": [
    "### Opdracht 5.7: Commentaar\n",
    "\n",
    "<p>Het onderstaande programma staat helemaal in commentaar.\n",
    "</p>\n",
    "<ol style=\"list-style-type: lower-alpha\">\n",
    "    <li>Selecteer alle code en haal, met behulp van <b>CTRL</b> + <b>/</b>, het hele programma uit commentaar.\n",
    "    </li>\n",
    "    <li>Voeg commentaar toe om de functiedefinities van het hoofdprogramma te scheiden. Gebruik hiervoor <code>### FUNCTIEDEFINITIE</code> en <code>### HOOFDPROGRAMMA</code>.\n",
    "    </li>\n",
    "    <li>Zoals na elke wijziging: test het programma.\n",
    "    </li>\n",
    "</ol>"
   ]
  },
  {
   "cell_type": "code",
   "execution_count": null,
   "metadata": {
    "tags": [
     "Opdracht"
    ]
   },
   "outputs": [],
   "source": [
    "# def rekenKmNaarMeters(afstand_in_km):\n",
    "# \tafstand_in_m = afstand_in_km * 1000\n",
    "# \treturn( afstand_in_m )\n",
    "\t\n",
    "# aantal_meters = rekenKmNaarMeters( 4 )\n",
    "# print( aantal_meters )"
   ]
  },
  {
   "cell_type": "markdown",
   "metadata": {},
   "source": [
    "<p>Bekijk <a href=\"Https://course.cs.ru.nl/pythonVO/Teams/IA_uitwerkingen/IA_H5_oplossingen.html#opgave551\" target=\"_blank\">hier</a> de voorbeelduitwerking.</p>\n"
   ]
  }
 ],
 "metadata": {
  "kernelspec": {
   "display_name": "Python 3",
   "language": "python",
   "name": "python3"
  },
  "language_info": {
   "codemirror_mode": {
    "name": "ipython",
    "version": 3
   },
   "file_extension": ".py",
   "mimetype": "text/x-python",
   "name": "python",
   "nbconvert_exporter": "python",
   "pygments_lexer": "ipython3",
   "version": "3.12.2"
  }
 },
 "nbformat": 4,
 "nbformat_minor": 2
}
