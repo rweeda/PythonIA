{
 "cells": [
  {
   "cell_type": "markdown",
   "id": "e6ba74c9",
   "metadata": {},
   "source": [
    "# Onderwerp 5 —  Functies (deel 1)\n",
    "\n",
    "Functies zijn krachtig, je kan er heel veel mee en daarnaast verhogen ze de kwaliteit van je code: overzichtelijker, minder fout-gevoelig en herbruikbaar."
   ]
  },
  {
   "cell_type": "markdown",
   "id": "2c367425",
   "metadata": {},
   "source": [
    "## Inhoud\n",
    "\n",
    "1. [leer je dat functies helpen om code overzichtelijk en herbruikbaar te maken](#leer-je-dat-functies-helpen-om-code-overzichtelijk-en-herbruikbaar-te-maken)\n",
    "2. [leer je dat een parameter informatie is die een functie meekrijgt om haar werk te kunnen uitvoeren](#leer-je-dat-een-parameter-informatie-is-die-een-functie-meekrijgt-om-haar-werk-te-kunnen-uitvoeren)\n",
    "3. [leer je dat een retourwaarde informatie is die een functie teruggeeft aan het hoofdprogramma](#leer-je-dat-een-retourwaarde-informatie-is-die-een-functie-teruggeeft-aan-het-hoofdprogramma)\n",
    "4. [leer je een programma met functies traceren, door in te zien dat def's worden overgeslagen en de code in het hoofdprogramma als eerste wordt uitgevoerd](#leer-je-een-programma-met-functies-traceren-door-in-te-zien-dat-def-s-worden-overgeslagen-en-de-code-in-het-hoofdprogramma-als-eerste-wordt-uitgevoerd)\n",
    "5. [leer je hoe je een eigen functie maakt en aanroept](#leer-je-hoe-je-een-eigen-functie-maakt-en-aanroept)\n",
    "6. [leer je parameters te gebruiken om functies generiek te maken](#leer-je-parameters-te-gebruiken-om-functies-generiek-te-maken)\n",
    "7. [leer je hoe je functies kan aanroepen vanuit andere functies](#leer-je-hoe-je-functies-kan-aanroepen-vanuit-andere-functies)\n",
    "8. [leer je code overzichtelijk te maken door functiedefinities boven aan de code bij elkaar te zetten, apart van de code van het hoofdprogramma](#leer-je-code-overzichtelijk-te-maken-door-functiedefinities-boven-aan-de-code-bij-elkaar-te-zetten-apart-van-de-code-van-het-hoofdprogramma)\n",
    "9. [leer je zinvol (functie)commentaar toe te voegen om de leesbaarheid van je code te verbeteren](#leer-je-zinvol-functie-commentaar-toe-te-voegen-om-de-leesbaarheid-van-je-code-te-verbeteren)\n",
    "10. [leer je met CTRL + / meerdere regels code in één keer in (of uit) commentaar te zetten](#leer-je-met-ctrl-meerdere-regels-code-in-n-keer-in-of-uit-commentaar-te-zetten)"
   ]
  },
  {
   "cell_type": "markdown",
   "id": "ea547a58",
   "metadata": {},
   "source": [
    "## 5.1 t/m 5.4 Functies maken en aanroepen"
   ]
  },
  {
   "cell_type": "code",
   "execution_count": null,
   "id": "11f0a502",
   "metadata": {},
   "outputs": [],
   "source": [
    "### FUNCTIEDEFINITIE\n",
    "def groet( naam, land ):                        # functie krijg 2 parameters mee om mee te werken: naam en land\n",
    "    print( \"Hallo\", naam, \"uit\", land + \"!\" )   # print een groet met de meegegeven naam en land\n",
    "\n",
    "\n",
    "### HOOFDPROGRAMMA MET AANROEP VAN FUNCTIE\n",
    "groet( \"Sebas\", \"Spanje\" ) # roep de functie groet aan met \"Sebas\" voor naam en \"Spanje\" voor land\n",
    "groet( \"John\", \"Engeland\" )\n",
    "groet( \"Janneke\", \"Nederland\" )"
   ]
  },
  {
   "cell_type": "code",
   "execution_count": null,
   "id": "f2097549",
   "metadata": {},
   "outputs": [],
   "source": [
    "### FUNCTIEDEFINITIE\n",
    "def rekenKmNaarMeters( afstand_in_km ): # definitie van functie die parameter afstand_in_km binnen krijgt om mee te rekenen\n",
    "\tafstand_in_m = afstand_in_km * 1000\t# voert berekening uit\n",
    "\treturn( afstand_in_m ) \t\t\t\t# levert afstand_in_m op\n",
    "\n",
    "### HOOFDPROGRAMMA MET AANROEP VAN FUNCTIE\n",
    "aantal_meters = rekenKmNaarMeters( 4 ) #functie rekenKmNaarMeters aanroepen met 4 km als invoer, wat het oplevert opslaan als aantal_meters\n",
    "print( aantal_meters )"
   ]
  },
  {
   "cell_type": "markdown",
   "id": "355ed22a",
   "metadata": {},
   "source": [
    "## leer je dat een parameter informatie is die een functie meekrijgt om haar werk te kunnen uitvoeren"
   ]
  },
  {
   "cell_type": "markdown",
   "id": "970a174d",
   "metadata": {},
   "source": [
    "**Voorbeeld 1** — uit `H5_IA_9.ipynb`, cel #5."
   ]
  },
  {
   "cell_type": "code",
   "execution_count": null,
   "id": "90e912a6",
   "metadata": {},
   "outputs": [],
   "source": [
    "### FUNCTIEDEFINITIE\n",
    "def groet( naam ):\n",
    "    print( \"Hallo!\")\n",
    "\n",
    "\n",
    "### HOOFDPROGRAMMA MET AANROEP VAN FUNCTIE\n",
    "groet( \"Sebas\", \"Spanje\" )\n",
    "groet( \"John\", \"Engeland\" )\n",
    "groet( \"Janneke\", \"Nederland\" )"
   ]
  },
  {
   "cell_type": "markdown",
   "id": "4ae7c90f",
   "metadata": {},
   "source": [
    "**Voorbeeld 2** — uit `H5_IA_5.ipynb`, cel #6."
   ]
  },
  {
   "cell_type": "code",
   "execution_count": null,
   "id": "be94db76",
   "metadata": {},
   "outputs": [],
   "source": [
    "import turtle\n",
    "\n",
    "#### FUNCTIEDEFINITIES\n",
    "\n",
    "# code voor het tekenen van het snoep:\n",
    "turtle.fillcolor(\"red\")\n",
    "turtle.begin_fill()\n",
    "turtle.circle(30)\n",
    "turtle.end_fill()\n",
    "\n",
    "# code voor het tekenen van de stok:\n",
    "turtle.right(90)\n",
    "turtle.forward(100)\n",
    "\n",
    "### HOOFDPROGRAMMA\n",
    "turtle.pendown()\n",
    "#roep hier je functie tekenSnoep() aan\n",
    "#roep hier je functie tekenStok() aan\n",
    "\n",
    "turtle.done()"
   ]
  },
  {
   "cell_type": "markdown",
   "id": "87ad11e4",
   "metadata": {},
   "source": [
    "**Voorbeeld 3** — uit `H5_IA_11.ipynb`, cel #1."
   ]
  },
  {
   "cell_type": "code",
   "execution_count": null,
   "id": "d51818e8",
   "metadata": {},
   "outputs": [],
   "source": [
    "### FUNCTIEDEFINITIE\n",
    "#Doel: rekent aantal kilometers (groter of gelijk aan 0) om naar meters\n",
    "#Invoer: kilometers, als int of float\n",
    "#Uitvoer: meters, als int of float (zelfde type als de invoer)\n",
    "def rekenKmNaarMeters( afstand_in_km ):\n",
    "\tafstand_in_m = afstand_in_km * 1000\n",
    "\treturn( afstand_in_m )\n",
    "\n",
    "### HOOFDPROGRAMMA MET AANROEP VAN FUNCTIE\n",
    "aantal_meters = rekenKmNaarMeters( 4 )\n",
    "print( aantal_meters )"
   ]
  },
  {
   "cell_type": "markdown",
   "id": "e865a282",
   "metadata": {},
   "source": [
    "## leer je dat een retourwaarde informatie is die een functie teruggeeft aan het hoofdprogramma"
   ]
  },
  {
   "cell_type": "markdown",
   "id": "eff5560d",
   "metadata": {},
   "source": [
    "**Voorbeeld 1** — uit `H5_IA_8.ipynb`, cel #3."
   ]
  },
  {
   "cell_type": "code",
   "execution_count": null,
   "id": "cc0be4ba",
   "metadata": {},
   "outputs": [],
   "source": [
    "import turtle\n",
    "\n",
    "### FUNCTIEDEFINITIE\n",
    "def tekenFiguur():\n",
    "\tturtle.forward(50)\n",
    "\tturtle.right(120)\n",
    "\tturtle.forward(50)\n",
    "\tturtle.right(120)\n",
    "\tturtle.forward(50)\n",
    "\n",
    "### HOOFDPROGRAMMA MET FUNCTIEAANROEP\n",
    "turtle.pendown()\n",
    "tekenFiguur()\n",
    "turtle.right(135)\n",
    "\n",
    "turtle.done()"
   ]
  },
  {
   "cell_type": "markdown",
   "id": "1fdc7f55",
   "metadata": {},
   "source": [
    "**Voorbeeld 2** — uit `H5_IA_11.ipynb`, cel #1."
   ]
  },
  {
   "cell_type": "code",
   "execution_count": null,
   "id": "6b091792",
   "metadata": {},
   "outputs": [],
   "source": [
    "### FUNCTIEDEFINITIE\n",
    "#Doel: rekent aantal kilometers (groter of gelijk aan 0) om naar meters\n",
    "#Invoer: kilometers, als int of float\n",
    "#Uitvoer: meters, als int of float (zelfde type als de invoer)\n",
    "def rekenKmNaarMeters( afstand_in_km ):\n",
    "\tafstand_in_m = afstand_in_km * 1000\n",
    "\treturn( afstand_in_m )\n",
    "\n",
    "### HOOFDPROGRAMMA MET AANROEP VAN FUNCTIE\n",
    "aantal_meters = rekenKmNaarMeters( 4 )\n",
    "print( aantal_meters )"
   ]
  },
  {
   "cell_type": "markdown",
   "id": "476ca541",
   "metadata": {},
   "source": [
    "**Voorbeeld 3** — uit `H5_IA_11.ipynb`, cel #4."
   ]
  },
  {
   "cell_type": "code",
   "execution_count": null,
   "id": "da95d1b1",
   "metadata": {},
   "outputs": [],
   "source": [
    "# def rekenKmNaarMeters(afstand_in_km):\n",
    "# \tafstand_in_m = afstand_in_km * 1000\n",
    "# \treturn( afstand_in_m )\n",
    "\t\n",
    "# aantal_meters = rekenKmNaarMeters( 4 )\n",
    "# print( aantal_meters )"
   ]
  },
  {
   "cell_type": "markdown",
   "id": "ec6803ef",
   "metadata": {},
   "source": [
    "## leer je een programma met functies traceren, door in te zien dat def's worden overgeslagen en de code in het hoofdprogramma als eerste wordt uitgevoerd"
   ]
  },
  {
   "cell_type": "markdown",
   "id": "00a7f472",
   "metadata": {},
   "source": [
    "**Voorbeeld 1** — uit `H5_IA_9.ipynb`, cel #5."
   ]
  },
  {
   "cell_type": "code",
   "execution_count": null,
   "id": "6eebdbe7",
   "metadata": {},
   "outputs": [],
   "source": [
    "### FUNCTIEDEFINITIE\n",
    "def groet( naam ):\n",
    "    print( \"Hallo!\")\n",
    "\n",
    "\n",
    "### HOOFDPROGRAMMA MET AANROEP VAN FUNCTIE\n",
    "groet( \"Sebas\", \"Spanje\" )\n",
    "groet( \"John\", \"Engeland\" )\n",
    "groet( \"Janneke\", \"Nederland\" )"
   ]
  },
  {
   "cell_type": "markdown",
   "id": "bfb9fcb6",
   "metadata": {},
   "source": [
    "**Voorbeeld 2** — uit `H5_IA_11.ipynb`, cel #4."
   ]
  },
  {
   "cell_type": "code",
   "execution_count": null,
   "id": "f89d40be",
   "metadata": {},
   "outputs": [],
   "source": [
    "# def rekenKmNaarMeters(afstand_in_km):\n",
    "# \tafstand_in_m = afstand_in_km * 1000\n",
    "# \treturn( afstand_in_m )\n",
    "\t\n",
    "# aantal_meters = rekenKmNaarMeters( 4 )\n",
    "# print( aantal_meters )"
   ]
  },
  {
   "cell_type": "markdown",
   "id": "293bd599",
   "metadata": {},
   "source": [
    "**Voorbeeld 3** — uit `H5_IA_5.ipynb`, cel #1."
   ]
  },
  {
   "cell_type": "code",
   "execution_count": null,
   "id": "e91f7dec",
   "metadata": {},
   "outputs": [],
   "source": [
    "### FUNCTIEDEFINITIE\n",
    "def totZiens():\n",
    "\tprint( \"..en dan..\")\n",
    "\tprint( \"tot ziens!\" )\n",
    "\n",
    "### HOOFDPROGRAMMA MET AANROEP VAN FUNCTIE\n",
    "print( \"Hallo!\" )\n",
    "totZiens()\n",
    "print( \"Klaar! \")"
   ]
  },
  {
   "cell_type": "markdown",
   "id": "b2c3afef",
   "metadata": {},
   "source": [
    "## leer je hoe je een eigen functie maakt en aanroept"
   ]
  },
  {
   "cell_type": "markdown",
   "id": "3242109e",
   "metadata": {},
   "source": [
    "**Voorbeeld 1** — uit `H5_IA_8.ipynb`, cel #3."
   ]
  },
  {
   "cell_type": "code",
   "execution_count": null,
   "id": "b47fabc5",
   "metadata": {},
   "outputs": [],
   "source": [
    "import turtle\n",
    "\n",
    "### FUNCTIEDEFINITIE\n",
    "def tekenFiguur():\n",
    "\tturtle.forward(50)\n",
    "\tturtle.right(120)\n",
    "\tturtle.forward(50)\n",
    "\tturtle.right(120)\n",
    "\tturtle.forward(50)\n",
    "\n",
    "### HOOFDPROGRAMMA MET FUNCTIEAANROEP\n",
    "turtle.pendown()\n",
    "tekenFiguur()\n",
    "turtle.right(135)\n",
    "\n",
    "turtle.done()"
   ]
  },
  {
   "cell_type": "markdown",
   "id": "4842a64f",
   "metadata": {},
   "source": [
    "**Voorbeeld 2** — uit `H5_IA_11.ipynb`, cel #1."
   ]
  },
  {
   "cell_type": "code",
   "execution_count": null,
   "id": "e4fb6faa",
   "metadata": {},
   "outputs": [],
   "source": [
    "### FUNCTIEDEFINITIE\n",
    "#Doel: rekent aantal kilometers (groter of gelijk aan 0) om naar meters\n",
    "#Invoer: kilometers, als int of float\n",
    "#Uitvoer: meters, als int of float (zelfde type als de invoer)\n",
    "def rekenKmNaarMeters( afstand_in_km ):\n",
    "\tafstand_in_m = afstand_in_km * 1000\n",
    "\treturn( afstand_in_m )\n",
    "\n",
    "### HOOFDPROGRAMMA MET AANROEP VAN FUNCTIE\n",
    "aantal_meters = rekenKmNaarMeters( 4 )\n",
    "print( aantal_meters )"
   ]
  },
  {
   "cell_type": "markdown",
   "id": "52e4fc34",
   "metadata": {},
   "source": [
    "**Voorbeeld 3** — uit `H5_IA_4.ipynb`, cel #2."
   ]
  },
  {
   "cell_type": "code",
   "execution_count": null,
   "id": "e8eb91d6",
   "metadata": {},
   "outputs": [],
   "source": [
    "### FUNCTIEDEFINITIE\n",
    "def totZiens():\n",
    "\tprint( \"..en dan..\")\n",
    "\tprint( \"tot ziens!\" )\n",
    "\n",
    "### HOOFDPROGRAMMA MET AANROEP VAN FUNCTIE\n",
    "print( \"Hallo!\" )\n",
    "totZiens()\n",
    "print( \"Klaar! \")"
   ]
  },
  {
   "cell_type": "markdown",
   "id": "a978433c",
   "metadata": {},
   "source": [
    "## leer je parameters te gebruiken om functies generiek te maken"
   ]
  },
  {
   "cell_type": "markdown",
   "id": "9cf0d798",
   "metadata": {},
   "source": [
    "**Voorbeeld 1** — uit `H5_IA_11.ipynb`, cel #4."
   ]
  },
  {
   "cell_type": "code",
   "execution_count": null,
   "id": "61415feb",
   "metadata": {},
   "outputs": [],
   "source": [
    "# def rekenKmNaarMeters(afstand_in_km):\n",
    "# \tafstand_in_m = afstand_in_km * 1000\n",
    "# \treturn( afstand_in_m )\n",
    "\t\n",
    "# aantal_meters = rekenKmNaarMeters( 4 )\n",
    "# print( aantal_meters )"
   ]
  },
  {
   "cell_type": "markdown",
   "id": "1f334fe1",
   "metadata": {},
   "source": [
    "**Voorbeeld 2** — uit `H5_IA_11.ipynb`, cel #1."
   ]
  },
  {
   "cell_type": "code",
   "execution_count": null,
   "id": "16ccdef1",
   "metadata": {},
   "outputs": [],
   "source": [
    "### FUNCTIEDEFINITIE\n",
    "#Doel: rekent aantal kilometers (groter of gelijk aan 0) om naar meters\n",
    "#Invoer: kilometers, als int of float\n",
    "#Uitvoer: meters, als int of float (zelfde type als de invoer)\n",
    "def rekenKmNaarMeters( afstand_in_km ):\n",
    "\tafstand_in_m = afstand_in_km * 1000\n",
    "\treturn( afstand_in_m )\n",
    "\n",
    "### HOOFDPROGRAMMA MET AANROEP VAN FUNCTIE\n",
    "aantal_meters = rekenKmNaarMeters( 4 )\n",
    "print( aantal_meters )"
   ]
  },
  {
   "cell_type": "markdown",
   "id": "029773bf",
   "metadata": {},
   "source": [
    "**Voorbeeld 3** — uit `H5_IA_10.ipynb`, cel #1."
   ]
  },
  {
   "cell_type": "code",
   "execution_count": null,
   "id": "9ff55686",
   "metadata": {},
   "outputs": [],
   "source": [
    "import turtle\n",
    "\n",
    "### FUNCTIEDEFINITIES\n",
    "#teken snoep\n",
    "def tekenSnoep( straal, kleur ):\n",
    "  turtle.fillcolor( kleur)\n",
    "  turtle.begin_fill()\n",
    "  turtle.circle( straal )\n",
    "  turtle.end_fill()\n",
    "\n",
    "#teken stok\n",
    "def tekenStok( lengte_stok ):\n",
    "  turtle.right(90)\n",
    "  turtle.forward( lengte_stok )\n",
    "\n",
    "#tekent lolly\n",
    "def tekenLolly( straal, kleur, lengte_stok ):\n",
    "  tekenSnoep( straal, kleur )\n",
    "  tekenStok( lengte_stok ) #andere functie wordt aangeroepen om stok te tekenen\n",
    "\n",
    "### HOOFDPROGRAMMA\n",
    "turtle.pendown()\n",
    "tekenLolly(40, \"blue\", 100 ) #parameters: straal, kleur, lengte_stok)\n",
    "turtle.done()"
   ]
  },
  {
   "cell_type": "markdown",
   "id": "eaaa9516",
   "metadata": {},
   "source": [
    "## leer je hoe je functies kan aanroepen vanuit andere functies"
   ]
  },
  {
   "cell_type": "markdown",
   "id": "ba2c4ba1",
   "metadata": {},
   "source": [
    "**Voorbeeld 1** — uit `H5_IA_10.ipynb`, cel #1."
   ]
  },
  {
   "cell_type": "code",
   "execution_count": null,
   "id": "e63a7825",
   "metadata": {},
   "outputs": [],
   "source": [
    "import turtle\n",
    "\n",
    "### FUNCTIEDEFINITIES\n",
    "#teken snoep\n",
    "def tekenSnoep( straal, kleur ):\n",
    "  turtle.fillcolor( kleur)\n",
    "  turtle.begin_fill()\n",
    "  turtle.circle( straal )\n",
    "  turtle.end_fill()\n",
    "\n",
    "#teken stok\n",
    "def tekenStok( lengte_stok ):\n",
    "  turtle.right(90)\n",
    "  turtle.forward( lengte_stok )\n",
    "\n",
    "#tekent lolly\n",
    "def tekenLolly( straal, kleur, lengte_stok ):\n",
    "  tekenSnoep( straal, kleur )\n",
    "  tekenStok( lengte_stok ) #andere functie wordt aangeroepen om stok te tekenen\n",
    "\n",
    "### HOOFDPROGRAMMA\n",
    "turtle.pendown()\n",
    "tekenLolly(40, \"blue\", 100 ) #parameters: straal, kleur, lengte_stok)\n",
    "turtle.done()"
   ]
  },
  {
   "cell_type": "markdown",
   "id": "70d6497c",
   "metadata": {},
   "source": [
    "**Voorbeeld 2** — uit `H5_IA_5.ipynb`, cel #1."
   ]
  },
  {
   "cell_type": "code",
   "execution_count": null,
   "id": "e002f40e",
   "metadata": {},
   "outputs": [],
   "source": [
    "### FUNCTIEDEFINITIE\n",
    "def totZiens():\n",
    "\tprint( \"..en dan..\")\n",
    "\tprint( \"tot ziens!\" )\n",
    "\n",
    "### HOOFDPROGRAMMA MET AANROEP VAN FUNCTIE\n",
    "print( \"Hallo!\" )\n",
    "totZiens()\n",
    "print( \"Klaar! \")"
   ]
  },
  {
   "cell_type": "markdown",
   "id": "0da98d95",
   "metadata": {},
   "source": [
    "**Voorbeeld 3** — uit `H5_IA_9.ipynb`, cel #5."
   ]
  },
  {
   "cell_type": "code",
   "execution_count": null,
   "id": "9a39f56b",
   "metadata": {},
   "outputs": [],
   "source": [
    "### FUNCTIEDEFINITIE\n",
    "def groet( naam ):\n",
    "    print( \"Hallo!\")\n",
    "\n",
    "\n",
    "### HOOFDPROGRAMMA MET AANROEP VAN FUNCTIE\n",
    "groet( \"Sebas\", \"Spanje\" )\n",
    "groet( \"John\", \"Engeland\" )\n",
    "groet( \"Janneke\", \"Nederland\" )"
   ]
  },
  {
   "cell_type": "markdown",
   "id": "4582bc86",
   "metadata": {},
   "source": [
    "## leer je code overzichtelijk te maken door functiedefinities boven aan de code bij elkaar te zetten, apart van de code van het hoofdprogramma"
   ]
  },
  {
   "cell_type": "markdown",
   "id": "db97aa81",
   "metadata": {},
   "source": [
    "_Geen direct voorbeeld gevonden in H5-notebooks._"
   ]
  },
  {
   "cell_type": "markdown",
   "id": "5b6c732e",
   "metadata": {},
   "source": [
    "## leer je zinvol (functie)commentaar toe te voegen om de leesbaarheid van je code te verbeteren"
   ]
  },
  {
   "cell_type": "markdown",
   "id": "134b7e43",
   "metadata": {},
   "source": [
    "**Voorbeeld 1** — uit `H5_IA_11.ipynb`, cel #4."
   ]
  },
  {
   "cell_type": "code",
   "execution_count": null,
   "id": "130bdfea",
   "metadata": {},
   "outputs": [],
   "source": [
    "# def rekenKmNaarMeters(afstand_in_km):\n",
    "# \tafstand_in_m = afstand_in_km * 1000\n",
    "# \treturn( afstand_in_m )\n",
    "\t\n",
    "# aantal_meters = rekenKmNaarMeters( 4 )\n",
    "# print( aantal_meters )"
   ]
  },
  {
   "cell_type": "markdown",
   "id": "0069a5bc",
   "metadata": {},
   "source": [
    "**Voorbeeld 2** — uit `H5_IA_8.ipynb`, cel #3."
   ]
  },
  {
   "cell_type": "code",
   "execution_count": null,
   "id": "854199a5",
   "metadata": {},
   "outputs": [],
   "source": [
    "import turtle\n",
    "\n",
    "### FUNCTIEDEFINITIE\n",
    "def tekenFiguur():\n",
    "\tturtle.forward(50)\n",
    "\tturtle.right(120)\n",
    "\tturtle.forward(50)\n",
    "\tturtle.right(120)\n",
    "\tturtle.forward(50)\n",
    "\n",
    "### HOOFDPROGRAMMA MET FUNCTIEAANROEP\n",
    "turtle.pendown()\n",
    "tekenFiguur()\n",
    "turtle.right(135)\n",
    "\n",
    "turtle.done()"
   ]
  },
  {
   "cell_type": "markdown",
   "id": "db9fa2c7",
   "metadata": {},
   "source": [
    "**Voorbeeld 3** — uit `H5_IA_5.ipynb`, cel #1."
   ]
  },
  {
   "cell_type": "code",
   "execution_count": null,
   "id": "29cc7fb3",
   "metadata": {},
   "outputs": [],
   "source": [
    "### FUNCTIEDEFINITIE\n",
    "def totZiens():\n",
    "\tprint( \"..en dan..\")\n",
    "\tprint( \"tot ziens!\" )\n",
    "\n",
    "### HOOFDPROGRAMMA MET AANROEP VAN FUNCTIE\n",
    "print( \"Hallo!\" )\n",
    "totZiens()\n",
    "print( \"Klaar! \")"
   ]
  },
  {
   "cell_type": "markdown",
   "id": "e8c935ce",
   "metadata": {},
   "source": [
    "## leer je met CTRL + / meerdere regels code in één keer in (of uit) commentaar te zetten"
   ]
  },
  {
   "cell_type": "markdown",
   "id": "6b860894",
   "metadata": {},
   "source": [
    "**Voorbeeld 1** — uit `H5_IA_11.ipynb`, cel #4."
   ]
  },
  {
   "cell_type": "code",
   "execution_count": null,
   "id": "12f6bc99",
   "metadata": {},
   "outputs": [],
   "source": [
    "# def rekenKmNaarMeters(afstand_in_km):\n",
    "# \tafstand_in_m = afstand_in_km * 1000\n",
    "# \treturn( afstand_in_m )\n",
    "\t\n",
    "# aantal_meters = rekenKmNaarMeters( 4 )\n",
    "# print( aantal_meters )"
   ]
  },
  {
   "cell_type": "markdown",
   "id": "3f7733e1",
   "metadata": {},
   "source": [
    "**Voorbeeld 2** — uit `H5_IA_11.ipynb`, cel #1."
   ]
  },
  {
   "cell_type": "code",
   "execution_count": null,
   "id": "ad55943c",
   "metadata": {},
   "outputs": [],
   "source": [
    "### FUNCTIEDEFINITIE\n",
    "#Doel: rekent aantal kilometers (groter of gelijk aan 0) om naar meters\n",
    "#Invoer: kilometers, als int of float\n",
    "#Uitvoer: meters, als int of float (zelfde type als de invoer)\n",
    "def rekenKmNaarMeters( afstand_in_km ):\n",
    "\tafstand_in_m = afstand_in_km * 1000\n",
    "\treturn( afstand_in_m )\n",
    "\n",
    "### HOOFDPROGRAMMA MET AANROEP VAN FUNCTIE\n",
    "aantal_meters = rekenKmNaarMeters( 4 )\n",
    "print( aantal_meters )"
   ]
  },
  {
   "cell_type": "markdown",
   "id": "6b5d1f8c",
   "metadata": {},
   "source": [
    "**Voorbeeld 3** — uit `H5_IA_5.ipynb`, cel #4."
   ]
  },
  {
   "cell_type": "code",
   "execution_count": null,
   "id": "3beec9be",
   "metadata": {},
   "outputs": [],
   "source": [
    "import turtle\n",
    "### FUNCTIEDEFINITIE\n",
    "\n",
    "#Definitie: Instructies voor het tekenen van een vierkant met grootte van 20\n",
    "def tekenVierkant(  ):\n",
    "    turtle.forward( 20 )\n",
    "    turtle.right(90)\n",
    "    turtle.forward( 20 )\n",
    "    turtle.right(90)\n",
    "    turtle.forward( 20 )\n",
    "    turtle.right(90)\n",
    "    turtle.forward( 20 )\n",
    "    turtle.right(90)\n",
    "\n",
    "### HOOFDPROGRAMMA MET AANROEP VAN FUNCTIE\n",
    "turtle.pendown()\n",
    "#Stap1: roep hier de functie aan voor tekenen van vierkant\n",
    "#Stap2: draai rechts 45 graden\n",
    "#Stap3: roep hier de functie aan voor tekenen van vierkant\n",
    "\n",
    "turtle.done()"
   ]
  }
 ],
 "metadata": {
  "language_info": {
   "name": "python"
  }
 },
 "nbformat": 4,
 "nbformat_minor": 5
}
