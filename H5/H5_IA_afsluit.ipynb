{
 "cells": [
  {
   "cell_type": "markdown",
   "metadata": {},
   "source": [
    "## Onderwerp 5: Afsluitende opdrachten\n",
    "\n",
    "<p>Met de volgende afsluitende opdrachten kun je kijken hoe goed je de stof beheerst. Controleer steeds je eigen oplossing met de voorbeeldoplossing.</p>\n"
   ]
  },
  {
   "cell_type": "markdown",
   "metadata": {},
   "source": [
    "### Afsluitende opdracht 5.1: Teken lolly met parameters\n",
    "\n",
    "<p>De code hieronder tekent een lolly: rode snoep met een zwart stokje. We willen de gebruiker vragen welke kleur gewenst is, hoe groot de lolly moet zijn en hoe lang het stokje moet zijn.</p>\n",
    "    <p>Pas je code stapsgewijs aan en test steeds tussendoor!\n",
    "    </p>\n",
    "    <ol style=\"list-style-type: lower-alpha\">\n",
    "        <li>Vraag de gebruiker om een kleur en sla de gewenste kleur op in een variabele.\n",
    "        </li>\n",
    "        <li>Pas de functiedefinitie van <code>tekenSnoep()</code> (op regel 5) aan zodat deze een kleur verwacht.\n",
    "        </li>\n",
    "        <li>Gebruik de gegeven kleur in plaats van <code>\"red\"</code>.\n",
    "        </li>\n",
    "        <li>Pas de aanroep van <code>tekenSnoep()</code> (in je hoofdprogramma) aan zodat de gewenste kleur meegegeven wordt.\n",
    "        </li>\n",
    "        <li>Test je programma.\n",
    "        </li>\n",
    "    <li>Breid je code dan uit voor de gewenste straal van de snoep. Test je programma. Tip: de invoer moet je omzetten naar een <code>int</code>.</li>\n",
    "    <li>Als dat werkt, vraag je de gebruiker ook hoe lang het stokje moet zijn. Teken daarna de gewenste lolly.</li>\n",
    "         </ol>"
   ]
  },
  {
   "cell_type": "code",
   "execution_count": null,
   "metadata": {
    "tags": [
     "Opdracht"
    ]
   },
   "outputs": [],
   "source": [
    "import turtle\n",
    "\n",
    "### FUNCTIEDEFINITIES\n",
    "#teken snoep\n",
    "def tekenSnoep( ):\n",
    "        turtle.fillcolor(\"red\")\n",
    "        turtle.begin_fill()\n",
    "        turtle.circle( 40 )\n",
    "        turtle.end_fill()\n",
    "#teken stok\n",
    "def tekenStok( ):\n",
    "        turtle.right( 90 )\n",
    "        turtle.forward( 100 )\n",
    "\n",
    "### HOOFDPROGRAMMA\n",
    "turtle.pendown()\n",
    "tekenSnoep()\n",
    "tekenStok()\t\t\n",
    "\t\t\t\t\n",
    "turtle.done()"
   ]
  },
  {
   "cell_type": "markdown",
   "metadata": {},
   "source": [
    "<p>Bekijk <a href=\"Https://course.cs.ru.nl/pythonVO/Teams/IA_uitwerkingen/IA_H5_oplossingen.html#AfOpgave51\" target=\"_blank\">hier</a> de voorbeelduitwerking.</p>\n"
   ]
  },
  {
   "cell_type": "markdown",
   "metadata": {},
   "source": [
    "### Afsluitende opdracht 5.2: Olympische Ringen\n",
    "\n",
    "<p>Schrijf een programma dat de olympische ringen in kleur tekent.</p>\n",
    "\n",
    "<p><img src=\"https://raw.githubusercontent.com/rweeda/PythonIA/main/img//Python5_olypischeRingen.jpg\" alt=\"Olympische ringen\" width=\"400\"></p>\n",
    "\n",
    "\n",
    "\n",
    "<p>Hier zijn de gegevens van elk van de vijf cirkels:\n",
    "</p>\n",
    "<ul>\n",
    "    <li>Groene (green) cirkel op co&ouml;rdinaat (0,0)\n",
    "    </li>\n",
    "    <li>Gele (yellow) cirkel op co&ouml;rdinaat (-120,0)\n",
    "    </li>\n",
    "    <li>Rode (red) cirkel op coo&ouml;rdinaat (60,60)\n",
    "    </li>\n",
    "    <li>Zwarte (black) cirkel op coo&ouml;rdinaat (-60, 60)\n",
    "    </li>\n",
    "    <li>Blauwe (blue) cirkel op coo&ouml;rdinaat (-180,60)\n",
    "    </li>\n",
    "</ul>\n",
    "<p></p>\n",
    "\n",
    "<p>Bedenk dat je steeds een cirkel wilt tekenen, maar op een andere co&ouml;rdinaat met een andere kleur. Om dit voor elkaar te krijgen schrijf je een functie <code>tekenGekleurdeRing()</code> die drie parameters als informatie meekrijgt: de kleur, de x-coördinaat en de y-co&ouml;rdinaat.</p>\n",
    "\n",
    "<p>Tips:\n",
    "</p>\n",
    "<ul>\n",
    "    <li>met <code>turtle.setposition(x,y)</code> kun je Turtle naar co&ouml;rdinaat (x,y) laten lopen;\n",
    "    </li>\n",
    "    <li>met <code>turtle.circle(50)</code> kun je een cirkel met straal 50 laten tekenen;\n",
    "    </li>\n",
    "    <li>met <code>turtle.pencolor(\"red\")</code> kun je een penkleur aangeven.\n",
    "    </li>\n",
    "</ul>\n",
    "<p></p>"
   ]
  },
  {
   "cell_type": "code",
   "execution_count": null,
   "metadata": {
    "tags": [
     "Opdracht"
    ]
   },
   "outputs": [],
   "source": [
    "import turtle\n",
    "### FUNCTIEDEFINITIE:\n",
    "\n",
    "### HOOFDPROGRAMMA:\n",
    "\n",
    "turtle.done()\n",
    "\n"
   ]
  },
  {
   "cell_type": "markdown",
   "metadata": {},
   "source": [
    "<p>Bekijk <a href=\"Https://course.cs.ru.nl/pythonVO/Teams/IA_uitwerkingen/IA_H5_oplossingen.html#AfOpgave52\" target=\"_blank\">hier</a> de voorbeelduitwerking.</p>\n"
   ]
  },
  {
   "cell_type": "markdown",
   "metadata": {},
   "source": [
    "### Afsluitende opdracht 5.3: Wat voor een getal?\n",
    "\n",
    "<p>Schrijf een functie die een getal als parameter krijgt en afdrukt of dit kleiner is dan 0, gelijk is aan 0 of groter is dan 0.</p>\n",
    "\n",
    "<p>Dus, als je functie het getal 2 meekrijgt (bv. <code>checkGetal(2)</code> ), moet de functie afdrukken: \"Het getal 2 is groter dan 0.\"</p>\n",
    "\n",
    "<p>Test je functie. Welke testgevallen zijn geschikt om te testen of je functie altijd goed werkt?</p>\n",
    "  <p>Tip: Er zijn minstens drie testgevallen, dus je roept je functie minstens drie keer aan om te testen.</p>\n"
   ]
  },
  {
   "cell_type": "code",
   "execution_count": null,
   "metadata": {
    "tags": [
     "Opdracht"
    ]
   },
   "outputs": [],
   "source": [
    "### FUNCTIEDEFINITIE\n",
    "# typ hier je functie\n",
    "\n",
    "### HOOFDPROGRAMMA MET AANROEP VAN FUNCTIE\n",
    "# typ hier je functie aanroep"
   ]
  },
  {
   "cell_type": "markdown",
   "metadata": {},
   "source": [
    "<p>Bekijk <a href=\"Https://course.cs.ru.nl/pythonVO/Teams/IA_uitwerkingen/IA_H5_oplossingen.html#AfOpgave53\" target=\"_blank\">hier</a> de voorbeelduitwerking.</p>\n"
   ]
  },
  {
   "cell_type": "markdown",
   "metadata": {},
   "source": [
    "### Afsluitende opdracht 5.4: Tekenprogramma\n",
    "\n",
    "<p>Het onderstaande programma heeft functies voor het tekenen van verschillende vormen. Breid het hoofdprogramma uit zodat je de gebruiker vraagt welke figuur die wil laten tekenen of dat ze allemaal getekend moeten worden: <i>\"Wat wil je dat ik teken: een cirkel, een vierkant, een driehoek of allemaal.\"</i> en het dan ook tekent. Als de gebruiker iets anders intypt, geef dan een foutmelding.</p>\n"
   ]
  },
  {
   "cell_type": "code",
   "execution_count": null,
   "metadata": {
    "tags": [
     "Opdracht"
    ]
   },
   "outputs": [],
   "source": [
    "import turtle\n",
    "### FUNCTIEDEFINITIES\n",
    "def tekenCirkel():\n",
    "    turtle.circle(50)\n",
    "\n",
    "def tekenDriehoek():\n",
    "    for i in range(3):\n",
    "        turtle.forward(100)\n",
    "        turtle.right(120)\n",
    "\n",
    "def tekenVierkant():\n",
    "    for i in range(4):\n",
    "        turtle.forward(100)\n",
    "        turtle.right(90)\n",
    "\n",
    "### HOOFDPROGRAMMA\n",
    "print(\"Wat wil je dat ik teken: cirkel, vierkant, driehoek, of allemaal.\")\n",
    "\n",
    "\n",
    "\n",
    "\n",
    "\n",
    "print(\"Klaar\")\n",
    "turtle.done()"
   ]
  },
  {
   "cell_type": "markdown",
   "metadata": {},
   "source": [
    "<p>Bekijk <a href=\"Https://course.cs.ru.nl/pythonVO/Teams/IA_uitwerkingen/IA_H5_oplossingen.html#AfOpgave54\" target=\"_blank\">hier</a> de voorbeelduitwerking.</p>\n"
   ]
  },
  {
   "cell_type": "markdown",
   "metadata": {},
   "source": [
    "### Afsluitende opdracht 5.5: Bereken je cijfer\n",
    "\n",
    "<p>Je cijfer op een wiskundetoets bestaande uit 60 punten wordt zo berekend:</p>\n",
    "<p> <code>cijfer = (aantal_punten*9) / 60 + 1</code>\n",
    "\n",
    "</p>\n",
    "<p>Heb je 40 punten gehaald, dan is je cijfer een 7.</p>\n",
    "\n",
    "<p>Schrijf een functie <code>berekenCijfer(aantal_punten)</code> die, gegeven het aantal behaalde punten, je cijfer uitrekent en print. In je hoofdprogramma roep je de functie aan. Test je code met verschillende waarden. Hoeveel punten moet je halen voor een 10? En wat is je cijfer als je 0 punten scoort?</p>\n"
   ]
  },
  {
   "cell_type": "code",
   "execution_count": null,
   "metadata": {
    "tags": [
     "Opdracht"
    ]
   },
   "outputs": [],
   "source": []
  },
  {
   "cell_type": "markdown",
   "metadata": {},
   "source": [
    "<p>Bekijk <a href=\"Https://course.cs.ru.nl/pythonVO/Teams/IA_uitwerkingen/IA_H5_oplossingen.html#AfOpgave55\" target=\"_blank\">hier</a> de voorbeelduitwerking.</p>\n"
   ]
  },
  {
   "cell_type": "markdown",
   "metadata": {},
   "source": [
    "### Afsluitende opdracht 5.6: Dorp tekenen: functies aanroepen vanuit andere functies\n",
    "\n",
    "<p>We gaan verder met de code voor het tekenen van een huis waarbij we twee functies hebben:\n",
    "</p>\n",
    "<ol>\n",
    "    <li><code>tekenMuren()</code>: voor het tekenen van de muren\n",
    "    </li>\n",
    "    <li><code>tekenDak()</code>: voor het tekenen van het dak\n",
    "    </li>\n",
    "</ol>\n",
    "<p></p>\n",
    "\n",
    "<p><b>Deel A. Functie voor een huis</b></p>\n",
    "<p>We maken een functie voor een huis zodat je deze makkelijk vaker kunt aanroepen.\n",
    "\n",
    "Schrijf een functie <code>tekenHuis()</code> voor het tekenen van een huis:\n",
    "\n",
    "</p>\n",
    "<ul>\n",
    "    <li>Op regel 25 schrijf je in commentaar wat je functie moet doen (zoals op regels 5 en 15).\n",
    "    </li>\n",
    "    <li>Op regel 26 maak je een functiedefinitie: <code>def ... </code> (maak zelf verder af).\n",
    "    </li>\n",
    "    <li>Binnen de functie roep je de functies <code>tekenMuren()</code> en <code>tekenDak()</code> aan op regels 27 en 28. <br>Tip: let erop dat je inspringt.\n",
    "    </li>\n",
    "    <li> In het hoofdprogramma op regel 31 wordt de functie <code>tekenHuis()</code> al aangeroepen. Test of het werkt.\n",
    "    </li>\n",
    "</ul>\n",
    "<p></p>\n",
    "\n",
    "<p><b>DEEL B. Dorp tekenen</b></p>\n",
    "<p>Om een dorp te tekenen roep je <code>tekenHuis()</code> een aantal keer achter elkaar aan (in het hoofdprogramma).</p>\n",
    "<p>Tussendoor verplaats je het startpunt voor het tekenen met <code>turtle.setposition(x, y)</code> waarbij je voor x- en y-co&ouml;rdinaat bijvoorbeeld <code>turtle.setposition(250, 0)</code> kiest.</p>\n",
    "<p>Met <code>turtle.setheading(0)</code> zorg je dat de pen in de juiste startrichting staat (naar rechts).</p>\n",
    "<p>Met <code>turtle.penup()</code> zorg je dat er tussendoor geen lijntje wordt getekend. Wil je weer tekenen, gebruik dan weer <code>turtle.pendown()</code>.</p>\n"
   ]
  },
  {
   "cell_type": "code",
   "execution_count": null,
   "metadata": {
    "tags": [
     "Opdracht"
    ]
   },
   "outputs": [],
   "source": [
    "import turtle\n",
    "\n",
    "### FUNCTIEDEFINITIES\n",
    "\n",
    "#Tekent zwarte vierkant\n",
    "def tekenMuren():\n",
    "\tturtle.forward(150)\n",
    "\tturtle.right(90)\n",
    "\tturtle.forward(150)\n",
    "\tturtle.right(90)\n",
    "\tturtle.forward(150)\n",
    "\tturtle.right(90)\n",
    "\tturtle.forward(150)\n",
    "\n",
    "#Tekent een rood gevulde dak\n",
    "def tekenDak():\n",
    "\tturtle.fillcolor(\"red\")\n",
    "\tturtle.begin_fill()\n",
    "\tturtle.right(30)\n",
    "\tturtle.forward(150)\n",
    "\tturtle.right(120)\n",
    "\tturtle.forward(150)\n",
    "\tturtle.end_fill()\n",
    "\n",
    "\n",
    "\n",
    "\n",
    "\n",
    "\n",
    "### HOOFDPROGRAMMA\n",
    "tekenHuis()\n",
    "\n",
    "turtle.done()"
   ]
  },
  {
   "cell_type": "markdown",
   "metadata": {},
   "source": [
    "<p>Bekijk <a href=\"Https://course.cs.ru.nl/pythonVO/Teams/IA_uitwerkingen/IA_H5_oplossingen.html#AfOpgave56\" target=\"_blank\">hier</a> de voorbeelduitwerking.</p>\n"
   ]
  },
  {
   "cell_type": "markdown",
   "metadata": {},
   "source": [
    "### Afsluitende opdracht 5.7: De wielen van de bus\n",
    "\n",
    "<p>Hieronder staat de tekst van het kinderlied <i>De wielen van de bus</i>. Zoals je ziet, is er best veel herhaling. Elk couplet lijkt veel op het vorige; alleen het <i>onderdeel van de bus</i> en de bijbehorende <i>actie</i> zijn anders..</p>\n",
    "\n",
    "<ol style=\"list-style-type: lower-alpha\">\n",
    "    <li>Schrijf een functie <code>zingCouplet()</code> die het eerste couplet afdrukt. Hiervoor gebruik je vier keer een <code>print()</code>: een <code>print()</code> per tekstregel.\n",
    "    </li>\n",
    "    <li>Pas de functie <code>zingCouplet()</code> aan zodat die twee parameters meekrijgt: een <code>onderdeel</code> en <code>actie</code>.\n",
    "    </li>\n",
    "    <li>In de code van de functie vervang je <i>wielen</i> door <code>onderdeel</code> en <i>draaien rond</i> vervang je door <code>actie</code>.\n",
    "    </li>\n",
    "    <li>Roep je functie aan met <code>zingCouplet( \"wielen\", \"draaien rond\" )</code>.\n",
    "    </li>\n",
    "    <li>Roep vervolgens de functie <code>zingCouplet()</code> een paar keer aan, telkens met andere parameters voor de volgende drie coupletten.\n",
    "    </li>\n",
    "</ol>\n",
    "<p>Tip: Een lege regel druk je af met <code>print( )</code>. Bedenk waar je dat het handigst kan doen. Je hoeft je niet druk te maken om hoofdletters.</p>\n",
    "\n",
    "<p>\n",
    "<i>De wielen van de bus draaien rond<br>\n",
    "    Draaien rond, draaien rond<br>\n",
    "    De wielen van de bus draaien rond<br>\n",
    "    Als de bus gaat rijden</i><br><br>\n",
    "\n",
    "<i>De deuren van de bus gaan open en dicht<br>\n",
    "    Gaan open en dicht, gaan open en dicht<br>\n",
    "    De deuren van de bus gaan open en dicht<br>\n",
    "    Als de bus gaat rijden</i><br><br>\n",
    "\n",
    "<i>De wissers van de bus gaan heen en weer<br>\n",
    "    Gaan heen en weer, gaan heen en weer<br>\n",
    "    De wissers van de bus gaan heen en weer<br>\n",
    "    Als de bus gaat rijden</i><br><br>\n",
    "\n",
    "<i>De lichten van de bus gaan aan en uit<br>\n",
    "    Gaan aan en uit, gaan aan en uit<br>\n",
    "    De lichten van de bus gaan aan en uit<br>\n",
    "    Als de bus gaat rijden</i>\n",
    "</p>"
   ]
  },
  {
   "cell_type": "code",
   "execution_count": null,
   "metadata": {
    "tags": [
     "Opdracht"
    ]
   },
   "outputs": [],
   "source": []
  },
  {
   "cell_type": "markdown",
   "metadata": {},
   "source": [
    "<p>Bekijk <a href=\"Https://course.cs.ru.nl/pythonVO/Teams/IA_uitwerkingen/IA_H5_oplossingen.html#AfOpgave57\" target=\"_blank\">hier</a> de voorbeelduitwerking.</p>\n"
   ]
  }
 ],
 "metadata": {
  "kernelspec": {
   "display_name": "Python 3",
   "language": "python",
   "name": "python3"
  },
  "language_info": {
   "codemirror_mode": {
    "name": "ipython",
    "version": 3
   },
   "file_extension": ".py",
   "mimetype": "text/x-python",
   "name": "python",
   "nbconvert_exporter": "python",
   "pygments_lexer": "ipython3",
   "version": "3.12.2"
  }
 },
 "nbformat": 4,
 "nbformat_minor": 2
}
