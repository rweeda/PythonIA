{
 "cells": [
  {
   "cell_type": "markdown",
   "metadata": {},
   "source": [
    "## 6: Overzichtelijk hoofdprogramma\n",
    "\n",
    "<div style=\"display:flex\">\n",
    "<p>Het grote voordeel van functies is dat het hoofdprogramma nu duidelijk samenvat wat de\n",
    "    code als geheel doet, zonder dat je naar allerlei codedetails hoeft te kijken. Dat zie je in de code van de vorige opdracht ook: in het hoofdprogramma wordt de pen neergezet, snoep getekend en daarna het stokje:</p>\n",
    "<p><img src=\"https://raw.githubusercontent.com/rweeda/PythonIA/main/img/Python6_opgaveTekenSnoep_afbeelding.jpg\" alt=\"Lolly\" width=\"250\" class=\"img-responsive atto_image_button_right\"></p>\n",
    "</div>\n",
    "\n",
    "\n",
    "\n",
    "\n"
   ]
  },
  {
   "cell_type": "code",
   "execution_count": null,
   "metadata": {},
   "outputs": [],
   "source": [
    "### HOOFDPROGRAMMA\n",
    "turtle.pendown()\n",
    "tekenSnoep()\n",
    "tekenStok()"
   ]
  },
  {
   "cell_type": "markdown",
   "metadata": {},
   "source": [
    "<p>Dit leest als een soort inhoudsopgave van een boek. Als je details wilt zien ga je naar de bijbehorende functiedefinitie. Als je bijvoorbeeld wilt zien hoe groot het snoeprondje precies getekend wordt, kun je naar de code van <code>tekenSnoep()</code> gaan.</p>"
   ]
  }
 ],
 "metadata": {
  "kernelspec": {
   "display_name": "Python 3",
   "language": "python",
   "name": "python3"
  },
  "language_info": {
   "codemirror_mode": {
    "name": "ipython",
    "version": 3
   },
   "file_extension": ".py",
   "mimetype": "text/x-python",
   "name": "python",
   "nbconvert_exporter": "python",
   "pygments_lexer": "ipython3",
   "version": "3.12.2"
  }
 },
 "nbformat": 4,
 "nbformat_minor": 2
}
