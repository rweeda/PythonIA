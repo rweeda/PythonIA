{
 "cells": [
  {
   "cell_type": "markdown",
   "metadata": {},
   "source": [
    "## 5: Volgorde van code uitvoer met functies\n",
    "\n",
    "<p>We bekijken nu de volgorde waarin code met functies uitgevoerd wordt.</p>\n"
   ]
  },
  {
   "cell_type": "code",
   "execution_count": null,
   "metadata": {},
   "outputs": [],
   "source": [
    "### FUNCTIEDEFINITIE\n",
    "def totZiens():\n",
    "\tprint( \"..en dan..\")\n",
    "\tprint( \"tot ziens!\" )\n",
    "\n",
    "### HOOFDPROGRAMMA MET AANROEP VAN FUNCTIE\n",
    "print( \"Hallo!\" )\n",
    "totZiens()\n",
    "print( \"Klaar! \")"
   ]
  },
  {
   "cell_type": "markdown",
   "metadata": {},
   "source": [
    "<ol>\n",
    "    <li>Bij het uitvoeren van het programma worden de functiedefinities overgeslagen: er wordt meteen naar het hoofdprogramma gesprongen. Daar wordt als eerste <i>\"Hallo!\"</i> geprint (regel 7).\n",
    "    </li>\n",
    "    <li>Daarna wordt de functie <code>totZiens()</code> aangeroepen (regel 8).\n",
    "    </li>\n",
    "    <li>Het programma springt naar de definitie van <code>totZiens()</code> (regel 2).\n",
    "    </li>\n",
    "    <li>De eerste regel in de functie print de tekst <i>\"..en dan.. \"</i>\" (regel 3)\n",
    "    </li>\n",
    "    <li>De volgende regel in de functie print <i>\"tot ziens!\"</i> (regel 4).\n",
    "    </li>\n",
    "    <li>Dan is de functie afgelopen (er wordt namelijk niet meer ingesprongen).\n",
    "    </li>\n",
    "    <li>Na afloop van de functie wordt teruggekeerd naar het hoofdprogramma, waar verder wordt gegaan met de volgende regel code: <code>print( \"Klaar!\" )</code> (regel 9).\n",
    "    </li>\n",
    "    <li>Het programma is dan klaar en stopt.\n",
    "    </li>\n",
    "</ol>\n",
    "<p></p>\n",
    "<p>Functiedefinities worden dus in eerste instantie overgeslagen. De code van een functie wordt alleen uitgevoerd als de functie wordt aangeroepen.</p>\n"
   ]
  },
  {
   "cell_type": "markdown",
   "metadata": {},
   "source": [
    "### Opdracht 5.2: Een functie aanroepen\n",
    "\n",
    "<p>Door functies aan te roepen ga je nu heel makkelijk het volgende tekenen:</p>\n",
    "<div class=\"figure\">\n",
    "    <img src=\"http://course.cs.ru.nl/pythonVO/Jupyter/img/Python6_opgaveFunctieAanroep2Vierkanten.png\" width=\"200\" alt=\"2 vierkanten\">\n",
    "</div>\n",
    "\n",
    "<p>In de code hieronder staat een functiedefinitie voor het tekenen van een vierkant.</p>\n",
    "<p>Jouw opdracht is om deze te gebruiken om de bovenstaande afbeelding met twee vierkantjes te maken. Maak de afbeelding door in het hoofdprogramma het volgende te doen:\n",
    "</p>\n",
    "<ol>\n",
    "    <li>op regel 17: de functie <code>tekenVierkant()</code> aan te roepen;\n",
    "    </li>\n",
    "    <li>op regel 18: 45 graden naar rechts te draaien;\n",
    "    </li>\n",
    "    <li>op regel 19: de functie <code>tekenVierkant()</code> nog eens aan te roepen.\n",
    "    </li>\n",
    "</ol>\n",
    "<p></p>"
   ]
  },
  {
   "cell_type": "code",
   "execution_count": 1,
   "metadata": {
    "tags": [
     "Opdracht"
    ]
   },
   "outputs": [],
   "source": [
    "import turtle\n",
    "### FUNCTIEDEFINITIE\n",
    "\n",
    "#Definitie: Instructies voor het tekenen van een vierkant met grootte van 20\n",
    "def tekenVierkant(  ):\n",
    "    turtle.forward( 20 )\n",
    "    turtle.right(90)\n",
    "    turtle.forward( 20 )\n",
    "    turtle.right(90)\n",
    "    turtle.forward( 20 )\n",
    "    turtle.right(90)\n",
    "    turtle.forward( 20 )\n",
    "    turtle.right(90)\n",
    "\n",
    "### HOOFDPROGRAMMA MET AANROEP VAN FUNCTIE\n",
    "turtle.pendown()\n",
    "#Stap1: roep hier de functie aan voor tekenen van vierkant\n",
    "#Stap2: draai rechts 45 graden\n",
    "#Stap3: roep hier de functie aan voor tekenen van vierkant\n",
    "\n",
    "turtle.done()"
   ]
  },
  {
   "cell_type": "markdown",
   "metadata": {},
   "source": [
    "<p>Bekijk <a href=\"Https://course.cs.ru.nl/pythonVO/Teams/IA_uitwerkingen/IA_H5_oplossingen.html#opgave532\" target=\"_blank\">hier</a> de voorbeelduitwerking.</p>\n"
   ]
  },
  {
   "cell_type": "markdown",
   "metadata": {},
   "source": [
    "### Opdracht 5.3: Een eigen functie maken: <code>tekenSnoep()</code>\n",
    "\n",
    "<p>Je gaat nu een eigen functie maken voor het tekenen van een lolly:</p>\n",
    "<img src=\"http://course.cs.ru.nl/pythonVO/Jupyter/img/Python6_opgaveTekenSnoep_afbeelding.jpg\" width=\"100\" alt=\"Lolly\">\n",
    "<br>\n",
    "\n",
    "<p>De code hieronder tekent een lolly. Dat gebeurt zo:\n",
    "</p>\n",
    "<ul>\n",
    "    <li>het rode snoeprondje in het eerste deel: coderegels 6 t/m 9;\n",
    "    </li>\n",
    "    <li>het zwarte stokje in het tweede deel: coderegels 12 en 13.\n",
    "    </li>\n",
    "</ul>\n",
    "<p></p>\n",
    "\n",
    "<p>Ieder blok code heeft zijn eigen taak. Het is daarom logisch om hier twee functies van te maken:\n",
    "</p>\n",
    "<ul>\n",
    "    <li><code>tekenSnoep()</code>\n",
    "    </li>\n",
    "    <li><code>tekenStok()</code>\n",
    "    </li>\n",
    "</ul>\n",
    "<p></p>\n",
    "\n",
    "<p>Jouw opdracht:\n",
    "</p>\n",
    "<ol>\n",
    "    <li>Maak een functiedefinitie <code>def tekenSnoep():</code> voor het tekenen van het snoep (dus voor de code regels 6 t/m 9);\n",
    "    </li>\n",
    "    <li>Roep je functie <code>tekenSnoep()</code> aan in het hoofdprogramma;\n",
    "    </li>\n",
    "    <li>Maak een functiedefinitie voor <code>tekenStok()</code> die je kunt gebruiken voor het tekenen van de stok.\n",
    "    </li>\n",
    "    <li>Roep je functie <code>tekenStok()</code> aan in het hoofdprogramma.\n",
    "    </li>\n",
    "</ol>"
   ]
  },
  {
   "cell_type": "code",
   "execution_count": null,
   "metadata": {
    "tags": [
     "Opdracht"
    ]
   },
   "outputs": [],
   "source": [
    "import turtle\n",
    "\n",
    "#### FUNCTIEDEFINITIES\n",
    "\n",
    "# code voor het tekenen van het snoep:\n",
    "turtle.fillcolor(\"red\")\n",
    "turtle.begin_fill()\n",
    "turtle.circle(30)\n",
    "turtle.end_fill()\n",
    "\n",
    "# code voor het tekenen van de stok:\n",
    "turtle.right(90)\n",
    "turtle.forward(100)\n",
    "\n",
    "### HOOFDPROGRAMMA\n",
    "turtle.pendown()\n",
    "#roep hier je functie tekenSnoep() aan\n",
    "#roep hier je functie tekenStok() aan\n",
    "\n",
    "turtle.done()"
   ]
  },
  {
   "cell_type": "markdown",
   "metadata": {},
   "source": [
    "<p>Bekijk <a href=\"Https://course.cs.ru.nl/pythonVO/Teams/IA_uitwerkingen/IA_H5_oplossingen.html#opgave533\" target=\"_blank\">hier</a> de voorbeelduitwerking.</p>"
   ]
  }
 ],
 "metadata": {
  "kernelspec": {
   "display_name": "Python 3",
   "language": "python",
   "name": "python3"
  },
  "language_info": {
   "codemirror_mode": {
    "name": "ipython",
    "version": 3
   },
   "file_extension": ".py",
   "mimetype": "text/x-python",
   "name": "python",
   "nbconvert_exporter": "python",
   "pygments_lexer": "ipython3",
   "version": "3.11.8"
  }
 },
 "nbformat": 4,
 "nbformat_minor": 2
}
