{
 "cells": [
  {
   "cell_type": "markdown",
   "metadata": {},
   "source": [
    "## 4: Eigen functies maken\n",
    "\n",
    "[![Watch the video](https://img.youtube.com/vi/iqC0BNj3TF8/hqdefault.jpg)](https://www.youtube.com/embed/iqC0BNj3TF8)\n",
    "\n",
    "<p>Je kunt ook zelf een functie schrijven. Dan moet je bedenken hoe die heet, wat de parameters zijn en wat het oplevert. In het algemeen ziet dat er zo uit:</p>\n",
    "\n",
    "<pre code=\"python\">\n",
    "def functienaam ( parameter1_naam, parameter2_naam ):\n",
    "    actie()\n",
    "    return resultaat # als de functie iets oplevert, gebeurt dit pas aan het einde\n",
    "</pre>\n",
    "\n"
   ]
  },
  {
   "cell_type": "markdown",
   "metadata": {},
   "source": [
    "<p><b>Functienaam</b></p>\n",
    "<p>Een functienaam moet duidelijk omschrijven wat een functie <i>doet</i>: gebruik daarom <i>werkwoorden</i>. Bestaat de naam uit meerdere woorden, plak die dan aan elkaar en begin elk nieuw woord met een hoofdletter. Bijvoorbeeld: <code>berekenOppervlakte</code>.</p>\n",
    "\n",
    "<p><b>Functiedefinitie</b></p>\n",
    "<p>Een <i>functiedefinitie</i> is een beschrijving van een functie. Met een <code>def</code> geef je aan dat het om een definitie gaat. Daarna volgen de parameter(s) en een '<code>:</code>'. De code die bij een functie hoort, staat daaronder ingesprongen.</p>\n",
    "\n",
    "<p>Voor de overzichtelijkheid zet je functiedefinities bij elkaar bovenaan de code.</p>\n",
    "\n",
    "\n",
    "\n",
    "<p><b>Voorbeeld van een programma met een eigen functie</b></p>\n",
    "<p>Bekijk en run het onderstaand programma.</p>"
   ]
  },
  {
   "cell_type": "code",
   "execution_count": null,
   "metadata": {},
   "outputs": [],
   "source": [
    "### FUNCTIEDEFINITIE\n",
    "def totZiens():\n",
    "\tprint( \"..en dan..\")\n",
    "\tprint( \"tot ziens!\" )\n",
    "\n",
    "### HOOFDPROGRAMMA MET AANROEP VAN FUNCTIE\n",
    "print( \"Hallo!\" )\n",
    "totZiens()\n",
    "print( \"Klaar! \")"
   ]
  },
  {
   "cell_type": "markdown",
   "metadata": {},
   "source": [
    "<p>Met <b>SHIFT</b> + <b>L</b> maak je regelnummers zichtbaar.</p>\n",
    "<p>De code is opgebouwd uit twee delen:\n",
    "</p>\n",
    "<ol>\n",
    "    <li><b>Functiedefinitie</b> (<code>def</code>): Dit programma heeft &eacute;&eacute;n functie, namelijk: <code>totZiens()</code> (regel 2). Deze functie heeft geen parameters (er staat niets tussen de haakjes). De twee ingesprongen regels horen bij de\n",
    "        functie (regels 3 en 4);</li>\n",
    "    <li><b>Hoofdprogramma</b>: Omdat functiedefinities alleen beschrijvingen zijn, wordt de code daarvan niet zomaar uitgevoerd. Python begint bij het uitvoeren van de regels van het hoofdprogramma (regel 7). Deze coderegels worden &eacute;&eacute;n-voor-&eacute;&eacute;n uitgevoerd.\n",
    "        Functiedefinities horen dus niet bij het hoofdprogramma.</li>\n",
    "</ol>\n",
    "<p></p>\n",
    "\n",
    "<p>Hieronder zie je een stroomdiagram voor het hoofdprogramma.</p>\n",
    "<div class=\"figure\">\n",
    "    <img height=\"30%\" width=\"30%\" src=\"https://raw.githubusercontent.com/rweeda/PythonIA/main/img/Python5voorbeeld_Stroomdiagram_Hoofdprogramma.jpg\" alt=\"Stroomdiagram hoofdprogramma met functieaanroep\">\n",
    "</div>\n",
    "\n",
    "\n",
    "<p>De code van een functie wordt niet zomaar uitgevoerd; dat gebeurt pas als <code>totZiens()</code> in het hoofdprogramma aangeroepen wordt.</p>\n",
    "\n",
    "\n",
    "<p>Bekijk eventueel het volgende filmpje voor een <b>extra</b> uitleg over functies (tip: zet eventueel ondertitels aan):</p>\n",
    "\n",
    "[![Watch the video](https://img.youtube.com/vi/owglNL1KQf0/hqdefault.jpg)](https://www.youtube.com/embed/owglNL1KQf0)"
   ]
  }
 ],
 "metadata": {
  "kernelspec": {
   "display_name": "Python 3",
   "language": "python",
   "name": "python3"
  },
  "language_info": {
   "codemirror_mode": {
    "name": "ipython",
    "version": 3
   },
   "file_extension": ".py",
   "mimetype": "text/x-python",
   "name": "python",
   "nbconvert_exporter": "python",
   "pygments_lexer": "ipython3",
   "version": "3.12.2"
  }
 },
 "nbformat": 4,
 "nbformat_minor": 2
}
