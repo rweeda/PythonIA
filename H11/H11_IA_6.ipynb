{
 "cells": [
  {
   "cell_type": "markdown",
   "metadata": {},
   "source": [
    "## 6: Geneste lijsten"
   ]
  },
  {
   "cell_type": "markdown",
   "metadata": {},
   "source": [
    "[![Watch the video](https://img.youtube.com/vi/Va1qjcoCZnQ/hqdefault.jpg)](https://www.youtube.com/embed/Va1qjcoCZnQ)\n"
   ]
  },
  {
   "cell_type": "markdown",
   "metadata": {},
   "source": [
    "<p>Je kunt ook lijsten van lijsten maken. Eigenlijk is dit een tabel (of\n",
    "    matrix). Tabellen kom je overal tegen, bijvoorbeeld voor je resultaten van een\n",
    "    natuurkunde-experiment of om bij te houden welke stoelen in een bioscoop\n",
    "    zijn gereserveerd. Daarnaast worden deze tweedimensionale lijsten ook\n",
    "    gebruikt om plaatjes in de computer te representeren (weet je nog, bitmap?)\n",
    "    of bij computerspellen:</p>\n",
    "\n",
    "\n",
    "<div style=\"display:flex\">\n",
    "<img src=\"https://course.cs.ru.nl/pythonVO/img/bitmapImage.PNG\" width=\"100\" alt=\"Bitmap representatie\">\n",
    "<img src=\"https://course.cs.ru.nl/pythonVO/img/schaakbord.PNG\" width=\"100\" alt=\"Schaakbord\">\n",
    "<img src=\"https://course.cs.ru.nl/pythonVO/img/minesweeper_small.png\" width=\"100\" alt=\"Mijnenveger\">\n",
    "</div>\n",
    "\n",
    "<p>In het voorbeeld hieronder staan drie lijsten (drie rijen) genest in een lijst,\n",
    "    samen vormen ze een tabel met X,O,-. Zo kun je bijvoorbeeld een\n",
    "    boter-kaas-eierenbord bouwen (een liggend streepje is een lege cel). Om bij\n",
    "    een element in een geneste lijst te komen, moet je beide indexen geven, net\n",
    "    als een soort coördinaat. Met <code>bord[0][0]</code> kom je bij het element linksboven en met <code>bord[0][2]</code> bij het element rechtsboven.</p>\n"
   ]
  },
  {
   "cell_type": "code",
   "execution_count": null,
   "metadata": {},
   "outputs": [],
   "source": [
    "bord = [ [\"X\", \"O\", \"-\"], [\"X\", \"O\", \"O\"], [\"-\", \"X\", \"-\"] ]\n",
    "\n",
    "print( bord[0][0], bord[0][1], bord[0][2] )\n",
    "print( bord[1][0], bord[1][1], bord[1][2] )\n",
    "print( bord[2][0], bord[2][1], bord[2][2] )"
   ]
  },
  {
   "cell_type": "markdown",
   "metadata": {},
   "source": [
    "### Opdracht 11.6 Winnen met Boter-kaas-eieren\n",
    "<p>Win\n",
    "    het spel hieronder door op regel 3 maar één regel code toe te\n",
    "    voegen. Gebruik de co&ouml;rdinaten/indexen om een '-' in een 'X' te\n",
    "    veranderen.</p>"
   ]
  },
  {
   "cell_type": "code",
   "execution_count": null,
   "metadata": {},
   "outputs": [],
   "source": [
    "bord = [ [\"X\", \"O\", \"-\"], [\"X\", \"O\", \"O\"], [\"-\", \"X\", \"-\"] ]\n",
    "\n",
    " #Win het spel door hier 1 regel code toe te voegen, daardoor verander je een - in een X te veranderen\n",
    "\n",
    "print( bord[0][0], bord[0][1], bord[0][2] ) #print eerst rij van bord\n",
    "print( bord[1][0], bord[1][1], bord[1][2] ) #print tweede rij van bord\n",
    "print( bord[2][0], bord[2][1], bord[2][2] ) #print derde rij van bord"
   ]
  },
  {
   "cell_type": "markdown",
   "metadata": {},
   "source": [
    "<p>Bekijk <a href=\"https://rweeda.github.io/PythonIA/docs/IA_H12_oplossingen.html#opgave1241\">hier</a> een voorbeelduitwerking.</p>"
   ]
  }
 ],
 "metadata": {
  "kernelspec": {
   "display_name": "Python 3",
   "language": "python",
   "name": "python3"
  },
  "language_info": {
   "codemirror_mode": {
    "name": "ipython",
    "version": 3
   },
   "file_extension": ".py",
   "mimetype": "text/x-python",
   "name": "python",
   "nbconvert_exporter": "python",
   "pygments_lexer": "ipython3",
   "version": "3.11.8"
  }
 },
 "nbformat": 4,
 "nbformat_minor": 2
}
