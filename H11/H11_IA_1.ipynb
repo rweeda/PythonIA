{
 "cells": [
  {
   "cell_type": "markdown",
   "metadata": {},
   "source": [
    "## 1: Inleiding geneste <code>for</code>-loops\n",
    "\n",
    "<p>Een loop mag ook in een andere loop. Dit kan je gebruiken om alle combinaties van twee dingen af te drukken. Bijvoorbeeld: combinaties van coördinaten. Je wil dan per x-coördinaat elke y-coördinaat gebruiken.</p>\n"
   ]
  },
  {
   "cell_type": "code",
   "execution_count": null,
   "metadata": {},
   "outputs": [],
   "source": [
    "for x in range (2):\n",
    "  for y in range (3):\n",
    "    print(x,y)\n",
    "\n",
    "print(\"Of met haakjes:\")\n",
    "for x in range (4):\n",
    "  for y in range (3):\n",
    "    print(\"(\",x,\",\",y, \")\", end=\"\") #de end zorgt ervoor dat niet met nieuwe regel begonnen wordt\n",
    "  print()"
   ]
  },
  {
   "cell_type": "markdown",
   "metadata": {},
   "source": [
    "<p>Wat gebeurt hier?\n",
    "</p>\n",
    "<ul>\n",
    "    <li>Voor elke waarde van <code>x&nbsp;</code>worden alle waarden van <code>y</code> afgedrukt.</li>\n",
    "    <li>In de \"buitenste loop\" verandert&nbsp;<code>x</code> steeds.</li>\n",
    "    <li>In de \"binnenste loop\" verandert&nbsp;<code>y</code> steeds.</li>\n",
    "</ul>\n",
    "<p></p>\n",
    "<p>Dat zie je ook aan de uitvoer: <code>x</code> blijft eerst op 0 blijft staan, terwijl <code>y</code> steeds verandert. Pas als <code>y</code> zijn maximale waarde heeft bereikt (hier 3), gaat <code>x</code>&nbsp;omhoog en dan doorloopt <code>y</code> weer alle mogelijkheden.</p>\n",
    "\n",
    "<!--\n",
    "Bekijk eventueel het volgende filmpje voor <b>extra</b> uitleg over geneste lijsten:<br>\n",
    "<p><iframe width=\"185\" height=\"105\" src=\"https://www.youtube.com/embed/Go-FfGhxbSM?rel=0\" frameborder=\"0\" allow=\"autoplay; encrypted-media\" allowfullscreen></iframe></p>\n",
    "-->"
   ]
  }
 ],
 "metadata": {
  "kernelspec": {
   "display_name": "Python 3",
   "language": "python",
   "name": "python3"
  },
  "language_info": {
   "codemirror_mode": {
    "name": "ipython",
    "version": 3
   },
   "file_extension": ".py",
   "mimetype": "text/x-python",
   "name": "python",
   "nbconvert_exporter": "python",
   "pygments_lexer": "ipython3",
   "version": "3.12.8"
  }
 },
 "nbformat": 4,
 "nbformat_minor": 2
}
