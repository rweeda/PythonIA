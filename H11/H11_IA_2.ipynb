{
 "cells": [
  {
   "cell_type": "markdown",
   "metadata": {},
   "source": [
    "## 2: Herhaling <code>for</code>-loop\n",
    "<p>We herhalen nu kort de <code>for</code>-loop.</p>\n",
    "\n",
    "<p>Ter herinnering: er zijn twee manieren om een loop (herhaling) te maken: met <code>for</code> en met\n",
    "    <code>while</code>. Met een <code>while</code> kun je elke herhaling maken. De <code>for</code> is iets\n",
    "    makkelijker om te schrijven, maar kan je alleen gebruiken als je vooraf precies weet hoe vaak code herhaald moet\n",
    "    worden.\n",
    "</p>\n",
    "\n",
    "<p>Er zijn drie soorten <code>for</code>-loops (zie ook <b>Onderwerp 8</b> paragraaf '6: Samenvatting van de for-loop'), afhankelijk van het aantal parameters je meegeeft:</p>\n",
    "\n",
    "<ol>\n",
    "    <li>Paragraaf&nbsp;'1: Herhalingen met een for-loop': Je kunt één getal meegeven. Dan loopt de teller\n",
    "        van 0 tot (en niet <i>tot en met</i>) dat getal.<br>Bijvoorbeeld: <br>\n",
    "        <code>for teller in range(5)</code> <br>herhaalt van 0\n",
    "            tot 5, dus vijf keer.</p>\n",
    "    </li>\n",
    "    <li>Paragraaf&nbsp;'3: Van startgetal tot eindgrens (<code>for</code> met 2 parameters)': Je kunt twee getallen meegeven. Dan loopt de\n",
    "        teller van het eerste tot (en niet <i>tot en met</i>) het tweede getal. <br>Bijvoorbeeld:<br> \n",
    "        <code>for teller in range(2, 5)</code><br> herhaalt van 2 tot 5, dus drie keer.</p>\n",
    "    </li>\n",
    "    <li>Paragraaf&nbsp;'4: Van startgetal tot eindgrens met stapgrootte (<code>for</code> met 3 parameters)': Je kunt drie getallen\n",
    "        meegeven. Dan loopt de teller van het eerste tot (en niet <i>tot en met</i>) het tweede getal, met sprongen van\n",
    "        het derde getal. <br>Bijvoorbeeld: <br>\n",
    "        <code>for teller in range(1, 6, 2)</code><br> herhaalt van 1 tot 6 in stappen\n",
    "            van twee, dus drie keer (namelijk 1, 3, 5).</p>\n",
    "        <p></p>\n",
    "    </li>\n",
    "\n",
    "</ol>"
   ]
  },
  {
   "cell_type": "code",
   "execution_count": null,
   "metadata": {},
   "outputs": [],
   "source": [
    "print(\"For loop met 1 parameter loopt van 0 tot dat getal:\")\n",
    "for teller1 in range(3):\n",
    "\tprint (\"teller1 is:\", teller1)\n",
    "\n",
    "print(\"For loop met 2 parameters, loopt van het eerste tot het tweede getal:\")\n",
    "for teller2 in range(5,7):\n",
    "\tprint (\"teller2 is:\", teller2)\n",
    "\n",
    "print(\"For loop met 3 parameters, loopt van het eerste tot het tweede getal met sprongen van het derde getal:\")\n",
    "for teller3 in range(9, 16, 3):\n",
    "\tprint (\"teller3 is:\", teller3)"
   ]
  },
  {
   "cell_type": "markdown",
   "metadata": {},
   "source": [
    "### Opdracht 12.1 Oefenen met <code>for</code>-loop\n",
    "<p>Het onderstaande programma hoort eerst 1, dan 2, dan 3 \"^\"'s s (accents circonflexes of\n",
    "    dakjes) te printen, maar er zit een fout in. Kun jij de fout oplossen?</p>\n"
   ]
  },
  {
   "cell_type": "code",
   "execution_count": null,
   "metadata": {},
   "outputs": [],
   "source": [
    "for teller in range(1, 3):\n",
    "\tprint(\"^\"*teller)"
   ]
  },
  {
   "cell_type": "markdown",
   "metadata": {},
   "source": [
    "<p>Bekijk <a href=\"https://rweeda.github.io/PythonIA/docs/IA_H12_oplossingen.html#opgave1221\">hier</a> de voorbeelduitwerking.</p>"
   ]
  }
 ],
 "metadata": {
  "kernelspec": {
   "display_name": "Python 3",
   "language": "python",
   "name": "python3"
  },
  "language_info": {
   "codemirror_mode": {
    "name": "ipython",
    "version": 3
   },
   "file_extension": ".py",
   "mimetype": "text/x-python",
   "name": "python",
   "nbconvert_exporter": "python",
   "pygments_lexer": "ipython3",
   "version": "3.12.8"
  }
 },
 "nbformat": 4,
 "nbformat_minor": 2
}
