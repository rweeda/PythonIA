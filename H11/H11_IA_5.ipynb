{
 "cells": [
  {
   "cell_type": "markdown",
   "metadata": {},
   "source": [
    "## 5: Geneste <code>for</code>-loops\n",
    "\n",
    "[![Watch the video](https://img.youtube.com/vi/p7Hzd_dcuSs/hqdefault.jpg)](https://www.youtube.com/embed/p7Hzd_dcuSs)\n",
    "\n",
    "<p>Met één <code>for</code> doorloop je de elementen van een bepaalde\n",
    "    variabele. Dat kan een <code>teller</code> zijn die van 0 tot een getal\n",
    "    looptof dat kunnen elementen van een lijst zijn.</p>\n",
    "<p>Met twee <code>for</code>-loops, dus een <code>for</code> in een andere, kun je twee variabelen doorlopen: elke keer\n",
    "    dat de buitenste <code>for</code>-loop wordt aangeroepen, wordt de binnenste\n",
    "    loop helemaal doorlopen. Bekijk het voorbeeld hieronder waarbij voor elke\n",
    "    letter in de lijst de getallen 0 tot 4 worden afgedrukt:</p>\n"
   ]
  },
  {
   "cell_type": "code",
   "execution_count": null,
   "metadata": {},
   "outputs": [],
   "source": [
    "lijst = [\"a\", \"b\", \"c\"]\n",
    "for letter in lijst:\n",
    "\tfor teller in range(4):\n",
    "\t\tprint(\"letter:\", letter, \"teller:\", teller)"
   ]
  },
  {
   "cell_type": "markdown",
   "metadata": {},
   "source": [
    "### Opdracht 12.3 Coördinaten\n",
    "<p>Vul op de\n",
    "    streepjes hieronder het programma aan zodat alle coördinaten van (0,0)\n",
    "    tot en met (3,4) worden afgedrukt:</p>\n",
    "<p> (0,0) (0,1) (0,2) (0,3) (0,4)\n",
    "    (1,0) (1,1) ... (3,3) (3,4)</p>"
   ]
  },
  {
   "cell_type": "code",
   "execution_count": null,
   "metadata": {},
   "outputs": [],
   "source": [
    "for x_coordinaat in range(________):\n",
    "\tfor ___________ in range(__________):\n",
    "\t\tprint(\"(\" , x_coordinaat, \",\", y_coordinaat, \")\")"
   ]
  },
  {
   "cell_type": "markdown",
   "metadata": {},
   "source": [
    "### Opdracht 12.4 Coördinatentabel\n",
    "<p>\n",
    "    Print een\n",
    "    lege regel (met <code>print()</code>) op de juiste plek zodat de\n",
    "    coördinaten van (0,0) tot en met (3,4) als tabel worden afgedrukt:</p>\n",
    "(0,0) (0,1) (0,2) (0,3) (0,4) <br>\n",
    "(1,0) (1,1) ...................... <br>\n",
    "..................................... <br>\n",
    "...................... (3,3) (3,4) <br>\n",
    "\n",
    "<p>Tips: met <code>print( ... , end=\"\")</code> zorg je ervoor dat\n",
    "    er <i>niet op een nieuwe</i> regel wordt afgedrukt, en met\n",
    "    <code>print()</code> druk je een lege regel af.\n",
    "</p>"
   ]
  },
  {
   "cell_type": "code",
   "execution_count": null,
   "metadata": {},
   "outputs": [],
   "source": [
    "for x_coordinaat in range(4):\n",
    "\tfor y_coordinaat in range(5):\n",
    "\t\tprint(\"(\" , x_coordinaat, \",\", y_coordinaat, \")\", end=\"\")"
   ]
  },
  {
   "cell_type": "markdown",
   "metadata": {},
   "source": [
    "### Opdracht 12.5 McCombi's\n",
    "<p>Bij de McDonald's kan je\n",
    "    wat te eten (zie <code>etenLijst</code>) en wat te drinken (zie\n",
    "    <code>drankLijst</code>) halen.\n",
    "</p>\n",
    "<ul>\n",
    "    <li><b>Deel A</b>: Print alle mogelijke combinaties van eten en drinken, bv. \"Combinatie: McShake &amp; BigMac\"</li>\n",
    "    <li><b>Deel B</b>: Houd een teller bij van de combinatiemogelijkheden en print die bij elke combinatie.</li>\n",
    "</ul>"
   ]
  },
  {
   "cell_type": "code",
   "execution_count": null,
   "metadata": {},
   "outputs": [],
   "source": [
    "etenLijst = [ \"BigMac\", \"McChicken\", \"McNuggets\", \"Frietjes\", \"McSalad\"] \n",
    "drankLijst = [\"water\", \"ijsthee\", \"McShake\", \"McCafe\", \"cola\"]\n"
   ]
  }
 ],
 "metadata": {
  "kernelspec": {
   "display_name": "Python 3",
   "language": "python",
   "name": "python3"
  },
  "language_info": {
   "codemirror_mode": {
    "name": "ipython",
    "version": 3
   },
   "file_extension": ".py",
   "mimetype": "text/x-python",
   "name": "python",
   "nbconvert_exporter": "python",
   "pygments_lexer": "ipython3",
   "version": "3.12.8"
  }
 },
 "nbformat": 4,
 "nbformat_minor": 2
}
