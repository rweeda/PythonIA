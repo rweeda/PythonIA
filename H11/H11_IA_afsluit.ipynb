{
 "cells": [
  {
   "cell_type": "markdown",
   "metadata": {},
   "source": [
    "## Onderwerp 12: Afsluitende opdrachten\n",
    "<p>Met de volgende afsluitende opdrachten kun je kijken hoe goed je de stof beheerst. Controleer steeds je eigen oplossing met de voorbeelduitwerking.</p>\n",
    "\n"
   ]
  },
  {
   "cell_type": "markdown",
   "metadata": {},
   "source": [
    "\n",
    "### Afsluitende opdracht 12.1 Stok kaarten afdrukken\n",
    "<p>Schrijf een programma dat alle kaarten van een kaartendeck afdrukt.</p>\n"
   ]
  },
  {
   "cell_type": "code",
   "execution_count": null,
   "metadata": {},
   "outputs": [],
   "source": [
    "kleurLijst = [\"Harten\", \"Schoppen\", \"Klaveren\", \"Ruiten\"]\n",
    "waardeLijst = [2, 3, 4, 5, 6, 7, 8, 9, 10, \"Boer\", \"Vrouw\", \"Heer\", \"Aas\"]"
   ]
  },
  {
   "cell_type": "markdown",
   "metadata": {},
   "source": [
    "\n",
    "### Afsluitende opdracht 12.2 Alle mogelijkheden (met <code>for</code>)\n",
    "<p>We willen met vier kleuren zoveel mogelijk verschillende vlaggen maken. Schrijf een programma dat alle mogelijke combinaties van vier kleuren afdrukt. Print ook hoeveel combinaties dit zijn.</p>\n",
    "<p>Tip: Gebruik meerdere loops die genest zijn.</p>\n"
   ]
  },
  {
   "cell_type": "code",
   "execution_count": null,
   "metadata": {},
   "outputs": [],
   "source": [
    "kleurenLijst = [\"Rood\", \"Blauw\", \"Groen\", \"Paars\"]\n"
   ]
  },
  {
   "cell_type": "markdown",
   "metadata": {},
   "source": [
    "### Afsluitende opdracht 12.3 Feestinkopen (met <code>for</code>)\n",
    "<p>We gaan boodschappen inslaan voor een feestje. Echter, de inkopen moet wel voldoen aan een aantal eisen:\n",
    "</p>\n",
    "<ul>\n",
    "    <li>je mag cola, chips en chocola kopen;</li>\n",
    "    <li>je moet precies twaalf dingen meenemen (dus aantal cola+chips+chocola moet gelijk zijn aan twaalf); </li>\n",
    "    <li>van ieder mag je maximaal tien stuks;</li>\n",
    "    <li>van alle drie niet evenveel (je mag dus niet 3xcola, 3xchips en 2xchocola).</li>\n",
    "</ul>\n",
    "<p></p>\n",
    "<p>Schrijf een programma dat alle toegestane boodschappenlijstjes bepaalt en ook hoeveel dat er zijn.</p>\n",
    "<p>Tips: Je hebt drie <code>for</code>-loops nodig en daarin nog minstens twee <code>if</code>-condities.</p>"
   ]
  },
  {
   "cell_type": "code",
   "execution_count": null,
   "metadata": {},
   "outputs": [],
   "source": [
    "\n",
    "\n"
   ]
  }
 ],
 "metadata": {
  "kernelspec": {
   "display_name": "Python 3",
   "language": "python",
   "name": "python3"
  },
  "language_info": {
   "codemirror_mode": {
    "name": "ipython",
    "version": 3
   },
   "file_extension": ".py",
   "mimetype": "text/x-python",
   "name": "python",
   "nbconvert_exporter": "python",
   "pygments_lexer": "ipython3",
   "version": "3.12.8"
  }
 },
 "nbformat": 4,
 "nbformat_minor": 2
}
