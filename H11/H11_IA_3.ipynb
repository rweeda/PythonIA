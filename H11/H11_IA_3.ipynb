{
 "cells": [
  {
   "cell_type": "markdown",
   "metadata": {},
   "source": [
    "### 3: Regel lezen met <code>readline()</code>"
   ]
  },
  {
   "cell_type": "markdown",
   "metadata": {},
   "source": [
    "<p>Om een tekstbestand regel voor regel te lezen, kun je de <code>readline()</code>-functie gebruiken. Deze functie leest telkens één regel uit het bestand en zet deze in een string. Een regel is alle tekst tot de volgende nieuwe regel, inclusief het <code>\\n</code>-teken. Daarna komt de volgende regel. Als je aan het einde van het bestand bent en je probeert een nieuwe regel te lezen, krijg je een lege string terug.</p>"
   ]
  },
  {
   "cell_type": "code",
   "execution_count": 2,
   "metadata": {},
   "outputs": [
    {
     "name": "stdout",
     "output_type": "stream",
     "text": [
      "Dikkertje Dap klom op de trap.\n",
      "\n",
      "'s Morgens vroeg om kwart over zeven.\n",
      "\n"
     ]
    }
   ],
   "source": [
    "bestand = open(\"dikkertjeDap.txt\", \"r\")\n",
    "\n",
    "regel = bestand.readline()  #lees eerste regel\n",
    "print(regel)                #print naar de console\n",
    "\n",
    "regel = bestand.readline()  #lees tweede regel\n",
    "print(regel)\n",
    "\n",
    "bestand.close()"
   ]
  },
  {
   "cell_type": "markdown",
   "metadata": {},
   "source": [
    "<p>Omdat <code>print()</code> de tekst steeds op een nieuwe regel afdrukt, krijg je nu extra lege regels: één bij elke regeleinde <code>\\n</code> in <i>dikkertjeDap.txt</i> en de andere bij <code>print()</code>. Met <code>print( tekst, end=\"\" )</code> druk je geen extra lege regel meer af.</p>"
   ]
  },
  {
   "cell_type": "markdown",
   "metadata": {},
   "source": [
    "### Regels lezen en dan in een lijst zetten met <code>readlines()</code>\n",
    "<p>Met <code>readlines()</code> kun je elke regel van een tekstbestand in een <b>lijst</b> zetten, waarbij elke regel een apart element wordt.</p>"
   ]
  },
  {
   "cell_type": "code",
   "execution_count": 5,
   "metadata": {},
   "outputs": [
    {
     "name": "stdout",
     "output_type": "stream",
     "text": [
      "['Dikkertje Dap klom op de trap.\\n', \"'s Morgens vroeg om kwart over zeven.\\n\", 'Om de giraf een klontje te geven.\\n', '\"Dag giraf, \" zei Dikkertje Dap.\\n', '\"Weet je wat ik heb gekregen?\\n', 'Rode laarsjes, voor de regen.\"\\n', '\"\\'t Is toch niet waar?\" zei de giraf.\\n', '\"Dikkertje, Dikkertje, Dikkertje, Dikkertje, ik sta paf!\"']\n"
     ]
    }
   ],
   "source": [
    "bestand = open(\"dikkertjeDap.txt\", \"r\")\n",
    "\n",
    "inhoud_lijst = bestand.readlines() #zet inhoud in een lijst, elk regel als aparte element\n",
    "print(inhoud_lijst)\n",
    "\n",
    "bestand.close()\t#sluit bestand"
   ]
  },
  {
   "cell_type": "markdown",
   "metadata": {},
   "source": [
    "<p>Nu de tekst in een lijst staat, kun jij je kennis over lijsten gebruiken om er handige dingen mee te doen, zoals elke regel met een <code>for</code>-loop te doorlopen:\n",
    "</p>"
   ]
  },
  {
   "cell_type": "code",
   "execution_count": 6,
   "metadata": {},
   "outputs": [
    {
     "name": "stdout",
     "output_type": "stream",
     "text": [
      "Dikkertje Dap klom op de trap.\n",
      "\n",
      "'s Morgens vroeg om kwart over zeven.\n",
      "\n",
      "Om de giraf een klontje te geven.\n",
      "\n",
      "\"Dag giraf, \" zei Dikkertje Dap.\n",
      "\n",
      "\"Weet je wat ik heb gekregen?\n",
      "\n",
      "Rode laarsjes, voor de regen.\"\n",
      "\n",
      "\"'t Is toch niet waar?\" zei de giraf.\n",
      "\n",
      "\"Dikkertje, Dikkertje, Dikkertje, Dikkertje, ik sta paf!\"\n"
     ]
    }
   ],
   "source": [
    "bestand = open(\"dikkertjeDap.txt\")\n",
    "tekst = bestand.readlines() #zet de inhoud van bestand in een lijst\n",
    "\n",
    "for tekstregel in tekst: #voor elke tekstregel in de lijst\n",
    "  print(tekstregel)\n",
    "\n",
    "bestand.close()"
   ]
  },
  {
   "cell_type": "markdown",
   "metadata": {},
   "source": [
    "### Opdracht 11.2 Inhoud afdrukken"
   ]
  },
  {
   "cell_type": "markdown",
   "metadata": {},
   "source": [
    "<p>Schrijf een programma dat het bestand 'dikkertjeDap.txt' openmaakt (met \"r\" voor read), de inhoud naar de console print en daarna het bestand sluit.</p>"
   ]
  },
  {
   "cell_type": "code",
   "execution_count": null,
   "metadata": {},
   "outputs": [],
   "source": []
  },
  {
   "cell_type": "markdown",
   "metadata": {},
   "source": [
    "<p>Bekijk <a href=\"https://course.cs.ru.nl/pythonVO/Teams/IA_uitwerkingen/IA_H11_oplossingen.html#opgave1112\">hier</a> de voorbeelduitwerking.</p>"
   ]
  },
  {
   "cell_type": "markdown",
   "metadata": {},
   "source": [
    "### Opdracht 11.3 Letters tellen"
   ]
  },
  {
   "cell_type": "markdown",
   "metadata": {},
   "source": [
    "<p>Schrijf een programma dat telt (en print) hoe vaak de letter 'a' of 'A' voorkomt in het bestand. Tip: gebruik <code>tekst.count('A')</code>. Vergeet niet na afloop het bestand ook te sluiten.</p>"
   ]
  },
  {
   "cell_type": "code",
   "execution_count": null,
   "metadata": {},
   "outputs": [],
   "source": []
  },
  {
   "cell_type": "markdown",
   "metadata": {},
   "source": [
    "<p>Bekijk <a href=\"https://course.cs.ru.nl/pythonVO/Teams/IA_uitwerkingen/IA_H11_oplossingen.html#opgave1113\">hier</a> de voorbeelduitwerking.</p>"
   ]
  }
 ],
 "metadata": {
  "kernelspec": {
   "display_name": "Python 3",
   "language": "python",
   "name": "python3"
  },
  "language_info": {
   "codemirror_mode": {
    "name": "ipython",
    "version": 3
   },
   "file_extension": ".py",
   "mimetype": "text/x-python",
   "name": "python",
   "nbconvert_exporter": "python",
   "pygments_lexer": "ipython3",
   "version": "3.11.8"
  }
 },
 "nbformat": 4,
 "nbformat_minor": 2
}
