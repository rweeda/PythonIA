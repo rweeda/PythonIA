{
 "cells": [
  {
   "cell_type": "markdown",
   "id": "73b4c0b0",
   "metadata": {},
   "source": [
    "\n",
    "\n",
    "## 4.9: SUM() – Totaal optellen\n",
    "\n",
    "\n",
    "`SUM(kolom)` telt **alle waarden in een kolom op**.  \n",
    "\n",
    "\n",
    "<table width=\"100%\"><tr><td style=\"text-align:left; vertical-align:top; font-size:1.25rem;\" width=\"35%\">\n",
    "\n",
    "Bijvoorbeeld: de totale waarde van alle pizza’s samen.\n",
    "\n",
    "```sql\n",
    "SELECT SUM(basisprijs) AS totaal_waarde\n",
    "FROM pizza;\n",
    "```\n",
    "</td><td width=\"65%\">\n",
    "\n",
    "<table border=\"1\">\n",
    "  <thead>\n",
    "    <tr>\n",
    "      <th>totaal_waarde</th>\n",
    "    </tr>\n",
    "  </thead>\n",
    "  <tbody>\n",
    "    <tr>\n",
    "      <td>293.5</td>\n",
    "    </tr>\n",
    "  </tbody>\n",
    "</table>\n",
    "\n",
    "</td></tr></table>\n",
    "\n",
    "\n",
    "\n",
    "### Verwerkingsopdracht 4.9.1 Totaal van alle kortingen\n",
    "\n",
    "<table width=\"100%\"><tr><td style=\"text-align:left; vertical-align:top; font-size:1.25rem;\" width=\"35%\">\n",
    "Bereken de totale korting van alle bestellingen in de tabel <i>bestelling</i>. Maak een overzicht zoals hiernaast.\n",
    "\n",
    "</td><td width=\"65%\">\n",
    "    <table border=\"1\">\n",
    "  <thead>\n",
    "    <tr>\n",
    "      <th>totaal_korting</th>\n",
    "    </tr>\n",
    "  </thead>\n",
    "  <tbody>\n",
    "    <tr>\n",
    "      <td>40</td>\n",
    "    </tr>\n",
    "  </tbody>\n",
    "</table>\n",
    "\n",
    "</td></tr></table>\n",
    "\n"
   ]
  },
  {
   "cell_type": "code",
   "execution_count": null,
   "id": "4b2997c5",
   "metadata": {
    "vscode": {
     "languageId": "sql"
    }
   },
   "outputs": [],
   "source": []
  },
  {
   "cell_type": "markdown",
   "id": "1346937c",
   "metadata": {},
   "source": [
    "\n",
    "\n",
    "<p>Bekijk <a\n",
    "href=\"https://rweeda.github.io/PythonIA/docs/IA_sql_oplossingen.html#opgave491\"\n",
    "target=\"_blank\">hier</a> de voorbeelduitwerking.</p>\n",
    " <!-- ANTWOORD:\n",
    "<pre><code class=\"language-sql\"> \n",
    "SELECT SUM(korting) AS totaal_korting\n",
    "FROM bestelling;\n",
    "</code></pre>\n",
    "-->"
   ]
  }
 ],
 "metadata": {
  "language_info": {
   "name": "python"
  }
 },
 "nbformat": 4,
 "nbformat_minor": 5
}
