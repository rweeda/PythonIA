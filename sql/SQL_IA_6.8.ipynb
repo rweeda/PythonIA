{
 "cells": [
  {
   "cell_type": "markdown",
   "id": "28631bec",
   "metadata": {},
   "source": [
    "## 6.8: Tabel aanpassen – Tabel hernoemen\n",
    "\n",
    "<p>Met ALTER TABLE ... RENAME TO geef je een bestaande tabel een nieuwe naam.<pre><code class=\"language-sql\">\n",
    "ALTER TABLE oude_tabelnaam\n",
    "RENAME TO nieuwe_tabelnaam;\n",
    "</code></pre>\n",
    "</p>\n",
    "\n",
    "<ul>\n",
    "  <li>Achter ALTER TABLE geef je de oude tabelnaam op.</li>\n",
    "  <li>Met RENAME TO geef je de nieuwe naam.</li>\n",
    "</ul>\n",
    "\n",
    "<p>Voorbeeld: hernoem tabel <i>bezorger</i> naar <i>medewerker</i>:</p>\n",
    "\n",
    "<pre><code class=\"language-sql\">\n",
    "ALTER TABLE bezorger\n",
    "RENAME TO medewerker;\n",
    "</code></pre>\n"
   ]
  },
  {
   "cell_type": "markdown",
   "id": "f9521272",
   "metadata": {},
   "source": [
    "\n",
    "### Verwerkingsopdracht 6.8.1 Tabel hernoemen naar grootte\n",
    "<p>Hernoem de tabel <i>formaat</i> naar <i>grootte</i>. Controleer daarna met SELECT * of het gelukt is.</p>\n"
   ]
  },
  {
   "cell_type": "code",
   "execution_count": null,
   "id": "d3da7346",
   "metadata": {
    "vscode": {
     "languageId": "sql"
    }
   },
   "outputs": [],
   "source": []
  },
  {
   "cell_type": "code",
   "execution_count": null,
   "id": "bf7e44e0",
   "metadata": {
    "vscode": {
     "languageId": "sql"
    }
   },
   "outputs": [],
   "source": [
    "SELECT *\n",
    "FROM grootte;"
   ]
  },
  {
   "cell_type": "markdown",
   "id": "1ec1a50d",
   "metadata": {},
   "source": [
    "<p>Bekijk <a\n",
    "href=\"https://rweeda.github.io/PythonIA/docs/IA_sql_oplossingen.html#opgave781\"\n",
    "target=\"_blank\">hier</a> de voorbeelduitwerking.</p>\n",
    "\n",
    "<!--\n",
    "<pre><code class=\"language-sql\">\n",
    "ALTER TABLE formaat\n",
    "RENAME TO grootte;\n",
    "</code></pre>\n",
    "-->"
   ]
  }
 ],
 "metadata": {
  "language_info": {
   "name": "python"
  }
 },
 "nbformat": 4,
 "nbformat_minor": 5
}
