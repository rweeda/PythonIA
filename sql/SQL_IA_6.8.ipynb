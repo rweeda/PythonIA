{
 "cells": [
  {
   "cell_type": "markdown",
   "id": "28631bec",
   "metadata": {},
   "source": [
    "## 6.8: Tabel aanpassen – Tabel hernoemen\n",
    "\n",
    "<p>Met <code>ALTER TABLE ... RENAME TO</code> geef je een bestaande tabel een nieuwe naam. Dit past de naam van een bestaande tabel aan zonder dat je de inhoud van de tabel verliest.</p>\n",
    "\n",
    "\n",
    "<pre><code class=\"language-sql\">ALTER TABLE oude_tabelnaam\n",
    "RENAME TO nieuwe_tabelnaam;\n",
    "</code></pre>\n",
    "</p>\n",
    "Toelichting:\n",
    "<ul>\n",
    "  <li>Achter ALTER TABLE geef je de oude tabelnaam op.</li>\n",
    "  <li>Met RENAME TO geef je de nieuwe naam.</li>\n",
    "  \n",
    "</ul>\n",
    "\n",
    "<hr>\n",
    "<p><b>Voorbeeld</b>. Deze query hernoemt tabel <i>bezorger</i> naar <i>medewerker</i>:</p>\n",
    "\n",
    "<pre><code class=\"language-sql\">ALTER TABLE bezorger\n",
    "RENAME TO medewerker;\n",
    "</code></pre>\n"
   ]
  },
  {
   "cell_type": "markdown",
   "id": "f9521272",
   "metadata": {},
   "source": [
    "\n",
    "### Verwerkingsopdracht 6.8.1 Tabel hernoemen naar grootte\n",
    "<p>Hernoem de tabel <i>formaat</i> naar <i>grootte</i>. Controleer daarna of het gelukt is.</p>\n"
   ]
  },
  {
   "cell_type": "code",
   "execution_count": null,
   "id": "d3da7346",
   "metadata": {
    "vscode": {
     "languageId": "sql"
    }
   },
   "outputs": [],
   "source": [
    "-- hernoem de tabel"
   ]
  },
  {
   "cell_type": "code",
   "execution_count": null,
   "id": "bf7e44e0",
   "metadata": {
    "vscode": {
     "languageId": "sql"
    }
   },
   "outputs": [],
   "source": [
    "-- controleer of de aanpassing gelukt is\n",
    "SELECT *\n",
    "FROM grootte;"
   ]
  }
 ],
 "metadata": {
  "language_info": {
   "name": "python"
  },
  "latex_config": {
   "mathjax_url": "https://cdn.jsdelivr.net/npm/mathjax@3/es5/tex-mml-chtml.js"
  }
 },
 "nbformat": 4,
 "nbformat_minor": 5
}
