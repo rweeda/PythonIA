{
 "cells": [
  {
   "cell_type": "markdown",
   "id": "bb00e923",
   "metadata": {},
   "source": [
    "## 3.10: `DISTINCT` – Unieke waarden selecteren\n",
    "\n",
    "Stel dat je alle woonplaatsen wilt zien van de tabel <i>klant</i>.\n",
    "\n",
    "\n",
    "| plaats     |\n",
    "|------------|\n",
    "| Enschede   |\n",
    "| Enschede   |\n",
    "| Enschede   |\n",
    "| Enschede   |\n",
    "| Hengelo    |\n",
    "| Enschede   |\n",
    "| Enschede   |\n",
    "| ...        |\n",
    "\n",
    "\n",
    "<p>Je ziet dat er dubbele waarden te zien zijn. Om te voorkomen dat er dubbele waarden worden getoond, kun je DISTINCT gebruiken.</p>\n",
    " \n",
    "<p>Met <code>DISTINCT kolom</code> toon je alleen <b>verschillende (unieke)</b> waarden uit een kolom. </p>\n",
    "\n",
    "\n",
    "<table width=\"100%\"><tr><td style=\"text-align:left; vertical-align:top; font-size:1.25rem;\" width=\"35%\">\n",
    "\n",
    "Bijvoorbeeld: alle verschillende plaatsen waar klanten wonen.\n",
    "\n",
    "```sql\n",
    "SELECT DISTINCT plaats\n",
    "FROM klant;\n",
    "```\n",
    "</td><td width=\"65%\">\n",
    "\n",
    "<table border=\"1\">\n",
    "  <thead>\n",
    "    <tr>\n",
    "      <th>plaats</th>\n",
    "    </tr>\n",
    "  </thead>\n",
    "  <tbody>\n",
    "    <tr><td>Enschede</td></tr>\n",
    "    <tr><td>Hengelo</td></tr>\n",
    "  </tbody>\n",
    "</table>\n",
    "\n",
    "</td></tr></table>\n",
    "\n",
    "\n",
    "### Verwerkingsopdracht 3.10.1 Unieke bezorgdata\n",
    "\n",
    "<table width=\"100%\"><tr><td style=\"text-align:left; vertical-align:top; font-size:1.25rem;\" width=\"35%\">\n",
    "Toon alle unieke bezorgdata in de tabel <i>bestelling</i>. Dus: elke bezorgdatum mag maar één keer voorkomen.\n",
    "</td><td width=\"65%\">\n",
    "  <table border=\"1\">\n",
    "  <thead>\n",
    "    <tr>\n",
    "      <th>bestel_datum</th>\n",
    "    </tr>\n",
    "  </thead>\n",
    "  <tbody>\n",
    "    <tr><td>2021-12-01</td></tr>\n",
    "    <tr><td>2021-12-02</td></tr>\n",
    "    <tr><td>2021-12-03</td></tr>\n",
    "    <tr><td>2021-12-04</td></tr>\n",
    "    <tr><td>2021-12-05</td></tr>\n",
    "    <tr><td>...</td></tr>\n",
    "    <tr><td>2022-03-03</td></tr>\n",
    "  </tbody>\n",
    "</table>\n",
    "\n",
    "</td></tr></table>\n",
    "\n",
    "\n",
    "\n"
   ]
  },
  {
   "cell_type": "code",
   "execution_count": null,
   "id": "4b2997c5",
   "metadata": {
    "vscode": {
     "languageId": "sql"
    }
   },
   "outputs": [],
   "source": []
  },
  {
   "cell_type": "markdown",
   "id": "e2761e07",
   "metadata": {},
   "source": [
    "\n",
    "<p>Bekijk <a\n",
    "href=\"https://rweeda.github.io/PythonIA/docs/IA_sql_oplossingen.html#opgave3101\"\n",
    "target=\"_blank\">hier</a> de voorbeelduitwerking.</p>\n"
   ]
  }
 ],
 "metadata": {
  "language_info": {
   "name": "python"
  }
 },
 "nbformat": 4,
 "nbformat_minor": 5
}
