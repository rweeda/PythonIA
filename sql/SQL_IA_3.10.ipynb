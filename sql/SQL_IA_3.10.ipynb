{
 "cells": [
  {
   "cell_type": "markdown",
   "id": "2d364360",
   "metadata": {},
   "source": [
    "## 3.10: Fouten opsporen\n",
    "\n",
    "Het kan voorkomen dat er een fout in je code zit. Hier zijn wat tips om die\n",
    "op te sporen: \n",
    "<ul> \n",
    "<li>Krijg je een foutmelding? Lees die goed. Vaak staat er\n",
    "welke regel of welk onderdeel fout is. \n",
    "<li>Soms krijg je geen foutmelding,\n",
    "maar ook geen resultaten. Dan heb je een denkfout in je code zitten en vraag\n",
    "je iets op wat er niet is. \n",
    "<li>Als iets niet werkt, test dan een stukje\n",
    "tegelijk. Begin eerst alleen met: \n",
    "<pre><code class=\"language-sql\">SELECT * \n",
    "FROM ...</code></pre>Pas als dat werkt voor je\n",
    "daarna stukje voor stukje de WHERE-voorwaarden toe.\n",
    " <li>Controleer de tabel-\n",
    "en kolomnamen. Typefouten in kolomnamen komen vaak voor. Met de volgende code kun je kolomnamen bekijken:\n",
    " <pre><code class=\"language-sql\">SELECT * \n",
    "FROM ...</code></pre>\n",
    "<li>Zet tijdelijk delen van je code in\n",
    "commentaar (met <code>--</code>) om te testen wat het probleem veroorzaakt. \n",
    "<li>SQLite\n",
    "is niet hoofdlettergevoelig voor sleutelwoorden, maar wel voor strings,\n",
    "bijvoorbeeld 'enschede' in plaats van 'Enschede'. \n",
    "</ul>"
   ]
  },
  {
   "cell_type": "markdown",
   "id": "e0b975c7",
   "metadata": {},
   "source": [
    "### Opdracht 3.10.1 Fout in query (1) \n",
    "<table width=\"100%\">\n",
    "  <tr><td style=\"text-align:left; vertical-align:top; font-size:1.25rem;\" width=\"65%\">\n",
    "Piet wil met de query hieronder een\n",
    "overzicht van alle pizza's die minder dan 7 euro kosten. Wat is de fout in\n",
    "deze query? Los die op.\n",
    "    </td>\n",
    "    <td width=\"35%\">\n",
    "<table border=\"1\">\n",
    "  <thead>\n",
    "    <tr>\n",
    "      <th>naam</th>\n",
    "    </tr>\n",
    "  </thead>\n",
    "  <tbody>\n",
    "    <tr><td>Margherita</td></tr>\n",
    "    <tr><td>Cippola</td></tr>\n",
    "  </tbody>\n",
    "</table>\n",
    "</tr>\n",
    "</table>\n",
    "\n"
   ]
  },
  {
   "cell_type": "code",
   "execution_count": null,
   "id": "e158b3e7",
   "metadata": {
    "vscode": {
     "languageId": "sql"
    }
   },
   "outputs": [],
   "source": [
    "SELECT naam basisprijs < 7.0 \n",
    "FROM WHERE pizza;"
   ]
  },
  {
   "cell_type": "markdown",
   "id": "b287b63e",
   "metadata": {},
   "source": [
    "<p>Bekijk <a\n",
    "href=\"https://rweeda.github.io/PythonIA/docs/IA_sql_oplossingen.html#opgave3101\"\n",
    "target=\"_blank\">hier</a> de voorbeelduitwerking.</p>\n",
    "\n",
    "\n",
    "<!-- ANTWOORD: De fout zat in de volgorde van de regels code. <pre><code\n",
    "class=\"language-sql\"> SELECT naam FROM pizza WHERE basispijs < 7.0;\n",
    "</code></pre> -->"
   ]
  },
  {
   "cell_type": "markdown",
   "id": "c1bdfd04",
   "metadata": {},
   "source": [
    "### Opdracht 3.10.2 Fout in query (2) \n",
    "\n",
    "<table width=\"100%\">\n",
    "  <tr><td style=\"text-align:left; vertical-align:top; font-size:1.25rem;\" width=\"35%\">\n",
    "Lukas wil alle klantgegevens van klanten\n",
    "in Nijmegen zien, zoals het overzicht. Hij gebruikt daarvoor het onderstaande code, maar dat\n",
    "levert niets op!<br>\n",
    "\n",
    "<ol style=\"list-style-type: lower-alpha\"> \n",
    "<li>Waarom levert het niets op? Kies de juiste antwoord.\n",
    "  <ol style=\"list-style-type: upper-alpha\">\n",
    "  <li> De kolom woonplaats bestaat niet <li>De woonplaats moet\n",
    "  met een hoofdletter geschreven zijn <li>Er staan geen klanten in de database\n",
    "  <li>Er mogen geen spaties om de '='-teken staan \n",
    "  </ol>\n",
    "  <li>Pas de code aan zodat het de juiste overzicht\n",
    "  geeft.\n",
    "  </ol>\n",
    "</ol>\n",
    "    </td>\n",
    "    <td width=\"65%\">\n",
    "      <table border=\"1\">\n",
    "        <thead>\n",
    "          <tr>\n",
    "            <th>klantnummer</th>\n",
    "            <th>wachtwoord</th>\n",
    "            <th>klantnaam</th>\n",
    "            <th>adres</th>\n",
    "            <th>postcode</th>\n",
    "            <th>woonplaats</th>\n",
    "            <th>telefoon</th>\n",
    "          </tr>\n",
    "        </thead>\n",
    "        <tbody>\n",
    "          <tr>\n",
    "            <td>425</td>\n",
    "            <td>M8eoyfuVd5</td>\n",
    "            <td>Nina Vos</td>\n",
    "            <td>Graafseweg 115</td>\n",
    "            <td>6531ZG</td>\n",
    "            <td>Nijmegen</td>\n",
    "            <td>06-63017195</td>\n",
    "          </tr>\n",
    "          <tr>\n",
    "            <td>426</td>\n",
    "            <td>BV8aYhfTeH</td>\n",
    "            <td>Noa de Boer</td>\n",
    "            <td>Daalseweg 103</td>\n",
    "            <td>6521GS</td>\n",
    "            <td>Nijmegen</td>\n",
    "            <td>06-87240602</td>\n",
    "          </tr>\n",
    "          <tr>\n",
    "            <td>427</td>\n",
    "            <td>IcMD8WuNRk</td>\n",
    "            <td>Bram Kuipers</td>\n",
    "            <td>Heyendaalseweg 300</td>\n",
    "            <td>6525EC</td>\n",
    "            <td>Nijmegen</td>\n",
    "            <td>06-13617853</td>\n",
    "          </tr>\n",
    "          <tr>\n",
    "            <td>...</td>\n",
    "            <td>...</td>\n",
    "            <td>...</td>\n",
    "            <td>...</td>\n",
    "            <td>...</td>\n",
    "            <td>...</td>\n",
    "            <td>...</td>\n",
    "          </tr>\n",
    "        </tbody>\n",
    "      </table>\n",
    "    </td>\n",
    "  </tr>\n",
    "</table>"
   ]
  },
  {
   "cell_type": "code",
   "execution_count": null,
   "id": "dcac6aad",
   "metadata": {
    "vscode": {
     "languageId": "sql"
    }
   },
   "outputs": [],
   "source": [
    "SELECT *\n",
    "FROM klant \n",
    "WHERE woonplaats = 'nijmegen';"
   ]
  },
  {
   "cell_type": "markdown",
   "id": "b7bf05ae",
   "metadata": {},
   "source": [
    "<p>Bekijk <a\n",
    "href=\"https://rweeda.github.io/PythonIA/docs/IA_sql_oplossingen.html#opgave3102\"\n",
    "target=\"_blank\">hier</a> de voorbeelduitwerking.</p>\n",
    "\n",
    "<!-- ANTWOORD: b De woonplaatsen zijn met een hoofdletter geschreven (bv.\n",
    "'Nijmegen'). SQL vergelijkt tekst hoofdlettergevoelig. In dit geval zijn er\n",
    "klanten die in 'nijmegen' wonen, maar wel in 'Nijmegen'.\n",
    "\n",
    "De juiste query is:\n",
    "\n",
    "<pre><code class=\"language-sql\"> SELECT * FROM klant WHERE woonplaats =\n",
    "'Nijmegen'; -->"
   ]
  },
  {
   "cell_type": "markdown",
   "id": "f250be99",
   "metadata": {},
   "source": [
    "\n",
    "### Opdracht 3.10.3 Fout in query (3) \n",
    "\n",
    "De code hieronder bevat een fout. Run de\n",
    "code, lees de foutmelding en herstel de fout.\n"
   ]
  },
  {
   "cell_type": "code",
   "execution_count": null,
   "id": "4700344c",
   "metadata": {
    "vscode": {
     "languageId": "sql"
    }
   },
   "outputs": [],
   "source": [
    "SELECT naam FROM pizzas WHERE basispijs < 7.0;"
   ]
  },
  {
   "cell_type": "markdown",
   "id": "5e1ea0ca",
   "metadata": {},
   "source": [
    "\n",
    "<p>Bekijk <a\n",
    "href=\"https://rweeda.github.io/PythonIA/docs/IA_sql_oplossingen.html#opgave3103\"\n",
    "target=\"_blank\">hier</a> de voorbeelduitwerking.</p>\n",
    "\n",
    "\n",
    "<!-- ANTWOORD: De fout zat in de naam van de tabel. <pre><code\n",
    "class=\"language-sql\"> SELECT naam FROM pizza WHERE basispijs < 7.0;\n",
    "</code></pre> -->"
   ]
  },
  {
   "cell_type": "markdown",
   "id": "b31bdb6c",
   "metadata": {},
   "source": [
    "\n",
    "### Opdracht 3.10.4 Fout in query (4) \n",
    "\n",
    "De code hieronder bevat een fout. Run de\n",
    "code, lees de foutmelding en herstel de fout.\n",
    "\n"
   ]
  },
  {
   "cell_type": "code",
   "execution_count": null,
   "id": "235811b7",
   "metadata": {
    "vscode": {
     "languageId": "sql"
    }
   },
   "outputs": [],
   "source": [
    "SELECT pizzanaam \n",
    "FROM pizza \n",
    "WHERE basispijs < 7.0;"
   ]
  },
  {
   "cell_type": "markdown",
   "id": "50080374",
   "metadata": {},
   "source": [
    "\n",
    "<p>Bekijk <a\n",
    "href=\"https://rweeda.github.io/PythonIA/docs/IA_sql_oplossingen.html#opgave3104\"\n",
    "target=\"_blank\">hier</a> de voorbeelduitwerking.</p>\n",
    "\n",
    "\n",
    "<!-- ANTWOORD: De fout zat in de kolomnaam. <pre><code class=\"language-sql\">\n",
    "SELECT naam FROM pizza WHERE basispijs < 7.0; </code></pre> -->\n"
   ]
  }
 ],
 "metadata": {
  "language_info": {
   "name": "python"
  }
 },
 "nbformat": 4,
 "nbformat_minor": 5
}
