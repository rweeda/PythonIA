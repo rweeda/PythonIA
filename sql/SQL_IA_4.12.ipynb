{
 "cells": [
  {
   "cell_type": "markdown",
   "id": "fe171c46",
   "metadata": {},
   "source": [
    "## 4.12: Samenvatting\n",
    "\n",
    "<ul> \n",
    "<li>Met <code>LIMIT</code> geef je aan hoeveel rijen getoond moeten worden;</li>\n",
    "<li>Met <code>ORDER BY</code> kun je de waarden in een kolom sorteren. Daarbij gebruik je <code>ASC</code> om oplopend te sorteren, en <code>DESC</code> om aflopend te sorteren;\n",
    "\n",
    "<li>Met <code>DISTINCT</code> toon je alleen de unieke waarden (in een kolom staan er geen waarden twee keer);\n",
    "<li>Met <code>COUNT()</code> tel je hoeveel waarden er in een kolom staan;\n",
    "<li>Met een groepsfunctie kan je een berekening uitvoeren op een groep rijen in plaats van op één rij;\n",
    "<li>Voorbeelden van groepsfuncties:<br>\n",
    "\n",
    "| Functie               | Wat het doet                        | Voorbeeldgebruik                         |\n",
    "| --------------------- | ----------------------------------- | ---------------------------------------- |\n",
    "| `COUNT()`             | Telt hoeveel rijen er zijn          | Hoeveel pizza’s zijn er?                 |\n",
    "| `COUNT(DISTINCT ...)` | Telt hoeveel unieke waarden er zijn | Hoeveel verschillende klanten bestellen? |\n",
    "| `MIN()`               | Kleinste waarde in een kolom        | Goedkoopste pizza                        |\n",
    "| `MAX()`               | Grootste waarde in een kolom        | Duurste bestelling                       |\n",
    "| `SUM()`               | Tel alle getallen bij elkaar op     | Totale omzet van bestellingen            |\n",
    "| `AVG()`               | Gemiddelde van een kolom berekenen  | Gemiddelde prijs van pizza's             |\n",
    "\n",
    "</li>\n",
    "\n",
    "\n",
    "<li>Hieronder staat de volgorde waarin de SQL commando's moeten staan:\n",
    "<p><img\n",
    "src=\"https://raw.githubusercontent.com/rweeda/PythonIA/main/sql/img/H1_commandos.png\"\n",
    "alt=\"Commando's voor het ophalen van informatie\" width=\"250\"></p></li>\n",
    "</ul>\n",
    "\n"
   ]
  }
 ],
 "metadata": {
  "language_info": {
   "name": "python"
  },
  "latex_config": {
   "mathjax_url": "https://cdn.jsdelivr.net/npm/mathjax@3/es5/tex-mml-chtml.js"
  }
 },
 "nbformat": 4,
 "nbformat_minor": 5
}
