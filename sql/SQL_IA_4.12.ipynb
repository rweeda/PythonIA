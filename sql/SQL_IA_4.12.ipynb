{
 "cells": [
  {
   "cell_type": "markdown",
   "id": "d3b1fca1",
   "metadata": {},
   "source": [
    "### 4.12: Afsluitende Opdrachten\n",
    "\n",
    "\n",
    "### Afsluitende Opdracht 4.12.1 De drie duurste pizza's\n",
    "\n",
    "<table width=\"100%\"><tr><td style=\"text-align:left; vertical-align:top; font-size:1.25rem;\" width=\"65%\">\n",
    "Toon van de drie duuste pizza's de <b>naam</b> en <b>basisprijs</b> zoals in het overzicht hiernaast.\n",
    "</td><td width=\"35%\">\n",
    "<table border=\"1\" cellpadding=\"4\" cellspacing=\"0\">\n",
    "  <thead>\n",
    "    <tr>\n",
    "      <th>naam</th>\n",
    "      <th>basisprijs</th>\n",
    "    </tr>\n",
    "  </thead>\n",
    "  <tbody>\n",
    "    <tr><td>Combinazione</td><td>10.5</td></tr>\n",
    "    <tr><td>Specialità di Danilo</td><td>9.5</td></tr>\n",
    "    <tr><td>Calzone (dichte pizza)</td><td>9</td></tr>\n",
    "  </tbody>\n",
    "</table>\n",
    "\n",
    "\n",
    "</td></tr></table>\n"
   ]
  },
  {
   "cell_type": "code",
   "execution_count": null,
   "id": "23166ecb",
   "metadata": {
    "vscode": {
     "languageId": "sql"
    }
   },
   "outputs": [],
   "source": []
  },
  {
   "cell_type": "markdown",
   "id": "989bc993",
   "metadata": {},
   "source": [
    "<p>Bekijk <a href=\"https://rweeda.github.io/PythonIA/docs/IA_sql_oplossingen.html#opgave4121\" target=\"_blank\">hier</a> de voorbeelduitwerking.</p>\n",
    "<!-- ANTWOORD:\n",
    "<pre><code class=\"language-sql\">\n",
    "SELECT naam, formaatcode, basisprijs\n",
    "FROM pizza\n",
    "ORDER BY basisprijs DESC\n",
    "LIMIT 3;\n",
    "</code></pre>\n",
    "-->"
   ]
  },
  {
   "cell_type": "markdown",
   "id": "a675ef9a",
   "metadata": {},
   "source": [
    "\n",
    "### Afsluitende Opdracht 4.12.2 Vijf goedkoopste pizza's\n",
    "<table width=\"100%\"><tr><td style=\"text-align:left; vertical-align:top; font-size:1.25rem;\" width=\"65%\">\n",
    "Geef de namen en prijzen van de vijf goedkoopste pizza’s die minder dan €8 kosten. Sorteer ze oplopend op prijs, zoals in het overzicht hiernaast.\n",
    "</td><td width=\"35%\">\n",
    "<table border=\"1\" cellpadding=\"4\" cellspacing=\"0\">\n",
    "  <thead>\n",
    "    <tr>\n",
    "      <th>naam</th>\n",
    "      <th>basisprijs</th>\n",
    "    </tr>\n",
    "  </thead>\n",
    "  <tbody>\n",
    "    <tr><td>Napoletana</td><td>7.5</td></tr>\n",
    "    <tr><td>Prosciutto</td><td>7.5</td></tr>\n",
    "    <tr><td>Funghi</td><td>7.5</td></tr>\n",
    "    <tr><td>Salame</td><td>7.5</td></tr>\n",
    "    <tr><td>Borromea</td><td>7.5</td></tr>\n",
    "  </tbody>\n",
    "</table>\n",
    "\n",
    "\n",
    "</td></tr></table>"
   ]
  },
  {
   "cell_type": "code",
   "execution_count": null,
   "id": "37723fbb",
   "metadata": {
    "vscode": {
     "languageId": "sql"
    }
   },
   "outputs": [],
   "source": []
  },
  {
   "cell_type": "markdown",
   "id": "74bcc2f5",
   "metadata": {},
   "source": [
    "<p>Bekijk <a href=\"https://rweeda.github.io/PythonIA/docs/IA_sql_oplossingen.html#opgave4122\" target=\"_blank\">hier</a> de voorbeelduitwerking.</p>\n",
    "\n",
    "<!--\n",
    "SELECT naam, basisprijs\n",
    "FROM pizza\n",
    "WHERE basisprijs < 8\n",
    "ORDER BY basisprijs DESC\n",
    "LIMIT 5;\n",
    "-->"
   ]
  },
  {
   "cell_type": "markdown",
   "id": "13a68860",
   "metadata": {},
   "source": [
    "### Afsluitende Opdracht 4.12.3 Gemiddelde prijs\n",
    "<table width=\"100%\"><tr><td style=\"text-align:left; vertical-align:top; font-size:1.25rem;\" width=\"65%\">\n",
    "<p>Toon de gemiddelde prijs van alle pizza’s zonder ham. Hernoem de kolom zoals in het overzicht hiernaast.</p>\n",
    "<p>Tip: begin met een overzicht van alle pizza’s zonder ham.</p>\n",
    "</td><td width=\"35%\">\n",
    "  <table border=\"1\">\n",
    "    <tr>\n",
    "      <th>gemiddelde_prijs_zonder_ham</th>\n",
    "    </tr>\n",
    "    <tr>\n",
    "      <td>8.07</td>\n",
    "    </tr>\n",
    "  </table>\n",
    "\n",
    "</td></tr></table>\n"
   ]
  },
  {
   "cell_type": "code",
   "execution_count": null,
   "id": "c6fd56c8",
   "metadata": {
    "vscode": {
     "languageId": "sql"
    }
   },
   "outputs": [],
   "source": []
  },
  {
   "cell_type": "markdown",
   "id": "74525075",
   "metadata": {},
   "source": [
    "### Afsluitende Opdracht 4.12.4 Plaatsen met vaste telefoonnummers\n",
    "<table width=\"100%\"><tr><td style=\"text-align:left; vertical-align:top; font-size:1.25rem;\" width=\"65%\">\n",
    "Hoeveel unieke woonplaatsen zijn er onder klanten die geen 06-nummer hebben opgegeven?\n",
    "</td><td width=\"35%\">\n",
    "<table border=\"1\" cellpadding=\"4\" cellspacing=\"0\">\n",
    "  <thead>\n",
    "    <tr>\n",
    "      <th>woonplaatsen_zonder_06</th>\n",
    "    </tr>\n",
    "  </thead>\n",
    "  <tbody>\n",
    "    <tr><td>3</td></tr>\n",
    "  </tbody>\n",
    "</table>\n",
    "\n",
    "\n",
    "</td></tr></table>\n",
    "\n",
    "\n"
   ]
  },
  {
   "cell_type": "code",
   "execution_count": null,
   "id": "c30c7a80",
   "metadata": {
    "vscode": {
     "languageId": "sql"
    }
   },
   "outputs": [],
   "source": []
  },
  {
   "cell_type": "markdown",
   "id": "8949ddb5",
   "metadata": {},
   "source": [
    "\n",
    "\n",
    "<p>Bekijk <a href=\"https://rweeda.github.io/PythonIA/docs/IA_sql_oplossingen.html#opgave4124\" target=\"_blank\">hier</a> de voorbeelduitwerking.</p>\n",
    "\n",
    "<!--\n",
    "\n",
    "SELECT COUNT(DISTINCT woonplaats) AS woonplaatsen_zonder_06\n",
    "FROM klant\n",
    "WHERE telefoon NOT LIKE '06%';\n",
    "\n",
    "-->"
   ]
  },
  {
   "cell_type": "markdown",
   "id": "de4e06f1",
   "metadata": {},
   "source": [
    "### Afsluitende Opdracht 4.12.5 Aantal normale pizza's\n",
    "<table width=\"100%\"><tr><td style=\"text-align:left; vertical-align:top; font-size:1.25rem;\" width=\"65%\">\n",
    "<p>Toon hoeveel pizza’s tussen de €7 en €10 kosten (inclusief 7 en 10). Hernoem de kolom zoals in het overzicht hiernaast.</p>\n",
    "<p>Tip: maak eerst een juist overzicht van de pizza’s die aan de voorwaarden voldoen.</p>\n",
    "\n",
    "</td><td width=\"35%\">\n",
    "  <table border=\"1\">\n",
    "    <tr>\n",
    "      <th>Aantal</th>\n",
    "    </tr>\n",
    "    <tr>\n",
    "      <td>33</td>\n",
    "    </tr>\n",
    "  </table>\n",
    "\n",
    "</td></tr></table>\n",
    "\n",
    "\n"
   ]
  },
  {
   "cell_type": "code",
   "execution_count": null,
   "id": "34e8ea70",
   "metadata": {
    "vscode": {
     "languageId": "sql"
    }
   },
   "outputs": [],
   "source": []
  },
  {
   "cell_type": "markdown",
   "id": "62527399",
   "metadata": {},
   "source": [
    "\n",
    "\n",
    "<p>Bekijk <a href=\"https://rweeda.github.io/PythonIA/docs/IA_sql_oplossingen.html#opgave4125\" target=\"_blank\">hier</a> de voorbeelduitwerking.</p>\n",
    "\n",
    "<!--\n",
    "\n",
    "SELECT COUNT(pizzacode) AS aantal\n",
    "FROM pizza\n",
    "WHERE basisprijs >= 7 AND basisprijs <= 10;\n",
    "\n",
    "-->"
   ]
  },
  {
   "cell_type": "markdown",
   "id": "f1ee9024",
   "metadata": {},
   "source": [
    "### Afsluitende Opdracht 4.12.6 Totale toeslagen\n",
    "<table width=\"100%\"><tr><td style=\"text-align:left; vertical-align:top; font-size:1.25rem;\" width=\"65%\">\n",
    "<p>Wat is het totaal van alle toeslagen (<b>plusprijs</b>) voor formaat met een prijs hoger dan €1? De gegevens komen uit tabel <i>formaat</i>. Toon het overzicht zoals hiernaast.</p>\n",
    "</td><td width=\"35%\">\n",
    "<table border=\"1\" cellpadding=\"4\" cellspacing=\"0\">\n",
    "  <thead>\n",
    "    <tr>\n",
    "      <th>totaal_toeslagen</th>\n",
    "    </tr>\n",
    "  </thead>\n",
    "  <tbody>\n",
    "    <tr><td>1.5</td></tr>\n",
    "  </tbody>\n",
    "</table>\n",
    "\n",
    "\n",
    "</td></tr></table>\n",
    "\n"
   ]
  },
  {
   "cell_type": "code",
   "execution_count": null,
   "id": "b128a7a2",
   "metadata": {
    "vscode": {
     "languageId": "sql"
    }
   },
   "outputs": [],
   "source": []
  },
  {
   "cell_type": "markdown",
   "id": "21d01179",
   "metadata": {},
   "source": [
    "\n",
    "\n",
    "\n",
    "<p>Bekijk <a href=\"https://rweeda.github.io/PythonIA/docs/IA_sql_oplossingen.html#opgave4126\" target=\"_blank\">hier</a> de voorbeelduitwerking.</p>\n",
    "\n",
    "<!--\n",
    "\n",
    "SELECT SUM(plusprijs) AS totaal_toeslagen\n",
    "FROM formaat\n",
    "WHERE plusprijs > 1;\n",
    "\n",
    "-->"
   ]
  },
  {
   "cell_type": "markdown",
   "id": "5c894ccb",
   "metadata": {},
   "source": [
    "\n",
    "### Afsluitende Opdracht 4.12.7\n",
    "<table width=\"100%\"><tr><td style=\"text-align:left; vertical-align:top; font-size:1.25rem;\" width=\"65%\">\n",
    "<p>Je wilt weten wat de hoogste prijs is van een pizza die iets met vis te maken heeft (bijvoorbeeld in de omschrijving) of waarvan de naam eindigt op de letter 'a'.</p>\n",
    "<p>Tip: maak eerst een juist overzicht van de pizza's die aan de voorwaarden voldoen.</p>\n",
    "</td><td width=\"35%\">\n",
    "<table border=\"1\">\n",
    "    <tr>\n",
    "      <th>duurste</th>\n",
    "    </tr>\n",
    "    <tr>\n",
    "      <td>9</td>\n",
    "    </tr>\n",
    "  </table>\n",
    "\n",
    "</td></tr></table>\n",
    "\n"
   ]
  },
  {
   "cell_type": "code",
   "execution_count": null,
   "id": "c0e4e935",
   "metadata": {
    "vscode": {
     "languageId": "sql"
    }
   },
   "outputs": [],
   "source": []
  },
  {
   "cell_type": "markdown",
   "id": "d58d2059",
   "metadata": {},
   "source": [
    "\n",
    "\n",
    "\n",
    "<p>Bekijk <a href=\"https://rweeda.github.io/PythonIA/docs/IA_sql_oplossingen.html#opgave4127\" target=\"_blank\">hier</a> de voorbeelduitwerking.</p>\n",
    "\n",
    "<!--\n",
    "SELECT max(basisprijs) AS duurste\n",
    "FROM pizza\n",
    "WHERE omschrijving LIKE \"%vis%\" OR naam LIKE \"%a\";\n",
    "\n",
    "-->"
   ]
  }
 ],
 "metadata": {
  "language_info": {
   "name": "python"
  }
 },
 "nbformat": 4,
 "nbformat_minor": 5
}
