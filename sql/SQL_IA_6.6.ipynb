{
 "cells": [
  {
   "cell_type": "markdown",
   "id": "bafd11b8",
   "metadata": {},
   "source": [
    "\n",
    "## 6.6: Tabel aanpassen – Kolom toevoegen\n",
    "\n",
    "<p>Met <code>ALTER TABLE</code> kun je de structuur van een bestaande tabel aanpassen. Bijvoorbeeld, in combinatie met <code>ADD</code> voeg je een kolom toe.</p>\n",
    "\n",
    "<pre><code class=\"language-sql\">\n",
    "ALTER TABLE tabelnaam\n",
    "ADD kolomnaam datatype;\n",
    "</code></pre>\n",
    "\n",
    "Toelichting:\n",
    "<ul>\n",
    "  <li>Achter <code>ALTER TABLE</code> geef je de naam van de tabel op.</li>\n",
    "  <li>Met <code>ADD</code> voeg je een kolom toe, gevolgd door de kolomnaam en het datatype.</li>\n",
    "  <li>De bestaande rijen krijgen automatisch lege waarden (<code>NULL</code>) in de nieuwe kolom.</li>\n",
    "</ul>\n",
    "\n",
    "\n",
    "<hr>\n",
    "<p><b>Voorbeeld</b>. \n",
    "\n",
    "<table width=\"100%\"><tr><td style=\"text-align:left; vertical-align:top; font-size:1.25rem;\" width=\"65%\">\n",
    "\n",
    "Deze query voegt een kolom <b>email</b> toe aan de tabel <i>bezorger</i>:</p>\n",
    "\n",
    "<pre><code class=\"language-sql\">\n",
    "ALTER TABLE bezorger\n",
    "ADD email TEXT;\n",
    "</code></pre>\n",
    "\n",
    "</td><td width=\"35%\">\n",
    "\n",
    "<table border=\"1\" cellpadding=\"4\" cellspacing=\"0\">\n",
    "  <thead>\n",
    "    <tr>\n",
    "      <th>bezorgernummer</th>\n",
    "      <th>wachtwoord</th>\n",
    "      <th>naam</th>\n",
    "      <th>gebdatum</th>\n",
    "      <th>telefoon</th>\n",
    "      <th>email</th>\n",
    "    </tr>\n",
    "  </thead>\n",
    "  <tbody>\n",
    "    <tr>\n",
    "      <td>1</td>\n",
    "      <td>0nbekend</td>\n",
    "      <td>Ageeth Mooy</td>\n",
    "      <td>1994-02-02</td>\n",
    "      <td>06-73X37362</td>\n",
    "      <td>null</td>\n",
    "    </tr>\n",
    "    <tr>\n",
    "      <td>2</td>\n",
    "      <td>I234S67B9</td>\n",
    "      <td>Eric Henze</td>\n",
    "      <td>1994-01-04</td>\n",
    "      <td>06-X4226714</td>\n",
    "      <td>null</td>\n",
    "    </tr>\n",
    "    <tr>\n",
    "      <td>3</td>\n",
    "      <td>Kwertie</td>\n",
    "      <td>Han Fröling</td>\n",
    "      <td>1994-04-17</td>\n",
    "      <td>06-6X702511</td>\n",
    "      <td>null</td>\n",
    "    </tr>\n",
    "    <tr>\n",
    "      <td>...</td>\n",
    "      <td>...</td>\n",
    "      <td>...</td>\n",
    "      <td>...</td>\n",
    "      <td>...</td>\n",
    "      <td>...</td>\n",
    "    </tr>\n",
    "  </tbody>\n",
    "</table>\n",
    "\n",
    "\n",
    "</td></tr></table>"
   ]
  },
  {
   "cell_type": "markdown",
   "id": "13dabaf5",
   "metadata": {},
   "source": [
    "\n",
    "### Verwerkingsopdracht 6.6.1 Kolom geboortedatum toevoegen\n",
    "\n",
    "Voeg de kolom <b>geboortedatum</b> toe aan tabel <i>klant</i>. Bedenk daarbij welk datatype in SQLite gebruikt wordt voor geboortedatum: TEXT, INT of REAL. Controleer dan met SELECT * of het gelukt is.\n"
   ]
  },
  {
   "cell_type": "code",
   "execution_count": null,
   "id": "89cde280",
   "metadata": {
    "vscode": {
     "languageId": "sql"
    }
   },
   "outputs": [],
   "source": [
    "-- voeg kolom toe\n"
   ]
  },
  {
   "cell_type": "code",
   "execution_count": null,
   "id": "df952e7c",
   "metadata": {
    "vscode": {
     "languageId": "sql"
    }
   },
   "outputs": [],
   "source": [
    "-- controleer of de aanpassing gelukt is\n",
    "SELECT *\n",
    "FROM klant;"
   ]
  }
 ],
 "metadata": {
  "language_info": {
   "name": "python"
  }
 },
 "nbformat": 4,
 "nbformat_minor": 5
}
