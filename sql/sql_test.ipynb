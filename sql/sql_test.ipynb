{
 "cells": [
  {
   "cell_type": "code",
   "execution_count": null,
   "id": "b9c26719",
   "metadata": {
    "vscode": {
     "languageId": "sql"
    }
   },
   "outputs": [],
   "source": [
    "SELECT naam, basisprijs\n",
    "FROM Pizza\n",
    "LIMIT 5"
   ]
  },
  {
   "cell_type": "markdown",
   "id": "7f98e468",
   "metadata": {},
   "source": [
    "Even een testje hier\n",
    "\n",
    "De achterliggende database is Danilo pizzeria"
   ]
  },
  {
   "cell_type": "markdown",
   "id": "89fcab08",
   "metadata": {
    "vscode": {
     "languageId": "sql"
    }
   },
   "source": [
    "<p>Hier een overzicht van de tabellen in de database:</p>:<p><img src=\"https://raw.githubusercontent.com/rweeda/PythonIA/main/sql/dbase_alle_tabellen.png\" alt=\"overzicht tabellen\" width=\"500\"></p>"
   ]
  },
  {
   "cell_type": "code",
   "execution_count": null,
   "id": "15695055",
   "metadata": {
    "vscode": {
     "languageId": "sql"
    }
   },
   "outputs": [],
   "source": []
  },
  {
   "cell_type": "code",
   "execution_count": null,
   "id": "b2b11619",
   "metadata": {
    "vscode": {
     "languageId": "sql"
    }
   },
   "outputs": [],
   "source": [
    "SELECT *\n",
    "FROM Klant, Bestelling\n",
    "WHERE Klant.klant_code = Bestelling.klant_code"
   ]
  }
 ],
 "metadata": {
  "kernelspec": {
   "display_name": "Python 3",
   "language": "python",
   "name": "python3"
  },
  "language_info": {
   "codemirror_mode": {
    "name": "ipython",
    "version": 3
   },
   "file_extension": ".py",
   "mimetype": "text/x-python",
   "name": "python",
   "nbconvert_exporter": "python",
   "pygments_lexer": "ipython3",
   "version": "3.11.9"
  }
 },
 "nbformat": 4,
 "nbformat_minor": 5
}
