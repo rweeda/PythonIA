{
 "cells": [
  {
   "cell_type": "code",
   "execution_count": null,
   "id": "b9c26719",
   "metadata": {
    "vscode": {
     "languageId": "sql"
    }
   },
   "outputs": [],
   "source": [
    "SELECT naam, basisprijs\n",
    "FROM pizza\n",
    "LIMIT 5"
   ]
  },
  {
   "cell_type": "markdown",
   "id": "7f98e468",
   "metadata": {},
   "source": [
    "De achterliggende database is Danilo pizzeria"
   ]
  },
  {
   "cell_type": "markdown",
   "id": "89fcab08",
   "metadata": {
    "vscode": {
     "languageId": "sql"
    }
   },
   "source": [
    "<p>Hier een overzicht van de tabellen in de database:</p><img src=\"https://raw.githubusercontent.com/rweeda/PythonIA/main/sql/DaniloIA_ERD.png\" alt=\"overzicht tabellen\" width=\"500\"></p>"
   ]
  },
  {
   "cell_type": "code",
   "execution_count": null,
   "id": "15695055",
   "metadata": {
    "vscode": {
     "languageId": "sql"
    }
   },
   "outputs": [],
   "source": [
    "INSERT INTO pizza VALUES\n",
    "('Pizza Hawaii', 8.50);"
   ]
  },
  {
   "cell_type": "code",
   "execution_count": null,
   "id": "b2b11619",
   "metadata": {
    "vscode": {
     "languageId": "sql"
    }
   },
   "outputs": [],
   "source": [
    "SELECT *\n",
    "FROM klant, bestelling\n",
    "WHERE klant.klantnummer = bestelling.klantnummer\n",
    "AND plaats=\"Hengelo\""
   ]
  },
  {
   "cell_type": "code",
   "execution_count": null,
   "id": "816a8357",
   "metadata": {
    "vscode": {
     "languageId": "sql"
    }
   },
   "outputs": [],
   "source": [
    "CREATE TABLE kortingsbonnen (\n",
    "    bon_code INT PRIMARY KEY,\n",
    "    korting REAL,\n",
    "    datum DATE,\n",
    "    plaats VARCHAR(50)\n",
    ");"
   ]
  },
  {
   "cell_type": "code",
   "execution_count": null,
   "id": "df8151be",
   "metadata": {
    "vscode": {
     "languageId": "sql"
    }
   },
   "outputs": [],
   "source": [
    "SELECT *\n",
    "FROM pizza"
   ]
  },
  {
   "cell_type": "code",
   "execution_count": null,
   "id": "afc1e2a4",
   "metadata": {
    "vscode": {
     "languageId": "sql"
    }
   },
   "outputs": [],
   "source": []
  },
  {
   "cell_type": "code",
   "execution_count": null,
   "id": "bf5155d4",
   "metadata": {
    "vscode": {
     "languageId": "sql"
    }
   },
   "outputs": [],
   "source": []
  },
  {
   "cell_type": "code",
   "execution_count": null,
   "id": "70119a1c",
   "metadata": {
    "vscode": {
     "languageId": "sql"
    }
   },
   "outputs": [],
   "source": []
  },
  {
   "cell_type": "code",
   "execution_count": null,
   "id": "26ac4435",
   "metadata": {
    "vscode": {
     "languageId": "sql"
    }
   },
   "outputs": [],
   "source": []
  },
  {
   "cell_type": "code",
   "execution_count": null,
   "id": "bf6fde0a",
   "metadata": {
    "vscode": {
     "languageId": "sql"
    }
   },
   "outputs": [],
   "source": []
  },
  {
   "cell_type": "code",
   "execution_count": null,
   "id": "5f615bf3",
   "metadata": {
    "vscode": {
     "languageId": "sql"
    }
   },
   "outputs": [],
   "source": []
  },
  {
   "cell_type": "code",
   "execution_count": null,
   "id": "e1b7fd0f",
   "metadata": {
    "vscode": {
     "languageId": "sql"
    }
   },
   "outputs": [],
   "source": []
  },
  {
   "cell_type": "code",
   "execution_count": null,
   "id": "6f2550c0",
   "metadata": {
    "vscode": {
     "languageId": "sql"
    }
   },
   "outputs": [],
   "source": []
  }
 ],
 "metadata": {
  "kernelspec": {
   "display_name": "Python 3",
   "language": "python",
   "name": "python3"
  },
  "language_info": {
   "codemirror_mode": {
    "name": "ipython",
    "version": 3
   },
   "file_extension": ".py",
   "mimetype": "text/x-python",
   "name": "python",
   "nbconvert_exporter": "python",
   "pygments_lexer": "ipython3",
   "version": "3.11.9"
  }
 },
 "nbformat": 4,
 "nbformat_minor": 5
}
