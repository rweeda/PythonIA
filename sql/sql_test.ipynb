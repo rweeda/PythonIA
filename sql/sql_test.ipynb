{
 "cells": [
  {
   "cell_type": "code",
   "execution_count": null,
   "id": "b9c26719",
   "metadata": {
    "vscode": {
     "languageId": "sql"
    }
   },
   "outputs": [],
   "source": [
    "SELECT naam, basisprijs\n",
    "FROM Pizza;"
   ]
  },
  {
   "cell_type": "markdown",
   "id": "7f98e468",
   "metadata": {},
   "source": [
    "Even een testhe hier"
   ]
  },
  {
   "cell_type": "code",
   "execution_count": null,
   "id": "89fcab08",
   "metadata": {
    "vscode": {
     "languageId": "sql"
    }
   },
   "outputs": [],
   "source": []
  }
 ],
 "metadata": {
  "language_info": {
   "name": "python"
  }
 },
 "nbformat": 4,
 "nbformat_minor": 5
}
