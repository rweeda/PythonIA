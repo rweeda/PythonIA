{
 "cells": [
  {
   "cell_type": "code",
   "execution_count": null,
   "id": "b9c26719",
   "metadata": {
    "vscode": {
     "languageId": "sql"
    }
   },
   "outputs": [],
   "source": [
    "SELECT naam, basisprijs\n",
    "FROM Pizza;"
   ]
  }
 ],
 "metadata": {
  "language_info": {
   "name": "python"
  }
 },
 "nbformat": 4,
 "nbformat_minor": 5
}
