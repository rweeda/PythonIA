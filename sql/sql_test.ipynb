{
 "cells": [
  {
   "cell_type": "code",
   "execution_count": 2,
   "id": "b9c26719",
   "metadata": {
    "vscode": {
     "languageId": "sql"
    }
   },
   "outputs": [
    {
     "ename": "SyntaxError",
     "evalue": "invalid syntax (22555817.py, line 1)",
     "output_type": "error",
     "traceback": [
      "\u001b[1;36m  Cell \u001b[1;32mIn[2], line 1\u001b[1;36m\u001b[0m\n\u001b[1;33m    SELECT naam, basisprijs\u001b[0m\n\u001b[1;37m           ^\u001b[0m\n\u001b[1;31mSyntaxError\u001b[0m\u001b[1;31m:\u001b[0m invalid syntax\n"
     ]
    }
   ],
   "source": [
    "SELECT naam, basisprijs\n",
    "FROM Pizza;"
   ]
  },
  {
   "cell_type": "markdown",
   "id": "7f98e468",
   "metadata": {},
   "source": [
    "Even een testje hier\n",
    "\n",
    "De achterliggende database is Danilo pizzeria"
   ]
  },
  {
   "cell_type": "markdown",
   "id": "89fcab08",
   "metadata": {
    "vscode": {
     "languageId": "sql"
    }
   },
   "source": [
    "<p><img src=\"https://raw.githubusercontent.com/rweeda/PythonIA/main/sql/dbase_alle_tabellen.png\" alt=\"overzicht tabellen\" width=\"700\"></p>"
   ]
  },
  {
   "cell_type": "code",
   "execution_count": null,
   "id": "b2b11619",
   "metadata": {
    "vscode": {
     "languageId": "sql"
    }
   },
   "outputs": [
    {
     "ename": "SyntaxError",
     "evalue": "invalid syntax (1573101400.py, line 1)",
     "output_type": "error",
     "traceback": [
      "\u001b[1;36m  Cell \u001b[1;32mIn[1], line 1\u001b[1;36m\u001b[0m\n\u001b[1;33m    Select *\u001b[0m\n\u001b[1;37m            ^\u001b[0m\n\u001b[1;31mSyntaxError\u001b[0m\u001b[1;31m:\u001b[0m invalid syntax\n"
     ]
    }
   ],
   "source": [
    "SELECT *\n",
    "FROM Klant, Bestelling\n",
    "WHERE Klant.klant_code = Bestelling.klant_code"
   ]
  }
 ],
 "metadata": {
  "kernelspec": {
   "display_name": "Python 3",
   "language": "python",
   "name": "python3"
  },
  "language_info": {
   "codemirror_mode": {
    "name": "ipython",
    "version": 3
   },
   "file_extension": ".py",
   "mimetype": "text/x-python",
   "name": "python",
   "nbconvert_exporter": "python",
   "pygments_lexer": "ipython3",
   "version": "3.11.9"
  }
 },
 "nbformat": 4,
 "nbformat_minor": 5
}
