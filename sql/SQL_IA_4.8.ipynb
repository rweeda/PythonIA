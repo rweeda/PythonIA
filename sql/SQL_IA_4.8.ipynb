{
 "cells": [
  {
   "cell_type": "markdown",
   "id": "f6db049d",
   "metadata": {},
   "source": [
    "\n",
    "## 4.8: MAX() – Hoogste waarde\n",
    "\n",
    "\n",
    "<p><code>MAX(kolomnaam)</code> geeft de <b>hoogste waarde</b> (maximum) in een kolom terug. Deze gebruik je na de SELECT.</p>\n",
    "\n",
    "\n",
    "<table width=\"100%\"><tr><td style=\"text-align:left; vertical-align:top; font-size:1.25rem;\" width=\"65%\">\n",
    "\n",
    "Bijvoorbeeld, de duurste pizza:\n",
    "\n",
    "```sql\n",
    "SELECT MAX(basisprijs) AS duurste_pizza\n",
    "FROM pizza;\n",
    "```\n",
    "\n",
    "</td><td width=\"35%\">\n",
    "  \n",
    "<table border=\"1\">\n",
    "  <thead>\n",
    "    <tr>\n",
    "      <th>duurste_pizza</th>\n",
    "    </tr>\n",
    "  </thead>\n",
    "  <tbody>\n",
    "    <tr>\n",
    "      <td>10.5</td>\n",
    "    </tr>\n",
    "  </tbody>\n",
    "</table>\n",
    "\n",
    "</td></tr></table>\n",
    "\n",
    "### Verwerkingsopdracht 4.8.1 Duurste bodem\n",
    "\n",
    "<table width=\"100%\"><tr><td style=\"text-align:left; vertical-align:top; font-size:1.25rem;\" width=\"65%\">\n",
    "Wat is de hoogste <b>plusprijs</b> voor een pizzabodem? Gebruik de tabel <i>bodem</i> Maak het overzicht zoals hiernaast.\n",
    "\n",
    "</td><td width=\"35%\">\n",
    "    <table border=\"1\">\n",
    "  <thead>\n",
    "    <tr>\n",
    "      <th>hoogste_toeslag</th>\n",
    "    </tr>\n",
    "  </thead>\n",
    "  <tbody>\n",
    "    <tr>\n",
    "      <td>1</td>\n",
    "    </tr>\n",
    "  </tbody>\n",
    "</table>\n",
    "\n",
    "</td></tr></table>\n",
    "\n"
   ]
  },
  {
   "cell_type": "code",
   "execution_count": null,
   "id": "4b2997c5",
   "metadata": {
    "vscode": {
     "languageId": "sql"
    }
   },
   "outputs": [],
   "source": []
  }
 ],
 "metadata": {
  "language_info": {
   "name": "python"
  }
 },
 "nbformat": 4,
 "nbformat_minor": 5
}
