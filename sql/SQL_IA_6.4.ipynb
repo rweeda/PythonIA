{
 "cells": [
  {
   "cell_type": "markdown",
   "id": "bafd11b8",
   "metadata": {},
   "source": [
    "\n",
    "## 6.4: Nieuwe tabel aanmaken\n",
    "\n",
    "<p>Met CREATE TABLE maak je een nieuwe tabel aan in de database.</p>\n",
    "<pre><code class=\"language-sql\">\n",
    "CREATE TABLE tabelnaam (\n",
    "  kolom1 datatype,\n",
    "  kolom2 datatype,\n",
    "  kolom3 datatype,\n",
    "  ...\n",
    ");\n",
    "</code></pre>\n",
    "\n",
    "<ul>\n",
    "  <li>Achter CREATE TABLE geef je de naam van de nieuwe tabel aan.</li>\n",
    "  <li>Tussen haakjes zet je per kolom de kolomnaam en het datatype (zoals TEXT, INTEGER of REAL).</li>\n",
    "</ul>\n",
    "\n",
    "<p>Elke tabel moet een primary key hebben. De database kan automatisch doornummeren zodra er nieuwe gegevens worden toegevoegd. In die kolom mag elke waarde maar één keer voorkomen. Dit doe je met: <code>INTEGER PRIMARY KEY AUTOINCREMENT</code>.</p>\n",
    "\n",
    "<p>Voorbeeld: Deze query maakt een tabel <i>pizza</i> waarbij de <b>pizzacode</b> als primary key automatisch wordt genummerd:</p>\n",
    "\n",
    "<pre><code class=\"language-sql\">\n",
    "CREATE TABLE pizza (\n",
    "  pizzacode INTEGER PRIMARY KEY AUTOINCREMENT, \n",
    "  naam TEXT,\n",
    "  omschrijving TEXT,\n",
    "  basisprijs REAL\n",
    ");\n",
    "</code></pre>\n"
   ]
  },
  {
   "cell_type": "markdown",
   "id": "26d6e982",
   "metadata": {},
   "source": [
    "### Verwerkingsopdracht 6.4.1 Nieuwe tabel kortingsbonnen aanmaken\n",
    "\n",
    "<p>Maak een nieuwe tabel <i>kortingsbon</i> aan waarin je informatie opslaat over kortingsbonnen die in omloop zijn: <b>boncode</b>, hoeveel <b>korting</b> ze geven en tot welke <b>datum</b> ze geldig zijn.</p>\n",
    "\n",
    "<ol type=\"a\">\n",
    "  <li>Schrijf een CREATE TABLE-query voor de tabel <i>kortingsbon</i>. Bedenk welke kolommen je nodig hebt, en welke datatypes je gebruikt. Denk aan:\n",
    "    <ul>\n",
    "      <li>Een primary key: <b>boncode</b></li>\n",
    "      <li>Automatisch doornummeren met AUTOINCREMENT</li>\n",
    "      <li>De juiste datatypes: TEXT, INTEGER, REAL</li>\n",
    "    </ul>\n",
    "  </li>\n",
    "  <li>Als je met SELECT * controleert of de tabel is aangemaakt, zie je geen gegevens. Waarom niet?</li>\n",
    "</ol>\n",
    "\n"
   ]
  },
  {
   "cell_type": "code",
   "execution_count": null,
   "id": "57adddce",
   "metadata": {
    "vscode": {
     "languageId": "sql"
    }
   },
   "outputs": [],
   "source": []
  },
  {
   "cell_type": "code",
   "execution_count": null,
   "id": "0243c67f",
   "metadata": {
    "vscode": {
     "languageId": "sql"
    }
   },
   "outputs": [],
   "source": []
  }
 ],
 "metadata": {
  "language_info": {
   "name": "python"
  }
 },
 "nbformat": 4,
 "nbformat_minor": 5
}
