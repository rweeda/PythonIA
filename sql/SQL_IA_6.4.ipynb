{
 "cells": [
  {
   "cell_type": "markdown",
   "id": "cfb4ecfa",
   "metadata": {},
   "source": [
    "\n",
    "## 4: Verschil tussen WHERE en HAVING\n",
    "\n",
    "<p>\n",
    "Met zowel <code>WHERE</code> als <code>HAVING</code> kun je een voorwaarde opgeven om gegevens te filteren. Er is echter een belangrijk verschil tussen deze twee:\n",
    "</p>\n",
    "<ul>\n",
    "<li><code>WHERE</code> werkt op individuele rijen — dus <i>vóór</i> het groeperen met <code>GROUP BY</code>.</li>\n",
    "<li><code>HAVING</code> werkt op groepen — dus <i>ná</i> het groeperen met <code>GROUP BY</code>.</li>\n",
    "</ul>\n"
   ]
  },
  {
   "cell_type": "markdown",
   "id": "4cec6984",
   "metadata": {},
   "source": [
    "\n",
    "### Verwerkingsopdracht 6.4.1: Verschil tussen WHERE en HAVING\n",
    "\n",
    "<ol type=\"a\">\n",
    "<li>Schrijf een query met <code>WHERE</code> die alleen bestellingen met <code>bodemcode = 1</code> toont, zoals links hieronder.</li>\n",
    "<li>Schrijf een query met <code>GROUP BY</code> en <code>HAVING</code> die alleen bodems toont die meer dan één keer zijn besteld, zoals rechts hieronder.</li>\n",
    "<li>Vergelijk de resultaten en leg in je eigen woorden uit wat het verschil is.</li>\n",
    "</ol>\n",
    "\n",
    "<table>\n",
    "<tr><td>\n",
    "    <table border=\"1\">\n",
    "    <thead>\n",
    "        <tr>\n",
    "        <th>besteldepizzacode</th>\n",
    "        <th>pizzacode</th>\n",
    "        <th>bestelcode</th>\n",
    "        <th>bodemcode</th>\n",
    "        <th>formaatcode</th>\n",
    "        <th>aantal</th>\n",
    "        </tr>\n",
    "    </thead>\n",
    "    <tbody>\n",
    "        <tr><td>7</td><td>25</td><td>2</td><td>1</td><td>4</td><td>1</td></tr>\n",
    "        <tr><td>15</td><td>25</td><td>4</td><td>1</td><td>1</td><td>1</td></tr>\n",
    "        <tr><td>18</td><td>19</td><td>5</td><td>1</td><td>4</td><td>3</td></tr>\n",
    "        <tr><td colspan=\"6\" style=\"text-align: center;\">...</td></tr>\n",
    "        <tr><td>5832</td><td>24</td><td>1470</td><td>1</td><td>4</td><td>3</td></tr>\n",
    "    </tbody>\n",
    "    </table>\n",
    "</td><td>\n",
    "    <table border=\"1\">\n",
    "    <thead>\n",
    "        <tr>\n",
    "        <th>bodemcode</th>\n",
    "        <th>aantal</th>\n",
    "        </tr>\n",
    "    </thead>\n",
    "    <tbody>\n",
    "        <tr><td>1</td><td>2788</td></tr>\n",
    "        <tr><td>2</td><td>2905</td></tr>\n",
    "        <tr><td>3</td><td>140</td></tr>\n",
    "    </tbody>\n",
    "    </table>\n",
    "</td></tr></table>\n"
   ]
  },
  {
   "cell_type": "code",
   "execution_count": null,
   "id": "cdfa2148",
   "metadata": {
    "vscode": {
     "languageId": "sql"
    }
   },
   "outputs": [],
   "source": []
  },
  {
   "cell_type": "markdown",
   "id": "303e5d42",
   "metadata": {},
   "source": [
    "\n",
    "<p>Bekijk <a href=\"https://rweeda.github.io/PythonIA/docs/IA_sql_oplossingen.html#opgave641\" target=\"_blank\">hier</a> de voorbeelduitwerking.</p>\n",
    "\n",
    "<!--\n",
    "<ol type=\"a\">\n",
    "<li>WHERE-filter op rij-niveau:<br><pre><code>\n",
    "SELECT * \n",
    "FROM besteldepizza\n",
    "WHERE bodemcode = 1;\n",
    "</code></pre></li>\n",
    "<li>HAVING-filter op groep-niveau:<br><pre><code>\n",
    "SELECT bodemcode, COUNT(*) AS aantal\n",
    "FROM besteldepizza\n",
    "GROUP BY bodemcode\n",
    "HAVING COUNT(*) > 1;\n",
    "</code></pre></li>\n",
    "<li>Uitleg:\n",
    "<ul>\n",
    "<li><code>WHERE</code> gebruik je als je rijen wilt uitsluiten vóór het groeperen.</li>\n",
    "<li><code>HAVING</code> gebruik je als je groepen wilt filteren ná het groeperen.</li>\n",
    "</ul>\n",
    "</li>\n",
    "</ol>\n",
    "-->\n"
   ]
  },
  {
   "cell_type": "markdown",
   "id": "7d61b58e",
   "metadata": {},
   "source": [
    "### Verwerkingsopdracht 6.4.2: Bodems die vaak zijn besteld (zonder kleine bestellingen)\n",
    "\n",
    "<p>Bij deze opdracht moet je goed nadenken welke voorwaarden je in <code>WHERE</code> en welke in <code>HAVING</code> gebruikt.</p>\n",
    "\n",
    "<table width=\"100%\"><tr><td style=\"text-align:left; vertical-align:top; font-size:1.25rem;\" width=\"35%\">\n",
    "<ol type=\"a\">\n",
    "<li>Toon per <code>bodemcode</code> hoeveel pizza’s er in totaal zijn besteld, maar reken alleen bestellingen mee waarbij meer dan 1 pizza is besteld.</li>\n",
    "<li>Toon alleen de bodems waarvan het totaal meer dan 2000 is.</li>\n",
    "</ol>\n",
    "De informatie komt uit de tabel <i>besteldePizza</i>.\n",
    "</td><td width=\"65%\">\n",
    "<table border=\"1\">\n",
    "  <thead>\n",
    "    <tr>\n",
    "      <th>bodemcode</th>\n",
    "      <th>aantal_bestellingen</th>\n",
    "    </tr>\n",
    "  </thead>\n",
    "  <tbody>\n",
    "    <tr><td>1</td><td>2788</td></tr>\n",
    "    <tr><td>2</td><td>2905</td></tr>\n",
    "  </tbody>\n",
    "</table>\n",
    "</td></tr></table>\n",
    "\n"
   ]
  },
  {
   "cell_type": "code",
   "execution_count": null,
   "id": "59a9862b",
   "metadata": {
    "vscode": {
     "languageId": "sql"
    }
   },
   "outputs": [],
   "source": []
  },
  {
   "cell_type": "markdown",
   "id": "3a5a91c4",
   "metadata": {},
   "source": [
    "<p>Bekijk <a href=\"https://rweeda.github.io/PythonIA/docs/IA_sql_oplossingen.html#opgave642\" target=\"_blank\">hier</a> de voorbeelduitwerking.</p>\n",
    "\n",
    "<!--\n",
    "<pre><code>\n",
    "SELECT bodemcode, SUM(aantal) AS totaal_besteld\n",
    "FROM besteldePizza\n",
    "WHERE aantal > 1             -- filter op rij-niveau vóór de GROUP BY\n",
    "GROUP BY bodemcode\n",
    "HAVING SUM(aantal) > 2000;   -- filter ná de GROUP BY\n",
    "</code></pre>\n",
    "-->\n"
   ]
  }
 ],
 "metadata": {
  "language_info": {
   "name": "python"
  }
 },
 "nbformat": 4,
 "nbformat_minor": 5
}
