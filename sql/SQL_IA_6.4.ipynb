{
 "cells": [
  {
   "cell_type": "markdown",
   "id": "bafd11b8",
   "metadata": {},
   "source": [
    "\n",
    "## 6.4: Nieuwe tabel aanmaken\n",
    "\n",
    "<p>Met <code>CREATE TABLE</code> maak je een nieuwe tabel aan in de database.</p>\n",
    "<pre><code class=\"language-sql\">CREATE TABLE tabelnaam (\n",
    "  kolom1 datatype,\n",
    "  kolom2 datatype,\n",
    "  kolom3 datatype,\n",
    "  ...\n",
    ");\n",
    "</code></pre>\n",
    "\n",
    "Toelichting:\n",
    "<ul>\n",
    "  <li>Achter CREATE TABLE geef je de naam van de nieuwe tabel aan.</li>\n",
    "  <li>Tussen haakjes zet je per kolom de kolomnaam en het datatype:<br> <code>TEXT</code> (tekst), <code>INTEGER</code> (geheel getal) of <code>REAL</code> (kommagetal).</li>\n",
    "</ul>\n",
    "\n",
    "<p>Elke tabel moet een <b>primary key</b> hebben. In die kolom mag elke waarde maar één keer voorkomen. De database kan automatisch doornummeren zodra er nieuwe gegevens worden toegevoegd. Dit doe je met: <code>INTEGER PRIMARY KEY AUTOINCREMENT</code>.</p>\n",
    "\n",
    "<hr>\n",
    "<p><b>Voorbeeld</b>. Deze query maakt een tabel <i>pizza</i> waarbij de <b>pizzacode</b> als primary key automatisch wordt genummerd:</p>\n",
    "\n",
    "<pre><code class=\"language-sql\">CREATE TABLE pizza (\n",
    "  pizzacode INTEGER PRIMARY KEY AUTOINCREMENT, \n",
    "  naam TEXT,\n",
    "  omschrijving TEXT,\n",
    "  basisprijs REAL\n",
    ");\n",
    "</code></pre>\n"
   ]
  },
  {
   "cell_type": "markdown",
   "id": "26d6e982",
   "metadata": {},
   "source": [
    "### Verwerkingsopdracht 6.4.1 Nieuwe tabel <i>kortingsbonnen</i> aanmaken\n",
    "\n",
    "\n",
    "<p>Maak een nieuwe tabel <i>kortingsbonnen</i> aan waarin je informatie opslaat over kortingsbonnen die in omloop zijn: <b>boncode</b>, hoeveel <b>korting</b> ze geven en tot welke <b>datum</b> ze geldig zijn.</p>\n",
    "</td><td>\n",
    "<img src=\"https://raw.githubusercontent.com/rweeda/PythonIA/main/sql/img/voucher.jpg\" width=\"200\">\n",
    "\n",
    "\n",
    "\n",
    "\n",
    "<ol type=\"a\">\n",
    "  <li>Schrijf een CREATE TABLE-query voor de tabel <i>kortingsbon</i>. Bedenk welke kolommen je nodig hebt, en welke datatypes je gebruikt. Denk aan:\n",
    "    <ul>\n",
    "      <li>Een primary key: <b>boncode</b></li>\n",
    "      <li>Automatisch doornummeren met AUTOINCREMENT</li>\n",
    "      <li>De juiste datatypes: TEXT, INTEGER, REAL</li>\n",
    "    </ul>\n",
    "  </li>\n",
    "  <li>Als je met <code>SELECT *</code> controleert of de tabel is aangemaakt, zie je geen gegevens. Waarom is dat?</li>\n",
    "</ol>\n",
    "\n"
   ]
  },
  {
   "cell_type": "code",
   "execution_count": null,
   "id": "57adddce",
   "metadata": {
    "vscode": {
     "languageId": "sql"
    }
   },
   "outputs": [],
   "source": [
    "-- a) maak hier een nieuw tabel aan"
   ]
  },
  {
   "cell_type": "code",
   "execution_count": null,
   "id": "0243c67f",
   "metadata": {
    "vscode": {
     "languageId": "sql"
    }
   },
   "outputs": [],
   "source": [
    "-- b) controleer of de tabel is aangemaakt"
   ]
  }
 ],
 "metadata": {
  "language_info": {
   "name": "python"
  }
 },
 "nbformat": 4,
 "nbformat_minor": 5
}
