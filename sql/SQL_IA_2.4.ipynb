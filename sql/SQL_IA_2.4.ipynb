{
 "cells": [
  {
   "cell_type": "markdown",
   "id": "af5b38ae",
   "metadata": {},
   "source": [
    "## 2.4: Commando's voor het ophalen van informatie\n",
    "\n",
    "De taal voor het ophalen van informatie bestaat uit slechts 6 commando’s waarmee je \n",
    "leert werken. De commando’s zijn:\n",
    "\n",
    "\n",
    "<p><img src=\"https://raw.githubusercontent.com/rweeda/PythonIA/main/sql/img/H1_commandos.png\" alt=\"Commando's voor het ophalen van informatie\" width=\"400\"></p>\n",
    "\n",
    "\n",
    "Je hoeft niet alle commando's te gebruiken, maar ze staan wel <b>altijd in deze volgorde</b>.\n"
   ]
  }
 ],
 "metadata": {
  "language_info": {
   "name": "python"
  }
 },
 "nbformat": 4,
 "nbformat_minor": 5
}
