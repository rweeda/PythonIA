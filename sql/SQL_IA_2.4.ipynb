{
 "cells": [
  {
   "cell_type": "markdown",
   "id": "064bdd42",
   "metadata": {},
   "source": [
    "### 2.4 Alle gegevens van een tabel ophalen\n",
    "\n",
    "<p>Om alle kolommen op te halen gebruik je na de SELECT een '*'</p>\n",
    "\n",
    "```SQL \n",
    "SELECT * \n",
    "FROM tabelnaam;\n",
    "```\n",
    "\n",
    "### Opdracht 2.4.1 Alle gegevens van tabel <code>pizza</code> ophalen\n",
    "<table width=\"100%\">\n",
    "  <tr><td style=\"text-align:left; vertical-align:top; font-size:1.25rem;\" width=\"35%\">\n",
    "Toon alle kolommen met gegevens van tabel <code>pizza</code>, zoals in het\n",
    "voorbeeld hiernaast.\n",
    "    </td>\n",
    "    <td width=\"65%\">\n",
    "      <table border=\"1\">\n",
    "        <thead>\n",
    "          <tr>\n",
    "            <th>naam</th>\n",
    "            <th>omschrijving</th>\n",
    "            <th>basisprijs</th>\n",
    "          </tr>\n",
    "        </thead>\n",
    "        <tbody>\n",
    "          <tr>\n",
    "            <td>Margherita</td>\n",
    "            <td>Tomaat, kaas en oregano</td>\n",
    "            <td>6.0</td>\n",
    "          </tr>\n",
    "          <tr>\n",
    "            <td>Napoletana</td>\n",
    "            <td>Tomaat, kaas, ansjovis, olijven, kappertjes en oregano</td>\n",
    "            <td>7.5</td>\n",
    "          </tr>\n",
    "          <tr>\n",
    "            <td>Prosciutto</td>\n",
    "            <td>Tomaat, kaas, ham en oregano</td>\n",
    "            <td>7.5</td>\n",
    "          </tr>\n",
    "          <tr>\n",
    "            <td>Funghi</td>\n",
    "            <td>Tomaat, kaas, champignons en oregano</td>\n",
    "            <td>7.5</td>\n",
    "          </tr>\n",
    "          <tr>\n",
    "            <td>...</td>\n",
    "            <td>...</td>\n",
    "            <td>...</td>\n",
    "          </tr>\n",
    "          <tr>\n",
    "            <td>Combinazione</td>\n",
    "            <td>Eigen keuze pizza</td>\n",
    "            <td>10.5</td>\n",
    "          </tr>\n",
    "        </tbody>\n",
    "      </table>\n",
    "    </td>\n",
    "  </tr>\n",
    "</table>"
   ]
  },
  {
   "cell_type": "code",
   "execution_count": null,
   "id": "55f01018",
   "metadata": {
    "vscode": {
     "languageId": "sql"
    }
   },
   "outputs": [],
   "source": []
  },
  {
   "cell_type": "markdown",
   "id": "8db4b123",
   "metadata": {},
   "source": [
    "<p>Bekijk <a\n",
    "href=\"https://rweeda.github.io/PythonIA/docs/IA_sql_oplossingen.html#opgave241\"\n",
    "target=\"_blank\">hier</a> de voorbeelduitwerking.</p>\n",
    "\n",
    "<!-- ANTWOORD: <pre><code class=\"language-sql\"> SELECT * FROM pizza;\n",
    "</code></pre> -->\n",
    "\n"
   ]
  }
 ],
 "metadata": {
  "language_info": {
   "name": "python"
  }
 },
 "nbformat": 4,
 "nbformat_minor": 5
}
