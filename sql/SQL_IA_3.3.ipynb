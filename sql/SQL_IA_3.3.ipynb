{
 "cells": [
  {
   "cell_type": "markdown",
   "id": "3630aac3",
   "metadata": {},
   "source": [
    "\n",
    "## 3.3: Gegevens sorteren met ORDER BY\n",
    "\n",
    "Met ORDER BY kun je resultaten sorteren.\n",
    "Hierbij moet je aangeven op welke kolom er gesorteerd moet worden en of het oplopend ('ASC') of juist \n",
    "aflopend ('DESC') moet zijn. Geef altijd eerst de SELECT en FROM aan, en daarna de ORDER BY.\n",
    "\n",
    "\n",
    "\n",
    "Bijvoorbeeld, om de pizza's op oplopend op prijs te sorteren, dus met de goedkoopste pizza bovenaan:\n"
   ]
  },
  {
   "cell_type": "code",
   "execution_count": null,
   "id": "4b2997c5",
   "metadata": {
    "vscode": {
     "languageId": "sql"
    }
   },
   "outputs": [],
   "source": [
    "\n",
    "SELECT naam, basisprijs\n",
    "FROM pizza\n",
    "ORDER BY basisprijs ASC;\n",
    "\n"
   ]
  },
  {
   "cell_type": "markdown",
   "id": "a47ca729",
   "metadata": {},
   "source": [
    "\n",
    "Of om de bezorgers te aflopende sorteren op geboortedatum, dus met de jongste bezorger bovenaan:\n"
   ]
  },
  {
   "cell_type": "code",
   "execution_count": null,
   "id": "d551c33c",
   "metadata": {
    "vscode": {
     "languageId": "sql"
    }
   },
   "outputs": [],
   "source": [
    "\n",
    "SELECT naam, geboortedatum\n",
    "FROM bezorger\n",
    "ORDER BY gebdatum DESC;\n",
    "\n",
    "\n"
   ]
  },
  {
   "cell_type": "markdown",
   "id": "8418a9aa",
   "metadata": {},
   "source": [
    "Ter herinnering, hieronder de volgorde waarin alle commando's die gebruikt worden moeten staan:\n",
    "<p><img\n",
    "src=\"https://raw.githubusercontent.com/rweeda/PythonIA/main/sql/img/H1_commandos.png\"\n",
    "alt=\"Commando's voor het ophalen van informatie\" width=\"400\"></p>"
   ]
  },
  {
   "cell_type": "markdown",
   "id": "37243008",
   "metadata": {},
   "source": [
    "\n",
    "### Verwerkingsopdracht 3.3.1 de drie duurste pizza's\n",
    "\n",
    "<table width=\"100%\"><tr><td style=\"text-align:left; vertical-align:top; font-size:1.25rem;\" width=\"35%\">\n",
    "Geef een overzicht van de pizza's gesorteerd op prijs van laag naar hoog.\n",
    "</td><td width=\"65%\">\n",
    "    <table border=\"1\">\n",
    "  <thead>\n",
    "    <tr>\n",
    "      <th>naam</th>\n",
    "      <th>basisprijs</th>\n",
    "    </tr>\n",
    "  </thead>\n",
    "  <tbody>\n",
    "    <tr><td>Margherita</td><td>6</td></tr>\n",
    "    <tr><td>Cippola</td><td>6.5</td></tr>\n",
    "    <tr><td>Napoletana</td><td>7.5</td></tr>\n",
    "    <tr><td>...</td><td>...</td></tr>\n",
    "    <tr><td>Combinazione</td><td>10.5</td></tr>\n",
    "  </tbody>\n",
    "</table>\n",
    "\n",
    "</td></tr></table>\n"
   ]
  },
  {
   "cell_type": "code",
   "execution_count": null,
   "id": "ca8e6b5c",
   "metadata": {
    "vscode": {
     "languageId": "sql"
    }
   },
   "outputs": [],
   "source": []
  },
  {
   "cell_type": "markdown",
   "id": "91d73c0e",
   "metadata": {},
   "source": [
    "\n",
    "\n",
    "<p>Bekijk <a href=\"https://rweeda.github.io/PythonIA/docs/IA_sql_oplossingen.html#opgave331\" target=\"_blank\">hier</a> de voorbeelduitwerking.</p>\n",
    "<!-- ANTWOORD:\n",
    "<pre><code class=\"language-sql\">\n",
    "SELECT naam, basisprijs\n",
    "FROM pizza\n",
    "ORDER BY basisprijs;\n",
    "</code></pre>\n",
    "Ook goed:\n",
    "<pre><code class=\"language-sql\">\n",
    "SELECT naam, basisprijs\n",
    "FROM pizza\n",
    "ORDER BY basisprijs ASC;\n",
    "</code></pre>\n",
    "-->\n"
   ]
  },
  {
   "cell_type": "markdown",
   "id": "0deb6d34",
   "metadata": {},
   "source": [
    "\n",
    "### Verwerkingsopdracht 3.3.2 De vijf laatste bezorgingen\n",
    "<table width=\"100%\"><tr><td style=\"text-align:left; vertical-align:top; font-size:1.25rem;\" width=\"35%\">\n",
    "Geef een overzicht van de pizza's gesorteerd op <b>bestel_datum</b>, zoals in het overzicht hiernaast. <br>\n",
    "Tip: eerst aflopend sorteren, dan met LIMIT de bovenste acht bestellingen tonen.\n",
    "\n",
    "</td><td width=\"65%\">\n",
    "<table border=\"1\">\n",
    "  <thead>\n",
    "    <tr>\n",
    "      <th>bestelcode</th>\n",
    "      <th>bestel_datum</th>\n",
    "    </tr>\n",
    "  </thead>\n",
    "  <tbody>\n",
    "    <tr><td>1469</td><td>2022-03-03</td></tr>\n",
    "    <tr><td>1470</td><td>2022-03-03</td></tr>\n",
    "    <tr><td>1471</td><td>2022-03-03</td></tr>\n",
    "    <tr><td>1473</td><td>2022-03-03</td></tr>\n",
    "    <tr><td>1464</td><td>2022-03-02</td></tr>\n",
    "    <tr><td>1465</td><td>2022-03-02</td></tr>\n",
    "    <tr><td>1466</td><td>2022-03-02</td></tr>\n",
    "    <tr><td>1467</td><td>2022-03-02</td></tr>\n",
    "  </tbody>\n",
    "</table>\n",
    "\n",
    "\n",
    "    \n",
    "</td></tr></table>\n",
    "\n",
    "\n"
   ]
  },
  {
   "cell_type": "code",
   "execution_count": null,
   "id": "9e7df974",
   "metadata": {
    "vscode": {
     "languageId": "sql"
    }
   },
   "outputs": [],
   "source": []
  },
  {
   "cell_type": "markdown",
   "id": "3d8fd671",
   "metadata": {},
   "source": [
    "\n",
    "<p>Bekijk <a href=\"https://rweeda.github.io/PythonIA/docs/IA_sql_oplossingen.html#opgave332\" target=\"_blank\">hier</a> de voorbeelduitwerking.</p>\n",
    "<!-- ANTWOORD:\n",
    "<pre><code class=\"language-sql\">\n",
    "SELECT bestelcode, bestel_datum\n",
    "FROM bestelling\n",
    "ORDER BY bestel_datum DESC\n",
    "LIMIT 8;\n",
    "</code></pre>\n",
    "-->"
   ]
  },
  {
   "cell_type": "markdown",
   "id": "4e17b167",
   "metadata": {},
   "source": [
    "\n",
    "### Verwerkingsopdracht 3.3.3 Volgorde van onderdelen\n",
    "\n",
    "Zet de onderdelen van een SQL-query in de juiste volgorde:\n",
    "FROM – ORDER BY – LIMIT - SELECT – WHERE\n",
    "\n",
    "<p>Bekijk <a href=\"https://rweeda.github.io/PythonIA/docs/IA_sql_oplossingen.html#opgave333\" target=\"_blank\">hier</a> de voorbeelduitwerking.</p>\n",
    "<!-- ANTWOORD:\n",
    "SELECT\n",
    "FROM\n",
    "WHERE\n",
    "ORDER BY\n",
    "LIMIT\n",
    "-->\n",
    "\n"
   ]
  }
 ],
 "metadata": {
  "language_info": {
   "name": "python"
  }
 },
 "nbformat": 4,
 "nbformat_minor": 5
}
