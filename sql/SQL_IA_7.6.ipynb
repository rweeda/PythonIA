{
 "cells": [
  {
   "cell_type": "markdown",
   "id": "bafd11b8",
   "metadata": {},
   "source": [
    "\n",
    "## 7.6: Tabel aanpassen – Kolom toevoegen\n",
    "\n",
    "<p>Met een <code>ALTER TABLE</code>-query kun je de structuur van een bestaande tabel aanpassen, bijvoorbeeld door een kolom toe te voegen.</p>\n",
    "\n",
    "<pre><code class=\"language-sql\">\n",
    "ALTER TABLE tabelnaam\n",
    "ADD kolomnaam datatype;\n",
    "</code></pre>\n",
    "\n",
    "<ul>\n",
    "  <li>Achter <code>ALTER TABLE</code> geef je de naam van de tabel op.</li>\n",
    "  <li>Met <code>ADD</code> voeg je een kolom toe, gevolgd door de naam en het datatype.</li>\n",
    "</ul>\n",
    "\n",
    "<p>Voorbeeld: deze query voegt een kolom <b>email</b> toe aan de tabel <i>bezorger</i>:</p>\n",
    "\n",
    "<pre><code class=\"language-sql\">\n",
    "ALTER TABLE bezorger\n",
    "ADD email TEXT;\n",
    "</code></pre>\n"
   ]
  },
  {
   "cell_type": "markdown",
   "id": "13dabaf5",
   "metadata": {},
   "source": [
    "\n",
    "### Verwerkingsopdracht 7.6.1 Kolom geboortedatum toevoegen\n",
    "\n",
    "Voeg de kolom <b>geboortedatum</b> toe aan tabel <i>klant</i>. Bedenk daarbij welk datatype in SQLite gebruikt wordt voor geboortedatum: TEXT, INT of REAL. Controleer dan met SELECT * of het gelukt is.\n"
   ]
  },
  {
   "cell_type": "code",
   "execution_count": null,
   "id": "89cde280",
   "metadata": {
    "vscode": {
     "languageId": "sql"
    }
   },
   "outputs": [],
   "source": []
  },
  {
   "cell_type": "code",
   "execution_count": null,
   "id": "df952e7c",
   "metadata": {
    "vscode": {
     "languageId": "sql"
    }
   },
   "outputs": [],
   "source": []
  },
  {
   "cell_type": "markdown",
   "id": "1b10b6f0",
   "metadata": {},
   "source": [
    "\n",
    "<p>Bekijk <a\n",
    "href=\"https://rweeda.github.io/PythonIA/docs/IA_sql_oplossingen.html#opgave761\"\n",
    "target=\"_blank\">hier</a> de voorbeelduitwerking.</p>\n",
    "\n",
    "<!--\n",
    "<pre><code class=\"language-sql\">\n",
    "ALTER TABLE klant\n",
    "ADD geboortedatum TEXT;\n",
    "</code></pre>\n",
    "-->\n"
   ]
  }
 ],
 "metadata": {
  "language_info": {
   "name": "python"
  }
 },
 "nbformat": 4,
 "nbformat_minor": 5
}
