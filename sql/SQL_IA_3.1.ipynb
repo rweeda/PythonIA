{
 "cells": [
  {
   "cell_type": "markdown",
   "id": "9a34bd25",
   "metadata": {},
   "source": [
    "\n",
    "\n",
    "## 3.1: Voorwaarden met de <code>WHERE</code>\n",
    "\n",
    "<p>Met <code>WHERE</code> kun je beperken welke rijen getoond moet worden. Met <code>WHERE</code> kun\n",
    "je een voorwaarde aangeven, bijvoorbeeld: \"<i>waarbij de informatie voldoet aan\n",
    "...</i>\"</p>\n",
    "\n",
    "<p>Je geeft altijd eerst een <code>SELECT</code> op voor de gegevens die opgehaald moeten\n",
    "worden, dan met <code>FROM</code> de tabel waaruit de gegevens moeten komen, en met <code>WHERE</code>\n",
    "welke beperking geldt.</p>\n",
    "\n",
    "<table>\n",
    "  <tr><td style=\"text-align:left; vertical-align:top; font-size:1.25rem;\" width=\"50%\">\n",
    "<p>Bijvoorbeeld, met de volgende query tonen we alle pizza's die precies 8\n",
    "euro kosten:</p>\n",
    "\n",
    "```SQL \n",
    " SELECT * \n",
    " FROM pizza\n",
    " WHERE basisprijs=8;\n",
    " ```\n",
    "  </td>\n",
    "  <td width=\"50%\">\n",
    "<table border=\"1\">\n",
    "  <thead>\n",
    "    <tr>\n",
    "      <th>pizzacode</th>\n",
    "      <th>naam</th>\n",
    "      <th>omschrijving</th>\n",
    "      <th>basisprijs</th>\n",
    "    </tr>\n",
    "  </thead>\n",
    "  <tbody>\n",
    "    <tr>\n",
    "      <td>10</td>\n",
    "      <td>Capricciosa</td>\n",
    "      <td>Tomaat, kaas, ham, champignons, paprika, artisjokken en oregano</td>\n",
    "      <td>8.0</td>\n",
    "    </tr>\n",
    "    <tr>\n",
    "      <td>11</td>\n",
    "      <td>Primavera</td>\n",
    "      <td>Tomaat, kaas, ham, salami en oregano</td>\n",
    "      <td>8.0</td>\n",
    "    </tr>\n",
    "    <tr>\n",
    "      <td>12</td>\n",
    "      <td>Venezia</td>\n",
    "      <td>Tomaat, kaas, ham, champignons, ananas en oregano</td>\n",
    "      <td>8.0</td>\n",
    "    </tr>\n",
    "    <tr>\n",
    "      <td>...</td>\n",
    "      <td>...</td>\n",
    "      <td>...</td>\n",
    "      <td>8.0</td>\n",
    "    </tr>\n",
    "    <tr>\n",
    "      <td>30</td>\n",
    "      <td>Romana</td>\n",
    "      <td>Tomaat, kaas, spek, uien, champignons, ei en oregano</td>\n",
    "      <td>8.0</td>\n",
    "    </tr>\n",
    "  </tbody>\n",
    "</table>\n",
    "</td></tr></table>\n",
    "\n"
   ]
  },
  {
   "cell_type": "markdown",
   "id": "17200aa7",
   "metadata": {},
   "source": [
    "### Opdracht 3.1.1 Omschrijving tonen van de Inferno pizza \n",
    "<table>\n",
    "<tr><td style=\"text-align:left; vertical-align:top; font-size:1.25rem\" width=\"50%\">\n",
    "Schrijf een query om de\n",
    "omschrijving van de pizza <b>Inferno</b> te tonen, zoals in het voorbeeld\n",
    "hiernaast.\n",
    "</td> <td width=\"50%\">\n",
    "  <table border=\"1\">\n",
    "    <thead>\n",
    "      <tr>\n",
    "        <th>omschrijving</th>\n",
    "      </tr>\n",
    "    </thead>\n",
    "    <tbody>\n",
    "      <tr>\n",
    "        <td>Tomaat, kaas, ham, spaanse peper, kappertjes, salami, olijven en oregano</td>\n",
    "      </tr>\n",
    "    </tbody>\n",
    "  </table>\n",
    "</td></tr></table>\n",
    "\n"
   ]
  },
  {
   "cell_type": "code",
   "execution_count": null,
   "id": "e80d49f6",
   "metadata": {
    "vscode": {
     "languageId": "sql"
    }
   },
   "outputs": [],
   "source": []
  }
 ],
 "metadata": {
  "language_info": {
   "name": "python"
  },
  "latex_config": {
   "mathjax_url": "https://cdn.jsdelivr.net/npm/mathjax@3/es5/tex-mml-chtml.js"
  }
 },
 "nbformat": 4,
 "nbformat_minor": 5
}
