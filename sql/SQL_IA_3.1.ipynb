{
 "cells": [
  {
   "cell_type": "markdown",
   "id": "2136a5e4",
   "metadata": {},
   "source": [
    "## 3.1: Kolom hernoemen met <code>AS</code>\n",
    "\n",
    "Met `AS` kan je een kolomnaam hernoemen. Dit doe je na de `SELECT`:\n",
    "\n",
    "``` SQL\n",
    "SELECT kolomnaam_in_tabel AS kolomnaam_in_overzicht\n",
    "FROM tabel;\n",
    "```\n",
    "\n",
    "\n",
    "<table width=\"100%\">\n",
    "  <tr>\n",
    " <tr><td style=\"text-align:left; vertical-align:top; font-size:1.25rem;\" width=\"35%\">\n",
    "Bijvoorbeeld, om de kolom <b>naam</b> te tonen als <b>pizzanaam</b>:\n",
    "```SQL\n",
    "SELECT naam AS pizzanaam\n",
    "FROM pizza;\n",
    "```\n",
    "    </td>\n",
    "    <td width=\"65%\">\n",
    "<table border=\"1\">\n",
    "  <thead>\n",
    "    <tr>\n",
    "      <th>pizzanaam</th>\n",
    "    </tr>\n",
    "  </thead>\n",
    "  <tbody>\n",
    "    <tr><td>Margherita</td></tr>\n",
    "    <tr><td>Napoletana</td></tr>\n",
    "    <tr><td>Prosciutto</td></tr>\n",
    "    <tr><td>Funghi</td></tr>\n",
    "    <tr><td>Salame</td></tr>\n",
    "  </tbody>\n",
    "</table>\n",
    "    </td>\n",
    "  </tr>\n",
    "</table>\n",
    "\n",
    "\n",
    "\n",
    "### Verwerkingsopdracht 3.1.1 Kolom hernoemen\n",
    "<table>\n",
    " <tr><td style=\"text-align:left; vertical-align:top; font-size:1.25rem;\" width=\"35%\">\n",
    "Toon een overzicht van alle namen van de bezorgers zoals het overzicht hiernaast. Noem het kolom <b>bezorgernaam</b>. De gegevens komen uit tabel <i>bezorger</i>.\n",
    "</td><td width=65%>\n",
    "  <table border=\"1\">\n",
    "    <tr>\n",
    "      <th>bezorgernaam</th>\n",
    "    </tr>\n",
    "    <tr><td>Afhalen</td></tr>\n",
    "    <tr><td>Ageeth Mooy</td></tr>\n",
    "    <tr><td>Eric Henze</td></tr>\n",
    "    <tr><td>...</td></tr>\n",
    "    <tr><td>Herman Prent</td></tr>\n",
    "  </table>\n",
    "</td>\n",
    "</tr>\n",
    "</table>\n",
    "\n"
   ]
  },
  {
   "cell_type": "code",
   "execution_count": null,
   "id": "4b2997c5",
   "metadata": {
    "vscode": {
     "languageId": "sql"
    }
   },
   "outputs": [],
   "source": []
  },
  {
   "cell_type": "markdown",
   "id": "f11b8ce9",
   "metadata": {},
   "source": [
    "\n",
    "<p>Bekijk <a href=\"https://rweeda.github.io/PythonIA/docs/IA_sql_oplossingen.html#opgave311\" target=\"_blank\">hier</a> de voorbeelduitwerking.</p>\n",
    "<!-- ANTWOORD:\n",
    "<pre><code class=\"language-sql\">\n",
    "SELECT naam AS bezorgernaam\n",
    "FROM bezorger;\n",
    "</code></pre>\n",
    "-->"
   ]
  }
 ],
 "metadata": {
  "language_info": {
   "name": "python"
  }
 },
 "nbformat": 4,
 "nbformat_minor": 5
}
