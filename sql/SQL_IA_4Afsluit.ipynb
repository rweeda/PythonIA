{
 "cells": [
  {
   "cell_type": "markdown",
   "id": "89413f60",
   "metadata": {},
   "source": [
    "### Afsluitende Opdracht 3.17.5 Klanten buiten Enschede met 06-nummer\n",
    "<table width=\"100%\"><tr><td style=\"text-align:left; vertical-align:top; font-size:1.25rem;\" width=\"35%\">\n",
    "\n",
    "Tel het aantal klanten die een mobiel nummer (06) hebben maar <b>niet</b> in Enschede wonen. Noem de kolom zoals in het voorbeeld hiernaast.\n",
    "</td><td width=\"65%\">\n",
    "<table border=\"1\">\n",
    "  <thead>\n",
    "    <tr>\n",
    "      <th>aantal_klanten</th>\n",
    "    </tr>\n",
    "  </thead>\n",
    "  <tbody>\n",
    "    <tr>\n",
    "      <td>25</td>\n",
    "    </tr>\n",
    "  </tbody>\n",
    "</table>\n",
    "</td></tr></table>\n"
   ]
  },
  {
   "cell_type": "code",
   "execution_count": null,
   "id": "1e1fcbfa",
   "metadata": {
    "vscode": {
     "languageId": "sql"
    }
   },
   "outputs": [],
   "source": []
  },
  {
   "cell_type": "markdown",
   "id": "0577af69",
   "metadata": {},
   "source": [
    "\n",
    "<p>Bekijk <a href=\"https://rweeda.github.io/PythonIA/docs/IA_sql_oplossingen.html#opgave3175\" target=\"_blank\">hier</a> de voorbeelduitwerking.</p>\n",
    "<!-- ANTWOORD:\n",
    "<pre><code class=\"language-sql\">\n",
    "SELECT COUNT(*) AS aantal_klanten\n",
    "FROM klant\n",
    "WHERE telefoon LIKE '06%' \n",
    "  AND woonplaats <> 'Enschede';\n",
    "</code></pre>\n",
    "Ook goed:\n",
    "<pre><code class=\"language-sql\">\n",
    "SELECT COUNT(*) AS aantal_klanten\n",
    "FROM klant\n",
    "WHERE telefoon LIKE '06%' \n",
    "  AND NOT woonplaats = 'Enschede';\n",
    "</code></pre>\n",
    "-->"
   ]
  },
  {
   "cell_type": "markdown",
   "id": "94d82e0c",
   "metadata": {},
   "source": [
    "### Afsluitende Opdracht 3.17.8 Totaal aantal bestelde pizza's\n",
    "<table width=\"100%\"><tr><td style=\"text-align:left; vertical-align:top; font-size:1.25rem;\" width=\"35%\">\n",
    "Toon het totaal aantal bestelde pizza's, zoals hiernaast. De gegevens komen uit tabel <i>besteldePizza</i>.\n",
    "\n",
    "</td><td width=\"65%\">\n",
    "<table border=\"1\">\n",
    "  <thead>\n",
    "    <tr>\n",
    "      <th>aantal_bestelde_pizzas</th>\n",
    "    </tr>\n",
    "  </thead>\n",
    "  <tbody>\n",
    "    <tr>\n",
    "      <td>9757</td>\n",
    "    </tr>\n",
    "  </tbody>\n",
    "</table>\n",
    "\n",
    "</td></tr></table>\n",
    "\n"
   ]
  },
  {
   "cell_type": "code",
   "execution_count": null,
   "id": "88e975ff",
   "metadata": {
    "vscode": {
     "languageId": "sql"
    }
   },
   "outputs": [],
   "source": []
  },
  {
   "cell_type": "markdown",
   "id": "af8486b8",
   "metadata": {},
   "source": [
    "<p>Bekijk <a href=\"https://rweeda.github.io/PythonIA/docs/IA_sql_oplossingen.html#opgave3178\" target=\"_blank\">hier</a> de voorbeelduitwerking.</p>\n",
    "<!-- ANTWOORD:\n",
    "<pre><code class=\"language-sql\">\n",
    "SELECT SUM(aantal) AS aantal_bestelde_pizzas\n",
    "FROM besteldePizza\n",
    "</code></pre>\n",
    "-->"
   ]
  }
 ],
 "metadata": {
  "language_info": {
   "name": "python"
  }
 },
 "nbformat": 4,
 "nbformat_minor": 5
}
