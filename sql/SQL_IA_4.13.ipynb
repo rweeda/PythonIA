{
 "cells": [
  {
   "cell_type": "markdown",
   "id": "d3b1fca1",
   "metadata": {},
   "source": [
    "### 4.13: Afsluitende Opdrachten\n",
    "\n",
    "<p>Klik <a href=\"https://raw.githubusercontent.com/rweeda/PythonIA/main/sql/img/DaniloIA_ERD.png\" target=\"_blank\">hier</a> voor een overzicht van alle tabellen.</p>\n",
    "\n",
    "\n",
    "### Afsluitende Opdracht 4.13.1 De drie duurste pizza's\n",
    "\n",
    "<table width=\"100%\"><tr><td style=\"text-align:left; vertical-align:top; font-size:1.25rem;\" width=\"65%\">\n",
    "Toon van de drie duuste pizza's de <b>naam</b> en <b>basisprijs</b> zoals in het overzicht hiernaast.\n",
    "</td><td width=\"35%\">\n",
    "<table border=\"1\" cellpadding=\"4\" cellspacing=\"0\">\n",
    "  <thead>\n",
    "    <tr>\n",
    "      <th>naam</th>\n",
    "      <th>basisprijs</th>\n",
    "    </tr>\n",
    "  </thead>\n",
    "  <tbody>\n",
    "    <tr><td>Combinazione</td><td>10.5</td></tr>\n",
    "    <tr><td>Specialità di Danilo</td><td>9.5</td></tr>\n",
    "    <tr><td>Calzone (dichte pizza)</td><td>9</td></tr>\n",
    "  </tbody>\n",
    "</table>\n",
    "\n",
    "\n",
    "</td></tr></table>\n"
   ]
  },
  {
   "cell_type": "code",
   "execution_count": null,
   "id": "23166ecb",
   "metadata": {
    "vscode": {
     "languageId": "sql"
    }
   },
   "outputs": [],
   "source": []
  },
  {
   "cell_type": "markdown",
   "id": "a675ef9a",
   "metadata": {},
   "source": [
    "\n",
    "### Afsluitende Opdracht 4.13.2 Vijf goedkope pizza's\n",
    "<table width=\"100%\"><tr><td style=\"text-align:left; vertical-align:top; font-size:1.25rem;\" width=\"65%\">\n",
    "Geef een overzicht van de namen en prijzen van pizza’s die minder dan €8 kosten. Sorteer de namen op alfabetische volgorde en toon alleen de eerste vijf pizza's, zoals in het overzicht hiernaast.\n",
    "</td><td width=\"35%\">\n",
    "<table border=\"1\" cellpadding=\"4\" cellspacing=\"0\">\n",
    "  <thead>\n",
    "    <tr>\n",
    "      <th>Naam</th>\n",
    "      <th>Basisprijs</th>\n",
    "    </tr>\n",
    "  </thead>\n",
    "  <tbody>\n",
    "    <tr>\n",
    "      <td>Bolognese</td>\n",
    "      <td>7.5</td>\n",
    "    </tr>\n",
    "    <tr>\n",
    "      <td>Borromea</td>\n",
    "      <td>7.5</td>\n",
    "    </tr>\n",
    "    <tr>\n",
    "      <td>Calimero</td>\n",
    "      <td>7.5</td>\n",
    "    </tr>\n",
    "    <tr>\n",
    "      <td>Cippola</td>\n",
    "      <td>6.5</td>\n",
    "    </tr>\n",
    "    <tr>\n",
    "      <td>Funghi</td>\n",
    "      <td>7.5</td>\n",
    "    </tr>\n",
    "  </tbody>\n",
    "</table>\n",
    "\n",
    "\n",
    "\n",
    "</td></tr></table>"
   ]
  },
  {
   "cell_type": "code",
   "execution_count": null,
   "id": "37723fbb",
   "metadata": {
    "vscode": {
     "languageId": "sql"
    }
   },
   "outputs": [],
   "source": []
  },
  {
   "cell_type": "markdown",
   "id": "13a68860",
   "metadata": {},
   "source": [
    "### Afsluitende Opdracht 4.13.3 Gemiddelde prijs\n",
    "<table width=\"100%\"><tr><td style=\"text-align:left; vertical-align:top; font-size:1.25rem;\" width=\"65%\">\n",
    "<p>Toon de gemiddelde prijs van alle pizza’s zonder ham. Hernoem de kolom zoals in het overzicht hiernaast.</p>\n",
    "<p>Tip: begin met een overzicht van alle pizza’s zonder ham.</p>\n",
    "</td><td width=\"35%\">\n",
    "  <table border=\"1\">\n",
    "    <tr>\n",
    "      <th>gemiddelde_prijs_zonder_ham</th>\n",
    "    </tr>\n",
    "    <tr>\n",
    "      <td>8.07</td>\n",
    "    </tr>\n",
    "  </table>\n",
    "\n",
    "</td></tr></table>\n"
   ]
  },
  {
   "cell_type": "code",
   "execution_count": null,
   "id": "c6fd56c8",
   "metadata": {
    "vscode": {
     "languageId": "sql"
    }
   },
   "outputs": [],
   "source": []
  },
  {
   "cell_type": "markdown",
   "id": "74525075",
   "metadata": {},
   "source": [
    "### Afsluitende Opdracht 4.13.4 Plaatsen met vaste telefoonnummers\n",
    "<table width=\"100%\"><tr><td style=\"text-align:left; vertical-align:top; font-size:1.25rem;\" width=\"65%\">\n",
    "Hoeveel unieke woonplaatsen zijn er onder klanten die geen 06-nummer hebben opgegeven?\n",
    "</td><td width=\"35%\">\n",
    "<table border=\"1\" cellpadding=\"4\" cellspacing=\"0\">\n",
    "  <thead>\n",
    "    <tr>\n",
    "      <th>woonplaatsen_zonder_06</th>\n",
    "    </tr>\n",
    "  </thead>\n",
    "  <tbody>\n",
    "    <tr><td>3</td></tr>\n",
    "  </tbody>\n",
    "</table>\n",
    "\n",
    "\n",
    "</td></tr></table>\n",
    "\n",
    "\n"
   ]
  },
  {
   "cell_type": "code",
   "execution_count": null,
   "id": "c30c7a80",
   "metadata": {
    "vscode": {
     "languageId": "sql"
    }
   },
   "outputs": [],
   "source": []
  },
  {
   "cell_type": "markdown",
   "id": "de4e06f1",
   "metadata": {},
   "source": [
    "### Afsluitende Opdracht 4.13.5 Aantal normale pizza's\n",
    "<table width=\"100%\"><tr><td style=\"text-align:left; vertical-align:top; font-size:1.25rem;\" width=\"65%\">\n",
    "<p>Toon hoeveel pizza’s tussen €7 en €10 kosten (inclusief 7 en 10). Hernoem de kolom zoals in het overzicht hiernaast.</p>\n",
    "<p>Tip: maak eerst een juist overzicht van de pizza’s die aan de voorwaarden voldoen.</p>\n",
    "\n",
    "</td><td width=\"35%\">\n",
    "  <table border=\"1\">\n",
    "    <tr>\n",
    "      <th>Aantal</th>\n",
    "    </tr>\n",
    "    <tr>\n",
    "      <td>33</td>\n",
    "    </tr>\n",
    "  </table>\n",
    "\n",
    "</td></tr></table>\n",
    "\n",
    "\n"
   ]
  },
  {
   "cell_type": "code",
   "execution_count": null,
   "id": "34e8ea70",
   "metadata": {
    "vscode": {
     "languageId": "sql"
    }
   },
   "outputs": [],
   "source": []
  },
  {
   "cell_type": "markdown",
   "id": "f1ee9024",
   "metadata": {},
   "source": [
    "### Afsluitende Opdracht 4.13.6 Totale toeslagen\n",
    "<table width=\"100%\"><tr><td style=\"text-align:left; vertical-align:top; font-size:1.25rem;\" width=\"65%\">\n",
    "<p>Wat is het totaal van alle toeslagen (<b>plusprijs</b>) voor formaat met een prijs hoger dan €1? De gegevens komen uit tabel <i>formaat</i>. Toon het overzicht zoals hiernaast.</p>\n",
    "</td><td width=\"35%\">\n",
    "<table border=\"1\" cellpadding=\"4\" cellspacing=\"0\">\n",
    "  <thead>\n",
    "    <tr>\n",
    "      <th>totaal_toeslagen</th>\n",
    "    </tr>\n",
    "  </thead>\n",
    "  <tbody>\n",
    "    <tr><td>1.5</td></tr>\n",
    "  </tbody>\n",
    "</table>\n",
    "\n",
    "\n",
    "</td></tr></table>\n",
    "\n"
   ]
  },
  {
   "cell_type": "code",
   "execution_count": null,
   "id": "b128a7a2",
   "metadata": {
    "vscode": {
     "languageId": "sql"
    }
   },
   "outputs": [],
   "source": []
  },
  {
   "cell_type": "markdown",
   "id": "5c894ccb",
   "metadata": {},
   "source": [
    "\n",
    "### Afsluitende Opdracht 4.13.7\n",
    "<table width=\"100%\"><tr><td style=\"text-align:left; vertical-align:top; font-size:1.25rem;\" width=\"65%\">\n",
    "<p>Je wilt weten wat de hoogste prijs is van een pizza die iets met vis te maken heeft (bijvoorbeeld in de omschrijving) of waarvan de naam eindigt op de letter 'a'.</p>\n",
    "<p>Tip: maak eerst een juist overzicht van de pizza's die aan de voorwaarden voldoen.</p>\n",
    "</td><td width=\"35%\">\n",
    "<table border=\"1\">\n",
    "    <tr>\n",
    "      <th>duurste</th>\n",
    "    </tr>\n",
    "    <tr>\n",
    "      <td>9</td>\n",
    "    </tr>\n",
    "  </table>\n",
    "\n",
    "</td></tr></table>\n",
    "\n"
   ]
  },
  {
   "cell_type": "code",
   "execution_count": null,
   "id": "c0e4e935",
   "metadata": {
    "vscode": {
     "languageId": "sql"
    }
   },
   "outputs": [],
   "source": []
  }
 ],
 "metadata": {
  "language_info": {
   "name": "python"
  },
  "latex_config": {
   "mathjax_url": "https://cdn.jsdelivr.net/npm/mathjax@3/es5/tex-mml-chtml.js"
  }
 },
 "nbformat": 4,
 "nbformat_minor": 5
}
