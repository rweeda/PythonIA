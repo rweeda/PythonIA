{
 "cells": [
  {
   "cell_type": "markdown",
   "id": "e73a46ed",
   "metadata": {},
   "source": [
    "## 3.13: MIN() – Laagste waarde\n",
    "\n",
    "`MIN(kolom)` geeft de **laagste waarde** (minimum) in een kolom terug. <br> \n",
    "\n",
    "\n",
    "<table width=\"100%\"><tr><td style=\"text-align:left; vertical-align:top; font-size:1.25rem;\" width=\"35%\">\n",
    "\n",
    "Bijvoorbeeld: Toon de goedkoopste pizza.\n",
    "\n",
    "```sql\n",
    "SELECT MIN(basisprijs) AS goedkoopste_pizza\n",
    "FROM pizza;\n",
    "```\n",
    "\n",
    "</td><td width=\"65%\">\n",
    "<table border=\"1\">\n",
    "  <thead>\n",
    "    <tr>\n",
    "      <th>goedkoopste_pizza</th>\n",
    "    </tr>\n",
    "  </thead>\n",
    "  <tbody>\n",
    "    <tr>\n",
    "      <td>6</td>\n",
    "    </tr>\n",
    "  </tbody>\n",
    "</table>\n",
    "\n",
    "</td></tr></table>\n",
    "\n",
    "\n",
    "### Verwerkingsopdracht 3.13.1 Vroegste bezorging\n",
    "\n",
    "<table width=\"100%\"><tr><td style=\"text-align:left; vertical-align:top; font-size:1.25rem;\" width=\"35%\">\n",
    "Toon de vroegste <b>bezorg_tijd</b> in de tabel <i>bestelling</i>.\n",
    "\n",
    "</td><td width=\"65%\">\n",
    "    <table border=\"1\">\n",
    "  <thead>\n",
    "    <tr>\n",
    "      <th>vroegste_bezorging</th>\n",
    "    </tr>\n",
    "  </thead>\n",
    "  <tbody>\n",
    "    <tr>\n",
    "      <td>17:47:00</td>\n",
    "    </tr>\n",
    "  </tbody>\n",
    "</table>\n",
    "\n",
    "</td></tr></table>\n",
    "\n",
    "\n"
   ]
  },
  {
   "cell_type": "code",
   "execution_count": null,
   "id": "4b2997c5",
   "metadata": {
    "vscode": {
     "languageId": "sql"
    }
   },
   "outputs": [],
   "source": []
  },
  {
   "cell_type": "markdown",
   "id": "7510dbf3",
   "metadata": {},
   "source": [
    "\n",
    "\n",
    "<p>Bekijk <a\n",
    "href=\"https://rweeda.github.io/PythonIA/docs/IA_sql_oplossingen.html#opgave3131\"\n",
    "target=\"_blank\">hier</a> de voorbeelduitwerking.</p>\n",
    " <!-- ANTWOORD:\n",
    "SELECT MIN(bezorg_tijd) AS vroegste_bezorging\n",
    "FROM bestelling;\n",
    "</code></pre> -->"
   ]
  }
 ],
 "metadata": {
  "language_info": {
   "name": "python"
  }
 },
 "nbformat": 4,
 "nbformat_minor": 5
}
