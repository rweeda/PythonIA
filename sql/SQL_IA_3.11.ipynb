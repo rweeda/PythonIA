{
 "cells": [
  {
   "cell_type": "markdown",
   "id": "0bf2b7eb",
   "metadata": {},
   "source": [
    "## 3.11: Samenvatting\n",
    "\n",
    "<ul>\n",
    "<li>3.1: Met <code>WHERE</code> kan je voorwaarden stellen aan welke gegevens er opgehaald worden. Voorbeeld:\n",
    "\n",
    "```SQL\n",
    "SELECT * FROM pizza WHERE basisprijs > 8;\n",
    "```\n",
    "</li>\n",
    "<li>3.2: Met de wiskundige operatoren '&lt;', '&lt;=', '&gt;', '&gt;=' en '&lt;&gt;' kun je getallen te vergelijken. Voorbeeld: <code>basisprijs <> 8</code> (niet gelijk aan 8).</li>\n",
    "\n",
    "<li>3.3: Met <code>LIKE</code> en joker '%' kun je zoeken naar delen van teksten. Voorbeeld: <code>WHERE naam LIKE 'M%'</code>.</li>\n",
    "\n",
    "<li>3.4: Met <code>AND</code> (EN) toon je gegevens die aan <i>alle voorwaarden</i> voldoen. Voorbeeld: <code>WHERE basisprijs > 8 AND basisprijs < 10 </code></li>\n",
    "\n",
    "\n",
    "<li>3.5: Met <code>OR</code> (OF) toon je gegevens die aan <i>één van de voorwaarden</i> voldoet. Voorbeeld voor resultaten die minder dan 7 euro kost of 'ham' bevatten: <code>WHERE basisprijs < 7 OR naam LIKE '%ham%'</code></li>\n",
    "\n",
    "<li>3.6: Met <code>NOT</code> (NIET) geef je een beperking aan waar het resultaat niet aan mag voldoen. Voorbeeld voor resultaat zonder kip: <code>WHERE NOT naam LIKE '%kip%'</code></li>\n",
    "\n",
    "\n",
    "<li>3.7: Je kunt <code>AND</code>, <code>OR</code> en <code>NOT</code> combineren. Gebruik daarbij haakjes. Voorbeeld:\n",
    "<code>WHERE (naam LIKE '%ham%' OR naam LIKE '%champignons%')\n",
    "  AND NOT naam LIKE '%salami%'</code></li>\n",
    "\n",
    "\n",
    "<li>3.8: Commentaar voeg je toe met <code>--</code>. Commentaar kun je gebruiken om delen van code tijdelijk weg te laten, bijvoorbeeld voor het opsporen van een fout (debuggen).\n",
    "<li>3.9: Nette code schrijf je met HOOFDLETTERS voor SQL-commando’s, elk commando op een nieuwe regel, afgesloten door een ';'\n",
    "<li>3.10: Je kan fouten opsporen door foutmeldingen te lezen, tikfouten te zoeken, en in kleine stapjes te werken;\n",
    "<li>De zes basis-onderdelen van een SQL-query (waarvan je de eerste drie nu kent) staan altijd op de volgorde zoals aangegeven in het tabel hieronder.\n",
    "</ul>\n",
    "\n",
    "| Commando | Doel                                    |\n",
    "|----------|-----------------------------------------|\n",
    "| SELECT   | Kies welke kolommen je wilt tonen       |\n",
    "| FROM     | Bepaal uit welke tabel je data haalt    |\n",
    "| WHERE    | (Optioneel) Stel voorwaarden aan de data|\n",
    "| GROUP BY | (Optioneel) Groeperen |\n",
    "| HAVING | (Optioneel) Voorwaarde op groep |\n",
    "| ORDER BY | (Optioneel) Sorteren |"
   ]
  }
 ],
 "metadata": {
  "language_info": {
   "name": "python"
  }
 },
 "nbformat": 4,
 "nbformat_minor": 5
}
