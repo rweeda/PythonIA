{
 "cells": [
  {
   "cell_type": "markdown",
   "id": "de5bb7f2",
   "metadata": {},
   "source": [
    "\n",
    "## 1.6: Database management system (DBMS) \n",
    "\n",
    "\n",
    "<p>Een database kan al snel heel groot\n",
    "worden. Er wordt niet alleen data in opgeslagen, maar ook data gewijzigd of\n",
    "verwijderd. Een andere belangrijke functie is het opvragen en combineren van\n",
    "gegevens. Bovendien heeft niet iedereen dezelfde toegang: als leerling kun je\n",
    "alleen je eigen gegevens zien, terwijl een docent bijvoorbeeld de cijfers van\n",
    "alle leerlingen kan bekijken, aanpassen of toevoegen.</p> \n",
    "\n",
    "\n",
    "<p>Al deze\n",
    "bedrijven, programma’s en apps maken gebruik van zogeheten databases. Een\n",
    "veelgebruikte soort is de relationele database: een database die bestaat uit\n",
    "meerdere tabellen die met elkaar in verband staan. Dat betekent dat gegevens\n",
    "uit de ene tabel gekoppeld zijn aan gegevens in een andere tabel. Deze\n",
    "databases worden beheerd door een <strong>database management system (DBMS)</strong>. </p>\n",
    "\n",
    "  <img src=\"https://raw.githubusercontent.com/rweeda/PythonIA/main/sql/img/H1_1dbase.png\" alt=\"DBMS\" width=\"1000\"/>\n",
    "\n",
    "\n",
    "<p>Zo’n systeem zorgt ervoor dat de data betrouwbaar en correct blijft, en\n",
    "dat wij op een eenvoudige en veilige manier informatie kunnen opvragen wanneer we die\n",
    "nodig hebben.</p>\n"
   ]
  }
 ],
 "metadata": {
  "language_info": {
   "name": "python"
  }
 },
 "nbformat": 4,
 "nbformat_minor": 5
}
