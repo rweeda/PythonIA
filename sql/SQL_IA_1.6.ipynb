{
 "cells": [
  {
   "cell_type": "markdown",
   "id": "de5bb7f2",
   "metadata": {},
   "source": [
    "\n",
    "## 1.6: Database Management System (DBMS) \n",
    "\n",
    "\n",
    "<p>Een database kan al snel heel groot\n",
    "worden. Er wordt niet alleen data in opgeslagen, maar ook data gewijzigd of\n",
    "verwijderd. Een andere belangrijke functie is het opvragen en combineren van\n",
    "gegevens. Bovendien heeft niet iedereen dezelfde toegang: als leerling kun je\n",
    "alleen je eigen gegevens zien, terwijl een docent bijvoorbeeld de cijfers van\n",
    "alle leerlingen kan bekijken, aanpassen of toevoegen.</p> \n",
    "\n",
    "<p>Grote bedrijven gebruiken een <strong>Database Management System (DBMS)</strong> om gegevens in zo'n grote database te beheren.Zo’n systeem zorgt ervoor dat de data betrouwbaar en correct blijft, en\n",
    "dat wij op een eenvoudige en veilige manier informatie kunnen opvragen wanneer we die\n",
    "nodig hebben.</p>\n",
    "\n",
    "<!--\n",
    "<p>Al deze\n",
    "bedrijven, programma’s en apps maken gebruik van zogeheten databases. Een\n",
    "veelgebruikte soort is de relationele database: een database die bestaat uit\n",
    "meerdere tabellen die met elkaar in verband staan. Dat betekent dat gegevens\n",
    "uit de ene tabel gekoppeld zijn aan gegevens in een andere tabel. Deze\n",
    "databases worden beheerd door een <strong>database management system (DBMS)</strong>. </p>\n",
    "-->\n",
    "  <img src=\"https://raw.githubusercontent.com/rweeda/PythonIA/main/sql/img/H1_1_dbase.png\" alt=\"DBMS\" width=\"1000\"/>\n",
    "\n",
    "\n",
    "Voorbeelden:\n",
    "<ul>\n",
    "<li><a href=\"https://www.oracle.com/database/\">Oracle</a>:\n",
    "Oracle is een bedrijf dat zelf databasesoftware maakt, en heel veel andere bedrijven gebruiken die software. Bijvoorbeeld banken, ziekenhuizen en overheden.<br>\n",
    " <img src=\"https://raw.githubusercontent.com/rweeda/PythonIA/main/sql/img/oracle.png\" alt=\"Oracle\" width=\"100\"/>\n",
    " </li>\n",
    "\n",
    "<li><a href=\"https://aws.amazon.com/products/databases/\">Amazon</a>: Amazon is een grote webwinkel. Ze slaan informatie op over miljoenen producten en klanten.<br>\n",
    " <img src=\"https://raw.githubusercontent.com/rweeda/PythonIA/main/sql/img/amazon.png\" alt=\"Amazon\" width=\"100\"/>\n",
    "</li>\n",
    "\n",
    "<li><a href=\"https://engineering.fb.com/2016/08/31/core-infra/myrocks-a-space-and-write-optimized-mysql-database/#:~:text=At%20Facebook%20we%20use%20MySQL,likes%2C%20comments%2C%20and%20shares.\">Facebook (Meta)</a>:\n",
    "Facebook bewaart veel gegevens over gebruikers, berichten, foto's en likes. Ze gebruiken o.a. MySQL en zelfgebouwde systemen om dat allemaal te regelen.<br>\n",
    " <img src=\"https://raw.githubusercontent.com/rweeda/PythonIA/main/sql/img/facebook.png\" alt=\"Facebook\" width=\"100\"/></li>\n",
    "\n",
    "\n",
    "<li><a href=\"https://www.designgurus.io/answers/detail/what-sql-does-netflix-use\">Netflix</a>:\n",
    "Netflix weet van elke gebruiker wat ze kijken en wanneer. Ook bewaren ze welke films en series er beschikbaar zijn. Ze gebruiken systemen zoals Cassandra en MySQL.<br>\n",
    " <img src=\"https://raw.githubusercontent.com/rweeda/PythonIA/main/sql/img/netflix.png\" alt=\"Netflix\" width=\"100\"/></li>\n",
    "\n",
    "\n",
    "\n",
    "</ul>\n"
   ]
  }
 ],
 "metadata": {
  "language_info": {
   "name": "python"
  }
 },
 "nbformat": 4,
 "nbformat_minor": 5
}
