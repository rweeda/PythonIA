{
 "cells": [
  {
   "cell_type": "markdown",
   "id": "d5eef3da",
   "metadata": {},
   "source": [
    "## 2.3: Meerdere kolommen uit een tabel halen\n",
    "\n",
    "Je kunt ook een meerdere kolommen ophalen. Dat doe je als volgt:\n",
    "\n",
    "```sql\n",
    "SELECT kolom1, kolom2, ... \n",
    "FROM tabelnaam;\n",
    "```\n",
    "\n",
    "### Verwerkingsopdracht 2.3.1 Menu printen\n",
    "<table width=\"100%\">\n",
    " <tr><td style=\"text-align:left; vertical-align:top; font-size:1.25rem;\" width=\"65%\">\n",
    "Maak een menu zoals hiernaast, door de <b>naam</b> en <b>basisprijs</b> van elk pizza uit het tabel <i>pizza</i> te halen.\n",
    "    </td>\n",
    "    <td width=\"35%\">\n",
    "      <table border=\"1\">\n",
    "        <thead>\n",
    "          <tr>\n",
    "            <th>naam</th>\n",
    "            <th>basisprijs</th>\n",
    "          </tr>\n",
    "        </thead>\n",
    "        <tbody>\n",
    "          <tr>\n",
    "            <td>Margherita</td>\n",
    "            <td>6.0</td>\n",
    "          </tr>\n",
    "          <tr>\n",
    "            <td>Napoletana</td>\n",
    "            <td>7.5</td>\n",
    "          </tr>\n",
    "          <tr>\n",
    "            <td>Prosciutto</td>\n",
    "            <td>7.5</td>\n",
    "          </tr>\n",
    "          <tr>\n",
    "            <td>Funghi</td>\n",
    "            <td>7.5</td>\n",
    "          </tr>\n",
    "          <tr>\n",
    "            <td>...</td>\n",
    "            <td>...</td>\n",
    "          </tr>\n",
    "          <tr>\n",
    "            <td>Combinazione</td>\n",
    "            <td>10.5</td>\n",
    "          </tr>\n",
    "        </tbody>\n",
    "      </table>\n",
    "    </td>\n",
    "  </tr>\n",
    "</table>\n"
   ]
  },
  {
   "cell_type": "code",
   "execution_count": null,
   "id": "21b7a70c",
   "metadata": {
    "vscode": {
     "languageId": "sql"
    }
   },
   "outputs": [],
   "source": []
  }
 ],
 "metadata": {
  "language_info": {
   "name": "python"
  },
  "latex_config": {
   "mathjax_url": "https://cdn.jsdelivr.net/npm/mathjax@3/es5/tex-mml-chtml.js"
  }
 },
 "nbformat": 4,
 "nbformat_minor": 5
}

