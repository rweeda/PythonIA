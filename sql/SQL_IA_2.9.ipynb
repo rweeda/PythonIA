{
 "cells": [
  {
   "cell_type": "markdown",
   "id": "384571ac",
   "metadata": {},
   "source": [
    "## 2.9: Nette code \n",
    "\n",
    "<p>Net als andere programmeertalen, zijn er afspraken om\n",
    "nette en leesbare queries te schrijven.</p>\n",
    "\n",
    "\n",
    "\n",
    "<ol> \n",
    "<li>Schrijf de SQL-opdrachten altijd met HOOFDLETTERS. \n",
    "<li>Schrijf elke opdracht op een nieuwe regel;\n",
    "<li>Als je meerdere items achter een SELECT of FROM opdracht hebt staan dan moet je deze scheiden met een komma;\n",
    "<li>Gebruik spaties om de leesbaarheid tussen items te vergroten;\n",
    "<li>Schrijf met <code>--</code> commentaar in je query om uit te leggen wat je doet (vooral bij WHERE en GROUP BY);\n",
    "<li>Sluit een query af met een puntkomma <code>;</code>.\n",
    "</ol>\n",
    "\n",
    "Hieronder een voorbeeld van nette code: \n",
    "\n",
    "```SQL\n",
    "SELECT naam, basisprijs FROM\n",
    "pizza -- Alleen pizza's bekijken die goedkoper zijn dan 10 euro -- EN duurder\n",
    "dan 8 euro 50 WHERE basisprijs <= 10 AND basisprijs >= 8.50;\n",
    "```\n",
    "\n",
    "### Opdracht 2.9.1 Query netjes opschrijven \n",
    "\n",
    "De query hieronder is niet zo netjes opgeschreven.\n",
    "<ol style=\"list-style-type: lower-alpha\"> \n",
    "<li>Voer de\n",
    "onderstaande query uit, dan zul je zien dat de query het gewoon doet. Bekijk\n",
    "de uitkomst. \n",
    "<li>Pas deze query aan zodat hij voldoet aan alle voorwaarden\n",
    "van nette code. \n",
    "<li>Voeg bij elke regel commentaar toe om aan te geven voor\n",
    "welk voorwaarde je het hebt aangepast. \n",
    "</ol>\n",
    "\n",
    "\n"
   ]
  },
  {
   "cell_type": "code",
   "execution_count": null,
   "id": "d70e7e84",
   "metadata": {
    "vscode": {
     "languageId": "sql"
    }
   },
   "outputs": [],
   "source": [
    "select naam,basisprijs From pizza wHERe basisprijs<8\n",
    "\n",
    "\n"
   ]
  },
  {
   "cell_type": "markdown",
   "id": "ec431108",
   "metadata": {},
   "source": [
    "<p>Bekijk <a\n",
    "href=\"https://rweeda.github.io/PythonIA/docs/IA_sql_oplossingen.html#opgave31\"\n",
    "target=\"_blank\">hier</a> de voorbeelduitwerking.</p>\n",
    "\n",
    "<!--ANTWOORD -- (1) SQL commando in hoofdletters, (4) spatie na de komma\n",
    "SELECT naam, basisprijs -- (2) Elke SQL commando op een nieuwe regel (en in\n",
    "hoofdletters) FROM pizza -- (4) spaties in de voorwaarde zodat het beter\n",
    "leesbaar is -- (6) en afsluiten met een ; (maar dat hoeft niet) WHERE\n",
    "basisprijs < 8; -->"
   ]
  }
 ],
 "metadata": {
  "language_info": {
   "name": "python"
  }
 },
 "nbformat": 4,
 "nbformat_minor": 5
}
