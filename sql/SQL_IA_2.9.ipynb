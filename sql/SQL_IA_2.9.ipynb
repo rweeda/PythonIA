{
 "cells": [
  {
   "cell_type": "markdown",
   "id": "94221070",
   "metadata": {},
   "source": [
    "\n",
    "## 2.9: Afsluitende Opdrachten\n",
    "\n",
    "<p>Klik <a href=\"https://raw.githubusercontent.com/rweeda/PythonIA/main/sql/img/DaniloIA_ERD.png\" target=\"_blank\">hier</a> voor een overzicht van alle tabellen.</p>\n",
    "\n",
    "### Afsluitende Opdracht 2.9.1 Kolomnamen opzoeken \n",
    "\n",
    "Je wil weten welke kolomnamen er in de\n",
    "tabel <i>bestelling</i> zitten. Welke query helpt je hierbij?\n",
    "\n"
   ]
  },
  {
   "cell_type": "code",
   "execution_count": null,
   "id": "3c9b0ebc",
   "metadata": {
    "vscode": {
     "languageId": "sql"
    }
   },
   "outputs": [],
   "source": []
  },
  {
   "cell_type": "markdown",
   "id": "bac02cec",
   "metadata": {},
   "source": [
    "\n",
    "### Afsluitende Opdracht 2.9.2 Menu\n",
    "\n",
    "<table width=\"100%\"><tr><td style=\"text-align:left; vertical-align:top; font-size:1.25rem;\" width=\"50%\">\n",
    "Toon van alle pizza's de omschrijving en de naam (in die volgorde).\n",
    "</td><td width=\"50%\">\n",
    "    <table border=\"1\">\n",
    "  <thead>\n",
    "    <tr>\n",
    "      <th>omschrijving</th>\n",
    "      <th>naam</th>\n",
    "    </tr>\n",
    "  </thead>\n",
    "  <tbody>\n",
    "    <tr><td>Tomaat,kaas en oregano</td><td>Margherita</td></tr>\n",
    "    <tr><td>Tomaat, kaas, ansjovis, olijven, kappertjes en oregano</td><td>Napoletana</td></tr>\n",
    "    <tr><td>Tomaat, kaas, ham en oregano</td><td>Prosciutto</td></tr>\n",
    "    <tr><td>Tomaat, kaas, champignons en oregano</td><td>Funghi</td></tr>\n",
    "    <tr><td>Tomaat, kaas, salami en oregano</td><td>Salame</td></tr>\n",
    "    <tr><td>...</td><td>...</td></tr>\n",
    "    <tr><td>Eigen keuze pizza</td><td>Combinazione</td></tr>\n",
    "  </tbody>\n",
    "</table>\n",
    "\n",
    "</td></tr></table>\n"
   ]
  },
  {
   "cell_type": "code",
   "execution_count": null,
   "id": "4cdae867",
   "metadata": {
    "vscode": {
     "languageId": "sql"
    }
   },
   "outputs": [],
   "source": []
  },
  {
   "cell_type": "markdown",
   "id": "bf0974be",
   "metadata": {},
   "source": [
    "### Afsluitende Opdracht 2.9.3 Alle bezorgers bekijken  \n",
    "<ol style=\"list-style-type: lower-alpha;\">\n",
    "<li>Toon alle kolommen en gegevens uit de tabel <i>bezorger</i>.  \n",
    "<li>Welke kolomnamen zie je terug? Geef er drie en leg kort uit wat ze betekenen.\n",
    "<li>Toon een overzicht van de kolom <b>naam</b> en hernoem die naar <b>bezorgernaam</b>.\n",
    "</ol>\n",
    "\n"
   ]
  },
  {
   "cell_type": "code",
   "execution_count": null,
   "id": "cd143ae3",
   "metadata": {
    "vscode": {
     "languageId": "sql"
    }
   },
   "outputs": [],
   "source": [
    "-- a. toon kolommen van tabel bezorger"
   ]
  },
  {
   "cell_type": "code",
   "execution_count": null,
   "id": "3abc92b5",
   "metadata": {
    "vscode": {
     "languageId": "sql"
    }
   },
   "outputs": [],
   "source": [
    "-- c. toon allen kolom 'naam' en hernoem deze naar 'bezorgernaam'"
   ]
  }
 ],
 "metadata": {
  "language_info": {
   "name": "python"
  },
  "latex_config": {
   "mathjax_url": "https://cdn.jsdelivr.net/npm/mathjax@3/es5/tex-mml-chtml.js"
  }
 },
 "nbformat": 4,
 "nbformat_minor": 5
}
