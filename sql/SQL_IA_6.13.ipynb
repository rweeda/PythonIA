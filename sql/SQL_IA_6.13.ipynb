{
 "cells": [
  {
   "cell_type": "markdown",
   "id": "65e0d5e6",
   "metadata": {},
   "source": [
    "## 6.13: Afsluitende Opdrachten\n",
    "\n",
    "<p>Klik <a href=\"https://raw.githubusercontent.com/rweeda/PythonIA/main/sql/img/DaniloIA_ERD.png\" target=\"_blank\">hier</a> voor een overzicht van alle tabellen van Danilo's Pizzeria.</p>"
   ]
  },
  {
   "cell_type": "markdown",
   "id": "85665160",
   "metadata": {},
   "source": [
    "\n",
    "<p>\n",
    "Bij Danilo’s Pizzeria kunnen klanten tegenwoordig ook online hun mening geven over pizza’s. Elke beoordeling wordt opgeslagen in een nieuwe tabel: <i>review</i>. In een review staat bij welke pizza de beoordeling hoort, welk cijfer de klant geeft (1 t/m 10) en of er een opmerking is achtergelaten.\n",
    "</p>\n",
    "\n"
   ]
  },
  {
   "cell_type": "markdown",
   "id": "43bf66ae",
   "metadata": {},
   "source": [
    "### Afsluitende Opdracht 6.13.1 Keys bepalen\n",
    "\n",
    "<p>Het schema hiernaast geeft aan hoe de tabel <i>review</i> gekoppeld is aan tabel <i>pizza</i>. Bekijk het schema en beantwoord dan de bijbehorende vragen.</p>\n",
    "\n",
    "<img src=\"https://raw.githubusercontent.com/rweeda/PythonIA/main/sql/img/ERD_tabelReviewPizza.png\" alt=\"Tabellen pizza en review\" width=\"300\">\n",
    "\n",
    "<ol type=\"a\">\n",
    "<li>Welke kolom in de tabel <i>review</i> is de primary key?</li>\n",
    "<li>In welke tabel staat de foreign key waarmee de tabellen zijn gekoppeld?</li>\n",
    "</ol>\n",
    "\n",
    "\n",
    "\n",
    "### Afsluitende Opdracht 6.13.2 Tabel <i>review</i> aanmaken\n",
    "\n",
    "<p>Maak een tabel <i>review</i> aan om de beoordelingen van klanten bij te houden. De tabel heeft de volgende kolommen:\n",
    "\n",
    "<ul>\n",
    "<li><b>reviewcode</b> is de unieke code voor elke review en wordt automatisch opgehoogd.\n",
    "<li><b>pizzacode</b> is een foreign key die verwijst naar een bestaande pizza.\n",
    "<li><b>beoordeling</b> is een cijfer (bijv. 1–10).\n",
    "<li><b>opmerking</b> is vrije tekst.\n",
    "</ul>\n",
    "\n",
    "\n",
    "\n",
    "<table width=\"100%\"><tr><td style=\"text-align:left; vertical-align:top; font-size:1.25rem;\" width=\"55%\">\n",
    "<p>\n",
    "Hiernaast zie je de structuur en voorbeeldgegevens van de nieuwe tabel:\n",
    "</p>\n",
    "\n",
    "\n",
    "<ol type=\"a\">\n",
    "<li>Maak de tabel <i>review</i> aan met de juiste kolommen en datatypes.</li>\n",
    "<li>Voeg drie rijen met gegevens toe aan de tabel, bijvoorbeeld die uit het voorbeeld.</li>\n",
    "<li>Controleer met <code>SELECT *</code> of de tabel goed gevuld is.</li>\n",
    "</ol>\n",
    "\n",
    "\n",
    "\n",
    "</td><td width=\"45%\">\n",
    "Tabel: <i>review</i>\n",
    "<table border=\"1\" cellpadding=\"4\" cellspacing=\"0\">\n",
    "  <thead>\n",
    "    <tr>\n",
    "      <th>reviewID</th>\n",
    "      <th>pizzacode</th>\n",
    "      <th>beoordeling</th>\n",
    "      <th>opmerking</th>\n",
    "    </tr>\n",
    "  </thead>\n",
    "  <tbody>\n",
    "    <tr>\n",
    "      <td>1</td>\n",
    "      <td>11</td>\n",
    "      <td>8</td>\n",
    "      <td>Lekkere bodem en goed belegd.</td>\n",
    "    </tr>\n",
    "    <tr>\n",
    "      <td>2</td>\n",
    "      <td>7</td>\n",
    "      <td>6</td>\n",
    "      <td>Beetje te pittig naar mijn smaak.</td>\n",
    "    </tr>\n",
    "    <tr>\n",
    "      <td>3</td>\n",
    "      <td>2</td>\n",
    "      <td>9</td>\n",
    "      <td>Heerlijke kaascombinatie!</td>\n",
    "    </tr>\n",
    "  </tbody>\n",
    "</table>\n",
    "\n",
    "</td></tr></table>\n",
    "\n"
   ]
  },
  {
   "cell_type": "code",
   "execution_count": null,
   "id": "e7532658",
   "metadata": {
    "vscode": {
     "languageId": "sql"
    }
   },
   "outputs": [],
   "source": [
    "-- a) maak hier de tabel 'review' aan"
   ]
  },
  {
   "cell_type": "code",
   "execution_count": null,
   "id": "23d408c6",
   "metadata": {
    "vscode": {
     "languageId": "sql"
    }
   },
   "outputs": [],
   "source": [
    "-- b) vul hier de tabel 'review' met een paar voorbeeld reviews"
   ]
  },
  {
   "cell_type": "code",
   "execution_count": null,
   "id": "efa3fc7f",
   "metadata": {
    "vscode": {
     "languageId": "sql"
    }
   },
   "outputs": [],
   "source": [
    "-- c) controleer of de tabel 'review' goed is aangemaakt en gevuld\n",
    "SELECT *\n",
    "FROM review"
   ]
  },
  {
   "cell_type": "markdown",
   "id": "955a9c75",
   "metadata": {},
   "source": [
    "### Afsluitende Opdracht 6.13.3 Reviews verwijderen en aanpassen\n",
    "\n",
    "\n",
    "<table width=\"100%\"><tr><td style=\"text-align:left; vertical-align:top; font-size:1.25rem;\" width=\"65%\">\n",
    "\n",
    "<p>Gebruik de tabel <code>review</code> die je in de vorige opdracht hebt aangemaakt en beantwoord de onderstaande vragen. Het resultaat ziet eruit zoals in het overzicht hiernaast.</p>\n",
    "\n",
    "<ol type=\"a\">\n",
    "  <li>Verwijder de review met <code>reviewcode = 2</code> uit de tabel.</li>\n",
    "  <li>Pas de beoordeling van <code>reviewcode = 1</code> aan naar een 9.</li>\n",
    "  <li>Controleer of de aanpassingen goed zijn doorgevoerd.</li>\n",
    "  <li>Wat gebeurt er als je een <code>DELETE</code>-opdracht uitvoert zonder <code>WHERE</code>-voorwaarde?</li>\n",
    "</ol>\n",
    "\n",
    "\n",
    "</td><td width=\"35%\">\n",
    "\n",
    "<table border=\"1\" cellpadding=\"4\" cellspacing=\"0\">\n",
    "  <thead>\n",
    "    <tr>\n",
    "      <th>reviewcode</th>\n",
    "      <th>pizzacode</th>\n",
    "      <th>beoordeling</th>\n",
    "      <th>opmerking</th>\n",
    "    </tr>\n",
    "  </thead>\n",
    "  <tbody>\n",
    "    <tr>\n",
    "      <td>1</td>\n",
    "      <td>11</td>\n",
    "      <td>9</td>\n",
    "      <td>Lekkere bodem en goed belegd.</td>\n",
    "    </tr>\n",
    "    <tr>\n",
    "      <td>3</td>\n",
    "      <td>2</td>\n",
    "      <td>9</td>\n",
    "      <td>Heerlijke kaascombinatie!</td>\n",
    "    </tr>\n",
    "  </tbody>\n",
    "</table>\n",
    "\n",
    "\n",
    "</td></tr></table>"
   ]
  },
  {
   "cell_type": "code",
   "execution_count": null,
   "id": "a9ee2699",
   "metadata": {
    "vscode": {
     "languageId": "sql"
    }
   },
   "outputs": [],
   "source": [
    "-- a) verwijder review met reviewcode 2"
   ]
  },
  {
   "cell_type": "code",
   "execution_count": null,
   "id": "89858ce5",
   "metadata": {
    "vscode": {
     "languageId": "sql"
    }
   },
   "outputs": [],
   "source": [
    "-- b) pas de beoordeling van review met reviewcode 1 aan naar 9"
   ]
  },
  {
   "cell_type": "code",
   "execution_count": null,
   "id": "c2e610f9",
   "metadata": {
    "vscode": {
     "languageId": "sql"
    }
   },
   "outputs": [],
   "source": [
    "-- c) controleer of de tabel review goed is aangepast\n",
    "SELECT *\n",
    "FROM review"
   ]
  },
  {
   "cell_type": "markdown",
   "id": "12b2b763",
   "metadata": {},
   "source": [
    "### Afsluitende Opdracht 6.13.4 Kolom <b>datum</b> toevoegen\n",
    "\n",
    "<table width=\"100%\"><tr><td style=\"text-align:left; vertical-align:top; font-size:1.25rem;\" width=\"65%\">\n",
    "\n",
    "\n",
    "<p>\n",
    "Danilo wil nu bijhouden wanneer een review is geplaatst. Voeg daarom een nieuwe kolom <b>datum</b> toe aan de tabel <i>review</i> om de datum vast te leggen.\n",
    "</p>\n",
    "\n",
    "<ol>\n",
    "  <li>Voeg de kolom <b>datum</b> (type: <code>TEXT</code>) toe met een <code>ALTER TABLE</code>-opdracht.</li>\n",
    "  <li>Vul daarna de datum in voor bestaande reviews, bijvoorbeeld '<code>2025-07-30</code>' voor de reviewcode 1 en '<code>2025-08-15</code>' voor reviewcode 3.</li>\n",
    "  <li>Controleer of de aanpassingen correct zijn door de tabel opnieuw op te vragen.</li>\n",
    "</ol>\n",
    "\n",
    "</td><td width=\"35%\">\n",
    "\n",
    "<table border=\"1\" cellpadding=\"4\" cellspacing=\"0\">\n",
    "  <thead>\n",
    "    <tr>\n",
    "      <th>reviewcode</th>\n",
    "      <th>pizzacode</th>\n",
    "      <th>beoordeling</th>\n",
    "      <th>opmerking</th>\n",
    "      <th>datum</th>\n",
    "    </tr>\n",
    "  </thead>\n",
    "  <tbody>\n",
    "    <tr>\n",
    "      <td>1</td>\n",
    "      <td>11</td>\n",
    "      <td>9</td>\n",
    "      <td>Lekkere bodem en goed belegd.</td>\n",
    "      <td>2025-07-30</td>\n",
    "    </tr>\n",
    "    <tr>\n",
    "      <td>3</td>\n",
    "      <td>2</td>\n",
    "      <td>9</td>\n",
    "      <td>Heerlijke kaascombinatie!</td>\n",
    "      <td>2025-08-15</td>\n",
    "    </tr>\n",
    "  </tbody>\n",
    "</table>\n",
    "\n",
    "</td></tr></table>"
   ]
  },
  {
   "cell_type": "code",
   "execution_count": null,
   "id": "e12c718b",
   "metadata": {
    "vscode": {
     "languageId": "sql"
    }
   },
   "outputs": [],
   "source": [
    "-- a) voeg de kolom datum toe aan de tabel review"
   ]
  },
  {
   "cell_type": "code",
   "execution_count": null,
   "id": "94321e98",
   "metadata": {
    "vscode": {
     "languageId": "sql"
    }
   },
   "outputs": [],
   "source": [
    "-- b) vul datum in voor bestaande reviews"
   ]
  },
  {
   "cell_type": "code",
   "execution_count": null,
   "id": "5922346e",
   "metadata": {
    "vscode": {
     "languageId": "sql"
    }
   },
   "outputs": [],
   "source": [
    "-- c) controleer of de tabel review goed is aangepast en gevuld\n",
    "SELECT *\n",
    "FROM review"
   ]
  },
  {
   "cell_type": "markdown",
   "id": "a5d2e53e",
   "metadata": {
    "vscode": {
     "languageId": "sql"
    }
   },
   "source": [
    "### Afsluitende Opdracht 6.13.5 Kolom <b>opmerking</b> hernoemen\n",
    "\n",
    "\n",
    "<table width=\"100%\"><tr><td style=\"text-align:left; vertical-align:top; font-size:1.25rem;\" width=\"65%\">\n",
    "\n",
    "<p>\n",
    "Danilo wil dat je de kolom <b>opmerking</b> hernoemt naar <b>toelichting</b>, omdat die naam beter past bij de inhoud.\n",
    "</p>\n",
    "\n",
    "<ol>\n",
    "  <li>Gebruik een <code>ALTER TABLE</code>-opdracht om de kolom te hernoemen.</li>\n",
    "  <li>Controleer of de kolom succesvol is hernoemd de tabel opnieuw op te vragen.</li>\n",
    "</ol>\n",
    "\n",
    "</td><td width=\"35%\">\n",
    "\n",
    "<table border=\"1\" cellpadding=\"4\" cellspacing=\"0\">\n",
    "  <thead>\n",
    "    <tr>\n",
    "      <th>reviewcode</th>\n",
    "      <th>pizzacode</th>\n",
    "      <th>beoordeling</th>\n",
    "      <th>toelichting</th>\n",
    "      <th>datum</th>\n",
    "    </tr>\n",
    "  </thead>\n",
    "  <tbody>\n",
    "    <tr>\n",
    "      <td>1</td>\n",
    "      <td>11</td>\n",
    "      <td>9</td>\n",
    "      <td>Lekkere bodem en goed belegd.</td>\n",
    "      <td>2025-07-30</td>\n",
    "    </tr>\n",
    "    <tr>\n",
    "      <td>3</td>\n",
    "      <td>2</td>\n",
    "      <td>9</td>\n",
    "      <td>Heerlijke kaascombinatie!</td>\n",
    "      <td>2025-08-15</td>\n",
    "    </tr>\n",
    "  </tbody>\n",
    "</table>\n",
    "\n",
    "</td></tr></table>\n"
   ]
  },
  {
   "cell_type": "code",
   "execution_count": null,
   "id": "01e24bf7",
   "metadata": {
    "vscode": {
     "languageId": "sql"
    }
   },
   "outputs": [],
   "source": [
    "-- a) hernoem de kolom opmerking naar toelichting"
   ]
  },
  {
   "cell_type": "code",
   "execution_count": null,
   "id": "3d569251",
   "metadata": {
    "vscode": {
     "languageId": "sql"
    }
   },
   "outputs": [],
   "source": [
    "-- b) controleer je wijzigingen\n",
    "SELECT *\n",
    "FROM review"
   ]
  },
  {
   "cell_type": "markdown",
   "id": "bff4ab73",
   "metadata": {
    "vscode": {
     "languageId": "sql"
    }
   },
   "source": [
    "### Afsluitende Opdracht 6.13.6 Tabel <i>review</i> hernoemen\n",
    "\n",
    "<p>\n",
    "Danilo wil dat de tabel <i>review</i> voortaan <i>beoordeling</i> heet.\n",
    "</p>\n",
    "\n",
    "<ol>\n",
    "  <li>Gebruik een <code>ALTER TABLE ... RENAME TO</code>-opdracht om de tabelnaam aan te passen.</li>\n",
    "</ol>"
   ]
  },
  {
   "cell_type": "code",
   "execution_count": null,
   "id": "6a9d0a88",
   "metadata": {
    "vscode": {
     "languageId": "sql"
    }
   },
   "outputs": [],
   "source": []
  },
  {
   "cell_type": "markdown",
   "id": "20873817",
   "metadata": {
    "vscode": {
     "languageId": "sql"
    }
   },
   "source": [
    "### Afsluitende Opdracht 6.13.7 Tabel <i>beoordeling</i> verwijderen\n",
    "\n",
    "<p>\n",
    "Danilo wil dat je de tabel <i>beoordeling</i> helemaal verwijdert uit de database.\n",
    "</p>\n",
    "\n",
    "<ol type=\"a\">\n",
    "  <li>Gebruik de juiste SQL-opdracht om dit te doen.</li>\n",
    "  <li>Controleer of de tabel inderdaad verwijderd is.</li>\n",
    "</ol>\n"
   ]
  },
  {
   "cell_type": "code",
   "execution_count": null,
   "id": "9f09c13c",
   "metadata": {
    "vscode": {
     "languageId": "sql"
    }
   },
   "outputs": [],
   "source": [
    "-- a) verwijder de tabel beoordeling"
   ]
  },
  {
   "cell_type": "code",
   "execution_count": null,
   "id": "43ebc21c",
   "metadata": {
    "vscode": {
     "languageId": "sql"
    }
   },
   "outputs": [],
   "source": [
    "-- b) controleer of de tabel verwijderd is"
   ]
  }
 ],
 "metadata": {
  "language_info": {
   "name": "python"
  }
 },
 "nbformat": 4,
 "nbformat_minor": 5
}
