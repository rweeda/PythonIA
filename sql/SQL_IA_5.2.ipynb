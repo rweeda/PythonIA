{
 "cells": [
  {
   "cell_type": "markdown",
   "id": "bafd11b8",
   "metadata": {},
   "source": [
    "\n",
    "## 5.2 <code>JOIN ...  ON ...</code> - Gegevens uit meerdere tabellen combineren \n",
    "\n",
    "\n",
    "<p>Met een <code>JOIN ... ON ...</code> koppel je de <strong>gelijke rijen</strong> van twee tabellen aan elkaar. De gegevens in de twee kolommen moeten gelijk zijn. In het onderstaande voorbeeld zien we dat <b>pizzacode</b> in zowel tabel <i>besteldepizza</i> voorkomt als in <i>pizza</i>, en in beide tabellen dezelfde gegevens bevat:</p>\n",
    "\n",
    "<img src=\"https://raw.githubusercontent.com/rweeda/PythonIA/main/sql/img/JoinBesteldepizzaPizza.png\" alt=\"tabellen\" width=\"600\">\n",
    "\n",
    "<p>Achter <code>JOIN</code> geef je aan welke tabellen je combineert, en achter <code>ON</code> geef je aan welke kolommen gelijk moeten zijn.</p>\n",
    "\n",
    "<p>De notatie met de punt (<code>.</code>) tussen tabelnaam en kolomnaam (bijvoorbeeld <code>tabel.kolom</code>) gebruik je om aan te geven uit welke tabel een kolom komt.</p>\n",
    "\n",
    "<p>Omdat de kolom <b>pizzacode</b> in beide tabellen voorkomt, geven we met de puntnotatie <code>besteldepizza.pizzacode</code> aan dat het uit tabel <i>besteldepizza</i> komt, en met <code>pizza.pizzacode</code> dat het uit tabel <i>pizza</i> komt.</p>\n",
    "\n",
    "<table width=\"100%\"><tr><td style=\"text-align:left; vertical-align:top; font-size:1.25rem;\" width=\"65%\">\n",
    "\n",
    "<p>De query ziet er dus zo uit:</p>\n",
    "\n",
    "<pre><code class=\"language-sql\">\n",
    "SELECT besteldepizza.besteldepizzacode, pizza.naam\n",
    "FROM besteldepizza\n",
    "JOIN pizza ON besteldepizza.pizzacode = pizza.pizzacode;\n",
    "</code></pre>\n",
    "</td><td width=\"35%\">\n",
    "<p>De uitvoer van deze query is:</p>\n",
    "\n",
    "<table border=\"1\" cellpadding=\"4\" cellspacing=\"0\">\n",
    "  <thead>\n",
    "    <tr>\n",
    "      <th>besteldepizzacode</th>\n",
    "      <th>naam</th>\n",
    "    </tr>\n",
    "  </thead>\n",
    "  <tbody>\n",
    "    <tr><td>1</td><td>Margherita</td></tr>\n",
    "    <tr><td>2</td><td>Quattro Formaggi</td></tr>\n",
    "    <tr><td>3</td><td>Salami</td></tr>\n",
    "  </tbody>\n",
    "</table>\n",
    "\n",
    "</td></tr></table>\n",
    "\n"
   ]
  },
  {
   "cell_type": "markdown",
   "id": "c61cfda1",
   "metadata": {},
   "source": [
    "\n",
    "### Verwerkingsopdracht 5.2.1 Nut van een <code>JOIN</code>\n",
    "Stel we willen een overzicht maken van de pizzanaam met de besteldepizzacode.\n",
    "\n",
    "\n",
    "<pre><code class=\"language-sql\">\n",
    "SELECT besteldepizza.besteldepizzacode, pizza.naam\n",
    "FROM besteldepizza\n",
    "JOIN pizza ON besteldepizza.pizzacode = pizza.pizzacode;\n",
    "</code></pre>\n",
    "\n",
    "<p>\n",
    "Waarom is een <code>JOIN</code> nodig in de query hieronder?\n",
    "</p>\n",
    "<p>\n",
    "A. Omdat tabel <i>besteldepizza</i> geen pizzacodes heeft.\n",
    "<br>\n",
    "B. Omdat je een extra filter op de gegevens wilt toepassen.\n",
    "<br>\n",
    "C. Omdat de naam van de pizza niet in tabel <i>besteldepizza</i> staat.\n",
    "<br>\n",
    "D. Omdat je gegevens uit dezelfde tabel wilt combineren.\n",
    "</p>\n",
    "\n"
   ]
  },
  {
   "cell_type": "markdown",
   "id": "31a3db20",
   "metadata": {},
   "source": [
    "\n",
    "### Verwerkingsopdracht 5.2.2 BesteldePizza, besteldatum en bezorgtijd\n",
    "\n",
    "<table width=\"100%\"><tr><td style=\"text-align:left; vertical-align:top; font-size:1.25rem;\" width=\"65%\">\n",
    "\n",
    "Maak een overzicht van de <b>besteldepizzacode</b>, en <b>besteldatum</b> en <b>bezorgtijd</b>. De gegevens komen uit tabellen <i>besteldePizza</i> en <i>bestelling</i>. <br>Toon het overzicht zoals hiernaast.\n",
    "\n",
    "\n",
    "</td><td width=\"35%\">\n",
    "\n",
    "<table border=\"1\" cellpadding=\"4\" cellspacing=\"0\">\n",
    "  <thead>\n",
    "    <tr>\n",
    "      <th>besteldepizzacode</th>\n",
    "      <th>bestel_datum</th>\n",
    "      <th>bezorg_tijd</th>\n",
    "    </tr>\n",
    "  </thead>\n",
    "  <tbody>\n",
    "    <tr><td>1</td><td>2021-12-01</td><td>18:37:00</td></tr>\n",
    "    <tr><td>2</td><td>2021-12-01</td><td>18:37:00</td></tr>\n",
    "    <tr><td>3</td><td>2021-12-01</td><td>18:37:00</td></tr>\n",
    "    <tr><td>4</td><td>2021-12-01</td><td>18:41:00</td></tr>\n",
    "    <tr><td>…</td><td>…</td><td>…</td></tr>\n",
    "    <tr><td>5833</td><td>2022-03-03</td><td>19:50:00</td></tr>\n",
    "  </tbody>\n",
    "</table>\n",
    "\n",
    "</td></tr></table>\n"
   ]
  },
  {
   "cell_type": "code",
   "execution_count": null,
   "id": "6d17e6cb",
   "metadata": {
    "vscode": {
     "languageId": "sql"
    }
   },
   "outputs": [],
   "source": []
  },
  {
   "cell_type": "markdown",
   "id": "81817dd6",
   "metadata": {},
   "source": [
    "\n",
    "### Verwerkingsopdracht 5.2.3 <code>JOIN</code> uitleggen\n",
    "Schrijf in je eigen woorden wat er gebeurt bij een <code>JOIN</code>. Wat moet er kloppen tussen twee tabellen om een <code>JOIN</code> te kunnen maken?\n",
    "\n"
   ]
  }
 ],
 "metadata": {
  "language_info": {
   "name": "python"
  },
  "latex_config": {
   "mathjax_url": "https://cdn.jsdelivr.net/npm/mathjax@3/es5/tex-mml-chtml.js"
  }
 },
 "nbformat": 4,
 "nbformat_minor": 5
}
