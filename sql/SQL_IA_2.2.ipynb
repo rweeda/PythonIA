{
 "cells": [
  {
   "cell_type": "markdown",
   "id": "5e1ff8e9",
   "metadata": {},
   "source": [
    "## 2.2: Je eerste SQL query\n",
    "\n",
    "\n",
    "<table border=\"0\"><tr><td>\n",
    "\n",
    "<p>Om één kolom op te halen en deze te tonen, geef je na de SELECT de kolomnaam op, en na de FROM\n",
    "de tabelnaam:\n",
    "\n",
    "```sql\n",
    "SELECT kolomnaam \n",
    "FROM tabelnaam;\n",
    "```\n",
    "</p>\n",
    "</td><td>\n",
    "<img src=\"https://raw.githubusercontent.com/rweeda/PythonIA/main/sql/img/pizza.jpg\" alt=\"Foto van pizza\" role=\"presentation\" class=\"img-responsive atto_image_button_right\" width=\"200\">\n",
    "</td></tr>\n",
    "</table>\n",
    "<br>\n",
    "<table>\n",
    "  <tr>\n",
    "    <td width=\"35%\" style=\"text-align:left; vertical-align:top; font-size:1.25rem;\">\n",
    "Bijvoorbeeld, met \n",
    "\n",
    "```SQL\n",
    "SELECT naam \n",
    "FROM pizza;\n",
    "```\n",
    "krijg je een overzicht zoals hier rechts staat.\n",
    "    </td><td width=\"65%\">\n",
    "    <table border=\"1\">\n",
    "    <thead>\n",
    "        <tr>\n",
    "        <th>naam</th>\n",
    "        </tr>\n",
    "    </thead>\n",
    "    <tbody>\n",
    "        <tr><td>Margherita</td></tr>\n",
    "        <tr><td>Napoletana</td></tr>\n",
    "        <tr><td>Prosciutto</td></tr>\n",
    "        <tr><td>Funghi</td></tr>\n",
    "        <tr><td>Salame</td></tr>\n",
    "        <tr><td>...</td></tr>\n",
    "        <tr><td>Combinazione</td></tr>\n",
    "    </tbody>\n",
    "    </table>\n",
    "</td></tr></table>\n",
    "<p>Je kunt de code hieronder uitvoeren met CTRL+ENTER of door bovenin op 'Run' te\n",
    "drukken:</p>"
   ]
  },
  {
   "cell_type": "code",
   "execution_count": null,
   "id": "bc3d8468",
   "metadata": {
    "vscode": {
     "languageId": "sql"
    }
   },
   "outputs": [],
   "source": [
    "SELECT naam \n",
    "FROM pizza;"
   ]
  },
  {
   "cell_type": "markdown",
   "id": "2ed57824",
   "metadata": {},
   "source": [
    "### Opdracht 2.2.1 Alle pizzacodes tonen \n",
    "\n",
    "<table>\n",
    "  <tr>\n",
    "    <td width=\"65%\" style=\"text-align:left; vertical-align:top; font-size:1.25rem;\">\n",
    "    <ol style=\"list-style-type:lower-alpha\">\n",
    "      <li>Geef een overzicht zoals hiernaast van alle pizzacodes (kolom <i>pizzacode</i>) in tabel\n",
    "      <code>pizza</code>.</li>\n",
    "      <li>Wat valt je op als je naar de pizzacodes kijkt? Leg uit wat dat\n",
    "      te maken heeft met de 'primary key'.</li>\n",
    "      </ol>\n",
    "    </td><td width=\"35%\">\n",
    "      <table border=\"1\">\n",
    "        <thead>\n",
    "          <tr>\n",
    "            <th>pizzacode</th>\n",
    "          </tr>\n",
    "        </thead>\n",
    "        <tbody>\n",
    "          <tr><td>1</td></tr>\n",
    "          <tr><td>2</td></tr>\n",
    "          <tr><td>3</td></tr>\n",
    "          <tr><td>...</td></tr>\n",
    "        </tbody>\n",
    "      </table>\n",
    "    </td>\n",
    "  </tr>\n",
    "</table>\n"
   ]
  },
  {
   "cell_type": "code",
   "execution_count": null,
   "id": "01262941",
   "metadata": {
    "vscode": {
     "languageId": "sql"
    }
   },
   "outputs": [],
   "source": []
  },
  {
   "cell_type": "markdown",
   "id": "95b764d0",
   "metadata": {
    "vscode": {
     "languageId": "sql"
    }
   },
   "source": [
    "<p>Bekijk <a\n",
    "href=\"https://rweeda.github.io/PythonIA/docs/IA_sql_oplossingen.html#opgave221\"\n",
    "target=\"_blank\">hier</a> de voorbeelduitwerking.</p>\n",
    "\n",
    "<!-- ANTWOORD\n",
    "\n",
    "<ol style=\"list-style-type: lower-alpha\"> \n",
    "<li> <pre><code\n",
    "class=\"language-sql\"> SELECT pizzacode \n",
    "FROM pizza; </code></pre> \n",
    "<li>Elke\n",
    "pizzacode komt maar één keer voor. Dat betekent dat elke pizza een unieke\n",
    "code heeft. Zo’n unieke code noemen we een primary key. Een primary key zorgt\n",
    "ervoor dat je elk record in een tabel kunt herkennen. In dit geval herken je\n",
    "elke pizza aan zijn pizzacode. </ol> -->"
   ]
  }
 ],
 "metadata": {
  "language_info": {
   "name": "python"
  }
 },
 "nbformat": 4,
 "nbformat_minor": 5
}
