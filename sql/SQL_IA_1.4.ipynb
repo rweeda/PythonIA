{
 "cells": [
  {
   "cell_type": "markdown",
   "id": "e38da352",
   "metadata": {},
   "source": [
    "\n",
    "## 1.4: Eisen stellen aan data\n",
    "<p>Naast dat data van een bepaald type is, of dat het een primary key is (dus een unieke waarde heeft), kun je ook de eis stellen dat een kolom niet leeg mag zijn: <code>NOT NULL</code>.</p> <p>Een voorbeeld hiervan is de kolom <b>voornaam</b>, waarbij in een webformulier met een * wordt aangegeven dat dit veld niet leeg mag zijn.</p>\n",
    "\n",
    "<p><img\n",
    "src=\"https://raw.githubusercontent.com/rweeda/PythonIA/main/sql/img/H1_webform.png\"\n",
    "alt=\"webformulier\" width=\"400\"></p>\n",
    "\n",
    "<p>Je mag ook meerdere eisen aan een kolom stellen, bijvoorbeeld <em>zowel</em> <code>PRIMARY KEY</code> als <code>NOT NULL</code>.</p>\n",
    "\n",
    "\n",
    "### Verwerkingsopdracht 1.4.1 Eisen aan data stellen bij het ontwerpen van een tabel \n",
    "\n",
    "<p>\n",
    "Ga verder met de tabel <i>klant</i> uit de vorige opdracht.</p>\n",
    "TABEL: <i>klant</i><br>\n",
    "<table style=\"border-collapse: collapse; margin-left: 0; width: auto; border:1\">\n",
    "  <thead>\n",
    "    <tr align=\"left\">\n",
    "      <th>klantnummer</th>\n",
    "      <th>voornaam</th>\n",
    "      <th>tussenvoegsel</th>\n",
    "      <th>achternaam</th>\n",
    "      <th>adres</th>\n",
    "      <th>postcode</th>\n",
    "      <th>plaats</th>\n",
    "      <th>telefoon</th>\n",
    "    </tr>\n",
    "    <tr>\n",
    "      <td>INTEGER</td>\n",
    "      <td>TEXT</td>\n",
    "      <td>TEXT</td>\n",
    "      <td>TEXT</td>\n",
    "      <td>TEXT</td>\n",
    "      <td>TEXT</td>\n",
    "      <td>TEXT</td>\n",
    "      <td>TEXT</td>\n",
    "    </tr>\n",
    "  </thead>\n",
    "</table>\n",
    "\n",
    "\n",
    "\n",
    "\n",
    "<p>\n",
    "Geef bij elke kolom aan of er aanvullende eisen aan gesteld zijn:\n",
    "  <ul>\n",
    "  <li><code>PRIMARY KEY</code>: een unieke waarde (in het Nederlands <em>primaire sleutel</em>)</li>\n",
    "  <li><code>NOT NULL</code>: mag niet leeg zijn</li>\n",
    "  </ul>\n",
    "</p>\n",
    "\n"
   ]
  }
 ],
 "metadata": {
  "language_info": {
   "name": "python"
  },
  "latex_config": {
   "mathjax_url": "https://cdn.jsdelivr.net/npm/mathjax@3/es5/tex-mml-chtml.js"
  }
 },
 "nbformat": 4,
 "nbformat_minor": 5
}
