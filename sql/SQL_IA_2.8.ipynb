{
 "cells": [
  {
   "cell_type": "markdown",
   "id": "be396bd9",
   "metadata": {},
   "source": [
    "## 2.8: Commentaar\n",
    "<p>In SQL kun je met <code>--</code> commentaar opnemen in je code.  \n",
    "Alles na <code>--</code> op dezelfde regel wordt genegeerd door SQL, zie regel 2 hieronder.</p> \n",
    "\n",
    "SELECT * \n",
    "FROM pizza; -- dit is commentaar\n",
    "\n",
    "Je kunt commentaar gebruiken om aantekeningen te maken. Maar je kan het ook gebruiken om code tijdelijk uit te schakelen, als je bijvoorbeeld een fout in je code wilt opsporen.\n",
    "\n",
    "<!--\n",
    "<p>Je kunt ook <code>/*</code> ervoor en <code>*/</code> erna zetten.\n",
    "Dat ziet er dan zo uit (zie regel 2):</p>\n",
    "\n",
    "SELECT * FROM pizza; /* dit is de\n",
    "tabelnaam */ -->\n"
   ]
  }
 ],
 "metadata": {
  "language_info": {
   "name": "python"
  }
 },
 "nbformat": 4,
 "nbformat_minor": 5
}
