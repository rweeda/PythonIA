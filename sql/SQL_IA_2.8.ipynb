{
 "cells": [
  {
   "cell_type": "markdown",
   "id": "6423faf1",
   "metadata": {},
   "source": [
    "## 2.8: Samenvatting\n",
    "\n",
    "<ul>\n",
    "<li><b>SQL</b> staat voor Structured Query Language. Het is de standaardtaal om gegevens in een database op te slaan, te bewerken en op te vragen;\n",
    "<li>Een <b>query</b> is een vraag aan de database, bijvoorbeeld: \"Welke pizza’s kosten minder dan 8 euro?\";\n",
    "<li>Een query levert een overzicht op met een deel van de data uit de database;\n",
    "<li>Met SELECT kan je kolommen uit een tabel opvragen en weergeven;\n",
    "<li>Na SELECT gebruikt je '*' om een overzicht van alle kolomen uit een tabel te krijgen;\n",
    "<li>Je kunt een kolomnaam in een overzicht hernoemen met `AS`.;\n",
    "<li>Je kunt rekenen met de waarden in een kolom, hiervoor gebruik je `+`, `-`, `*`, `/` in de SELECT-statement.\n",
    "<li>Een overzicht van alle tabellen van Danilo's Pizzeria zijn <a\n",
    "href=\"https://raw.githubusercontent.com/rweeda/PythonIA/main/sql/img/DaniloIA_ERD.png\"\n",
    "target=\"_blank\">hier</a> te zien.\n",
    "\n",
    "\n",
    "</ul>\n",
    "\n"
   ]
  }
 ],
 "metadata": {
  "language_info": {
   "name": "python"
  },
  "latex_config": {
   "mathjax_url": "https://cdn.jsdelivr.net/npm/mathjax@3/es5/tex-mml-chtml.js"
  }
 },
 "nbformat": 4,
 "nbformat_minor": 5
}
