{
 "cells": [
  {
   "cell_type": "markdown",
   "id": "6423faf1",
   "metadata": {},
   "source": [
    "## 2.11: Samenvatting SQL SELECT-FROM\n",
    "\n",
    "<ul>\n",
    "<li><b>SQL</b> staat voor Structured Query Language. Het is de standaardtaal om gegevens in een database op te slaan, te bewerken en op te vragen;\n",
    "<li>Een <b>query</b> is een vraag aan de database, bijvoorbeeld: \"Welke pizza’s kosten minder dan 8 euro?\";\n",
    "<li>Een query levert een overzicht op met een deel van de data uit de database;\n",
    "<li>Met `SELECT` kan je kolommen uit een tabel opvragen en weergeven;\n",
    "<li>Met `WHERE` kan je voorwaarden stellen aan welke gegevens er opgehaald worden;\n",
    "<li>Nette code schrijf je met HOOFDLETTERS voor SQL-commando’s, elk commando op een nieuwe regel, afgesloten door een <code>;</code>;\n",
    "<li>Commentaar voeg je toe met <code>--</code>. Commentaar kun je gebruiken om delen van code tijdelijk weg te laten, bijvoorbeeld voor het opsporen van een fout (debuggen).\n",
    "<li>De zes basis-onderdelen van een SQL-query staan altijd op de volgorde zoals aangegeven in het tabel hieronder.\n",
    "</ul>\n",
    "\n",
    "| Commando | Doel                                    |\n",
    "|----------|-----------------------------------------|\n",
    "| SELECT   | Kies welke kolommen je wilt tonen       |\n",
    "| FROM     | Bepaal uit welke tabel je data haalt    |\n",
    "| WHERE    | (Optioneel) Stel voorwaarden aan de data|\n",
    "| GROUP BY | (Optioneel) Groeperen |\n",
    "| HAVING | (Optioneel)Voorwaarde op groep |\n",
    "| ORDER BY | (Optioneel) Sorteren |"
   ]
  }
 ],
 "metadata": {
  "language_info": {
   "name": "python"
  }
 },
 "nbformat": 4,
 "nbformat_minor": 5
}
