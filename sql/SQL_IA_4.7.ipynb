{
 "cells": [
  {
   "cell_type": "markdown",
   "id": "e73a46ed",
   "metadata": {},
   "source": [
    "## 4.7: MIN() – Laagste waarde\n",
    "\n",
    "`MIN(kolomnaam)` geeft de <b>laagste waarde</b> (minimum) in een kolom terug. Deze gebruik je na de SELECT.<br> \n",
    "\n",
    "\n",
    "<table width=\"100%\"><tr><td style=\"text-align:left; vertical-align:top; font-size:1.25rem;\" width=\"65%\">\n",
    "\n",
    "Bijvoorbeeld, de goedkoopste pizza:\n",
    "\n",
    "```sql\n",
    "SELECT MIN(basisprijs) AS goedkoopste_pizza\n",
    "FROM pizza;\n",
    "```\n",
    "\n",
    "</td><td width=\"35%\">\n",
    "<table border=\"1\">\n",
    "  <thead>\n",
    "    <tr>\n",
    "      <th>goedkoopste_pizza</th>\n",
    "    </tr>\n",
    "  </thead>\n",
    "  <tbody>\n",
    "    <tr>\n",
    "      <td>6</td>\n",
    "    </tr>\n",
    "  </tbody>\n",
    "</table>\n",
    "\n",
    "</td></tr></table>\n",
    "\n",
    "\n",
    "### Verwerkingsopdracht 4.7.1 Vroegste bezorging\n",
    "\n",
    "<table width=\"100%\"><tr><td style=\"text-align:left; vertical-align:top; font-size:1.25rem;\" width=\"65%\">\n",
    "Toon de vroegste <b>bezorg_tijd</b> in de tabel <i>bestelling</i>. Hernoem de kolom zoals in het voorbeeld.\n",
    "\n",
    "</td><td width=\"35%\">\n",
    "    <table border=\"1\">\n",
    "  <thead>\n",
    "    <tr>\n",
    "      <th>vroegste_bezorging</th>\n",
    "    </tr>\n",
    "  </thead>\n",
    "  <tbody>\n",
    "    <tr>\n",
    "      <td>17:47:00</td>\n",
    "    </tr>\n",
    "  </tbody>\n",
    "</table>\n",
    "\n",
    "</td></tr></table>\n",
    "\n",
    "\n"
   ]
  },
  {
   "cell_type": "code",
   "execution_count": null,
   "id": "4b2997c5",
   "metadata": {
    "vscode": {
     "languageId": "sql"
    }
   },
   "outputs": [],
   "source": []
  }
 ],
 "metadata": {
  "language_info": {
   "name": "python"
  }
 },
 "nbformat": 4,
 "nbformat_minor": 5
}
