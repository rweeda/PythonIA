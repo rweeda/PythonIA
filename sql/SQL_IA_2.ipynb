{
 "cells": [
  {
   "cell_type": "markdown",
   "id": "346ca76a",
   "metadata": {},
   "source": [
    "## SQL \n",
    "\n",
    "<p>SQL staat voor <i>Structured Query Language</i>. Het is de \n",
    "standaardtaal om data in een database op te slaan, te bewerken en op te \n",
    "halen. Zo’n verzoek aan de database noem je een <b>query</b>, wat letterlijk \n",
    "‘vraag’ betekent in het Engels. Als je een query schrijft, stel je dus \n",
    "eigenlijk een vraag aan de database. Bijvoorbeeld: “Welke klanten wonen in \n",
    "Amsterdam?”</p>\n",
    "\n",
    "<p>In deze cursus leer je hoe je SQL gebruikt binnen \n",
    "<b>SQLite</b> — een eenvoudige, lichtgewicht databasesysteem. We beginnen met \n",
    "leren hoe je informatie kunt ophalen. Daarna leer je ook hoe je gegevens kunt \n",
    "opslaan, aanpassen en verwijderen. Tot slot ga je zelfs je eigen tabellen \n",
    "aanmaken.</p> \n"
   ]
  },
  {
   "cell_type": "markdown",
   "id": "65ad811f",
   "metadata": {},
   "source": [
    "## X.1: Gegevens ophalen\n",
    "\n",
    "De taal voor het ophalen van informatie bestaat uit slechts 6 commando’s waarmee je \n",
    "leert werken. De commando’s zijn:\n",
    "\n",
    "\n",
    "<p><img src=\"https://raw.githubusercontent.com/rweeda/PythonIA/main/sql/img/H1_commandos.png]\" alt=\"Commando's voor het ophalen van informatie\" width=\"600\"></p>\n",
    "\n",
    "\n",
    "Je hoeft niet alle commando's te gebruiken, maar ze staan welk altijd in deze volgorde.\n",
    "\n",
    "<p>Met een query kun je gegevens uit een tabel ophalen. Met SELECT kun je data selecteren van een database en in een overzicht tonen. \n",
    "Met FROM geef je aan uit welke tabel de informatie gehaald moet worden.</p>\n",
    "\n",
    "\n",
    "\n",
    "\n",
    "<p>Bij de volgende opgaven maken we gebruik van de tabel <i>pizza</i> uit Danilo's pizzeria. De afbeelding hieronder toont de kolommen van tabel <i>pizza</i>:\n",
    "\n",
    "<p><img src=\"https://raw.githubusercontent.com/rweeda/PythonIA/main/sql/img/ERD_pizza.png]\" alt=\"Tabel pizza\" width=\"600\"></p>\n",
    "\n",
    "\n",
    "Hieronder zie je hoe de tabel <i>pizza</i> er uitziet met de gegevens van een aantal pizza's erin.\n",
    "\n",
    "\n",
    "<p><img src=\"https://raw.githubusercontent.com/rweeda/PythonIA/main/sql/img/H1_tabel_pizza.png]\" alt=\"Tabel pizza\" width=\"600\"></p>\n",
    "\n",
    "\n",
    "| pizzacode | naam                  | omschrijving                                                             | basisprijs |\n",
    "|-----------|-----------------------|---------------------------------------------------------------------------|------------|\n",
    "| 1         | Margherita            | Tomaat,kaas en oregano                                                    | 6.0        |\n",
    "| 2         | Napoletana            | Tomaat, kaas, ansjovis, olijven, kappertjes en oregano                   | 7.5        |\n",
    "| 3         | Prosciutto            | Tomaat, kaas, ham en oregano                                              | 7.5        |\n",
    "| 4         | Funghi                | Tomaat, kaas, champignons en oregano                                     | 7.5        |\n",
    "| ...       | ...                   | ...                                                                       | ...        |\n",
    "| 36        | Combinazione          | Eigen keuze pizza                                                        | 10.5       |\n",
    "\n",
    "\n"
   ]
  },
  {
   "cell_type": "markdown",
   "id": "3921b46c",
   "metadata": {},
   "source": [
    "## X.2: Eén kolom uit een tabel halen\n",
    "\n",
    "Om één kolom op te halen geef je na de SELECT de kolomnaam op:\n",
    " \n",
    "``` SQL\n",
    "SELECT kolomnaam\n",
    "FROM tabelnaam;\n",
    "```\n",
    "\n",
    "Bijvoorbeeld:\n"
   ]
  },
  {
   "cell_type": "code",
   "execution_count": null,
   "id": "a72d80f4",
   "metadata": {
    "vscode": {
     "languageId": "sql"
    }
   },
   "outputs": [],
   "source": [
    "SELECT naam \n",
    "FROM pizza;"
   ]
  },
  {
   "cell_type": "markdown",
   "id": "390eb2e5",
   "metadata": {},
   "source": [
    "Als je de code runt krijg je de volgende overzicht:\n",
    "\n",
    "| naam                    |\n",
    "|-------------------------|\n",
    "| Margherita              |\n",
    "| Napoletana              |\n",
    "| Prosciutto              |\n",
    "| Funghi                  |\n",
    "| Salame                  |\n",
    "| ...                     |\n",
    "| Combinazione            |\n"
   ]
  }
 ],
 "metadata": {
  "language_info": {
   "name": "python"
  }
 },
 "nbformat": 4,
 "nbformat_minor": 5
}
