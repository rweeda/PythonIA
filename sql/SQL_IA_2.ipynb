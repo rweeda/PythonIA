{
 "cells": [
  {
   "cell_type": "markdown",
   "id": "346ca76a",
   "metadata": {},
   "source": [
    "\n",
    "# SQL \n",
    "\n",
    "<p>SQL staat voor <i>Structured Query Language</i>. Het is de \n",
    "standaardtaal om data in een database op te slaan, te bewerken en op te \n",
    "halen. Zo’n verzoek aan de database noem je een <b>query</b>, wat letterlijk \n",
    "‘vraag’ betekent in het Engels. Als je een query schrijft, stel je dus eigenlijk een vraag aan de database. Bijvoorbeeld: “Welke klanten wonen in \n",
    "Amsterdam?”</p>\n",
    "\n",
    "<p>In deze cursus leer je hoe je SQL gebruikt binnen \n",
    "<b>SQLite</b> — een eenvoudige, lichtgewicht databasesysteem. We beginnen met \n",
    "leren hoe je informatie kunt ophalen. Daarna leer je ook hoe je gegevens kunt \n",
    "opslaan, aanpassen en verwijderen. Tot slot ga je zelfs je eigen tabellen \n",
    "aanmaken.</p> \n",
    "\n",
    "\n",
    "\n",
    "\n",
    "<p>Bij de volgende opgaven maken we gebruik van de database van Danilo's pizzeria. \n",
    "\n",
    "<!--De afbeelding hieronder toont de kolommen van tabel <i>pizza</i>:\n",
    "\n",
    "<p><img src=\"https://raw.githubusercontent.com/rweeda/PythonIA/main/sql/img/ERD_pizza.png\" alt=\"Tabel pizza\" width=\"300\"></p>\n",
    "\n",
    "\n",
    "-->\n",
    "\n",
    "<p>Bij de volgende opgaven maken we gebruik van de database van Danilo's pizzeria. Hieronder zie je hoe de tabel <i>pizza</i> er uitziet met de gegevens van een aantal pizza's erin.</p>\n",
    "\n",
    "<!--De afbeelding hieronder toont de kolommen van tabel <i>pizza</i>:\n",
    "\n",
    "<p><img src=\"https://raw.githubusercontent.com/rweeda/PythonIA/main/sql/img/ERD_pizza.png\" alt=\"Tabel pizza\" width=\"300\"></p>\n",
    "\n",
    "\n",
    "-->\n",
    "\n",
    "<p><img src=\"https://raw.githubusercontent.com/rweeda/PythonIA/main/sql/img/H1_tabel_pizza.png\" alt=\"Tabel pizza\" width=\"800\"></p>\n",
    "\n",
    "\n",
    "\n",
    "<!--\n",
    "| pizzacode | naam                  | omschrijving                                                             | basisprijs |\n",
    "|-----------|-----------------------|---------------------------------------------------------------------------|------------|\n",
    "| 1         | Margherita            | Tomaat,kaas en oregano                                                    | 6.0        |\n",
    "| 2         | Napoletana            | Tomaat, kaas, ansjovis, olijven, kappertjes en oregano                   | 7.5        |\n",
    "| 3         | Prosciutto            | Tomaat, kaas, ham en oregano                                              | 7.5        |\n",
    "| 4         | Funghi                | Tomaat, kaas, champignons en oregano                                     | 7.5        |\n",
    "| ...       | ...                   | ...                                                                       | ...        |\n",
    "| 36        | Combinazione          | Eigen keuze pizza                                                        | 10.5       |\n",
    "\n",
    "-->\n",
    "\n",
    "\n",
    "<p>Met een query kun je gegevens uit een tabel ophalen. Met SELECT kun je data selecteren van een database en in een overzicht tonen. \n",
    "Met FROM geef je aan uit welke tabel de informatie gehaald moet worden. Hoe dat werkt leer je nu.</p>\n",
    "\n"
   ]
  },
  {
   "cell_type": "markdown",
   "id": "cc090394",
   "metadata": {},
   "source": [
    "\n",
    "\n",
    "## Je eerste query\n",
    "\n",
    "Om één kolom op te halen geef je na de SELECT de kolomnaam op, en na de FROM de tabelnaam:\n",
    " \n",
    " ```SQL\n",
    "SELECT kolomnaam\n",
    "FROM tabelnaam;\n",
    "```\n",
    "\n",
    "Run de code hieronder (dat kan met CRTR+ENTER of door bovenin op 'Run' te drukken):"
   ]
  },
  {
   "cell_type": "code",
   "execution_count": null,
   "id": "ab8a9d9c",
   "metadata": {
    "vscode": {
     "languageId": "sql"
    }
   },
   "outputs": [],
   "source": [
    "SELECT pizzanaam \n",
    "FROM pizza;"
   ]
  },
  {
   "cell_type": "markdown",
   "id": "390eb2e5",
   "metadata": {},
   "source": [
    "Daarmee krijg je de zo'n overzicht:\n",
    "\n",
    "| pizzanaam                    |\n",
    "|-------------------------|\n",
    "| Margherita              |\n",
    "| Napoletana              |\n",
    "| Prosciutto              |\n",
    "| Funghi                  |\n",
    "| Salame                  |\n",
    "| ...                     |\n",
    "| Combinazione            |\n"
   ]
  },
  {
   "cell_type": "markdown",
   "id": "7964ff72",
   "metadata": {},
   "source": [
    "### Opdracht 2.1: Alle pizzacodes tonen\n",
    "<ol style=\"list-style-type: lower-alpha\">\n",
    "<li>Toon alle pizzacodes (kolom <i>pizzacode</i>) die in tabel <i>pizza</i> voorkomen..\n",
    "<li>Wat zie je als je naar de pizzacodes kijkt? Leg uit wat dat te maken heeft met de 'primary key'.\n",
    "</ol>\n",
    "\n",
    "| pizzacode |\n",
    "|-----------|\n",
    "| 1         |\n",
    "| 2         |\n",
    "| 3         |\n",
    "| 4         |\n",
    "| ...       |\n",
    "| 36        |\n",
    "\n",
    "\n",
    "\n",
    "<p>Bekijk <a href=\"https://rweeda.github.io/PythonIA/docs/IA_sql_oplossingen.html#opgave21\" target=\"_blank\">hier</a> de voorbeelduitwerking.</p>\n",
    "\n",
    "\n",
    "<!--\n",
    "<ol style=\"list-style-type: lower-alpha\">\n",
    "<li>\n",
    "```SQL\n",
    "SELECT pizzacode \n",
    "FROM pizza;\n",
    "```\n",
    "<li>Elke pizzacode komt maar één keer voor. Dat betekent dat elke pizza een unieke code heeft. Zo’n unieke code noemen we een primary key. Een primary key zorgt ervoor dat je elk record in een tabel kunt herkennen. In dit geval herken je elke pizza aan zijn pizzacode.\n",
    "</ol>\n",
    "-->"
   ]
  },
  {
   "cell_type": "markdown",
   "id": "23ded8e3",
   "metadata": {},
   "source": [
    "\n",
    "## Meerdere kolommen uit een tabel halen\n",
    "Je kunt ook een meerdere kolommen ophalen. Dat doe je als volgt:\n",
    " \n",
    " ```SQL\n",
    "SELECT kolom1, kolom2, ...\n",
    "FROM tabelnaam;\n",
    "```\n",
    "### Opdracht 2.2: Menu printen\n",
    "\n",
    "Maak een menu door de pizzanamen (kolom <i>naam</i>), <i>omschrijving</i> en de prijs (kolom <i>basisprijs</i> uit het tabel <i>pizza</i> te halen.\n",
    "\n",
    "\n",
    "| naam                   | omschrijving                                                             | basisprijs |\n",
    "|------------------------|----------------------------------------------------------------------------|------------|\n",
    "| Margherita             | Tomaat,kaas en oregano                                                    | 6.0        |\n",
    "| Napoletana             | Tomaat, kaas, ansjovis, olijven, kappertjes en oregano                   | 7.5        |\n",
    "| Prosciutto             | Tomaat, kaas, ham en oregano                                              | 7.5        |\n",
    "| Funghi                 | Tomaat, kaas, champignons en oregano                                     | 7.5        |\n",
    "| ...                    | ...                                                                      | ...        |\n",
    "| Combinazione           | Eigen keuze pizza                                                        | 10.5       |\n",
    "\n"
   ]
  },
  {
   "cell_type": "code",
   "execution_count": null,
   "id": "66a4f661",
   "metadata": {
    "vscode": {
     "languageId": "sql"
    }
   },
   "outputs": [],
   "source": [
    "\n"
   ]
  },
  {
   "cell_type": "markdown",
   "id": "174c41c1",
   "metadata": {},
   "source": [
    "\n",
    "<p>Bekijk <a href=\"https://rweeda.github.io/PythonIA/docs/IA_sql_oplossingen.html#opgave22\" target=\"_blank\">hier</a> de voorbeelduitwerking.</p>\n",
    "\n",
    "<!-- ANTWOORD:\n",
    "SELECT pizzanaam, omschrijving, basisprijs \n",
    "FROM pizza;\n",
    "-->"
   ]
  },
  {
   "cell_type": "markdown",
   "id": "bf4aed30",
   "metadata": {},
   "source": [
    "### Alle gegevens van een tabel ophalen\n",
    "\n",
    "<p>Om alle kolommen op te halen gebruik je na de SELECT een '*':</p>\n",
    " \n",
    "```SQL\n",
    "SELECT * \n",
    "FROM tabelnaam;\n",
    "```\n",
    "\n",
    "### Opdracht 2.3: Alle gegevens van tabel pizza ophalen\n",
    "\n",
    "Toon alle kolommen met gegevens van tabel <i>pizza</i>, zoals in het voorbeeld hieronder: \n",
    "\n",
    "| pizzacode | naam                  | omschrijving                                                             | basisprijs |\n",
    "|-----------|-----------------------|---------------------------------------------------------------------------|------------|\n",
    "| 1         | Margherita            | Tomaat,kaas en oregano                                                    | 6.0        |\n",
    "| 2         | Napoletana            | Tomaat, kaas, ansjovis, olijven, kappertjes en oregano                   | 7.5        |\n",
    "| 3         | Prosciutto            | Tomaat, kaas, ham en oregano                                              | 7.5        |\n",
    "| 4         | Funghi                | Tomaat, kaas, champignons en oregano                                     | 7.5        |\n",
    "| ...       | ...                   | ...                                                                       | ...        |\n",
    "| 36        | Combinazione          | Eigen keuze pizza                                                        | 10.5       |\n",
    "\n",
    "\n"
   ]
  },
  {
   "cell_type": "code",
   "execution_count": null,
   "id": "5796ebf6",
   "metadata": {
    "vscode": {
     "languageId": "sql"
    }
   },
   "outputs": [],
   "source": []
  },
  {
   "cell_type": "markdown",
   "id": "c2425722",
   "metadata": {},
   "source": [
    "<p>Bekijk <a href=\"https://rweeda.github.io/PythonIA/docs/IA_sql_oplossingen.html#opgave23\" target=\"_blank\">hier</a> de voorbeelduitwerking.</p>\n",
    "\n",
    "<!-- ANTWOORD:\n",
    "<pre><code class=\"language-sql\">\n",
    "SELECT *\n",
    "FROM pizza\n",
    "</code></pre>\n",
    "-->"
   ]
  },
  {
   "cell_type": "markdown",
   "id": "af5b38ae",
   "metadata": {},
   "source": [
    "## 2.2: Commando's voor het ophalen van informatie\n",
    "\n",
    "De taal voor het ophalen van informatie bestaat uit slechts 6 commando’s waarmee je \n",
    "leert werken. De commando’s zijn:\n",
    "\n",
    "\n",
    "<p><img src=\"https://raw.githubusercontent.com/rweeda/PythonIA/main/sql/img/H1_commandos.png\" alt=\"Commando's voor het ophalen van informatie\" width=\"400\"></p>\n",
    "\n",
    "\n",
    "Je hoeft niet alle commando's te gebruiken, maar ze staan welk altijd in deze volgorde.\n",
    "\n",
    "## 2.3 Voorwaarden met de WHERE\n",
    "\n",
    "<p>Met WHERE kun je beperken welke rijen getoond moet worden. Met WHERE kun je een voorwaarde aangeven, bijvoorbeeld: ’waarbij de informatie voldoet aan ...’</p>\n",
    "\n",
    "<p>Je geeft altijd eerst een SELECT op voor de gegevens die opgehaald moeten worden, dan met FROM de tabel waaruit de gegevens moeten komen, en met WHERE welke beperking er is.</p>\n",
    "\n",
    "\n",
    "Bijvoorbeeld, met de volgende query tonen we alle pizza's die precies 8 euro kosten:\n",
    "```SQL\n",
    "SELECT *\n",
    "FROM pizza\n",
    "WHERE basisprijs=8\n",
    "```\n",
    "\n",
    "| pizzacode | naam           | omschrijving                                                             | basisprijs |\n",
    "|-----------|----------------|----------------------------------------------------------------------------|------------|\n",
    "| 10        | Capricciosa    | Tomaat, kaas, ham, champignons, paprika, artisjokken en oregano          | 8.0        |\n",
    "| 11        | Primavera      | Tomaat, kaas, ham, salami en oregano                                     | 8.0        |\n",
    "| 12        | Venezia        | Tomaat, kaas, ham, champignons, ananas en oregano                        | 8.0        |\n",
    "| ...       | ...            | ...                                                                      | 8.0        |\n",
    "| 30        | Romana         | Tomaat, kaas, spek, uien, champignons, ei en oregano                     | 8.0        |\n",
    "\n"
   ]
  },
  {
   "cell_type": "markdown",
   "id": "64741062",
   "metadata": {},
   "source": [
    "\n",
    "\n",
    "<p>Bijvoorbeeld, met de volgende query tonen we alle pizza's die precies 8 euro kosten:</p\n",
    "```SQL\n",
    "SELECT *\n",
    "FROM pizza\n",
    "WHERE basisprijs=8\n",
    "```\n",
    "\n",
    "| pizzacode | naam           | omschrijving                                                             | basisprijs |\n",
    "|-----------|----------------|----------------------------------------------------------------------------|------------|\n",
    "| 10        | Capricciosa    | Tomaat, kaas, ham, champignons, paprika, artisjokken en oregano          | 8.0        |\n",
    "| 11        | Primavera      | Tomaat, kaas, ham, salami en oregano                                     | 8.0        |\n",
    "| 12        | Venezia        | Tomaat, kaas, ham, champignons, ananas en oregano                        | 8.0        |\n",
    "| ...       | ...            | ...                                                                      | 8.0        |\n",
    "| 30        | Romana         | Tomaat, kaas, spek, uien, champignons, ei en oregano                     | 8.0        |\n",
    "\n",
    "\n",
    "\n",
    "\n",
    "### Opdracht 2.4: Omschrijving van een Inferno pizza\n",
    "Schrijf een query om de omschrijving van de pizza 'Inferno' te tonen, zoals in het voorbeeld hieronder.\n",
    "\n",
    "| omschrijving |\n",
    "|--------------|\n",
    "| Tomaat, kaas, ham, spaanse peper, kappertjes, salami, olijven en oregano  |\n",
    "\n"
   ]
  },
  {
   "cell_type": "code",
   "execution_count": null,
   "id": "7614f422",
   "metadata": {
    "vscode": {
     "languageId": "sql"
    }
   },
   "outputs": [],
   "source": []
  },
  {
   "cell_type": "markdown",
   "id": "11aff9f2",
   "metadata": {},
   "source": [
    "<p>Bekijk <a href=\"https://rweeda.github.io/PythonIA/docs/IA_sql_oplossingen.html#opgave24\" target=\"_blank\">hier</a> de voorbeelduitwerking.</p>\n",
    "\n",
    "<!-- ANTWOORD:\n",
    "<pre><code class=\"language-sql\">\n",
    "ANTWOORD:\n",
    "SELECT omschrijving\n",
    "FROM pizza\n",
    "WHERE naam='Inferno'\n",
    "</code></pre>\n",
    "-->\n"
   ]
  },
  {
   "cell_type": "markdown",
   "id": "05f0c2f0",
   "metadata": {},
   "source": [
    "\n",
    "## 2.4 Kennis maken met de andere tabellen\n",
    "\n",
    "\n",
    "<p>Danilo's pizzeria database bestaat uit meer tabellen dan alleen pizza's. Er wordt ook bijvoorbeeld ook informatie opgeslagen over klanten, berzorgers en bestellingen. In de afbeelding hieronder zie je alle 7 tabellen.</p>\n",
    "\n",
    "\n",
    "<p>\n",
    "<a href=\"https://raw.githubusercontent.com/rweeda/PythonIA/main/sql/img/DaniloIA_ERD.png\" target=\"_blank\">\n",
    "  <img src=\"https://raw.githubusercontent.com/rweeda/PythonIA/main/sql/img/DaniloIA_ERD.png\" alt=\"Klik om in een nieuw venster te openen\" width=\"1000\"/>\n",
    "</a></p>\n"
   ]
  },
  {
   "cell_type": "markdown",
   "id": "03fb2fb9",
   "metadata": {},
   "source": [
    "\n",
    "### Opdracht 2.5: Alle gegevens uit tabel <i>klant</i>\n",
    "<p>Toon alle gegevens uit tabel <i>klant</i>.\n",
    "\n"
   ]
  },
  {
   "cell_type": "code",
   "execution_count": null,
   "id": "1ca4d116",
   "metadata": {
    "vscode": {
     "languageId": "sql"
    }
   },
   "outputs": [],
   "source": []
  },
  {
   "cell_type": "markdown",
   "id": "03990f0a",
   "metadata": {},
   "source": [
    "\n",
    "<p>Bekijk <a href=\"https://rweeda.github.io/PythonIA/docs/IA_sql_oplossingen.html#opgave25\" target=\"_blank\">hier</a> de voorbeelduitwerking.</p>\n",
    "\n",
    "<!-- ANTWOORD:\n",
    "<pre><code class=\"language-sql\">\n",
    "SELECT *\n",
    "FROM klant;\n",
    "</code></pre>\n",
    "-->"
   ]
  },
  {
   "cell_type": "markdown",
   "id": "702f8542",
   "metadata": {},
   "source": [
    "\n",
    "### Opdracht 2.6: Alle klanten uit Enschede\n",
    "\n",
    "<p>Toon het adres, de postcode en de plaats van alle klanten die in Enschede wonen, zoals hieronder. Tip: de gegevens komen uit tabel <i>klant</i>.</p>\n",
    "| adres              | postcode | woonplaats    |\n",
    "|--------------------|----------|-----------|\n",
    "| Gladioolstraat 11  | 3742TC   | Enschede  |\n",
    "| Banckertlaan 7     | 3742MG   | Enschede  |\n",
    "| Talmalaan 11       | 3741TX   | Enschede  |\n",
    "| Krugerlaan 9       | 3743CJ   | Enschede  |\n",
    "| Zandvoortweg 199   | 3741BE   | Enschede  |\n",
    "\n",
    "\n",
    "\n"
   ]
  },
  {
   "cell_type": "code",
   "execution_count": null,
   "id": "c7f44733",
   "metadata": {
    "vscode": {
     "languageId": "sql"
    }
   },
   "outputs": [],
   "source": []
  },
  {
   "cell_type": "markdown",
   "id": "7045bce9",
   "metadata": {},
   "source": [
    "\n",
    "\n",
    "<p>Bekijk <a href=\"https://rweeda.github.io/PythonIA/docs/IA_sql_oplossingen.html#opgave26\" target=\"_blank\">hier</a> de voorbeelduitwerking.</p>\n",
    "\n",
    "<!-- ANTWOORD:\n",
    "<pre><code class=\"language-sql\">\n",
    "SELECT adres, postcode, woonplaats\n",
    "FROM klant\n",
    "WHERE plaats='Enschede';\n",
    "</code></pre>\n",
    "-->\n"
   ]
  },
  {
   "cell_type": "markdown",
   "id": "f9e80d83",
   "metadata": {},
   "source": [
    "\n",
    "### Opdracht 2.7: Wachtwoord uit tabel bezorger.\n",
    "Toon het wachtwoord van de bezorger met de naam Ronald Marbus, zoals hieronder.<br>\n",
    "\n",
    "\n",
    "| wachtwoord  |\n",
    "|-------------|\n",
    "| R0nalt      |\n",
    "\n",
    "\n",
    "Tips:\n",
    "<ul>\n",
    "<li>de gegevens komen uit tabel <i>bezorger</i>,</li>\n",
    "<li>toon eerst alle kolommen, en kies dan welk kolom je nodig hebt.</li>\n",
    "</ul>\n",
    "\n",
    "\n"
   ]
  },
  {
   "cell_type": "code",
   "execution_count": null,
   "id": "123a1598",
   "metadata": {
    "vscode": {
     "languageId": "sql"
    }
   },
   "outputs": [],
   "source": []
  },
  {
   "cell_type": "markdown",
   "id": "4916f09f",
   "metadata": {},
   "source": [
    "\n",
    "\n",
    "<p>Bekijk <a href=\"https://rweeda.github.io/PythonIA/docs/IA_sql_oplossingen.html#opgave27\" target=\"_blank\">hier</a> de voorbeelduitwerking.</p>\n",
    "\n",
    "<!-- ANTWOORD:\n",
    "<pre><code class=\"language-sql\">\n",
    "SELECT wachtwoord\n",
    "FROM bezorger\n",
    "WHERE naam = 'Ronald Marbus';\n",
    "WHERE plaats='Enschede';\n",
    "</code></pre>\n",
    "-->\n"
   ]
  },
  {
   "cell_type": "markdown",
   "id": "97f88da9",
   "metadata": {},
   "source": [
    "### Opdracht 2.8: Fout in query voor goedkope pizza's\n",
    "Piet wil een overzicht van alle pizza's die minder dan 7 euro kosten. Wat is de fout in deze query? Los die op.\n"
   ]
  },
  {
   "cell_type": "code",
   "execution_count": null,
   "id": "8a6c64ed",
   "metadata": {
    "vscode": {
     "languageId": "sql"
    }
   },
   "outputs": [],
   "source": [
    "SELECT naam basisprijs < 7.0 FROM WHERE pizza;"
   ]
  },
  {
   "cell_type": "markdown",
   "id": "fcfbd952",
   "metadata": {},
   "source": [
    "<p>Bekijk <a href=\"https://rweeda.github.io/PythonIA/docs/IA_sql_oplossingen.html#opgave28\" target=\"_blank\">hier</a> de voorbeelduitwerking.</p>\n",
    "\n",
    "\n",
    "<!-- ANTWOORD:\n",
    "<pre><code class=\"language-sql\">\n",
    "SELECT naam \n",
    "FROM pizza\n",
    "WHERE basispijs < 7.0;\n",
    "</code></pre>\n",
    "-->"
   ]
  }
 ],
 "metadata": {
  "language_info": {
   "name": "python"
  }
 },
 "nbformat": 4,
 "nbformat_minor": 5
}
