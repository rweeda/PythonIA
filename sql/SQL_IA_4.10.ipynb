{
 "cells": [
  {
   "cell_type": "markdown",
   "id": "b86e4b64",
   "metadata": {},
   "source": [
    "## 4.10: AVG() – Gemiddelde van een kolom\n",
    "\n",
    "<p>Met `AVG(kolomnaam)` bereken je het <b>gemiddelde</b> van de waarden in een kolom. Deze gebruik je na de SELECT.</p>  \n",
    "\n",
    "\n",
    "<table width=\"100%\"><tr><td style=\"text-align:left; vertical-align:top; font-size:1.25rem;\" width=\"35%\">\n",
    "\n",
    "Bijvoorbeeld, de gemiddelde prijs van een pizza:\n",
    "\n",
    "\n",
    "```sql\n",
    "SELECT AVG(basisprijs) AS gemiddelde_pizza_prijs\n",
    "FROM pizza;\n",
    "```\n",
    "</td><td width=\"65%\">\n",
    "\n",
    "<table border=\"1\">\n",
    "  <thead>\n",
    "    <tr>\n",
    "      <th>gemiddelde_pizza_prijs</th>\n",
    "    </tr>\n",
    "  </thead>\n",
    "  <tbody>\n",
    "    <tr>\n",
    "      <td>8.15277777779</td>\n",
    "    </tr>\n",
    "  </tbody>\n",
    "</table>\n",
    "\n",
    "</td></tr></table>\n",
    "\n",
    "### Verwerkingsopdracht 4.10.1 Gemiddelde toeslag\n",
    "\n",
    "<table width=\"100%\"><tr><td style=\"text-align:left; vertical-align:top; font-size:1.25rem;\" width=\"35%\">\n",
    "Bereken de gemiddelde toeslag voor bodems in de tabel <i>bodem</i>.\n",
    "</td><td width=\"65%\">\n",
    "    <table border=\"1\">\n",
    "  <thead>\n",
    "    <tr>\n",
    "      <th>gemiddelde_bodem_toeslag</th>\n",
    "    </tr>\n",
    "  </thead>\n",
    "  <tbody>\n",
    "    <tr>\n",
    "      <td>0.25</td>\n",
    "    </tr>\n",
    "  </tbody>\n",
    "</table>\n",
    "\n",
    "</td></tr></table>\n",
    "\n",
    "\n"
   ]
  },
  {
   "cell_type": "code",
   "execution_count": null,
   "id": "4b2997c5",
   "metadata": {
    "vscode": {
     "languageId": "sql"
    }
   },
   "outputs": [],
   "source": []
  },
  {
   "cell_type": "markdown",
   "id": "3a0f8471",
   "metadata": {},
   "source": [
    "\n",
    "\n",
    "\n",
    "\n",
    "<p>Bekijk <a\n",
    "href=\"https://rweeda.github.io/PythonIA/docs/IA_sql_oplossingen.html#opgave4101\"\n",
    "target=\"_blank\">hier</a> de voorbeelduitwerking.</p>\n",
    " <!-- ANTWOORD:\n",
    "<pre><code class=\"language-sql\"> \n",
    "SELECT AVG(plusprijs) AS gemiddelde_bodem_toeslag\n",
    "FROM bodem;\n",
    " </code></pre>\n",
    " -->\n"
   ]
  }
 ],
 "metadata": {
  "language_info": {
   "name": "python"
  }
 },
 "nbformat": 4,
 "nbformat_minor": 5
}
