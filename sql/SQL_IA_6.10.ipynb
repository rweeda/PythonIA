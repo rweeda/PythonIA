{
 "cells": [
  {
   "cell_type": "markdown",
   "id": "97af4bb5",
   "metadata": {},
   "source": [
    "\n",
    "## 6.10: Een foreign key aanmaken\n",
    "<p>\n",
    "Op de vorige pagina heb je geleerd wat een foreign key is.<br> Je leert nu hoe je een foreign key tussen twee tabellen kunt aanmaken met een <code>CREATE TABLE</code> query. Een foreign key maak je direct aan bij het maken van een tabel met <code>FOREIGN KEY ... REFERENCES ... </code>.</p>\n",
    "\n",
    "\n",
    "<pre><code class=\"language-sql\">CREATE TABLE tabelnaam(\n",
    "  kolomnaam datatype\n",
    "  FOREIGN KEY (kolomnaam) REFERENCES andereTabel(primary_key_kolom);\n",
    ");\n",
    "</code></pre>\n",
    "<p>De verwijzing moet altijd verwijzen naar de <b>primary key</b> van een andere tabel.</p>\n",
    "\n",
    "<hr>\n",
    "<p><b>Voorbeeld</b>. In de afbeelding hieronder zie je dat <b>bestelcode</b> een primary key is in tabel <i>bestelling</i> en een foreign key is in tabel <i>besteldePizza</i>.</p>\n",
    "\n",
    "<p><img\n",
    "src=\"https://raw.githubusercontent.com/rweeda/PythonIA/main/sql/img/tabel_bestelling_gekoppeld_besteldepizza.png\"\n",
    "alt=\"Koppeling tussen tabellen bestelling en besteldepizza\" width=\"400\"></p>\n",
    "\n",
    "\n",
    "\n",
    "<p>Met de volgende code maak je een foreign key <b>bestelcode</b> aan in tabel <i>besteldePizza</i>:</p>\n",
    "\n",
    "<pre><code class=\"language-sql\">CREATE TABLE besteldePizza (\n",
    "    besteldePizzaID INTEGER PRIMARY KEY AUTOINCREMENT,\n",
    "    pizzacode INTEGER,\n",
    "    bestelcode INTEGER,\n",
    "    bodemcode INTEGER,\n",
    "    formaatcode INTEGER,\n",
    "    aantal INTEGER,\n",
    "    FOREIGN KEY (bestelcode) REFERENCES bestelling(bestelcode)\n",
    ");\n",
    "</code></pre>\n",
    "\n",
    "\n",
    "<p>Toelichting:</p>\n",
    "<ul> \n",
    "<li>Met <code>bestelcode INTEGER</code> voeg je de kolom <code>bestelcode</code> toe aan de tabel <code>besteldePizza</code>.</li> \n",
    "<li>Met <code>FOREIGN KEY (bestelcode) REFERENCES bestelling(bestelcode)</code> geef je aan dat deze kolom verwijst naar de primary key <code>bestelcode</code> in de tabel <code>bestelling</code>.</li> \n",
    "</ul>\n",
    "\n",
    "<p><b>Let op</b>: in SQLite kun je geen foreign key toevoegen aan een bestaande tabel. Daarom is het belangrijk om van tevoren goed na te denken over de structuur van je database.\n",
    "</p>\n",
    "\n",
    "\n",
    "<hr>\n",
    "\n",
    "\n",
    "Je kunt hier een filmpje bekijken waarin wordt uitgelegd wat primary en foreign keys zijn.\n",
    "\n",
    "[![Bekijk op Youtube](https://img.youtube.com/vi/obeOGxESGLI/hqdefault.jpg)](https://www.youtube.com/embed/obeOGxESGLI?start=0&amp;end=150)\n",
    "\n",
    "\n"
   ]
  },
  {
   "cell_type": "markdown",
   "id": "a15571eb",
   "metadata": {},
   "source": [
    "### Verwerkingsopdracht 6.10.1 Foreign keys bij Danilo's Pizzeria\n",
    "\n",
    "<p>\n",
    "Bekijk het overzicht van de tabellen en beantwoord de volgende vragen over de bijbehorende code (klik op de afbeelding om deze in een nieuw tabblad te openen):</p>\n",
    "\n",
    "<p>\n",
    "<a href=\"https://raw.githubusercontent.com/rweeda/PythonIA/main/sql/img/DaniloIA_ERD.png\" target=\"_blank\">\n",
    "<img src=\"https://raw.githubusercontent.com/rweeda/PythonIA/main/sql/img/DaniloIA_ERD.png\" alt=\"Overzicht tabellen\" width=\"800\">\n",
    "</a></p>\n",
    "\n",
    "<ol type=\"a\">\n",
    "  <li>Leg uit wat deze code betekent: <code>FOREIGN KEY (formaatcode) REFERENCES formaat(formaatcode)</code>.</li>\n",
    "  <li>Wat gaat er mis bij deze regel: <code>FOREIGN KEY (bodemcode) REFERENCES bodem(omschrijving)</code>?</li>\n",
    "</ol>\n"
   ]
  },
  {
   "cell_type": "markdown",
   "id": "50f3b3d8",
   "metadata": {},
   "source": [
    "### Verwerkingsopdracht 6.10.2 Debuggen van een foutieve foreign key\n",
    "\n",
    "Jonas heeft een tabel <i>kortingsbon</i> toegevoegd. Daarin is <b>boncode</b> de primary key. Deze wil hij met een foreign key koppelen aan kolom <b>boncode</b> in tabel <i>bestelling</i> zoals te zien is in de afbeelding hieronder.\n",
    "\n",
    "<p><img\n",
    "src=\"https://raw.githubusercontent.com/rweeda/PythonIA/main/sql/img/tabel_kortingsbonnen.png\"\n",
    "alt=\"Koppeling tussen tabellen bestelling en kortingsbon\" width=\"200\"></p>\n",
    "\n",
    "Jonas schrijft daarvoor de onderstaande code. De code geeft geen foutmelding, maar toch zit er een (denk)fout in waardoor de koppeling tussen de tabellen niet werkt. Bedenk wat Jonas verkeerd doet en geef Jonas een advies zodat hij zijn fout kan oplossen.\n"
   ]
  },
  {
   "cell_type": "code",
   "execution_count": null,
   "id": "89da4967",
   "metadata": {
    "vscode": {
     "languageId": "sql"
    }
   },
   "outputs": [],
   "source": [
    "CREATE TABLE kortingsbon (\n",
    "    boncode INTEGER PRIMARY KEY AUTOINCREMENT,\n",
    "    korting REAL,\n",
    "    datum TEXT,\n",
    "    FOREIGN KEY (boncode) REFERENCES bestelling(boncode)\n",
    ");"
   ]
  },
  {
   "cell_type": "markdown",
   "id": "a3e89d45",
   "metadata": {},
   "source": [
    "### Verwerkingsopdracht 6.10.3 Foreign key toevoegen\n",
    "\n",
    "<p>Zoals in het overzicht van de tabellen te zien is, is de tabel <i>bestelling</i> gekoppeld aan de tabellen <i>klant</i>, <i>besteldePizza</i> en <i>bezorger</i>. Bekijk het schema opnieuw en beantwoord daarna de onderstaande vragen.</p>\n",
    "\n",
    "\n",
    "<p>\n",
    "<a href=\"https://raw.githubusercontent.com/rweeda/PythonIA/main/sql/img/DaniloIA_ERD.png\" target=\"_blank\">\n",
    "<img src=\"https://raw.githubusercontent.com/rweeda/PythonIA/main/sql/img/DaniloIA_ERD.png\" alt=\"overzicht tabellen\" width=\"500\">\n",
    "</a></p>\n",
    "\n",
    "\n",
    "<ol type=\"a\">\n",
    "<li>Voor het maken van tabel <i>bestelling</i> hieronder ontbreekt de code voor de koppeling met tabel <i>klant</i>. Vul de code aan met de juiste code voor de foreign key voor <b>klantnummer</b>.</li>\n",
    "<li>Waarom hoeft er voor de koppeling met <i>besteldePizza</i> hier geen foreign key aangegeven te worden?</li>\n",
    "</ol>\n",
    "\n"
   ]
  },
  {
   "cell_type": "code",
   "execution_count": null,
   "id": "c1fa1ea9",
   "metadata": {
    "vscode": {
     "languageId": "sql"
    }
   },
   "outputs": [],
   "source": [
    "CREATE TABLE bestelling (\n",
    "  bestelcode INTEGER PRIMARY KEY NOT NULL,\n",
    "  bestel_datum TEXT,\n",
    "  bestel_tijd TEXT,\n",
    "  bezorg_tijd TEXT,\n",
    "  bezorgernummer INTEGER NOT NULL,\n",
    "  klantnummer INTEGER NOT NULL,\n",
    "  boncode INTEGER,\n",
    "  FOREIGN KEY(bezorgernummer) REFERENCES bezorger(bezorgernummer)\n",
    ") ;"
   ]
  }
 ],
 "metadata": {
  "language_info": {
   "name": "python"
  },
  "latex_config": {
   "mathjax_url": "https://cdn.jsdelivr.net/npm/mathjax@3/es5/tex-mml-chtml.js"
  }
 },
 "nbformat": 4,
 "nbformat_minor": 5
}
