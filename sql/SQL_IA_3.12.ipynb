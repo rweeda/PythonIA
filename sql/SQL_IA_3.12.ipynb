{
 "cells": [
  {
   "cell_type": "markdown",
   "id": "4206f005",
   "metadata": {},
   "source": [
    "\n",
    "### 3.12: Afsluitende Opdrachten\n",
    "\n",
    "\n",
    "<p>Klik <a href=\"https://raw.githubusercontent.com/rweeda/PythonIA/main/sql/img/DaniloIA_ERD.png\" target=\"_blank\">hier</a> voor een overzicht van alle tabellen.</p>\n",
    "\n",
    "\n",
    "\n"
   ]
  },
  {
   "cell_type": "markdown",
   "id": "b4a35801",
   "metadata": {},
   "source": [
    "### Afsluitende Opdracht 3.12.1: Klanten in een specifieke plaats\n",
    "\n",
    "\n",
    "<table width=\"100%\">\n",
    "  <tr><td style=\"text-align:left; vertical-align:top; font-size:1.25rem;\" width=\"65%\">\n",
    "Toon het <b>klantnummer</b>, <b>naam</b> en <b>woonplaats</b> van alle klanten die wonen in <b>Hengelo</b>. \n",
    ", zoals in het overzicht hiernaast.\n",
    "    </td>\n",
    "    <td width=\"35%\">\n",
    "<table border=\"1\">\n",
    "  <thead>\n",
    "    <tr>\n",
    "      <th>klantnummer</th>\n",
    "      <th>naam</th>\n",
    "      <th>woonplaats</th>\n",
    "    </tr>\n",
    "  </thead>\n",
    "  <tbody>\n",
    "    <tr><td>107</td><td>Josette Soede</td><td>Hengelo</td></tr>\n",
    "    <tr><td>123</td><td>Miranda LeBlanche</td><td>Hengelo</td></tr>\n",
    "    <tr><td>124</td><td>Peter van Tol</td><td>Hengelo</td></tr>\n",
    "        <tr><td>...</td><td>...</td><td>...</td></tr>\n",
    "    <tr><td>395</td><td>Tom van Wifferen</td><td>Hengelo</td></tr>\n",
    "  </tbody>\n",
    "</table>\n",
    "    </td>\n",
    "  </tr>\n",
    "</table>"
   ]
  },
  {
   "cell_type": "code",
   "execution_count": null,
   "id": "a7794384",
   "metadata": {
    "vscode": {
     "languageId": "sql"
    }
   },
   "outputs": [],
   "source": []
  },
  {
   "cell_type": "markdown",
   "id": "34604444",
   "metadata": {},
   "source": [
    "### Afsluitende Opdracht 3.12.2 Debuggen en herschrijven van slordige query\n",
    "De volgende query werkt niet goed. Voer hem eerst uit en analyseer de foutmelding. Herschrijf daarna de query netjes én correct:\n",
    "\n",
    "<!--\n",
    "<pre><code class=\"language-sql\">\n",
    "SELECT naam basisprijs FROM pizza WHERE basisprijs<7\n",
    "</code></pre>\n",
    "-->\n",
    "\n",
    "<ol style=\"list-style-type: lower-alpha;\">\n",
    "<li>Wat is er fout?\n",
    "<li>Schrijf een correcte en goed opgemaakte versie met commentaar.\n",
    "</ol>\n"
   ]
  },
  {
   "cell_type": "code",
   "execution_count": null,
   "id": "58b52cad",
   "metadata": {
    "vscode": {
     "languageId": "sql"
    }
   },
   "outputs": [],
   "source": [
    "SELECT naam basisprijs FROM pizza WHERE basisprijs<7"
   ]
  },
  {
   "cell_type": "markdown",
   "id": "52a4c54f",
   "metadata": {},
   "source": [
    "\n",
    "### Afsluitende Opdracht 3.12.3 Alle goedkope pizza's met een 'C'\n",
    "\n",
    "<table width=\"100%\"><tr><td style=\"text-align:left; vertical-align:top; font-size:1.25rem;\" width=\"65%\">\n",
    "\n",
    "Toon een overzicht van alle pizza's waarvan de naam met 'C' begint maar niet meer kost dan 8 euro.\n",
    "\n",
    "</td><td width=\"35%\">\n",
    "    \n",
    "<table border=\"1\">\n",
    "  <thead>\n",
    "    <tr>\n",
    "      <th>naam</th>\n",
    "    </tr>\n",
    "  </thead>\n",
    "  <tbody>\n",
    "    <tr><td>Cippola</td></tr>\n",
    "    <tr><td>Calimero</td></tr>\n",
    "    <tr><td>Capricciosa</td></tr>\n",
    "  </tbody>\n",
    "</table>\n",
    "\n",
    "\n",
    "</td></tr></table>\n",
    "\n"
   ]
  },
  {
   "cell_type": "code",
   "execution_count": null,
   "id": "0578d157",
   "metadata": {
    "vscode": {
     "languageId": "sql"
    }
   },
   "outputs": [],
   "source": []
  },
  {
   "cell_type": "markdown",
   "id": "923bc045",
   "metadata": {},
   "source": [
    "\n",
    "\n",
    "### Afsluitende Opdracht 3.12.4 Dure salami\n",
    "\n",
    "<table width=\"100%\"><tr><td style=\"text-align:left; vertical-align:top; font-size:1.25rem;\" width=\"65%\">\n",
    "\n",
    "Toon een overzicht zoals hiernaast van alle pizza's met een basisprijs van minimaal €9,00 <b>én</b> die het woord 'salami' in de omschrijving bevatten.\n",
    "\n",
    "\n",
    "</td><td width=\"35%\">\n",
    "<table border=\"1\">\n",
    "  <thead>\n",
    "    <tr>\n",
    "      <th>naam</th>\n",
    "      <th>basisprijs</th>\n",
    "    </tr>\n",
    "  </thead>\n",
    "  <tbody>\n",
    "    <tr><td>Calzone (dichte pizza)</td><td>9.0</td></tr>\n",
    "    <tr><td>Fantasia</td><td>9.0</td></tr>\n",
    "    <tr><td>Specialità di Danilo</td><td>9.5</td></tr>\n",
    "  </tbody>\n",
    "</table>\n",
    "\n",
    "</td></tr></table>\n",
    "\n",
    "\n",
    "\n"
   ]
  },
  {
   "cell_type": "code",
   "execution_count": null,
   "id": "fd1fbe64",
   "metadata": {
    "vscode": {
     "languageId": "sql"
    }
   },
   "outputs": [],
   "source": []
  },
  {
   "cell_type": "markdown",
   "id": "bb991d2c",
   "metadata": {},
   "source": [
    "### Afsluitende Opdracht 3.12.5 Toon 3 pizza’s zonder vlees, met een ‘a’ in de naam\n",
    "\n",
    "<table width=\"100%\"><tr><td style=\"text-align:left; vertical-align:top; font-size:1.25rem;\" width=\"65%\">\n",
    "Toon de pizza's die <b>geen</b> vlees (ham, salami, kip) bevatten <b>en</b> een ‘a’ in de naam hebben. Toon de kolommen <b>naam</b> en <b>omschrijving</b>.\n",
    "</td><td width=\"35%\">\n",
    "<table border=\"1\">\n",
    "  <thead>\n",
    "    <tr>\n",
    "      <th>Naam</th>\n",
    "      <th>Omschrijving</th>\n",
    "    </tr>\n",
    "  </thead>\n",
    "  <tbody>\n",
    "    <tr><td>Margherita</td><td>Tomaat, kaas en oregano</td></tr>\n",
    "    <tr><td>Napoletana</td><td>Tomaat, kaas, ansjovis, olijven, kappertjes en oregano</td></tr>\n",
    "    <tr><td>Cippola</td><td>Tomaat, kaas, uien en oregano</td></tr>\n",
    "    <tr><td>...</td><td>...</td></tr>\n",
    "    <tr><td>Combinazione</td><td>Eigen keuze pizza</td></tr>\n",
    "  </tbody>\n",
    "</table>\n",
    "\n",
    "</td></tr></table>\n",
    "\n",
    "\n"
   ]
  },
  {
   "cell_type": "code",
   "execution_count": null,
   "id": "3667469a",
   "metadata": {
    "vscode": {
     "languageId": "sql"
    }
   },
   "outputs": [],
   "source": []
  },
  {
   "cell_type": "markdown",
   "id": "3a334d28",
   "metadata": {},
   "source": [
    "### Afsluitende Opdracht 3.12.6 Pizza’s met ‘special’ of duurder dan €9\n",
    "<table width=\"100%\"><tr><td style=\"text-align:left; vertical-align:top; font-size:1.25rem;\" width=\"65%\">\n",
    "Toon de namen van alle pizza’s waarvan de omschrijving het woord 'special' bevat, <b>óf</b> die duurder zijn dan €9,00.\n",
    "\n",
    "</td><td width=\"35%\">\n",
    "    <table border=\"1\">\n",
    "  <thead>\n",
    "    <tr>\n",
    "      <th>naam</th>\n",
    "    </tr>\n",
    "  </thead>\n",
    "  <tbody>\n",
    "      <tr>\n",
    "      <td>Specialità di Danilo</td>\n",
    "    </tr>\n",
    "    <tr>\n",
    "      <td>Combinazione</td>\n",
    "    </tr>\n",
    "  </tbody>\n",
    "</table>\n",
    "\n",
    "</td></tr></table>\n",
    "\n",
    "\n"
   ]
  },
  {
   "cell_type": "code",
   "execution_count": null,
   "id": "d8181060",
   "metadata": {
    "vscode": {
     "languageId": "sql"
    }
   },
   "outputs": [],
   "source": []
  },
  {
   "cell_type": "markdown",
   "id": "a17ee6b2",
   "metadata": {},
   "source": [
    "### Afsluitende Opdracht 3.12.7 Bezorgers met naam H maar die NIET met A begint\n",
    "<table width=\"100%\"><tr><td style=\"text-align:left; vertical-align:top; font-size:1.25rem;\" width=\"65%\">\n",
    "Toon de namen van de bezorgers van wie hun naam begint met de letter 'H' of 'J' maar <b>niet</b> de letter 'A' bevat. Noem de kolom <i>bezorgernaam</i>.\n",
    "\n",
    "</td><td width=\"35%\">\n",
    "<table border=\"1\">\n",
    "  <thead>\n",
    "    <tr>\n",
    "      <th>Bezorgernaam</th>\n",
    "    </tr>\n",
    "  </thead>\n",
    "  <tbody>\n",
    "    <tr><td>Jeroen Groenheiden</td></tr>\n",
    "  </tbody>\n",
    "</table>\n",
    "\n",
    "</td></tr></table>\n",
    "\n"
   ]
  },
  {
   "cell_type": "code",
   "execution_count": null,
   "id": "417c72a9",
   "metadata": {
    "vscode": {
     "languageId": "sql"
    }
   },
   "outputs": [],
   "source": []
  }
 ],
 "metadata": {
  "language_info": {
   "name": "python"
  }
 },
 "nbformat": 4,
 "nbformat_minor": 5
}
