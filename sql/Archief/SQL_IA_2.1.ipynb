{
 "cells": [
  {
   "cell_type": "markdown",
   "id": "cc090394",
   "metadata": {},
   "source": [
    "\n",
    "\n",
    "## 2.1:  Je eerste query\n",
    "\n",
    "Om één kolom op te halen geef je na de SELECT de kolomnaam op, en na de FROM de tabelnaam:\n",
    " \n",
    " ```SQL\n",
    "SELECT kolomnaam\n",
    "FROM tabelnaam;\n",
    "```\n",
    "\n",
    "Run de code hieronder (dat kan met CRTR+ENTER of door bovenin op 'Run' te drukken):"
   ]
  },
  {
   "cell_type": "code",
   "execution_count": null,
   "id": "ab8a9d9c",
   "metadata": {
    "vscode": {
     "languageId": "sql"
    }
   },
   "outputs": [],
   "source": [
    "SELECT naam \n",
    "FROM pizza;"
   ]
  },
  {
   "cell_type": "markdown",
   "id": "390eb2e5",
   "metadata": {},
   "source": [
    "Daarmee krijg je de zo'n overzicht:\n",
    "\n",
    "| naam                    |\n",
    "|-------------------------|\n",
    "| Margherita              |\n",
    "| Napoletana              |\n",
    "| Prosciutto              |\n",
    "| Funghi                  |\n",
    "| Salame                  |\n",
    "| ...                     |\n",
    "| Combinazione            |\n"
   ]
  },
  {
   "cell_type": "markdown",
   "id": "7964ff72",
   "metadata": {},
   "source": [
    "### Opdracht 2.1 Alle pizzacodes tonen\n",
    "<ol style=\"list-style-type: lower-alpha\">\n",
    "<li>Toon alle pizzacodes (kolom <i>pizzacode</i>) die in tabel <i>pizza</i> voorkomen..\n",
    "<li>Wat zie je als je naar de pizzacodes kijkt? Leg uit wat dat te maken heeft met de 'primary key'.\n",
    "</ol>\n",
    "\n",
    "| pizzacode |\n",
    "|-----------|\n",
    "| 1         |\n",
    "| 2         |\n",
    "| 3         |\n",
    "| 4         |\n",
    "| ...       |\n",
    "| 36        |\n",
    "\n",
    "\n",
    "\n",
    "<p>Bekijk <a href=\"https://rweeda.github.io/PythonIA/docs/IA_sql_oplossingen.html#opgave21\" target=\"_blank\">hier</a> de voorbeelduitwerking.</p>\n",
    "\n",
    "\n",
    "<!--\n",
    "<ol style=\"list-style-type: lower-alpha\">\n",
    "<li>\n",
    "```SQL\n",
    "SELECT pizzacode \n",
    "FROM pizza;\n",
    "```\n",
    "<li>Elke pizzacode komt maar één keer voor. Dat betekent dat elke pizza een unieke code heeft. Zo’n unieke code noemen we een primary key. Een primary key zorgt ervoor dat je elk record in een tabel kunt herkennen. In dit geval herken je elke pizza aan zijn pizzacode.\n",
    "</ol>\n",
    "-->"
   ]
  }
 ],
 "metadata": {
  "language_info": {
   "name": "python"
  }
 },
 "nbformat": 4,
 "nbformat_minor": 5
}
