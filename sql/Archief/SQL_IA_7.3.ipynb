{
 "cells": [
  {
   "cell_type": "markdown",
   "id": "bafd11b8",
   "metadata": {},
   "source": [
    "## 7.3: Gegevens in een tabel aanpassen\n",
    "<p>Met UPDATE kun je gegevens in een tabel aanpassen:</p>\n",
    "\n",
    "<pre><code class=\"language-sql\">\n",
    "UPDATE tabelnaam\n",
    "SET kolom1 = nieuwe_waarde1, kolom2 = nieuwe_waarde2\n",
    "WHERE voorwaarde;\n",
    "</code></pre>\n",
    "\n",
    "<ul>\n",
    "  <li>Achter UPDATE geef je de naam van de tabel aan.</li>\n",
    "  <li>Met SET geef je aan welke kolom(kolommen) je wilt aanpassen en wat de nieuwe waarde wordt.</li>\n",
    "  <li>Met WHERE geef je aan welke rij(en) je wilt aanpassen, bij voorkeur via de <i>primary key</i>.</li>\n",
    "  <li>Let op: Als je geen WHERE gebruikt, worden <i>alle</i> rijen aangepast!</li>\n",
    "</ul>\n",
    "\n",
    "<p>Voorbeeld: deze query past de naam van de pizza met <b>pizzacode</b> 1 aan naar \"Hawaii\". Alle andere kolommen blijven ongewijzigd:</p>\n",
    "<pre><code class=\"language-sql\">\n",
    "UPDATE pizza\n",
    "SET pizzanaam = \"Hawaii\"\n",
    "WHERE pizzacode = 1;\n",
    "</code></pre>"
   ]
  },
  {
   "cell_type": "markdown",
   "id": "fe21a09f",
   "metadata": {},
   "source": [
    "### Verwerkingsopdracht 7.3.1 Pas de prijs van een pizza aan\n",
    "\n",
    "<ol type=\"a\">\n",
    "  <li>Schrijf een query die voor de pizza met <b>naam</b> gelijk aan <i>\"Margherita\"</i> de <b>basisprijs</b> verhoogt naar €8,00.</li>\n",
    "  <li>Controleer daarna met SELECT * of het gelukt is.</li>\n",
    "</ol>\n",
    "\n"
   ]
  },
  {
   "cell_type": "code",
   "execution_count": null,
   "id": "7f765e70",
   "metadata": {
    "vscode": {
     "languageId": "plaintext"
    }
   },
   "outputs": [],
   "source": []
  },
  {
   "cell_type": "code",
   "execution_count": null,
   "id": "9a5b9942",
   "metadata": {
    "vscode": {
     "languageId": "plaintext"
    }
   },
   "outputs": [],
   "source": []
  },
  {
   "cell_type": "markdown",
   "id": "6c158a31",
   "metadata": {},
   "source": [
    "<p>Bekijk <a\n",
    "href=\"https://rweeda.github.io/PythonIA/docs/IA_sql_oplossingen.html#opgave731\"\n",
    "target=\"_blank\">hier</a> de voorbeelduitwerking.</p>\n",
    "<!--\n",
    "<pre><code class=\"language-sql\"> \n",
    "UPDATE pizza\n",
    "SET basisprijs = 8.00\n",
    "WHERE naam = \"Margherita\";\n",
    "</code></pre>\n",
    "-->"
   ]
  }
 ],
 "metadata": {
  "language_info": {
   "name": "python"
  }
 },
 "nbformat": 4,
 "nbformat_minor": 5
}
