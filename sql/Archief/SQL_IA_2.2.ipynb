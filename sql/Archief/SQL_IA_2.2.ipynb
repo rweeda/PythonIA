{
 "cells": [
  {
   "cell_type": "markdown",
   "id": "23ded8e3",
   "metadata": {},
   "source": [
    "\n",
    "## 2.2: Meerdere kolommen uit een tabel halen\n",
    "Je kunt ook een meerdere kolommen ophalen. Dat doe je als volgt:\n",
    " \n",
    " ```SQL\n",
    "SELECT kolom1, kolom2, ...\n",
    "FROM tabelnaam;\n",
    "```\n",
    "### Opdracht 2.2 Menu printen\n",
    "\n",
    "Maak een menu door de pizzanamen (kolom <i>naam</i>), <i>omschrijving</i> en de prijs (kolom <i>basisprijs</i> uit het tabel <i>pizza</i> te halen.\n",
    "\n",
    "\n",
    "| naam                   | omschrijving                                                             | basisprijs |\n",
    "|------------------------|----------------------------------------------------------------------------|------------|\n",
    "| Margherita             | Tomaat,kaas en oregano                                                    | 6.0        |\n",
    "| Napoletana             | Tomaat, kaas, ansjovis, olijven, kappertjes en oregano                   | 7.5        |\n",
    "| Prosciutto             | Tomaat, kaas, ham en oregano                                              | 7.5        |\n",
    "| Funghi                 | Tomaat, kaas, champignons en oregano                                     | 7.5        |\n",
    "| ...                    | ...                                                                      | ...        |\n",
    "| Combinazione           | Eigen keuze pizza                                                        | 10.5       |\n",
    "\n"
   ]
  },
  {
   "cell_type": "code",
   "execution_count": null,
   "id": "66a4f661",
   "metadata": {
    "vscode": {
     "languageId": "sql"
    }
   },
   "outputs": [],
   "source": []
  },
  {
   "cell_type": "markdown",
   "id": "174c41c1",
   "metadata": {},
   "source": [
    "\n",
    "<p>Bekijk <a href=\"https://rweeda.github.io/PythonIA/docs/IA_sql_oplossingen.html#opgave22\" target=\"_blank\">hier</a> de voorbeelduitwerking.</p>\n",
    "\n",
    "<!-- ANTWOORD:\n",
    "SELECT naam, omschrijving, basisprijs \n",
    "FROM pizza;\n",
    "-->"
   ]
  }
 ],
 "metadata": {
  "language_info": {
   "name": "python"
  }
 },
 "nbformat": 4,
 "nbformat_minor": 5
}
