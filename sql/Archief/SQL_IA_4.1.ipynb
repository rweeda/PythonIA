{
 "cells": [
  {
   "cell_type": "markdown",
   "id": "3cd7f2f7",
   "metadata": {},
   "source": [
    "\n",
    "## 4.1: Commando's voor het ophalen van informatie\n",
    "\n",
    "<p>In dit onderwerp leer je nieuwe commando's: LIMIT en ORDER BY.</p>\n",
    "<p>Er zijn zeven commando's die je kunt gebruken om informatie op te halen. De commando’s zijn:</p>\n",
    "\n",
    "\n",
    "<p><img\n",
    "src=\"https://raw.githubusercontent.com/rweeda/PythonIA/main/sql/img/H1_commandos.png\"\n",
    "alt=\"Commando's voor het ophalen van informatie\" width=\"250\"></p>\n",
    "\n",
    "<p>\n",
    "Je hoeft niet alle commando's te gebruiken, maar ze staan wel <b>altijd in\n",
    "deze volgorde</b>.</p>\n"
   ]
  },
  {
   "cell_type": "markdown",
   "id": "305c7877",
   "metadata": {},
   "source": [
    "\n",
    "### Verwerkingsopdracht 4.1.1 Volgorde van onderdelen\n",
    "\n",
    "Zet de onderdelen van een SQL-query in de juiste volgorde:\n",
    "FROM – ORDER BY – LIMIT - SELECT – WHERE\n",
    "\n",
    "<p>Bekijk <a href=\"https://rweeda.github.io/PythonIA/docs/IA_sql_oplossingen.html#opgave411\" target=\"_blank\">hier</a> de voorbeelduitwerking.</p>\n",
    "<!-- ANTWOORD:\n",
    "SELECT\n",
    "FROM\n",
    "WHERE\n",
    "ORDER BY\n",
    "LIMIT\n",
    "-->\n",
    "\n"
   ]
  }
 ],
 "metadata": {
  "language_info": {
   "name": "python"
  }
 },
 "nbformat": 4,
 "nbformat_minor": 5
}
