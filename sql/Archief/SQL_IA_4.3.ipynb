{
 "cells": [
  {
   "cell_type": "markdown",
   "id": "3630aac3",
   "metadata": {},
   "source": [
    "\n",
    "## 4.3: Gegevens sorteren met ORDER BY\n",
    "\n",
    "Met <code>ORDER BY</code> kun je resultaten sorteren.\n",
    "Hierbij moet je aangeven op welke kolom er gesorteerd moet worden en hoe: oplopend gesorteerd met ASC of aflopend met DESC. Geef altijd eerst de SELECT en FROM aan, daarna de ORDER BY en daarna ASC of DESC.\n",
    "\n",
    "<p>Oplopend sorteren met <b>ASC</b> (van laag naar hoog):</p>\n",
    "\n",
    "<table width=\"100%\"><tr><td style=\"text-align:left; vertical-align:top; font-size:1.25rem;\" width=\"35%\">\n",
    "<p>\n",
    "Bijvoorbeeld, om de pizza's op oplopend op prijs te sorteren, dus met de goedkoopste pizza bovenaan:</p>\n",
    "\n",
    "```SQL\n",
    "SELECT naam, basisprijs\n",
    "FROM pizza\n",
    "ORDER BY basisprijs ASC;\n",
    "```\n",
    "\n",
    "</td><td width=\"65%\">\n",
    "<table border=\"1\">\n",
    "  <thead>\n",
    "    <tr>\n",
    "      <th>naam</th>\n",
    "      <th>basisprijs</th>\n",
    "    </tr>\n",
    "  </thead>\n",
    "  <tbody>\n",
    "    <tr><td>Margherita</td><td>6.0</td></tr>\n",
    "    <tr><td>Cippola</td><td>6.5</td></tr>\n",
    "    <tr><td>Napoletana</td><td>7.5</td></tr>\n",
    "    <tr><td>Prosciutto</td><td>7.5</td></tr>\n",
    "    <tr><td>...</td><td>...</td></tr>\n",
    "    <tr><td>Specialità di Danilo</td><td>9.5</td></tr>\n",
    "    <tr><td>Combinazione</td><td>10.5</td></tr>\n",
    "  </tbody>\n",
    "</table>\n",
    "</td></tr></table>"
   ]
  },
  {
   "cell_type": "markdown",
   "id": "a47ca729",
   "metadata": {},
   "source": [
    "<p>Aflopend sorteren met <b>DESC</b> (hoog naar laag):</p>\n",
    "<table width=\"100%\"><tr><td style=\"text-align:left; vertical-align:top; font-size:1.25rem;\" width=\"35%\">\n",
    "Of om de bezorgers te aflopende sorteren op geboortedatum, dus met de jongste bezorger bovenaan:\n",
    "\n",
    "```SQL\n",
    "SELECT naam, gebdatum\n",
    "FROM bezorger\n",
    "ORDER BY gebdatum DESC;\n",
    "```\n",
    "\n",
    "</td><td width=\"65%\">\n",
    "<table border=\"1\">\n",
    "  <thead>\n",
    "    <tr>\n",
    "      <th>gebdatum</th>\n",
    "    </tr>\n",
    "  </thead>\n",
    "  <tbody>\n",
    "    <tr><td>2021-12-01</td></tr>\n",
    "    <tr><td>2001-09-01</td></tr>\n",
    "    <tr><td>1996-07-13</td></tr>\n",
    "    <tr><td>1995-09-18</td></tr>\n",
    "    <tr><td>...</td></tr>\n",
    "    <tr><td>1994-01-04</td></tr>\n",
    "  </tbody>\n",
    "</table>\n",
    "</td></tr></table>"
   ]
  },
  {
   "cell_type": "markdown",
   "id": "8418a9aa",
   "metadata": {},
   "source": []
  },
  {
   "cell_type": "markdown",
   "id": "37243008",
   "metadata": {},
   "source": [
    "\n",
    "### Verwerkingsopdracht 4.3.1 de drie duurste pizza's\n",
    "\n",
    "<table width=\"100%\"><tr><td style=\"text-align:left; vertical-align:top; font-size:1.25rem;\" width=\"35%\">\n",
    "Geef een overzicht van de pizza's gesorteerd op prijs van laag naar hoog.\n",
    "</td><td width=\"65%\">\n",
    "    <table border=\"1\">\n",
    "  <thead>\n",
    "    <tr>\n",
    "      <th>naam</th>\n",
    "      <th>basisprijs</th>\n",
    "    </tr>\n",
    "  </thead>\n",
    "  <tbody>\n",
    "    <tr><td>Margherita</td><td>6</td></tr>\n",
    "    <tr><td>Cippola</td><td>6.5</td></tr>\n",
    "    <tr><td>Napoletana</td><td>7.5</td></tr>\n",
    "    <tr><td>...</td><td>...</td></tr>\n",
    "    <tr><td>Combinazione</td><td>10.5</td></tr>\n",
    "  </tbody>\n",
    "</table>\n",
    "\n",
    "</td></tr></table>\n"
   ]
  },
  {
   "cell_type": "code",
   "execution_count": null,
   "id": "ca8e6b5c",
   "metadata": {
    "vscode": {
     "languageId": "sql"
    }
   },
   "outputs": [],
   "source": []
  },
  {
   "cell_type": "markdown",
   "id": "91d73c0e",
   "metadata": {},
   "source": [
    "\n",
    "\n",
    "<p>Bekijk <a href=\"https://rweeda.github.io/PythonIA/docs/IA_sql_oplossingen.html#opgave431\" target=\"_blank\">hier</a> de voorbeelduitwerking.</p>\n",
    "<!-- ANTWOORD:\n",
    "<pre><code class=\"language-sql\">\n",
    "SELECT naam, basisprijs\n",
    "FROM pizza\n",
    "ORDER BY basisprijs;\n",
    "</code></pre>\n",
    "Ook goed:\n",
    "<pre><code class=\"language-sql\">\n",
    "SELECT naam, basisprijs\n",
    "FROM pizza\n",
    "ORDER BY basisprijs ASC;\n",
    "</code></pre>\n",
    "-->\n"
   ]
  },
  {
   "cell_type": "markdown",
   "id": "0deb6d34",
   "metadata": {},
   "source": [
    "\n",
    "### Verwerkingsopdracht 4.3.2 De vijf laatste bezorgingen\n",
    "<table width=\"100%\"><tr><td style=\"text-align:left; vertical-align:top; font-size:1.25rem;\" width=\"35%\">\n",
    "Geef een overzicht van de pizza's gesorteerd op <b>bestel_datum</b>, zoals in het overzicht hiernaast. <br>\n",
    "Tip: eerst aflopend sorteren, dan met LIMIT de bovenste acht bestellingen tonen.\n",
    "\n",
    "</td><td width=\"65%\">\n",
    "<table border=\"1\">\n",
    "  <thead>\n",
    "    <tr>\n",
    "      <th>bestelcode</th>\n",
    "      <th>bestel_datum</th>\n",
    "    </tr>\n",
    "  </thead>\n",
    "  <tbody>\n",
    "    <tr><td>1469</td><td>2022-03-03</td></tr>\n",
    "    <tr><td>1470</td><td>2022-03-03</td></tr>\n",
    "    <tr><td>1471</td><td>2022-03-03</td></tr>\n",
    "    <tr><td>1473</td><td>2022-03-03</td></tr>\n",
    "    <tr><td>1464</td><td>2022-03-02</td></tr>\n",
    "    <tr><td>1465</td><td>2022-03-02</td></tr>\n",
    "    <tr><td>1466</td><td>2022-03-02</td></tr>\n",
    "    <tr><td>1467</td><td>2022-03-02</td></tr>\n",
    "  </tbody>\n",
    "</table>\n",
    "\n",
    "\n",
    "    \n",
    "</td></tr></table>\n",
    "\n",
    "\n"
   ]
  },
  {
   "cell_type": "code",
   "execution_count": null,
   "id": "9e7df974",
   "metadata": {
    "vscode": {
     "languageId": "sql"
    }
   },
   "outputs": [],
   "source": []
  },
  {
   "cell_type": "markdown",
   "id": "3d8fd671",
   "metadata": {},
   "source": [
    "\n",
    "<p>Bekijk <a href=\"https://rweeda.github.io/PythonIA/docs/IA_sql_oplossingen.html#opgave432\" target=\"_blank\">hier</a> de voorbeelduitwerking.</p>\n",
    "<!-- ANTWOORD:\n",
    "<pre><code class=\"language-sql\">\n",
    "SELECT bestelcode, bestel_datum\n",
    "FROM bestelling\n",
    "ORDER BY bestel_datum DESC\n",
    "LIMIT 8;\n",
    "</code></pre>\n",
    "-->"
   ]
  }
 ],
 "metadata": {
  "language_info": {
   "name": "python"
  }
 },
 "nbformat": 4,
 "nbformat_minor": 5
}
