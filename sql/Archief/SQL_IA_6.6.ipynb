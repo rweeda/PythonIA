{
 "cells": [
  {
   "cell_type": "markdown",
   "id": "c1a13ead",
   "metadata": {},
   "source": [
    "## 6.6: Aflsuitende opdrachten\n",
    "\n"
   ]
  },
  {
   "cell_type": "markdown",
   "id": "fe48ed9e",
   "metadata": {},
   "source": [
    "### Afsluitende Opdracht 6.6.1 Aantal bestellingen per bodem\n",
    "<table width=\"100%\"><tr><td style=\"text-align:left; vertical-align:top; font-size:1.25rem;\" width=\"35%\">\n",
    "Toon een overzicht van het aantal bestellingen per bodem (<b>bodemcode</b>). De informatie komt uit de tabel <i>besteldePizza</i>. Sorteer het resultaat zodat de meest bestelde bodem bovenaan staat, zoals hiernaast.\n",
    "</td><td width=\"65%\">\n",
    "<table border=\"1\">\n",
    "  <thead><tr><th>bodemcode</th><th>aantal_besteld_per_bodem</th></tr></thead>\n",
    "  <tbody>\n",
    "    <tr><td>2</td><td>2905</td></tr>\n",
    "    <tr><td>1</td><td>2788</td></tr>\n",
    "    <tr><td>3</td><td>140</td></tr>\n",
    "  </tbody>\n",
    "</table>\n",
    "</td></tr></table>\n"
   ]
  },
  {
   "cell_type": "code",
   "execution_count": null,
   "id": "fd99149f",
   "metadata": {
    "vscode": {
     "languageId": "sql"
    }
   },
   "outputs": [],
   "source": []
  },
  {
   "cell_type": "markdown",
   "id": "8275b70f",
   "metadata": {},
   "source": [
    "<p>Bekijk <a href=\"https://rweeda.github.io/PythonIA/docs/IA_sql_oplossingen.html#opgave6611\" target=\"_blank\">hier</a> de voorbeelduitwerking.</p>\n",
    "<!--\n",
    "<pre><code class=\"language-sql\">\n",
    "SELECT bodemcode, COUNT(*) AS aantal_besteld_per_bodem\n",
    "FROM besteldePizza\n",
    "GROUP BY bodemcode \n",
    "ORDER BY aantal_besteld_per_bodem DESC;\n",
    "</code></pre>\n",
    "-->\n"
   ]
  },
  {
   "cell_type": "markdown",
   "id": "4abe1f62",
   "metadata": {},
   "source": [
    "### Afsluitende Opdracht 6.6.2 Bekijk hoe vaak een specifieke bodem is gebruikt"
   ]
  },
  {
   "cell_type": "markdown",
   "id": "8d775d29",
   "metadata": {},
   "source": [
    "\n",
    "<table width=\"100%\"><tr><td style=\"text-align:left; vertical-align:top; font-size:1.25rem;\" width=\"35%\">\n",
    "<p>Hoe vaak is <b>bodemcode</b> 2 gebruikt in <i>bestellingen</i>? Toon alleen het resultaat als deze bodem meer dan 1 keer is gebruikt. Sorteer het resultaat aflopend en geef alleen de bovenste regel weer, zoals hiernaast.<br>Tip: gebruik <code>GROUP BY</code>.</p>\n",
    "</td><td width=\"65%\">\n",
    "<table border=\"1\">\n",
    "  <thead><tr><th>bodemcode</th><th>aantal_besteld</th></tr></thead>\n",
    "  <tbody><tr><td>2</td><td>2905</td></tr></tbody>\n",
    "</table>\n",
    "<!--Tips:\n",
    "<li>Filter op <code>bodemcode = 2</code></li>\n",
    "<li>Groepeer op <code>bodemcode</code></li>\n",
    "<li>Gebruik <code>HAVING</code> voor filtering na groepering</li>\n",
    "<li>Sorteer aflopend op <code>aantal_besteld</code></li>\n",
    "<li>Gebruik <code>LIMIT 1</code> om één regel te tonen</li>\n",
    "-->\n",
    "</td></tr></table>\n"
   ]
  },
  {
   "cell_type": "code",
   "execution_count": null,
   "id": "9c6caf89",
   "metadata": {
    "vscode": {
     "languageId": "sql"
    }
   },
   "outputs": [],
   "source": []
  },
  {
   "cell_type": "markdown",
   "id": "60ca639e",
   "metadata": {},
   "source": [
    "<p>Bekijk <a href=\"https://rweeda.github.io/PythonIA/docs/IA_sql_oplossingen.html#opgave662\" target=\"_blank\">hier</a> de voorbeelduitwerking.</p>\n",
    "<!--\n",
    "<pre><code>\n",
    "SELECT bodemcode, COUNT(*) AS aantal_besteld\n",
    "FROM besteldepizza\n",
    "WHERE bodemcode = 2\n",
    "GROUP BY bodemcode\n",
    "HAVING COUNT(*) > 1\n",
    "ORDER BY aantal_besteld DESC\n",
    "LIMIT 1;\n",
    "</code></pre>\n",
    "-->\n"
   ]
  },
  {
   "cell_type": "markdown",
   "id": "db613e9f",
   "metadata": {},
   "source": [
    "### Afsluitende Opdracht 6.6.3 Totale aantal pizza’s per klant"
   ]
  },
  {
   "cell_type": "markdown",
   "id": "9308bde6",
   "metadata": {},
   "source": [
    "\n",
    "<table width=\"100%\"><tr><td style=\"text-align:left; vertical-align:top; font-size:1.25rem;\" width=\"35%\">\n",
    "Toon per klant (<b>klantnummer</b>) hoeveel pizza’s hij of zij in totaal heeft besteld (dus over alle bestellingen samen).\n",
    "</td><td width=\"65%\">\n",
    "<table border=\"1\">\n",
    "  <thead><tr><th>klantnummer</th><th>totaal_aantal</th></tr></thead>\n",
    "  <tbody>\n",
    "    <tr><td>101</td><td>87</td></tr>\n",
    "    <tr><td>103</td><td>62</td></tr>\n",
    "    <tr><td>104</td><td>66</td></tr>\n",
    "    <tr><td colspan=\"2\" style=\"text-align:center;\">...</td></tr>\n",
    "    <tr><td>474</td><td>105</td></tr>\n",
    "  </tbody>\n",
    "</table>\n",
    "</td></tr></table>\n",
    "<p>Bekijk <a href=\"https://rweeda.github.io/PythonIA/docs/IA_sql_oplossingen.html#opgave663\" target=\"_blank\">hier</a> de voorbeelduitwerking.</p>\n",
    "<!--\n",
    "<pre><code class=\"language-sql\">\n",
    "SELECT bestelling.klantnummer, SUM(besteldePizza.aantal)\n",
    "FROM bestelling\n",
    "JOIN besteldePizza ON bestelling.bestelcode = besteldePizza.bestelcode\n",
    "GROUP BY bestelling.klantnummer;\n",
    "</code></pre>\n",
    "-->\n"
   ]
  },
  {
   "cell_type": "markdown",
   "id": "1b4b2294",
   "metadata": {},
   "source": [
    "### Afsluitende Opdracht 6.6.4 Meest bestelde pizzabodem"
   ]
  },
  {
   "cell_type": "code",
   "execution_count": null,
   "id": "82cb7d05",
   "metadata": {
    "vscode": {
     "languageId": "sql"
    }
   },
   "outputs": [],
   "source": []
  },
  {
   "cell_type": "markdown",
   "id": "102545b9",
   "metadata": {},
   "source": [
    "\n",
    "<table width=\"100%\"><tr><td style=\"text-align:left; vertical-align:top; font-size:1.25rem;\" width=\"35%\">\n",
    "Schrijf een query die de meest bestelde pizzabodem toont. Tip: Sorteer het resultaat en beperk daarna tot één regel.\n",
    "</td><td width=\"65%\">\n",
    "<table border=\"1\">\n",
    "  <thead><tr><th>bodemcode</th><th>aantal_besteld</th></tr></thead>\n",
    "  <tbody><tr><td>2</td><td>2905</td></tr></tbody>\n",
    "</table>\n",
    "</td></tr></table>\n",
    "<p>Bekijk <a href=\"https://rweeda.github.io/PythonIA/docs/IA_sql_oplossingen.html#opgave664\" target=\"_blank\">hier</a> de voorbeelduitwerking.</p>\n",
    "<!--\n",
    "<pre><code class=\"language-sql\">\n",
    "SELECT bodemcode, COUNT(*) as aantal_besteld\n",
    "FROM besteldepizza\n",
    "GROUP BY bodemcode\n",
    "ORDER BY aantal_besteld DESC\n",
    "LIMIT 1;\n",
    "</code></pre>\n",
    "-->\n"
   ]
  }
 ],
 "metadata": {
  "language_info": {
   "name": "python"
  }
 },
 "nbformat": 4,
 "nbformat_minor": 5
}
