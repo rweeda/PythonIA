{
 "cells": [
  {
   "cell_type": "markdown",
   "id": "bca7a4d4",
   "metadata": {},
   "source": [
    "## 7.1: Gegevens in een tabel invoeren\n",
    "\n",
    "<p>Met een <code>INSERT INTO... VALUES (...)</code>-query voeg je nieuwe gegevens toe aan een tabel.</p>\n",
    "\n",
    "<pre><code class=\"language-sql\">\n",
    "INSERT INTO tabelnaam \n",
    "VALUES (waarde1, waarde2, waarde3, ... );\n",
    "</code></pre>\n",
    "\n",
    "<ul>\n",
    "  <li>Achter <code>INSERT INTO</code> geef je de naam van de tabel aan.</li>\n",
    "  <li>Achter <code>VALUES</code> geef je tussen haakjes voor elke kolom afzonderlijk de gegevens die ingevuld moeten worden.</li>\n",
    "</ul>\n",
    "\n",
    "<p>Bij sommige tabellen wordt voor de primary key gebruik gemaakt van <code>AUTOINCREMENT</code>. Een kolom met <code>AUTOINCREMENT</code> betekent dat de database zelf een oplopend nummer verzint. Bijvoorbeeld: de eerste rij krijgt automatisch nummer 1, de volgende 2, enzovoort. Voor zo'n kolom hoef je dat nummer niet zelf in te vullen — in plaats daarvan geef je <code>NULL</code> op.</p>\n",
    "\n",
    "<p><strong>Let op:</strong></p>\n",
    "<ul>\n",
    "  <li>De volgorde van kolommen en waarden moet overeenkomen.</li>\n",
    "  <li>Tekst moet tussen aanhalingstekens staan. Bij getallen is dat niet nodig.</li>\n",
    "  <li>Bij een <code>AUTOINCREMENT</code> geef je <code>NULL</code> op, zodat automatisch wordt genummerd.</li>\n",
    "</ul>\n",
    "\n",
    "\n",
    "<table width=\"100%\"><tr><td style=\"text-align:left; vertical-align:top; font-size:1.25rem;\" width=\"60%\">\n",
    "<p>Voorbeeld: Deze query voegt een nieuwe pizza toe aan de tabel <i>pizza</i>:</p>\n",
    "<pre><code class=\"language-sql\">\n",
    "INSERT INTO pizza \n",
    "VALUES (NULL, 'Pizza Hawaii', 'Ham en ananas', 8.50);\n",
    "</code></pre>\n",
    "\n",
    "<p>Toelichting:</p>\n",
    "<ul>\n",
    "  <li>Met INSERT INTO geven we aan dat we iets willen toevoegen aan de tabel <i>pizza</i>.</li>\n",
    "  <li>Met VALUES geven we aan welke gegevens in de tabel moeten worden opgeslagen.</li>\n",
    "  <li>Met NULL geven we aan dat het id-nummer automatisch gegenereerd wordt.</li>\n",
    "  <li>In de tweede kolom, <b>naam</b>, komt 'Pizza Hawaii' te staan.</li>\n",
    "  <li>In de derde kolom, <b>omschrijving</b>, komt 'Ham en ananas'.</li>\n",
    "  <li>In de vierde kolom, <b>basisprijs</b>, komt 8.50.</li>\n",
    "</ul>\n",
    "</td><td width=\"40%\">\n",
    "<table border=\"1\" cellspacing=\"0\">\n",
    "  <thead>\n",
    "    <tr>\n",
    "      <th>pizzacode</th>\n",
    "      <th>naam</th>\n",
    "      <th>omschrijving</th>\n",
    "      <th>basisprijs</th>\n",
    "    </tr>\n",
    "  </thead>\n",
    "  <tbody>\n",
    "    <tr><td>1</td><td>Margherita</td><td>Tomaat,kaas en oregano</td><td>6</td></tr>\n",
    "    <tr><td>2</td><td>Napoletana</td><td>Tomaat, kaas, ansjovis, olijven, kappertjes en oregano</td><td>7.5</td></tr>\n",
    "    <tr><td>3</td><td>Prosciutto</td><td>Tomaat, kaas, ham en oregano</td><td>7.5</td></tr>\n",
    "    <tr><td>...</td><td>...</td><td>...</td><td>...</td></tr>\n",
    "    <tr><td>36</td><td>Combinazione</td><td>Eigen keuze pizza</td><td>10.5</td></tr>\n",
    "    <tr><td>37</td><td>Pizza Hawaii</td><td>Ham en ananas</td><td>8.5</td></tr>\n",
    "  </tbody>\n",
    "</table>\n",
    "</td></tr></table>"
   ]
  },
  {
   "cell_type": "markdown",
   "id": "822271dd",
   "metadata": {},
   "source": [
    "\n",
    "### Verwerkingsopdracht 7.1.1 Pizza toevoegen en controleren\n",
    "\n",
    "<ol type=\"a\">\n",
    "  <li>Voer de code hieronder uit om een <i>Pizza Hawaii</i> toe te voegen aan de tabel <i>pizza</i>.</li>\n",
    "  <li>Controleer daarna of het is gelukt. Dit doe je met:<pre><code class=\"language-sql\">\n",
    "SELECT *\n",
    "FROM pizza;\n",
    "</code></pre>\n",
    "</li>\n",
    "</ol>"
   ]
  },
  {
   "cell_type": "markdown",
   "id": "836848d5",
   "metadata": {},
   "source": []
  },
  {
   "cell_type": "code",
   "execution_count": null,
   "id": "bd1a78e8",
   "metadata": {
    "vscode": {
     "languageId": "sql"
    }
   },
   "outputs": [],
   "source": [
    "INSERT INTO pizza \n",
    "VALUES (NULL, 'Pizza Hawaii', 'Ham en ananas', 8.50);"
   ]
  },
  {
   "cell_type": "markdown",
   "id": "86a0b180",
   "metadata": {},
   "source": [
    "<p>Bekijk <a\n",
    "href=\"https://rweeda.github.io/PythonIA/docs/IA_sql_oplossingen.html#opgave711\"\n",
    "target=\"_blank\">hier</a> de voorbeelduitwerking.</p>\n",
    "\n",
    "<!--\n",
    "<ol type=\"a\">\n",
    "<pre><code class=\"language-sql\"> \n",
    "INSERT INTO pizza \n",
    "VALUES (NULL, 'Pizza Hawaii', 'Ham en ananas', 8.50);\n",
    "</code></pre>\n",
    "<li>\n",
    "<pre><code class=\"language-sql\"> \n",
    "-- check:\n",
    "SELECT *\n",
    "FROM pizza;\n",
    "</code></pre>\n",
    "</ol>\n",
    "-->"
   ]
  },
  {
   "cell_type": "markdown",
   "id": "5e9cefaa",
   "metadata": {},
   "source": [
    "\n",
    "### Verwerkingsopdracht 7.1.2 Een nieuwe glutenvrije bodem\n",
    "\n",
    "\n",
    "\n",
    "<p>Welke van de volgende INSERT INTO-statements voegt correct een nieuwe bodem toe met omschrijving <b>Glutenvrij</b> en een toeslag van €1,50? We gebruiken de tabel <i>bodem</i> met de volgende kolommen:</p>\n",
    "<ul>\n",
    "  <li><b>bodemcode</b> (AUTOINCREMENT, hoef je niet zelf in te vullen)</li>\n",
    "  <li><b>omschrijving</b> (bijvoorbeeld \"Dunne bodem\")</li>\n",
    "  <li><b>plusprijs</b> (bijvoorbeeld 1.00)</li>\n",
    "</ul>\n",
    "\n",
    "\n",
    "A. <pre><code class=\"language-sql\">INSERT INTO bodem (bodemcode, omschrijving, plusprijs)\n",
    "VALUES (5, \"Glutenvrij\", 1.50);\n",
    "</code></pre>\n",
    "  \n",
    "B. <pre><code class=\"language-sql\">INSERT INTO bodem (omschrijving, plusprijs)\n",
    "VALUES (\"Glutenvrij\", 1.50);\n",
    "</code></pre>\n",
    "  \n",
    "  \n",
    "C. <pre><code class=\"language-sql\">INSERT INTO bodem\n",
    "VALUES (\"Glutenvrij\", 1.50);\n",
    "</code></pre>\n",
    "  \n",
    "D. <pre><code class=\"language-sql\">INSERT INTO bodem (omschrijving, plusprijs)\n",
    "VALUES (Glutenvrij, €1,50);\n",
    "</code></pre>\n",
    "  "
   ]
  },
  {
   "cell_type": "markdown",
   "id": "aa1d0a1e",
   "metadata": {},
   "source": [
    "<p>Bekijk <a\n",
    "href=\"https://rweeda.github.io/PythonIA/docs/IA_sql_oplossingen.html#opgave712\"\n",
    "target=\"_blank\">hier</a> de voorbeelduitwerking.</p>\n"
   ]
  },
  {
   "cell_type": "markdown",
   "id": "bded00bc",
   "metadata": {},
   "source": [
    "### Verwerkingsopdracht 7.1.3 XXL formaat toevoegen\n",
    "<ol type=\"a\">\n",
    "  <li>Voeg een nieuw <b>formaat</b> toe met de omschrijving \"XXL\" en een toeslag van €2,00. Gebruik de tabel <i>formaat</i>. Deze bevat de kolommen:\n",
    "<ul>\n",
    "  <li><b>formaatcode</b> (AUTOINCREMENT)</li>\n",
    "  <li><b>omschrijving</b></li>\n",
    "  <li><b>plusprijs</b></li>\n",
    "</ul>\n",
    "</li>\n",
    "  <li>Controleer daarna of het gelukt is. Dit doe je met:<pre><code class=\"language-sql\">SELECT *\n",
    "FROM formaat;\n",
    "</code></pre></li>\n",
    "</ol>\n",
    "\n"
   ]
  },
  {
   "cell_type": "code",
   "execution_count": null,
   "id": "bc9bec2b",
   "metadata": {
    "vscode": {
     "languageId": "sql"
    }
   },
   "outputs": [],
   "source": []
  },
  {
   "cell_type": "code",
   "execution_count": null,
   "id": "0ed4f4b8",
   "metadata": {
    "vscode": {
     "languageId": "sql"
    }
   },
   "outputs": [],
   "source": [
    "SELECT *\n",
    "FROM formaat;"
   ]
  },
  {
   "cell_type": "markdown",
   "id": "b1c57136",
   "metadata": {},
   "source": [
    "<p>Bekijk <a\n",
    "href=\"https://rweeda.github.io/PythonIA/docs/IA_sql_oplossingen.html#opgave713\"\n",
    "target=\"_blank\">hier</a> de voorbeelduitwerking.</p>\n",
    "\n",
    "<!--\n",
    "--INSERT INTO formaat \n",
    "--VALUES (NULL, 'XXL', 2.00);\n",
    "SELECT *\n",
    "FROM formaat;\n",
    "-->"
   ]
  }
 ],
 "metadata": {
  "language_info": {
   "name": "python"
  }
 },
 "nbformat": 4,
 "nbformat_minor": 5
}
