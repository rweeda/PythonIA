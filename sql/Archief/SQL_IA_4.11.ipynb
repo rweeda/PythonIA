{
 "cells": [
  {
   "cell_type": "markdown",
   "id": "fe171c46",
   "metadata": {},
   "source": [
    "## 4.11: Samenvatting\n",
    "\n",
    "<ul> \n",
    "<li>Met <code>LIMIT</code> geef je aan hoeveel rijen getoond moeten worden;</li>\n",
    "<li>Met <code>ORDER BY</code> kun je de waarden in een kolom sorteren. Daarbij gebruik je <code>ASC</code> om oplopend te sorteren, en <code>DESC</code> om aflopend te sorteren;\n",
    "<li>Met <code>DISTINCT</code> toon je alleen de unieke waarden (in een kolom staan er geen waarden twee keer);\n",
    "<li>Met <code>COUNT()</code> tel je hoeveel waarden er in een kolom staan;\n",
    "<li>Met <code>COUNT(DISTINCT ..)</code> tel je het aantal unieke waarden in een kolom te tellen.\n",
    "<li>Je kunt berekeningen op alle waarden in een kolom maken: <code>MIN()</code> (kleinste), <code>MAX()</code> (grootste), <code>SUM()</code> (totaal) en <code>AVG()</code> (gemiddelde);\n",
    "\n",
    "<li>Hieronder staat de volgorde waarin de SQL commando's moeten staan:\n",
    "<p><img\n",
    "src=\"https://raw.githubusercontent.com/rweeda/PythonIA/main/sql/img/H1_commandos.png\"\n",
    "alt=\"Commando's voor het ophalen van informatie\" width=\"250\"></p></li>\n",
    "</ul>\n",
    "\n"
   ]
  }
 ],
 "metadata": {
  "language_info": {
   "name": "python"
  }
 },
 "nbformat": 4,
 "nbformat_minor": 5
}
