{
 "cells": [
  {
   "cell_type": "markdown",
   "id": "bf4aed30",
   "metadata": {},
   "source": [
    "## 2.3: Alle gegevens van een tabel ophalen\n",
    "\n",
    "<p>Om alle kolommen op te halen gebruik je na de SELECT een '*':</p>\n",
    " \n",
    "```SQL\n",
    "SELECT * \n",
    "FROM tabelnaam;\n",
    "```\n",
    "\n",
    "### Opdracht 2.3 Alle gegevens van tabel pizza ophalen\n",
    "\n",
    "Toon alle kolommen met gegevens van tabel <i>pizza</i>, zoals in het voorbeeld hieronder: \n",
    "\n",
    "| pizzacode | naam                  | omschrijving                                                             | basisprijs |\n",
    "|-----------|-----------------------|---------------------------------------------------------------------------|------------|\n",
    "| 1         | Margherita            | Tomaat,kaas en oregano                                                    | 6.0        |\n",
    "| 2         | Napoletana            | Tomaat, kaas, ansjovis, olijven, kappertjes en oregano                   | 7.5        |\n",
    "| 3         | Prosciutto            | Tomaat, kaas, ham en oregano                                              | 7.5        |\n",
    "| 4         | Funghi                | Tomaat, kaas, champignons en oregano                                     | 7.5        |\n",
    "| ...       | ...                   | ...                                                                       | ...        |\n",
    "| 36        | Combinazione          | Eigen keuze pizza                                                        | 10.5       |\n",
    "\n",
    "\n"
   ]
  },
  {
   "cell_type": "code",
   "execution_count": null,
   "id": "5796ebf6",
   "metadata": {
    "vscode": {
     "languageId": "sql"
    }
   },
   "outputs": [],
   "source": []
  },
  {
   "cell_type": "markdown",
   "id": "c2425722",
   "metadata": {},
   "source": [
    "<p>Bekijk <a href=\"https://rweeda.github.io/PythonIA/docs/IA_sql_oplossingen.html#opgave23\" target=\"_blank\">hier</a> de voorbeelduitwerking.</p>\n",
    "\n",
    "<!-- ANTWOORD:\n",
    "<pre><code class=\"language-sql\">\n",
    "SELECT *\n",
    "FROM pizza\n",
    "</code></pre>\n",
    "-->"
   ]
  }
 ],
 "metadata": {
  "language_info": {
   "name": "python"
  }
 },
 "nbformat": 4,
 "nbformat_minor": 5
}
