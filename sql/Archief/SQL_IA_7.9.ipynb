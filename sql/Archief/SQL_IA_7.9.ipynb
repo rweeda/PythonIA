{
 "cells": [
  {
   "cell_type": "markdown",
   "id": "563b9f91",
   "metadata": {},
   "source": [
    "\n",
    "## 7.9: Overzicht van alle tabellen\n",
    "\n",
    "<p>In het <b>ERD-schema</b> (Entity-Relationship Diagram) hieronder zie je een overzicht van de tabellen en hoe ze met elkaar verbonden zijn. Klik op de afbeelding voor een vergrotin.</p>\n",
    "\n",
    "<p> <a\n",
    "href=\"https://raw.githubusercontent.com/rweeda/PythonIA/main/sql/img/DaniloIA_ERD.png\"\n",
    "target=\"_blank\">\n",
    "  <img src=\"https://raw.githubusercontent.com/rweeda/PythonIA/main/sql/img/DaniloIA_ERD.png\" alt=\"Klik om in een nieuw venster te openen\" width=\"1000\"/>\n",
    "</a></p>\n",
    "\n",
    "<p>De pijlen geven de koppelingen tussen tabellen aan. Een bestelling heeft een klantnummer. Aan het pijltje zie je dat de gegevens over de klant te vinden zijn in de tabel <i>klanten</i>.</p>\n",
    "\n",
    "<p><strong>Verdieping:</strong> De tekens bij de pijlen geven het type relatie aan. De relatie tussen <i>klant</i> en <i>bestelling</i> is een één-op-veel-relatie: één klant kan meerdere bestellingen hebben, maar een bestelling hoort bij één klant.</p>\n"
   ]
  }
 ],
 "metadata": {
  "language_info": {
   "name": "python"
  }
 },
 "nbformat": 4,
 "nbformat_minor": 5
}
