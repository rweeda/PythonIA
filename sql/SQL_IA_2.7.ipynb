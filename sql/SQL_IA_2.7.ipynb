{
 "cells": [
  {
   "cell_type": "markdown",
   "id": "6423faf1",
   "metadata": {},
   "source": [
    "## 2.11: Samenvatting\n",
    "\n",
    "<ul>\n",
    "<li><b>SQL</b> staat voor Structured Query Language. Het is de standaardtaal om gegevens in een database op te slaan, te bewerken en op te vragen;\n",
    "<li>Een <b>query</b> is een vraag aan de database, bijvoorbeeld: \"Welke pizza’s kosten minder dan 8 euro?\";\n",
    "<li>Een query levert een overzicht op met een deel van de data uit de database;\n",
    "<li>Met SELECT kan je kolommen uit een tabel opvragen en weergeven;\n",
    "<li>Na SELECT gebruikt je '*' om een overzicht van alle kolomen uit een tabel te krijgen;\n",
    "<li>Je kunt een kolomnaam in een overzicht hernoemen met `AS`. \n",
    "</ul>\n",
    "\n"
   ]
  }
 ],
 "metadata": {
  "language_info": {
   "name": "python"
  }
 },
 "nbformat": 4,
 "nbformat_minor": 5
}
