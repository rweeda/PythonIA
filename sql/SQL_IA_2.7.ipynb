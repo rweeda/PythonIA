{
 "cells": [
  {
   "cell_type": "markdown",
   "id": "4f72f4dc",
   "metadata": {},
   "source": [
    "## 2.7: Kennis maken met de andere tabellen\n",
    "\n",
    "\n",
    "<p>Danilo's pizzeria database bestaat uit meer tabellen dan alleen\n",
    "<i>pizza</i>. Er wordt ook bijvoorbeeld informatie opgeslagen over\n",
    "klanten, bezorgers en bestellingen. In de afbeelding hieronder zie je alle 7\n",
    "tabellen.</p>\n",
    "\n",
    "\n",
    "<p> <a\n",
    "href=\"https://raw.githubusercontent.com/rweeda/PythonIA/main/sql/img/DaniloIA_ERD.png\"\n",
    "target=\"_blank\">\n",
    "  <img src=\"https://raw.githubusercontent.com/rweeda/PythonIA/main/sql/img/DaniloIA_ERD.png\" alt=\"Klik om in een nieuw venster te openen\" width=\"1000\"/>\n",
    "</a></p>\n",
    "\n",
    "\n",
    "\n",
    "### Opdracht 2.7.1 Alle gegevens uit tabel <code>klant</code> tonen\n",
    "<table>\n",
    "  <tr><td style=\"text-align:left; vertical-align:top; font-size:1.25rem;\" width=\"35%\">\n",
    "<p>Toon alle gegevens\n",
    "uit tabel <code>klant</code>, zoals in het voorbeeld hiernaast.\n",
    "</td><td width=\"65%\">\n",
    "</td>\n",
    "</tr>\n",
    "</table>"
   ]
  },
  {
   "cell_type": "code",
   "execution_count": null,
   "id": "83b165c3",
   "metadata": {
    "vscode": {
     "languageId": "sql"
    }
   },
   "outputs": [],
   "source": []
  },
  {
   "cell_type": "markdown",
   "id": "285a3cf4",
   "metadata": {},
   "source": [
    "\n",
    "<p>Bekijk <a\n",
    "href=\"https://rweeda.github.io/PythonIA/docs/IA_sql_oplossingen.html#opgave271\"\n",
    "target=\"_blank\">hier</a> de voorbeelduitwerking.</p>\n",
    "\n",
    "<!-- ANTWOORD: <pre><code class=\"language-sql\"> SELECT * FROM klant;\n",
    "</code></pre> -->"
   ]
  },
  {
   "cell_type": "markdown",
   "id": "d7b0a2e6",
   "metadata": {},
   "source": [
    "\n",
    "### Opdracht 2.7.2 Alle klanten uit Enschede tonen\n",
    "\n",
    "<table>\n",
    "  <tr><td style=\"text-align:left; vertical-align:top; font-size:1.25rem;\" width=\"35%\">\n",
    "  Toon het adres, de postcode en de plaats van alle klanten die in Enschede\n",
    "wonen, zoals hiernaast. Tip: De gegevens komen uit tabel <code>klant</code>.</p> \n",
    "</td><td width=\"65%\">\n",
    "<table border=\"1\">\n",
    "  <thead>\n",
    "    <tr>\n",
    "      <th>adres</th>\n",
    "      <th>postcode</th>\n",
    "      <th>woonplaats</th>\n",
    "    </tr>\n",
    "  </thead>\n",
    "  <tbody>\n",
    "    <tr>\n",
    "      <td>Gladioolstraat 11</td>\n",
    "      <td>3742TC</td>\n",
    "      <td>Enschede</td>\n",
    "    </tr>\n",
    "    <tr>\n",
    "      <td>Banckertlaan 7</td>\n",
    "      <td>3742MG</td>\n",
    "      <td>Enschede</td>\n",
    "    </tr>\n",
    "    <tr>\n",
    "      <td>Talmalaan 11</td>\n",
    "      <td>3741TX</td>\n",
    "      <td>Enschede</td>\n",
    "    </tr>\n",
    "    <tr>\n",
    "      <td>Krugerlaan 9</td>\n",
    "      <td>3743CJ</td>\n",
    "      <td>Enschede</td>\n",
    "    </tr>\n",
    "    <tr>\n",
    "      <td>Zandvoortweg 199</td>\n",
    "      <td>3741BE</td>\n",
    "      <td>Enschede</td>\n",
    "    </tr>\n",
    "  </tbody>\n",
    "</table>\n",
    "</td></tr></table>\n",
    "\n",
    "\n"
   ]
  },
  {
   "cell_type": "code",
   "execution_count": null,
   "id": "317f4762",
   "metadata": {
    "vscode": {
     "languageId": "sql"
    }
   },
   "outputs": [],
   "source": []
  },
  {
   "cell_type": "markdown",
   "id": "9d00a0bb",
   "metadata": {},
   "source": [
    "<p>Bekijk <a\n",
    "href=\"https://rweeda.github.io/PythonIA/docs/IA_sql_oplossingen.html#opgave272\"\n",
    "target=\"_blank\">hier</a> de voorbeelduitwerking.</p>\n",
    "\n",
    "<!-- ANTWOORD: <pre><code class=\"language-sql\"> SELECT adres, postcode,\n",
    "woonplaats FROM klant WHERE plaats='Enschede'; </code></pre> -->"
   ]
  },
  {
   "cell_type": "markdown",
   "id": "6bf78e74",
   "metadata": {},
   "source": [
    "\n",
    "### Opdracht 2.7.3 Wachtwoord van een bezorger tonen\n",
    "<table width=\"100%\">\n",
    "  <tr><td style=\"text-align:left; vertical-align:top; font-size:1.25rem;\" width=\"35%\">\n",
    "      Toon het wachtwoord van de\n",
    "      bezorger met de naam Ronald Marbus, zoals hiernaast.\n",
    "      Tips: <ul> <li>De gegevens komen uit tabel <code>bezorger</code>,</li> <li>toon\n",
    "eerst alle kolommen, en kies dan welk kolom je nodig hebt.</li> </ul>\n",
    "      </td>\n",
    "          <td width=\"65%\">\n",
    "      <table border=\"1\">\n",
    "        <thead>\n",
    "          <tr>\n",
    "            <th>wachtwoord</th>\n",
    "          </tr>\n",
    "        </thead>\n",
    "        <tbody>\n",
    "          <tr>\n",
    "            <td>R0nalt</td>\n",
    "          </tr>\n",
    "        </tbody>\n",
    "      </table>\n",
    "    </td>\n",
    "  </tr>\n",
    "</table>"
   ]
  },
  {
   "cell_type": "code",
   "execution_count": null,
   "id": "1c06738d",
   "metadata": {
    "vscode": {
     "languageId": "sql"
    }
   },
   "outputs": [],
   "source": []
  },
  {
   "cell_type": "markdown",
   "id": "4f4b5882",
   "metadata": {},
   "source": [
    "<p>Bekijk <a\n",
    "href=\"https://rweeda.github.io/PythonIA/docs/IA_sql_oplossingen.html#opgave273\"\n",
    "target=\"_blank\">hier</a> de voorbeelduitwerking.</p>\n",
    "\n",
    "<!-- ANTWOORD: <pre><code class=\"language-sql\"> SELECT wachtwoord FROM\n",
    "bezorger WHERE naam = 'Ronald Marbus'; </code></pre> -->"
   ]
  }
 ],
 "metadata": {
  "language_info": {
   "name": "python"
  }
 },
 "nbformat": 4,
 "nbformat_minor": 5
}
