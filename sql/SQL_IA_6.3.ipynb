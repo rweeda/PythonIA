{
 "cells": [
  {
   "cell_type": "markdown",
   "id": "bafd11b8",
   "metadata": {},
   "source": [
    "## 6.3: Gegevens in een tabel aanpassen\n",
    "<p>Met <code>UPDATE</code> kun je gegevens in een tabel aanpassen:</p>\n",
    "\n",
    "<pre><code class=\"language-sql\">UPDATE tabelnaam\n",
    "SET kolom1 = nieuwe_waarde1, kolom2 = nieuwe_waarde2\n",
    "WHERE voorwaarde;\n",
    "</code></pre>\n",
    "Toelichting:\n",
    "<ul>\n",
    "  <li>Achter <code>UPDATE</code> geef je de naam van de tabel aan.</li>\n",
    "  <li>Met <code>SET</code> geef je aan welke kolom (of kolommen) je wilt aanpassen en wat de nieuwe waarde wordt.</li>\n",
    "  <li>Met <code>WHERE</code> geef je aan welke rij(en) je wilt aanpassen, bij voorkeur via de <i>primary key</i>.</li>\n",
    "  <li>Let op: Als je geen <code>WHERE</code> gebruikt, worden <i>alle</i> rijen aangepast!</li>\n",
    "</ul>\n",
    "\n",
    "\n",
    "<hr>\n",
    "<p><b>Voorbeeld</b>. Deze query past de naam van de pizza met <b>pizzacode</b> 5 aan naar \"Peperoni\". Alle andere kolommen blijven ongewijzigd:</p>\n",
    "<pre><code class=\"language-sql\">UPDATE pizza\n",
    "SET pizzanaam = \"Peperoni\"\n",
    "WHERE pizzacode = 5;\n",
    "</code></pre>"
   ]
  },
  {
   "cell_type": "code",
   "execution_count": null,
   "id": "240f5a42",
   "metadata": {
    "vscode": {
     "languageId": "sql"
    }
   },
   "outputs": [],
   "source": []
  },
  {
   "cell_type": "markdown",
   "id": "fe21a09f",
   "metadata": {},
   "source": [
    "### Verwerkingsopdracht 6.3.1 Pas de prijs van een pizza aan\n",
    "<p>\n",
    "a. Schrijf een query die voor de pizza met <b>naam</b> gelijk aan \"Margherita\" de <b>basisprijs</b> verhoogt naar €8,00.\n",
    "<br><br>\n",
    "b. Controleer daarna of het gelukt is.</p>"
   ]
  },
  {
   "cell_type": "code",
   "execution_count": null,
   "id": "7f765e70",
   "metadata": {
    "vscode": {
     "languageId": "sql"
    }
   },
   "outputs": [],
   "source": [
    "-- a. pas hier de prijs aan"
   ]
  },
  {
   "cell_type": "code",
   "execution_count": null,
   "id": "9a5b9942",
   "metadata": {
    "vscode": {
     "languageId": "sql"
    }
   },
   "outputs": [],
   "source": [
    "-- b. controleer of de tabel is aangepast"
   ]
  }
 ],
 "metadata": {
  "language_info": {
   "name": "python"
  },
  "latex_config": {
   "mathjax_url": "https://cdn.jsdelivr.net/npm/mathjax@3/es5/tex-mml-chtml.js"
  }
 },
 "nbformat": 4,
 "nbformat_minor": 5
}
