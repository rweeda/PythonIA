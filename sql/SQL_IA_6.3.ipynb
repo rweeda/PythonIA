{
 "cells": [
  {
   "cell_type": "markdown",
   "id": "bafd11b8",
   "metadata": {},
   "source": [
    "## 6.3: Gegevens in een tabel aanpassen\n",
    "<p>Met <code>UPDATE</code> kun je gegevens in een tabel aanpassen:</p>\n",
    "\n",
    "<pre><code class=\"language-sql\">UPDATE tabelnaam\n",
    "SET kolom1 = nieuwe_waarde1, kolom2 = nieuwe_waarde2\n",
    "WHERE voorwaarde;\n",
    "</code></pre>\n",
    "Toelichting:\n",
    "<ul>\n",
    "  <li>Achter UPDATE geef je de naam van de tabel aan.</li>\n",
    "  <li>Met SET geef je aan welke kolom (of kolommen) je wilt aanpassen en wat de nieuwe waarde wordt.</li>\n",
    "  <li>Met WHERE geef je aan welke rij(en) je wilt aanpassen, bij voorkeur via de <i>primary key</i>.</li>\n",
    "  <li>Let op: Als je geen WHERE gebruikt, worden <i>alle</i> rijen aangepast!</li>\n",
    "</ul>\n",
    "\n",
    "\n",
    "<hr>\n",
    "<p><b>Voorbeeld</b>. Deze query past de naam van de pizza met pizzacode 1 aan naar \"Hawaii\". Alle andere kolommen blijven ongewijzigd:</p>\n",
    "<pre><code class=\"language-sql\">UPDATE pizza\n",
    "SET pizzanaam = \"Hawaii\"\n",
    "WHERE pizzacode = 1;\n",
    "</code></pre>"
   ]
  },
  {
   "cell_type": "code",
   "execution_count": null,
   "id": "240f5a42",
   "metadata": {
    "vscode": {
     "languageId": "sql"
    }
   },
   "outputs": [],
   "source": []
  },
  {
   "cell_type": "markdown",
   "id": "fe21a09f",
   "metadata": {},
   "source": [
    "### Verwerkingsopdracht 6.3.1 Pas de prijs van een pizza aan\n",
    "\n",
    "<ol type=\"a\">\n",
    "  <li>Schrijf een query die voor de pizza met <b>naam</b> gelijk aan <i>\"Margherita\"</i> de <b>basisprijs</b> verhoogt naar €8,00.</li>\n",
    "  <li>Controleer daarna met SELECT * of het gelukt is.</li>\n",
    "</ol>\n",
    "\n"
   ]
  },
  {
   "cell_type": "code",
   "execution_count": null,
   "id": "7f765e70",
   "metadata": {
    "vscode": {
     "languageId": "sql"
    }
   },
   "outputs": [],
   "source": [
    "-- a) pas hier de prijs aan"
   ]
  },
  {
   "cell_type": "code",
   "execution_count": null,
   "id": "9a5b9942",
   "metadata": {
    "vscode": {
     "languageId": "sql"
    }
   },
   "outputs": [],
   "source": [
    "-- b) controleer of de tabel is aangemaakt"
   ]
  }
 ],
 "metadata": {
  "language_info": {
   "name": "python"
  }
 },
 "nbformat": 4,
 "nbformat_minor": 5
}
