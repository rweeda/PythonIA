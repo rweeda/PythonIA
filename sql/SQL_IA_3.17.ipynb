{
 "cells": [
  {
   "cell_type": "markdown",
   "id": "4206f005",
   "metadata": {},
   "source": [
    "\n",
    "### 3.17: Afsluitende Opdrachten\n",
    "\n",
    "\n",
    "### Afsluitende Opdracht 3.17.1 Menu\n",
    "\n",
    "<table width=\"100%\"><tr><td style=\"text-align:left; vertical-align:top; font-size:1.25rem;\" width=\"35%\">\n",
    "Toon van alle pizza's de omschrijving en de naam (in die volgorde).\n",
    "</td><td width=\"65%\">\n",
    "    <table border=\"1\">\n",
    "  <thead>\n",
    "    <tr>\n",
    "      <th>omschrijving</th>\n",
    "      <th>naam</th>\n",
    "    </tr>\n",
    "  </thead>\n",
    "  <tbody>\n",
    "    <tr><td>Tomaat,kaas en oregano</td><td>Margherita</td></tr>\n",
    "    <tr><td>Tomaat, kaas, ansjovis, olijven, kappertjes en oregano</td><td>Napoletana</td></tr>\n",
    "    <tr><td>Tomaat, kaas, ham en oregano</td><td>Prosciutto</td></tr>\n",
    "    <tr><td>Tomaat, kaas, champignons en oregano</td><td>Funghi</td></tr>\n",
    "    <tr><td>Tomaat, kaas, salami en oregano</td><td>Salame</td></tr>\n",
    "    <tr><td>...</td><td>...</td></tr>\n",
    "    <tr><td>Eigen keuze pizza</td><td>Combinazione</td></tr>\n",
    "  </tbody>\n",
    "</table>\n",
    "\n",
    "</td></tr></table>\n",
    "\n",
    "\n",
    "\n",
    "\n",
    "\n"
   ]
  },
  {
   "cell_type": "code",
   "execution_count": null,
   "id": "4b2997c5",
   "metadata": {
    "vscode": {
     "languageId": "sql"
    }
   },
   "outputs": [],
   "source": []
  },
  {
   "cell_type": "markdown",
   "id": "3a908e43",
   "metadata": {},
   "source": [
    "<p>Bekijk <a href=\"https://rweeda.github.io/PythonIA/docs/IA_sql_oplossingen.html#opgave3171\" target=\"_blank\">hier</a> de voorbeelduitwerking.</p>\n",
    "<!-- ANTWOORD:\n",
    "<pre><code class=\"language-sql\">\n",
    "SELECT omschrijving, naam\n",
    "FROM pizza;\n",
    "</code></pre>\n",
    "-->\n"
   ]
  },
  {
   "cell_type": "markdown",
   "id": "52a4c54f",
   "metadata": {},
   "source": [
    "\n",
    "### Afsluitende Opdracht 3.17.2 Alle goedkope pizza's met een 'C'\n",
    "\n",
    "<table width=\"100%\"><tr><td style=\"text-align:left; vertical-align:top; font-size:1.25rem;\" width=\"35%\">\n",
    "\n",
    "Toon een overzicht van alle pizza's waarvan de naam met 'C' begint maar niet meer kost dan 8 euro.\n",
    "\n",
    "</td><td width=\"65%\">\n",
    "    \n",
    "<table border=\"1\">\n",
    "  <thead>\n",
    "    <tr>\n",
    "      <th>naam</th>\n",
    "    </tr>\n",
    "  </thead>\n",
    "  <tbody>\n",
    "    <tr><td>Cippola</td></tr>\n",
    "    <tr><td>Calimero</td></tr>\n",
    "    <tr><td>Capricciosa</td></tr>\n",
    "  </tbody>\n",
    "</table>\n",
    "\n",
    "\n",
    "</td></tr></table>\n",
    "\n"
   ]
  },
  {
   "cell_type": "code",
   "execution_count": null,
   "id": "0578d157",
   "metadata": {
    "vscode": {
     "languageId": "sql"
    }
   },
   "outputs": [],
   "source": []
  },
  {
   "cell_type": "markdown",
   "id": "4a4230bf",
   "metadata": {},
   "source": [
    "\n",
    "\n",
    "<p>Bekijk <a href=\"https://rweeda.github.io/PythonIA/docs/IA_sql_oplossingen.html#opgave3172\" target=\"_blank\">hier</a> de voorbeelduitwerking.</p>\n",
    "<!-- ANTWOORD:\n",
    "<pre><code class=\"language-sql\">\n",
    "SELECT naam\n",
    "FROM pizza\n",
    "WHERE naam LIKE 'C%' AND basisprijs <= 8.0;\n",
    "</code></pre>\n",
    "-->"
   ]
  },
  {
   "cell_type": "markdown",
   "id": "923bc045",
   "metadata": {},
   "source": [
    "\n",
    "\n",
    "### Afsluitende Opdracht 3.17.3 Dure salami\n",
    "\n",
    "<table width=\"100%\"><tr><td style=\"text-align:left; vertical-align:top; font-size:1.25rem;\" width=\"35%\">\n",
    "\n",
    "Toon een overzicht zoals hiernaast van alle pizza's met een basisprijs van minimaal €9,00 <b>én</b> die het woord 'salami' in de omschrijving bevatten.\n",
    "\n",
    "\n",
    "</td><td width=\"65%\">\n",
    "<table border=\"1\">\n",
    "  <thead>\n",
    "    <tr>\n",
    "      <th>naam</th>\n",
    "      <th>basisprijs</th>\n",
    "    </tr>\n",
    "  </thead>\n",
    "  <tbody>\n",
    "    <tr><td>Calzone (dichte pizza)</td><td>9.0</td></tr>\n",
    "    <tr><td>Fantasia</td><td>9.0</td></tr>\n",
    "    <tr><td>Specialità di Danilo</td><td>9.5</td></tr>\n",
    "  </tbody>\n",
    "</table>\n",
    "\n",
    "</td></tr></table>\n",
    "\n",
    "\n",
    "\n"
   ]
  },
  {
   "cell_type": "code",
   "execution_count": null,
   "id": "fd1fbe64",
   "metadata": {
    "vscode": {
     "languageId": "sql"
    }
   },
   "outputs": [],
   "source": []
  },
  {
   "cell_type": "markdown",
   "id": "15024f08",
   "metadata": {},
   "source": [
    "\n",
    "<p>Bekijk <a href=\"https://rweeda.github.io/PythonIA/docs/IA_sql_oplossingen.html#opgave3173\" target=\"_blank\">hier</a> de voorbeelduitwerking.</p>\n",
    "<!-- ANTWOORD:\n",
    "<pre><code class=\"language-sql\">\n",
    "SELECT naam, basisprijs\n",
    "FROM pizza\n",
    "WHERE basisprijs >= 9\n",
    "  AND omschrijving LIKE '%salami%';\n",
    "</code></pre>\n",
    "-->\n"
   ]
  },
  {
   "cell_type": "markdown",
   "id": "bb991d2c",
   "metadata": {},
   "source": [
    "### Afsluitende Opdracht 3.17.4 Toon 3 pizza’s zonder vlees, met een ‘a’ in de naam\n",
    "\n",
    "<table width=\"100%\"><tr><td style=\"text-align:left; vertical-align:top; font-size:1.25rem;\" width=\"35%\">\n",
    "Toon de eerste drie pizza’s (alfabetisch op naam) die <b>geen</b> vlees (ham, salami, kip) bevatten <b>en</b> een ‘a’ in de naam hebben. Toon de kolommen <b>naam</b> en <b>omschrijving</b>.\n",
    "</td><td width=\"65%\">\n",
    "    <table border=\"1\">\n",
    "  <thead>\n",
    "    <tr>\n",
    "      <th>naam</th>\n",
    "      <th>omschrijving</th>\n",
    "    </tr>\n",
    "  </thead>\n",
    "  <tbody>\n",
    "    <tr>\n",
    "      <td>Cippola</td>\n",
    "      <td>Tomaat, kaas, uien en oregano</td>\n",
    "    </tr>\n",
    "    <tr>\n",
    "      <td>Combinazione</td>\n",
    "      <td>Eigen keuze pizza</td>\n",
    "    </tr>\n",
    "    <tr>\n",
    "      <td>Margherita</td>\n",
    "      <td>Tomaat,kaas en oregano</td>\n",
    "    </tr>\n",
    "  </tbody>\n",
    "</table>\n",
    "\n",
    "</td></tr></table>\n",
    "\n",
    "\n"
   ]
  },
  {
   "cell_type": "code",
   "execution_count": null,
   "id": "3667469a",
   "metadata": {
    "vscode": {
     "languageId": "sql"
    }
   },
   "outputs": [],
   "source": []
  },
  {
   "cell_type": "markdown",
   "id": "d7a0f599",
   "metadata": {},
   "source": [
    "\n",
    "\n",
    "<p>Bekijk <a href=\"https://rweeda.github.io/PythonIA/docs/IA_sql_oplossingen.html#opgave3174\" target=\"_blank\">hier</a> de voorbeelduitwerking.</p>\n",
    "\n",
    "<!-- ANTWOORD:\n",
    "<pre><code class=\"language-sql\">\n",
    "SELECT naam, omschrijving\n",
    "FROM pizza\n",
    "WHERE omschrijving NOT LIKE '%ham%'\n",
    "  AND omschrijving NOT LIKE '%salami%'\n",
    "  AND omschrijving NOT LIKE '%kip%'\n",
    "  AND naam LIKE '%a%'\n",
    "ORDER BY naam\n",
    "LIMIT 3;\n",
    "</code></pre>\n",
    "-->"
   ]
  },
  {
   "cell_type": "markdown",
   "id": "123238fe",
   "metadata": {},
   "source": [
    "### Afsluitende Opdracht 3.17.5 Klanten buiten Enschede met 06-nummer\n",
    "<table width=\"100%\"><tr><td style=\"text-align:left; vertical-align:top; font-size:1.25rem;\" width=\"35%\">\n",
    "\n",
    "Tel het aantal klanten die een mobiel nummer (06) hebben maar <b>niet</b> in Enschede wonen. Noem de kolom zoals in het voorbeeld hiernaast.\n",
    "</td><td width=\"65%\">\n",
    "<table border=\"1\">\n",
    "  <thead>\n",
    "    <tr>\n",
    "      <th>aantal_klanten</th>\n",
    "    </tr>\n",
    "  </thead>\n",
    "  <tbody>\n",
    "    <tr>\n",
    "      <td>25</td>\n",
    "    </tr>\n",
    "  </tbody>\n",
    "</table>\n",
    "</td></tr></table>\n",
    "\n",
    "\n",
    "\n"
   ]
  },
  {
   "cell_type": "code",
   "execution_count": null,
   "id": "78903a36",
   "metadata": {
    "vscode": {
     "languageId": "sql"
    }
   },
   "outputs": [],
   "source": []
  },
  {
   "cell_type": "markdown",
   "id": "27d2a806",
   "metadata": {},
   "source": [
    "\n",
    "<p>Bekijk <a href=\"https://rweeda.github.io/PythonIA/docs/IA_sql_oplossingen.html#opgave3175\" target=\"_blank\">hier</a> de voorbeelduitwerking.</p>\n",
    "<!-- ANTWOORD:\n",
    "<pre><code class=\"language-sql\">\n",
    "SELECT COUNT(*) AS aantal_klanten\n",
    "FROM klant\n",
    "WHERE telefoon LIKE '06%' \n",
    "  AND woonplaats <> 'Enschede';\n",
    "</code></pre>\n",
    "Ook goed:\n",
    "<pre><code class=\"language-sql\">\n",
    "SELECT COUNT(*) AS aantal_klanten\n",
    "FROM klant\n",
    "WHERE telefoon LIKE '06%' \n",
    "  AND NOT woonplaats = 'Enschede';\n",
    "</code></pre>\n",
    "-->"
   ]
  },
  {
   "cell_type": "markdown",
   "id": "3a334d28",
   "metadata": {},
   "source": [
    "### Afsluitende Opdracht 3.17.6 Pizza’s met ‘special’ of duurder dan €10\n",
    "<table width=\"100%\"><tr><td style=\"text-align:left; vertical-align:top; font-size:1.25rem;\" width=\"35%\">\n",
    "Toon de namen van alle pizza’s waarvan de omschrijving het woord 'special' bevat, <b>óf</b> die duurder zijn dan €9,00.\n",
    "\n",
    "</td><td width=\"65%\">\n",
    "    <table border=\"1\">\n",
    "  <thead>\n",
    "    <tr>\n",
    "      <th>naam</th>\n",
    "    </tr>\n",
    "  </thead>\n",
    "  <tbody>\n",
    "      <tr>\n",
    "      <td>Specialità di Danilo</td>\n",
    "    </tr>\n",
    "    <tr>\n",
    "      <td>Combinazione</td>\n",
    "    </tr>\n",
    "  </tbody>\n",
    "</table>\n",
    "\n",
    "</td></tr></table>\n",
    "\n",
    "\n"
   ]
  },
  {
   "cell_type": "code",
   "execution_count": null,
   "id": "d8181060",
   "metadata": {
    "vscode": {
     "languageId": "sql"
    }
   },
   "outputs": [],
   "source": []
  },
  {
   "cell_type": "markdown",
   "id": "91e0fc67",
   "metadata": {},
   "source": [
    "<p>Bekijk <a href=\"https://rweeda.github.io/PythonIA/docs/IA_sql_oplossingen.html#opgave3176\" target=\"_blank\">hier</a> de voorbeelduitwerking.</p>\n",
    "<!-- ANTWOORD:\n",
    "<pre><code class=\"language-sql\">\n",
    "SELECT naam\n",
    "FROM pizza\n",
    "WHERE omschrijving LIKE '%special%'\n",
    "   OR basisprijs > 9;\n",
    "</code></pre>\n",
    "-->"
   ]
  },
  {
   "cell_type": "markdown",
   "id": "a17ee6b2",
   "metadata": {},
   "source": [
    "### Afsluitende Opdracht 3.17.7 Bezorgers met naam H maar die NIET met J begint\n",
    "<table width=\"100%\"><tr><td style=\"text-align:left; vertical-align:top; font-size:1.25rem;\" width=\"35%\">\n",
    "Toon de namen van de bezorgers met de letter 'H' in hun naam naar <b>niet</b> met de letter 'J' beginnen. Noem de kolom <i>bezorgernaam</i>. Sorteer de namen van hoog naar laag.\n",
    "\n",
    "</td><td width=\"65%\">\n",
    "<table border=\"1\">\n",
    "  <thead>\n",
    "    <tr>\n",
    "      <th>bezorgernaam</th>\n",
    "    </tr>\n",
    "  </thead>\n",
    "  <tbody>\n",
    "    <tr><td>Marleen Hoekstra</td></tr>\n",
    "    <tr><td>Herman Prent</td></tr>\n",
    "    <tr><td>Hans Boonstra</td></tr>\n",
    "    <tr><td>Han Fröling</td></tr>\n",
    "    <tr><td>Eric Henze</td></tr>\n",
    "    <tr><td>Ageeth Mooy</td></tr>\n",
    "    <tr><td>Afhalen</td></tr>\n",
    "  </tbody>\n",
    "</table>\n",
    "</td></tr></table>\n",
    "\n"
   ]
  },
  {
   "cell_type": "code",
   "execution_count": null,
   "id": "417c72a9",
   "metadata": {
    "vscode": {
     "languageId": "sql"
    }
   },
   "outputs": [],
   "source": []
  },
  {
   "cell_type": "markdown",
   "id": "f69a0342",
   "metadata": {},
   "source": [
    "\n",
    "<p>Bekijk <a href=\"https://rweeda.github.io/PythonIA/docs/IA_sql_oplossingen.html#opgave3177\" target=\"_blank\">hier</a> de voorbeelduitwerking.</p>\n",
    "<!-- ANTWOORD:\n",
    "<pre><code class=\"language-sql\">\n",
    "SELECT naam AS bezorgernaam\n",
    "FROM bezorger\n",
    "WHERE naam LIKE '%H%' AND naam NOT LIKE 'J%'\n",
    "ORDER BY naam DESC;\n",
    "</code></pre>\n",
    "-->"
   ]
  },
  {
   "cell_type": "markdown",
   "id": "e84b2e57",
   "metadata": {},
   "source": [
    "### Afsluitende Opdracht 3.17.8 Totaal aantal bestelde pizza's\n",
    "<table width=\"100%\"><tr><td style=\"text-align:left; vertical-align:top; font-size:1.25rem;\" width=\"35%\">\n",
    "Toon het totaal aantal bestelde pizza's, zoals hiernaast. De gegevens komen uit tabel <i>besteldePizza</i>.\n",
    "\n",
    "</td><td width=\"65%\">\n",
    "<table border=\"1\">\n",
    "  <thead>\n",
    "    <tr>\n",
    "      <th>aantal_bestelde_pizzas</th>\n",
    "    </tr>\n",
    "  </thead>\n",
    "  <tbody>\n",
    "    <tr>\n",
    "      <td>9757</td>\n",
    "    </tr>\n",
    "  </tbody>\n",
    "</table>\n",
    "\n",
    "</td></tr></table>\n",
    "\n"
   ]
  },
  {
   "cell_type": "code",
   "execution_count": null,
   "id": "d6cee5c3",
   "metadata": {
    "vscode": {
     "languageId": "sql"
    }
   },
   "outputs": [],
   "source": []
  },
  {
   "cell_type": "markdown",
   "id": "7f27f572",
   "metadata": {},
   "source": [
    "<p>Bekijk <a href=\"https://rweeda.github.io/PythonIA/docs/IA_sql_oplossingen.html#opgave3178\" target=\"_blank\">hier</a> de voorbeelduitwerking.</p>\n",
    "<!-- ANTWOORD:\n",
    "<pre><code class=\"language-sql\">\n",
    "SELECT SUM(aantal) AS aantal_bestelde_pizzas\n",
    "FROM besteldePizza\n",
    "</code></pre>\n",
    "-->"
   ]
  }
 ],
 "metadata": {
  "language_info": {
   "name": "python"
  }
 },
 "nbformat": 4,
 "nbformat_minor": 5
}
