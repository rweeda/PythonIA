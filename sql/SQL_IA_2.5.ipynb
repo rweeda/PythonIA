{
 "cells": [
  {
   "cell_type": "markdown",
   "id": "3cd7f2f7",
   "metadata": {},
   "source": [
    "\n",
    "## 2.5: Commando's voor het ophalen van informatie\n",
    "\n",
    "De taal voor het ophalen van informatie bestaat uit slechts 6 commando’s\n",
    "waarmee je leert werken. De commando’s zijn:\n",
    "\n",
    "\n",
    "<p><img\n",
    "src=\"https://raw.githubusercontent.com/rweeda/PythonIA/main/sql/img/H1_commandos.png\"\n",
    "alt=\"Commando's voor het ophalen van informatie\" width=\"400\"></p>\n",
    "\n",
    "\n",
    "Je hoeft niet alle commando's te gebruiken, maar ze staan wel <b>altijd in\n",
    "deze volgorde</b>.\n"
   ]
  }
 ],
 "metadata": {
  "language_info": {
   "name": "python"
  }
 },
 "nbformat": 4,
 "nbformat_minor": 5
}
