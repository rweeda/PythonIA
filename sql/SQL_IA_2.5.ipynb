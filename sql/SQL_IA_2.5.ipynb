{
 "cells": [
  {
   "cell_type": "markdown",
   "id": "2136a5e4",
   "metadata": {},
   "source": [
    "## 2.5: Kolom in overzicht hernoemen met <code>AS</code>\n",
    "\n",
    "Met `AS` kan je een kolomnaam in de getoonde overzicht hernoemen. Dit doe je na de `SELECT`:\n",
    "\n",
    "``` SQL\n",
    "SELECT kolomnaam_in_tabel AS kolomnaam_in_overzicht\n",
    "FROM tabel;\n",
    "```\n",
    "\n",
    "\n",
    "<table width=\"100%\">\n",
    "  <tr>\n",
    " <tr><td style=\"text-align:left; vertical-align:top; font-size:1.25rem;\" width=\"35%\">\n",
    "Bijvoorbeeld, om de kolom <b>naam</b> te tonen als <b>pizzanaam</b>:\n",
    "\n",
    "```SQL\n",
    "SELECT naam AS pizzanaam\n",
    "FROM pizza;\n",
    "```\n",
    "  </td>\n",
    "  <td width=\"65%\">\n",
    "<table border=\"1\">\n",
    "  <thead>\n",
    "    <tr>\n",
    "      <th>pizzanaam</th>\n",
    "    </tr>\n",
    "  </thead>\n",
    "  <tbody>\n",
    "    <tr><td>Margherita</td></tr>\n",
    "    <tr><td>Napoletana</td></tr>\n",
    "    <tr><td>Prosciutto</td></tr>\n",
    "    <tr><td>Funghi</td></tr>\n",
    "    <tr><td>Salame</td></tr>\n",
    "  </tbody>\n",
    "</table>\n",
    "    </td>\n",
    "  </tr>\n",
    "</table>\n",
    "\n",
    "<p>\n",
    "N.B.: De kolomnaam in de database wordt niet aangepast. De kolomnaam wordt alleen in de getoond overzicht aangepast.</p>\n",
    "\n",
    "### Verwerkingsopdracht 2.5.1 Kolom hernoemen\n",
    "<table>\n",
    " <tr><td style=\"text-align:left; vertical-align:top; font-size:1.25rem;\" width=\"65%\">\n",
    "Toon een overzicht van alle namen van de bezorgers zoals het overzicht hiernaast. Noem het kolom <b>bezorgernaam</b>. De gegevens komen uit tabel <i>bezorger</i>. Tip: Gebruik <code>SELECT *</code> om te zien hoe de kolommen heten.\n",
    "</td><td width=35%>\n",
    "  <table border=\"1\">\n",
    "    <tr>\n",
    "      <th>bezorgernaam</th>\n",
    "    </tr>\n",
    "    <tr><td>Afhalen</td></tr>\n",
    "    <tr><td>Ageeth Mooy</td></tr>\n",
    "    <tr><td>Eric Henze</td></tr>\n",
    "    <tr><td>...</td></tr>\n",
    "    <tr><td>Herman Prent</td></tr>\n",
    "  </table>\n",
    "</td>\n",
    "</tr>\n",
    "</table>\n",
    "\n",
    "\n",
    "<p>Klik <a href=\"https://raw.githubusercontent.com/rweeda/PythonIA/main/sql/img/DaniloIA_ERD.png\" target=\"_blank\">hier</a> voor een overzicht van alle tabellen.</p>\n"
   ]
  },
  {
   "cell_type": "code",
   "execution_count": null,
   "id": "4b2997c5",
   "metadata": {
    "vscode": {
     "languageId": "sql"
    }
   },
   "outputs": [],
   "source": []
  }
 ],
 "metadata": {
  "language_info": {
   "name": "python"
  },
  "latex_config": {
   "mathjax_url": "https://cdn.jsdelivr.net/npm/mathjax@3/es5/tex-mml-chtml.js"
  }
 },
 "nbformat": 4,
 "nbformat_minor": 5
}
