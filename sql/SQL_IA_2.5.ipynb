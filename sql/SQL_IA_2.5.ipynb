{
 "cells": [
  {
   "cell_type": "markdown",
   "id": "af5b38ae",
   "metadata": {},
   "source": [
    "## 2.5: Voorwaarden met de WHERE\n",
    "\n",
    "<p>Met WHERE kun je beperken welke rijen getoond moet worden. Met WHERE kun je een voorwaarde aangeven, bijvoorbeeld: ’waarbij de informatie voldoet aan ...’</p>\n",
    "\n",
    "<p>Je geeft altijd eerst een SELECT op voor de gegevens die opgehaald moeten worden, dan met FROM de tabel waaruit de gegevens moeten komen, en met WHERE welke beperking er is.</p>\n",
    "\n",
    "\n",
    "Bijvoorbeeld, met de volgende query tonen we alle pizza's die precies 8 euro kosten:\n",
    "```SQL\n",
    "SELECT *\n",
    "FROM pizza\n",
    "WHERE basisprijs=8\n",
    "```\n",
    "\n",
    "| pizzacode | naam           | omschrijving                                                             | basisprijs |\n",
    "|-----------|----------------|----------------------------------------------------------------------------|------------|\n",
    "| 10        | Capricciosa    | Tomaat, kaas, ham, champignons, paprika, artisjokken en oregano          | 8.0        |\n",
    "| 11        | Primavera      | Tomaat, kaas, ham, salami en oregano                                     | 8.0        |\n",
    "| 12        | Venezia        | Tomaat, kaas, ham, champignons, ananas en oregano                        | 8.0        |\n",
    "| ...       | ...            | ...                                                                      | 8.0        |\n",
    "| 30        | Romana         | Tomaat, kaas, spek, uien, champignons, ei en oregano                     | 8.0        |\n",
    "\n"
   ]
  },
  {
   "cell_type": "markdown",
   "id": "64741062",
   "metadata": {},
   "source": [
    "\n",
    "\n",
    "<p>Bijvoorbeeld, met de volgende query tonen we alle pizza's die precies 8 euro kosten:</p>\n",
    "\n",
    "```SQL\n",
    "SELECT *\n",
    "FROM pizza\n",
    "WHERE basisprijs=8\n",
    "```\n",
    "\n",
    "\n",
    "| pizzacode | naam           | omschrijving                                                             | basisprijs |\n",
    "|-----------|----------------|----------------------------------------------------------------------------|------------|\n",
    "| 10        | Capricciosa    | Tomaat, kaas, ham, champignons, paprika, artisjokken en oregano          | 8.0        |\n",
    "| 11        | Primavera      | Tomaat, kaas, ham, salami en oregano                                     | 8.0        |\n",
    "| 12        | Venezia        | Tomaat, kaas, ham, champignons, ananas en oregano                        | 8.0        |\n",
    "| ...       | ...            | ...                                                                      | 8.0        |\n",
    "| 30        | Romana         | Tomaat, kaas, spek, uien, champignons, ei en oregano                     | 8.0        |\n",
    "\n",
    "\n",
    "\n",
    "\n",
    "### Opdracht 2.4: Omschrijving van een Inferno pizza\n",
    "Schrijf een query om de omschrijving van de pizza 'Inferno' te tonen, zoals in het voorbeeld hieronder.\n",
    "\n",
    "| omschrijving |\n",
    "|--------------|\n",
    "| Tomaat, kaas, ham, spaanse peper, kappertjes, salami, olijven en oregano  |\n",
    "\n"
   ]
  },
  {
   "cell_type": "code",
   "execution_count": null,
   "id": "7614f422",
   "metadata": {
    "vscode": {
     "languageId": "sql"
    }
   },
   "outputs": [],
   "source": []
  },
  {
   "cell_type": "markdown",
   "id": "11aff9f2",
   "metadata": {},
   "source": [
    "<p>Bekijk <a href=\"https://rweeda.github.io/PythonIA/docs/IA_sql_oplossingen.html#opgave24\" target=\"_blank\">hier</a> de voorbeelduitwerking.</p>\n",
    "\n",
    "<!-- ANTWOORD:\n",
    "<pre><code class=\"language-sql\">\n",
    "ANTWOORD:\n",
    "SELECT omschrijving\n",
    "FROM pizza\n",
    "WHERE naam='Inferno'\n",
    "</code></pre>\n",
    "-->\n"
   ]
  }
 ],
 "metadata": {
  "language_info": {
   "name": "python"
  }
 },
 "nbformat": 4,
 "nbformat_minor": 5
}
