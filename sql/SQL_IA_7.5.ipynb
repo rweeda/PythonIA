{
 "cells": [
  {
   "cell_type": "markdown",
   "id": "bafd11b8",
   "metadata": {},
   "source": [
    "## 7.5: Een tabel verwijderen\n",
    "\n",
    "<p>Met DROP TABLE verwijder je een hele tabel uit de database. Alle gegevens in de tabel gaan dan verloren.</p>\n",
    "\n",
    "<pre><code class=\"language-sql\">\n",
    "DROP TABLE tabelnaam;\n",
    "</code></pre>\n",
    "\n",
    "<ul>\n",
    "  <li>Achter DROP TABLE geef je de naam van de tabel die je wilt verwijderen.</li>\n",
    "  <li>Let op: Deze actie kan niet ongedaan worden gemaakt!</li>\n",
    "  <li>Wil je de oorspronkelijke database herstellen? Ververs dan de webpagina. Sla wel eerst je werk op via 'Bestand' en vervolgens 'Bewaar notebook als...'.</li>\n",
    "</ul>\n",
    "\n",
    "<p>Voorbeeld: deze query verwijdert de tabel <i>kortingsbon</i>:</p>\n",
    "\n",
    "<pre><code class=\"language-sql\">\n",
    "DROP TABLE kortingsbon;\n",
    "</code></pre>"
   ]
  },
  {
   "cell_type": "markdown",
   "id": "9b79c266",
   "metadata": {},
   "source": [
    "\n",
    "### Verwerkingsopdracht 7.5.1 Verwijder tabel bodem\n",
    "\n",
    "<ol type=\"a\">\n",
    "  <li>Verwijder de tabel <i>bodem</i>.</li>\n",
    "  <li>Probeer daarna met <code>SELECT *</code> de gegevens uit de tabel op te halen. Welke foutmelding krijg je?</li>\n",
    "</ol>\n",
    "\n"
   ]
  },
  {
   "cell_type": "code",
   "execution_count": null,
   "id": "23145cb0",
   "metadata": {
    "vscode": {
     "languageId": "sql"
    }
   },
   "outputs": [],
   "source": []
  },
  {
   "cell_type": "code",
   "execution_count": null,
   "id": "7f100844",
   "metadata": {
    "vscode": {
     "languageId": "sql"
    }
   },
   "outputs": [],
   "source": []
  },
  {
   "cell_type": "markdown",
   "id": "f3054866",
   "metadata": {},
   "source": [
    "<p>Bekijk de <a href=\"https://rweeda.github.io/PythonIA/docs/IA_sql_oplossingen.html#opgave761\" target=\"_blank\">voorbeelduitwerking</a>.</p>\n",
    "\n",
    "<!-- ANTWOORD\n",
    "<ol type=\"a\">\n",
    "<li>\n",
    "<pre><code class=\"language-sql\">\n",
    "-- verwijderen:\n",
    "DROP TABLE bodem;\n",
    "</code></pre>\n",
    "<li>\n",
    "-- check:\n",
    "<pre><code class=\"language-sql\">\n",
    "SELECT *\n",
    "FROM bodem;-- ophalen lukt niet omdat de tabel in de vorige stap verwijderd is.\n",
    "</code></pre>\n",
    "</ol>\n",
    "-->"
   ]
  }
 ],
 "metadata": {
  "language_info": {
   "name": "python"
  }
 },
 "nbformat": 4,
 "nbformat_minor": 5
}
