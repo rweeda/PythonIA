{
 "cells": [
  {
   "cell_type": "markdown",
   "id": "2b21ad67",
   "metadata": {},
   "source": [
    "\n",
    "## 3: GROUP BY en HAVING\n",
    "\n",
    "<p>\n",
    "Met <code>HAVING</code> kun je de resultaten <i>na</i> het groeperen filteren. Hiermee kun je voorwaarden stellen aan groepen — iets wat niet met <code>WHERE</code> kan, want <code>WHERE</code> werkt vóór het groeperen. In <code>HAVING</code> kun je gebruik maken van groepsfuncties zoals <code>COUNT()</code>, <code>AVG()</code>, <code>SUM()</code>, <code>MAX()</code> en <code>MIN()</code>.\n",
    "</p>\n",
    "\n",
    "\n",
    "<table width=\"100%\"><tr><td style=\"text-align:left; vertical-align:top; font-size:1.25rem;\" width=\"65%\">\n",
    "\n",
    "<h3>Voorbeeld</h3>\n",
    "<p>De volgende query toont alleen bodems die meer dan één keer zijn besteld. <code>HAVING</code> filtert op het aantal per groep:</p>\n",
    "\n",
    "<pre><code>SELECT bodemcode, COUNT(*) AS aantal_besteld_per_bodem\n",
    "FROM besteldepizza\n",
    "GROUP BY bodemcode\n",
    "HAVING COUNT(*) > 1;\n",
    "</code></pre>\n",
    "\n",
    "</td><td width=\"35%\">\n",
    "\n",
    "<table border=\"1\">\n",
    "  <thead>\n",
    "    <tr>\n",
    "      <th>bodemcode</th>\n",
    "      <th>aantal_besteld_per_bodem</th>\n",
    "    </tr>\n",
    "  </thead>\n",
    "  <tbody>\n",
    "    <tr><td>1</td><td>2788</td></tr>\n",
    "    <tr><td>2</td><td>2905</td></tr>\n",
    "    <tr><td>3</td><td>140</td></tr>\n",
    "  </tbody>\n",
    "</table>\n",
    "\n",
    "</td></tr></table>\n",
    "\n",
    "\n",
    "\n",
    "\n",
    "\n"
   ]
  },
  {
   "cell_type": "markdown",
   "id": "4770f950",
   "metadata": {},
   "source": [
    "### Verwerkingsopdracht 7.3.1 Bestelde bodems\n",
    "\n",
    "<table width=\"100%\"><tr><td style=\"text-align:left; vertical-align:top; font-size:1.25rem;\" width=\"65%\">\n",
    "Toon alleen bodems die meer dan één keer zijn besteld.<br>\n",
    "<strong>Tip:</strong> Gebruik <code>HAVING</code> om te filteren op het aantal per groep.\n",
    "</td><td width=\"35%\">\n",
    "\n",
    "<table border=\"1\">\n",
    "  <thead>\n",
    "    <tr>\n",
    "      <th>bodemcode</th>\n",
    "      <th>aantal_besteld_per_bodem</th>\n",
    "    </tr>\n",
    "  </thead>\n",
    "  <tbody>\n",
    "    <tr><td>1</td><td>2788</td></tr>\n",
    "    <tr><td>2</td><td>2905</td></tr>\n",
    "    <tr><td>3</td><td>140</td></tr>\n",
    "  </tbody>\n",
    "</table>\n",
    "\n",
    "</td></tr></table>"
   ]
  },
  {
   "cell_type": "code",
   "execution_count": null,
   "id": "9f691e96",
   "metadata": {
    "vscode": {
     "languageId": "sql"
    }
   },
   "outputs": [],
   "source": []
  },
  {
   "cell_type": "markdown",
   "id": "788a6609",
   "metadata": {},
   "source": [
    "<p>Bekijk <a\n",
    "href=\"https://rweeda.github.io/PythonIA/docs/IA_sql_oplossingen.html#opgave631\"\n",
    "target=\"_blank\">hier</a> de voorbeelduitwerking.</p>\n",
    " <!--\n",
    "<pre><code class=\"language-sql\">\n",
    "SELECT bodemcode, COUNT(*) as aantal_besteld_per_bodem\n",
    "FROM besteldepizza\n",
    "GROUP BY bodemcode\n",
    "HAVING COUNT(*) > 1;\n",
    "</code></pre>\n",
    "-->\n"
   ]
  },
  {
   "cell_type": "markdown",
   "id": "be49e9b3",
   "metadata": {},
   "source": [
    "\n",
    "### Verwerkingsopdracht 7.3.2 Ervaren bezorgers\n",
    "\n",
    "<table width=\"100%\"><tr><td style=\"text-align:left; vertical-align:top; font-size:1.25rem;\" width=\"65%\">\n",
    "De manager wil weten welke bezorgers veel ervaring hebben. Een bezorger geldt als \"ervaren\" als hij of zij meer dan 150 bestellingen heeft bezorgd. Toon het overzicht zoals hiernaast.\n",
    "</td><td width=\"35%\">\n",
    "\n",
    "<table border=\"1\">\n",
    "  <thead>\n",
    "    <tr><th>bezorgernummer</th></tr>\n",
    "  </thead>\n",
    "  <tbody>\n",
    "    <tr><td>0</td></tr>\n",
    "    <tr><td>2</td></tr>\n",
    "    <tr><td>3</td></tr>\n",
    "    <tr><td>4</td></tr>\n",
    "    <tr><td>5</td></tr>\n",
    "    <tr><td>6</td></tr>\n",
    "    <tr><td>7</td></tr>\n",
    "    <tr><td>8</td></tr>\n",
    "  </tbody>\n",
    "</table>\n",
    "\n",
    "</td></tr></table>\n",
    "\n"
   ]
  },
  {
   "cell_type": "code",
   "execution_count": null,
   "id": "96ea7b88",
   "metadata": {
    "vscode": {
     "languageId": "sql"
    }
   },
   "outputs": [],
   "source": []
  },
  {
   "cell_type": "markdown",
   "id": "3571effe",
   "metadata": {},
   "source": [
    "\n",
    "<p>Bekijk <a\n",
    "href=\"https://rweeda.github.io/PythonIA/docs/IA_sql_oplossingen.html#opgave631\"\n",
    "target=\"_blank\">hier</a> de voorbeelduitwerking.</p>\n",
    " <!--\n",
    "<pre><code class=\"language-sql\">\n",
    "SELECT bodemcode, COUNT(*) as aantal_besteld_per_bodem\n",
    "FROM besteldepizza\n",
    "GROUP BY bodemcode\n",
    "HAVING COUNT(*) > 1;\n",
    "</code></pre>\n",
    "-->\n",
    "\n"
   ]
  },
  {
   "cell_type": "markdown",
   "id": "18143845",
   "metadata": {},
   "source": [
    "### Verwerkingsopdracht 7.3.3 Bodems met meer dan 2000 bestellingen\n",
    "\n",
    "<table width=\"100%\"><tr><td style=\"text-align:left; vertical-align:top; font-size:1.25rem;\" width=\"65%\">\n",
    "\n",
    "<p>Geef een overzicht van de bodems met meer dan 2000 bestellingen, zoals in het overzicht hiernaast.<br>\n",
    "<strong>Tip:</strong> tel het aantal bestellingen per bodem en toon alleen de bodems die meer dan 2000 keer zijn besteld.</p>\n",
    "\n",
    "</td><td width=\"35%\">\n",
    "\n",
    "<table border=\"1\">\n",
    "  <thead>\n",
    "    <tr>\n",
    "      <th>bodemcode</th>\n",
    "      <th>aantal_bestellingen</th>\n",
    "    </tr>\n",
    "  </thead>\n",
    "  <tbody>\n",
    "    <tr><td>1</td><td>2788</td></tr>\n",
    "    <tr><td>2</td><td>2905</td></tr>\n",
    "  </tbody>\n",
    "</table>\n",
    "\n",
    "</td></tr></table>\n",
    "\n"
   ]
  },
  {
   "cell_type": "code",
   "execution_count": null,
   "id": "9ad846e7",
   "metadata": {
    "vscode": {
     "languageId": "sql"
    }
   },
   "outputs": [],
   "source": []
  },
  {
   "cell_type": "markdown",
   "id": "161bf3ae",
   "metadata": {},
   "source": [
    "<p>Bekijk <a\n",
    "href=\"https://rweeda.github.io/PythonIA/docs/IA_sql_oplossingen.html#opgave633\"\n",
    "target=\"_blank\">hier</a> de voorbeelduitwerking.</p>\n",
    " <!--\n",
    "<pre><code class=\"language-sql\">\n",
    "SELECT bodemcode, COUNT(*) AS aantal_bestellingen\n",
    "FROM besteldePizza\n",
    "GROUP BY bodemcode\n",
    "HAVING COUNT(*) > 2000;\n",
    "</code></pre>\n",
    "-->\n",
    "\n"
   ]
  }
 ],
 "metadata": {
  "language_info": {
   "name": "python"
  }
 },
 "nbformat": 4,
 "nbformat_minor": 5
}
