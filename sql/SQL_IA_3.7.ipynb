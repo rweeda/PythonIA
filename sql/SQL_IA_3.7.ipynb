{
 "cells": [
  {
   "cell_type": "markdown",
   "id": "b4e34438",
   "metadata": {},
   "source": [
    "\n",
    "## 3.7: Meerdere logische operatoren combineren\n",
    "\n",
    "<p>Je kunt meerdere operatoren combineren. Als je verschillende AND, OR en NOT combineert moet je gebruik maken van haakjes voor de gewenste uitkomst.</p>\n",
    "\n",
    "\n",
    "<table width=\"100%\"><tr><td style=\"text-align:left; vertical-align:top; font-size:1.25rem;\" width=\"35%\">\n",
    "Bijvoorbeeld, met de volgende query tonen we de pizza's die tussen de €8,50 <b>en</b> €10,- kosten, <b>of</b> pizza's die geen <b>salami</b> bevatten:\n",
    "\n",
    "```SQL\n",
    "SELECT naam, omschrijving, basisprijs\n",
    "FROM pizza\n",
    "WHERE (basisprijs >= 8.50 AND basisprijs <= 10) OR NOT omschrijving LIKE '%salami%';\n",
    "```\n",
    "</td><td width=\"65%\">\n",
    "<table border=\"1\">\n",
    "  <thead>\n",
    "    <tr>\n",
    "      <th>naam</th>\n",
    "      <th>omschrijving</th>\n",
    "      <th>basisprijs</th>\n",
    "    </tr>\n",
    "  </thead>\n",
    "  <tbody>\n",
    "    <tr><td>Margherita</td><td>Tomaat,kaas en oregano</td><td>6.0</td></tr>\n",
    "    <tr><td>Napoletana</td><td>Tomaat, kaas, ansjovis, olijven, kappertjes en oregano</td><td>7.5</td></tr>\n",
    "    <tr><td>Prosciutto</td><td>Tomaat, kaas, ham en oregano</td><td>7.5</td></tr>\n",
    "    <tr><td>Funghi</td><td>Tomaat, kaas, champignons en oregano</td><td>7.5</td></tr>\n",
    "    <tr><td>...</td><td>...</td><td>...</td></tr>\n",
    "  </tbody>\n",
    "</table>\n",
    "\n",
    "</td></tr></table>\n",
    "\n",
    "\n",
    "### Verwerkingsopdracht opdracht 3.7.1 Alle pizza's zonder paprika en zonder ui\n",
    "\n",
    "\n",
    "<table width=\"100%\"><tr><td style=\"text-align:left; vertical-align:top; font-size:1.25rem;\" width=\"35%\">\n",
    "<p>\n",
    "Luna wil een overzicht van alle pizza's waar <b>geen</b> paprika op zit, maar ook geen <b>ui</b>. \n",
    "Ze schrijft daarvoor de volgende query, maar er zitten een paar fouten in. Kan jij het aanpassen zodat de juiste overzicht gegeven wordt, zoals hiernaast?</p>\n",
    "\n",
    "\n",
    "</td><td width=\"65%\">\n",
    "<table border=\"1\">\n",
    "  <thead>\n",
    "    <tr>\n",
    "      <th>naam</th>\n",
    "      <th>omschrijving</th>\n",
    "    </tr>\n",
    "  </thead>\n",
    "  <tbody>\n",
    "    <tr><td>Margherita</td><td>Tomaat, kaas en oregano</td></tr>\n",
    "    <tr><td>Napoletana</td><td>Tomaat, kaas, ansjovis, olijven, kappertjes en oregano</td></tr>\n",
    "    <tr><td>Prosciutto</td><td>Tomaat, kaas, ham en oregano</td></tr>\n",
    "    <tr><td>Funghi</td><td>Tomaat, kaas, champignons en oregano</td></tr>\n",
    "    <tr><td>Salame</td><td>Tomaat, kaas, salami en oregano</td></tr>\n",
    "  </tbody>\n",
    "</table>\n",
    "\n",
    " \n",
    "</td></tr></table>\n",
    "<p>Klik <a href=\"https://raw.githubusercontent.com/rweeda/PythonIA/main/sql/img/DaniloIA_ERD.png\" target=\"_blank\">hier</a> voor een overzicht van alle tabellen.</p>\n"
   ]
  },
  {
   "cell_type": "code",
   "execution_count": null,
   "id": "4b2997c5",
   "metadata": {
    "vscode": {
     "languageId": "sql"
    }
   },
   "outputs": [],
   "source": [
    "SELECT naam, omschrijving\n",
    "FROM pizza\n",
    "WHERE omschrijving NOT LIKE 'paprika' OR 'uien';"
   ]
  },
  {
   "cell_type": "markdown",
   "id": "c7fe6d44",
   "metadata": {},
   "source": [
    "### Verwerkingsopdracht 3.7.2 Toon pizza's die voldoen aan meerdere voorwaarden\n",
    "<table width=\"100%\"><tr><td style=\"text-align:left; vertical-align:top; font-size:1.25rem;\" width=\"65%\">\n",
    "Toon alle pizza's die minder dan €7,50 kosten, <b>en</b> met de letter 'M' beginnen <b>of</b> letter 'A' eindigen. \n",
    "\n",
    "</td><td width=\"35%\">\n",
    "    <table border=\"1\">\n",
    "  <thead>\n",
    "    <tr>\n",
    "      <th>pizzacode</th>\n",
    "      <th>naam</th>\n",
    "      <th>omschrijving</th>\n",
    "      <th>basisprijs</th>\n",
    "    </tr>\n",
    "  </thead>\n",
    "  <tbody>\n",
    "    <tr>\n",
    "      <td>1</td>\n",
    "      <td>Margherita</td>\n",
    "      <td>Tomaat,kaas en oregano</td>\n",
    "      <td>6</td>\n",
    "    </tr>\n",
    "    <tr>\n",
    "      <td>6</td>\n",
    "      <td>Cippola</td>\n",
    "      <td>Tomaat, kaas, uien en oregano</td>\n",
    "      <td>6.5</td>\n",
    "    </tr>\n",
    "  </tbody>\n",
    "</table>\n",
    "\n",
    "</td></tr></table>\n",
    "\n",
    "<p>Klik <a href=\"https://raw.githubusercontent.com/rweeda/PythonIA/main/sql/img/DaniloIA_ERD.png\" target=\"_blank\">hier</a> voor een overzicht van alle tabellen.</p>"
   ]
  },
  {
   "cell_type": "code",
   "execution_count": null,
   "id": "177010a4",
   "metadata": {
    "vscode": {
     "languageId": "sql"
    }
   },
   "outputs": [],
   "source": []
  }
 ],
 "metadata": {
  "language_info": {
   "name": "python"
  }
 },
 "nbformat": 4,
 "nbformat_minor": 5
}
