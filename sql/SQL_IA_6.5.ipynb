{
 "cells": [
  {
   "cell_type": "markdown",
   "id": "10ff3f20",
   "metadata": {},
   "source": [
    "\n",
    "## Samenvatting\n",
    "\n",
    "<ul>\n",
    "<li><code>GROUP BY</code> groepeert rijen met dezelfde waarden in een kolom, zodat je groepsfuncties zoals <code>SUM()</code>, <code>COUNT()</code> of <code>MAX()</code> kunt toepassen.</li>\n",
    "<li><code>HAVING</code> filtert de gegroepeerde resultaten — dus ná een <code>GROUP BY</code>.</li>\n",
    "<li><code>WHERE</code> filtert rijen vóórdat ze worden gegroepeerd met <code>GROUP BY</code>.</li>\n",
    "<li>Hieronder zie je de juiste volgorde waarin SQL-commando’s moeten staan:</li>\n",
    "</ul>\n",
    "\n",
    "<p>\n",
    "<img src=\"https://raw.githubusercontent.com/rweeda/PythonIA/main/sql/img/H1_commandos.png\"\n",
    "alt=\"Commando's voor het ophalen van informatie\" width=\"500\">\n",
    "</p>\n"
   ]
  }
 ],
 "metadata": {
  "language_info": {
   "name": "python"
  }
 },
 "nbformat": 4,
 "nbformat_minor": 5
}
