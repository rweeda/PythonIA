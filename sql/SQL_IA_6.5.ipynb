{
 "cells": [
  {
   "cell_type": "markdown",
   "id": "bafd11b8",
   "metadata": {},
   "source": [
    "## 6.5: Een tabel verwijderen\n",
    "\n",
    "<p>Met <code>DROP TABLE</code> verwijder je een hele tabel uit de database. Alle gegevens in de tabel gaan dan verloren.</p> \n",
    "\n",
    "<pre><code class=\"language-sql\">DROP TABLE tabelnaam; </code></pre> \n",
    "\n",
    "Toelichting:\n",
    "<ul>\n",
    "<li>Achter <code>DROP TABLE</code> geef je de naam van de tabel op die je wilt verwijderen.</li>\n",
    "<li><strong>Let op:</strong> deze actie kan niet ongedaan worden gemaakt!</li>\n",
    "<li>Wil je de oorspronkelijke database herstellen? Ververs dan de webpagina. Sla wel eerst je werk op via ‘Bestand’ en vervolgens ‘Bewaar notebook als...’</li> \n",
    "</ul> \n",
    "\n",
    "\n",
    "<hr>\n",
    "<p><b>Voorbeeld</b>. Deze query verwijdert de tabel <i>kortingsbon</i>:</p> \n",
    "\n",
    "<pre><code class=\"language-sql\">DROP TABLE kortingsbon; </code></pre>"
   ]
  },
  {
   "cell_type": "markdown",
   "id": "9b79c266",
   "metadata": {},
   "source": [
    "\n",
    "### Verwerkingsopdracht 6.5.1 Verwijder tabel bodem\n",
    "\n",
    "<ol type=\"a\">\n",
    "  <li>Verwijder de tabel <i>bodem</i>.</li>\n",
    "  <li>Probeer daarna met <code>SELECT *</code> de gegevens uit de tabel op te halen. Welke foutmelding krijg je?</li>\n",
    "</ol>\n",
    "\n"
   ]
  },
  {
   "cell_type": "code",
   "execution_count": null,
   "id": "23145cb0",
   "metadata": {
    "vscode": {
     "languageId": "sql"
    }
   },
   "outputs": [],
   "source": [
    "-- a) verwijder de tabel 'bodem'"
   ]
  },
  {
   "cell_type": "code",
   "execution_count": null,
   "id": "7f100844",
   "metadata": {
    "vscode": {
     "languageId": "sql"
    }
   },
   "outputs": [],
   "source": [
    "-- b) probeer de gegevens uit de tabel te halen \n",
    "SELECT *\n",
    "FROM bodem;"
   ]
  }
 ],
 "metadata": {
  "language_info": {
   "name": "python"
  },
  "latex_config": {
   "mathjax_url": "https://cdn.jsdelivr.net/npm/mathjax@3/es5/tex-mml-chtml.js"
  }
 },
 "nbformat": 4,
 "nbformat_minor": 5
}
