{
 "cells": [
  {
   "cell_type": "markdown",
   "id": "982d93c5",
   "metadata": {},
   "source": [
    "## 4.6: COUNT(DISTINCT kolomnaam) – Aantal unieke waarden tellen\n",
    "\n",
    "<p>Wil je alleen <b>unieke waarden tellen</b>? Dan gebruik je <code>COUNT(DISTINCT kolomnaam)</code>. Deze gebruik je na de SELECT.</p>\n",
    "\n",
    "<table width=\"100%\"><tr><td style=\"text-align:left; vertical-align:top; font-size:1.25rem;\" width=\"65%\">\n",
    "Bijvoorbeeld, voor een overzicht van het aantal verschillende klanten die een bestelling hebben geplaatst, tel je het aantal unieke waarden in de kolom <b>klantnummer</b>:\n",
    "\n",
    "```SQL\n",
    "SELECT COUNT(DISTINCT klantnummer)\n",
    "FROM bestelling;\n",
    "```\n",
    "</td><td width=\"35%\">\n",
    "\n",
    "<table border=\"1\">\n",
    "  <thead>\n",
    "    <tr>\n",
    "      <th>COUNT(DISTINCT klantnummer)</th>\n",
    "    </tr>\n",
    "  </thead>\n",
    "  <tbody>\n",
    "    <tr>\n",
    "      <td>122</td>\n",
    "    </tr>\n",
    "  </tbody>\n",
    "</table>\n",
    "\n",
    "</td></tr></table>\n",
    "\n",
    "\n",
    "\n",
    "\n",
    "### Verwerkingsopdracht 4.6.1 Unieke pizzacode's tellen\n",
    "\n",
    "<table width=\"100%\"><tr><td style=\"text-align:left; vertical-align:top; font-size:1.25rem;\" width=\"65%\">\n",
    "Hoeveel verschillende (unieke) <b>pizzacode</b>'s staan er in de tabel <i>besteldePizza</i>? Maak het overzicht zoals hiernaast.\n",
    "</td><td width=\"35%\">\n",
    "    <table border=\"1\">\n",
    "  <thead>\n",
    "    <tr>\n",
    "      <th>aantal_pizzas</th>\n",
    "    </tr>\n",
    "  </thead>\n",
    "  <tbody>\n",
    "    <tr>\n",
    "      <td>36</td>\n",
    "    </tr>\n",
    "  </tbody>\n",
    "</table>\n",
    "\n",
    "</td></tr></table>\n"
   ]
  },
  {
   "cell_type": "code",
   "execution_count": null,
   "id": "4b2997c5",
   "metadata": {
    "vscode": {
     "languageId": "sql"
    }
   },
   "outputs": [],
   "source": []
  },
  {
   "cell_type": "markdown",
   "id": "7ecb4844",
   "metadata": {},
   "source": [
    "\n",
    "<p>Bekijk <a\n",
    "href=\"https://rweeda.github.io/PythonIA/docs/IA_sql_oplossingen.html#opgave461\"\n",
    "target=\"_blank\">hier</a> de voorbeelduitwerking.</p>\n",
    "<!--\n",
    "<pre><code class=\"language-sql\">\n",
    "SELECT COUNT(DISTINCT pizzacode) AS aantal_pizzas\n",
    "FROM besteldePizza;\n",
    "</code></pre>\n",
    "-->"
   ]
  }
 ],
 "metadata": {
  "language_info": {
   "name": "python"
  }
 },
 "nbformat": 4,
 "nbformat_minor": 5
}
