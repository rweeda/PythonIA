{
 "cells": [
  {
   "cell_type": "markdown",
   "id": "94221070",
   "metadata": {},
   "source": [
    "\n",
    "## Afsluitende Opdrachten 2: SQL SELECT-FROM\n",
    "\n",
    "### Afsluitende Opdracht 2.12.1 Kolomnamen opzoeken \n",
    "\n",
    "Je wil weten welke kolomnamen er in de\n",
    "tabel <i>bestelling</i> zitten. Welke query helpt je hierbij?\n",
    "\n"
   ]
  },
  {
   "cell_type": "code",
   "execution_count": null,
   "id": "3c9b0ebc",
   "metadata": {
    "vscode": {
     "languageId": "sql"
    }
   },
   "outputs": [],
   "source": []
  },
  {
   "cell_type": "markdown",
   "id": "1b2b42ca",
   "metadata": {},
   "source": [
    "\n",
    "<p>Bekijk <a\n",
    "href=\"https://rweeda.github.io/PythonIA/docs/IA_sql_oplossingen.html#opgave2121\"\n",
    "target=\"_blank\">hier</a> de voorbeelduitwerking.</p>\n",
    "\n",
    "\n",
    "<!-- ANTWOORD: Met de volgende query krijg je een overzicht van de hele\n",
    "tabel, inclusief de kolomnamen: <pre><code class=\"language-sql\"> SELECT *\n",
    "FROM bestelling; </code></pre> -->\n",
    "\n",
    "\n",
    "\n"
   ]
  },
  {
   "cell_type": "markdown",
   "id": "10ac3f29",
   "metadata": {},
   "source": [
    "### Afsluitende Opdracht 2.12.2: Toon gegevens van een specifieke pizza\n",
    "\n",
    "Toon de omschrijving en de basisprijs van de pizza met de naam **Quattro Formaggi**.\n"
   ]
  },
  {
   "cell_type": "code",
   "execution_count": null,
   "id": "6a09e046",
   "metadata": {
    "vscode": {
     "languageId": "sql"
    }
   },
   "outputs": [],
   "source": []
  },
  {
   "cell_type": "markdown",
   "id": "8e79b9e3",
   "metadata": {},
   "source": [
    "<p>Bekijk <a\n",
    "href=\"https://rweeda.github.io/PythonIA/docs/IA_sql_oplossingen.html#opgave2122\"\n",
    "target=\"_blank\">hier</a> de voorbeelduitwerking.</p>\n",
    "\n",
    "\n",
    "<!--\n",
    "<pre><code class=\"language-sql\">\n",
    "SELECT omschrijving, basisprijs\n",
    "FROM pizza\n",
    "WHERE naam = 'Quattro Formaggi';\n",
    "</code></pre>\n",
    "-->\n",
    "\n",
    "\n"
   ]
  },
  {
   "cell_type": "markdown",
   "id": "ae8d3d84",
   "metadata": {},
   "source": [
    "### Afsluitende Opdracht 2.12.3: Klanten in een specifieke plaats\n",
    "Toon het **klantnummer**, **naam** en **plaats** van alle klanten die wonen in **Utrecht**. \n",
    "\n",
    "\n",
    "\n"
   ]
  },
  {
   "cell_type": "code",
   "execution_count": null,
   "id": "dccdb9cc",
   "metadata": {
    "vscode": {
     "languageId": "sql"
    }
   },
   "outputs": [],
   "source": []
  },
  {
   "cell_type": "markdown",
   "id": "e710c275",
   "metadata": {},
   "source": [
    "<!--\n",
    "<pre><code class=\"language-sql\">\n",
    "SELECT klantnummer, naam, plaats\n",
    "FROM klant\n",
    "WHERE plaats = 'Utrecht';\n",
    "</code></pre>\n",
    "-->\n",
    "\n",
    "<p>Bekijk <a\n",
    "href=\"https://rweeda.github.io/PythonIA/docs/IA_sql_oplossingen.html#opgave2123\"\n",
    "target=\"_blank\">hier</a> de voorbeelduitwerking.</p>\n",
    "\n",
    "\n",
    "\n"
   ]
  },
  {
   "cell_type": "markdown",
   "id": "9720252c",
   "metadata": {},
   "source": [
    "### Afsluitende Opdracht 2.12.4: Netjes schrijven  \n",
    "Onderstaande query werkt wel, maar is rommelig:\n",
    "\n",
    "\n",
    "<!--\n",
    "<pre><code class=\"language-sql\">\n",
    "select naam,basisprijs from pizza where basisprijs>9\n",
    "</code></pre>\n",
    "-->\n",
    "<ol type=\"alpha\">\n",
    "<li>Herschrijf de query netjes volgens de afspraken.\n",
    "<li>Voeg commentaar toe bij de `WHERE`.\n",
    "</ol>\n",
    "\n",
    "\n"
   ]
  },
  {
   "cell_type": "code",
   "execution_count": null,
   "id": "a4efa695",
   "metadata": {
    "vscode": {
     "languageId": "sql"
    }
   },
   "outputs": [],
   "source": [
    "select naam,basisprijs from pizza where basisprijs>9"
   ]
  },
  {
   "cell_type": "markdown",
   "id": "65d14804",
   "metadata": {},
   "source": [
    "\n",
    "<p>Bekijk <a\n",
    "href=\"https://rweeda.github.io/PythonIA/docs/IA_sql_oplossingen.html#opgave2124\"\n",
    "target=\"_blank\">hier</a> de voorbeelduitwerking.</p>\n",
    "\n",
    "\n",
    "<!--\n",
    "<pre><code class=\"language-sql\">\n",
    "SELECT naam, basisprijs\n",
    "FROM pizza\n",
    "WHERE basisprijs > 9; -- pizza's duurder dan 9 euro\n",
    "</code></pre>\n",
    "-->\n",
    "\n"
   ]
  },
  {
   "cell_type": "markdown",
   "id": "53cf88dd",
   "metadata": {},
   "source": [
    "### Afsluitende Opdracht 2.12.5 Debuggen van een fout  \n",
    "Onderstaande query geeft een foutmelding. Zoek de fout en verbeter de query.\n",
    "\n",
    "<!--\n",
    "<pre><code class=\"language-sql\">\n",
    "SELECT wachtwoord FROM bezorger WHERE naam = Ronald Marbus;\n",
    "</code></pre>\n",
    "-->\n"
   ]
  },
  {
   "cell_type": "code",
   "execution_count": null,
   "id": "2f4b7a9b",
   "metadata": {
    "vscode": {
     "languageId": "sql"
    }
   },
   "outputs": [],
   "source": [
    "SELECT wachtwoord FROM bezorger WHERE naam = Ronald Marbus;"
   ]
  },
  {
   "cell_type": "markdown",
   "id": "a9cb6099",
   "metadata": {},
   "source": [
    "<p>Bekijk <a\n",
    "href=\"https://rweeda.github.io/PythonIA/docs/IA_sql_oplossingen.html#opgave2125\"\n",
    "target=\"_blank\">hier</a> de voorbeelduitwerking.</p>\n",
    "\n",
    "<!--\n",
    "<pre><code class=\"language-sql\">\n",
    "SELECT wachtwoord\n",
    "FROM bezorger\n",
    "WHERE naam = 'Ronald Marbus';\n",
    "</code></pre>\n",
    "-->\n"
   ]
  },
  {
   "cell_type": "markdown",
   "id": "fd740f6f",
   "metadata": {},
   "source": [
    "\n",
    "### Afsluitende Opdracht 2.12.6 Debuggen en herschrijven van slordige query\n",
    "De volgende query werkt niet goed. Voer hem eerst uit en analyseer de foutmelding. Herschrijf daarna de query netjes én correct:\n",
    "\n",
    "<!--\n",
    "<pre><code class=\"language-sql\">\n",
    "SELECT naam basisprijs FROM pizza WHERE basisprijs<7\n",
    "</code></pre>\n",
    "-->\n",
    "\n",
    "<ol type=\"alpha\">\n",
    "<li>Wat is er fout?\n",
    "<li>Schrijf een correcte en goed opgemaakte versie met commentaar.\n",
    "</ol>\n"
   ]
  },
  {
   "cell_type": "code",
   "execution_count": null,
   "id": "3bb5be8c",
   "metadata": {
    "vscode": {
     "languageId": "sql"
    }
   },
   "outputs": [],
   "source": [
    "SELECT naam basisprijs FROM pizza WHERE basisprijs<7"
   ]
  },
  {
   "cell_type": "markdown",
   "id": "8e120f9b",
   "metadata": {},
   "source": [
    "<p>Bekijk <a\n",
    "href=\"https://rweeda.github.io/PythonIA/docs/IA_sql_oplossingen.html#opgave2126\"\n",
    "target=\"_blank\">hier</a> de voorbeelduitwerking.</p>\n",
    "\n",
    "<!--\n",
    "<pre><code class=\"language-sql\">\n",
    "-- Er ontbreekt een komma tussen de kolommen.\n",
    "-- Er ontbreekt een puntkomma aan het eind.\n",
    "SELECT naam, basisprijs\n",
    "FROM pizza\n",
    "WHERE basisprijs < 7;\n",
    "</code></pre>\n",
    "-->\n",
    "\n"
   ]
  },
  {
   "cell_type": "markdown",
   "id": "bf0974be",
   "metadata": {},
   "source": [
    "### Afsluitende Opdracht 2.12.7 Alle bezorgers bekijken  \n",
    "<ol type=\"alpha\">\n",
    "<li>Toon alle kolommen en gegevens uit de tabel <i>bezorger</i>.  \n",
    "<li>Welke kolomnamen zie je terug? Geef er drie en leg kort uit wat ze betekenen.\n",
    "</ol>\n",
    "\n"
   ]
  },
  {
   "cell_type": "code",
   "execution_count": null,
   "id": "cd143ae3",
   "metadata": {
    "vscode": {
     "languageId": "sql"
    }
   },
   "outputs": [],
   "source": []
  },
  {
   "cell_type": "markdown",
   "id": "e628106b",
   "metadata": {},
   "source": [
    "<p>Bekijk <a\n",
    "href=\"https://rweeda.github.io/PythonIA/docs/IA_sql_oplossingen.html#opgave2127\"\n",
    "target=\"_blank\">hier</a> de voorbeelduitwerking.</p>\n",
    "\n",
    "<!--\n",
    "<ol type=\"alpha\">\n",
    "<li><pre><code class=\"language-sql\">\n",
    "SELECT * FROM bezorger;\n",
    "</code></pre>\n",
    "<li>Mogelijke kolommen:\n",
    "<ul>\n",
    "<li>`bezorgernummer`: uniek nummer van elke bezorger  \n",
    "<li>`naam`: de naam van de bezorger  \n",
    "<li>`wachtwoord`: gebruikt voor inloggen in het systeem\n",
    "</ul>\n",
    "</ol>\n",
    "-->\n"
   ]
  }
 ],
 "metadata": {
  "language_info": {
   "name": "python"
  }
 },
 "nbformat": 4,
 "nbformat_minor": 5
}
