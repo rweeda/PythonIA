{
 "cells": [
  {
   "cell_type": "markdown",
   "id": "0bf2b7eb",
   "metadata": {},
   "source": [
    "## 3: Samenvatting\n",
    "\n",
    "<ul>\n",
    "<li>Met `WHERE` kan je voorwaarden stellen aan welke gegevens er opgehaald worden;\n",
    "<li>Nette code schrijf je met HOOFDLETTERS voor SQL-commando’s, elk commando op een nieuwe regel, afgesloten door een <code>;</code>;\n",
    "<li>Commentaar voeg je toe met <code>--</code>. Commentaar kun je gebruiken om delen van code tijdelijk weg te laten, bijvoorbeeld voor het opsporen van een fout (debuggen).\n",
    "<li>De zes basis-onderdelen van een SQL-query staan altijd op de volgorde zoals aangegeven in het tabel hieronder.\n",
    "</ul>\n",
    "\n",
    "| Commando | Doel                                    |\n",
    "|----------|-----------------------------------------|\n",
    "| SELECT   | Kies welke kolommen je wilt tonen       |\n",
    "| FROM     | Bepaal uit welke tabel je data haalt    |\n",
    "| WHERE    | (Optioneel) Stel voorwaarden aan de data|\n",
    "| GROUP BY | (Optioneel) Groeperen |\n",
    "| HAVING | (Optioneel) Voorwaarde op groep |\n",
    "| ORDER BY | (Optioneel) Sorteren |"
   ]
  }
 ],
 "metadata": {
  "language_info": {
   "name": "python"
  }
 },
 "nbformat": 4,
 "nbformat_minor": 5
}
