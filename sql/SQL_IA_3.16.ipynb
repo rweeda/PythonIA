{
 "cells": [
  {
   "cell_type": "markdown",
   "id": "b86e4b64",
   "metadata": {},
   "source": [
    "## 3.16: AVG() – Gemiddelde van een kolom\n",
    "\n",
    "`AVG(kolom)` geeft het **gemiddelde** van de waarden in een kolom.  \n",
    "\n",
    "\n",
    "<table width=\"100%\"><tr><td style=\"text-align:left; vertical-align:top; font-size:1.25rem;\" width=\"35%\">\n",
    "\n",
    "Bijvoorbeeld: de gemiddelde prijs van een pizza.\n",
    "\n",
    "\n",
    "```sql\n",
    "SELECT AVG(basisprijs) AS gemiddelde_pizza_prijs\n",
    "FROM pizza;\n",
    "```\n",
    "</td><td width=\"65%\">\n",
    "\n",
    "<table border=\"1\">\n",
    "  <thead>\n",
    "    <tr>\n",
    "      <th>gemiddelde_pizza_prijs</th>\n",
    "    </tr>\n",
    "  </thead>\n",
    "  <tbody>\n",
    "    <tr>\n",
    "      <td>8.15277777779</td>\n",
    "    </tr>\n",
    "  </tbody>\n",
    "</table>\n",
    "\n",
    "</td></tr></table>\n",
    "\n",
    "### Verwerkingsopdracht 3.16.1 Gemiddelde toeslag\n",
    "\n",
    "<table width=\"100%\"><tr><td style=\"text-align:left; vertical-align:top; font-size:1.25rem;\" width=\"35%\">\n",
    "Bereken de gemiddelde toeslag voor bodems in de tabel<i>bodem</i>.\n",
    "</td><td width=\"65%\">\n",
    "    <table border=\"1\">\n",
    "  <thead>\n",
    "    <tr>\n",
    "      <th>gemiddelde_bodem_toeslag</th>\n",
    "    </tr>\n",
    "  </thead>\n",
    "  <tbody>\n",
    "    <tr>\n",
    "      <td>0.25</td>\n",
    "    </tr>\n",
    "  </tbody>\n",
    "</table>\n",
    "\n",
    "</td></tr></table>\n",
    "\n",
    "\n"
   ]
  },
  {
   "cell_type": "code",
   "execution_count": null,
   "id": "4b2997c5",
   "metadata": {
    "vscode": {
     "languageId": "sql"
    }
   },
   "outputs": [],
   "source": []
  },
  {
   "cell_type": "markdown",
   "id": "3a0f8471",
   "metadata": {},
   "source": [
    "\n",
    "\n",
    "\n",
    "\n",
    "<p>Bekijk <a\n",
    "href=\"https://rweeda.github.io/PythonIA/docs/IA_sql_oplossingen.html#opgave231\"\n",
    "target=\"_blank\">hier</a> de voorbeelduitwerking.</p>\n",
    " <!-- ANTWOORD:\n",
    "<pre><code class=\"language-sql\"> \n",
    "SELECT AVG(plusprijs) AS gemiddelde_bodem_toeslag\n",
    "FROM bodem;\n",
    " </code></pre>\n"
   ]
  }
 ],
 "metadata": {
  "language_info": {
   "name": "python"
  }
 },
 "nbformat": 4,
 "nbformat_minor": 5
}
