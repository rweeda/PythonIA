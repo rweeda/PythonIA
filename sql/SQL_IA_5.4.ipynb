{
 "cells": [
  {
   "cell_type": "markdown",
   "id": "f487bff9",
   "metadata": {},
   "source": [
    "### 5.4: Samenvatting\n",
    "\n",
    "<ul>\n",
    "  <li>Relaties tussen tabellen zijn zichtbaar in een ERD-schema (Entity-Relationship Diagram).</li>\n",
    "  <li>Met een JOIN is het mogelijk om betekenisvolle combinaties van data uit verschillende tabellen te maken, zoals klantgegevens met bezorger, of pizza met formaat en bodem.</li>\n",
    "  <li>De kolommen waarop je koppelt, moeten in beide tabellen voorkomen en dezelfde soort waarden bevatten.</li>\n",
    "  <li>Met <code>tabel.kolom</code> geef je aan uit welke tabel een kolom komt.</li>\n",
    "  <li>Je kunt meerdere JOINs gebruiken om drie of meer tabellen aan elkaar te koppelen.</li>\n",
    "</ul>"
   ]
  }
 ],
 "metadata": {
  "language_info": {
   "name": "python"
  }
 },
 "nbformat": 4,
 "nbformat_minor": 5
}
