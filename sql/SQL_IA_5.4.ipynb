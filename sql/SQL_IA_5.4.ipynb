{
 "cells": [
  {
   "cell_type": "markdown",
   "id": "f487bff9",
   "metadata": {},
   "source": [
    "### 5.4: Samenvatting\n",
    "\n",
    "<ul>\n",
    "  <li>5.1: Relaties tussen tabellen zijn zichtbaar in een ERD-schema (Entity-Relationship Diagram). Daarbij kun je zien hoe tabellen gekoppeld zijn, dus welke kolommen in verschillende tabellen hetzelfde informatie bevatten. Voorbeeld: kolom <em>pizzacode</em> uit tabel <em>besteldepizza</em> en kolom <em>pizzacode</em> uit tabel <em>pizza</em>:<br>\n",
    "<img src=\"https://raw.githubusercontent.com/rweeda/PythonIA/main/sql/img/KoppelingTabellenBesteldepizzaPizza.png\" alt=\"Tabellen met zelfde kolommen\" width=\"500\">\n",
    "\n",
    "  \n",
    "  </li>\n",
    "  <li>5.2: Met een JOIN is het mogelijk om betekenisvolle combinaties van data uit verschillende tabellen te maken, zoals klantgegevens met bezorger, of pizza met formaat en bodem. Voorbeeld: toon de naam van elke bestelde pizza:\n",
    "  \n",
    "  ```SQL \n",
    "  SELECT besteldePizza.besteldepizzacode, pizza.naam\n",
    "  FROM besteldePizza\n",
    "  JOIN pizza ON besteldePizza.pizzacode = pizza.pizzacode;\n",
    "  ```\n",
    "</li>\n",
    "\n",
    "  <li>5.2: Met <code>tabel.kolom</code> geef je aan uit welke tabel een kolom komt.</li>\n",
    "  \n",
    "<li>5.3: Je kunt meerdere tabellen aan elkaar koppelen via meerdere <code>JOIN</code>s. Voorbeeld: toon de naam van de klant en de pizza die hij/zij bestelde:\n",
    "\n",
    "```sql\n",
    "SELECT klant.naam, pizza.naam\n",
    "FROM klant\n",
    "JOIN bestelling ON klant.klantnummer = bestelling.klantnummer\n",
    "JOIN besteldePizza ON bestelling.bestelcode = besteldePizza.bestelcode\n",
    "JOIN pizza ON besteldePizza.pizzacode = pizza.pizzacode;\n",
    "```\n",
    "</li>\n",
    "\n",
    "\n",
    "</ul>"
   ]
  }
 ],
 "metadata": {
  "language_info": {
   "name": "python"
  }
 },
 "nbformat": 4,
 "nbformat_minor": 5
}
