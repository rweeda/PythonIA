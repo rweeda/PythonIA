{
 "cells": [
  {
   "cell_type": "markdown",
   "id": "384571ac",
   "metadata": {},
   "source": [
    "## 3.9: Nette code \n",
    "\n",
    "<p>Net als andere programmeertalen, zijn er afspraken om\n",
    "nette en leesbare queries te schrijven.</p>\n",
    "\n",
    "\n",
    "\n",
    "<ol> \n",
    "<li>Schrijf de SQL-opdrachten altijd met HOOFDLETTERS. \n",
    "<li>Schrijf elke opdracht op een nieuwe regel;\n",
    "<li>Als je meerdere items achter een <code>SELECT</code> of <code>FROM</code> opdracht hebt staan dan moet je deze scheiden met een komma;\n",
    "<li>Gebruik spaties om de leesbaarheid tussen items te vergroten;\n",
    "<li>Schrijf met <code>--</code> commentaar in je query om uit te leggen wat je doet (vooral bij WHERE en GROUP BY);\n",
    "<li>Sluit een query af met een puntkomma <code>;</code>.\n",
    "</ol>\n",
    "\n",
    "Hieronder een voorbeeld van nette code: \n",
    "\n",
    "```SQL\n",
    "SELECT naam, basisprijs \n",
    "FROM pizza -- Alleen pizza's bekijken die goedkoper zijn dan 10 euro -- EN duurder dan 8 euro 50 \n",
    "WHERE basisprijs <= 10 AND basisprijs >= 8.50;\n",
    "```\n",
    "\n",
    "### Opdracht 3.9.1 Query netjes opschrijven \n",
    "\n",
    "De query hieronder is niet zo netjes opgeschreven.\n",
    "<ol style=\"list-style-type: lower-alpha\"> \n",
    "<li>Voer de\n",
    "onderstaande query uit, dan zul je zien dat de query het gewoon doet. Bekijk\n",
    "de uitkomst. \n",
    "<li>Pas deze query aan zodat hij voldoet aan alle afspraken over nette code zoals hierboven aangegeven.\n",
    "<li>Voeg bij elke regel commentaar toe om aan te geven voor\n",
    "welke afspraak je het hebt aangepast. \n",
    "</ol>\n",
    "\n",
    "\n"
   ]
  },
  {
   "cell_type": "code",
   "execution_count": null,
   "id": "d70e7e84",
   "metadata": {
    "vscode": {
     "languageId": "sql"
    }
   },
   "outputs": [],
   "source": [
    "select naam,basisprijs From pizza wHERe basisprijs<8\n",
    "\n",
    "\n"
   ]
  }
 ],
 "metadata": {
  "language_info": {
   "name": "python"
  },
  "latex_config": {
   "mathjax_url": "https://cdn.jsdelivr.net/npm/mathjax@3/es5/tex-mml-chtml.js"
  }
 },
 "nbformat": 4,
 "nbformat_minor": 5
}

