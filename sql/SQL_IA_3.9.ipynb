{
 "cells": [
  {
   "cell_type": "markdown",
   "id": "b4e34438",
   "metadata": {},
   "source": [
    "\n",
    "## 3.9: Meerdere logische operatoren combineren\n",
    "Je kunt meerdere operatoren combineren. Als je verschillende AND, OR en NOT combineert moet je gebruik maken van haakjes voor de gewenste uitkomst.\n",
    "\n",
    "\n",
    "<table width=\"100%\"><tr><td style=\"text-align:left; vertical-align:top; font-size:1.25rem;\" width=\"35%\">\n",
    "Bijvoorbeeld, met de volgende query tonen we de pizza's die tussen de €8,50 <b>en</b> €10,- kosten, <b>of</b> pizza's die geen <b>salami</b> bevatten:\n",
    "```SQL\n",
    "SELECT naam, omschrijving, basisprijs\n",
    "FROM pizza\n",
    "WHERE (basisprijs>=8.50 AND basisprijs<=10) OR NOT omschrijving LIKE '%salami%';\n",
    "```\n",
    "</td><td width=\"65%\">\n",
    "<table border=\"1\">\n",
    "  <thead>\n",
    "    <tr>\n",
    "      <th>naam</th>\n",
    "      <th>omschrijving</th>\n",
    "      <th>basisprijs</th>\n",
    "    </tr>\n",
    "  </thead>\n",
    "  <tbody>\n",
    "    <tr><td>Margherita</td><td>Tomaat,kaas en oregano</td><td>6.0</td></tr>\n",
    "    <tr><td>Napoletana</td><td>Tomaat, kaas, ansjovis, olijven, kappertjes en oregano</td><td>7.5</td></tr>\n",
    "    <tr><td>Prosciutto</td><td>Tomaat, kaas, ham en oregano</td><td>7.5</td></tr>\n",
    "    <tr><td>Funghi</td><td>Tomaat, kaas, champignons en oregano</td><td>7.5</td></tr>\n",
    "    <tr><td>...</td><td>...</td><td>...</td></tr>\n",
    "  </tbody>\n",
    "</table>\n",
    "\n",
    "</td></tr></table>\n",
    "\n",
    "\n",
    "### Verwerkingsopdracht opdracht 3.9.1 Alle pizza's zonder paprika en zonder ui\n",
    "\n",
    "\n",
    "<table width=\"100%\"><tr><td style=\"text-align:left; vertical-align:top; font-size:1.25rem;\" width=\"35%\">\n",
    "\n",
    "Luna wil een overzicht van alle pizza's waar <b>geen</b> paprika op zit, maar ook geen <b>ui</b>. \n",
    "Ze schrijft daarvoor de volgende query, maar er zitten een paar fouten in. Kan jij het aanpassen zodat de juiste overzicht gegeven wordt, zoals hiernaast?<b>\n",
    "\n",
    "\n",
    "\n",
    "Tip: Gebruik eventueel commentaar '--' om een deel van je code te verbergen zodat je kunt kijken welke delen wel en niet goed werken.\n",
    "</td><td width=\"65%\">\n",
    "   | naam        | omschrijving                                                       |\n",
    "|-------------|---------------------------------------------------------------------|\n",
    "| Margherita  | Tomaat, kaas en oregano                                            |\n",
    "| Napoletana  | Tomaat, kaas, ansjovis, olijven, kappertjes en oregano            |\n",
    "| Prosciutto  | Tomaat, kaas, ham en oregano                                       |\n",
    "| Funghi      | Tomaat, kaas, champignons en oregano                               |\n",
    "| Salame      | Tomaat, kaas, salami en oregano                                    |\n",
    " \n",
    "</td></tr></table>\n",
    "\n"
   ]
  },
  {
   "cell_type": "code",
   "execution_count": null,
   "id": "4b2997c5",
   "metadata": {
    "vscode": {
     "languageId": "sql"
    }
   },
   "outputs": [],
   "source": [
    "SELECT naam, omschrijving\n",
    "FROM pizza\n",
    "WHERE omschrijving NOT LIKE 'paprika' OR 'uien';"
   ]
  },
  {
   "cell_type": "markdown",
   "id": "69e9ad8a",
   "metadata": {},
   "source": [
    "\n",
    "<p>Bekijk <a href=\"https://rweeda.github.io/PythonIA/docs/IA_sql_oplossingen.html#opgave391\" target=\"_blank\">hier</a> de voorbeelduitwerking.</p>\n",
    "<!-- ANTWOORD:\n",
    "\t\t\t\t<pre><code class=\"language-sql\">\n",
    "SELECT naam, omschrijving\n",
    "FROM pizza\n",
    "WHERE NOT (omschrijving LIKE '%paprika%' OR omschrijving LIKE '%ui%');\n",
    "</code></pre>\t\t\t\t\t\t\t\t\t\t\t\t\t\t\t\t\t\t\t\t\t\t\t\t\n",
    "Ook goed:\t\t\t\t\t\t\t   \n",
    "<pre><code class=\"language-sql\">\n",
    "SELECT naam, omschrijving\n",
    "FROM pizza\n",
    "WHERE omschrijving NOT LIKE '%paprika%' AND omschrijving NOT LIKE '%ui%';\n",
    "</code></pre>\n",
    "-->\n"
   ]
  },
  {
   "cell_type": "markdown",
   "id": "c7fe6d44",
   "metadata": {},
   "source": [
    "### Verwerkingsopdracht 3.9.2 Toon pizza's die voldoen aan meerdere voorwaarden\n",
    "<table width=\"100%\"><tr><td style=\"text-align:left; vertical-align:top; font-size:1.25rem;\" width=\"35%\">\n",
    "Toon alle pizza's die minder dan €7,50 kosten, <b>en</b> met de letter 'M' beginnen <b>of</b> letter 'A' eindigen. \n",
    "\n",
    "</td><td width=\"65%\">\n",
    "    <table border=\"1\">\n",
    "  <thead>\n",
    "    <tr>\n",
    "      <th>pizzacode</th>\n",
    "      <th>naam</th>\n",
    "      <th>omschrijving</th>\n",
    "      <th>basisprijs</th>\n",
    "    </tr>\n",
    "  </thead>\n",
    "  <tbody>\n",
    "    <tr>\n",
    "      <td>1</td>\n",
    "      <td>Margherita</td>\n",
    "      <td>Tomaat,kaas en oregano</td>\n",
    "      <td>6</td>\n",
    "    </tr>\n",
    "    <tr>\n",
    "      <td>6</td>\n",
    "      <td>Cippola</td>\n",
    "      <td>Tomaat, kaas, uien en oregano</td>\n",
    "      <td>6.5</td>\n",
    "    </tr>\n",
    "  </tbody>\n",
    "</table>\n",
    "\n",
    "</td></tr></table>\n",
    "\n"
   ]
  },
  {
   "cell_type": "code",
   "execution_count": null,
   "id": "177010a4",
   "metadata": {
    "vscode": {
     "languageId": "sql"
    }
   },
   "outputs": [],
   "source": []
  },
  {
   "cell_type": "markdown",
   "id": "d408bd63",
   "metadata": {},
   "source": [
    "\n",
    "<p>Bekijk <a href=\"https://rweeda.github.io/PythonIA/docs/IA_sql_oplossingen.html#opgave392\" target=\"_blank\">hier</a> de voorbeelduitwerking.</p>\n",
    "<!-- ANTWOORD:\n",
    "<pre><code class=\"language-sql\">\n",
    "SELECT *\n",
    "FROM pizza\n",
    "WHERE basisprijs < 7.5 AND (naam LIKE 'M%' OR naam LIKE '%A');\n",
    "</code></pre>\n",
    "-->"
   ]
  }
 ],
 "metadata": {
  "language_info": {
   "name": "python"
  }
 },
 "nbformat": 4,
 "nbformat_minor": 5
}
