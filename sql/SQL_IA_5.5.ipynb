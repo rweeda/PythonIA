{
 "cells": [
  {
   "cell_type": "markdown",
   "id": "65e0d5e6",
   "metadata": {},
   "source": [
    "## 5.5: Afsluitende Opdrachten"
   ]
  },
  {
   "cell_type": "markdown",
   "id": "bafd11b8",
   "metadata": {},
   "source": [
    "\n",
    "### Afsluitende Opdracht 5.5.1 Omschrijving van de bodem bij een bestelling\n",
    "\n",
    "<table width=\"100%\"><tr><td style=\"text-align:left; vertical-align:top; font-size:1.25rem;\" width=\"65%\">\n",
    "Laat zien welke bodembeschrijving hoort bij elke bestelde pizza, zoals in het ovezicht hiernaast. De informatie komt uit tabellen <i>besteldepizza</i> en <i>bodem</i>.\n",
    "\n",
    "\n",
    "</td><td width=\"35%\">\n",
    "<table border=\"1\" cellpadding=\"4\" cellspacing=\"0\">\n",
    "  <thead>\n",
    "    <tr>\n",
    "      <th>besteldepizzacode</th>\n",
    "      <th>omschrijving</th>\n",
    "    </tr>\n",
    "  </thead>\n",
    "  <tbody>\n",
    "    <tr><td>1</td><td>American style</td></tr>\n",
    "    <tr><td>2</td><td>American style</td></tr>\n",
    "    <tr><td>3</td><td>American style</td></tr>\n",
    "    <tr><td>4</td><td>American style</td></tr>\n",
    "    <tr><td>…</td><td>…</td></tr>\n",
    "    <tr><td>5832</td><td>Italian style</td></tr>\n",
    "    <tr><td>5833</td><td>American style</td></tr>\n",
    "  </tbody>\n",
    "</table>\n",
    "\n",
    "\n",
    "\n",
    "</td></tr></table>"
   ]
  },
  {
   "cell_type": "code",
   "execution_count": null,
   "id": "a8afbf6b",
   "metadata": {
    "vscode": {
     "languageId": "sql"
    }
   },
   "outputs": [],
   "source": []
  },
  {
   "cell_type": "markdown",
   "id": "68c8b878",
   "metadata": {},
   "source": [
    "<p>Bekijk <a href=\"https://rweeda.github.io/PythonIA/docs/IA_sql_oplossingen.html#opgave551\" target=\"_blank\">hier</a> de voorbeelduitwerking.</p>\n",
    "\n",
    "<!-- ANTWOORD:\n",
    "<pre><code class=\"language-sql\">\n",
    "SELECT besteldepizza.besteldepizzacode, bodem.omschrijving\n",
    "FROM besteldepizza\n",
    "JOIN bodem ON besteldepizza.bodemcode = bodem.bodemcode;\n",
    "</code></pre>\n",
    "-->"
   ]
  },
  {
   "cell_type": "markdown",
   "id": "2d005f94",
   "metadata": {},
   "source": [
    "\n",
    "### Afsluitende Opdracht 5.5.2 Een overzicht van de bestelde pizza en het formaat\n",
    "\n",
    "<table width=\"100%\"><tr><td style=\"text-align:left; vertical-align:top; font-size:1.25rem;\" width=\"65%\">\n",
    "\n",
    "Toon een overzicht van de bestelde pizza met <b>besteldepizzacode</b>, <b>naam</b> en het <b>formaat</b> zoals hiernaast.\n",
    "\n",
    "</td><td width=\"35%\">\n",
    "\n",
    "<table border=\"1\" cellpadding=\"4\" cellspacing=\"0\">\n",
    "  <thead>\n",
    "    <tr>\n",
    "      <th>besteldepizzacode</th>\n",
    "      <th>pizzanaam</th>\n",
    "      <th>formaat</th>\n",
    "    </tr>\n",
    "  </thead>\n",
    "  <tbody>\n",
    "    <tr><td>1</td><td>Marinara</td><td>extra groot (40 cm)</td></tr>\n",
    "    <tr><td>2</td><td>Hawai</td><td>groot (35 cm)</td></tr>\n",
    "    <tr><td>3</td><td>Fantasia</td><td>klein (25 cm)</td></tr>\n",
    "    <tr><td>4</td><td>Salmone</td><td>klein (25 cm)</td></tr>\n",
    "    <tr><td>…</td><td>…</td><td>…</td></tr>\n",
    "    <tr><td>5833</td><td>Prosciutto</td><td>medium (30 cm)</td></tr>\n",
    "  </tbody>\n",
    "</table>\n",
    "\n",
    "\n",
    "</td></tr></table>\n",
    "\n",
    "\n",
    "\n",
    "<p>Bekijk <a href=\"https://rweeda.github.io/PythonIA/docs/IA_sql_oplossingen.html#opgave552\" target=\"_blank\">hier</a> de voorbeelduitwerking.</p>\n",
    "<!-- ANTWOORD:\n",
    "<pre><code class=\"language-sql\">\n",
    "SELECT \n",
    "  besteldePizza.besteldepizzacode,\n",
    "  pizza.naam AS pizzanaam,\n",
    "  formaat.omschrijving AS formaat\n",
    "FROM besteldePizza\n",
    "JOIN pizza ON besteldePizza.pizzacode = pizza.pizzacode\n",
    "JOIN formaat ON besteldePizza.formaatcode = formaat.formaatcode;\n",
    "</code></pre>\n",
    "-->\n"
   ]
  },
  {
   "cell_type": "markdown",
   "id": "bd92661e",
   "metadata": {},
   "source": [
    "\n",
    "### Afsluitende Opdracht 5.5.3 Klanten en hun bezorgers\n",
    "\n",
    "<table width=\"100%\"><tr><td style=\"text-align:left; vertical-align:top; font-size:1.25rem;\" width=\"65%\">\n",
    "\n",
    "<p>Maak een overzicht van bestellingen met de <b>naam van de klant</b>, het <b>adres</b> van de klant, en de <b>naam van de bezorger</b>. Toon het overzicht zoals hiernaast, let daarbij op de kolomnamen.</p>\n",
    "\n",
    "<p>Tip: Hiervoor moet je de tabellen <i>bestelling</i>, <i>klant</i> en <i>bezorger</i>koppelen.\n",
    "\n",
    "</td><td width=\"35%\">\n",
    "<table border=\"1\" cellpadding=\"4\" cellspacing=\"0\">\n",
    "  <thead>\n",
    "    <tr>\n",
    "      <th>klantnaam</th>\n",
    "      <th>klantadres</th>\n",
    "      <th>bezorgernaam</th>\n",
    "    </tr>\n",
    "  </thead>\n",
    "  <tbody>\n",
    "    <tr><td>Sanne Jansen</td><td>Lindenstraat 12</td><td>Mohammed</td></tr>\n",
    "    <tr><td>Lars Willems</td><td>Beukenlaan 34</td><td>Julia</td></tr>\n",
    "    <tr><td>Fatima El Amrani</td><td>Schoolstraat 5</td><td>Mohammed</td></tr>\n",
    "    <tr><td>…</td><td>…</td><td>…</td></tr>\n",
    "  </tbody>\n",
    "</table>\n",
    "\n",
    "\n",
    "\n",
    "</td></tr></table>"
   ]
  },
  {
   "cell_type": "code",
   "execution_count": null,
   "id": "fb8632c8",
   "metadata": {
    "vscode": {
     "languageId": "sql"
    }
   },
   "outputs": [],
   "source": []
  },
  {
   "cell_type": "markdown",
   "id": "0bdf47d3",
   "metadata": {},
   "source": [
    "<p>Bekijk <a href=\"https://rweeda.github.io/PythonIA/docs/IA_sql_oplossingen.html#opgave553\" target=\"_blank\">hier</a> de voorbeelduitwerking.</p>\n",
    "<!-- ANTWOORD:\n",
    "SELECT \n",
    "  klant.naam AS klantnaam,\n",
    "  klant.adres AS klantadres,\n",
    "  bezorger.naam AS bezorgernaam\n",
    "FROM bestelling\n",
    "JOIN klant ON bestelling.klantnummer = klant.klantnummer\n",
    "JOIN bezorger ON bestelling.bezorgercode = bezorger.bezorgercode;\n",
    "</code></pre>\n",
    "-->"
   ]
  },
  {
   "cell_type": "markdown",
   "id": "3ae14c06",
   "metadata": {},
   "source": [
    "\n",
    "### Afsluitende Opdracht 5.5.4 Bestellingen van klanten uit Enschede of Hengelo\n",
    "<table width=\"100%\"><tr><td style=\"text-align:left; vertical-align:top; font-size:1.25rem;\" width=\"65%\">\n",
    "\n",
    "Toon de <b>bestelcode</b> en <b>klantnummer</b> van de eerste 3 bestellingen waarvan de klant uit <b>Enschede of Hengelo</b> komt, zoals in het overzicht hiernaast. De gegevens komen uit tabellen <i>klant</i> en <i>bestelling</i>.\n",
    "\n",
    "</td><td width=\"35%\">\n",
    "<table border=\"1\" cellpadding=\"4\" cellspacing=\"0\">\n",
    "  <thead>\n",
    "    <tr>\n",
    "      <th>bestelcode</th>\n",
    "      <th>klantnummer</th>\n",
    "    </tr>\n",
    "  </thead>\n",
    "  <tbody>\n",
    "    <tr><td>1</td><td>224</td></tr>\n",
    "    <tr><td>4</td><td>323</td></tr>\n",
    "    <tr><td>5</td><td>279</td></tr>\n",
    "  </tbody>\n",
    "</table>\n",
    "\n",
    "\n",
    "</td></tr></table>"
   ]
  },
  {
   "cell_type": "code",
   "execution_count": null,
   "id": "5a13db51",
   "metadata": {
    "vscode": {
     "languageId": "sql"
    }
   },
   "outputs": [],
   "source": []
  },
  {
   "cell_type": "markdown",
   "id": "fe23eea6",
   "metadata": {},
   "source": [
    "<p>Bekijk <a href=\"https://rweeda.github.io/PythonIA/docs/IA_sql_oplossingen.html#opgave554\" target=\"_blank\">hier</a> de voorbeelduitwerking.</p>\n",
    "<!-- ANTWOORD:\n",
    "<pre><code class=\"language-sql\">\n",
    "SELECT bestelcode, bestelling.klantnummer\n",
    "FROM bestelling\n",
    "JOIN klant  ON bestelling.klantnummer = klant.klantnummer\n",
    "WHERE woonplaats = 'Enschede' OR woonplaats = 'Hengelo'\n",
    "LIMIT 3;\n",
    "</code></pre>\n",
    "-->"
   ]
  },
  {
   "cell_type": "markdown",
   "id": "4f6dcb63",
   "metadata": {},
   "source": [
    "\n",
    "\n",
    "### Afsluitende Opdracht 5.5.5 Bezorgerinformatie\n",
    "\n",
    "\n",
    "\n",
    "<table width=\"100%\"><tr><td style=\"text-align:left; vertical-align:top; font-size:1.25rem;\" width=\"45%\">\n",
    "Toon uit tabel `bestelling` voor de eerste vijf gegevens, de naam van de bezorger en bijbehorende de klantgegevens (klantnaam, adres, postcode, en woonplaats). Toon het overzicht zoals hiernaast.\n",
    "</td><td width=\"55%\">\n",
    "<table border=\"1\" cellpadding=\"4\" cellspacing=\"0\">\n",
    "  <thead>\n",
    "    <tr>\n",
    "      <th>bezorgernaam</th>\n",
    "      <th>klantnaam</th>\n",
    "      <th>adres</th>\n",
    "      <th>postcode</th>\n",
    "      <th>woonplaats</th>\n",
    "    </tr>\n",
    "  </thead>\n",
    "  <tbody>\n",
    "    <tr>\n",
    "      <td>Han Fröling</td>\n",
    "      <td>Katja Pas</td>\n",
    "      <td>Koperwiek 73</td>\n",
    "      <td>3766AM</td>\n",
    "      <td>Hengelo</td>\n",
    "    </tr>\n",
    "    <tr>\n",
    "      <td>Afhalen</td>\n",
    "      <td>Bram Kuipers</td>\n",
    "      <td>Heyendaalseweg 300</td>\n",
    "      <td>6525EC</td>\n",
    "      <td>Nijmegen</td>\n",
    "    </tr>\n",
    "    <tr>\n",
    "      <td>Ageeth Mooy</td>\n",
    "      <td>Frank Goudsmit</td>\n",
    "      <td>Pelikaanweg 17</td>\n",
    "      <td>3762VA</td>\n",
    "      <td>Hengelo</td>\n",
    "    </tr>\n",
    "    <tr>\n",
    "      <td>Hans Boonstra</td>\n",
    "      <td>Maarten Doornbos</td>\n",
    "      <td>Mozartlaan 35</td>\n",
    "      <td>3741HT</td>\n",
    "      <td>Enschede</td>\n",
    "    </tr>\n",
    "    <tr>\n",
    "      <td>Marleen Hoekstra</td>\n",
    "      <td>Margaretha Verwoert - Gro</td>\n",
    "      <td>Goudenregenlaan 30</td>\n",
    "      <td>3741CB</td>\n",
    "      <td>Enschede</td>\n",
    "    </tr>\n",
    "  </tbody>\n",
    "</table>\n",
    "\n",
    "\n",
    "</td></tr></table>"
   ]
  },
  {
   "cell_type": "code",
   "execution_count": null,
   "id": "58b8fa39",
   "metadata": {
    "vscode": {
     "languageId": "sql"
    }
   },
   "outputs": [],
   "source": []
  },
  {
   "cell_type": "markdown",
   "id": "59040759",
   "metadata": {},
   "source": [
    "\n",
    "<p>Bekijk <a href=\"https://rweeda.github.io/PythonIA/docs/IA_sql_oplossingen.html#opgave555\" target=\"_blank\">hier</a> de voorbeelduitwerking.</p>\n",
    "\n",
    "<!-- ANTWOORD\n",
    "<pre><code class=\"language-sql\">\n",
    "SELECT \n",
    "    bezorger.naam AS bezorgernaam,\n",
    "    klant.naam AS klantnaam,\n",
    "    klant.adres,\n",
    "    klant.postcode,\n",
    "    klant.woonplaats\n",
    "FROM bestelling\n",
    "JOIN bezorger ON bestelling.bezorgernummer = bezorger.bezorgernummer\n",
    "JOIN klant ON bestelling.klantnummer = klant.klantnummer\n",
    "LIMIT 5;\n",
    "</code></pre>\n",
    "-->\n"
   ]
  },
  {
   "cell_type": "markdown",
   "id": "a8b5947c",
   "metadata": {},
   "source": [
    "\n",
    "### Afsluitende Opdracht 5.5.6 Voor de kok\n",
    "\n",
    "<table width=\"100%\"><tr><td style=\"text-align:left; vertical-align:top; font-size:1.25rem;\" width=\"65%\">\n",
    "Maak voor de kok een overzicht van welke pizza's besteld zijn zoals hieronder, met daarin pizzanaam, formaat, bodem. Laat alleen de eerste 10 zien.\n",
    "\n",
    "</td><td width=\"35%\">\n",
    "<table border=\"1\" cellpadding=\"4\" cellspacing=\"0\">\n",
    "  <thead>\n",
    "    <tr>\n",
    "      <th>pizzanaam</th>\n",
    "      <th>formaat</th>\n",
    "      <th>bodem</th>\n",
    "    </tr>\n",
    "  </thead>\n",
    "  <tbody>\n",
    "    <tr><td>Marinara</td><td>extra groot (40 cm)</td><td>American style</td></tr>\n",
    "    <tr><td>Hawai</td><td>groot (35 cm)</td><td>American style</td></tr>\n",
    "    <tr><td>Fantasia</td><td>klein (25 cm)</td><td>American style</td></tr>\n",
    "    <tr><td>Salmone</td><td>klein (25 cm)</td><td>American style</td></tr>\n",
    "    <tr><td>Fantasia</td><td>medium (30 cm)</td><td>American style</td></tr>\n",
    "    <tr><td>Inferno</td><td>groot (35 cm)</td><td>American style</td></tr>\n",
    "    <tr><td>Vegetariana</td><td>extra groot (40 cm)</td><td>Italian style</td></tr>\n",
    "    <tr><td>Salame</td><td>klein (25 cm)</td><td>American style</td></tr>\n",
    "    <tr><td>Borromea</td><td>klein (25 cm)</td><td>American style</td></tr>\n",
    "    <tr><td>Calimero</td><td>groot (35 cm)</td><td>American style</td></tr>\n",
    "  </tbody>\n",
    "</table>\n",
    "\n",
    "</td></tr></table>"
   ]
  },
  {
   "cell_type": "code",
   "execution_count": null,
   "id": "8139b059",
   "metadata": {
    "vscode": {
     "languageId": "sql"
    }
   },
   "outputs": [],
   "source": []
  },
  {
   "cell_type": "markdown",
   "id": "0e420704",
   "metadata": {},
   "source": [
    "<p>Bekijk <a href=\"https://rweeda.github.io/PythonIA/docs/IA_sql_oplossingen.html#opgave556\" target=\"_blank\">hier</a> de voorbeelduitwerking.</p>\n",
    "<!-- ANTWOORD:\n",
    "<pre><code class=\"language-sql\">\n",
    "SELECT \n",
    "    pizza.naam AS pizzanaam,\n",
    "    formaat.omschrijving AS formaat,\n",
    "    bodem.omschrijving AS bodem\n",
    "FROM besteldePizza\n",
    "JOIN pizza ON besteldePizza.pizzacode = pizza.pizzacode\n",
    "JOIN formaat ON besteldePizza.formaatcode = formaat.formaatcode\n",
    "JOIN bodem ON besteldePizza.bodemcode = bodem.bodemcode\n",
    "LIMIT 10;\n",
    "</code></pre>\n",
    "-->\n"
   ]
  }
 ],
 "metadata": {
  "language_info": {
   "name": "python"
  }
 },
 "nbformat": 4,
 "nbformat_minor": 5
}
