{
 "cells": [
  {
   "cell_type": "markdown",
   "id": "bafd11b8",
   "metadata": {},
   "source": [
    "# 5.3: Meer dan 2 tabellen koppelen\n",
    "\n",
    "Je kunt ook meer dan 3 tabellen koppelen met een JOIN. Je koppelt eerst twee tabellen via de kolom met gelijke waarden.\n",
    "Daarna voeg je een derde tabel toe met een extra JOIN.\n",
    "\n",
    "```SQL\n",
    "SELECT ...\n",
    "FROM tabel1\n",
    "JOIN tabel2 ON tabel1.kolom = tabel2.kolom\n",
    "JOIN tabel3 ON tabel2.kolom = tabel3.kolom;\n",
    "```\n",
    "\n",
    "<b>Voorbeeld. Deze query geeft een overzicht met <b>besteldepizzacode</b> (uit tabel <i>besteldePizza</i>), <b>naam</b> (uit tabel <i>pizza</i>) en <b>omschrijving</b> (uit tabel <i>formaat</i>) door de drie tabellen te koppelen via kolommen met gelijke waarden.</p>\n",
    "\n",
    "<table width=\"100%\"><tr><td style=\"text-align:left; vertical-align:top; font-size:1.25rem;\" width=\"50%\">\n",
    "<pre><code class=\"language-sql\">\n",
    "SELECT besteldePizza.besteldepizzacode, pizza.naam, formaat.omschrijving\n",
    "FROM besteldePizza\n",
    "JOIN pizza ON besteldePizza.pizzacode = pizza.pizzacode \n",
    "JOIN formaat ON besteldePizza.formaatcode = formaat.formaatcode; \n",
    "</code></pre>\n",
    "\n",
    "</td><td width=\"50%\">\n",
    "\n",
    "<table border=\"1\" cellpadding=\"4\" cellspacing=\"0\">\n",
    "\n",
    "  <thead>\n",
    "    <tr>\n",
    "      <th>besteldepizzacode</th>\n",
    "      <th>naam</th>\n",
    "      <th>omschrijving</th>\n",
    "    </tr>\n",
    "  </thead>\n",
    "  <tbody>\n",
    "    <tr><td>1</td><td>Marinara</td><td>extra groot (40 cm)</td></tr>\n",
    "    <tr><td>2</td><td>Hawai</td><td>groot (35 cm)</td></tr>\n",
    "    <tr><td>3</td><td>Fantasia</td><td>klein (25 cm)</td></tr>\n",
    "    <tr><td>4</td><td>Salmone</td><td>klein (25 cm)</td></tr>\n",
    "    <tr><td>…</td><td>…</td><td>…</td></tr>\n",
    "    <tr><td>5833</td><td>Prosciutto</td><td>medium (30 cm)</td></tr>\n",
    "  </tbody>\n",
    "</table>\n",
    "</td></tr></table>\n"
   ]
  },
  {
   "cell_type": "markdown",
   "id": "71975800",
   "metadata": {},
   "source": [
    "\n",
    "### Verwerkingsopdracht 5.3.1: Overzicht van naam en bodem van alle bestelde pizza's\n",
    "\n",
    "\n",
    "<table width=\"100%\"><tr><td style=\"text-align:left; vertical-align:top; font-size:1.25rem;\" width=\"35%\">\n",
    "\n",
    "<p>Maak een overzicht van alle bestelde pizza’s met daarbij de <b>naam</b> van de pizza (uit de tabel <i>pizza</i>) en de <b>omschrijving</b> van de bodem (uit de tabel <i>bodem</i>).</p>\n",
    "<p>Tip: Je hebt een derde tabel nodig, namelijk <i>besteldePizza</i>, om de gegevens aan elkaar te koppelen.</p>\n",
    "\n",
    "\n",
    "</td><td width=\"65%\">\n",
    "\n",
    "<table border=\"1\" cellpadding=\"4\" cellspacing=\"0\">\n",
    "  <thead>\n",
    "    <tr>\n",
    "      <th>besteldepizzacode</th>\n",
    "      <th>pizzanaam</th>\n",
    "      <th>bodem</th>\n",
    "    </tr>\n",
    "  </thead>\n",
    "  <tbody>\n",
    "    <tr><td>1</td><td>Marinara</td><td>krokante dunne bodem</td></tr>\n",
    "    <tr><td>2</td><td>Hawai</td><td>glutenvrije bodem</td></tr>\n",
    "    <tr><td>3</td><td>Fantasia</td><td>panbodem</td></tr>\n",
    "    <tr><td>4</td><td>Salmone</td><td>krokante dunne bodem</td></tr>\n",
    "    <tr><td>…</td><td>…</td><td>…</td></tr>\n",
    "    <tr><td>5833</td><td>Prosciutto</td><td>krokante dunne bodem</td></tr>\n",
    "  </tbody>\n",
    "</table>\n",
    "\n",
    "\n",
    "</td></tr></table>\n",
    "\n",
    "\n"
   ]
  },
  {
   "cell_type": "code",
   "execution_count": null,
   "id": "d7ea2007",
   "metadata": {
    "vscode": {
     "languageId": "sql"
    }
   },
   "outputs": [],
   "source": []
  },
  {
   "cell_type": "markdown",
   "id": "402ab9b0",
   "metadata": {
    "vscode": {
     "languageId": "plaintext"
    }
   },
   "source": [
    "\n",
    "<p>Bekijk <a href=\"https://rweeda.github.io/PythonIA/docs/IA_sql_oplossingen.html#opgave531\" target=\"_blank\">hier</a> de voorbeelduitwerking.</p>\n",
    "<!-- ANTWOORD:\n",
    "<ol type=\"alpha\">\n",
    "<li>\n",
    "<pre><code class=\"language-sql\">\n",
    "SELECT besteldepizza.bestelcode, pizza.naam AS pizzanaam, bodem.omschrijving AS bodembeschrijving\n",
    "FROM besteldepizza\n",
    "JOIN pizza ON besteldepizza.pizzacode = pizza.pizzacode\n",
    "JOIN bodem ON besteldepizza.bodemcode = bodem.bodemcode;\n",
    "</code></pre>\n",
    "</li>\n",
    "<li>\n",
    "Je kunt dit niet doen zonder JOIN, omdat de informatie die je nodig hebt verspreid is over meerdere tabellen.<br>\n",
    "In de tabel <code>besteldepizza</code> staat de <code>pizzacode</code> en de <code>bodemcode</code>,\n",
    "maar de naam van de pizza staat in de tabel <code>pizza</code>,\n",
    "en de omschrijving van de bodem staat in de tabel <code>bodem</code>.\n",
    "</li>\n",
    "</ol>\n",
    "-->"
   ]
  }
 ],
 "metadata": {
  "language_info": {
   "name": "python"
  }
 },
 "nbformat": 4,
 "nbformat_minor": 5
}
