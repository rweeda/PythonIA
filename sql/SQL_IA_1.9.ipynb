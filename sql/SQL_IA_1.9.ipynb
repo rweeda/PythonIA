{
 "cells": [
  {
   "cell_type": "markdown",
   "id": "244d4b37",
   "metadata": {},
   "source": [
    "## 1.8: Samenvatting 1: Inleiding Databases\n",
    "In deze opdracht heb je veel geleerd over gestructureerde data. We vatten dat nu samen.\n",
    "\n",
    "<ul>\n",
    " <li><strong>Database</strong>: een georganiseerde verzameling gegevens, opgeslagen in tabellen met rijen en kolommen. In een pizzeria zoals Danilo’s worden gegevens opgeslagen over o.a. pizza’s, klanten, bestellingen en bezorgers.</li> \n",
    " <li>Een tabel bestaat uit kolommen, elk met een naam zoals <i>voornaam</i>, <i>adres</i>, <i>telefoonnummer</i>, enz., en een datatype (bijv. tekst of getal).</li> <li><strong>Datatypes</strong> in SQLite: \n",
    " <ul> \n",
    " <li><strong>INTEGER</strong>: gehele getallen (bijv. een klantnummer: 4054)</li> <li><strong>TEXT</strong>: tekstuele gegevens (bijv. een naam: 'Jaap')</li> <li><strong>REAL</strong>: kommagetallen (bijv. een prijs: 2.50)</li> \n",
    " </ul> \n",
    " </li> \n",
    " <li><strong>Primary key</strong>: elke tabel heeft een kolom waarin elke waarde uniek is. Voorbeelden: klantnummer, leerlingnummer.</li> \n",
    " <li>Een database wordt beheerd door een <strong>Database Management System (DBMS)</strong> die ervoor zorgt dat de data betrouwbaar en correct blijft.</li> \n",
    " <li>Om de gegevens in je database te beschermen, wordt er per gebruiker bepaald welke <strong>CRUD</strong>-rechten (Create, Read, Update, Delete) diegene op welke data heeft.</li> \n",
    " <!--<li><strong>Gegevens</strong> zijn feiten die je kunt verzamelen, zoals een naam of temperatuur.</li> \n",
    " <li><strong>Data</strong> zijn opgeslagen gegevens (in tabellen of bestanden).</li> <li><strong>Informatie</strong> is geïnterpreteerde data die betekenis heeft, bijvoorbeeld een weerbericht.</li>-->\n",
    "  </ul>"
   ]
  }
 ],
 "metadata": {
  "language_info": {
   "name": "python"
  }
 },
 "nbformat": 4,
 "nbformat_minor": 5
}
