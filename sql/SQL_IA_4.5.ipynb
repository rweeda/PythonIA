{
 "cells": [
  {
   "cell_type": "markdown",
   "id": "89f893a1",
   "metadata": {},
   "source": [
    "## 4.5: COUNT() – Aantal rijen tellen\n",
    "\n",
    "<p>`COUNT(kolomnaam)` telt <b>het aantal rijen</b> in een kolom van een tabel. Deze gebruik je na de SELECT, en tussen haakjes geef je een kolomnaam op. Er worden alleen de rijen geteld waarin een waarde staat.</p>\n",
    "\n",
    "<table width=\"100%\"><tr><td style=\"text-align:left; vertical-align:top; font-size:1.25rem;\" width=\"65%\">\n",
    "Bijvoorbeeld, voor het telen van het aantal bestelling die zijn geplaatst:\n",
    "\n",
    "```sql\n",
    "SELECT COUNT(bestelcode)\n",
    "FROM bestelling;\n",
    "```\n",
    "</td><td width=\"35%\">\n",
    "<table border=\"1\">\n",
    "  <thead>\n",
    "    <tr>\n",
    "      <th>COUNT(bestelcode)</th>\n",
    "    </tr>\n",
    "  </thead>\n",
    "  <tbody>\n",
    "    <tr>\n",
    "      <td>1472</td>\n",
    "    </tr>\n",
    "  </tbody>\n",
    "</table>\n",
    "\n",
    "</td></tr></table>\n",
    "\n",
    "(Wil je ook de lege rijen tellen, gebruik dan COUNT(*))\n",
    "\n",
    "\n",
    "\n",
    "### Verwerkingsopdracht 4.5.1 Pizza's tellen\n",
    "\n",
    "<table width=\"100%\"><tr><td style=\"text-align:left; vertical-align:top; font-size:1.25rem;\" width=\"65%\">\n",
    "Hoeveel pizza's staan er in de tabel <i>besteldePizza</i>? Maak het overzicht zoals hiernaast.\n",
    "</td><td width=\"35%\">\n",
    "    <table border=\"1\">\n",
    "  <thead>\n",
    "    <tr>\n",
    "      <th>aantal_pizzas</th>\n",
    "    </tr>\n",
    "  </thead>\n",
    "  <tbody>\n",
    "    <tr>\n",
    "      <td>5833</td>\n",
    "    </tr>\n",
    "  </tbody>\n",
    "</table>\n",
    "\n",
    "</td></tr></table>\n",
    "\n"
   ]
  },
  {
   "cell_type": "code",
   "execution_count": null,
   "id": "4b2997c5",
   "metadata": {
    "vscode": {
     "languageId": "sql"
    }
   },
   "outputs": [],
   "source": []
  },
  {
   "cell_type": "markdown",
   "id": "d5b01226",
   "metadata": {},
   "source": [
    "<!--\n",
    "<pre><code class=\"language-sql\">\n",
    "SELECT COUNT(besteldepizzacode) AS aantal_pizzas\n",
    "FROM besteldePizza;\n",
    "</code></pre>\n",
    "-->\n",
    "<p>Bekijk <a\n",
    "href=\"https://rweeda.github.io/PythonIA/docs/IA_sql_oplossingen.html#opgave451\"\n",
    "target=\"_blank\">hier</a> de voorbeelduitwerking.</p>"
   ]
  }
 ],
 "metadata": {
  "language_info": {
   "name": "python"
  }
 },
 "nbformat": 4,
 "nbformat_minor": 5
}
