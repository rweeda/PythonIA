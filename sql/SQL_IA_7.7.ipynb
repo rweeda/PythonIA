{
 "cells": [
  {
   "cell_type": "markdown",
   "id": "e1c03ab8",
   "metadata": {},
   "source": [
    "\n",
    "\n",
    "\n",
    "## 7.7: Tabel aanpassen – Kolom hernoemen\n",
    "\n",
    "<p>Met ALTER TABLE ... RENAME COLUMN kun je een bestaande kolom een nieuwe naam geven.</p>\n",
    "<pre><code class=\"language-sql\">\n",
    "ALTER TABLE tabelnaam\n",
    "RENAME COLUMN oude_kolomnaam TO nieuwe_kolomnaam;\n",
    "</code></pre>\n",
    "\n",
    "<ul>\n",
    "  <li>Geef eerst de naam van de tabel op.</li>\n",
    "  <li>Gebruik daarna RENAME COLUMN om de kolom te hernoemen.</li>\n",
    "</ul>\n",
    "\n",
    "<p>Voorbeeld: hernoem de kolom <b>plusprijs</b> naar <b>toeslag</b> in de tabel <i>bodem</i>:</p>\n",
    "<pre><code class=\"language-sql\">\n",
    "ALTER TABLE bodem\n",
    "RENAME COLUMN plusprijs TO toeslag;\n",
    "</code></pre>\n"
   ]
  },
  {
   "cell_type": "markdown",
   "id": "46737e31",
   "metadata": {},
   "source": [
    "\n",
    "### Verwerkingsopdracht 7.7.1 Kolom hernoemen naar klantnaam\n",
    "\n",
    "<p>Hernoem de kolom <b>naam</b> naar <b>klantnaam</b> in de tabel <i>klant</i>.</p>\n",
    "\n"
   ]
  },
  {
   "cell_type": "code",
   "execution_count": null,
   "id": "d3da7346",
   "metadata": {
    "vscode": {
     "languageId": "sql"
    }
   },
   "outputs": [],
   "source": []
  },
  {
   "cell_type": "code",
   "execution_count": null,
   "id": "42cc3889",
   "metadata": {
    "vscode": {
     "languageId": "sql"
    }
   },
   "outputs": [],
   "source": [
    "SELECT *\n",
    "FROM klant;"
   ]
  },
  {
   "cell_type": "markdown",
   "id": "c03f5a77",
   "metadata": {},
   "source": [
    "<p>Bekijk de <a href=\"https://rweeda.github.io/PythonIA/docs/IA_sql_oplossingen.html#opgave771\" target=\"_blank\">voorbeelduitwerking</a>.</p>\n",
    "\n",
    "<!--\n",
    "<pre><code class=\"language-sql\">\n",
    "ALTER TABLE klant\n",
    "RENAME COLUMN naam TO klantnaam;\n",
    "</code></pre>\n",
    "-->"
   ]
  }
 ],
 "metadata": {
  "language_info": {
   "name": "python"
  }
 },
 "nbformat": 4,
 "nbformat_minor": 5
}
