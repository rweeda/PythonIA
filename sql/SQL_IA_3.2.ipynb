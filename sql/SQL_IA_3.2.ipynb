{
 "cells": [
  {
   "cell_type": "markdown",
   "id": "a2e290ff",
   "metadata": {},
   "source": [
    "\n",
    "\n",
    "## 3.2: Wiskundige operatoren\n",
    "\n",
    "<p>Naast de '='-teken kun ook andere operatoren in de WHERE gebruiken. Hier is een overzicht:</p>\n",
    "\n",
    "<table border=\"1\">\n",
    "  <thead>\n",
    "    <tr>\n",
    "      <th>Operator</th>\n",
    "      <th>Betekenis</th>\n",
    "    </tr>\n",
    "  </thead>\n",
    "  <tbody>\n",
    "    <tr><td>=</td><td>gelijk aan</td></tr>\n",
    "    <tr><td>&gt;</td><td>groter dan</td></tr>\n",
    "    <tr><td>&gt;=</td><td>groter dan of gelijk aan</td></tr>\n",
    "    <tr><td>&lt;</td><td>kleiner dan</td></tr>\n",
    "    <tr><td>&lt;=</td><td>kleiner dan of gelijk aan</td></tr>\n",
    "    <tr><td>&lt;&gt;</td><td>ongelijk aan</td></tr>\n",
    "  </tbody>\n",
    "</table>\n",
    "\n",
    "\n",
    "<p>Bijvoorbeeld, met de volgende query laten we de gegevens zien van klanten die <b>niet</b> in Enschede wonen:</p>\n",
    "\n"
   ]
  },
  {
   "cell_type": "code",
   "execution_count": null,
   "id": "4b2997c5",
   "metadata": {
    "vscode": {
     "languageId": "sql"
    }
   },
   "outputs": [],
   "source": [
    "SELECT *\n",
    "FROM klant\n",
    "WHERE plaats <> 'Enschede';"
   ]
  },
  {
   "cell_type": "markdown",
   "id": "f5f54410",
   "metadata": {},
   "source": [
    "En met de volgende query laten we de gegevens zien van pizza's die 8 euro of minder kosten:\n"
   ]
  },
  {
   "cell_type": "code",
   "execution_count": null,
   "id": "292dba83",
   "metadata": {
    "vscode": {
     "languageId": "sql"
    }
   },
   "outputs": [],
   "source": [
    "SELECT *\n",
    "FROM pizza\n",
    "WHERE basisprijs <= 8;"
   ]
  },
  {
   "cell_type": "markdown",
   "id": "bac37104",
   "metadata": {},
   "source": [
    "\n",
    "### Verwerkingsopdracht 3.2.1 Dure pizza's\n",
    "\n",
    "<table width=\"100%\"><tr><td style=\"text-align:left; vertical-align:top; font-size:1.25rem;\" width=\"65%\">\n",
    "Toon de <b>naam</b> en <b>basisprijs</b> van de pizza's die 9,50 euro kosten of meer, zoals in het overzicht hiernaast.\n",
    "</td><td width=\"35%\">\n",
    "<table border=\"1\">\n",
    "  <thead>\n",
    "    <tr>\n",
    "      <th>naam</th>\n",
    "      <th>basisprijs</th>\n",
    "    </tr>\n",
    "  </thead>\n",
    "  <tbody>\n",
    "    <tr><td>Specialità di Danilo</td><td>9.5</td></tr>\n",
    "    <tr><td>Combinazione</td><td>10.5</td></tr>\n",
    "  </tbody>\n",
    "</table>\n",
    "\n",
    "\n",
    "</td></tr></table>\n",
    "<p>Klik <a href=\"https://raw.githubusercontent.com/rweeda/PythonIA/main/sql/img/DaniloIA_ERD.png\" target=\"_blank\">hier</a> voor een overzicht van alle tabellen.</p>\n",
    "\n",
    "\n"
   ]
  },
  {
   "cell_type": "code",
   "execution_count": null,
   "id": "80744796",
   "metadata": {
    "vscode": {
     "languageId": "sql"
    }
   },
   "outputs": [],
   "source": []
  },
  {
   "cell_type": "markdown",
   "id": "e67bee16",
   "metadata": {},
   "source": [
    "### Verwerkingsopdracht 3.2.2: Geen 8 euro pizza's\n",
    "\n",
    "<table width=\"100%\"><tr><td style=\"text-align:left; vertical-align:top; font-size:1.25rem;\" width=\"65%\">\n",
    "Toon de <b>naam</b> en <b>basisprijs</b> van de pizza's die <b>niet</b> 8 euro kosten.\n",
    "</td><td width=\"35%\">\n",
    "    <table border=\"1\">\n",
    "  <thead>\n",
    "    <tr>\n",
    "      <th>naam</th>\n",
    "      <th>basisprijs</th>\n",
    "    </tr>\n",
    "  </thead>\n",
    "  <tbody>\n",
    "    <tr><td>Margherita</td><td>6</td></tr>\n",
    "    <tr><td>Napoletana</td><td>7.5</td></tr>\n",
    "    <tr><td>...</td><td>...</td></tr>\n",
    "    <tr><td>Della Casa</td><td>8.5</td></tr>\n",
    "    <tr><td>Specialità di Danilo</td><td>9.5</td></tr>\n",
    "    <tr><td>Combinazione</td><td>10.5</td></tr>\n",
    "  </tbody>\n",
    "</table>\n",
    "\n",
    "</td></tr></table>\n",
    "\n",
    "\n"
   ]
  },
  {
   "cell_type": "code",
   "execution_count": null,
   "id": "322f8d38",
   "metadata": {
    "vscode": {
     "languageId": "sql"
    }
   },
   "outputs": [],
   "source": []
  }
 ],
 "metadata": {
  "language_info": {
   "name": "python"
  }
 },
 "nbformat": 4,
 "nbformat_minor": 5
}
