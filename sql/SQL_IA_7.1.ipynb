{
 "cells": [
  {
   "cell_type": "markdown",
   "id": "bafd11b8",
   "metadata": {},
   "source": [
    "## 7.1 Volgorde van commando's voor het ophalen van informatie\n",
    "<p>In dit onderwerp leer je twee nieuwe commando's: GROUP BY en HAVING.</p>\n",
    "<p>Er zijn zeven commando's die je kunt gebruiken om informatie uit een database op te halen. De commando’s zijn:</p>\n",
    "\n",
    "\n",
    "<p><img\n",
    "src=\"https://raw.githubusercontent.com/rweeda/PythonIA/main/sql/img/H1_commandos.png\"\n",
    "alt=\"Commando's voor het ophalen van informatie\" width=\"250\"></p>\n",
    "\n",
    "<p>\n",
    "Je hoeft niet alle commando's te gebruiken, maar ze <b>moeten wel altijd in deze volgorde staan</b>.</p>\n"
   ]
  },
  {
   "cell_type": "markdown",
   "id": "63c3aca6",
   "metadata": {},
   "source": [
    "\n",
    "### Verwerkingsopdracht 7.1.1 Volgorde van onderdelen\n",
    "\n",
    "Zet de onderdelen van een SQL-query in de juiste volgorde:\n",
    "FROM – HAVING - ORDER BY – LIMIT - GROUP BY - SELECT – WHERE\n"
   ]
  }
 ],
 "metadata": {
  "language_info": {
   "name": "python"
  },
  "latex_config": {
   "mathjax_url": "https://cdn.jsdelivr.net/npm/mathjax@3/es5/tex-mml-chtml.js"
  }
 },
 "nbformat": 4,
 "nbformat_minor": 5
}
