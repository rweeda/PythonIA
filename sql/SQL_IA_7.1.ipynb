{
 "cells": [
  {
   "cell_type": "markdown",
   "id": "bca7a4d4",
   "metadata": {},
   "source": [
    "## 7.1: Gegevens in een tabel invoeren\n",
    "\n",
    "<p>Met een <code>INSERT INTO... VALUES (...)</code>-query voeg je nieuwe gegevens toe aan een tabel.</p>\n",
    "\n",
    "<pre><code class=\"language-sql\">\n",
    "INSERT INTO tabelnaam \n",
    "VALUES (waarde1, waarde2, waarde3, ... );\n",
    "</code></pre>\n",
    "\n",
    "<ul>\n",
    "  <li>Achter <code>INSERT INTO</code> geef je de naam van de tabel aan.</li>\n",
    "  <li>Achter <code>VALUES</code> geef je tussen haakjes voor elke kolom afzonderlijk de gegevens die ingevuld moeten worden.</li>\n",
    "</ul>\n",
    "\n",
    "<p>Bij sommige tabellen wordt voor de primary key gebruik gemaakt van <code>AUTOINCREMENT</code>. Een kolom met <code>AUTOINCREMENT</code> betekent dat de database zelf een oplopend nummer verzint. Bijvoorbeeld: de eerste rij krijgt automatisch nummer 1, de volgende 2, enzovoort. Voor zo'n kolom hoef je dat nummer niet zelf in te vullen — in plaats daarvan geef je <code>NULL</code> op.</p>\n",
    "\n",
    "<p><strong>Let op:</strong></p>\n",
    "<ul>\n",
    "  <li>De volgorde van kolommen en waarden moet overeenkomen.</li>\n",
    "  <li>Tekst moet tussen aanhalingstekens staan. Bij getallen is dat niet nodig.</li>\n",
    "  <li>Bij een <code>AUTOINCREMENT</code> geef je <code>NULL</code> op, zodat automatisch wordt genummerd.</li>\n",
    "</ul>\n",
    "\n",
    "<p>Voorbeeld: Deze query voegt een nieuwe pizza toe aan de tabel <i>pizza</i>:</p>\n",
    "\n",
    "<pre><code class=\"language-sql\">\n",
    "INSERT INTO pizza \n",
    "VALUES (NULL, 'Pizza Hawaii', 'Ham en ananas', 8.50);\n",
    "</code></pre>\n",
    "\n",
    "<p>Toelichting:</p>\n",
    "<ul>\n",
    "  <li>Met <code>INSERT INTO</code> geven we aan dat we iets willen toevoegen aan de tabel <i>pizza</i>.</li>\n",
    "  <li>Met <code>VALUES</code> geven we aan welke gegevens in de tabel moeten worden opgeslagen.</li>\n",
    "  <li>Met <code>NULL</code> geven we aan dat het id-nummer automatisch gegenereerd wordt.</li>\n",
    "  <li>In de tweede kolom, <i>naam</i>, komt 'Pizza Hawaii' te staan.</li>\n",
    "  <li>In de derde kolom, <i>omschrijving</i>, komt 'Ham en ananas'.</li>\n",
    "  <li>In de vierde kolom, <i>basisprijs</i>, komt 8.50.</li>\n",
    "</ul>"
   ]
  },
  {
   "cell_type": "markdown",
   "id": "822271dd",
   "metadata": {},
   "source": [
    "\n",
    "### Verwerkingsopdracht 7.1.1 Pizza toevoegen en controleren\n",
    "\n",
    "<ol type=\"a\">\n",
    "  <li>Voer de code hierboven uit om een <i>Pizza Hawaii</i> toe te voegen aan de tabel <i>pizza</i>.</li>\n",
    "  <li>Controleer daarna of het is gelukt. Dit doe je met:</li>\n",
    "\n",
    "<pre><code class=\"language-sql\">\n",
    "SELECT *\n",
    "FROM pizza;\n",
    "</code></pre>\n",
    "</ol>"
   ]
  },
  {
   "cell_type": "code",
   "execution_count": null,
   "id": "bd1a78e8",
   "metadata": {
    "vscode": {
     "languageId": "sql"
    }
   },
   "outputs": [],
   "source": []
  },
  {
   "cell_type": "markdown",
   "id": "86a0b180",
   "metadata": {},
   "source": [
    "<p>Bekijk <a\n",
    "href=\"https://rweeda.github.io/PythonIA/docs/IA_sql_oplossingen.html#opgave711\"\n",
    "target=\"_blank\">hier</a> de voorbeelduitwerking.</p>\n",
    "\n",
    "<!--\n",
    "<ol type=\"a\">\n",
    "<pre><code class=\"language-sql\"> \n",
    "SELECT *\n",
    "FROM bodem\n",
    "</code></pre>\n",
    "<li>\n",
    "<pre><code class=\"language-sql\"> \n",
    "-- check:\n",
    "SELECT *\n",
    "FROM pizza;\n",
    "</code></pre>\n",
    "</ol>\n",
    "-->"
   ]
  },
  {
   "cell_type": "markdown",
   "id": "5e9cefaa",
   "metadata": {},
   "source": [
    "\n",
    "### Verwerkingsopdracht 7.1.2 Een nieuwe glutenvrije bodem\n",
    "\n",
    "<p>We gebruiken de tabel <i>bodem</i>. Deze bevat de kolommen:</p>\n",
    "<ul>\n",
    "  <li><b>bodemcode</b> (AUTOINCREMENT, hoef je niet zelf in te vullen)</li>\n",
    "  <li><b>omschrijving</b> (bijvoorbeeld \"Dunne bodem\")</li>\n",
    "  <li><b>plusprijs</b> (bijvoorbeeld 1.00)</li>\n",
    "</ul>\n",
    "\n",
    "<p>Welke van de volgende <code>INSERT INTO</code>-statements voegt correct een nieuwe bodem toe met omschrijving <b>Glutenvrij</b> en een toeslag van €1,50?</p>\n",
    "\n",
    "<ul type=\"A\">\n",
    "  <li>\n",
    "<pre><code class=\"language-sql\">\n",
    "INSERT INTO bodem (bodemcode, omschrijving, plusprijs)\n",
    "VALUES (5, \"Glutenvrij\", 1.50);\n",
    "</code></pre>\n",
    "  </li>\n",
    "  <li>\n",
    "<pre><code class=\"language-sql\">\n",
    "INSERT INTO bodem (omschrijving, plusprijs)\n",
    "VALUES (\"Glutenvrij\", 1.50);\n",
    "</code></pre>\n",
    "  </li>\n",
    "  <li>\n",
    "<pre><code class=\"language-sql\">\n",
    "INSERT INTO bodem\n",
    "VALUES (\"Glutenvrij\", 1.50);\n",
    "</code></pre>\n",
    "  </li>\n",
    "  <li>\n",
    "<pre><code class=\"language-sql\">\n",
    "INSERT INTO bodem (omschrijving, plusprijs)\n",
    "VALUES (Glutenvrij, €1,50);\n",
    "</code></pre>\n",
    "  </li>\n",
    "</ul>"
   ]
  },
  {
   "cell_type": "code",
   "execution_count": null,
   "id": "57425029",
   "metadata": {
    "vscode": {
     "languageId": "sql"
    }
   },
   "outputs": [],
   "source": []
  },
  {
   "cell_type": "markdown",
   "id": "aa1d0a1e",
   "metadata": {},
   "source": [
    "<p>Bekijk de <a href=\"https://rweeda.github.io/PythonIA/docs/IA_sql_oplossingen.html#opgave712\" target=\"_blank\">voorbeelduitwerking</a>.</p>\n"
   ]
  },
  {
   "cell_type": "markdown",
   "id": "bded00bc",
   "metadata": {},
   "source": [
    "### Verwerkingsopdracht 7.1.3 Pan-bodem toevoegen\n",
    "\n",
    "<p>Gebruik de tabel <i>bodem</i>. Deze bevat de kolommen:</p>\n",
    "<ul>\n",
    "  <li><b>bodemcode</b> (AUTOINCREMENT)</li>\n",
    "  <li><b>omschrijving</b></li>\n",
    "  <li><b>plusprijs</b></li>\n",
    "</ul>\n",
    "\n",
    "<ol type=\"a\">\n",
    "  <li>Voeg een nieuwe dikke bodem toe met de omschrijving \"Pan\" en een toeslag van €2,00.</li>\n",
    "  <li>Controleer daarna of het gelukt is. Dit doe je met:</li>\n",
    "</ol>\n",
    "\n",
    "<pre><code class=\"language-sql\">\n",
    "SELECT *\n",
    "FROM bodem;\n",
    "</code></pre>\n"
   ]
  },
  {
   "cell_type": "code",
   "execution_count": null,
   "id": "bc9bec2b",
   "metadata": {
    "vscode": {
     "languageId": "sql"
    }
   },
   "outputs": [],
   "source": []
  },
  {
   "cell_type": "markdown",
   "id": "b1c57136",
   "metadata": {},
   "source": [
    "<p>Bekijk de <a href=\"https://rweeda.github.io/PythonIA/docs/IA_sql_oplossingen.html#opgave713\" target=\"_blank\">voorbeelduitwerking</a>.</p>\n",
    "\n",
    "\n",
    "<!--\n",
    "<pre><code class=\"language-sql\"> \n",
    "INSERT INTO bodem (bodemcode, omschrijving, plusprijs)\n",
    "VALUES (NULL, \"Pan\", 2.00);\n",
    "\n",
    "\n",
    "-- check:\n",
    "SELECT *\n",
    "FROM bodem;\n",
    "</code></pre>\n",
    "-->"
   ]
  }
 ],
 "metadata": {
  "language_info": {
   "name": "python"
  }
 },
 "nbformat": 4,
 "nbformat_minor": 5
}
