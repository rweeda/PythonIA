{
 "cells": [
  {
   "cell_type": "markdown",
   "id": "e1c03ab8",
   "metadata": {},
   "source": [
    "## 6.7: Tabel aanpassen – Kolom hernoemen\n",
    "\n",
    "<p>Met <code>ALTER TABLE ... RENAME COLUMN</code> kun je een bestaande kolom een nieuwe naam geven.</p>\n",
    "\n",
    "<pre><code class=\"language-sql\">ALTER TABLE tabelnaam\n",
    "RENAME COLUMN oude_kolomnaam TO nieuwe_kolomnaam;\n",
    "</code></pre>\n",
    "\n",
    "Toelichting:\n",
    "<ul>\n",
    "  <li>Achter <code>ALTER TABLE</code> geef je de naam van de tabel op.</li>\n",
    "  <li>Met <code>RENAME COLUMN</code> geef je eerst de kolom de kolom op die je wilt hernoemen, en na de <code>TO</code> de nieuwe kolomnaam.</li>\n",
    "</ul>\n",
    "\n",
    "\n",
    "\n",
    "<hr>\n",
    "<p><b>Voorbeeld</b>. Deze query hernoemt de kolom <b>plusprijs</b> naar <b>toeslag</b> in de tabel <i>bodem</i>:</p>\n",
    "<pre><code class=\"language-sql\">ALTER TABLE bodem\n",
    "RENAME COLUMN plusprijs TO toeslag;\n",
    "</code></pre>\n"
   ]
  },
  {
   "cell_type": "markdown",
   "id": "46737e31",
   "metadata": {},
   "source": [
    "\n",
    "### Verwerkingsopdracht 6.7.1 Kolom <b>naam</b> hernoemen naar <b>klantnaam</b>\n",
    "\n",
    "<p>Hernoem de kolom <b>naam</b> naar <b>klantnaam</b> in de tabel <i>klant</i>. Controleer daarna of het gelukt is.</p>\n",
    "\n"
   ]
  },
  {
   "cell_type": "code",
   "execution_count": null,
   "id": "d3da7346",
   "metadata": {
    "vscode": {
     "languageId": "sql"
    }
   },
   "outputs": [],
   "source": [
    "-- hernoem kolom"
   ]
  },
  {
   "cell_type": "code",
   "execution_count": null,
   "id": "42cc3889",
   "metadata": {
    "vscode": {
     "languageId": "sql"
    }
   },
   "outputs": [],
   "source": [
    "-- controleer of de aanpassing gelukt is\n",
    "SELECT *\n",
    "FROM klant;"
   ]
  }
 ],
 "metadata": {
  "language_info": {
   "name": "python"
  },
  "latex_config": {
   "mathjax_url": "https://cdn.jsdelivr.net/npm/mathjax@3/es5/tex-mml-chtml.js"
  }
 },
 "nbformat": 4,
 "nbformat_minor": 5
}
