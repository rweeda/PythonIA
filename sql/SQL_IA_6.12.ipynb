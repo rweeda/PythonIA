{
 "cells": [
  {
   "cell_type": "markdown",
   "id": "fe171c46",
   "metadata": {},
   "source": [
    "## 6.12: Samenvatting\n",
    "\n",
    "<ul> \n",
    "<li>..</li>\n",
    "</ul>\n",
    "\n"
   ]
  }
 ],
 "metadata": {
  "language_info": {
   "name": "python"
  }
 },
 "nbformat": 4,
 "nbformat_minor": 5
}
