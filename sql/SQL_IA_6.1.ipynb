{
 "cells": [
  {
   "cell_type": "markdown",
   "id": "bca7a4d4",
   "metadata": {},
   "source": [
    "## 6.1: Gegevens in een tabel invoeren\n",
    "\n",
    "<p>Met een <code>INSERT INTO... VALUES (...)</code>-query voeg je nieuwe gegevens toe aan een tabel.</p>\n",
    "\n",
    "<pre><code class=\"language-sql\">INSERT INTO tabelnaam \n",
    "VALUES (waarde1, waarde2, waarde3, ... );\n",
    "</code></pre>\n",
    "Toelichting:\n",
    "<ul>\n",
    "  <li>Achter <code>INSERT INTO</code> geef je de naam van de tabel aan.</li>\n",
    "  <li>Achter <code>VALUES</code> geef je tussen haakjes voor elke kolom afzonderlijk de gegevens die ingevuld moeten worden.</li>\n",
    "</ul>\n",
    "\n",
    "<p>Bij sommige tabellen wordt voor de primary key gebruikgemaakt van <code>AUTOINCREMENT</code>. Een kolom met <code>AUTOINCREMENT</code> betekent dat de database zelf een oplopend nummer verzint. Bijvoorbeeld: de eerste rij krijgt automatisch nummer 1, de volgende 2, enzovoort. Voor zo'n kolom hoef je dat nummer niet zelf in te vullen — in plaats daarvan geef je <code>NULL</code> op.</p>\n",
    "\n",
    "<p><strong>Let op:</strong></p>\n",
    "<ul>\n",
    "  <li>De volgorde van kolommen en waarden moet overeenkomen.</li>\n",
    "  <li>Tekst moet tussen aanhalingstekens staan. Bij getallen is dat niet nodig.</li>\n",
    "  <li>Bij een <code>AUTOINCREMENT</code> geef je <code>NULL</code> op, zodat automatisch wordt genummerd.</li>\n",
    "</ul>\n",
    "\n",
    "<hr>\n",
    "<p><b>Voorbeeld</b></p>\n",
    "\n",
    "<table width=\"100%\"><tr><td style=\"text-align:left; vertical-align:top; font-size:1.25rem;\" width=\"60%\">\n",
    "<p>Deze query voegt een nieuwe pizza toe aan de tabel <i>pizza</i>:</p>\n",
    "\n",
    "\n",
    "<pre><code class=\"language-sql\">INSERT INTO pizza \n",
    "VALUES (NULL, 'Pizza Hawaii', 'Ham en ananas', 8.50);</code></pre>\n",
    "\n",
    "<p>Toelichting:</p>\n",
    "  <ul>\n",
    "    <li>Met <code>INSERT INTO</code> geven we aan dat we iets willen toevoegen aan de tabel <i>pizza</i>.</li>\n",
    "    <li>Met <code>VALUES</code> geven we aan welke gegevens in de tabel moeten worden opgeslagen.</li>\n",
    "    <li>In de eerste kolom geven we met <code>NULL</code> aan dat het id-nummer automatisch gegenereerd wordt.</li>\n",
    "    <li>In de tweede kolom, <b>naam</b>, komt 'Pizza Hawaii' te staan.</li>\n",
    "    <li>In de derde kolom, <b>omschrijving</b>, komt 'Ham en ananas'.</li>\n",
    "    <li>In de vierde kolom, <b>basisprijs</b>, komt 8.50.</li>\n",
    "  </ul>\n",
    "<td width=\"40%\">\n",
    "  <table border=\"1\" cellspacing=\"0\">\n",
    "    <thead>\n",
    "      <tr>\n",
    "        <th>pizzacode</th>\n",
    "        <th>naam</th>\n",
    "        <th>omschrijving</th>\n",
    "        <th>basisprijs</th>\n",
    "      </tr>\n",
    "    </thead>\n",
    "    <tbody>\n",
    "      <tr><td>1</td><td>Margherita</td><td>Tomaat, kaas en oregano</td><td>6</td></tr>\n",
    "      <tr><td>2</td><td>Napoletana</td><td>Tomaat, kaas, ansjovis, olijven, kappertjes en oregano</td><td>7.5</td></tr>\n",
    "      <tr><td>3</td><td>Prosciutto</td><td>Tomaat, kaas, ham en oregano</td><td>7.5</td></tr>\n",
    "      <tr><td>...</td><td>...</td><td>...</td><td>...</td></tr>\n",
    "      <tr><td>36</td><td>Combinazione</td><td>Eigen keuze pizza</td><td>10.5</td></tr>\n",
    "      <tr><td>37</td><td>Pizza Hawaii</td><td>Ham en ananas</td><td>8.5</td></tr>\n",
    "    </tbody>\n",
    "  </table>\n",
    "</td></tr></table>"
   ]
  },
  {
   "cell_type": "markdown",
   "id": "822271dd",
   "metadata": {},
   "source": [
    "\n",
    "### Verwerkingsopdracht 6.1.1 Pizza toevoegen en controleren\n",
    "\n",
    "<table border = 0>\n",
    "<tr><td>\n",
    "<ol type=\"a\">\n",
    "  <li>Voer de code hieronder uit om een 'Pizza Hawaii' toe te voegen aan de tabel <i>pizza</i>.</li>\n",
    "  <li>Controleer daarna of het is gelukt. Dit doe je met:<pre><code class=\"language-sql\">SELECT *\n",
    "FROM pizza;</code></pre>\n",
    "</li>\n",
    "</ol>\n",
    "<p>Klik <a href=\"https://raw.githubusercontent.com/rweeda/PythonIA/main/sql/img/DaniloIA_ERD.png\" target=\"_blank\">hier</a> voor een overzicht van alle tabellen.</p>\n",
    "\n",
    "</td><td>\n",
    "<img src=\"https://raw.githubusercontent.com/rweeda/PythonIA/main/sql/img/pizza_hawaii.jpg\" width=\"200\">\n",
    "</td></tr>\n",
    "</table>"
   ]
  },
  {
   "cell_type": "code",
   "execution_count": null,
   "id": "bd1a78e8",
   "metadata": {
    "vscode": {
     "languageId": "sql"
    }
   },
   "outputs": [],
   "source": [
    "-- a) voeg de pizza toe\n",
    "INSERT INTO pizza \n",
    "VALUES (NULL, 'Pizza Hawaii', 'Ham en ananas', 8.50);"
   ]
  },
  {
   "cell_type": "code",
   "execution_count": null,
   "id": "0887c9b8",
   "metadata": {
    "vscode": {
     "languageId": "sql"
    }
   },
   "outputs": [],
   "source": [
    "-- b) controleer of de pizza is toegevoegd\n"
   ]
  },
  {
   "cell_type": "markdown",
   "id": "5e9cefaa",
   "metadata": {},
   "source": [
    "\n",
    "### Verwerkingsopdracht 6.1.2 Een nieuwe glutenvrije bodem\n",
    "\n",
    "\n",
    "\n",
    "<table width=\"100%\"><tr><td style=\"text-align:left; vertical-align:top; font-size:1.25rem;\" width=\"55%\">\n",
    "<p>\n",
    "Hiernaast zie de tabel <i>bodem</i> met de volgende kolommen:</p>\n",
    "<ul>\n",
    "  <li><b>bodemcode</b> (AUTOINCREMENT, hoef je niet zelf in te vullen)</li>\n",
    "  <li><b>omschrijving</b> (bijvoorbeeld \"Dunne bodem\")</li>\n",
    "  <li><b>plusprijs</b> (bijvoorbeeld 1.00)</li>\n",
    "</ul>\n",
    "\n",
    "\n",
    "</td><td width=\"45%\">\n",
    "Tabel: <i>bodem</i>\n",
    "<table border=\"1\" cellpadding=\"4\" cellspacing=\"0\">\n",
    "  <thead>\n",
    "    <tr>\n",
    "      <th>bodemcode</th>\n",
    "      <th>omschrijving</th>\n",
    "      <th>plusprijs</th>\n",
    "    </tr>\n",
    "  </thead>\n",
    "  <tbody>\n",
    "    <tr>\n",
    "      <td>1</td>\n",
    "      <td>Italian style</td>\n",
    "      <td>0</td>\n",
    "    </tr>\n",
    "    <tr>\n",
    "      <td>2</td>\n",
    "      <td>American style</td>\n",
    "      <td>0</td>\n",
    "    </tr>\n",
    "    <tr>\n",
    "      <td>3</td>\n",
    "      <td>Calzone</td>\n",
    "      <td>0</td>\n",
    "    </tr>\n",
    "    <tr>\n",
    "      <td>4</td>\n",
    "      <td>Glutenvrij</td>\n",
    "      <td>1</td>\n",
    "    </tr>\n",
    "  </tbody>\n",
    "</table>\n",
    "\n",
    "</td></tr></table>\n",
    "<p>Welke van de volgende INSERT INTO-statements voegt correct een nieuwe bodem toe met omschrijving <b>Glutenvrij</b> en een toeslag van €1,50?</p> \n",
    "<ol type=\"a\">\n",
    "<li><pre><code class=\"language-sql\">INSERT INTO bodem (bodemcode, omschrijving, plusprijs)\n",
    "VALUES (5, \"Glutenvrij\", 1.50);\n",
    "</code></pre>\n",
    "\n",
    "<li><pre><code class=\"language-sql\">INSERT INTO bodem (omschrijving, plusprijs)\n",
    "VALUES (\"Glutenvrij\", 1.50);\n",
    "</code></pre>\n",
    "  \n",
    "  \n",
    "<li><pre><code class=\"language-sql\">INSERT INTO bodem\n",
    "VALUES (\"Glutenvrij\", 1.50);\n",
    "</code></pre>\n",
    "  \n",
    "<li><pre><code class=\"language-sql\">INSERT INTO bodem (omschrijving, plusprijs)\n",
    "VALUES (Glutenvrij, €1,50);\n",
    "</code></pre>\n",
    "</ol>"
   ]
  },
  {
   "cell_type": "markdown",
   "id": "bded00bc",
   "metadata": {},
   "source": [
    "### Verwerkingsopdracht 6.1.3 XXL formaat toevoegen\n",
    "<ol type=\"a\">\n",
    "  <li>Voeg een nieuw <b>formaat</b> toe met de omschrijving \"XXL\" en een toeslag van €2,00. Gebruik de tabel <i>formaat</i>. Deze bevat de kolommen:\n",
    "<ul>\n",
    "  <li><b>formaatcode</b> (AUTOINCREMENT)</li>\n",
    "  <li><b>omschrijving</b></li>\n",
    "  <li><b>plusprijs</b></li>\n",
    "</ul>\n",
    "<p>Klik <a href=\"https://raw.githubusercontent.com/rweeda/PythonIA/main/sql/img/DaniloIA_ERD.png\" target=\"_blank\">hier</a> voor een overzicht van alle tabellen.</p>\n",
    "</li>\n",
    "  <li>Controleer daarna of het gelukt is. Dit doe je met:<pre><code class=\"language-sql\">SELECT *\n",
    "FROM formaat;\n",
    "</code></pre></li>\n",
    "</ol>\n",
    "\n"
   ]
  },
  {
   "cell_type": "code",
   "execution_count": null,
   "id": "bc9bec2b",
   "metadata": {
    "vscode": {
     "languageId": "sql"
    }
   },
   "outputs": [],
   "source": [
    "-- a) voeg hier een nieuw formaat toe"
   ]
  },
  {
   "cell_type": "code",
   "execution_count": null,
   "id": "0ed4f4b8",
   "metadata": {
    "vscode": {
     "languageId": "sql"
    }
   },
   "outputs": [],
   "source": [
    "-- b) controleer of de tabel is aangepast\n",
    "SELECT *\n",
    "FROM formaat;"
   ]
  }
 ],
 "metadata": {
  "language_info": {
   "name": "python"
  }
 },
 "nbformat": 4,
 "nbformat_minor": 5
}
