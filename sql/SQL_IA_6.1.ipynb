{
 "cells": [
  {
   "cell_type": "markdown",
   "id": "bafd11b8",
   "metadata": {},
   "source": [
    "## 6.1 Volgorde van commando's voor het ophalen van informatie\n",
    "<p>In dit onderwerp leer je twee nieuwe commando's: GROUP BY en HAVING.</p>\n",
    "<p>Er zijn zeven commando's die je kunt gebruiken om informatie uit een database op te halen. De commando’s zijn:</p>\n",
    "\n",
    "\n",
    "<p><img\n",
    "src=\"https://raw.githubusercontent.com/rweeda/PythonIA/main/sql/img/H1_commandos.png\"\n",
    "alt=\"Commando's voor het ophalen van informatie\" width=\"250\"></p>\n",
    "\n",
    "<p>\n",
    "Je hoeft niet alle commando's te gebruiken, maar ze <b>moeten wel altijd in deze volgorde staan</b>.</p>\n"
   ]
  },
  {
   "cell_type": "markdown",
   "id": "63c3aca6",
   "metadata": {},
   "source": [
    "\n",
    "### Verwerkingsopdracht 6.1.1 Volgorde van onderdelen\n",
    "\n",
    "Zet de onderdelen van een SQL-query in de juiste volgorde:\n",
    "FROM – HAVING - ORDER BY – LIMIT - GROUP BY - SELECT – WHERE\n",
    "\n",
    "<p>Bekijk <a href=\"https://rweeda.github.io/PythonIA/docs/IA_sql_oplossingen.html#opgave611\" target=\"_blank\">hier</a> de voorbeelduitwerking.</p>\n",
    "<!-- ANTWOORD:\n",
    "SELECT\n",
    "FROM\n",
    "WHERE\n",
    "ORDER BY\n",
    "LIMIT\n",
    "-->"
   ]
  }
 ],
 "metadata": {
  "language_info": {
   "name": "python"
  }
 },
 "nbformat": 4,
 "nbformat_minor": 5
}
