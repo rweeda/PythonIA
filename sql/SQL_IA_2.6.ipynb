{
 "cells": [
  {
   "cell_type": "markdown",
   "id": "4f72f4dc",
   "metadata": {},
   "source": [
    "## 2.6: Kennismaken met de andere tabellen\n",
    "\n",
    "\n",
    "<p>De database van Danilo's Pizzeria bestaat uit meer tabellen dan alleen\n",
    "<i>pizza</i>. Er wordt ook bijvoorbeeld informatie opgeslagen over\n",
    "klanten, bezorgers en bestellingen. In de afbeelding hieronder zie je alle 7\n",
    "tabellen.</p>\n",
    "\n",
    "\n",
    "<p> <a\n",
    "href=\"https://raw.githubusercontent.com/rweeda/PythonIA/main/sql/img/DaniloIA_ERD.png\"\n",
    "target=\"_blank\">\n",
    "  <img src=\"https://raw.githubusercontent.com/rweeda/PythonIA/main/sql/img/DaniloIA_ERD.png\" alt=\"Klik om in een nieuw venster te openen\" width=\"1000\"/>\n",
    "</a></p>\n",
    "\n",
    "\n",
    "\n",
    "### Opdracht 2.6.1 Alle gegevens uit tabel <i>bezorger</i> tonen\n",
    "<table>\n",
    "  <tr><td style=\"text-align:left; vertical-align:top; font-size:1.25rem;\" width=\"65%\">\n",
    "<p>Toon alle gegevens\n",
    "uit tabel <i>bezorger</i>, zoals in het voorbeeld hiernaast.\n",
    "</td><td width=\"35%\">\n",
    "<table border=\"1\">\n",
    "    <thead>\n",
    "      <tr>\n",
    "        <th>bezorgernummer</th>\n",
    "        <th>wachtwoord</th>\n",
    "        <th>naam</th>\n",
    "        <th>gebdatum</th>\n",
    "        <th>telefoon</th>\n",
    "      </tr>\n",
    "    </thead>\n",
    "    <tbody>\n",
    "      <tr>\n",
    "        <td>0</td>\n",
    "        <td>Aardbei</td>\n",
    "        <td>Afhalen</td>\n",
    "        <td>2021-12-01</td>\n",
    "        <td>02X-2675125</td>\n",
    "      </tr>\n",
    "      <tr>\n",
    "        <td>1</td>\n",
    "        <td>0nbekend</td>\n",
    "        <td>Ageeth Mooy</td>\n",
    "        <td>1994-02-02</td>\n",
    "        <td>06-73X37362</td>\n",
    "      </tr>\n",
    "      <tr>\n",
    "        <td>2</td>\n",
    "        <td>I234S67B9</td>\n",
    "        <td>Eric Henze</td>\n",
    "        <td>1994-01-04</td>\n",
    "        <td>06-X4226714</td>\n",
    "      </tr>\n",
    "      <tr>\n",
    "        <td>3</td>\n",
    "        <td>Kwertie</td>\n",
    "        <td>Han Fröling</td>\n",
    "        <td>1994-04-17</td>\n",
    "        <td>06-6X702511</td>\n",
    "      </tr>\n",
    "      <tr>\n",
    "        <td>...</td>\n",
    "        <td>...</td>\n",
    "        <td>...</td>\n",
    "        <td>...</td>\n",
    "        <td>...</td>\n",
    "      </tr>\n",
    "    </tbody>\n",
    "</table>\n",
    "\n",
    "</td>\n",
    "</tr>\n",
    "</table>\n",
    "\n",
    "<p>Klik <a href=\"https://raw.githubusercontent.com/rweeda/PythonIA/main/sql/img/DaniloIA_ERD.png\" target=\"_blank\">hier</a> voor een overzicht van alle tabellen.</p>"
   ]
  },
  {
   "cell_type": "code",
   "execution_count": null,
   "id": "83b165c3",
   "metadata": {
    "vscode": {
     "languageId": "sql"
    }
   },
   "outputs": [],
   "source": []
  },
  {
   "cell_type": "markdown",
   "id": "59e61f2e",
   "metadata": {},
   "source": [
    "\n",
    "### Opdracht 2.6.2 Wachtwoord van bezorgers tonen\n",
    "<table width=\"100%\">\n",
    "  <tr><td style=\"text-align:left; vertical-align:top; font-size:1.25rem;\" width=\"65%\">\n",
    "      Toon alle <b>wachtwoord</b>en van de\n",
    "      bezorgers.\n",
    "      Tips: <ul> <li>De gegevens komen uit tabel <i>bezorger</i>,</li> <li>toon\n",
    "eerst alle kolommen, en kies dan welk kolom je nodig hebt.</li> </ul>\n",
    "      </td>\n",
    "          <td width=\"35%\">\n",
    "      <table border=\"1\">\n",
    "        <thead>\n",
    "          <tr>\n",
    "            <th>wachtwoord</th>\n",
    "          </tr>\n",
    "        </thead>\n",
    "        <tbody>\n",
    "          <tr><td>Aardbei</td></tr>\n",
    "          <tr><td>0nbekend</td></tr>\n",
    "          <tr><td>I234S67B9</td></tr>\n",
    "          <tr><td>Kwertie</td></tr>\n",
    "          <tr><td>...</td></tr>\n",
    "        </tbody>\n",
    "      </table>\n",
    "    </td>\n",
    "  </tr>\n",
    "</table>\n",
    "\n",
    "<p>Klik <a href=\"https://raw.githubusercontent.com/rweeda/PythonIA/main/sql/img/DaniloIA_ERD.png\" target=\"_blank\">hier</a> voor een overzicht van alle tabellen.</p>"
   ]
  },
  {
   "cell_type": "code",
   "execution_count": null,
   "id": "335cbcfe",
   "metadata": {
    "vscode": {
     "languageId": "sql"
    }
   },
   "outputs": [],
   "source": []
  },
  {
   "cell_type": "markdown",
   "id": "d7b0a2e6",
   "metadata": {},
   "source": [
    "\n",
    "### Opdracht 2.6.3 Verjaardagen van bezorgers tonen\n",
    "\n",
    "<table>\n",
    "  <tr><td style=\"text-align:left; vertical-align:top; font-size:1.25rem;\" width=\"65%\">\n",
    "  Toon de <b>naam</b> en geboortedatum (<b>gebdatum</b>) van alle bezorgers. Let er op dat je de kolommen noemt zoals in het voorbeeld.</p> \n",
    "</td><td width=\"35%\">\n",
    "<table border=\"1\">\n",
    "  <thead>\n",
    "    <tr>\n",
    "      <th>naam</th>\n",
    "      <th>geboortedatum</th>\n",
    "    </tr>\n",
    "  </thead>\n",
    "    <tbody>\n",
    " <tr><td>Afhalen</td><td>2021-12-01</td></tr>\n",
    "      <tr><td>Ageeth Mooy</td><td>1994-02-02</td></tr>\n",
    "      <tr><td>Eric Henze</td><td>1994-01-04</td></tr>\n",
    "      <tr><td>Han Fröling</td><td>1994-04-17</td></tr>\n",
    "      <tr><td>Hans Boonstra</td><td>1995-09-18</td></tr>\n",
    "      <tr><td>...</td><td>...</td></tr>\n",
    "    </tbody>\n",
    "\n",
    "</table>\n",
    "</td></tr></table>\n",
    "\n",
    "<p>Klik <a href=\"https://raw.githubusercontent.com/rweeda/PythonIA/main/sql/img/DaniloIA_ERD.png\" target=\"_blank\">hier</a> voor een overzicht van alle tabellen.</p>\n"
   ]
  },
  {
   "cell_type": "code",
   "execution_count": null,
   "id": "317f4762",
   "metadata": {
    "vscode": {
     "languageId": "sql"
    }
   },
   "outputs": [],
   "source": []
  },
  {
   "cell_type": "markdown",
   "id": "6bf78e74",
   "metadata": {},
   "source": []
  },
  {
   "cell_type": "code",
   "execution_count": null,
   "id": "1c06738d",
   "metadata": {
    "vscode": {
     "languageId": "sql"
    }
   },
   "outputs": [],
   "source": []
  }
 ],
 "metadata": {
  "language_info": {
   "name": "python"
  },
  "latex_config": {
   "mathjax_url": "https://cdn.jsdelivr.net/npm/mathjax@3/es5/tex-mml-chtml.js"
  }
 },
 "nbformat": 4,
 "nbformat_minor": 5
}
