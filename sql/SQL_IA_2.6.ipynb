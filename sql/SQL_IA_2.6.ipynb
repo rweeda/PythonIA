{
 "cells": [
  {
   "cell_type": "markdown",
   "id": "05f0c2f0",
   "metadata": {},
   "source": [
    "\n",
    "## 2.6: Kennis maken met de andere tabellen\n",
    "\n",
    "\n",
    "<p>Danilo's pizzeria database bestaat uit meer tabellen dan alleen pizza's. Er wordt ook bijvoorbeeld ook informatie opgeslagen over klanten, berzorgers en bestellingen. In de afbeelding hieronder zie je alle 7 tabellen.</p>\n",
    "\n",
    "\n",
    "<p>\n",
    "<a href=\"https://raw.githubusercontent.com/rweeda/PythonIA/main/sql/img/DaniloIA_ERD.png\" target=\"_blank\">\n",
    "  <img src=\"https://raw.githubusercontent.com/rweeda/PythonIA/main/sql/img/DaniloIA_ERD.png\" alt=\"Klik om in een nieuw venster te openen\" width=\"1000\"/>\n",
    "</a></p>\n"
   ]
  },
  {
   "cell_type": "markdown",
   "id": "03fb2fb9",
   "metadata": {},
   "source": [
    "\n",
    "### Opdracht 2.5 Alle gegevens uit tabel <i>klant</i>\n",
    "<p>Toon alle gegevens uit tabel <i>klant</i>.\n",
    "\n"
   ]
  },
  {
   "cell_type": "code",
   "execution_count": null,
   "id": "1ca4d116",
   "metadata": {
    "vscode": {
     "languageId": "sql"
    }
   },
   "outputs": [],
   "source": []
  },
  {
   "cell_type": "markdown",
   "id": "03990f0a",
   "metadata": {},
   "source": [
    "\n",
    "<p>Bekijk <a href=\"https://rweeda.github.io/PythonIA/docs/IA_sql_oplossingen.html#opgave25\" target=\"_blank\">hier</a> de voorbeelduitwerking.</p>\n",
    "\n",
    "<!-- ANTWOORD:\n",
    "<pre><code class=\"language-sql\">\n",
    "SELECT *\n",
    "FROM klant;\n",
    "</code></pre>\n",
    "-->"
   ]
  },
  {
   "cell_type": "markdown",
   "id": "702f8542",
   "metadata": {},
   "source": [
    "\n",
    "### Opdracht 2.6 Alle klanten uit Enschede\n",
    "\n",
    "<p>Toon het adres, de postcode en de plaats van alle klanten die in Enschede wonen, zoals hieronder. Tip: de gegevens komen uit tabel <i>klant</i>.</p>\n",
    "\n",
    "| adres              | postcode | woonplaats    |\n",
    "|--------------------|----------|-----------|\n",
    "| Gladioolstraat 11  | 3742TC   | Enschede  |\n",
    "| Banckertlaan 7     | 3742MG   | Enschede  |\n",
    "| Talmalaan 11       | 3741TX   | Enschede  |\n",
    "| Krugerlaan 9       | 3743CJ   | Enschede  |\n",
    "| Zandvoortweg 199   | 3741BE   | Enschede  |\n",
    "\n",
    "\n",
    "\n"
   ]
  },
  {
   "cell_type": "code",
   "execution_count": null,
   "id": "c7f44733",
   "metadata": {
    "vscode": {
     "languageId": "sql"
    }
   },
   "outputs": [],
   "source": []
  },
  {
   "cell_type": "markdown",
   "id": "7045bce9",
   "metadata": {},
   "source": [
    "\n",
    "\n",
    "<p>Bekijk <a href=\"https://rweeda.github.io/PythonIA/docs/IA_sql_oplossingen.html#opgave26\" target=\"_blank\">hier</a> de voorbeelduitwerking.</p>\n",
    "\n",
    "<!-- ANTWOORD:\n",
    "<pre><code class=\"language-sql\">\n",
    "SELECT adres, postcode, woonplaats\n",
    "FROM klant\n",
    "WHERE plaats='Enschede';\n",
    "</code></pre>\n",
    "-->\n"
   ]
  },
  {
   "cell_type": "markdown",
   "id": "f9e80d83",
   "metadata": {},
   "source": [
    "\n",
    "### Opdracht 2.7 Wachtwoord van Ronald\n",
    "Toon het wachtwoord van de bezorger met de naam Ronald Marbus, zoals hieronder.<br>\n",
    "\n",
    "\n",
    "| wachtwoord  |\n",
    "|-------------|\n",
    "| R0nalt      |\n",
    "\n",
    "\n",
    "Tips:\n",
    "<ul>\n",
    "<li>de gegevens komen uit tabel <i>bezorger</i>,</li>\n",
    "<li>toon eerst alle kolommen, en kies dan welk kolom je nodig hebt.</li>\n",
    "</ul>\n",
    "\n",
    "\n"
   ]
  },
  {
   "cell_type": "code",
   "execution_count": null,
   "id": "123a1598",
   "metadata": {
    "vscode": {
     "languageId": "sql"
    }
   },
   "outputs": [],
   "source": []
  },
  {
   "cell_type": "markdown",
   "id": "4916f09f",
   "metadata": {},
   "source": [
    "\n",
    "\n",
    "<p>Bekijk <a href=\"https://rweeda.github.io/PythonIA/docs/IA_sql_oplossingen.html#opgave27\" target=\"_blank\">hier</a> de voorbeelduitwerking.</p>\n",
    "\n",
    "<!-- ANTWOORD:\n",
    "<pre><code class=\"language-sql\">\n",
    "SELECT wachtwoord\n",
    "FROM bezorger\n",
    "WHERE naam = 'Ronald Marbus';\n",
    "WHERE plaats='Enschede';\n",
    "</code></pre>\n",
    "-->\n"
   ]
  },
  {
   "cell_type": "markdown",
   "id": "97f88da9",
   "metadata": {},
   "source": [
    "### Opdracht 2.8 Fout in query voor goedkope pizza's\n",
    "Piet wil een overzicht van alle pizza's die minder dan 7 euro kosten. Wat is de fout in deze query? Los die op.\n"
   ]
  },
  {
   "cell_type": "code",
   "execution_count": null,
   "id": "8a6c64ed",
   "metadata": {
    "vscode": {
     "languageId": "sql"
    }
   },
   "outputs": [],
   "source": [
    "SELECT naam basisprijs < 7.0 FROM WHERE pizza;"
   ]
  },
  {
   "cell_type": "markdown",
   "id": "fcfbd952",
   "metadata": {},
   "source": [
    "<p>Bekijk <a href=\"https://rweeda.github.io/PythonIA/docs/IA_sql_oplossingen.html#opgave28\" target=\"_blank\">hier</a> de voorbeelduitwerking.</p>\n",
    "\n",
    "\n",
    "<!-- ANTWOORD:\n",
    "<pre><code class=\"language-sql\">\n",
    "SELECT naam \n",
    "FROM pizza\n",
    "WHERE basispijs < 7.0;\n",
    "</code></pre>\n",
    "-->"
   ]
  }
 ],
 "metadata": {
  "language_info": {
   "name": "python"
  }
 },
 "nbformat": 4,
 "nbformat_minor": 5
}
