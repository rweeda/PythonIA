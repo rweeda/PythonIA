{
 "cells": [
  {
   "cell_type": "markdown",
   "id": "bafd11b8",
   "metadata": {},
   "source": [
    "## 6.2: Gegevens uit een tabel verwijderen\n",
    "\n",
    "<p>Met <code>DELETE FROM</code> kun je een of meerdere rijen verwijderen uit een tabel:\n",
    "<pre><code class=\"language-sql\">DELETE FROM tabelnaam\n",
    "WHERE voorwaarde;\n",
    "</code></pre>\n",
    "Toelichting:\n",
    "<ul>\n",
    "  <li>Achter <code>DELETE FROM</code> geef je de naam van de tabel aan.</li>\n",
    "  <li>Met <code>WHERE</code> geef je aan welke rij(en) je wilt verwijderen. Gebruik hier bij voorkeur de <b>primary key</b>.</li>\n",
    "  <li>Let op: Als je geen <code>WHERE</code> gebruikt, worden <i>alle</i> rijen uit de tabel verwijderd!</li>\n",
    "</ul>\n",
    "\n",
    "<hr>\n",
    "<p><b>Voorbeeld</b>. Deze query verwijdert de rij uit de tabel <i>pizza</i> waarbij de <b>pizzacode</b> gelijk is aan 3:</p>\n",
    "<pre><code class=\"language-sql\">DELETE FROM pizza\n",
    "WHERE pizzacode = 3;\n",
    "</code></pre>"
   ]
  },
  {
   "cell_type": "markdown",
   "id": "64bf8ea8",
   "metadata": {},
   "source": [
    "### Verwerkingsopdracht 6.2.1 Pizza verwijderen en controleren\n",
    "<p>Bekijk de twee blokken code hieronder om deze opdracht te maken.</p>\n",
    "<p>\n",
    "a. Toon een tabel van alle pizza's.\n",
    "<br><br>\n",
    "b. Voer de code hierboven uit waarmee de pizza met <b>pizzacode</b> 3 wordt verwijderd uit de tabel <i>pizza</i>.\n",
    "<br><br>\n",
    "c. Controleer daarna of het is gelukt met <code>SELECT *</code>.\n",
    "</p>\n"
   ]
  },
  {
   "cell_type": "code",
   "execution_count": null,
   "id": "cc287108",
   "metadata": {
    "vscode": {
     "languageId": "sql"
    }
   },
   "outputs": [],
   "source": [
    "-- a. toon alle pizza's\n",
    "SELECT *\n",
    "FROM pizza;"
   ]
  },
  {
   "cell_type": "code",
   "execution_count": null,
   "id": "dd3ebcf0",
   "metadata": {
    "vscode": {
     "languageId": "sql"
    }
   },
   "outputs": [],
   "source": [
    "-- b. verwijder pizza 3\n",
    "DELETE FROM pizza\n",
    "WHERE pizzacode = 3;"
   ]
  },
  {
   "cell_type": "code",
   "execution_count": null,
   "id": "529df750",
   "metadata": {
    "vscode": {
     "languageId": "sql"
    }
   },
   "outputs": [],
   "source": [
    "-- c. controleer of het gelukt is\n",
    "SELECT *\n",
    "FROM pizza;"
   ]
  },
  {
   "cell_type": "markdown",
   "id": "8fb7766b",
   "metadata": {},
   "source": [
    "### Verwerkingsopdracht 6.2.2 Verwijder de Pazza pizza\n",
    "\n",
    "<p>Omdat deze nauwelijks besteld wordt, wil Danilo de \"Pazza\"-pizza van het menu halen.</p>\n",
    "<p>\n",
    "a. Schrijf in het eerst blok hieronder een query om deze pizza uit de tabel te verwijderen.\n",
    "<br><br>\n",
    "b. Controleer daarna, in het blok eronder of het gelukt is.\n",
    "</p>\n"
   ]
  },
  {
   "cell_type": "code",
   "execution_count": null,
   "id": "c7987be6",
   "metadata": {
    "vscode": {
     "languageId": "sql"
    }
   },
   "outputs": [],
   "source": [
    "-- a. verwijder de pizza"
   ]
  },
  {
   "cell_type": "code",
   "execution_count": null,
   "id": "a163972f",
   "metadata": {
    "vscode": {
     "languageId": "sql"
    }
   },
   "outputs": [],
   "source": [
    "-- b. controleer of de pizza is verwijderd\n",
    "SELECT *\n",
    "FROM pizza;"
   ]
  },
  {
   "cell_type": "markdown",
   "id": "413522dc",
   "metadata": {},
   "source": [
    "### Verwerkingsopdracht 6.2.3 Verwijder bestelling\n",
    "\n",
    "<p>Een klant heeft gebeld dat die toch wil afzien van zijn bestelling. Verwijder de bestelling uit tabel <i>bestelling</i> die geplaatst is door klantnummer <b>413</b> op datum <b>2021-12-01</b>.</p>\n",
    "<p>\n",
    "a. Schrijf in het eerst blok hieronder een query om deze bestelling uit de tabel te verwijderen.\n",
    "<br><br>\n",
    "b. Controleer daarna, in het blok eronder of het gelukt is.\n",
    "</p>\n"
   ]
  },
  {
   "cell_type": "code",
   "execution_count": null,
   "id": "bb42af3a",
   "metadata": {
    "vscode": {
     "languageId": "sql"
    }
   },
   "outputs": [],
   "source": [
    "-- a. verwijder bestelling"
   ]
  },
  {
   "cell_type": "code",
   "execution_count": null,
   "id": "fd1e3a95",
   "metadata": {
    "vscode": {
     "languageId": "sql"
    }
   },
   "outputs": [],
   "source": [
    "-- b. controleer of de bestelling is verwijderd\n",
    "SELECT *\n",
    "FROM bestelling;"
   ]
  }
 ],
 "metadata": {
  "kernelspec": {
   "display_name": "Python 3",
   "language": "python",
   "name": "python3"
  },
  "language_info": {
   "codemirror_mode": {
    "name": "ipython",
    "version": 3
   },
   "file_extension": ".py",
   "mimetype": "text/x-python",
   "name": "python",
   "nbconvert_exporter": "python",
   "pygments_lexer": "ipython3",
   "version": "3.13.2"
  },
  "latex_config": {
   "mathjax_url": "https://cdn.jsdelivr.net/npm/mathjax@3/es5/tex-mml-chtml.js"
  }
 },
 "nbformat": 4,
 "nbformat_minor": 5
}
