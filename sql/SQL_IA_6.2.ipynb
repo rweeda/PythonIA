{
 "cells": [
  {
   "cell_type": "markdown",
   "id": "bafd11b8",
   "metadata": {},
   "source": [
    "## 6.2: Gegevens uit een tabel verwijderen\n",
    "\n",
    "<p>Met DELETE FROM kun je een of meerdere rijen verwijderen uit een tabel:\n",
    "<pre><code class=\"language-sql\">\n",
    "DELETE FROM tabelnaam\n",
    "WHERE voorwaarde;\n",
    "</code></pre>\n",
    "\n",
    "<ul>\n",
    "  <li>Achter DELETE FROM geef je de naam van de tabel aan.</li>\n",
    "  <li>Met WHERE geef je aan welke rij(en) je wilt verwijderen. Gebruik hier bij voorkeur de <i>primary key</i>.</li>\n",
    "  <li>Let op: Als je geen WHERE gebruikt, worden <i>alle</i> rijen uit de tabel verwijderd!</li>\n",
    "</ul>\n",
    "\n",
    "<p>Voorbeeld: Deze query verwijdert de rij uit de tabel <i>pizza</i> waarbij de <b>pizzacode</b> gelijk is aan 1:</p>\n",
    "<pre><code class=\"language-sql\">\n",
    "DELETE FROM pizza\n",
    "WHERE pizzacode = 1;\n",
    "</code></pre>"
   ]
  },
  {
   "cell_type": "markdown",
   "id": "64bf8ea8",
   "metadata": {},
   "source": [
    "### Verwerkingsopdracht 6.2.1 Pizza verwijderen en controleren\n",
    "\n",
    "<ol type=\"a\">\n",
    "  <li>Voer de code hierboven uit waarmee de pizza met <i>pizzacode</i> 1 wordt verwijderd uit de tabel <i>pizza</i>.</li>\n",
    "  <li>Controleer daarna of het is gelukt met is met SELECT *.</li>\n",
    "</ol>"
   ]
  },
  {
   "cell_type": "code",
   "execution_count": null,
   "id": "dd3ebcf0",
   "metadata": {
    "vscode": {
     "languageId": "sql"
    }
   },
   "outputs": [],
   "source": [
    "DELETE FROM pizza\n",
    "WHERE pizzacode = 1;"
   ]
  },
  {
   "cell_type": "code",
   "execution_count": null,
   "id": "529df750",
   "metadata": {
    "vscode": {
     "languageId": "sql"
    }
   },
   "outputs": [],
   "source": [
    "SELECT *\n",
    "FROM pizza;"
   ]
  },
  {
   "cell_type": "markdown",
   "id": "8fb7766b",
   "metadata": {},
   "source": [
    "### Verwerkingsopdracht 6.2.2 Verwijder de Pazza pizza\n",
    "\n",
    "<p>Omdat deze nauwelijks besteld wordt, wil Danilo de \"Pazza\"-pizza van het menu halen.</p>\n",
    "\n",
    "<ol type=\"a\">\n",
    "  <li>Schrijf een query om deze pizza uit de tabel te verwijderen.</li>\n",
    "  <li>Controleer daarna, in het blok eronder, met SELECT * of het gelukt is.</li>\n",
    "</ol>\n"
   ]
  },
  {
   "cell_type": "code",
   "execution_count": null,
   "id": "c7987be6",
   "metadata": {
    "vscode": {
     "languageId": "sql"
    }
   },
   "outputs": [],
   "source": []
  },
  {
   "cell_type": "code",
   "execution_count": null,
   "id": "a163972f",
   "metadata": {
    "vscode": {
     "languageId": "sql"
    }
   },
   "outputs": [],
   "source": [
    "SELECT *\n",
    "FROM pizza;"
   ]
  },
  {
   "cell_type": "markdown",
   "id": "79d9cd53",
   "metadata": {},
   "source": [
    "\n",
    "<p>Bekijk <a\n",
    "href=\"https://rweeda.github.io/PythonIA/docs/IA_sql_oplossingen.html#opgave722\"\n",
    "target=\"_blank\">hier</a> de voorbeelduitwerking.</p>\n",
    "\n",
    "<!-- ANTWOORD\n",
    "<pre><code class=\"language-sql\">\n",
    "-- verwijderen:\n",
    "DELETE FROM pizza\n",
    "WHERE naam = \"Pazza\";\n",
    "-- check:\n",
    "SELECT *\n",
    "FROM pizza;\n",
    "</code></pre>\n",
    "-->"
   ]
  }
 ],
 "metadata": {
  "language_info": {
   "name": "python"
  }
 },
 "nbformat": 4,
 "nbformat_minor": 5
}
