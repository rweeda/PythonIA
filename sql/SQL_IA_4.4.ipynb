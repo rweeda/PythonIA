{
 "cells": [
  {
   "cell_type": "markdown",
   "id": "bb00e923",
   "metadata": {},
   "source": [
    "## 4.4: Groepsfuncties\n",
    "\n",
    "Stel dat je wilt tellen hoeveel klanten of bestellingen er zijn, of wat een klant gemiddeld besteed. Voor dit soort berekeningen gebruik je <i>groepsfuncties</i>. Met een groepsfunctie kan je een berekening uitvoeren op een groep rijen in plaats van op één rij.\n",
    "\n",
    "Bijvoorbeeld:\n",
    "\n",
    "| Zonder groepsfunctie | Met groepsfunctie            |\n",
    "| -------------------- | ---------------------------- |\n",
    "| Toon alle pizza's    | Tel hoeveel pizza's er zijn  |\n",
    "| Toon prijzen         | Toon gemiddelde prijs        |\n",
    "| Toon klantnamen      | Toon hoeveel klanten er zijn |\n",
    "\n",
    "\n",
    "### Voorbeelden van groepsfuncties\n",
    "\n",
    "| Functie               | Wat het doet                        | Voorbeeldgebruik                         |\n",
    "| --------------------- | ----------------------------------- | ---------------------------------------- |\n",
    "| `COUNT()`             | Telt hoeveel rijen er zijn          | Hoeveel pizza’s zijn er?                 |\n",
    "| `COUNT(DISTINCT ...)` | Telt hoeveel unieke waarden er zijn | Hoeveel verschillende klanten bestellen? |\n",
    "| `MIN()`               | Kleinste waarde in een kolom        | Goedkoopste pizza                        |\n",
    "| `MAX()`               | Grootste waarde in een kolom        | Duurste bestelling                       |\n",
    "| `SUM()`               | Tel alle getallen bij elkaar op     | Totale omzet van bestellingen            |\n",
    "| `AVG()`               | Gemiddelde van een kolom berekenen  | Gemiddelde prijs van pizza's             |\n",
    "\n",
    "\n",
    "\n",
    "\n",
    "\n",
    "### Hoe je een groepsfunctie gebruikt\n",
    "\n",
    "Je gebruikt een groepsfunctie altijd in de `SELECT`. Bijvoorbeeld om het aantal pizza's te tellen:\n",
    "\n",
    "```sql\n",
    "SELECT COUNT(*) FROM pizza;\n",
    "```\n",
    "\n",
    "Je mag meerdere groepsfuncties in de `SELECT` gebruiken. Bijvoorbeeld om zowel het aantal pizza's en de gemiddelde basisprijs van alle pizza's te tonen:\n",
    "\n",
    "```sql\n",
    "SELECT COUNT(*), AVG(basisprijs) FROM pizza;\n",
    "```\n",
    "\n",
    "Je mag <b>niet</b> groepsfuncties combineren met gewone kolommen, dus dit mag niet: <code>SELECT naam, COUNT(*)</code>. Wil je dat wel, dan kan dat alleen met een `GROUP BY`. In de verdieping leer je hoe je een `GROUP BY` kan gebruiken.\n",
    "\n"
   ]
  }
 ],
 "metadata": {
  "language_info": {
   "name": "python"
  },
  "latex_config": {
   "mathjax_url": "https://cdn.jsdelivr.net/npm/mathjax@3/es5/tex-mml-chtml.js"
  }
 },
 "nbformat": 4,
 "nbformat_minor": 5
}
