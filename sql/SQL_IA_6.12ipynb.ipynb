{
 "cells": [
  {
   "cell_type": "markdown",
   "id": "65e0d5e6",
   "metadata": {},
   "source": [
    "## 6.12: Afsluitende Opdrachten\n",
    "\n",
    "<p>Klik <a href=\"https://raw.githubusercontent.com/rweeda/PythonIA/main/sql/img/DaniloIA_ERD.png\" target=\"_blank\">hier</a> voor een overzicht van alle tabellen.</p>"
   ]
  },
  {
   "cell_type": "markdown",
   "id": "bafd11b8",
   "metadata": {},
   "source": [
    "\n",
    "### Afsluitende Opdracht 6.12.1 Nieuwe pizza\n",
    "\n",
    "<table width=\"100%\"><tr><td style=\"text-align:left; vertical-align:top; font-size:1.25rem;\" width=\"65%\">\n",
    "Je wilt een nieuwe pizza \"Pizza Tonno\" toevoegen met als omschrijving \"Tomaat, kaas en tonijn\" en een prijs van €7,90. Schrijf de SQL-query die deze pizza toevoegt aan de tabel pizza.\n",
    "\n",
    "</td><td width=\"35%\">\n",
    "<table border=\"1\" cellpadding=\"4\" cellspacing=\"0\">\n",
    "\n",
    "  </tbody>\n",
    "</table>\n",
    "\n",
    "\n",
    "\n",
    "</td></tr></table>"
   ]
  },
  {
   "cell_type": "code",
   "execution_count": null,
   "id": "a8afbf6b",
   "metadata": {
    "vscode": {
     "languageId": "sql"
    }
   },
   "outputs": [],
   "source": []
  },
  {
   "cell_type": "markdown",
   "id": "6554439c",
   "metadata": {},
   "source": [
    "\n",
    "### Afsluitende Opdracht 6.12.2 Prijs verhoging\n",
    "\n",
    "<table width=\"100%\"><tr><td style=\"text-align:left; vertical-align:top; font-size:1.25rem;\" width=\"65%\">\n",
    "De prijs van de pizza \"Margherita\" moet worden verhoogd naar €6,50. Schrijf de SQL-query waarmee je de prijs aanpast in de tabel pizza.\n",
    "\n",
    "</td><td width=\"35%\">\n",
    "<table border=\"1\" cellpadding=\"4\" cellspacing=\"0\">\n",
    "\n",
    "  </tbody>\n",
    "</table>\n",
    "\n",
    "\n",
    "\n",
    "</td></tr></table>"
   ]
  },
  {
   "cell_type": "code",
   "execution_count": null,
   "id": "c40421ae",
   "metadata": {
    "vscode": {
     "languageId": "sql"
    }
   },
   "outputs": [],
   "source": []
  },
  {
   "cell_type": "markdown",
   "id": "ead65018",
   "metadata": {},
   "source": [
    "### Afsluitende Opdracht 6.12.3 Bestelling verwijderen\n",
    "\n",
    "<table width=\"100%\"><tr><td style=\"text-align:left; vertical-align:top; font-size:1.25rem;\" width=\"65%\">\n",
    "Er is een fout gemaakt: een bestelling met bestelcode 999 moet verwijderd worden. Schrijf de SQL-query waarmee je deze bestelling verwijdert uit de tabel bestelling.\n",
    "\n",
    "</td><td width=\"35%\">\n",
    "<table border=\"1\" cellpadding=\"4\" cellspacing=\"0\">\n",
    "\n",
    "  </tbody>\n",
    "</table>\n",
    "\n",
    "\n",
    "\n",
    "</td></tr></table>"
   ]
  },
  {
   "cell_type": "code",
   "execution_count": null,
   "id": "ffae691a",
   "metadata": {
    "vscode": {
     "languageId": "sql"
    }
   },
   "outputs": [],
   "source": []
  },
  {
   "cell_type": "markdown",
   "id": "9f935a9c",
   "metadata": {},
   "source": [
    "### Afsluitende Opdracht 6.12.4 Zoeken naar shoarma\n",
    "\n",
    "<table width=\"100%\"><tr><td style=\"text-align:left; vertical-align:top; font-size:1.25rem;\" width=\"65%\">\n",
    "Controleer of er al een pizza bestaat met het woord \"shoarma\" in de naam of omschrijving. Schrijf een SQL-query die zoekt naar pizza’s waarin het woord \"shoarma\" voorkomt.\n",
    "\n",
    "\n",
    "\n",
    "</td><td width=\"35%\">\n",
    "<table border=\"1\" cellpadding=\"4\" cellspacing=\"0\">\n",
    "\n",
    "  </tbody>\n",
    "</table>\n",
    "\n",
    "\n",
    "\n",
    "</td></tr></table>"
   ]
  },
  {
   "cell_type": "code",
   "execution_count": null,
   "id": "e4d845ae",
   "metadata": {
    "vscode": {
     "languageId": "sql"
    }
   },
   "outputs": [],
   "source": []
  },
  {
   "cell_type": "markdown",
   "id": "a2553bbf",
   "metadata": {},
   "source": [
    "### Afsluitende Opdracht 6.12.5\n",
    "\n",
    "<table width=\"100%\"><tr><td style=\"text-align:left; vertical-align:top; font-size:1.25rem;\" width=\"65%\">\n",
    "Een klant heeft een nieuwe bestelling geplaatst:\n",
    "<ul>\n",
    "<li>De klant met klantnummer 3\n",
    "<li>Bestelt pizza met pizzacode 8\n",
    "<li>Bezorgd door bezorger 2\n",
    "</ul>\n",
    "\n",
    "Schrijf een reeks SQL-queries om:\n",
    "<ol type=\"a\">\n",
    "<li>Een nieuwe bestelling toe te voegen (vul NULL in voor de bestelcode).\n",
    "<li>De bestelde pizza toe te voegen aan besteldePizza.\n",
    "</ol>\n",
    "</td><td width=\"35%\">\n",
    "<table border=\"1\" cellpadding=\"4\" cellspacing=\"0\">\n",
    "\n",
    "  </tbody>\n",
    "</table>\n",
    "\n",
    "\n",
    "\n",
    "</td></tr></table>"
   ]
  }
 ],
 "metadata": {
  "language_info": {
   "name": "python"
  }
 },
 "nbformat": 4,
 "nbformat_minor": 5
}
