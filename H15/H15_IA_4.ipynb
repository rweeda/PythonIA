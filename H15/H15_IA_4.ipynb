{
 "cells": [
  {
   "cell_type": "markdown",
   "metadata": {},
   "source": [
    "## 4: Waarden aanpassen in een dictionary\n",
    "<p>Je kunt de waarde die bij een sleutel hoort aanpassen. Je geeft de sleutel tussen vierkante haken mee <code>[ ]</code> en rechts van het '<code>=</code>'-teken de nieuwe waarde. In het voorbeeld hieronder veranderen we voor Tim (de sleutel) de score in 800:</p>"
   ]
  },
  {
   "cell_type": "code",
   "execution_count": null,
   "metadata": {},
   "outputs": [],
   "source": [
    "gamescores = {\"Tim\":500, \"Janneke\":900, \"Bob\":680, \"Els\": 680}\n",
    "gamescores[\"Tim\"] = 800   #verander voor de sleutel \"Tim\" de waarde in 800\n",
    "\n",
    "print(gamescores)"
   ]
  },
  {
   "cell_type": "markdown",
   "metadata": {},
   "source": [
    "<!-- <p>Met de onderstaande visualisatie kun je stap voor stap zien hoe de dictionary bij elke regel code verandert door op <i>Next</i> te klikken.</br>\n",
    "<iframe width=\"800\" height=\"300\" frameborder=\"0\" src=\"https://pythontutor.com/iframe-embed.html#code=gamescores%20%3D%20%7B%22Tim%22%3A500,%20%22Janneke%22%3A900,%20%22Bob%22%3A680,%20%22Els%22%3A%20680%7D%0Agamescores%5B%22Tim%22%5D%20%3D%20800%20%20%20%23verander%20voor%20de%20sleutel%20%22Tim%22%20de%20waarde%20in%20800&codeDivHeight=400&codeDivWidth=350&cumulative=false&curInstr=0&heapPrimitives=nevernest&origin=opt-frontend.js&py=311&rawInputLstJSON=%5B%5D&textReferences=false\"> </iframe></p> -->\n",
    "<p>Bekijk \n",
    "<a href=\"https://pythontutor.com/render.html#code=gamescores%20%3D%20%7B%22Tim%22%3A500,%20%22Janneke%22%3A900,%20%22Bob%22%3A680,%20%22Els%22%3A%20680%7D%0Agamescores%5B%22Tim%22%5D%20%3D%20800%20%20%20%23verander%20voor%20de%20sleutel%20%22Tim%22%20de%20waarde%20in%20800%0A%0Aprint%28gamescores%29&cumulative=false&curInstr=1&heapPrimitives=nevernest&mode=display&origin=opt-frontend.js&py=311&rawInputLstJSON=%5B%5D&textReferences=false\">hier</a> een visualisatie in Python Tutor.</p>"
   ]
  },
  {
   "cell_type": "markdown",
   "metadata": {},
   "source": [
    "### Opdracht 11.4 Trainingsschema aanpassen\n",
    "<p>Tom heeft zich voor zondag ingeschreven voor een hardloopwedstrijd. Pas zijn trainingsschema aan zodat wielrennen wordt vervangen door hardlopen. Doe dat op dezelfde manier als hierboven, dus op regel twee met [ ]. Druk daarna het trainingsschema af.</p>\n",
    "\n",
    "<!-- #ANTWOORD\n",
    "trainingsschema = {\"maandag\":\"hardlopen\", \"woensdag\":\"fitness\", \"zaterdag\":\"voetbal\",\"zondag\": \"wielrennen\"}\n",
    "trainingsschema[\"zondag\"] = \"hardloopwedstrijd\"\n",
    "\n",
    "print(trainingsschema) -->"
   ]
  },
  {
   "cell_type": "code",
   "execution_count": null,
   "metadata": {},
   "outputs": [],
   "source": [
    "trainingsschema = {\"maandag\":\"hardlopen\", \"woensdag\":\"fitness\", \"zaterdag\":\"voetbal\",\"zondag\": \"wielrennen\"}"
   ]
  },
  {
   "cell_type": "markdown",
   "metadata": {},
   "source": [
    "<p>Klik <a href=\"https://rweeda.github.io/PythonIA/docs/IA_H15_oplossingen.html#opgave154\">hier</a> voor een voorbeelduitwerking.</p>"
   ]
  }
 ],
 "metadata": {
  "kernelspec": {
   "display_name": "Python 3",
   "language": "python",
   "name": "python3"
  },
  "language_info": {
   "codemirror_mode": {
    "name": "ipython",
    "version": 3
   },
   "file_extension": ".py",
   "mimetype": "text/x-python",
   "name": "python",
   "nbconvert_exporter": "python",
   "pygments_lexer": "ipython3",
   "version": "3.13.2"
  }
 },
 "nbformat": 4,
 "nbformat_minor": 2
}
