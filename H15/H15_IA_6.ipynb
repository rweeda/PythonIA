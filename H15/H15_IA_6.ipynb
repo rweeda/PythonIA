{
 "cells": [
  {
   "cell_type": "markdown",
   "metadata": {},
   "source": [
    "## 6: Sleutel-waarde paar verwijderen met <code>del</code>\n",
    "<p>Met <code>del</code> kun je een sleutel-waarde paar verwijderen uit een dictionary. Je geeft dan de dictionary mee met tussen vierkanten haken [ ] de sleutel van de paar die je wilt verwijderen. In het voorbeeld hieronder verwijderen we de sleutel 'Janneke' en haar bijbehorende score.</p> "
   ]
  },
  {
   "cell_type": "code",
   "execution_count": null,
   "metadata": {},
   "outputs": [],
   "source": [
    "gamescores = {\"Tim\":500, \"Janneke\":900, \"Bob\":680, \"Els\": 680}\n",
    "del gamescores[\"Janneke\"]   #verwijder \"Janneke\" en haar score uit de dictionary\n",
    "\n",
    "print(gamescores)"
   ]
  },
  {
   "cell_type": "markdown",
   "metadata": {},
   "source": [
    "### Opdracht 15.5 Verwijderen van een sleutel-waarde paar uit het trainingsschema\n",
    "<p>Verwijder de fitnesstraining op woensdag uit het schema van Tom.</p>\n",
    "\n",
    "<!-- ANTWOORD:\n",
    "trainingsschema = {\"maandag\":\"hardlopen\", \"woensdag\":\"fitness\", \"zaterdag\":\"voetbal\",\"zondag\": \"wielrennen\"}\n",
    "del trainingsschema[\"woensdag\"]   #verwijder \"woensdag\" en de bijbehorende activiteit uit de dictionary\n",
    "\n",
    "print(trainingsschema) -->"
   ]
  },
  {
   "cell_type": "code",
   "execution_count": null,
   "metadata": {},
   "outputs": [],
   "source": [
    "trainingsschema = {\"maandag\":\"hardlopen\", \"woensdag\":\"fitness\", \"zaterdag\":\"voetbal\",\"zondag\": \"wielrennen\"}\n"
   ]
  },
  {
   "cell_type": "markdown",
   "metadata": {},
   "source": [
    "<p>Klik <a href=\"https://rweeda.github.io/PythonIA/docs/IA_H15_oplossingen.html#opgave155\">hier</a> voor een voorbeelduitwerking.</p>"
   ]
  }
 ],
 "metadata": {
  "kernelspec": {
   "display_name": "Python 3",
   "language": "python",
   "name": "python3"
  },
  "language_info": {
   "codemirror_mode": {
    "name": "ipython",
    "version": 3
   },
   "file_extension": ".py",
   "mimetype": "text/x-python",
   "name": "python",
   "nbconvert_exporter": "python",
   "pygments_lexer": "ipython3",
   "version": "3.9.0"
  }
 },
 "nbformat": 4,
 "nbformat_minor": 2
}
