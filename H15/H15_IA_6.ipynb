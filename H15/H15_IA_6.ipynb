{
 "cells": [
  {
   "cell_type": "markdown",
   "metadata": {},
   "source": [
    "## 6: Sleutelwaarde-paar verwijderen met <code>del</code>\n",
    "<p>Met <code>del</code> kun je een sleutelwaarde-paar verwijderen uit een dictionary. Je zet er de naam van de dictionary achter met tussen vierkant haken <code>[ ]</code> de sleutel van het paar dat je wilt verwijderen. In het voorbeeld hieronder verwijderen we de sleutel 'Janneke' en zijn bijbehorende score.</p> "
   ]
  },
  {
   "cell_type": "code",
   "execution_count": null,
   "metadata": {},
   "outputs": [],
   "source": [
    "gamescores = {\"Tim\":500, \"Janneke\":900, \"Bob\":680, \"Els\": 680}\n",
    "del gamescores[\"Janneke\"]   #verwijder Janneke en haar score uit de dictionary\n",
    "\n",
    "print(gamescores)"
   ]
  },
  {
   "cell_type": "markdown",
   "metadata": {},
   "source": [
    "<!-- <p>Met de onderstaande visualisatie kun je stap voor stap zien hoe de dictionary bij elke regel code verandert door op <i>Next</i> te klikken.<br>\n",
    "<iframe width=\"800\" height=\"300\" frameborder=\"0\" src=\"https://pythontutor.com/iframe-embed.html#code=gamescores%20%3D%20%7B%22Tim%22%3A500,%20%22Janneke%22%3A900,%20%22Bob%22%3A680,%20%22Els%22%3A%20680%7D%0Adel%20gamescores%5B%22Janneke%22%5D%20%20%20%23verwijder%20Janneke%20en%20haar%20score%20uit%20de%20dictionary&codeDivHeight=400&codeDivWidth=350&cumulative=false&curInstr=0&heapPrimitives=nevernest&origin=opt-frontend.js&py=311&rawInputLstJSON=%5B%5D&textReferences=false\"> </iframe></iframe>\n",
    "</p> -->\n",
    "<p>Bekijk \n",
    "<a href=\"https://pythontutor.com/render.html#code=gamescores%20%3D%20%7B%22Tim%22%3A500,%20%22Janneke%22%3A900,%20%22Bob%22%3A680,%20%22Els%22%3A%20680%7D%0Adel%20gamescores%5B%22Janneke%22%5D%20%20%20%23verwijder%20Janneke%20en%20haar%20score%20uit%20de%20dictionary%0A%0Aprint%28gamescores%29&cumulative=false&curInstr=1&heapPrimitives=nevernest&mode=display&origin=opt-frontend.js&py=311&rawInputLstJSON=%5B%5D&textReferences=false\">hier</a> een visualisatie in Python Tutor.</p>"
   ]
  },
  {
   "cell_type": "markdown",
   "metadata": {},
   "source": [
    "### Opdracht 11.5 Verwijderen van een sleutelwaarde-paar uit het trainingsschema\n",
    "<p>Verwijder de fitnesstraining op woensdag uit het schema van Tom.</p>\n",
    "\n",
    "<!-- ANTWOORD:\n",
    "trainingsschema = {\"maandag\":\"hardlopen\", \"woensdag\":\"fitness\", \"zaterdag\":\"voetbal\",\"zondag\": \"wielrennen\"}\n",
    "del trainingsschema[\"woensdag\"]   #verwijder \"woensdag\" en de bijbehorende activiteit uit de dictionary\n",
    "\n",
    "print(trainingsschema) -->"
   ]
  },
  {
   "cell_type": "code",
   "execution_count": null,
   "metadata": {},
   "outputs": [],
   "source": [
    "trainingsschema = {\"maandag\":\"hardlopen\", \"woensdag\":\"fitness\", \"zaterdag\":\"voetbal\",\"zondag\": \"wielrennen\"}\n"
   ]
  },
  {
   "cell_type": "markdown",
   "metadata": {},
   "source": [
    "<p>Klik <a href=\"https://rweeda.github.io/PythonIA/docs/IA_H15_oplossingen.html#opgave155\">hier</a> voor een voorbeelduitwerking.</p>"
   ]
  }
 ],
 "metadata": {
  "kernelspec": {
   "display_name": "Python 3",
   "language": "python",
   "name": "python3"
  },
  "language_info": {
   "codemirror_mode": {
    "name": "ipython",
    "version": 3
   },
   "file_extension": ".py",
   "mimetype": "text/x-python",
   "name": "python",
   "nbconvert_exporter": "python",
   "pygments_lexer": "ipython3",
   "version": "3.13.2"
  }
 },
 "nbformat": 4,
 "nbformat_minor": 2
}
