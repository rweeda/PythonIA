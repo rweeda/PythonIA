{
 "cells": [
  {
   "cell_type": "markdown",
   "metadata": {},
   "source": [
    "## 5: Sleutels zijn uniek\n",
    "<p>Met een sleutel kun je een bijbehorende waarde opvragen.</p>\n",
    "<code>score_dictionary = {\"Tim\":500, \"Janneke\":900, \"Bob\":680, \"Els\": 680}</code>\n",
    "<p>Bij 'Bob' hoort de waarde 680. Andersom kan niet: 680 is een waarde en niet een sleutel, dus die kun je niet gebruiken om de bijbehorende speler(s) op te vragen. 'Bob' kan daarom maar één keer voorkomen als sleutel. Kortom, een sleutel moet <b>uniek</b> zijn.</p>\n",
    "\n",
    "<p>Probeer je toch een sleutel toe te voegen die er al is, zoals een tweede 'Bob', dan zal je de waarde overschrijven in de dictionary.</p>"
   ]
  },
  {
   "cell_type": "code",
   "execution_count": null,
   "metadata": {},
   "outputs": [],
   "source": [
    "gamescores = {\"Tim\":500, \"Bob\":680, \"Els\": 680}\n",
    "gamescores[\"Harold\"] = 720   #voeg voor de sleutel \"Harold\" de waarde 720 toe\n",
    "gamescores[\"Bob\"] = 800     #sleutel 'Bob' bestaat al, dus waarde wordt veranderd in 800\n",
    "\n",
    "print(gamescores)"
   ]
  }
 ],
 "metadata": {
  "kernelspec": {
   "display_name": "Python 3",
   "language": "python",
   "name": "python3"
  },
  "language_info": {
   "codemirror_mode": {
    "name": "ipython",
    "version": 3
   },
   "file_extension": ".py",
   "mimetype": "text/x-python",
   "name": "python",
   "nbconvert_exporter": "python",
   "pygments_lexer": "ipython3",
   "version": "3.13.2"
  }
 },
 "nbformat": 4,
 "nbformat_minor": 2
}
