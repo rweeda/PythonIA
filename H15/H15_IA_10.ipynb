{
 "cells": [
  {
   "cell_type": "markdown",
   "metadata": {},
   "source": [
    "## 10: Dictionary's vs. lijsten: Wanneer welke gebruiken?\n",
    "<p>Lijsten ('Lists') en dictionary's zijn de twee meest-gebruikte datastructuren in Python. Geen van beide is beter dan de ander, maar ze zijn nuttig bij verschillende problemen. Wanneer gebruik je welke?</p>\n",
    "\n",
    "\n",
    "<ul>\n",
    "<li>Lijsten zijn geordend, dictionary's niet. Dus als je elementen in een bepaalde volgorde wilt houden, dan gebruik je lijsten.</li>\n",
    "\n",
    "<li>Als je alleen een reeks elementen nodig hebt die je kunt benaderen met hun index, kies dan een lijst. Een lijst is namelijk eenvoudiger dan een dictionary.</li>\n",
    "<li>Als je snel een element wilt hebben dat gekoppeld is aan een specifieke unieke sleutel, kies dan een dictionary.</li>\n",
    "</ul>\n"
   ]
  },
  {
   "cell_type": "markdown",
   "metadata": {},
   "source": [
    "### Opdracht 11.8 Keuzes maken: lijst of dictionary\n",
    "\n",
    "<p>Geef voor de volgende taken aan of je ze het beste met een lijst of een dictionary kan implementeren. Leg je keuze uit.</p>\n",
    "\n",
    "<ol style=\"list-style-type: lower-alpha\">\n",
    "<li>Schrijf een programma dat de namen van studenten in een klas opslaat en de naam van een willekeurige student kan ophalen.</li>\n",
    "<li>Schrijf een programma dat telefoonnummers opslaat en het telefoonnummer van een persoon kan ophalen op basis van zijn naam.</li>\n",
    "<li>Schrijf een programma dat de cijfers van studenten opslaat en het gemiddelde cijfer van de klas berekent.</li>\n",
    "<li>Schrijf een programma dat de items in een winkelwagen opslaat en de totale prijs berekent.</li>\n",
    "<li>Schrijf een programma dat de frequentie van elke letter in een tekst telt.</li>\n",
    "<li>Je kent de namen van leerlingen in je klas. Schrijf een programma dat het aantal leerlingen in je klas bepaalt.</li>\n",
    "<li>Schrijf een programma dat een wachtrij bij de Efteling bijhoudt. De volgorde waarin je je meldt, bepaalt wanneer je de attractie in mag.</li>\n",
    "<li>Je wilt zo snel mogelijk het cijfer van Pietje voor Wiskunde opvragen.</li>\n",
    "</ol>\n",
    "\n",
    "\n",
    "\n",
    "<!-- ANTWOORDEN:\n",
    "<ol style=\"list-style-type: lower-alpha\">\n",
    "<li>Lijst: Een lijst is geschikt omdat je alleen de namen van studenten opslaat en de volgorde belangrijk kan zijn. Je hebt geen sleutel-waarde paren nodig, dus een lijst is eenvoudiger en efficiënter.</li>\n",
    "<li>Dictionary: Een dictionary is beter omdat je sleutel-waarde paren nodig hebt (naam-telefoonnummer). Dit maakt het ophalen van gegevens op basis van een sleutel (naam) veel efficiënter.</li>\n",
    "<li>Lijst: Een lijst is geschikt omdat je alleen de cijfers opslaat en je de volgorde van invoer wilt behouden om bijvoorbeeld de cijfers in volgorde van binnenkomst te verwerken.\n",
    "<li>Lijst: Een lijst is geschikt als je alleen de items opslaat en de volgorde van toevoeging belangrijk is. Als je echter ook de prijzen en hoeveelheden van elk item wilt opslaan, kan een Dictionary beter zijn.</li>\n",
    "<li>Dictionary: Een dictionary is ideaal omdat je elk letter als sleutel kunt gebruiken en de frequentie als waarde. Dit maakt het gemakkelijk om de frequentie van elk letter bij te houden en op te halen.</li>\n",
    "</ol> -->\n",
    "\n",
    "<p>Klik <a href=\"https://rweeda.github.io/PythonIA/docs/IA_H15_oplossingen.html#opgave158\">hier</a> voor een voorbeelduitwerking.</p>"
   ]
  }
 ],
 "metadata": {
  "kernelspec": {
   "display_name": "Python 3",
   "language": "python",
   "name": "python3"
  },
  "language_info": {
   "codemirror_mode": {
    "name": "ipython",
    "version": 3
   },
   "file_extension": ".py",
   "mimetype": "text/x-python",
   "name": "python",
   "nbconvert_exporter": "python",
   "pygments_lexer": "ipython3",
   "version": "3.9.0"
  }
 },
 "nbformat": 4,
 "nbformat_minor": 2
}
