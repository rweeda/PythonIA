{
 "cells": [
  {
   "cell_type": "markdown",
   "metadata": {},
   "source": [
    "# Onderwerp 15 - Python Dictionaries\n",
    "\n",
    "<div style=\"display:flex\">\n",
    "\n",
    "<p>Een <i>dictionary</i> (in het Nederlands: woordenboek) is een verzameling elementen. Dictionaries zijn handig om 'paren van dingen' in op te slaan. Dat kan bijvoorbeeld een woordenboek zijn met vertaling van Nederlands naar Engels, of een cijferlijst met leerling nummers en hun cijfers.</p>\n",
    "<!-- \n",
    "<p><img src=\"https://course.cs.ru.nl/pythonVO/Jupyter/img/H15_0.jpg\" alt=\"Dictionaries in Python\"  class=\"img-responsive atto_image_button_text-bottom\"></p> -->\n",
    "\n",
    "</div>\n",
    "\n",
    "<p>In dit onderwerp:</span></p>\n",
    "<ul>\n",
    "    <li>leer je wat een dictionary is, welke eigenschappen het heeft, en waarvoor je die kan gebruiken;</li>\n",
    "    <li>leer je wat een sleutel (key) en waarde (value) is;</li>\n",
    "    <li>leer je om een dictionary te maken en te printen;</li>\n",
    "    <li>leer je om een waarde kan op te halen met <code>get()</code>;</li>\n",
    "    <li>leer je om een sleutel-waarde paar aan een dictionary toe te voegen;</li>\n",
    "    <li>leer je een waarde voor een sleutel aan te passen;</li>\n",
    "    <li>leer je dat een sleutel uniek is;</li>\n",
    "    <li>leer je om de elementen van een dictionary te doorlopen met een <code>for</code>-loop;</li>\n",
    "    <li>leer je om <code>keys</code>, <code>values</code> en <code>items</code> te gebruiken om de inhoud van een dictionary op te vragen, en in een lijst te zetten;</li>\n",
    "    <li>leer je een afgewogen keuze te maken tussen het gebruik van een lijst en een dictionary.</li>\n",
    "</ul>\n",
    "\n",
    "\n",
    "\n",
    "<p><b>Standaardmethoden met dictionaries</b></p>\n",
    "<p>Voor dictionaries zijn er heel veel standaardmethoden die je kunt gebruiken. We behandelen ze niet allemaal. Als je er meer over wilt leren kun je <a href=\"https://www.w3schools.com/python/python_ref_dictionary.asp\" target=\"_blank\">hier</a> meer informatie\n",
    "    vinden.</p> \n",
    "\n",
    "\n",
    "<div class=\"fa fa-clock-o fa-3x\"></div><br> Verwerkingstijd: <b>1 uur</b>"
   ]
  }
 ],
 "metadata": {
  "kernelspec": {
   "display_name": "Python 3",
   "language": "python",
   "name": "python3"
  },
  "language_info": {
   "codemirror_mode": {
    "name": "ipython",
    "version": 3
   },
   "file_extension": ".py",
   "mimetype": "text/x-python",
   "name": "python",
   "nbconvert_exporter": "python",
   "pygments_lexer": "ipython3",
   "version": "3.9.0"
  }
 },
 "nbformat": 4,
 "nbformat_minor": 2
}
