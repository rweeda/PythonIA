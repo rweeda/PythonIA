{
 "cells": [
  {
   "cell_type": "markdown",
   "metadata": {},
   "source": [
    "## Onderwerp 10: Afsluitende opdrachten\n",
    "\n",
    "<p>Met de volgende afsluitende opdrachten kun je kijken hoe goed je de stof beheerst. Controleer steeds je eigen oplossing met de voorbeelduitwerking.</p>\n",
    "\n",
    "<!--\n",
    "<h1 id=\"count\">Tellen hoe vaak een element voorkomt met <code>count()</code></h1>\n",
    "<p>Met <code>.count()</code> kun je bepalen hoe vaak een element in een lijst voorkomt. Tussen haakjes geef je aan welk element je wilt tellen.</p>\n",
    "\n",
    "<pre class=\"python\">\n",
    "fruitlijst = [\"appel\", \"banaan\", \"kers\", \"banaan\", \"aardbei\"]\n",
    "aantal_banaan = fruitlijst.count( \"banaan\" )\n",
    "\n",
    "print( \"Aantal voorkomens van 'banaan':\", aantal_banaan )\n",
    "</pre>\n",
    "<p><iframe height=\"400px\" width=\"100%\" src=\"https://repl.it/@smer/H95v6?lite=true#main.py\" scrolling=\"no\" frameborder=\"no\" allowtransparency=\"true\" allowfullscreen=\"true\" sandbox=\"allow-forms allow-pointer-lock allow-popups allow-same-origin allow-scripts allow-modals\"></iframe></p>\n",
    "\n",
    "<p class=\"opdracht\" id=\"Opgave965\">Opdracht 9.6.5 Gebruik vervoersmiddelen</p>\n",
    "\n",
    "Schrijf een programma dat afdrukt hoe vaak men met de auto, fiets of lopend naar school komt. Gebruik hiervoor de volgende lijst:\n",
    "-->\n",
    "<!-- GIVEN <pre class=\"python\">\n",
    "vervoer = [\"lopend\", \"fiets\", \"auto\", \"fiets\", \"auto\", \"lopend\", \"fiets\", \"lopend\", \"fiets\"]\n",
    "</pre>-->\n",
    "<!-- ANTWOORD:\n",
    "<pre class=\"python\">\n",
    "vervoer = [\"lopend\", \"fiets\", \"auto\", \"fiets\", \"auto\", \"lopend\", \"fiets\", \"lopend\", \"fiets\"]\n",
    "print( \"met de auto:\", vervoer.count( \"auto\" ) )\n",
    "print( \"met de fiets:\", vervoer.count( \"fiets\" ) )\n",
    "print( \"lopend:\", vervoer.count( \"lopend\" ) )\n",
    "</pre>\n",
    "-->\n",
    "\n",
    "<!--\n",
    "<p><iframe width=\"100%\" height=\"600px\" src=\"https://repl.it/team/InformaticaActief/1065-Gebruik-vervoersmiddelen\"></iframe></p>\n",
    "\n",
    "<a href=\"H9_oplossingen.html#opgave965\">Klik hier</a> voor een model oplossing.\n",
    "\n",
    "\n",
    "-->\n",
    "\n"
   ]
  },
  {
   "cell_type": "markdown",
   "metadata": {},
   "source": [
    "\n",
    "### Afsluitende Opdracht 10.1 Aantal voldoendes\n",
    "<p>Schrijf een functie die een cijferlijst binnenkrijgt en bepaalt hoeveel voldoendes die erin voorkomen. Een cijfer boven de 5 is een voldoende. Roep je functie aan en print het resultaat.\n",
    "</p>\n"
   ]
  },
  {
   "cell_type": "code",
   "execution_count": null,
   "metadata": {},
   "outputs": [],
   "source": [
    "### FUNCTIEDEFINITIE\n",
    "\n",
    "\n",
    "### HOOFDPROGRAMMA\n",
    "cijferlijst =  [8.2, 7.4, 6.1, 9.0, 4.9, 8.0]\n"
   ]
  },
  {
   "cell_type": "markdown",
   "metadata": {},
   "source": [
    "\n",
    "<p>Bekijk <a href=\"https://rweeda.github.io/PythonIA/docs/IA_H10_oplossingen.html#AfOpgave101\" target=\"_blank\">hier</a> de voorbeelduitwerking.</p>\n",
    "\n",
    "\n"
   ]
  },
  {
   "cell_type": "markdown",
   "metadata": {},
   "source": [
    "\n",
    "### Afsluitende Opdracht 10.2 Stemmingen\n",
    "<p>Schrijf een programma om te bepalen hoeveel van je vrienden gelukkig zijn.</p>\n",
    "<ol style=\"list-style-type: lower-alpha\">\n",
    "    <li>Schrijf een functie die aan vijf van je vrienden vraagt om hun stemming met een emoticon (of emoji) weer te geven. Zet de emoticons één voor één in een lijst. Lever de lijst op met een return.</li>\n",
    "    <li>Roep de functie aan in je hoofdprogramma en test of deze werkt door de lijst te printen.</li>\n",
    "    <li>Schrijf een functie die de lijst met een loop doorloopt en telt hoe vaak de ':)'-smiley in de lijst voorkomt. Je <b>moet</b> een loop met een teller gebruiken. Lever het aantal smileys op met een return.</li>\n",
    "    <li>Roep je telfunctie aan in je hoofdprogramma en druk af hoeveel smileys er gevonden zijn.\n",
    "    </li>\n",
    "</ol>\n",
    "\n",
    "\n",
    "\n"
   ]
  },
  {
   "cell_type": "code",
   "execution_count": null,
   "metadata": {},
   "outputs": [],
   "source": [
    "### FUNCTIEDEFINITIES\n",
    "\n",
    "\n",
    "\n",
    "### HOOFPROGRAMMA\n"
   ]
  },
  {
   "cell_type": "markdown",
   "metadata": {},
   "source": [
    "\n",
    "<p>Bekijk <a href=\"https://rweeda.github.io/PythonIA/docs/IA_H10_oplossingen.html#AfOpgave102\" target=\"_blank\">hier</a> de voorbeelduitwerking.</p>\n",
    "\n",
    "\n",
    "\n"
   ]
  },
  {
   "cell_type": "markdown",
   "metadata": {},
   "source": [
    "\n",
    "### Afsluitende Opdracht 10.3 Cijferlijst opleuken\n",
    "\n",
    "<p>Stel, dit is jouw (dramatische) cijferlijst:</p>\n",
    "<p><code>cijferLijst = [5.0, 5.5, 2.3, 4.6, 6.1, 5.6, 9.8]</code></p>\n",
    "\n",
    "<p>Maak een nieuwe cijferlijst waarbij elk cijfer met 0.5 punt opgehoogd is. Na afloop druk je de nieuwe cijferlijst af.</p>\n",
    "\n",
    "<p>Het is dus de bedoeling dat na afloop het volgende wordt afgedrukt:<i> [5.5, 6.0, 2.8, 5.1, 6.6, 6.1, 9.8]</i></p>\n",
    "\n",
    "<p>Tips:\n",
    "</p>\n",
    "<ul>\n",
    "    <li>doorloop de lijst met een <code>for</code>-loop en print elk cijfer uit.\n",
    "    </li>\n",
    "    <li>hoog het cijfer met 0.5 punten op. Zet het opgehoogde cijfer in een nieuwe lijst.\n",
    "    </li>\n",
    "    <li>zorg dat er geen cijfer boven de 10 uitkomt. Als het cijfer na ophoging boven de 10 uitkomt, stel het dan gelijk aan 10.\n",
    "    </li>\n",
    "</ul>\n",
    "<p></p>\n",
    "\n"
   ]
  },
  {
   "cell_type": "code",
   "execution_count": null,
   "metadata": {},
   "outputs": [],
   "source": [
    "cijferLijst = [9.8, 5.5, 2.3, 4.6, 6.1, 5.6]"
   ]
  },
  {
   "cell_type": "markdown",
   "metadata": {},
   "source": [
    "\n",
    "<p>Bekijk <a href=\"https://rweeda.github.io/PythonIA/docs/IA_H10_oplossingen.html#AfOpgave103\" target=\"_blank\">hier</a> de voorbeelduitwerking.</p>\n",
    "\n"
   ]
  },
  {
   "cell_type": "markdown",
   "metadata": {},
   "source": [
    "\n",
    "### Afsluitende Opdracht 10.4 Meeste regen\n",
    "<p>Janneke hield voor de maand februari dagelijks bij hoeveel regen er gevallen is. Wat was de meeste regen die er op een dag gevallen was en op welke datum was dat? Je moet hiervoor een of twee <code>for</code>-loops gebruiken.</p>\n",
    "\n",
    "\n",
    "<p>Aanwijzingen:\n",
    "</p>\n",
    "<ul>\n",
    "    <li>doorloop de lijst met een <code>for</code>-loop en bepaal wat de meeste regen is die er gevallen is.\n",
    "    </li>\n",
    "    <li>doorloop de lijst met een <code>for</code>-loop en zoek op welke index die voorkomt.\n",
    "    </li>\n",
    "    <li>pas de index aan naar een datum.\n",
    "    </li>\n",
    "</ul>\n",
    "<p></p>\n",
    "\n"
   ]
  },
  {
   "cell_type": "code",
   "execution_count": null,
   "metadata": {},
   "outputs": [],
   "source": [
    "regenlijst = [ 0, 10, 15, 20, 18, 15, 13, 14, 16, 34, 12, 10, 0, 0, 0, 1, 2, 0, 4, 8, 0, 0, 1, 2, 1, 10, 8, 1 ]"
   ]
  },
  {
   "cell_type": "markdown",
   "metadata": {},
   "source": [
    "\n",
    "<p>Bekijk <a href=\"https://rweeda.github.io/PythonIA/docs/IA_H10_oplossingen.html#AfOpgave104\" target=\"_blank\">hier</a> de voorbeelduitwerking.</p>\n",
    "\n"
   ]
  },
  {
   "cell_type": "markdown",
   "metadata": {},
   "source": [
    "\n",
    "### Afsluitende Opdracht 10.5 Loonstrookje\n",
    "<p>Piet heeft de afgelopen maand zijn dagloon in een lijst bijgehouden. Schrijf een programma dat de lijst met een loop doorloopt en zijn maandloon bepaalt (de som van alle lonen in de lijst).</p>\n"
   ]
  },
  {
   "cell_type": "code",
   "execution_count": null,
   "metadata": {},
   "outputs": [],
   "source": [
    "loonlijst = [24.00, 28.50, 45.80, 45.80, 23.10, 32.15]\n"
   ]
  },
  {
   "cell_type": "markdown",
   "metadata": {},
   "source": [
    "<p>Bekijk <a href=\"https://rweeda.github.io/PythonIA/docs/IA_H10_oplossingen.html#AfOpgave105\" target=\"_blank\">hier</a> de voorbeelduitwerking.</p>"
   ]
  },
  {
   "cell_type": "markdown",
   "metadata": {},
   "source": [
    "\n",
    "### Afsluitende Opdracht 10.6 Foutieve metingen\n",
    "<p>In een fabriek wordt in een lijst bijgehouden hoeveel storingen er zijn. Helaas is er wat misgegaan en komen er nu foute waarden in de lijst voor. Kijk maar:</p>\n",
    "<p><code>storingenlijst = [ 0, 3, -1, 4, 3, 2, -1 ]</code></p>\n",
    "<p>Jouw taak is om de lijst te doorlopen en de negatieve waarden eruit te filteren: maak een nieuwe lijst zonder de negatieve waarden. Je nieuwe lijst moet er dus zo uit komen te zien:</p>\n",
    "<p><code>storingenlijst = [ 0, 3, 4, 3, 2 ]</code></p>\n",
    "\n",
    "\n",
    "\n"
   ]
  },
  {
   "cell_type": "code",
   "execution_count": null,
   "metadata": {},
   "outputs": [],
   "source": [
    "storingenlijst = [ 0, 3, -1, 4, 3, 2, -1 ]\n"
   ]
  },
  {
   "cell_type": "markdown",
   "metadata": {},
   "source": [
    "\n",
    "<p>Bekijk <a href=\"https://rweeda.github.io/PythonIA/docs/IA_H10_oplossingen.html#AfOpgave106\" target=\"_blank\">hier</a> de voorbeelduitwerking.</p>\n",
    "\n"
   ]
  },
  {
   "cell_type": "markdown",
   "metadata": {},
   "source": [
    "\n",
    "### Afsluitende Opdracht 10.7 Gemiddelde bepalen\n",
    "<p>Schrijf een functie die een lijst getallen binnenkrijgt, deze met een loop doorloopt en de gemiddelde waarde van alle elementen oplevert. Let op: als er geen waarden in de lijst staan, kun je geen gemiddelde berekenen en moet je programma, in plaats van een berekening maken, het volgende printen: \"<i>Fout, geen gegevens</i>\".</p>\n",
    "\n",
    "\n",
    "\n"
   ]
  },
  {
   "cell_type": "code",
   "execution_count": null,
   "metadata": {},
   "outputs": [],
   "source": [
    "### FUNCTIEDEFINITIES\n",
    "\n",
    "\n",
    "### HOOFDPROGRAMMA\n",
    "getallenlijst = [4,5,6,3,5,6]\n"
   ]
  },
  {
   "cell_type": "markdown",
   "metadata": {},
   "source": [
    "\n",
    "<p>Bekijk <a href=\"https://rweeda.github.io/PythonIA/docs/IA_H10_oplossingen.html#AfOpgave107\" target=\"_blank\">hier</a> de voorbeelduitwerking.</p>"
   ]
  }
 ],
 "metadata": {
  "kernelspec": {
   "display_name": "Python 3",
   "language": "python",
   "name": "python3"
  },
  "language_info": {
   "codemirror_mode": {
    "name": "ipython",
    "version": 3
   },
   "file_extension": ".py",
   "mimetype": "text/x-python",
   "name": "python",
   "nbconvert_exporter": "python",
   "pygments_lexer": "ipython3",
   "version": "3.11.8"
  }
 },
 "nbformat": 4,
 "nbformat_minor": 2
}
