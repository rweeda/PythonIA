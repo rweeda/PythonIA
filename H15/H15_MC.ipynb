{
 "cells": [
  {
   "cell_type": "markdown",
   "metadata": {},
   "source": [
    "# Onderwerp 15 - Python Dictionaries\n",
    "\n",
    "<div style=\"display:flex\">\n",
    "\n",
    "<p>Een <i>dictionary</i> (in het Nederlands: woordenboek) is een verzameling elementen. Dictionaries zijn handig om 'paren van dingen' in op te slaan. Dat kan bijvoorbeeld een woordenboek zijn met vertaling van Nederlands naar Engels, of een cijferlijst met leerling nummers en hun cijfers.</p>\n",
    "<!-- \n",
    "<p><img src=\"https://course.cs.ru.nl/pythonVO/Jupyter/img/H15_0.jpg\" alt=\"Dictionaries in Python\"  class=\"img-responsive atto_image_button_text-bottom\"></p> -->\n",
    "\n",
    "</div>\n",
    "\n",
    "<p>In dit onderwerp:</span></p>\n",
    "<ul>\n",
    "    <li>leer je wat een dictionary is, welke eigenschappen het heeft, en waarvoor je die kan gebruiken;</li>\n",
    "    <li>leer je wat een sleutel (key) en waarde (value) is;</li>\n",
    "    <li>leer je om een dictionary te maken en te printen;</li>\n",
    "    <li>leer je om een waarde kan op te halen met <code>get()</code>;</li>\n",
    "    <li>leer je om een sleutel-waarde paar aan een dictionary toe te voegen;</li>\n",
    "    <li>leer je een waarde voor een sleutel aan te passen;</li>\n",
    "    <li>leer je een sleutel-waarde paar te verwijderen met <code>del()</code>;\n",
    "    </li>\n",
    "    <li>leer je dat een sleutel uniek is;</li>\n",
    "    <li>leer je om de elementen van een dictionary te doorlopen met een <code>for</code>-loop;</li>\n",
    "    <li>leer je om <code>keys</code>, <code>values</code> en <code>items</code> te gebruiken om de inhoud van een dictionary op te vragen, en in een lijst te zetten;</li>\n",
    "    <li>leer je een afgewogen keuze te maken tussen het gebruik van een lijst en een dictionary.</li>\n",
    "</ul>\n",
    "\n",
    "\n",
    "\n",
    "<p><b>Standaardmethoden met dictionaries</b></p>\n",
    "<p>Voor dictionaries zijn er heel veel standaardmethoden die je kunt gebruiken. We behandelen ze niet allemaal. Als je er meer over wilt leren kun je <a href=\"https://www.w3schools.com/python/python_ref_dictionary.asp\" target=\"_blank\">hier</a> meer informatie\n",
    "    vinden.</p> \n",
    "\n",
    "\n",
    "<div class=\"fa fa-clock-o fa-3x\"></div><br> Verwerkingstijd: <b>1 uur</b>"
   ]
  },
  {
   "cell_type": "markdown",
   "metadata": {},
   "source": [
    "## 1: Dictionary maken en afdrukken\n",
    "\n",
    "### Wat is een dictionary \n",
    "\n",
    "<p>In een dictionary houd je paren van waarden bij. Bijvoorbeeld, de scores van elk speler in een spel:</p>\n",
    "<code>score_dictionary = {\"Tim\":500, \"Janneke\":900, \"Bob\":680, \"Els\": 680}</code>\n",
    "<p>Bij 'Tim' hoort de waarde 500, bij 'Janneke' de waarde 900, enz.</p>\n",
    "\n",
    "<p>Met : geef je aan welke waarden als een paar bij elkaar horen. De linker deel heet de <b>sleutel</b> (in het Engels: key) en de rechter de waarde (in het Engels: value). Bij de sleutel 'Bob' hoort de waarde 680. </p>\n",
    "\n",
    "\n",
    "### Dictionary maken\n",
    "<p>Een dictionary maak je door de paren van waarden tussen accolades { en } te zetten en te scheiden met komma's. Wat als paar bij elkaar hoort geef je met : aan. Hier een paar voorbeelden:</p>\n",
    "<ul>\n",
    "    <li><code>woordenboek_NLEN = {\"geel\":\"yellow\", \"zwart\":\"black\", \"blauw\": \"blue\", \"wit\":\"white\"}</code></li>\n",
    "    <li><code>weerstation = {\"maandag\":23.0, \"dinsdag\":24.5, \"woensdag\":24.1, \"donderdag\":22.0, \"vrijdag\":21.9}</code></li>\n",
    "    <li><code>gamescores = {\"Tim\": 500, \"Janneke\": 900, \"Bob\": 680}</code></li>\n",
    "    <li><code>leeg_dictionary = {}</code></li>\n",
    "</ul>\n",
    "<p></p>\n",
    "<p>Het laatste voorbeeld is een lege dictionary: een nieuwe dictionary waar nog niets in zit.</p>\n",
    "\n",
    "\n",
    "### Dictionary afdrukken\n",
    "<p>Met <code>print()</code> kun je een dictionary afdrukken. Zoals je ziet als je op de <i>Run</i>-knop drukt, worden de accolades { } ook afgedrukt.</p>"
   ]
  },
  {
   "cell_type": "code",
   "execution_count": null,
   "metadata": {},
   "outputs": [],
   "source": [
    "gamescores = {\"Tim\": 500, \"Janneke\": 900, \"Bob\": 680}   #maak een dictionary met de scores van de spelers\n",
    "print(gamescores)"
   ]
  },
  {
   "cell_type": "markdown",
   "metadata": {},
   "source": [
    "## 2: Een waarde uit een dictionary ophalen\n",
    "\n",
    "<p>Je kunt de bijbehorende waarde van een sleutel-waarde paar uit een dictionary opvragen met de <b>sleutel</b>. Je geeft de sleutel tussen vierkante haken [ ] mee.</p>"
   ]
  },
  {
   "cell_type": "code",
   "execution_count": null,
   "metadata": {},
   "outputs": [],
   "source": [
    "gamescores = {\"Tim\":500, \"Janneke\":900, \"Bob\":680, \"Els\": 680}\n",
    "\n",
    "score_van_Bob = gamescores.get(\"Bob\")   # haalt de bijbehorende waarde van de sleutel \"Bob\" op, namelijk 680\n",
    "print(score_van_Bob)"
   ]
  },
  {
   "cell_type": "markdown",
   "metadata": {},
   "source": [
    "<p>Met de sleutel 'Bob' kan je de bijbehorden waarde (680) opvragen.</p>"
   ]
  },
  {
   "cell_type": "markdown",
   "metadata": {},
   "source": [
    "### Opdracht 15.1 Dictionary met een trainingsschema maken en afdrukken\n",
    "<p>Tom heeft het volgend trainingsschema meegekregen:<br> maandag: hardlopen, woensdag: fitness, zaterdag: voetbal</p>\n",
    "\n",
    "<ol style=\"list-style-type: lower-alpha\">\n",
    "<li>Zet de trainingen van Tom in een dictionary.</li>\n",
    "<li>Druk de dictionary af.</li>\n",
    "<li>Druk de training van zaterdag af.</li>\n",
    "<li>Wat gebeurt er als je een niet bestaande training probeert af te drukken, zoals die van dinsdag?</li>\n",
    "</ol>\n",
    "\n",
    "<!-- #ANTWOORD\n",
    "trainingsschema = {\"maandag\":\"hardlopen\", \"woensdag\":\"fitness\", \"zaterdag\":\"voetbal\"}\n",
    "print(trainingsschema)              # print de dictionary\n",
    "\n",
    "training_zat = trainingsschema[\"zaterdag\"]  # haalt de waarde van de sleutel \"zaterdag\", namelijk voetbal\n",
    "print( training_zat ) \n",
    "\n",
    "training_dinsdag = trainingsschema[\"dinsdag\"] # haalt de waarde van de sleutel \"dinsdag\", maar deze bestaat niet\n",
    "print( training_dinsdag )   # 'dinsdag' is geen sleutel, dus geeft dit een foutmelding KeyError \n",
    "-->"
   ]
  },
  {
   "cell_type": "code",
   "execution_count": null,
   "metadata": {},
   "outputs": [],
   "source": []
  },
  {
   "cell_type": "markdown",
   "metadata": {},
   "source": [
    "<p>Klik <a href=\"https://rweeda.github.io/PythonIA/docs/IA_H15_oplossingen.html#opgave151\">hier</a> voor een voorbeelduitwerking.</p>"
   ]
  },
  {
   "cell_type": "markdown",
   "metadata": {},
   "source": [
    "## Als de sleutel niet bestaat, met <code>get()</code>\n",
    "<p>De <code>get()</code> methode kun je gebruiken om een waarde uit de dictionary te halen, zelfs als je\n",
    "niet weet of de sleutel die je zoekt wel in de dictionary zit.\n",
    "<ul>\n",
    "<li>Als de sleutel bestaat, levert het de bijbehorende waarde op.</li>\n",
    "<li>Als de sleutel niet bestaat, levert het <code>None</code> op.</li>\n",
    "</ul>"
   ]
  },
  {
   "cell_type": "code",
   "execution_count": null,
   "metadata": {},
   "outputs": [],
   "source": [
    "gamescores = {\"Tim\":500, \"Janneke\":900, \"Bob\":680, \"Els\": 680}\n",
    "\n",
    "score_van_Bob = gamescores.get(\"Bob\") # haalt de waarde van de sleutel \"Bob\" op, namelijk 680\n",
    "print(score_van_Bob)\n",
    "\n",
    "score_van_niet_bestaande_speler = gamescores.get(\"THOMAS\") # de sleutel \"Thomas\" bestaat niet, dus de waarde is None\n",
    "print(score_van_niet_bestaande_speler) "
   ]
  },
  {
   "cell_type": "markdown",
   "metadata": {},
   "source": [
    "<p>Met <code>get()</code> kun je dus achterhalen of een sleutel in een dictionary zit, zonder dat het programma een foutmelding oplevert. In je code kun je controleren of de waarde gelijk is aan <code>None</code>:</p>"
   ]
  },
  {
   "cell_type": "code",
   "execution_count": null,
   "metadata": {},
   "outputs": [],
   "source": [
    "gamescores = {\"Tim\":500, \"Janneke\":900, \"Bob\":680, \"Els\": 680}\n",
    "\n",
    "score_van_niet_bestaande_speler = gamescores.get(\"THOMAS\") # de sleutel \"Thomas\" bestaat niet, dus de waarde is None\n",
    "if score_van_niet_bestaande_speler == None:\n",
    "    print(\"speler bestaat niet\") "
   ]
  },
  {
   "cell_type": "markdown",
   "metadata": {},
   "source": [
    "### Opdracht 15.2 Waarde met <code>get()</code> ophalen\n",
    "\n",
    "<p>Gebruik <code>get()</code> om te controleren of er op de volgende dagen een training staat. Zo ja, druk de training af, zo niet, druk dan af: '<i>Geen training!</i>'</p>\n",
    "<ol style=\"list-style-type: lower-alpha\">\n",
    "<li>woensdag</li>\n",
    "<li>zondag</li>\n",
    "</ol>\n",
    "\n",
    "<!-- ANTWOORD:\n",
    "trainingsschema = {\"maandag\":\"hardlopen\", \"woensdag\":\"fitness\", \"zaterdag\":\"voetbal\"}\n",
    "\n",
    "#opdracht a\n",
    "training_wo = trainingsschema[\"woensdag\"]  # haalt de waarde van de sleutel \"woensdag\", namelijk fitness\n",
    "if training_wo == None: # er is geen training\n",
    "    print(\"Geen training!\") # print dan \"Geen training!\"\n",
    "else:\n",
    "    print( training_wo ) \n",
    "\n",
    "#opdracht b\n",
    "training_zondag = trainingsschema.get(\"dinsdag\") # haalt de waarde van de sleutel 'zondag', maar deze bestaat niet\n",
    "\n",
    "#opdracht b\n",
    "if training_zondag == None: # er is geen training\n",
    "    print(\"Geen training!\") # print dan \"Geen training!\"\n",
    "else: \n",
    "    print( training_zondag )                # 'zondag' is geen sleutel, dus levert get() 'None' op \n",
    "\n",
    "    -->"
   ]
  },
  {
   "cell_type": "code",
   "execution_count": null,
   "metadata": {},
   "outputs": [],
   "source": [
    "trainingsschema = {\"maandag\":\"hardlopen\", \"woensdag\":\"fitness\", \"zaterdag\":\"voetbal\"}\n"
   ]
  },
  {
   "cell_type": "markdown",
   "metadata": {},
   "source": [
    "<p>Klik <a href=\"https://rweeda.github.io/PythonIA/docs/IA_H15_oplossingen.html#opgave152\">hier</a> voor een voorbeelduitwerking.</p>"
   ]
  },
  {
   "cell_type": "markdown",
   "metadata": {},
   "source": [
    "## 3: Waarde toevoegen aan een dictionary\n",
    "<p>Je kunt een waarde toevoegen aan een dictionary. Je geeft de sleutel tussen vierkante haken mee [ ] en rechts van de =-teken de bijbehorende waarde. Hieronder voegen we voor Lukas (de sleutel) een score van 400 (de bijbehorende waarde) toe aan de dictionary <code>gamescores</code>.</p>\n"
   ]
  },
  {
   "cell_type": "code",
   "execution_count": null,
   "metadata": {},
   "outputs": [],
   "source": [
    "gamescores = {\"Tim\":500, \"Janneke\":900, \"Bob\":680, \"Els\": 680}\n",
    "gamescores[\"Lukas\"] = 400   #voeg voor de sleutel \"Lukas\" de waarde 400 toe\n",
    "\n",
    "print(gamescores)"
   ]
  },
  {
   "cell_type": "markdown",
   "metadata": {},
   "source": [
    "### Opdracht 15.3 Trainingsschema uitbreiden\n",
    "<p>Het trainingsschema van Tom wordt uitgebreid met wielrennen op zondag. Voeg de training toe aan zijn schema. Doe dat op dezelfde manier als hierboven, dus op regel twee met [ ]. Druk daarna het trainingsschema af.</p>\n",
    "\n",
    "<!-- #ANTWOORD\n",
    "trainingsschema = {\"maandag\":\"hardlopen\", \"woensdag\":\"fitness\", \"zaterdag\":\"voetbal\"}\n",
    "trainingsschema[\"zondag\"] = \"wielrennen\"\n",
    "\n",
    "print(trainingsschema) -->"
   ]
  },
  {
   "cell_type": "code",
   "execution_count": null,
   "metadata": {},
   "outputs": [],
   "source": [
    "trainingsschema = {\"maandag\":\"hardlopen\", \"woensdag\":\"fitness\", \"zaterdag\":\"voetbal\"}\n",
    "\n"
   ]
  },
  {
   "cell_type": "markdown",
   "metadata": {},
   "source": [
    "<p>Klik <a href=\"https://rweeda.github.io/PythonIA/docs/IA_H15_oplossingen.html#opgave153\">hier</a> voor een voorbeelduitwerking.</p>"
   ]
  },
  {
   "cell_type": "markdown",
   "metadata": {},
   "source": [
    "## 4: Waarden aanpassen in een dictionary\n",
    "<p>Je kunt de waarde die bij een sleutel hoort aanpassen. Je geeft de sleutel tussen vierkante haken mee [ ] en rechts van de '='-teken de nieuwe waarde. In het voorbeeld hieronder passen we voor Tim (de sleutel) de score aan naar 800:</p>"
   ]
  },
  {
   "cell_type": "code",
   "execution_count": null,
   "metadata": {},
   "outputs": [],
   "source": [
    "gamescores = {\"Tim\":500, \"Janneke\":900, \"Bob\":680, \"Els\": 680}\n",
    "gamescores[\"Tim\"] = 800   #pas voor de sleutel \"Tim\" de waarde aan naar 800\n",
    "\n",
    "print(gamescores)"
   ]
  },
  {
   "cell_type": "markdown",
   "metadata": {},
   "source": [
    "### Opdracht 15.4 Trainingsschema aanpassen\n",
    "<p>Tom heeft zich voor zondag ingeschreven voor een hardloopwedstrijd. Pas zijn trainingsschema aan zodat wielrennen wordt vervangen door hardlopen. Doe dat op dezelfde manier als hierboven, dus op regel twee met [ ]. Druk daarna het trainingsschema af.</p>\n",
    "\n",
    "<!-- #ANTWOORD\n",
    "trainingsschema = {\"maandag\":\"hardlopen\", \"woensdag\":\"fitness\", \"zaterdag\":\"voetbal\",\"zondag\": \"wielrennen\"}\n",
    "trainingsschema[\"zondag\"] = \"hardloopwedstrijd\"\n",
    "\n",
    "print(trainingsschema) -->"
   ]
  },
  {
   "cell_type": "code",
   "execution_count": null,
   "metadata": {},
   "outputs": [],
   "source": [
    "trainingsschema = {\"maandag\":\"hardlopen\", \"woensdag\":\"fitness\", \"zaterdag\":\"voetbal\",\"zondag\": \"wielrennen\"}\n",
    "\n",
    "\n"
   ]
  },
  {
   "cell_type": "markdown",
   "metadata": {},
   "source": [
    "<p>Klik <a href=\"https://rweeda.github.io/PythonIA/docs/IA_H15_oplossingen.html#opgave154\">hier</a> voor een voorbeelduitwerking.</p>"
   ]
  },
  {
   "cell_type": "markdown",
   "metadata": {},
   "source": [
    "## 5: Sleutels zijn uniek\n",
    "<p>Met een sleutel kan je een bijbehorende waarde opvragen.</p>\n",
    "<code>score_dictionary = {\"Tim\":500, \"Janneke\":900, \"Bob\":680, \"Els\": 680}</code>\n",
    "<p>Bij 'Bob' hoort de waarde 680. Andersom kan niet, 680 is een waarde en niet een sleutel, dus die kan je niet gebruiken om de bijbehorende speler(s) op te vragen. 'Bob' kan daarom maar één keer voorkomen als sleutel. Kortom, een sleutel moet <b>uniek</b> zijn.</p>\n",
    "\n",
    "<p>Probeer je toch een sleutel toe te voegen die er al is, zoals een tweede 'Bob', dan zal je de waarde overschrijven in de dictionary.</p>"
   ]
  },
  {
   "cell_type": "code",
   "execution_count": null,
   "metadata": {},
   "outputs": [],
   "source": [
    "gamescores = {\"Tim\":500, \"Bob\":680, \"Els\": 680}\n",
    "gamescores[\"Harold\"] = 720   #voeg voor de sleutel \"Harold\" de waarde 720 toe\n",
    "gamescores[\"Bob\"] = 800     #sleutel 'Bob' bestaat al, dus waarde aanpassen naar 800\n",
    "\n",
    "print(gamescores)"
   ]
  },
  {
   "cell_type": "markdown",
   "metadata": {},
   "source": [
    "## 6: Sleutel-waarde paar verwijderen met <code>del</code>\n",
    "<p>Met <code>del</code> kun je een sleutel-waarde paar verwijderen uit een dictionary. Je geeft dan de dictionary mee met tussen vierkanten haken [ ] de sleutel van de paar die je wilt verwijderen. In het voorbeeld hieronder verwijderen we de sleutel 'Janneke' en haar bijbehorende score.</p> "
   ]
  },
  {
   "cell_type": "code",
   "execution_count": null,
   "metadata": {},
   "outputs": [],
   "source": [
    "gamescores = {\"Tim\":500, \"Janneke\":900, \"Bob\":680, \"Els\": 680}\n",
    "del gamescores[\"Janneke\"]   #verwijder \"Janneke\" en haar score uit de dictionary\n",
    "\n",
    "print(gamescores)"
   ]
  },
  {
   "cell_type": "markdown",
   "metadata": {},
   "source": [
    "### Opdracht 15.5 Verwijderen van een sleutel-waarde paar uit het trainingsschema\n",
    "<p>Verwijder de fitnesstraining op woensdag uit het schema van Tom.</p>\n",
    "\n",
    "<!-- ANTWOORD:\n",
    "trainingsschema = {\"maandag\":\"hardlopen\", \"woensdag\":\"fitness\", \"zaterdag\":\"voetbal\",\"zondag\": \"wielrennen\"}\n",
    "del trainingsschema[\"woensdag\"]   #verwijder \"woensdag\" en de bijbehorende activiteit uit de dictionary\n",
    "\n",
    "print(trainingsschema) -->"
   ]
  },
  {
   "cell_type": "code",
   "execution_count": null,
   "metadata": {},
   "outputs": [],
   "source": [
    "trainingsschema = {\"maandag\":\"hardlopen\", \"woensdag\":\"fitness\", \"zaterdag\":\"voetbal\",\"zondag\": \"wielrennen\"}\n"
   ]
  },
  {
   "cell_type": "markdown",
   "metadata": {},
   "source": [
    "<p>Klik <a href=\"https://rweeda.github.io/PythonIA/docs/IA_H15_oplossingen.html#opgave155\">hier</a> voor een voorbeelduitwerking.</p>"
   ]
  },
  {
   "cell_type": "markdown",
   "metadata": {},
   "source": [
    "## 7: Dictionary doorlopen met een <code>for</code>-loop\n",
    "\n",
    "<p>Met een <code>for</code>-loop kun je alle paren van een dictionary één voor één doorlopen, om bijvoorbeeld afgedrukt te worden:</p>"
   ]
  },
  {
   "cell_type": "code",
   "execution_count": null,
   "metadata": {},
   "outputs": [],
   "source": [
    "gamescores = {\"Tim\":500, \"Janneke\":900, \"Bob\":680, \"Els\": 680}\n",
    "\n",
    "for sleutel in gamescores:\n",
    "    print(sleutel)   #print de sleutels van de dictionary"
   ]
  },
  {
   "cell_type": "markdown",
   "metadata": {},
   "source": [
    "<p>Ook kunnen meteen de bijbehorende waarden worden afgedrukt:</p>"
   ]
  },
  {
   "cell_type": "code",
   "execution_count": null,
   "metadata": {},
   "outputs": [],
   "source": [
    "gamescores = {\"Tim\":500, \"Janneke\":900, \"Bob\":680, \"Els\": 680}\n",
    "\n",
    "for sleutel in gamescores:\n",
    "    print(sleutel, gamescores[sleutel])   #print de sleutels en waarden van de dictionary\n"
   ]
  },
  {
   "cell_type": "markdown",
   "metadata": {},
   "source": [
    "<p>De bijbehorende waarden kunnen ook met <code>get()</code> opgehaald worden:</p>"
   ]
  },
  {
   "cell_type": "code",
   "execution_count": null,
   "metadata": {},
   "outputs": [],
   "source": [
    "for sleutel in gamescores:\n",
    "    print(sleutel, gamescores.get(sleutel))   #print de sleutels en waarden van de dictionary"
   ]
  },
  {
   "cell_type": "markdown",
   "metadata": {},
   "source": [
    "### Opdracht 15.6 Hele trainingsschema afdrukken\n",
    "\n",
    "<p>Gebruik een <code>for</code>-loop om het trainingsschema van Tom te doorlopen en af te drukken. De uitvoer zou er zo uit moeten zien:</p>\n",
    "Je training voor maandag is hardlopen.<br>\n",
    "Je training voor woensdag is fitness.<br>\n",
    "Je training voor zaterdag is voetbal.<br>\n",
    "Je training voor zondag is wielrennen.\n",
    "\n",
    "<!-- ANTWOORD:\n",
    "trainingsschema = {\"maandag\":\"hardlopen\", \"woensdag\":\"fitness\", \"zaterdag\":\"voetbal\",\"zondag\": \"wielrennen\"}\n",
    "\n",
    "for sleutel in trainingsschema:\n",
    "    print(\"Je training voor\", sleutel, \"is\", trainingsschema.get(sleutel)+\".\")   #print de sleutels en waarden van de dictionary -->"
   ]
  },
  {
   "cell_type": "code",
   "execution_count": null,
   "metadata": {},
   "outputs": [],
   "source": [
    "trainingsschema = {\"maandag\":\"hardlopen\", \"woensdag\":\"fitness\", \"zaterdag\":\"voetbal\",\"zondag\": \"wielrennen\"}\n"
   ]
  },
  {
   "cell_type": "markdown",
   "metadata": {},
   "source": [
    "<p>Klik <a href=\"https://rweeda.github.io/PythonIA/docs/IA_H15_oplossingen.html#opgave156\">hier</a> voor een voorbeelduitwerking.</p>"
   ]
  },
  {
   "cell_type": "markdown",
   "metadata": {},
   "source": [
    "## 8: <code>keys</code>, <code>values</code> en <code>items</code>\n",
    "<p>De methode <p>keys()</p> levert alle sleutels van de dictionary op, de methode <code>values()</code> levert alle waarden, en de methode <p>items()</p> alle paren van sleutels en waarden op.</p>"
   ]
  },
  {
   "cell_type": "code",
   "execution_count": null,
   "metadata": {},
   "outputs": [],
   "source": [
    "gamescores = {\"Tim\":500, \"Janneke\":900, \"Bob\":680, \"Els\": 680}\n",
    "\n",
    "print(gamescores.keys())        # print de sleutels van de dictionary\n",
    "print(gamescores.values())      # print de waarden van de dictionary\n",
    "print(gamescores.items())       # print de paren van de dictionary"
   ]
  },
  {
   "cell_type": "markdown",
   "metadata": {},
   "source": [
    "<p>De bovenstaande woorden als <code>dict_keys</code>, <code>dict_values</code>, en <code>dict_items</code> objecten opgeleverd.</p>\n",
    "\n",
    "<p>Om de bovenstaande uitkomsten in een lijst te krijgen, kun je die met <code>list()</code> casten naar een lijst:</p>"
   ]
  },
  {
   "cell_type": "code",
   "execution_count": null,
   "metadata": {},
   "outputs": [],
   "source": [
    "gamescores = {\"Tim\":500, \"Janneke\":900, \"Bob\":680, \"Els\": 680}\n",
    "\n",
    "print( list(gamescores.keys()) )    # print een lijst van de sleutels\n",
    "print( list(gamescores.values()) )  # print een lijst van de waarden\n",
    "print( list(gamescores.items()) )   # print een lijst van de sleutels en waarden"
   ]
  },
  {
   "cell_type": "markdown",
   "metadata": {},
   "source": [
    "### Opdracht 15.7 Lijsten maken van delen van het trainingsschema\n",
    "<p>Van Tom's trainingen, maak lijsten van de volgende gegevens en print ze:</p>\n",
    "<ol style=\"list-style-type: lower-alpha\">\n",
    "<li>trainingsdagen (de sleutels),</li>\n",
    "<li>sporten (de waardes),</li>\n",
    "<li>alle trainingsdagen met bijbehorende sporten.</li>\n",
    "</ol>\n",
    "\n",
    "<!-- ANTWOORD:\n",
    "trainingsschema = {\"maandag\":\"hardlopen\", \"woensdag\":\"fitness\", \"zaterdag\":\"voetbal\",\"zondag\": \"wielrennen\"}\n",
    "\n",
    "#opdracht a\n",
    "print( list(trainingsschema.keys()) )    # print een lijst van de trainingsdagen\n",
    "\n",
    "#opdracht b\n",
    "print( list(trainingsschema.values()) )  # print een lijst van de sporten\n",
    "\n",
    "#opdracht c\n",
    "print( list(trainingsschema.items()) )   # print een lijst van alle trainingsdagen met bijbehorende sporten. -->"
   ]
  },
  {
   "cell_type": "code",
   "execution_count": null,
   "metadata": {},
   "outputs": [],
   "source": [
    "trainingsschema = {\"maandag\":\"hardlopen\", \"woensdag\":\"fitness\", \"zaterdag\":\"voetbal\",\"zondag\": \"wielrennen\"}\n"
   ]
  },
  {
   "cell_type": "markdown",
   "metadata": {},
   "source": [
    "<p>Klik <a href=\"https://rweeda.github.io/PythonIA/docs/IA_H15_oplossingen.html#opgave157\">hier</a> voor een voorbeelduitwerking.</p>"
   ]
  },
  {
   "cell_type": "markdown",
   "metadata": {},
   "source": [
    "## 9: Specifieke eigenschappen van een dictionary\n",
    "<p>Hieronder staan de belangrijkste eigenschappen van een dictionary (en de verschillen met lijsten) op een rij:</p>\n",
    "<ul>\n",
    "<li>Een sleutel kan maar één keer voorkomen in een dictionary, die is <i>uniek</i>.</li>\n",
    "<li>Dictionaries zijn ongeordend: De volgorde van gegevens in een dictionary is willekeurig. Het toevoegen van nieuwe elementen kan op een verschillende computer tot een verschillende volgorde komen, de volgorde kan zelfs plotseling drastisch wijzigen.</li>\n",
    "<li>Dictionaries zijn vaak veel sneller dan lijsten als je een specifiek element wilt opvragen. Dat komt omdat Python de hele lijst doorzoekt als je wilt zien of een element in een lijst bestaat; als de lijst langer wordt, duurt het doorzoeken ook langer. Dat is bij een dictionary niet zo, omdat daarvoor de unieke sleutel gebruikt wordt. Een lijst kan soms wel sneller zijn, bijvoorbeeld als deze vooraf gesorteerd is en je er slim doorheen zoekt.\n",
    "</li>\n",
    "\n",
    "<li>Dictionaries nemen meer geheugen in beslag dan lijsten.</li>\n",
    "</ul>\n",
    "<p>Vele concepten die gelden voor lijsten zijn dus niet van toepassing op een dictionary. Zo kun je bijvoorbeeld een dictionary niet sorteren of elementen of op een bepaalde positie invoegen.</p>\n",
    "\n",
    "\n",
    "## 9: Dictionaries vs lijsten: Wanneer welke gebruiken?\n",
    "<p>Lijsten ('Lists') en dictionaries zijn de twee meest-gebruikte data structuren in Python. Geen van beide is beter dan de ander, maar ze zijn nuttig bij verschillende problemen. Wanneer gebruik je welke?</p>\n",
    "\n",
    "\n",
    "<ul>\n",
    "<li>Lijsten zijn geordend, dictionaries niet. Dus als je elementen in een bepaald volgorde wilt houden, dan gebruik je lijsten.</li>\n",
    "\n",
    "<li>Als je alleen een reeks elementen nodig hebt die je kunt benaderen met hun index, kies dan een lijst. Een lijst is namelijk eenvoudiger dan een dictionary.</li>\n",
    "<li>Als je snel een element wilt hebben dat gekoppeld is aan een specifieke unieke sleutel, kies dan een dictionary.</li>\n",
    "</ul>\n"
   ]
  },
  {
   "cell_type": "markdown",
   "metadata": {},
   "source": [
    "### Opdracht 15.8 Keuzes maken: lijst of dictionary\n",
    "\n",
    "<p>Geef voor de volgende taken aan of je ze het beste met een lijst of een dictionary kan implementeren. Leg je keuze uit.</p>\n",
    "\n",
    "<ol style=\"list-style-type: lower-alpha\">\n",
    "<li>Maak een programma dat de namen van studenten in een klas opslaat en de naam van een willekeurige student kan ophalen.</li>\n",
    "<li>Maak een programma dat telefoonnummers opslaat en het telefoonnummer van een persoon kan ophalen op basis van hun naam.</li>\n",
    "<li>Maak een programma dat de cijfers van studenten opslaat en het gemiddelde cijfer van de klas berekent.</li>\n",
    "<li>Maak een programma dat de items in een winkelwagen opslaat en de totale prijs berekent.</li>\n",
    "<li>Maak een programma dat de frequentie van elk letter in een tekst telt.</li>\n",
    "</ol>\n",
    "\n",
    "\n",
    "\n",
    "<!-- ANTWOORDEN:\n",
    "<ol style=\"list-style-type: lower-alpha\">\n",
    "<li>Lijst: Een lijst is geschikt omdat je alleen de namen van studenten opslaat en de volgorde belangrijk kan zijn. Je hebt geen sleutel-waarde paren nodig, dus een lijst is eenvoudiger en efficiënter.</li>\n",
    "<li>Dictionary: Een dictionary is beter omdat je sleutel-waarde paren nodig hebt (naam-telefoonnummer). Dit maakt het ophalen van gegevens op basis van een sleutel (naam) veel efficiënter.</li>\n",
    "<li>Lijst: Een lijst is geschikt omdat je alleen de cijfers opslaat en je de volgorde van invoer wilt behouden om bijvoorbeeld de cijfers in volgorde van binnenkomst te verwerken.\n",
    "<li>Lijst: Een lijst is geschikt als je alleen de items opslaat en de volgorde van toevoeging belangrijk is. Als je echter ook de prijzen en hoeveelheden van elk item wilt opslaan, kan een Dictionary beter zijn.</li>\n",
    "<li>Dictionary: Een dictionary is ideaal omdat je elk letter als sleutel kunt gebruiken en de frequentie als waarde. Dit maakt het gemakkelijk om de frequentie van elk letter bij te houden en op te halen.</li>\n",
    "</ol> -->\n",
    "\n",
    "<p>Klik <a href=\"https://rweeda.github.io/PythonIA/docs/IA_H15_oplossingen.html#opgave158\">hier</a> voor een voorbeelduitwerking.</p>"
   ]
  }
 ],
 "metadata": {
  "kernelspec": {
   "display_name": "Python 3",
   "language": "python",
   "name": "python3"
  },
  "language_info": {
   "codemirror_mode": {
    "name": "ipython",
    "version": 3
   },
   "file_extension": ".py",
   "mimetype": "text/x-python",
   "name": "python",
   "nbconvert_exporter": "python",
   "pygments_lexer": "ipython3",
   "version": "3.9.0"
  }
 },
 "nbformat": 4,
 "nbformat_minor": 2
}
