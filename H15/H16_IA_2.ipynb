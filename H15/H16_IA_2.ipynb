{
 "cells": [
  {
   "cell_type": "markdown",
   "metadata": {},
   "source": [
    "## 2: Waarden uit een dictionary filteren en in een lijst zetten\n",
    "\n",
    "<p>Soms wil je alleen bepaalde waarden uit een dictionary hebben, bijvoorbeeld alle getallen, behalve 0. Die waarden sla je in een lijst op. Dat noemen we <i>filteren</i>. Je maakt een nieuwe lege lijst aan en vul je aan met de waarden uit de dictionary die je wilt hebben.</p>\n",
    "\n",
    "<p>In het voorbeeld hieronder maken we een nieuwe lijst aan:&nbsp;<code>zuidAmerikaLijst</code>. We doorlopen de dictionary <code>steden</code>. Als we een stag tegenkomen die in Zuid-Amerika ligt, dan voegen we die aan <code>zuidAmerikaLijst</code> toe. Na afloop hebben we dus onze oorspronkelijke dictionary en een nieuwe lijst <code>zuidAmerikaLijst</code> met de Zuid-Amerikaanse steden.</p>\n",
    "\n",
    "TODO IMAGE AANPASSEN NAAR DICTIONARY\n",
    "<p><img src=\"https://course.cs.ru.nl/pythonVO/img/10.2FilterWeekendenEruit_Stroomdiagram.png\" alt=\"Figuur: Stroomdiagram waarden eruit filteren\" width=\"400\"></p>\n",
    "\n",
    "\n"
   ]
  },
  {
   "cell_type": "code",
   "execution_count": null,
   "metadata": {},
   "outputs": [],
   "source": [
    "steden = {\n",
    "    \"Amsterdam\": {\"land\": \"Nederland\", \"inwoners\": 921000, \"werelddeel\": \"Europa\"},\n",
    "    \"Buenos Aires\": {\"land\": \"Argentinië\", \"inwoners\": 2890000, \"werelddeel\": \"Zuid-Amerika\"},\n",
    "    \"Rome\": {\"land\": \"Italië\", \"inwoners\": 2873000, \"werelddeel\": \"Europa\"},\n",
    "    \"São Paulo\": {\"land\": \"Brazilië\", \"inwoners\": 12330000, \"werelddeel\": \"Zuid-Amerika\"},\n",
    "    \"Tokyo\": {\"land\": \"Japan\", \"inwoners\": 13960000, \"werelddeel\": \"Azië\"}\n",
    "}\n",
    "\n",
    "zuidAmerikaLijst =[]                                # maak een lege lijst\n",
    "for stad, gegevens in steden.items():               # loop door de dictionary en haal de gegevens voor elke stad op\n",
    "\tif gegevens[\"werelddeel\"] == \"Zuid-Amerika\":    # als de werelddeel Zuid-Amerika is\n",
    "\t\tzuidAmerikaLijst.append( stad )\t            #voeg stad toe aan zuidAmerikaLijst\n",
    "\n",
    "print(\"Lijst met Zuid-Amerikaanse steden:\", zuidAmerikaLijst)"
   ]
  },
  {
   "cell_type": "markdown",
   "metadata": {},
   "source": [
    "### Opdracht 16.5 Miljoenensteden\n",
    "\n",
    "Doorloop de dictionary en lever een lijst op met miljoenensteden (steden met meer dan 1000000 inwoners). Print de lijst om te controleren of vier van de steden erin voorkomen."
   ]
  },
  {
   "cell_type": "code",
   "execution_count": null,
   "metadata": {},
   "outputs": [],
   "source": [
    "steden = {\n",
    "    \"Amsterdam\": {\"land\": \"Nederland\", \"inwoners\": 921000, \"werelddeel\": \"Europa\"},\n",
    "    \"Buenos Aires\": {\"land\": \"Argentinië\", \"inwoners\": 2890000, \"werelddeel\": \"Zuid-Amerika\"},\n",
    "    \"Rome\": {\"land\": \"Italië\", \"inwoners\": 2873000, \"werelddeel\": \"Europa\"},\n",
    "    \"São Paulo\": {\"land\": \"Brazilië\", \"inwoners\": 12330000, \"werelddeel\": \"Zuid-Amerika\"},\n",
    "    \"Tokyo\": {\"land\": \"Japan\", \"inwoners\": 13960000, \"werelddeel\": \"Azië\"}\n",
    "}\n",
    "\n"
   ]
  },
  {
   "cell_type": "markdown",
   "metadata": {},
   "source": [
    "<p>Klik <a href=\"https://rweeda.github.io/PythonIA/docs/IA_H15_oplossingen.html#opgave165\">hier</a> voor een voorbeelduitwerking.</p>\n",
    "\n",
    "<!-- ANTWOORD\n",
    "miljoenenstedenLijst =[]                            # maak een lege lijst\n",
    "for stad, gegevens in steden.items():               # loop door de dictionary en haal de gegevens voor elke stad op\n",
    "\tif gegevens[\"inwoners\"] > 1000000 :              # als er meer dan 1 miljoen inwoners zijn\n",
    "\t\tmiljoenenstedenLijst.append( stad )\t        # voeg stad toe aan miljoenenstedenLijst\n",
    "\n",
    "print(\"Lijst met miljoenensteden:\", miljoenenstedenLijst)\n",
    "-->"
   ]
  },
  {
   "cell_type": "markdown",
   "metadata": {},
   "source": [
    "\n",
    "### Opdracht 16.6 Lijst van alle dieren in de Savanne\n",
    "\n",
    "Druk een lijst af van alle dieren in de `Dierentuin' die in de Savanne verblijven."
   ]
  },
  {
   "cell_type": "code",
   "execution_count": null,
   "metadata": {},
   "outputs": [],
   "source": [
    "dierentuin = {\n",
    "    \"Leeuw\": {\"soort\": \"Zoogdier\", \"verblijf\": \"Savanne\", \"dieet\": [\"vlees\"], \"aantal\": 2},\n",
    "    \"Pinguïn\": {\"soort\": \"Vogel\", \"verblijf\": \"Poolgebied\", \"dieet\": [\"vis\", \"kril\"], \"aantal\": 15},\n",
    "    \"Python\": {\"soort\": \"Reptiel\", \"verblijf\": \"Terrarium\", \"dieet\": [\"muizen\", \"ratten\"], \"aantal\": 3},\n",
    "    \"Olifant\": {\"soort\": \"Zoogdier\", \"verblijf\": \"Savanne\", \"dieet\": [\"planten\", \"fruit\", \"bladeren\"], \"aantal\": 1},\n",
    "    \"IJsbeer\": {\"soort\": \"Zoogdier\", \"verblijf\": \"Poolgebied\", \"dieet\": [\"vlees\"], \"aantal\": 2}\n",
    "}"
   ]
  },
  {
   "cell_type": "markdown",
   "metadata": {},
   "source": [
    "\n",
    "<p>Bekijk <a href=\"https://rweeda.github.io/PythonIA/docs/IA_H10_oplossingen.html#opgave166\" target=\"_blank\">hier</a> de voorbeelduitwerking.</p>\n",
    "\n",
    "<!--\n",
    "dierentuin = {\n",
    "    \"Leeuw\": {\"soort\": \"Zoogdier\", \"verblijf\": \"Savanne\", \"dieet\": [\"vlees\"], \"aantal\": 2},\n",
    "    \"Pinguïn\": {\"soort\": \"Vogel\", \"verblijf\": \"Poolgebied\", \"dieet\": [\"vis\", \"kril\"], \"aantal\": 15},\n",
    "    \"Python\": {\"soort\": \"Reptiel\", \"verblijf\": \"Terrarium\", \"dieet\": [\"muizen\", \"ratten\"], \"aantal\": 3},\n",
    "    \"Olifant\": {\"soort\": \"Zoogdier\", \"verblijf\": \"Savanne\", \"dieet\": [\"planten\", \"fruit\", \"bladeren\"], \"aantal\": 1},\n",
    "    \"IJsbeer\": {\"soort\": \"Zoogdier\", \"verblijf\": \"Poolgebied\", \"dieet\": [\"vlees\"], \"aantal\": 2}\n",
    "}\n",
    "\n",
    "savanneLijst = []                                 # maak een lege lijst\n",
    "for dier, gegevens in dierentuin.items():        # loop door de dictionary en haal de gegevens voor elk dier op\n",
    "    if gegevens[\"verblijf\"] == \"Savanne\":         # als het verblijf Savanne is\n",
    "        savanneLijst.append(dier)                  # voeg het dier toe aan savanneLijst\n",
    "\n",
    "print(savanneLijst)\n",
    "-->"
   ]
  },
  {
   "cell_type": "markdown",
   "metadata": {},
   "source": [
    "### Opdracht 16.7 Lijst van alle dieren die vlees eten\n",
    "\n",
    "Druk een lijst af van alle dieren in de `Dierentuin' die vlees eten.\n"
   ]
  },
  {
   "cell_type": "code",
   "execution_count": null,
   "metadata": {},
   "outputs": [],
   "source": [
    "dierentuin = {\n",
    "    \"Leeuw\": {\"soort\": \"Zoogdier\", \"verblijf\": \"Savanne\", \"dieet\": [\"vlees\"], \"aantal\": 2},\n",
    "    \"Pinguïn\": {\"soort\": \"Vogel\", \"verblijf\": \"Poolgebied\", \"dieet\": [\"vis\", \"kril\"], \"aantal\": 15},\n",
    "    \"Python\": {\"soort\": \"Reptiel\", \"verblijf\": \"Terrarium\", \"dieet\": [\"muizen\", \"ratten\"], \"aantal\": 3},\n",
    "    \"Olifant\": {\"soort\": \"Zoogdier\", \"verblijf\": \"Savanne\", \"dieet\": [\"planten\", \"fruit\", \"bladeren\"], \"aantal\": 1},\n",
    "    \"IJsbeer\": {\"soort\": \"Zoogdier\", \"verblijf\": \"Poolgebied\", \"dieet\": [\"vlees\"], \"aantal\": 2}\n",
    "}\n"
   ]
  },
  {
   "cell_type": "markdown",
   "metadata": {},
   "source": [
    "\n",
    "<p>Bekijk <a href=\"https://rweeda.github.io/PythonIA/docs/IA_H10_oplossingen.html#opgave16.7\" target=\"_blank\">hier</a> de voorbeelduitwerking.</p>\n",
    "\n",
    "<!--\n",
    "dierentuin = {\n",
    "    \"Leeuw\": {\"soort\": \"Zoogdier\", \"verblijf\": \"Savanne\", \"dieet\": [\"vlees\"], \"aantal\": 2},\n",
    "    \"Pinguïn\": {\"soort\": \"Vogel\", \"verblijf\": \"Poolgebied\", \"dieet\": [\"vis\", \"kril\"], \"aantal\": 15},\n",
    "    \"Python\": {\"soort\": \"Reptiel\", \"verblijf\": \"Terrarium\", \"dieet\": [\"muizen\", \"ratten\"], \"aantal\": 3},\n",
    "    \"Olifant\": {\"soort\": \"Zoogdier\", \"verblijf\": \"Savanne\", \"dieet\": [\"planten\", \"fruit\", \"bladeren\"], \"aantal\": 1},\n",
    "    \"IJsbeer\": {\"soort\": \"Zoogdier\", \"verblijf\": \"Poolgebied\", \"dieet\": [\"vlees\"], \"aantal\": 2}\n",
    "}\n",
    "\n",
    "vleesDiet = []                                 # maak een lege lijst\n",
    "for dier, gegevens in dierentuin.items():        # loop door de dictionary en haal de gegevens voor elk dier op\n",
    "    if \"vlees\" in gegevens[\"dieet\"]:            # als er vlees in het dieet van het dier zit\n",
    "        vleesDiet.append(dier)                  # voeg het dier toe aan vleesDiet\n",
    "\n",
    "print(vleesDiet)\n",
    "-->"
   ]
  }
 ],
 "metadata": {
  "kernelspec": {
   "display_name": "Python 3",
   "language": "python",
   "name": "python3"
  },
  "language_info": {
   "codemirror_mode": {
    "name": "ipython",
    "version": 3
   },
   "file_extension": ".py",
   "mimetype": "text/x-python",
   "name": "python",
   "nbconvert_exporter": "python",
   "pygments_lexer": "ipython3",
   "version": "3.13.2"
  }
 },
 "nbformat": 4,
 "nbformat_minor": 2
}
