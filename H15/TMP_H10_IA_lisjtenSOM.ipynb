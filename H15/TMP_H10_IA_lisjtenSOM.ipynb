{
 "cells": [
  {
   "cell_type": "markdown",
   "metadata": {},
   "source": [
    "## 6: Som van alle waarden\n",
    "<p>Met een <code>for</code>-loop kun je ook bepalen wat de som van alle waarden in de lijst is.\n",
    "    Je gebruikt daarvoor een variabele om de som bij te houden. Je doorloopt de lijst en elk getal tel je op bij de som. Om te beginnen is de som 0. Na afloop is dat de som van alle waarden in de lijst.</p>\n",
    "\n"
   ]
  },
  {
   "cell_type": "code",
   "execution_count": null,
   "metadata": {},
   "outputs": [],
   "source": [
    "getallenlijst = [ 4, 2, 3, 1]\n",
    "\n",
    "som = 0             #som begint op 0\n",
    "for getal in getallenlijst:\n",
    "\tsom += getal       #tel getal op bij de huidige som\n",
    "\t\n",
    "print(\"Som is:\", som)"
   ]
  },
  {
   "cell_type": "markdown",
   "metadata": {},
   "source": [
    "\n",
    "### Opdracht 10.8 Totale regenval\n",
    "\n",
    "<p>Janneke hield voor de maand februari dagelijks bij hoeveel mm regen er gevallen is. Gebruik een loop om de lijst te doorlopen en bepaal hoeveel regen er in totaal gevallen is. Na afloop druk je af hoeveel mm regen er is gevallen, dus <i>\"Er is 223 mm regen gevallen\".</i></p>\n",
    "\n"
   ]
  },
  {
   "cell_type": "code",
   "execution_count": null,
   "metadata": {},
   "outputs": [],
   "source": [
    "regenlijst = [ 8, 10, 15, 20, 18, 15, 13, 14, 16, 34, 12, 10, 0, 0, 0, 1, 2, 0, 4, 8, 0, 0, 1, 2, 1, 10, 8, 1 ]"
   ]
  },
  {
   "cell_type": "markdown",
   "metadata": {},
   "source": [
    "<p>Bekijk <a href=\"https://rweeda.github.io/PythonIA/docs/IA_H10_oplossingen.html#opgave1061\" target=\"_blank\">hier</a> de voorbeelduitwerking.</p>"
   ]
  }
 ],
 "metadata": {
  "kernelspec": {
   "display_name": "Python 3",
   "language": "python",
   "name": "python3"
  },
  "language_info": {
   "codemirror_mode": {
    "name": "ipython",
    "version": 3
   },
   "file_extension": ".py",
   "mimetype": "text/x-python",
   "name": "python",
   "nbconvert_exporter": "python",
   "pygments_lexer": "ipython3",
   "version": "3.11.8"
  }
 },
 "nbformat": 4,
 "nbformat_minor": 2
}
