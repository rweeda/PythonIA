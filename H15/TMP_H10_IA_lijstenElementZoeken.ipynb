{
 "cells": [
  {
   "cell_type": "markdown",
   "metadata": {},
   "source": [
    "## 4: Dictionary doorzoeken\n",
    "\n",
    "\n",
    "<p>Om een dictionary te doorzoeken of er een specifieke waarde in voorkomt, gebruik je een logische vlag (op hetzelfde manier als in <i>Onderwerp '7.3 Logische vlag'</i>). Je houdt een Boolean <code>gevonden</code> bij, die eerst <code>False</code> is. Je doorloopt de dictionary en als je de waarde vindt, zet je de vlag op <code>True</code>.</p>\n",
    "\n",
    "TODO\n",
    "<p><img src=\"https://course.cs.ru.nl/pythonVO/img/10.4VoorkomensZoeken_Stroomdiagram.jpg\" alt=\"Figuur: Stroomdiagram zoeken\" width=\"400\"></p>\n",
    "\n",
    "\n",
    "<p>In het voorbeeld hieronder bekijken we of \"Rome\" in <code>steden</code> voorkomt of niet.</p>\n",
    "\n"
   ]
  },
  {
   "cell_type": "code",
   "execution_count": 3,
   "metadata": {},
   "outputs": [
    {
     "name": "stdout",
     "output_type": "stream",
     "text": [
      "Er komt geen Rome voor in de dictionary.\n"
     ]
    }
   ],
   "source": [
    "steden = {\n",
    "    \"Amsterdam\": {\"land\": \"Nederland\", \"inwoners\": 921000, \"werelddeel\": \"Europa\"},\n",
    "    \"Buenos Aires\": {\"land\": \"Argentinië\", \"inwoners\": 2890000, \"werelddeel\": \"Zuid-Amerika\"},\n",
    "    \"Rome\": {\"land\": \"Italië\", \"inwoners\": 2873000, \"werelddeel\": \"Europa\"},\n",
    "    \"São Paulo\": {\"land\": \"Brazilië\", \"inwoners\": 12330000, \"werelddeel\": \"Zuid-Amerika\"},\n",
    "    \"Tokyo\": {\"land\": \"Japan\", \"inwoners\": 13960000, \"werelddeel\": \"Azië\"}\n",
    "}\n",
    "\n",
    "\n",
    "\n",
    "rome_gevonden = False\t#logische vlag: Rome nu nog niet gevonden\n",
    "\n",
    "for stad in steden:\n",
    "\tif stad == \"Rome\":\t\t#'Rome' in dicitonary gevonden\n",
    "\t\trome_gevonden = True\t#logische vlag aanpassen\n",
    "\n",
    "\n",
    "if rome_gevonden == True:\n",
    "\tprint(\"Rome is gevonden!\")\n",
    "else:\n",
    "\tprint(\"Er komt geen Rome voor in de dictionary.\")"
   ]
  },
  {
   "cell_type": "markdown",
   "metadata": {},
   "source": [
    "\n",
    "<p>Toelichting:\n",
    "</p>\n",
    "<ul>\n",
    "    <li>we doorlopen de dictionary met een <code>for</code>-loop.</li>\n",
    "    <li>om te beginnen is 'Rome' nog niet gevonden, dus <code>rome_gevonden</code> is\n",
    "        <code>False</code>.\n",
    "    </li>\n",
    "    <li>komen we 'Rome' tegen, dan wordt <code>rome_gevonden</code>\n",
    "        <code>True</code>.\n",
    "    </li>\n",
    "    <li>is <code>rome_gevonden</code> na afloop nog steeds <code>False</code>, dan weet je dat er geen 'Rome' in de dictionary voorkomt als sleutel.</li>\n",
    "</ul>\n",
    "<p></p>\n",
    "\n",
    "\n"
   ]
  },
  {
   "cell_type": "code",
   "execution_count": 9,
   "metadata": {},
   "outputs": [
    {
     "name": "stdout",
     "output_type": "stream",
     "text": [
      "Rome is gevonden!\n"
     ]
    }
   ],
   "source": [
    "#SPEELTUIMTEN\n",
    "\n",
    "steden = {\n",
    "    \"Amsterdam\": {\"land\": \"Nederland\", \"inwoners\": 921000, \"werelddeel\": \"Europa\"},\n",
    "    \"Buenos Aires\": {\"land\": \"Argentinië\", \"inwoners\": 2890000, \"werelddeel\": \"Zuid-Amerika\"},\n",
    "    \"Rome\": {\"land\": \"Italië\", \"inwoners\": 2873000, \"werelddeel\": \"Europa\"},\n",
    "    \"São Paulo\": {\"land\": \"Brazilië\", \"inwoners\": 12330000, \"werelddeel\": \"Zuid-Amerika\"},\n",
    "    \"Tokyo\": {\"land\": \"Japan\", \"inwoners\": 13960000, \"werelddeel\": \"Azië\"}\n",
    "}\n",
    "\n",
    "\n",
    "\n",
    "rome_gevonden = False\t#logische vlag: Rome nu nog niet gevonden\n",
    "\n",
    "for stad, gegevens in steden.items():\n",
    "\tif (stad == \"Rome\" or gegevens[\"land\"] ==\"Rome\" or gegevens[\"werelddeel\"] ==\"Rome\"):\t\t#'Rome' in dicitonary gevonden\n",
    "\t\trome_gevonden = True\t#logische vlag aanpassen\n",
    "\n",
    "\n",
    "if rome_gevonden == True:\n",
    "\tprint(\"Rome is gevonden!\")\n",
    "else:\n",
    "\tprint(\"Er komt geen Rome voor in de dictionary.\")"
   ]
  },
  {
   "cell_type": "markdown",
   "metadata": {},
   "source": [
    "\n",
    "### Opdracht 10.6 Check op onvoldoendes in cijferlijst\n",
    "\n",
    "<p>Schrijf een functie die de cijferlijst van een leerling doorloopt, <code>True</code> oplevert als hier een onvoldoende in staat, anders <code>False</code> oplevert. Een 5 of lager is onvoldoende.</p>\n",
    "\n",
    "<p>Test je functie met de volgende cijferlijsten (zet ze om de beurt in commentaar):</p>\n",
    "\n",
    "\n",
    "\n",
    "\n",
    "\n"
   ]
  },
  {
   "cell_type": "code",
   "execution_count": null,
   "metadata": {},
   "outputs": [],
   "source": [
    "cijferLijst = [8.2, 7.4, 6.1, 9.0, 4.9, 8.0]\t#met onvoldoende\n",
    "#cijferLijst = [8.2, 7.4, 6.1, 9.0, 5.1, 8.0]\t#zonder onvoldoende\n"
   ]
  },
  {
   "cell_type": "markdown",
   "metadata": {},
   "source": [
    "\n",
    "<p>Bekijk <a href=\"https://rweeda.github.io/PythonIA/docs/IA_H10_oplossingen.html#opgave1041\" target=\"_blank\">hier</a> de voorbeelduitwerking.</p>"
   ]
  }
 ],
 "metadata": {
  "kernelspec": {
   "display_name": "Python 3",
   "language": "python",
   "name": "python3"
  },
  "language_info": {
   "codemirror_mode": {
    "name": "ipython",
    "version": 3
   },
   "file_extension": ".py",
   "mimetype": "text/x-python",
   "name": "python",
   "nbconvert_exporter": "python",
   "pygments_lexer": "ipython3",
   "version": "3.13.2"
  }
 },
 "nbformat": 4,
 "nbformat_minor": 2
}
