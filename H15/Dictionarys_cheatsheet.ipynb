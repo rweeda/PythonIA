{
 "cells": [
  {
   "cell_type": "markdown",
   "id": "00ba2831",
   "metadata": {},
   "source": [
    "<h1>Dictionary's - cheatsheet</h1>"
   ]
  },
  {
   "cell_type": "markdown",
   "id": "79686b97",
   "metadata": {},
   "source": [
    "<img src=\"https://raw.githubusercontent.com/rweeda/PythonIA/main/img/dicitonary_gamescores.png\" width=\"300\">"
   ]
  },
  {
   "cell_type": "code",
   "execution_count": null,
   "id": "5c05cd69",
   "metadata": {},
   "outputs": [],
   "source": [
    "# 1: Dictionary maken en afdrukken\n",
    "leeg_dictionary = dict()\n",
    "\n",
    "score_dictionary = {\"Tim\":500, \"Janneke\":900, \"Bob\":680}\n",
    "print(score_dictionary)  # dictionary afdrukken"
   ]
  },
  {
   "cell_type": "code",
   "execution_count": null,
   "id": "1fe22dae",
   "metadata": {},
   "outputs": [],
   "source": [
    "# 2: Waarde ophalen\n",
    "score_van_Bob = gamescores[\"Bob\"]   # haalt de bijbehorende waarde van de sleutel \"Bob\" op, namelijk 680\n",
    "\n",
    "# Waarde ophalen met get()\n",
    "score_van_Janneke = gamescores.get(\"Janneke\")  # haalt de bijbehorende waarde van de sleutel \"Janneke\" op, namelijk 900"
   ]
  },
  {
   "cell_type": "code",
   "execution_count": null,
   "id": "4573e3b0",
   "metadata": {},
   "outputs": [],
   "source": [
    "# 3: Waarde toevoegen\n",
    "gamescores[\"Karel\"] = 750  # voegt een nieuwe sleutel-waarde paar"
   ]
  },
  {
   "cell_type": "code",
   "execution_count": null,
   "id": "2195b5f2",
   "metadata": {},
   "outputs": [],
   "source": [
    "# 4: Waarde aanpassen\n",
    "gamescores[\"Tim\"] = 600  # past de waarde van de sleutel \"Tim\" aan naar 600"
   ]
  },
  {
   "cell_type": "code",
   "execution_count": null,
   "id": "d82dddf7",
   "metadata": {},
   "outputs": [],
   "source": [
    "# 6: Sleutelwaarde-paar verwijderen\n",
    "del gamescores[\"Janneke\"]  # verwijdert het sleutel-waarde paar met sleutel \"Janneke"
   ]
  },
  {
   "cell_type": "code",
   "execution_count": null,
   "id": "79c7ef15",
   "metadata": {},
   "outputs": [],
   "source": [
    "# 7. Dictionary doorlopen met een for-loop\n",
    "for sleutel in gamescores:\n",
    "    print(sleutel)   #print de sleutels van de dictionary\n",
    "    print(gamescores[sleutel])  # print de bijbehorende waarde van de sleutel\n",
    "    print(gamescores.get(sleutel))  # print de bijbehorende waarde van de sleutel met get()"
   ]
  },
  {
   "cell_type": "code",
   "execution_count": null,
   "id": "a3e310eb",
   "metadata": {},
   "outputs": [],
   "source": [
    "# 8: keys, values en items\n",
    "print(gamescores.keys())        # print de sleutels van de dictionary\n",
    "print(gamescores.values())      # print de waarden van de dictionary\n",
    "print(gamescores.items())       # print de paren van de dictionary"
   ]
  },
  {
   "cell_type": "code",
   "execution_count": null,
   "id": "b20f2c70",
   "metadata": {},
   "outputs": [],
   "source": [
    "# 11: Dictionary's opslaan en laden van je computer\n",
    "import json                                  # importeer de json-package\n",
    "\n",
    "uitvoer_bestand = open('score.json', 'w')    # open het bestand met schrijfrechten ('w')\n",
    "json.dump(score_dictionary, uitvoer_bestand) # schrijf de inhoud van het spel_info dictionary in het bestand\n",
    "uitvoer_bestand.close()                      # sluit het bestand"
   ]
  },
  {
   "cell_type": "code",
   "execution_count": null,
   "id": "941baafa",
   "metadata": {},
   "outputs": [],
   "source": [
    "# 11: Dictionary's laden van je computer\n",
    "import json                                     # importeer de json-package\n",
    "\n",
    "invoer_bestand = open('score.json', 'r')        # open het bestand met leesrechten ('r')\n",
    "score_dictionary = json.load(invoer_bestand)    # laad de inhoud van het bestand in de spel_info dictionary\n",
    "invoer_bestand.close()                          # sluit het bestand"
   ]
  }
 ],
 "metadata": {
  "language_info": {
   "name": "python"
  }
 },
 "nbformat": 4,
 "nbformat_minor": 5
}
