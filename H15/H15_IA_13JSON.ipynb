{
 "cells": [
  {
   "cell_type": "markdown",
   "id": "ae1cc706-ebb9-485e-8f1a-90f3e38a64a9",
   "metadata": {},
   "source": [
    "## 11: Dictionary's opslaan en laden van je computer\n",
    "\n",
    "\n",
    "In Python bestaan dictionaries alleen in het werkgeheugen. Dit betekent dat als je programma stopt, alle gegevens in de dictionary verloren gaan. Stel, je maakt een spel waarbij de scores moeten worden opgeslagen. Zonder een manier om de dictionary op te slaan, zouden alle scores verdwijnen zodra het spel wordt afgesloten.\n",
    "\n",
    "Je leert nu hoe je een dictionary kunt opslaan op je computer als een <b>JSON</b>-bestand, en hoe je het dictionary kan laden van je computer. Met een JSON-bestand kan je makkelijk gestructureerde data opslaan, zoals de gegevens dat in een dictionary staan."
   ]
  },
  {
   "cell_type": "markdown",
   "id": "fe3ce868-ae22-4621-8c42-f90cc3e4988b",
   "metadata": {},
   "source": [
    "### Een dictionary opslaan op je computer\n",
    "\n",
    "Om een dictionary als JSON-bestand op te kunnen slaan moet je eerst een <b>json package</b> importeren, een bestand openen of aanmaken, de data in het bestand schrijven (met <code>dump</code>) en tot slot het bestand weer sluiten.\n",
    "\n",
    "In het voorbeeld hieronder slaan we de gegevens van het dictionary <code>spel_info</code> op in het <code>spelstand.json</code> bestand:\n",
    "\n"
   ]
  },
  {
   "cell_type": "code",
   "execution_count": null,
   "id": "4cca811e",
   "metadata": {},
   "outputs": [],
   "source": [
    "spel_info = {\n",
    "    \"gold\": 100,\n",
    "    \"silver\": 50,\n",
    "    \"sword\" : True\n",
    "}\n",
    "\n",
    "import json                             # importeer de json-package\n",
    "outfile = open('spelstand.json', 'w')   # open het bestand met schrijfrechten ('w')\n",
    "json.dump(spel_info, outfile)           # schrijf de inhoud van het spel_info dictionary in het bestand\n",
    "outfile.close()                         # sluit het bestand"
   ]
  },
  {
   "cell_type": "markdown",
   "id": "2e22e287-dd56-4d07-adf1-77169aa89a8a",
   "metadata": {},
   "source": [
    "Toelichting:\n",
    "<ul>\n",
    "<li>Met <code>import json</code> importeren we de <b>json</b>-package. Deze helpt ons met het opslaan van het dictionary op de computer.</li>\n",
    "<li>Met <code>outfile = open('spelstand.json', 'w')</code> openen we een bestand met de naam <i>spelstand.json</i>, en noemen die <code>outfile</code>. Deze staat in dezelfde map als dit notebook. Met '<b>w</b>' (kort voor 'write' in het Engels) geef je aan dat je in het bestand mag schrijven. Bestaat het bestand nog niet, dan wordt die gemaakt.</li>\n",
    "<li>Met <code>dump</code> uit de json-package schrijven we de inhoud van het <code>spel_info</code>-dictionary naar ons <codeo>outfile</code>-bestand.</li>\n",
    "<li>Na afloop sluiten we het bestand met <code>close</code>.\n",
    "</ul>\n"
   ]
  },
  {
   "cell_type": "markdown",
   "id": "b85fd968-7aa5-4421-bdf2-37a55755448d",
   "metadata": {},
   "source": [
    "### Een dictionary laden van een computer\n",
    "Je hebt net geleerd hoe je een dictionary kan opslaan op je computer. Nu ga je leren hoe je een opgeslagen dictionary weer kan laden vanaf de computer.\n",
    "\n",
    "In het voorbeeld hieronder openen we het <code>spelstand.json</code> bestand en laden de inhoud in een dictionary <code>spel_info</code>."
   ]
  },
  {
   "cell_type": "code",
   "execution_count": null,
   "id": "cd6f0a29-dbc4-425b-a099-54eeed6f11d0",
   "metadata": {},
   "outputs": [],
   "source": [
    "import json                          # importeer de json-package\n",
    "infile = open('spelstand.json', 'r') # open het bestand met leesrechten ('r')\n",
    "spel_info = json.load(infile)        # laad de inhoud van het bestand in de spel_info dictionary\n",
    "infile.close()                       # sluit het bestand\n",
    "\n",
    "print(spel_info)                    # print de inhoud van de spel_info dictionary"
   ]
  },
  {
   "cell_type": "markdown",
   "id": "0ca2aaf0-bd5b-4be7-9fb9-1eb15f2285de",
   "metadata": {},
   "source": [
    "Toelichting:\n",
    "<ul>\n",
    "<li>Met <code>infile = open('gamestand.json', 'r')</code> openen we het bestand <code>spelstand.json</code> om er informatie uit te lezen (vandaar 'r' van read in plaats van 'w' van write).</li>\n",
    "<li>Met <code>spel_info = json.load(infile)</code> laden we de inhoud van het bestand in de <code>spel_info</code> dictionary.</li>\n",
    "<li>Na afloop sluiten we het bestand af met <code>close</code>.</li>\n",
    "</ul>\n"
   ]
  },
  {
   "cell_type": "markdown",
   "id": "5c3b30d5-172b-4e97-9370-59cbca00bb3a",
   "metadata": {},
   "source": [
    "### Opdracht 11.9: Je eigen IMDB\n",
    "IMDb (Internet Movie Database) is een online database met informatie over films en tv-series. Je vindt er gegevens zoals samenvattingen, trailers, recensies van gebruikers en beoordelingen. De geneste dictionary <code>film_beoordelingen</code> hieronder bevat data van twee films, die ga je uitbreiden, in een bestand opslaan en printen:\n",
    "<ol style=\"list-style-type: lower-alpha\">\n",
    "<li>voeg één extra film toe aan het dictionary <code>film_beoordelingen</code>, bijvoorbeeld de film \"The Dark Knight\" uit jaar 2008 die een 9 als beoordeling kreeg;</li>\n",
    "<li>print de inhoud van het dictionary <code>film_beoordelingen</code> en controleer dat de film is toegevoegd;</li>\n",
    "<li>importeer de <code>json</code> package;\n",
    "<li>open een bestand genaamd <code>beoordelingen.json</code> met rechten om erin te schrijven;\n",
    "<li>sla de dictionary <code>film_beoordelingen</code> op in het bestand;\n",
    "<li>sluit het bestand.</li>\n",
    "</ol>"
   ]
  },
  {
   "cell_type": "code",
   "execution_count": null,
   "id": "2e772893-f2e6-4b86-a31a-0482401f3122",
   "metadata": {},
   "outputs": [],
   "source": [
    "film_beoordelingen = {\n",
    "    \"The Shawshank Redemption\": {\n",
    "        \"jaar\": 1994,\n",
    "        \"beoordeling\": 9.3\n",
    "    },\n",
    "    \"The Godfather\": {\n",
    "        \"jaar\": 1972,\n",
    "        \"beoordeling\": 9.2\n",
    "    }\n",
    "}"
   ]
  },
  {
   "cell_type": "markdown",
   "id": "2e211d54",
   "metadata": {},
   "source": [
    "\n",
    "<p>Bekijk <a href=\"https://rweeda.github.io/PythonIA/docs/IA_sql_oplossingen.html#opgave119\" target=\"_blank\">hier</a> de voorbeelduitwerking.</p>\n",
    "\n",
    "<!--\n",
    "# Voorbeeld uitwerking\n",
    "\n",
    "#a\n",
    "film_beoordelingen = {\n",
    "    \"The Shawshank Redemption\": {\n",
    "        \"jaar\": 1994,\n",
    "        \"beoordeling\": 9.3\n",
    "    },\n",
    "    \"The Godfather\": {\n",
    "        \"jaar\": 1972,\n",
    "        \"beoordeling\": 9.2\n",
    "    },\n",
    "    \"The Dark Knight\": {\n",
    "        \"jaar\": 2008,   \n",
    "        \"beoordeling\": 9\n",
    "    }\n",
    "}\n",
    "#b\n",
    "print(film_beoordelingen)\n",
    "\n",
    "#c\n",
    "import json\n",
    "#d\n",
    "outfile = open('beoordelingen.json', 'w')\n",
    "\n",
    "#e \n",
    "json.dump(film_beoordelingen, outfile)\n",
    "\n",
    "#f\n",
    "outfile.close()\n",
    "\n",
    "-->"
   ]
  },
  {
   "cell_type": "markdown",
   "id": "135f11e7-33e4-4eb8-9910-0a6804c9f657",
   "metadata": {},
   "source": [
    "### Opdracht 11.10: Gegevens opvragen uit je IMDb bestand\n",
    "In de vorige opdracht heb je aan je eigen IMDb-dictionary een film toegevoegd en die als bestand opgeslagen. Laad de gegevens uit het bestand in een dictionary en print het dictionary:\n",
    "\n",
    "<ol style=\"list-style-type: lower-alpha\">\n",
    "<li>Gebruik <code>json.load</code> om het bestand <code>beoordelingen.json</code> te openen met leesrechten;</li>\n",
    "<li>sla de inhoud van het bestand op in een dictionary <code>ratings</code>;</li>\n",
    "<li>print de inhoud van het  <code>ratings</code> dictionary.</li>\n",
    "</ol>"
   ]
  },
  {
   "cell_type": "code",
   "execution_count": null,
   "id": "3a6f02b2-b3bb-441c-8df8-ea3b5d4cd76f",
   "metadata": {},
   "outputs": [],
   "source": []
  },
  {
   "cell_type": "markdown",
   "id": "06f987b5",
   "metadata": {},
   "source": [
    "\n",
    "<p>Bekijk <a href=\"https://rweeda.github.io/PythonIA/docs/IA_sql_oplossingen.html#opgave1110\" target=\"_blank\">hier</a> de voorbeelduitwerking.</p>\n"
   ]
  }
 ],
 "metadata": {
  "kernelspec": {
   "display_name": "base",
   "language": "python",
   "name": "python3"
  },
  "language_info": {
   "codemirror_mode": {
    "name": "ipython",
    "version": 3
   },
   "file_extension": ".py",
   "mimetype": "text/x-python",
   "name": "python",
   "nbconvert_exporter": "python",
   "pygments_lexer": "ipython3",
   "version": "3.12.7"
  }
 },
 "nbformat": 4,
 "nbformat_minor": 5
}
