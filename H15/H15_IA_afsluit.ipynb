{
 "cells": [
  {
   "cell_type": "markdown",
   "metadata": {},
   "source": [
    "## Onderwerp 11: Afsluitende opdrachten\n",
    "\n",
    "<p>Met de volgende afsluitende opdrachten kun je kijken hoe goed je de stof beheerst. Controleer steeds je eigen oplossing met de voorbeelduitwerking.</p>\n"
   ]
  },
  {
   "cell_type": "markdown",
   "metadata": {},
   "source": [
    "### Afsluitende opdracht 11.1 Aantal voldoendes\n",
    "Bepaal voor de cijfers hieronder het aantal onvoldoendes, dus lager dan een 5,5.\n"
   ]
  },
  {
   "cell_type": "code",
   "execution_count": 21,
   "metadata": {},
   "outputs": [],
   "source": [
    "cijfers = {\n",
    "    \"Wiskunde\": 7.5,\n",
    "    \"Nederlands\": 6.8,\n",
    "    \"Engels\": 7.2,\n",
    "    \"Biologie\": 5.4,\n",
    "    \"Geschiedenis\": 7.0,\n",
    "    \"Scheikunde\": 4.9,\n",
    "    \"Informatica\": 8.3\n",
    "}"
   ]
  },
  {
   "cell_type": "markdown",
   "metadata": {},
   "source": [
    "<p>Klik <a href=\"https://rweeda.github.io/PythonIA/docs/IA_H15_oplossingen.html#opgaveaf151\">hier</a> voor een voorbeelduitwerking.</p>"
   ]
  },
  {
   "cell_type": "markdown",
   "metadata": {},
   "source": [
    "### Afsluitende opdracht 11.2 Bouwmaterialen\n",
    "Hieronder staat de inventory van bouwmaterialen van drie spelers in een online spel. Doorloop de geneste dictionary met een <code>for</code>-loop en bepaal:\n",
    "<ol type=a>\n",
    "<li>het totaal aan materialen per speler,</li>\n",
    "<li>het totaal aan materialen van alle spelers samen.</li>\n",
    "</ol>"
   ]
  },
  {
   "cell_type": "code",
   "execution_count": null,
   "metadata": {},
   "outputs": [],
   "source": [
    "bouwmaterialen = {\n",
    "    \"Speler1\": {\"hout\": 150, \"steen\": 90, \"metaal\": 50},\n",
    "    \"Speler2\": {\"hout\": 200, \"steen\": 75, \"metaal\": 30},\n",
    "    \"Speler3\": {\"hout\": 50, \"steen\": 5, \"metaal\": 10}\n",
    "}\n"
   ]
  },
  {
   "cell_type": "markdown",
   "metadata": {},
   "source": [
    "<p>Klik <a href=\"https://rweeda.github.io/PythonIA/docs/IA_H15_oplossingen.html#opgaveaf152\">hier</a> voor een voorbeelduitwerking.</p>"
   ]
  }
 ],
 "metadata": {
  "kernelspec": {
   "display_name": "Python 3",
   "language": "python",
   "name": "python3"
  },
  "language_info": {
   "codemirror_mode": {
    "name": "ipython",
    "version": 3
   },
   "file_extension": ".py",
   "mimetype": "text/x-python",
   "name": "python",
   "nbconvert_exporter": "python",
   "pygments_lexer": "ipython3",
   "version": "3.13.2"
  }
 },
 "nbformat": 4,
 "nbformat_minor": 2
}
