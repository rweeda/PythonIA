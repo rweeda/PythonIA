{
 "cells": [
  {
   "cell_type": "markdown",
   "metadata": {},
   "source": [
    "## Onderwerp 11: Afsluitende opdrachten\n",
    "\n",
    "<p>Met de volgende afsluitende opdrachten kun je kijken hoe goed je de stof beheerst. Controleer steeds je eigen oplossing met de voorbeelduitwerking.</p>\n"
   ]
  },
  {
   "cell_type": "markdown",
   "metadata": {},
   "source": [
    "### Afsluitende opdracht 11.1 Aantal voldoendes\n",
    "Bepaal voor de cijfers hieronder het aantal onvoldoendes, dus lager dan een 5,5.\n"
   ]
  },
  {
   "cell_type": "code",
   "execution_count": null,
   "metadata": {},
   "outputs": [],
   "source": [
    "cijfers = {\n",
    "    \"wiskunde\": 7.5,\n",
    "    \"Nederlands\": 6.8,\n",
    "    \"Engels\": 7.2,\n",
    "    \"biologie\": 5.4,\n",
    "    \"geschiedenis\": 7.0,\n",
    "    \"scheikunde\": 4.9,\n",
    "    \"informatica\": 8.3\n",
    "}"
   ]
  },
  {
   "cell_type": "markdown",
   "metadata": {},
   "source": [
    "<p>Klik <a href=\"https://rweeda.github.io/PythonIA/docs/IA_H15_oplossingen.html#opgaveaf151\">hier</a> voor een voorbeelduitwerking.</p>"
   ]
  },
  {
   "cell_type": "markdown",
   "metadata": {},
   "source": [
    "### Afsluitende opdracht 11.2 Bouwmaterialen\n",
    "Hieronder staat het overzicht van bouwmaterialen van drie spelers in een online spel. Doorloop de geneste dictionary met een <code>for</code>-loop en bepaal:\n",
    "<ol type=a>\n",
    "<li>het totaal aan materialen per speler;</li>\n",
    "<li>het totaal aan materialen van alle spelers samen.</li>\n",
    "</ol>"
   ]
  },
  {
   "cell_type": "code",
   "execution_count": null,
   "metadata": {},
   "outputs": [],
   "source": [
    "bouwmaterialen = {\n",
    "    \"speler1\": {\"hout\": 150, \"steen\": 90, \"metaal\": 50},\n",
    "    \"speler2\": {\"hout\": 200, \"steen\": 75, \"metaal\": 30},\n",
    "    \"speler3\": {\"hout\": 50, \"steen\": 5, \"metaal\": 10}\n",
    "}\n",
    "\n",
    "\n",
    "totale_som = 0\n",
    "for speler, materiaal in bouwmaterialen.items():\n",
    "    som_speler = 0\n",
    "    for aantal in materiaal.values():\n",
    "        som_speler += aantal\n",
    "    print(speler, \"heeft\", som_speler, \"materialen.\")\n",
    "    totale_som += som_speler\n",
    "print()\n",
    "print(\"Het toaal aan materialen bedragt\", str(totale_som)+ \".\")"
   ]
  },
  {
   "cell_type": "markdown",
   "metadata": {},
   "source": [
    "<p>Klik <a href=\"https://rweeda.github.io/PythonIA/docs/IA_H15_oplossingen.html#opgaveaf152\">hier</a> voor een voorbeelduitwerking.</p>"
   ]
  }
 ],
 "metadata": {
  "kernelspec": {
   "display_name": "Python 3",
   "language": "python",
   "name": "python3"
  },
  "language_info": {
   "codemirror_mode": {
    "name": "ipython",
    "version": 3
   },
   "file_extension": ".py",
   "mimetype": "text/x-python",
   "name": "python",
   "nbconvert_exporter": "python",
   "pygments_lexer": "ipython3",
   "version": "3.11.9"
  }
 },
 "nbformat": 4,
 "nbformat_minor": 2
}
