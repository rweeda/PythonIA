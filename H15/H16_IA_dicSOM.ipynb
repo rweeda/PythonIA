{
 "cells": [
  {
   "cell_type": "markdown",
   "metadata": {},
   "source": [
    "## 6: Som van waarden uit een dictionary to bepalen\n",
    "<p>Met een <code>for</code>-loop kun je ook bepalen wat de som van alle waarden in de dictionary is.\n",
    "    Je gebruikt daarvoor een variabele om de som bij te houden. Je doorloopt de dictionary en elk getal tel je op bij de som. Om te beginnen is de som 0. Na afloop is dat de som van alle waarden in de dictionary.</p>\n",
    "\n",
    "<p>Met het voorbeeld hieronder bepalen we de som van het aantal inwoners:</p>\n",
    "\n"
   ]
  },
  {
   "cell_type": "code",
   "execution_count": null,
   "metadata": {},
   "outputs": [
    {
     "name": "stdout",
     "output_type": "stream",
     "text": [
      "De som van de inwoners is: 32974000\n"
     ]
    }
   ],
   "source": [
    "steden = {\n",
    "    \"Amsterdam\": {\"land\": \"Nederland\", \"inwoners\": 921000, \"werelddeel\": \"Europa\"},\n",
    "    \"Buenos Aires\": {\"land\": \"Argentinië\", \"inwoners\": 2890000, \"werelddeel\": \"Zuid-Amerika\"},\n",
    "    \"Rome\": {\"land\": \"Italië\", \"inwoners\": 2873000, \"werelddeel\": \"Europa\"},\n",
    "    \"São Paulo\": {\"land\": \"Brazilië\", \"inwoners\": 12330000, \"werelddeel\": \"Zuid-Amerika\"},\n",
    "    \"Tokyo\": {\"land\": \"Japan\", \"inwoners\": 13960000, \"werelddeel\": \"Azië\"}\n",
    "}\n",
    "\n",
    "som = 0\n",
    "for stad in steden:\n",
    "\tsom += steden[stad][\"inwoners\"]\n",
    "print(\"Het totaal aantal inwoners is:\", som)"
   ]
  },
  {
   "cell_type": "markdown",
   "metadata": {},
   "source": [
    "\n",
    "### Opdracht 16.X Totaal aantal dieren\n",
    "\n",
    "<p>Bepaal hoeveel dieren er in totaal in de dierentuin zijn.</p>\n",
    "\n",
    "<p>De verwachtte uitvoer is: \"<i>Het totaal aantal dieren is: 23</i>\"</p>"
   ]
  },
  {
   "cell_type": "code",
   "execution_count": null,
   "metadata": {},
   "outputs": [
    {
     "name": "stdout",
     "output_type": "stream",
     "text": [
      "Het totaal aantal dieren is: 23\n"
     ]
    }
   ],
   "source": [
    "dierentuin = {\n",
    "    \"Leeuw\": {\"soort\": \"Zoogdier\", \"verblijf\": \"Savanne\", \"dieet\": [\"vlees\"], \"aantal\": 2},\n",
    "    \"Pinguïn\": {\"soort\": \"Vogel\", \"verblijf\": \"Poolgebied\", \"dieet\": [\"vis\", \"kril\"], \"aantal\": 15},\n",
    "    \"Python\": {\"soort\": \"Reptiel\", \"verblijf\": \"Terrarium\", \"dieet\": [\"muizen\", \"ratten\"], \"aantal\": 3},\n",
    "    \"Olifant\": {\"soort\": \"Zoogdier\", \"verblijf\": \"Savanne\", \"dieet\": [\"planten\", \"fruit\", \"bladeren\"], \"aantal\": 1},\n",
    "    \"IJsbeer\": {\"soort\": \"Zoogdier\", \"verblijf\": \"Poolgebied\", \"dieet\": [\"vlees\"], \"aantal\": 2}\n",
    "}\n",
    "\n"
   ]
  },
  {
   "cell_type": "markdown",
   "metadata": {},
   "source": [
    "<p>Bekijk <a href=\"https://rweeda.github.io/PythonIA/docs/IA_H16_oplossingen.html#opgave16XX\" target=\"_blank\">hier</a> de voorbeelduitwerking.</p>\n",
    "\n",
    "<!-- ANTWOORD:\n",
    "totaal = 0\n",
    "for dier in dierentuin:\n",
    "    totaal += dierentuin[dier][\"aantal\"]\n",
    "\n",
    "print(\"Het totaal aantal dieren is:\", totaal)\n",
    ">"
   ]
  },
  {
   "cell_type": "markdown",
   "metadata": {},
   "source": [
    "\n",
    "### Opdracht 16.X Aantal zoordieren\n",
    "\n",
    "<p>Bepaal hoeveel zoogdieren dierentuin heeft.</p>\n",
    "\n",
    "<p>De verwachte uitvoer is: \"<i>Het aantal zoogdieren in de dierentuin is: 5\"</i></p>\n"
   ]
  },
  {
   "cell_type": "code",
   "execution_count": null,
   "metadata": {},
   "outputs": [
    {
     "name": "stdout",
     "output_type": "stream",
     "text": [
      "Aantal zoogdieren in de dierentuin: 5\n"
     ]
    }
   ],
   "source": [
    "dierentuin = {\n",
    "    \"Leeuw\": {\"soort\": \"Zoogdier\", \"verblijf\": \"Savanne\", \"dieet\": [\"vlees\"], \"aantal\": 2},\n",
    "    \"Pinguïn\": {\"soort\": \"Vogel\", \"verblijf\": \"Poolgebied\", \"dieet\": [\"vis\", \"kril\"], \"aantal\": 15},\n",
    "    \"Python\": {\"soort\": \"Reptiel\", \"verblijf\": \"Terrarium\", \"dieet\": [\"muizen\", \"ratten\"], \"aantal\": 3},\n",
    "    \"Olifant\": {\"soort\": \"Zoogdier\", \"verblijf\": \"Savanne\", \"dieet\": [\"planten\", \"fruit\", \"bladeren\"], \"aantal\": 1},\n",
    "    \"IJsbeer\": {\"soort\": \"Zoogdier\", \"verblijf\": \"Poolgebied\", \"dieet\": [\"vlees\"], \"aantal\": 2}\n",
    "}\n",
    "\n"
   ]
  },
  {
   "cell_type": "markdown",
   "metadata": {},
   "source": [
    "<p>Bekijk <a href=\"https://rweeda.github.io/PythonIA/docs/IA_H16_oplossingen.html#opgave16XX\" target=\"_blank\">hier</a> de voorbeelduitwerking.</p>\n",
    "\n",
    "<!-- ANTWOORD:\n",
    "aantal_zoogdieren = 0\n",
    "for dier in dierentuin:\n",
    "    if dierentuin[dier][\"soort\"] == \"Zoogdier\":\n",
    "        aantal_zoogdieren += dierentuin[dier][\"aantal\"]\n",
    "print(\"Aantal zoogdieren in de dierentuin:\", aantal_zoogdieren)\n",
    "# Het aantal zoogdieren in de dierentuin is: 5\n",
    "-->"
   ]
  },
  {
   "cell_type": "markdown",
   "metadata": {},
   "source": [
    "### Opdracht 16.X Gemiddeld aantal diersoort van elk soort\n",
    "\n",
    "<p>Onze dierentuin heeft een aantal van elk diersoort: 2 leeuwen, 15 pinguins, 3 pythons, etc. Hoeveel exemplaren zijn er van elk diersoort gemiddeld?</p>\n",
    "\n",
    "<p>Tip: dit bereken je door de totaal aantal dieren te delen door het aantal diersorten.</p>\n",
    "\n",
    "<p>Verwachtte uitvoer: \"<i>Het gemiddelde aantal dieren per diersoort is: 4.6</i>\"</p>"
   ]
  },
  {
   "cell_type": "code",
   "execution_count": null,
   "metadata": {},
   "outputs": [
    {
     "name": "stdout",
     "output_type": "stream",
     "text": [
      "Het totaal aantal dieren is: 23\n",
      "Het gemiddelde aantal dieren per diersoort is: 4.6\n"
     ]
    }
   ],
   "source": [
    "dierentuin = {\n",
    "    \"Leeuw\": {\"soort\": \"Zoogdier\", \"verblijf\": \"Savanne\", \"dieet\": [\"vlees\"], \"aantal\": 2},\n",
    "    \"Pinguïn\": {\"soort\": \"Vogel\", \"verblijf\": \"Poolgebied\", \"dieet\": [\"vis\", \"kril\"], \"aantal\": 15},\n",
    "    \"Python\": {\"soort\": \"Reptiel\", \"verblijf\": \"Terrarium\", \"dieet\": [\"muizen\", \"ratten\"], \"aantal\": 3},\n",
    "    \"Olifant\": {\"soort\": \"Zoogdier\", \"verblijf\": \"Savanne\", \"dieet\": [\"planten\", \"fruit\", \"bladeren\"], \"aantal\": 1},\n",
    "    \"IJsbeer\": {\"soort\": \"Zoogdier\", \"verblijf\": \"Poolgebied\", \"dieet\": [\"vlees\"], \"aantal\": 2}\n",
    "}\n",
    "\n",
    "\n",
    "\n",
    "som = 0\n",
    "for dier in dierentuin:\n",
    "    som += dierentuin[dier][\"aantal\"]\n",
    "print(\"Het totaal aantal dieren is:\", som)\n",
    "\n",
    "print(\"Het totaal aantal diersoorten is:\", len(dierentuin) )\n",
    "\n",
    "gemiddeld = som / len(dierentuin)\n",
    "print(\"Het gemiddelde aantal dieren per diersoort is:\", gemiddeld)\n"
   ]
  },
  {
   "cell_type": "markdown",
   "metadata": {},
   "source": [
    "<p>Bekijk <a href=\"https://rweeda.github.io/PythonIA/docs/IA_H16_oplossingen.html#opgave16XX\" target=\"_blank\">hier</a> de voorbeelduitwerking.</p>\n",
    "<!-- ANTWOORD>"
   ]
  }
 ],
 "metadata": {
  "kernelspec": {
   "display_name": "Python 3",
   "language": "python",
   "name": "python3"
  },
  "language_info": {
   "codemirror_mode": {
    "name": "ipython",
    "version": 3
   },
   "file_extension": ".py",
   "mimetype": "text/x-python",
   "name": "python",
   "nbconvert_exporter": "python",
   "pygments_lexer": "ipython3",
   "version": "3.13.2"
  }
 },
 "nbformat": 4,
 "nbformat_minor": 2
}
