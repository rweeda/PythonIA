{
 "cells": [
  {
   "cell_type": "markdown",
   "metadata": {},
   "source": [
    "## 1: Geneste dictionary's\n",
    "\n",
    "Een dictionary kan ook binnenin een andere dictionary zitten; dit heet een <b>geneste dictionary</b>. Met een geneste dictionary kan je handig data van meerdere dingen op een gestructureerde manier opslaan. Dit leggen we uit aan de hand van een voorbeeld.\n",
    "\n",
    "Hieronder zie je een dictionary <b>stad</b> met informatie over de stad, zoals <b>naam</b>, <b>land</b> en aantal <b>inwoners</b>. Hier is <b>naam</b> een sleutel en <b>Amsterdam</b> de bijbehorende waarde. Met <code>stad[\"land\"]</code> krijg je \"Nederland\"."
   ]
  },
  {
   "cell_type": "code",
   "execution_count": null,
   "metadata": {},
   "outputs": [],
   "source": [
    "stad = {\n",
    "    \"naam\": \"Amsterdam\",\n",
    "    \"land\": \"Nederland\",\n",
    "    \"inwoners\": 921000\n",
    "}\n",
    "\n",
    "print(stad[\"land\"])   #print het land van de stad"
   ]
  },
  {
   "cell_type": "markdown",
   "metadata": {},
   "source": [
    "Als je van meerdere steden een dictionary hebt, kun je ze samen in een geneste dictionary bijhouden. Hieronder zie je een voorbeeld van een geneste dictionary <code>steden</code> met de gegevens van Amsterdam, Parijs en Berlijn:"
   ]
  },
  {
   "cell_type": "code",
   "execution_count": 5,
   "metadata": {},
   "outputs": [
    {
     "name": "stdout",
     "output_type": "stream",
     "text": [
      "{'Amsterdam': {'land': 'Nederland', 'inwoners': 921000}, 'Parijs': {'land': 'Frankrijk', 'inwoners': 2148000}, 'Berlijn': {'land': 'Duitsland', 'inwoners': 3769000}}\n"
     ]
    }
   ],
   "source": [
    "steden = {\n",
    "    \"Amsterdam\":{\"land\": \"Nederland\", \"inwoners\": 921000},\n",
    "    \"Parijs\": {\"land\": \"Frankrijk\", \"inwoners\": 2148000},\n",
    "    \"Berlijn\": {\"land\": \"Duitsland\", \"inwoners\": 3769000}\n",
    "}\n",
    "\n",
    "print(steden)"
   ]
  },
  {
   "cell_type": "markdown",
   "metadata": {},
   "source": [
    "<!-- <p>De onderstaande visualisatie laat zien hoe een geneste dictionary eruit ziet.<br>\n",
    "\n",
    "<iframe width=\"1000\" height=\"500\" frameborder=\"0\" src=\"https://pythontutor.com/iframe-embed.html#code=steden%20%3D%20%7B%0A%20%20%20%20%22Amsterdam%22%3A%7B%22land%22%3A%20%22Nederland%22,%20%22inwoners%22%3A%20921000%7D,%0A%20%20%20%20%22Parijs%22%3A%20%7B%22land%22%3A%20%22Frankrijk%22,%20%22inwoners%22%3A%202148000%7D,%0A%20%20%20%20%22Berlijn%22%3A%20%7B%22land%22%3A%20%22Duitsland%22,%20%22inwoners%22%3A%203769000%7D%0A%7D&codeDivHeight=400&codeDivWidth=350&cumulative=false&curInstr=4&heapPrimitives=nevernest&origin=opt-frontend.js&py=311&rawInputLstJSON=%5B%5D&textReferences=false\"> </iframe> -->\n",
    "\n"
   ]
  },
  {
   "cell_type": "markdown",
   "metadata": {},
   "source": [
    "### Gegevens halen uit een geneste dictionary\n",
    "\n",
    "<p>De gegevens van meerdere steden kun je ook in een dictionary opslaan.  Dit is een geneste dictionary, omdat elke stad (<b>Amsterdam, Parijs, Berlijn</b>) zijn eigen dictionary heeft met extra informatie.<br>\n",
    "<img src=\"https://raw.githubusercontent.com/rweeda/PythonIA/main/img/dictionary_steden.png\" width=\"500\">\n",
    "\n",
    "\n",
    "<p>Met <code>steden[\"Parijs\"]</code> haal je de dictionary van Parijs op. Door deze uit te breiden met een tweede sleutel <b>land</b> haal je uit de dictionary van Parijs een specifieke waarde op:<br><br> <code>steden[\"Parijs\"][\"land\"]</code>.</p>"
   ]
  },
  {
   "cell_type": "code",
   "execution_count": null,
   "metadata": {},
   "outputs": [],
   "source": [
    "steden = {\n",
    "    \"Amsterdam\":{\"land\": \"Nederland\", \"inwoners\": 921000},\n",
    "    \"Parijs\": {\"land\": \"Frankrijk\", \"inwoners\": 2148000},\n",
    "    \"Berlijn\": {\"land\": \"Duitsland\", \"inwoners\": 3769000}\n",
    "}\n",
    "\n",
    "print(steden[\"Parijs\"])   # Geeft {\"land\": \"Frankrijk\", \"inwoners\": 2148000}\n",
    "print(steden[\"Parijs\"][\"land\"])   # Geeft \"Frankrijk\""
   ]
  },
  {
   "cell_type": "markdown",
   "metadata": {},
   "source": [
    "### Een geneste dictionary toevoegen\n",
    "Om een stad toe te voegen moet deze als *sleutel* worden toegevoegd met een geneste dictionary als waarde. Bijvoorbeeld:<br><br> <code>steden[\"Madrid\"] =  {\"land\": \"Spanje\", \"inwoners\": 3400000} </code>\n",
    "\n",
    "<p>Bekijk \n",
    "<a href=\"\n",
    "https://pythontutor.com/render.html#code=steden%20%3D%20%7B%0A%20%20%20%20%22Amsterdam%22%3A%7B%22land%22%3A%20%22Nederland%22,%20%22inwoners%22%3A%20921000%7D,%0A%20%20%20%20%22Parijs%22%3A%20%7B%22land%22%3A%20%22Frankrijk%22,%20%22inwoners%22%3A%202148000%7D,%0A%20%20%20%20%22Berlijn%22%3A%20%7B%22land%22%3A%20%22Duitsland%22,%20%22inwoners%22%3A%203769000%7D%0A%7D%0A%0Asteden%5B%22Madrid%22%5D%20%3D%20%20%7B%22land%22%3A%20%22Spanje%22,%20%22inwoners%22%3A%203400000%7D&cumulative=false&curInstr=4&heapPrimitives=nevernest&mode=display&origin=opt-frontend.js&py=311&rawInputLstJSON=%5B%5D&textReferences=false\">hier</a> een visualisatie in Python Tutor.</p>\n",
    "<!-- Druk op <i>Next</i> in de onderstaande visualisatie om te zien hoe de dictionary met gegevens over Madrid wordt toegevoegd aan de <code>steden</code> dictionary.-->\n",
    "\n",
    "<!--<iframe width=\"1000\" height=\"600\" frameborder=\"0\" src=\"https://pythontutor.com/iframe-embed.html#code=steden%20%3D%20%7B%0A%20%20%20%20%22Amsterdam%22%3A%7B%22land%22%3A%20%22Nederland%22,%20%22inwoners%22%3A%20921000%7D,%0A%20%20%20%20%22Parijs%22%3A%20%7B%22land%22%3A%20%22Frankrijk%22,%20%22inwoners%22%3A%202148000%7D,%0A%20%20%20%20%22Berlijn%22%3A%20%7B%22land%22%3A%20%22Duitsland%22,%20%22inwoners%22%3A%203769000%7D%0A%7D%0A%0Asteden%5B%22Madrid%22%5D%20%3D%20%20%7B%22land%22%3A%20%22Spanje%22,%20%22inwoners%22%3A%203400000%7D&codeDivHeight=400&codeDivWidth=350&cumulative=false&curInstr=4&heapPrimitives=nevernest&origin=opt-frontend.js&py=311&rawInputLstJSON=%5B%5D&textReferences=false\"> </iframe> -->"
   ]
  },
  {
   "cell_type": "markdown",
   "metadata": {},
   "source": [
    "### Opdracht 16.1 Gegevens over Rome toevoegen\n",
    "\n",
    "Rome ligt in Italië en heeft 2873000 inwoners. \n",
    "\n",
    "<ol type=\"a\">\n",
    "<li>Voeg aan <code>steden</code> een geneste dictionary toe met de gegevens over Rome;\n",
    "<li>print alle gegevens over Rome;\n",
    "<li>print hoeveel inwoners Rome heeft.\n",
    "</ol>\n",
    "\n",
    "<p>Verwachte uitvoer:<br>\n",
    "<i>\n",
    "{'land': 'Italië', 'inwoners': 2873000}<br>\n",
    "2873000</i></p>"
   ]
  },
  {
   "cell_type": "code",
   "execution_count": null,
   "metadata": {},
   "outputs": [
    {
     "name": "stdout",
     "output_type": "stream",
     "text": [
      "{'land': 'Italië', 'inwoners': 2873000}\n",
      "2873000\n"
     ]
    }
   ],
   "source": [
    "steden = {\n",
    "    \"Amsterdam\":{\"land\": \"Nederland\", \"inwoners\": 921000},\n",
    "    \"Parijs\": {\"land\": \"Frankrijk\", \"inwoners\": 2148000},\n",
    "    \"Berlijn\": {\"land\": \"Duitsland\", \"inwoners\": 3769000},\n",
    "}\n"
   ]
  },
  {
   "cell_type": "markdown",
   "metadata": {},
   "source": [
    "<p>Klik <a href=\"https://rweeda.github.io/PythonIA/docs/IA_H15_oplossingen.html#opgave161\">hier</a> voor een voorbeelduitwerking.</p>\n",
    "\n",
    "<!-- ANTWOORD\n",
    "<ol type=\"a\">\n",
    "<li>Voeg in een geneste dictionary met de gegevens over Rome toe aan de dictionary <code>steden</code>.\n",
    "\n",
    "<pre><code class=\"python\">\n",
    "steden = {\n",
    "    \"Amsterdam\":{\"land\": \"Nederland\", \"inwoners\": 921000},\n",
    "    \"Parijs\": {\"land\": \"Frankrijk\", \"inwoners\": 2148000},\n",
    "    \"Berlijn\": {\"land\": \"Duitsland\", \"inwoners\": 3769000},\n",
    "    \"Rome\": {\"land\": \"Italië\", \"inwoners\": 2873000}\n",
    "}\n",
    "</pre>\n",
    "\n",
    "<li><code>print(steden[\"Rome\"])   # Geeft: {'land': 'Italië', 'inwoners': 2873000}</code>\n",
    "<li><code>print(steden[\"Rome\"][\"inwoners\"])   # Geeft: 2873000</code>\n",
    "</ol>\n",
    "\n",
    "-->"
   ]
  },
  {
   "cell_type": "markdown",
   "metadata": {},
   "source": [
    "### Een waarde in een geneste dictionary aanpassen\n",
    "\n",
    "Je kunt ook een waarde in een geneste dictionary aan passen. Hiervoor geef je met vierkante haken aan om welk sleutel en welk gegevensoort het gaat. Daarna geef je met een '='-teken aan wat de nieuwe waarde woordt. Bijvoorbeeld, met de volgende regel wordt het aantal inwoners van Parijs aangepast:<br><br>\n",
    "<code>steden[\"Parijs\"][\"inwoners\"] = 2200000</code>"
   ]
  },
  {
   "cell_type": "markdown",
   "metadata": {},
   "source": [
    "### Opdracht 16.2 Aantal inwoners van Berlijn aanpassen\n",
    "\n",
    "<p>Schrijf code om \"Duitsland\" te vervangen door de afkorting \"DL\". Print daarna de land om de aanpassing te controleren.</p>\n",
    "\n",
    "<p>Verwachte uitvoer: <i>DL</i></p>"
   ]
  },
  {
   "cell_type": "code",
   "execution_count": null,
   "metadata": {},
   "outputs": [
    {
     "name": "stdout",
     "output_type": "stream",
     "text": [
      "DL\n"
     ]
    }
   ],
   "source": [
    "steden = {\n",
    "    \"Amsterdam\":{\"land\": \"Nederland\", \"inwoners\": 921000},\n",
    "    \"Parijs\": {\"land\": \"Frankrijk\", \"inwoners\": 2148000},\n",
    "    \"Berlijn\": {\"land\": \"Duitsland\", \"inwoners\": 3769000},\n",
    "}\n",
    "\n",
    "steden[\"Berlijn\"][\"land\"] = \"DL\"\n",
    "print(steden[\"Berlijn\"][\"land\"])\n"
   ]
  },
  {
   "cell_type": "markdown",
   "metadata": {},
   "source": [
    "<p>Klik <a href=\"https://rweeda.github.io/PythonIA/docs/IA_H15_oplossingen.html#opgave162\">hier</a> voor een voorbeelduitwerking.</p>\n",
    "<!-- steden[\"Berlijn\"][\"land\"] = \"DL\"\n",
    "print(steden[\"Berlijn\"][\"land\"])   # Geeft \"DL\"\n",
    "-->"
   ]
  },
  {
   "cell_type": "markdown",
   "metadata": {},
   "source": [
    "### Een geneste dictionary doorlopen met een <code>for</code>-loop\n",
    "\n",
    "<p>Met een <code>for</code>-loop en <code>.items()</code> kun je alle sleutels één voor één doorlopen, om bijvoorbeeld de bijbehorende dictionary af te drukken:</p>\n",
    "\n"
   ]
  },
  {
   "cell_type": "code",
   "execution_count": 7,
   "metadata": {},
   "outputs": [
    {
     "name": "stdout",
     "output_type": "stream",
     "text": [
      "Amsterdam ligt in Nederland en heeft 921000 inwoners.\n",
      "Parijs ligt in Frankrijk en heeft 2148000 inwoners.\n",
      "Berlijn ligt in Duitsland en heeft 3769000 inwoners.\n"
     ]
    }
   ],
   "source": [
    "steden = {\n",
    "    \"Amsterdam\": {\"land\": \"Nederland\", \"inwoners\": 921000},\n",
    "    \"Parijs\": {\"land\": \"Frankrijk\", \"inwoners\": 2148000},\n",
    "    \"Berlijn\": {\"land\": \"Duitsland\", \"inwoners\": 3769000}\n",
    "}\n",
    "\n",
    "# Door de steden lopen en alle gegevens printen\n",
    "for stad, gegevens in steden.items():\n",
    "    print( stad,  \"ligt in\", gegevens['land'], \"en heeft\", gegevens['inwoners'], \"inwoners.\")\n"
   ]
  },
  {
   "cell_type": "markdown",
   "metadata": {},
   "source": [
    "## De diertuin dictionary\n",
    "\n",
    "De dictionary <code>dierentuin</code> bevat gegevens over verschilleden dieren in een dierentuin.\n",
    "\n",
    "Elke *diernaam* (zoals \"Leeuw\" of \"Olifant\") is een *sleutel* in de dictionary.\n",
    "De bijbehorende waarde is een *geneste dictionary* met informatie over dat dier:\n",
    "<ul>\n",
    "<li>\"soort\": het type dier (bijv. zoogdier, vogel, reptiel),\n",
    "<li>\"verblijf\": het gebied of verblijf waar het dier woont,\n",
    "<li>\"dieet\": een lijst met dingen die het dier eet,\n",
    "<li>\"aantal\": het aantal dieren van die soort in de dierentuin.\n",
    "</ul>\n",
    "\n"
   ]
  },
  {
   "cell_type": "code",
   "execution_count": null,
   "metadata": {},
   "outputs": [],
   "source": [
    "dierentuin = {\n",
    "    \"Leeuw\": {\"soort\": \"Zoogdier\", \"verblijf\": \"Savanne\", \"dieet\": [\"vlees\"], \"aantal\": 2},\n",
    "    \"Pinguïn\": {\"soort\": \"Vogel\", \"verblijf\": \"Poolgebied\", \"dieet\": [\"vis\", \"kril\"], \"aantal\": 15},\n",
    "    \"Python\": {\"soort\": \"Reptiel\", \"verblijf\": \"Terrarium\", \"dieet\": [\"muizen\", \"ratten\"], \"aantal\": 3}\n",
    "}"
   ]
  },
  {
   "cell_type": "markdown",
   "metadata": {},
   "source": [
    "### Opdracht 16.3 Kennismaken met de geneste dictionary `dierentuin`\n",
    "\n",
    "Bekijk de `dierentuin` dictionary hierboven en beantwoord, zonder het schrijven van code de onderstaande vragen:\n",
    "<ol type=alpha>\n",
    "<li>Wat is de naam van het verblijf van de olifant?</li>\n",
    "<li>Hoeveel pinguïns zijn er in de dierentuin?</li>\n",
    "<li>Hoeveel soorten dieren zijn er in de dierentuin?</li>\n",
    "<li>Wat is het dieet van de Python?</li>\n",
    "<li>Wat is het datatype van dieet?</li>\n",
    "</ol>\n",
    "\n",
    "<!-- ANTWOORDEN\n",
    "<ol type=\"a\">\n",
    "<li>Savanne\n",
    "<li>15\n",
    "<li>3, namelijk: Zoogdier, Vogel, Reptiel\n",
    "<li>muizen en ratten</li>\n",
    "<li>een lijst</li>\n",
    "</ol>\n",
    "--> "
   ]
  },
  {
   "cell_type": "markdown",
   "metadata": {},
   "source": [
    "<p>Klik <a href=\"https://rweeda.github.io/PythonIA/docs/IA_H15_oplossingen.html#opgave163\">hier</a> voor een voorbeelduitwerking.</p>"
   ]
  },
  {
   "cell_type": "markdown",
   "metadata": {},
   "source": [
    "### Opdracht 16.4: Werken met de geneste dictionary de `dierentuin`\n",
    "\n",
    "Hieronder zie je een dictionary met informatie over de dierentuin.\n",
    "<ol type=a>\n",
    "<li>Print alle informatie over de dierentuin.</li>\n",
    "<li>Print alle informatie over de <b>pinguïn</b>.</li>\n",
    "<li>Print het leefgebied van de <b>pinguïn</b>.</li>\n",
    "<li>Er is een baby Python geboren. Pas het <b>aantal</b> van Python aan naar 4 en print het resultaat.</li>\n",
    "<li>Gebruik een <code>for</code>-loop om alle dieren en hun gegevens netjes af te drukken.</li>\n",
    "<!--\n",
    "<li>Gebruik een <code>for</code>-loop om de oudste dier te vinden (tip: gebruik het maximum plan uit <a href=\"https://moodle.informatica-actief.nl/mod/url/view.php?id=82097\">Hoofdstuk 10.5</a>). Druk af welk dier het oudste is en zijn leeftijd.</li>-->\n",
    "</ol>"
   ]
  },
  {
   "cell_type": "code",
   "execution_count": null,
   "metadata": {},
   "outputs": [
    {
     "name": "stdout",
     "output_type": "stream",
     "text": [
      "Alle informatie over de dierentuin: {'Leeuw': {'soort': 'Zoogdier', 'verblijf': 'Savanne', 'dieet': ['vlees'], 'aantal': 2}, 'Pinguïn': {'soort': 'Vogel', 'verblijf': 'Poolgebied', 'dieet': ['vis', 'kril'], 'aantal': 15}, 'Python': {'soort': 'Reptiel', 'verblijf': 'Terrarium', 'dieet': ['muizen', 'ratten'], 'aantal': 3}}\n",
      "Alle informatie over de Pinguïn: {'soort': 'Vogel', 'verblijf': 'Poolgebied', 'dieet': ['vis', 'kril'], 'aantal': 15}\n",
      "De verblijf van de Pinguïn is: Poolgebied\n",
      "{'Leeuw': {'soort': 'Zoogdier', 'verblijf': 'Savanne', 'dieet': ['vlees'], 'aantal': 2}, 'Pinguïn': {'soort': 'Vogel', 'verblijf': 'Poolgebied', 'dieet': ['vis', 'kril'], 'aantal': 15}, 'Python': {'soort': 'Reptiel', 'verblijf': 'Terrarium', 'dieet': ['muizen', 'ratten'], 'aantal': 4}}\n",
      "{'Leeuw': {'soort': 'Zoogdier', 'verblijf': 'Savanne', 'dieet': ['vlees'], 'aantal': 2}, 'Pinguïn': {'soort': 'Vogel', 'verblijf': 'Poolgebied', 'dieet': ['vis', 'kril'], 'aantal': 15}, 'Python': {'soort': 'Reptiel', 'verblijf': 'Terrarium', 'dieet': ['muizen', 'ratten'], 'aantal': 4}, 'Olifant': {'soort': 'Zoogdier', 'verblijf': 'Savanne', 'dieet': ['planten', 'fruit', 'bladeren'], 'aantal': 6}}\n",
      "Alle dieren:\n",
      "Leeuw is van het soort Zoogdier leeft in Savanne en er zijn er 2 van.\n",
      "Pinguïn is van het soort Vogel leeft in Poolgebied en er zijn er 15 van.\n",
      "Python is van het soort Reptiel leeft in Terrarium en er zijn er 4 van.\n",
      "Olifant is van het soort Zoogdier leeft in Savanne en er zijn er 6 van.\n"
     ]
    }
   ],
   "source": [
    "dierentuin = {\n",
    "    \"Leeuw\": {\"soort\": \"Zoogdier\", \"verblijf\": \"Savanne\", \"dieet\": [\"vlees\"], \"aantal\": 2},\n",
    "    \"Pinguïn\": {\"soort\": \"Vogel\", \"verblijf\": \"Poolgebied\", \"dieet\": [\"vis\", \"kril\"], \"aantal\": 15},\n",
    "    \"Python\": {\"soort\": \"Reptiel\", \"verblijf\": \"Terrarium\", \"dieet\": [\"muizen\", \"ratten\"], \"aantal\": 3}\n",
    "}\n",
    "\n"
   ]
  },
  {
   "cell_type": "markdown",
   "metadata": {},
   "source": [
    "<p>Klik <a href=\"https://rweeda.github.io/PythonIA/docs/IA_H15_oplossingen.html#opgave164\">hier</a> voor een voorbeelduitwerking.</p>\n",
    "<!-- ANTWOORD\n",
    "#a: Print de verblijf over de dierentuin\n",
    "print(\"Alle informatie over de dierentuin:\", dierentuin)\n",
    "\n",
    "#b: Print alle informatie over de Pinguïn\n",
    "print(\"Alle informatie over de Pinguïn:\", dierentuin[\"Pinguïn\"])\n",
    "\n",
    "#c: Print de verblijf van de Pinguïn \n",
    "print(\"De verblijf van de Pinguïn is:\", dierentuin[\"Pinguïn\"][\"verblijf\"])\n",
    "\n",
    "#d: Pas het aantal Pythons aan naar 4\n",
    "dierentuin[\"Python\"][\"aantal\"] = 4\n",
    "print(dierentuin)\n",
    "\n",
    "#e: Voeg een Olifant toe\n",
    "dierentuin[\"Olifant\"] = {\"soort\": \"Zoogdier\", \"verblijf\": \"Savanne\",  \"dieet\": [\"planten\", \"fruit\", \"bladeren\"],\n",
    "        \"aantal\": 6}\n",
    "print(dierentuin)\n",
    "\n",
    "#f: Druk de informatie van alle dieren (netjes) af\n",
    "print(\"Alle dieren:\")\n",
    "for dier, gegevens in dierentuin.items():\n",
    "    print(dier, \"is van het soort\", gegevens['soort'], \"leeft in\", gegevens['verblijf'], \"en er zijn er\", gegevens['aantal'], \"van.\")\n",
    "\n",
    "\n",
    "\n",
    "-->"
   ]
  },
  {
   "cell_type": "markdown",
   "metadata": {},
   "source": [
    "### Opdracht: Gegevens aan de dierentuin dictionary toevoegen\n",
    "<p>Er komt een nieuwe dier naar de dierentuin! Voeg deze aan de dictionary toe.</p>\n",
    "<ol type=\"a\">\n",
    "<li>Vraag de gebruiker om een nieuw dier naar de dierentuin te brengen. Vraag hoe het dier heet.\n",
    "<li>Controleer of het dier niet al in de dictionary staat. Als die er al in staat, geef een foutmelding.\n",
    "<li>Vraag van welk soort het is, waar het moet verblijven, wat het eet (een ding), en hoeveel ervan gebracht worden.</li>\n",
    "<li>Schrijf een functie die het <code>dier</code>, <code>soort</code>, <code>verblijf</code>, <code>dieet</code> en <code>aantal</code> meekrijgt als parameter en deze toevoegt aan de dictionary. Vergeet niet van het ingevoerde <code>aantal</code> eerst nog een integer te maken.\n",
    "<li>Print de dictionary.\n",
    "</ol>\n",
    "\n",
    "Uitbreidingstip: Wil je als dieet een lijst laten invoeren? Vraag de gebruiker om de dieetwensen gescheiden door een komma (',')  te laten invoeren en gebruik <code>.split(\",\")</code> om deze in een lijst te zetten:<br>\n",
    "<code> dieet = input(\"Voer het dieet in (gescheiden door komma's): \").split(\",\")</code>"
   ]
  },
  {
   "cell_type": "code",
   "execution_count": null,
   "metadata": {},
   "outputs": [
    {
     "name": "stdout",
     "output_type": "stream",
     "text": [
      "Het dier is toegevoegd aan de dierentuin.\n",
      "{'Leeuw': {'soort': 'Zoogdier', 'verblijf': 'Savanne', 'dieet': ['vlees'], 'aantal': 2}, 'Pinguïn': {'soort': 'Vogel', 'verblijf': 'Poolgebied', 'dieet': ['vis', 'kril'], 'aantal': 15}, 'Python': {'soort': 'Reptiel', 'verblijf': 'Terrarium', 'dieet': ['muizen', 'ratten'], 'aantal': 3}, 'dg': {'soort': 'sdf', 'verblijf': 'dsf', 'dieet': 'sfd', 'aantal': 33}}\n"
     ]
    }
   ],
   "source": [
    "dierentuin = {\n",
    "    \"Leeuw\": {\"soort\": \"Zoogdier\", \"verblijf\": \"Savanne\", \"dieet\": [\"vlees\"], \"aantal\": 2},\n",
    "    \"Pinguïn\": {\"soort\": \"Vogel\", \"verblijf\": \"Poolgebied\", \"dieet\": [\"vis\", \"kril\"], \"aantal\": 15},\n",
    "    \"Python\": {\"soort\": \"Reptiel\", \"verblijf\": \"Terrarium\", \"dieet\": [\"muizen\", \"ratten\"], \"aantal\": 3}\n",
    "}\n",
    "\n",
    "# Functie om een nieuw dier toe aan de dierentuin toe te voegen\n",
    "\n",
    "\n",
    "\n",
    "# Vraag de gebruiker om de gegevens van het nieuwe dier in te voeren\n"
   ]
  },
  {
   "cell_type": "markdown",
   "metadata": {},
   "source": [
    "ANTWOORD LINK\n",
    "\n",
    "<!-- ANTWOORD\n",
    "dierentuin = {\n",
    "    \"Leeuw\": {\"soort\": \"Zoogdier\", \"verblijf\": \"Savanne\", \"dieet\": [\"vlees\"], \"aantal\": 2},\n",
    "    \"Pinguïn\": {\"soort\": \"Vogel\", \"verblijf\": \"Poolgebied\", \"dieet\": [\"vis\", \"kril\"], \"aantal\": 15},\n",
    "    \"Python\": {\"soort\": \"Reptiel\", \"verblijf\": \"Terrarium\", \"dieet\": [\"muizen\", \"ratten\"], \"aantal\": 3}\n",
    "}\n",
    "\n",
    "# Functie om een nieuw dier toe aan de dierentuin toe te voegen\n",
    "def voegDierToe(naam, soort, verblijf, dieet, aantal):\n",
    "    dierentuin[naam] = {\n",
    "            \"soort\": soort,\n",
    "            \"verblijf\": verblijf,\n",
    "            \"dieet\": dieet,\n",
    "            \"aantal\": aantal\n",
    "        }\n",
    "    print(\"Het dier is toegevoegd aan de dierentuin.\")\n",
    "    print(dierentuin)\n",
    "\n",
    "# Vraag de gebruiker om de gegevens van het nieuwe dier in te voeren\n",
    "ingevoerde_dier = input(\"Voer een naam in van een dier: \")\n",
    "if ingevoerde_dier in dierentuin:\n",
    "    print(\"Er is al een\", ingevoerde_dier, \"in de dierentuin.\")\n",
    "else:\n",
    "    soort = input(\"Voer het soort in: \")\n",
    "    verblijf = input(\"Voer het verblijf in: \")\n",
    "    dieet = input(\"Voer het dieet in: \")\n",
    "    aantal = int(input(\"Voer het aantal in: \"))\n",
    "\n",
    "    voegDierToe(ingevoerde_dier, soort, verblijf, dieet, aantal)\n",
    "    \n",
    "    -->"
   ]
  }
 ],
 "metadata": {
  "kernelspec": {
   "display_name": "Python 3",
   "language": "python",
   "name": "python3"
  },
  "language_info": {
   "codemirror_mode": {
    "name": "ipython",
    "version": 3
   },
   "file_extension": ".py",
   "mimetype": "text/x-python",
   "name": "python",
   "nbconvert_exporter": "python",
   "pygments_lexer": "ipython3",
   "version": "3.13.2"
  }
 },
 "nbformat": 4,
 "nbformat_minor": 2
}
