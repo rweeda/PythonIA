{
 "cells": [
  {
   "cell_type": "markdown",
   "metadata": {},
   "source": [
    "## 7: Dictionary doorlopen met een <code>for</code>-loop\n",
    "\n",
    "<p>Met een <code>for</code>-loop kun je alle paren van een dictionary één voor één doorlopen, om bijvoorbeeld afgedrukt te worden:</p>"
   ]
  },
  {
   "cell_type": "code",
   "execution_count": null,
   "metadata": {},
   "outputs": [],
   "source": [
    "gamescores = {\"Tim\":500, \"Janneke\":900, \"Bob\":680, \"Els\": 680}\n",
    "\n",
    "for sleutel in gamescores:\n",
    "    print(sleutel)   #print de sleutels van de dictionary"
   ]
  },
  {
   "cell_type": "markdown",
   "metadata": {},
   "source": [
    "<p>Met de onderstaande visualisatie kun je stap voor stap zien hoe de dictionary bij elke regel code verandert door op <i>Next</i> te klikken.<br>\n",
    "%%html\n",
    "<iframe width=\"800\" height=\"300\" frameborder=\"0\" src=\"https://pythontutor.com/iframe-embed.html#code=gamescores%20%3D%20%7B%22Tim%22%3A500,%20%22Janneke%22%3A900,%20%22Bob%22%3A680,%20%22Els%22%3A%20680%7D%0A%0Afor%20sleutel%20in%20gamescores%3A%0A%20%20%20%20print%28sleutel%29%20%20%20%23print%20de%20sleutels%20van%20de%20dictionary&codeDivHeight=400&codeDivWidth=350&cumulative=false&curInstr=0&heapPrimitives=nevernest&origin=opt-frontend.js&py=311&rawInputLstJSON=%5B%5D&textReferences=false\"> </iframe>\n",
    "</p>"
   ]
  },
  {
   "cell_type": "markdown",
   "metadata": {},
   "source": [
    "<p>Ook kunnen meteen de bijbehorende waarden worden afgedrukt:</p>"
   ]
  },
  {
   "cell_type": "code",
   "execution_count": null,
   "metadata": {},
   "outputs": [],
   "source": [
    "gamescores = {\"Tim\":500, \"Janneke\":900, \"Bob\":680, \"Els\": 680}\n",
    "\n",
    "for sleutel in gamescores:\n",
    "    print(sleutel, gamescores[sleutel])   #print de sleutels en waarden van de dictionary\n"
   ]
  },
  {
   "cell_type": "markdown",
   "metadata": {},
   "source": [
    "<p>De bijbehorende waarden kunnen ook met <code>get()</code> opgehaald worden:</p>"
   ]
  },
  {
   "cell_type": "code",
   "execution_count": null,
   "metadata": {},
   "outputs": [],
   "source": [
    "for sleutel in gamescores:\n",
    "    print(sleutel, gamescores.get(sleutel))   #print de sleutels en waarden van de dictionary"
   ]
  },
  {
   "cell_type": "markdown",
   "metadata": {},
   "source": [
    "### Opdracht 11.6 Hele trainingsschema afdrukken\n",
    "\n",
    "<p>Gebruik een <code>for</code>-loop om het trainingsschema van Tom te doorlopen en af te drukken. De uitvoer zou er zo uit moeten zien:</p>\n",
    "Je training voor maandag is hardlopen.<br>\n",
    "Je training voor woensdag is fitness.<br>\n",
    "Je training voor zaterdag is voetbal.<br>\n",
    "Je training voor zondag is wielrennen.\n",
    "\n",
    "<!-- ANTWOORD:\n",
    "trainingsschema = {\"maandag\":\"hardlopen\", \"woensdag\":\"fitness\", \"zaterdag\":\"voetbal\",\"zondag\": \"wielrennen\"}\n",
    "\n",
    "for sleutel in trainingsschema:\n",
    "    print(\"Je training voor\", sleutel, \"is\", trainingsschema.get(sleutel)+\".\")   #print de sleutels en waarden van de dictionary -->"
   ]
  },
  {
   "cell_type": "code",
   "execution_count": null,
   "metadata": {},
   "outputs": [],
   "source": [
    "trainingsschema = {\"maandag\":\"hardlopen\", \"woensdag\":\"fitness\", \"zaterdag\":\"voetbal\",\"zondag\":\"wielrennen\"}\n"
   ]
  },
  {
   "cell_type": "markdown",
   "metadata": {},
   "source": [
    "<p>Klik <a href=\"https://rweeda.github.io/PythonIA/docs/IA_H15_oplossingen.html#opgave156\">hier</a> voor een voorbeelduitwerking.</p>"
   ]
  }
 ],
 "metadata": {
  "kernelspec": {
   "display_name": "Python 3",
   "language": "python",
   "name": "python3"
  },
  "language_info": {
   "codemirror_mode": {
    "name": "ipython",
    "version": 3
   },
   "file_extension": ".py",
   "mimetype": "text/x-python",
   "name": "python",
   "nbconvert_exporter": "python",
   "pygments_lexer": "ipython3",
   "version": "3.13.2"
  }
 },
 "nbformat": 4,
 "nbformat_minor": 2
}
