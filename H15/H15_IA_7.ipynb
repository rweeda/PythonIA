{
 "cells": [
  {
   "cell_type": "markdown",
   "metadata": {},
   "source": [
    "## 7: Dictionary doorlopen met een <code>for</code>-loop\n",
    "\n",
    "<p>Met een <code>for</code>-loop kun je alle paren van een dictionary één voor één doorlopen, om bijvoorbeeld afgedrukt te worden:</p>"
   ]
  },
  {
   "cell_type": "code",
   "execution_count": null,
   "metadata": {},
   "outputs": [],
   "source": [
    "gamescores = {\"Tim\":500, \"Janneke\":900, \"Bob\":680, \"Els\": 680}\n",
    "\n",
    "for sleutel in gamescores:\n",
    "    print(sleutel)   #print de sleutels van de dictionary"
   ]
  },
  {
   "cell_type": "markdown",
   "metadata": {},
   "source": [
    "<p>Ook kunnen meteen de bijbehorende waarden worden afgedrukt:</p>"
   ]
  },
  {
   "cell_type": "code",
   "execution_count": null,
   "metadata": {},
   "outputs": [],
   "source": [
    "gamescores = {\"Tim\":500, \"Janneke\":900, \"Bob\":680, \"Els\": 680}\n",
    "\n",
    "for sleutel in gamescores:\n",
    "    print(sleutel, gamescores[sleutel])   #print de sleutels en waarden van de dictionary\n"
   ]
  },
  {
   "cell_type": "markdown",
   "metadata": {},
   "source": [
    "<p>De bijbehorende waarden kunnen ook met <code>get()</code> opgehaald worden:</p>"
   ]
  },
  {
   "cell_type": "code",
   "execution_count": null,
   "metadata": {},
   "outputs": [],
   "source": [
    "for sleutel in gamescores:\n",
    "    print(sleutel, gamescores.get(sleutel))   #print de sleutels en waarden van de dictionary"
   ]
  },
  {
   "cell_type": "markdown",
   "metadata": {},
   "source": [
    "### Opdracht 15.6 Hele trainingsschema afdrukken\n",
    "\n",
    "<p>Gebruik een <code>for</code>-loop om het trainingsschema van Tom te doorlopen en af te drukken. De uitvoer zou er zo uit moeten zien:</p>\n",
    "Je training voor maandag is hardlopen.<br>\n",
    "Je training voor woensdag is fitness.<br>\n",
    "Je training voor zaterdag is voetbal.<br>\n",
    "Je training voor zondag is wielrennen.\n",
    "\n",
    "<!-- ANTWOORD:\n",
    "trainingsschema = {\"maandag\":\"hardlopen\", \"woensdag\":\"fitness\", \"zaterdag\":\"voetbal\",\"zondag\": \"wielrennen\"}\n",
    "\n",
    "for sleutel in trainingsschema:\n",
    "    print(\"Je training voor\", sleutel, \"is\", trainingsschema.get(sleutel)+\".\")   #print de sleutels en waarden van de dictionary -->"
   ]
  },
  {
   "cell_type": "code",
   "execution_count": null,
   "metadata": {},
   "outputs": [],
   "source": [
    "trainingsschema = {\"maandag\":\"hardlopen\", \"woensdag\":\"fitness\", \"zaterdag\":\"voetbal\",\"zondag\": \"wielrennen\"}\n"
   ]
  },
  {
   "cell_type": "markdown",
   "metadata": {},
   "source": [
    "<p>Klik <a href=\"https://rweeda.github.io/PythonIA/docs/IA_H15_oplossingen.html#opgave156\">hier</a> voor een voorbeelduitwerking.</p>"
   ]
  }
 ],
 "metadata": {
  "kernelspec": {
   "display_name": "Python 3",
   "language": "python",
   "name": "python3"
  },
  "language_info": {
   "codemirror_mode": {
    "name": "ipython",
    "version": 3
   },
   "file_extension": ".py",
   "mimetype": "text/x-python",
   "name": "python",
   "nbconvert_exporter": "python",
   "pygments_lexer": "ipython3",
   "version": "3.9.0"
  }
 },
 "nbformat": 4,
 "nbformat_minor": 2
}
