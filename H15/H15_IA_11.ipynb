{
 "cells": [
  {
   "cell_type": "markdown",
   "metadata": {},
   "source": [
    "## 11: Geneste dictionary's\n",
    "\n",
    "Een dictionary kan ook binnenin een andere dictionary zitten; dit heet een <b>geneste dictionary</b>. Met een geneste dictionary kan je data op een gestructureerde manier opslaan. Dit leggen we uit aan de hand van een voorbeeld.\n",
    "\n",
    "Hieronder zie je een dictionary <b>stad</b> met informatie over de stad, zoals <b>naam</b>, <b>land</b> en aantal <b>inwoners</b>. Hier is <b>naam</b> een sleutel en <b>Amsterdam</b> de bijbehorende waarde. Met <code>stad[\"land\"]</code> krijg je \"Nederland\"."
   ]
  },
  {
   "cell_type": "code",
   "execution_count": null,
   "metadata": {},
   "outputs": [],
   "source": [
    "stad = {\n",
    "    \"naam\": \"Amsterdam\",\n",
    "    \"land\": \"Nederland\",\n",
    "    \"inwoners\": 921000\n",
    "}\n",
    "\n",
    "print(stad[\"land\"])   #print het land van de stad"
   ]
  },
  {
   "cell_type": "markdown",
   "metadata": {},
   "source": [
    "<!-- <p>De onderstaande visualisatie laat zien hoe een geneste dictionary eruit ziet.<br>\n",
    "\n",
    "<iframe width=\"1000\" height=\"500\" frameborder=\"0\" src=\"https://pythontutor.com/iframe-embed.html#code=steden%20%3D%20%7B%0A%20%20%20%20%22Amsterdam%22%3A%7B%22land%22%3A%20%22Nederland%22,%20%22inwoners%22%3A%20921000%7D,%0A%20%20%20%20%22Parijs%22%3A%20%7B%22land%22%3A%20%22Frankrijk%22,%20%22inwoners%22%3A%202148000%7D,%0A%20%20%20%20%22Berlijn%22%3A%20%7B%22land%22%3A%20%22Duitsland%22,%20%22inwoners%22%3A%203769000%7D%0A%7D&codeDivHeight=400&codeDivWidth=350&cumulative=false&curInstr=4&heapPrimitives=nevernest&origin=opt-frontend.js&py=311&rawInputLstJSON=%5B%5D&textReferences=false\"> </iframe> -->\n",
    "\n"
   ]
  },
  {
   "cell_type": "markdown",
   "metadata": {},
   "source": [
    "### Gegevens halen uit een geneste dictionary\n",
    "\n",
    "<p>De gegevens van meerdere steden kun je ook in een dictionary opslaan.  Dit is een geneste dictionary, omdat elke stad (<b>Amsterdam, Parijs, Berlijn</b>) zijn eigen dictionary heeft met extra informatie.<br>\n",
    "<img src=\"https://raw.githubusercontent.com/rweeda/PythonIA/main/img/dictionary_steden.png\" width=\"500\">\n",
    "\n",
    "\n",
    "<p>Met <code>steden[\"Parijs\"]</code> haal je de dictionary van Parijs op. Door deze uit te breiden met een tweede sleutel <b>land</b> haal je uit de dictionary van Parijs een specifieke waarde op:<br><br> <code>steden[\"Parijs\"][\"land\"]</code>.</p>"
   ]
  },
  {
   "cell_type": "code",
   "execution_count": null,
   "metadata": {},
   "outputs": [],
   "source": [
    "steden = {\n",
    "    \"Amsterdam\":{\"land\": \"Nederland\", \"inwoners\": 921000},\n",
    "    \"Parijs\": {\"land\": \"Frankrijk\", \"inwoners\": 2148000},\n",
    "    \"Berlijn\": {\"land\": \"Duitsland\", \"inwoners\": 3769000}\n",
    "}\n",
    "\n",
    "print(steden[\"Parijs\"])   # Geeft {\"land\": \"Frankrijk\", \"inwoners\": 2148000}\n",
    "print(steden[\"Parijs\"][\"land\"])   # Geeft \"Frankrijk\""
   ]
  },
  {
   "cell_type": "markdown",
   "metadata": {},
   "source": [
    "### Een geneste dictionary toevoegen\n",
    "Om een stad toe te voegen moet deze als sleutel worden toegevoegd met een geneste dictionary als waarde. Bijvoorbeeld:<br><br> <code>steden[\"Madrid\"] =  {\"land\": \"Spanje\", \"inwoners\": 3400000} </code>\n",
    "\n",
    "<p>Bekijk \n",
    "<a href=\"\n",
    "https://pythontutor.com/render.html#code=steden%20%3D%20%7B%0A%20%20%20%20%22Amsterdam%22%3A%7B%22land%22%3A%20%22Nederland%22,%20%22inwoners%22%3A%20921000%7D,%0A%20%20%20%20%22Parijs%22%3A%20%7B%22land%22%3A%20%22Frankrijk%22,%20%22inwoners%22%3A%202148000%7D,%0A%20%20%20%20%22Berlijn%22%3A%20%7B%22land%22%3A%20%22Duitsland%22,%20%22inwoners%22%3A%203769000%7D%0A%7D%0A%0Asteden%5B%22Madrid%22%5D%20%3D%20%20%7B%22land%22%3A%20%22Spanje%22,%20%22inwoners%22%3A%203400000%7D&cumulative=false&curInstr=4&heapPrimitives=nevernest&mode=display&origin=opt-frontend.js&py=311&rawInputLstJSON=%5B%5D&textReferences=false\">hier</a> een visualisatie in Python Tutor.</p>\n",
    "<!-- Druk op <i>Next</i> in de onderstaande visualisatie om te zien hoe de dictionary met gegevens over Madrid wordt toegevoegd aan de <code>steden</code> dictionary.-->\n",
    "\n",
    "<!--<iframe width=\"1000\" height=\"600\" frameborder=\"0\" src=\"https://pythontutor.com/iframe-embed.html#code=steden%20%3D%20%7B%0A%20%20%20%20%22Amsterdam%22%3A%7B%22land%22%3A%20%22Nederland%22,%20%22inwoners%22%3A%20921000%7D,%0A%20%20%20%20%22Parijs%22%3A%20%7B%22land%22%3A%20%22Frankrijk%22,%20%22inwoners%22%3A%202148000%7D,%0A%20%20%20%20%22Berlijn%22%3A%20%7B%22land%22%3A%20%22Duitsland%22,%20%22inwoners%22%3A%203769000%7D%0A%7D%0A%0Asteden%5B%22Madrid%22%5D%20%3D%20%20%7B%22land%22%3A%20%22Spanje%22,%20%22inwoners%22%3A%203400000%7D&codeDivHeight=400&codeDivWidth=350&cumulative=false&curInstr=4&heapPrimitives=nevernest&origin=opt-frontend.js&py=311&rawInputLstJSON=%5B%5D&textReferences=false\"> </iframe> -->"
   ]
  },
  {
   "cell_type": "markdown",
   "metadata": {},
   "source": [
    "### Een waarde in een geneste dictionary aanpassen\n",
    "\n",
    "Om een waarde in een geneste dictionary aan te passen, kun je de sleutels van de dictionary's achter elkaar zetten, gescheiden door vierkante haken [ ]. Bijvoorbeeld:<br><br>\n",
    "<code>steden[\"Parijs\"][\"inwoners\"] = 2200000</code>"
   ]
  },
  {
   "cell_type": "markdown",
   "metadata": {},
   "source": [
    "### Een geneste dictionary doorlopen met een <code>for</code>-loop\n",
    "\n",
    "<p>Met een <code>for</code>-loop en <code>.items()</code> kun je alle sleutels één voor één doorlopen, om bijvoorbeeld de bijbehorende dictionary af te drukken:</p>\n",
    "\n"
   ]
  },
  {
   "cell_type": "code",
   "execution_count": null,
   "metadata": {},
   "outputs": [],
   "source": [
    "steden = {\n",
    "    \"Amsterdam\": {\"land\": \"Nederland\", \"inwoners\": 921000},\n",
    "    \"Parijs\": {\"land\": \"Frankrijk\", \"inwoners\": 2148000},\n",
    "    \"Berlijn\": {\"land\": \"Duitsland\", \"inwoners\": 3769000}\n",
    "}\n",
    "\n",
    "# Door de steden lopen en alle gegevens printen\n",
    "for stad, gegevens in steden.items():\n",
    "    print( stad,  \"ligt in\", gegevens['land'], \"en heeft\", gegevens['inwoners'], \"inwoners.\")\n"
   ]
  },
  {
   "cell_type": "markdown",
   "metadata": {},
   "source": [
    "### Opdracht 11.9 Werken met een geneste dictionary\n",
    "\n",
    "Hieronder zie je een dictionary met informatie over dieren.\n",
    "<ol type=a>\n",
    "<li>Print alle informatie over de <b>pinguïn</b>.</li>\n",
    "<li>Print het leefgebied van de <b>pinguïn</b>.</li>\n",
    "<li>Voeg een <b>olifant</b> toe met de volgende eigenschappen:\n",
    "    <ul>\n",
    "    <li>Soort: zoogdier\n",
    "    <li>Leefgebied: Afrika\n",
    "    <li>Leeftijd: 70\n",
    "    </ul>\n",
    "    Druk <code>dieren</code> af.\n",
    "<li>Verander de leeftijd van de <b>leeuw</b> naar 16 jaar en print het resultaat.</li>\n",
    "<li>Gebruik een <code>for</code>-loop om alle dieren en hun gegevens netjes af te drukken.</li>\n",
    "<li>Gebruik een <code>for</code>-loop om de oudste dier te vinden (tip: gebruik het maximum plan uit <a href=\"https://moodle.informatica-actief.nl/mod/url/view.php?id=82097\">Hoofdstuk 10.5</a>). Druk af welk dier het oudste is en zijn leeftijd.</li>\n",
    "</ol>"
   ]
  },
  {
   "cell_type": "code",
   "execution_count": null,
   "metadata": {},
   "outputs": [],
   "source": [
    "dieren = {\n",
    "    \"leeuw\": {\"soort\": \"zoogdier\", \"leefgebied\": \"Afrika\", \"leeftijd\": 14},\n",
    "    \"pinguïn\": {\"soort\": \"vogel\", \"leefgebied\": \"Antarctica\", \"leeftijd\": 20},\n",
    "    \"python\": {\"soort\": \"reptiel\", \"leefgebied\": \"jungle\", \"leeftijd\": 25}\n",
    "}"
   ]
  },
  {
   "cell_type": "markdown",
   "metadata": {},
   "source": [
    "<p>Klik <a href=\"https://rweeda.github.io/PythonIA/docs/IA_H15_oplossingen.html#opgave159\">hier</a> voor een voorbeelduitwerking.</p>"
   ]
  }
 ],
 "metadata": {
  "kernelspec": {
   "display_name": "Python 3",
   "language": "python",
   "name": "python3"
  },
  "language_info": {
   "codemirror_mode": {
    "name": "ipython",
    "version": 3
   },
   "file_extension": ".py",
   "mimetype": "text/x-python",
   "name": "python",
   "nbconvert_exporter": "python",
   "pygments_lexer": "ipython3",
   "version": "3.9.0"
  }
 },
 "nbformat": 4,
 "nbformat_minor": 2
}
