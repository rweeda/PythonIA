{
 "cells": [
  {
   "cell_type": "markdown",
   "id": "ae1cc706-ebb9-485e-8f1a-90f3e38a64a9",
   "metadata": {},
   "source": [
    "## 12: Dictionaries opslaan en laden van je computer\n",
    "\n",
    "Als je een dictionary maakt, dan bestaat deze alleen maar zolang jouw Python programma draait. Stopt het programma, dan wordt de dictionary verwijderd. Soms wil je een dictionary op kunnen slaan, bijvoorbeeld als je scores of de stand van een spel wilt opslaan. \n",
    "Je leert nu hoe je een dictionary kunt opslaan op je computer als een <b>JSON</b>-bestand, en hoe je de dictionary kan laden van je computer. Met een JSON-bestand kan je makkelijk gestructureerde data opslaan, zoals de gegevens dat in een dictionary staan."
   ]
  },
  {
   "cell_type": "markdown",
   "id": "fe3ce868-ae22-4621-8c42-f90cc3e4988b",
   "metadata": {},
   "source": [
    "### Een dictionary opslaan op je computer\n",
    "\n",
    "Om een dictionary als JSON-bestand op te kunnen slaan moet je eerst een <b>json package</p> importeren, een bestand openen of aanmaken, de data in het bestand schrijven (met <code>dump</code>) en tot slot het bestand weer sluiten.\n",
    "\n",
    "In het voorbeeld hieronder slaan we de gegevens van dictionary <code>game_info</code> op in het <code>game.json</code> bestand:\n",
    "\n"
   ]
  },
  {
   "cell_type": "markdown",
   "id": "af46a7b8-28ec-4ad4-a705-62b82cdf2c8e",
   "metadata": {},
   "source": [
    "We gaan nu dit dictionary opslaan op de computer die dit mooie notebook draait."
   ]
  },
  {
   "cell_type": "code",
   "execution_count": null,
   "id": "c9632ba2-ed68-47c3-a6a4-44652ed78492",
   "metadata": {},
   "outputs": [],
   "source": [
    "import json                             # importeer de json-package\n",
    "outfile = open('gamestand.json', 'w')   # openen het bestand met schrijfrechten ('w'), als het bestand nog niet bestaat wordt die gemaakt\n",
    "json.dump(game_info, outfile)           # schrijf de inhoud van de game_info dictionary in het bestand\n",
    "outfile.close()                         # sluit het bestand"
   ]
  },
  {
   "cell_type": "markdown",
   "id": "2e22e287-dd56-4d07-adf1-77169aa89a8a",
   "metadata": {},
   "source": [
    "Toelichting:\n",
    "<ul>\n",
    "<li>we importeren de <b>json</b>-package met <code>import json</code>. Deze helpt ons met de dictionary opslaan op een computer.\n",
    "<li>we openen een bestand aan met de naam <i>gamestand.json</i>, en noemen die <code>outfile</code>. Deze staat in dezelfde map als dit notebook. Met '<b>w</b>' (kort voor Engels 'write') geef je aan dat je in het bestand mag schrijven. Bestaat het bestand nog niet, dan wordt die gemaakt. Dat doen we met <code>outfile = open('game.json', 'w')</code>\n",
    "<li>met <code>dump</code> uit de json-package schrijven we de inhoud van de <code>game_info</code>-dictionary naar ons <codeo>outfile</code>-bestand.\n",
    "<li>na afloop sluiten we het bestand af met <code>close</code>.\n",
    "</ul>\n"
   ]
  },
  {
   "cell_type": "markdown",
   "id": "2ffff6d1",
   "metadata": {},
   "source": [
    "Hieronder zie je een voorbeeld van hoe de <code>game_info</code> dictionary met drie *sleutels* en drie *waardes* wordt opgeslagen in het *gamestand.json* bestand:"
   ]
  },
  {
   "cell_type": "code",
   "execution_count": 1,
   "id": "d414ae2f",
   "metadata": {},
   "outputs": [],
   "source": [
    "game_info = {\n",
    "    \"gold\": 100,\n",
    "    \"silver\": 50,\n",
    "    \"sword\" : True\n",
    "}\n",
    "\n",
    "import json\n",
    "outfile = open('gamestand.json', 'w')\n",
    "json.dump(game_info, outfile)\n",
    "outfile.close()"
   ]
  },
  {
   "cell_type": "markdown",
   "id": "b85fd968-7aa5-4421-bdf2-37a55755448d",
   "metadata": {},
   "source": [
    "### Een dictionary laden van een computer\n",
    "Je hebt net geleerd hoe je een dictionary kan opslaan op je computer. Nu laten we zien hoe we ons net opgeslagen dictionary weer kunnen laden vanaf de computer."
   ]
  },
  {
   "cell_type": "code",
   "execution_count": 7,
   "id": "cd6f0a29-dbc4-425b-a099-54eeed6f11d0",
   "metadata": {},
   "outputs": [
    {
     "name": "stdout",
     "output_type": "stream",
     "text": [
      "{'gold': 100, 'silver': 50, 'sword': True}\n"
     ]
    }
   ],
   "source": [
    "import json\n",
    "infile = open('game.json', 'r')\n",
    "spel_data = json.load(infile)\n",
    "infile.close()\n",
    "print(spel_data)"
   ]
  },
  {
   "cell_type": "markdown",
   "id": "0ca2aaf0-bd5b-4be7-9fb9-1eb15f2285de",
   "metadata": {},
   "source": [
    "Wat gebeurt hier?\n",
    "\n",
    "```python\n",
    "infile = open('game.json', 'r')\n",
    "```\n",
    "We openen het bestand **game.json** om er informatie uit te lezen (vandaar 'r' in plaats van 'w').\n",
    "\n",
    "```python\n",
    "spel_data = json.load(infile)\n",
    "```\n",
    "We gebruik json.load om het dictionary in het bestand te laden als een Python dictionary. De variabele **spel_data** gaat verwijzen naar dit dictionary.\n",
    "\n",
    "```python\n",
    "infile.close()\n",
    "```\n",
    "Uiteraard sluiten we het bestand weer.\n"
   ]
  },
  {
   "cell_type": "markdown",
   "id": "5c3b30d5-172b-4e97-9370-59cbca00bb3a",
   "metadata": {},
   "source": [
    "### Opdracht 11.x: Onze eigen IMDB\n",
    "We gaan proberen de ratings van films op te slaan. \n",
    "- sla onderstaande dictionary **movie_ratings**\n",
    "- op in een bestand genaamd **movie_ratings.json**\n",
    "- en voeg één extra film toe aan de dictionary"
   ]
  },
  {
   "cell_type": "code",
   "execution_count": 10,
   "id": "2e772893-f2e6-4b86-a31a-0482401f3122",
   "metadata": {},
   "outputs": [],
   "source": [
    "movie_ratings = {\n",
    "    \"The Shawshank Redemption\" : {\n",
    "        \"rating\": 9.3,\n",
    "        \"year\": 1994\n",
    "    },\n",
    "    \"The Godfather\" : {\n",
    "        \"rating\": 9.2,\n",
    "        \"year\" : 1972\n",
    "    }\n",
    "}"
   ]
  },
  {
   "cell_type": "code",
   "execution_count": 1,
   "id": "ef1e3c67-449a-4bba-bec8-869a2903223e",
   "metadata": {},
   "outputs": [],
   "source": [
    "# uitwerking\n",
    "\n",
    "movie_ratings = {\n",
    "    \"The Shawshank Redemption\" : {\n",
    "        \"rating\": 9.3,\n",
    "        \"year\": 1994\n",
    "    },\n",
    "    \"The Godfather\" : {\n",
    "        \"rating\": 9.2,\n",
    "        \"year\" : 1972\n",
    "    },\n",
    "    \"The Dark Knight\" : {\n",
    "        \"rating\": 9,\n",
    "        \"year\": 2008\n",
    "    }\n",
    "}\n",
    "\n",
    "import json\n",
    "outfile = open('movie_ratings.json', 'w')\n",
    "json.dump(movie_ratings, outfile)\n",
    "outfile.close()"
   ]
  },
  {
   "cell_type": "markdown",
   "id": "135f11e7-33e4-4eb8-9910-0a6804c9f657",
   "metadata": {},
   "source": [
    "### Opdracht 11.x: Opvragen van onze eigen IMDB\n",
    "Gebruik **json.load** om:\n",
    "- het bestand **movie_ratings.json** te lezen\n",
    "- gebruik de variable **ratings** om te verwijzen naar het dictionary"
   ]
  },
  {
   "cell_type": "code",
   "execution_count": 14,
   "id": "3a6f02b2-b3bb-441c-8df8-ea3b5d4cd76f",
   "metadata": {},
   "outputs": [
    {
     "name": "stdout",
     "output_type": "stream",
     "text": [
      "{'The Shawshank Redemption': {'rating': 9.3, 'year': 1994}, 'The Godfather': {'rating': 9.2, 'year': 1972}, 'The Dark Knight': {'rating': 9, 'year': 2008}}\n"
     ]
    }
   ],
   "source": [
    "# uitwerking\n",
    "import json\n",
    "infile = open('movie_ratings.json', 'r')\n",
    "ratings = json.load(infile)\n",
    "infile.close()\n",
    "print(ratings)"
   ]
  },
  {
   "cell_type": "code",
   "execution_count": null,
   "id": "17778ee0-4b13-485b-96a7-53ae8f40330c",
   "metadata": {},
   "outputs": [],
   "source": []
  }
 ],
 "metadata": {
  "kernelspec": {
   "display_name": "Python 3",
   "language": "python",
   "name": "python3"
  },
  "language_info": {
   "codemirror_mode": {
    "name": "ipython",
    "version": 3
   },
   "file_extension": ".py",
   "mimetype": "text/x-python",
   "name": "python",
   "nbconvert_exporter": "python",
   "pygments_lexer": "ipython3",
   "version": "3.11.9"
  }
 },
 "nbformat": 4,
 "nbformat_minor": 5
}
