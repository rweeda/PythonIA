{
 "cells": [
  {
   "cell_type": "markdown",
   "id": "ae1cc706-ebb9-485e-8f1a-90f3e38a64a9",
   "metadata": {},
   "source": [
    "## 12: Dictionary's opslaan en laden van je computer\n",
    "\n",
    "Als je een dictionary maakt, dan bestaat deze alleen maar zolang jouw Python programma draait. Stopt het programma, dan wordt de dictionary verwijderd. Soms wil je een dictionary op kunnen slaan, bijvoorbeeld als je scores of de stand van een spel wilt opslaan. \n",
    "Je leert nu hoe je een dictionary kunt opslaan op je computer als een <b>json</b>-bestand, en hoe je de dictionary kan laden van je computer. Met een json-bestand kan je makkelijk gestructureerde data opslaan, zoals de gegevens dat in een dictionary staan."
   ]
  },
  {
   "cell_type": "markdown",
   "id": "fe3ce868-ae22-4621-8c42-f90cc3e4988b",
   "metadata": {},
   "source": [
    "### Een dictionary opslaan op je computer\n",
    "\n",
    "Om een dictionary als JSON-bestand op te kunnen slaan moet je eerst een <b>json package</b> importeren, een bestand openen of aanmaken, de data in het bestand schrijven (met <code>dump</code>) en tot slot het bestand weer sluiten.\n",
    "\n",
    "In het voorbeeld hieronder slaan we de gegevens van dictionary <code>spel_info</code> op in het <code>spelstand.json</code> bestand:\n",
    "\n"
   ]
  },
  {
   "cell_type": "code",
   "execution_count": null,
   "id": "c9632ba2-ed68-47c3-a6a4-44652ed78492",
   "metadata": {},
   "outputs": [],
   "source": [
    "import json                             # importeer de json-package\n",
    "outfile = open('spelstand.json', 'w')   # openen het bestand met schrijfrechten ('w'), als het bestand nog niet bestaat wordt die gemaakt\n",
    "json.dump(spel_info, outfile)           # schrijf de inhoud van de spel_info dictionary in het bestand\n",
    "outfile.close()                         # sluit het bestand"
   ]
  },
  {
   "cell_type": "markdown",
   "id": "2e22e287-dd56-4d07-adf1-77169aa89a8a",
   "metadata": {},
   "source": [
    "Toelichting:\n",
    "<ul>\n",
    "<li>Met <code>import json</code> importeren we de <b>json</b>-package. Deze helpt ons met het opslaan van de dictionary op de computer.</li>\n",
    "<li>Met <code>outfile = open('spelstand.json', 'w')</code> openen we een bestand aan met de naam <i>gamestand.json</i>, en noemen die <code>outfile</code>. Deze staat in dezelfde map als dit notebook. Met '<b>w</b>' (kort voor 'write' in het Engels) geef je aan dat je in het bestand mag schrijven. Bestaat het bestand nog niet, dan wordt die gemaakt.</li>\n",
    "<li>Met <code>dump</code> uit de json-package schrijven we de inhoud van de <code>spel_info</code>-dictionary naar ons <codeo>outfile</code>-bestand.</li>\n",
    "<li>Na afloop sluiten we het bestand af met <code>close</code>.\n",
    "</ul>\n"
   ]
  },
  {
   "cell_type": "markdown",
   "id": "2ffff6d1",
   "metadata": {},
   "source": [
    "Hieronder zie je een voorbeeld van hoe de <code>spel_info</code>-dictionary met drie *sleutels* en drie *waardes* wordt opgeslagen in het <code>gamestand.json</code> bestand:"
   ]
  },
  {
   "cell_type": "code",
   "execution_count": 1,
   "id": "d414ae2f",
   "metadata": {},
   "outputs": [],
   "source": [
    "spel_info = {\n",
    "    \"gold\": 100,\n",
    "    \"silver\": 50,\n",
    "    \"sword\" : True\n",
    "}\n",
    "\n",
    "import json\n",
    "outfile = open('gamestand.json', 'w')\n",
    "json.dump(spel_info, outfile)\n",
    "outfile.close()"
   ]
  },
  {
   "cell_type": "markdown",
   "id": "b85fd968-7aa5-4421-bdf2-37a55755448d",
   "metadata": {},
   "source": [
    "### Een dictionary laden van een computer\n",
    "Je hebt net geleerd hoe je een dictionary kan opslaan op je computer. Nu ga je leren hoe je een opgeslagen dictionary weer kunnen laden vanaf de computer.\n",
    "\n",
    "In het voorbeeld hieronder openen we het <code>gamestand.json</code> bestand en laden de inhoud in een dictionary <code>spel_info</code> op in het"
   ]
  },
  {
   "cell_type": "code",
   "execution_count": null,
   "id": "cd6f0a29-dbc4-425b-a099-54eeed6f11d0",
   "metadata": {},
   "outputs": [
    {
     "name": "stdout",
     "output_type": "stream",
     "text": [
      "{'gold': 100, 'silver': 50, 'sword': True}\n"
     ]
    }
   ],
   "source": [
    "import json                          # importeer de json-package\n",
    "infile = open('gamestand.json', 'r') # open het bestand met leesrechten ('r')\n",
    "spel_info = json.load(infile)        # laad de inhoud van het bestand in de spel_info dictionary\n",
    "infile.close()                       # sluit het bestand\n",
    "\n",
    "print(spel_info)                    # print de inhoud van de spel_info dictionary"
   ]
  },
  {
   "cell_type": "markdown",
   "id": "0ca2aaf0-bd5b-4be7-9fb9-1eb15f2285de",
   "metadata": {},
   "source": [
    "Toelichting:\n",
    "<ul>\n",
    "<li>Met <code>infile = open('gamestand.json', 'r')</code> openen we het bestand <code>gamestand.json</code> om er informatie uit te lezen (vandaar 'r' van read in plaats van 'w' van write).</li>\n",
    "<li>Met <code>spel_info = json.load(infile)</code> laden we de inhoud van het bestand in de <code>spel_info</code> dictionary.</li>\n",
    "<li>Na afloop sluiten we het bestand af met <code>close</code>.</li>\n",
    "</ul>\n"
   ]
  },
  {
   "cell_type": "markdown",
   "id": "5c3b30d5-172b-4e97-9370-59cbca00bb3a",
   "metadata": {},
   "source": [
    "### Opdracht 11.10: Je eigen IMDB\n",
    "IMDb (Internet Movie Database) is een online database met informatie over films en tv-series. Je vindt er gegevens zoals samenvattingen, trailers, recensies van gebruikers en beoordelingen. De geneste dictionary <code>film_beoordelingen</code> hieronder bevat data van twee films, die ga je uitbreiden, in een bestand opslaan en printen:\n",
    "<ol style=\"list-style-type: lower-alpha\">\n",
    "<li>voeg één extra film toe aan de dictionary <code>film_beoordelingen</code>, bijvoorbeeld de film \"The Dark Knight\" uit jaar 2008 die een 9 als beoordeling kreeg;</li>\n",
    "<li>print de inhoud van de dictionary <code>film_beoordelingen</code>;</li>\n",
    "<li>importeer de <code>json</code> package;\n",
    "<li>open een bestand genaamd <code>beoordelingen.json</code> met rechten om erin te schrijven;\n",
    "<li>sla de dictionary <code>film_beoordelingen</code> op in het bestand;\n",
    "<li>sluit het bestand;</li>\n",
    "\n",
    "</ul>"
   ]
  },
  {
   "cell_type": "code",
   "execution_count": null,
   "id": "2e772893-f2e6-4b86-a31a-0482401f3122",
   "metadata": {},
   "outputs": [],
   "source": [
    "film_beoordelingen = {\n",
    "    \"The Shawshank Redemption\": {\n",
    "        \"jaar\": 1994,\n",
    "        \"beoordeling\": 9.3\n",
    "    },\n",
    "    \"The Godfather\": {\n",
    "        \"jaar\": 1972,\n",
    "        \"beoordeling\": 9.2\n",
    "    }\n",
    "}"
   ]
  },
  {
   "cell_type": "code",
   "execution_count": null,
   "id": "ef1e3c67-449a-4bba-bec8-869a2903223e",
   "metadata": {},
   "outputs": [
    {
     "name": "stdout",
     "output_type": "stream",
     "text": [
      "{'The Shawshank Redemption': {'jaar': 1994, 'beoordeling': 9.3}, 'The Godfather': {'jaar': 1972, 'beoordeling': 9.2}, 'The Dark Knight': {'jaar': 2008, 'beoordeling': 9}}\n"
     ]
    }
   ],
   "source": [
    "# uitwerking\n",
    "\n",
    "film_beoordelingen = {\n",
    "    \"The Shawshank Redemption\": {\n",
    "        \"jaar\": 1994,\n",
    "        \"beoordeling\": 9.3\n",
    "    },\n",
    "    \"The Godfather\": {\n",
    "        \"jaar\": 1972,\n",
    "        \"beoordeling\": 9.2\n",
    "    },\n",
    "    \"The Dark Knight\": {\n",
    "        \"jaar\": 2008,   \n",
    "        \"beoordeling\": 9\n",
    "    }\n",
    "}\n",
    "print(film_beoordelingen)\n",
    "\n",
    "import json\n",
    "outfile = open('beoordelingen.json', 'w')\n",
    "json.dump(film_beoordelingen, outfile)\n",
    "outfile.close()\n"
   ]
  },
  {
   "cell_type": "markdown",
   "id": "135f11e7-33e4-4eb8-9910-0a6804c9f657",
   "metadata": {},
   "source": [
    "### Opdracht 11.x: Opvragen van onze eigen IMDB\n",
    "Gebruik **json.load** om:\n",
    "- het bestand **movie_ratings.json** te lezen\n",
    "- gebruik de variable **ratings** om te verwijzen naar het dictionary"
   ]
  },
  {
   "cell_type": "code",
   "execution_count": 14,
   "id": "3a6f02b2-b3bb-441c-8df8-ea3b5d4cd76f",
   "metadata": {},
   "outputs": [
    {
     "name": "stdout",
     "output_type": "stream",
     "text": [
      "{'The Shawshank Redemption': {'rating': 9.3, 'year': 1994}, 'The Godfather': {'rating': 9.2, 'year': 1972}, 'The Dark Knight': {'rating': 9, 'year': 2008}}\n"
     ]
    }
   ],
   "source": [
    "# uitwerking\n",
    "import json\n",
    "infile = open('movie_ratings.json', 'r')\n",
    "ratings = json.load(infile)\n",
    "infile.close()\n",
    "print(ratings)"
   ]
  },
  {
   "cell_type": "code",
   "execution_count": null,
   "id": "17778ee0-4b13-485b-96a7-53ae8f40330c",
   "metadata": {},
   "outputs": [],
   "source": []
  }
 ],
 "metadata": {
  "kernelspec": {
   "display_name": "Python 3",
   "language": "python",
   "name": "python3"
  },
  "language_info": {
   "codemirror_mode": {
    "name": "ipython",
    "version": 3
   },
   "file_extension": ".py",
   "mimetype": "text/x-python",
   "name": "python",
   "nbconvert_exporter": "python",
   "pygments_lexer": "ipython3",
   "version": "3.13.2"
  }
 },
 "nbformat": 4,
 "nbformat_minor": 5
}
