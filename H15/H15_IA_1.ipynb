{
 "cells": [
  {
   "cell_type": "markdown",
   "metadata": {},
   "source": [
    "## 1: Dictionary maken en afdrukken\n",
    "\n",
    "### Wat is een dictionary \n",
    "\n",
    "<p>In een dictionary houd je paren van waarden bij. Bijvoorbeeld, de scores van elk speler in een spel:</p>\n",
    "<code>score_dictionary = {\"Tim\":500, \"Janneke\":900, \"Bob\":680, \"Els\": 680}</code>\n",
    "<p>Bij 'Tim' hoort de waarde 500, bij 'Janneke' de waarde 900, enz.</p>\n",
    "\n",
    "<p>Met : geef je aan welke waarden als een paar bij elkaar horen. De linker deel heet de <b>sleutel</b> (in het Engels: key) en de rechter de waarde (in het Engels: value). Bij de sleutel 'Bob' hoort de waarde 680. </p>\n",
    "\n",
    "\n",
    "### Dictionary maken\n",
    "<p>Een dictionary maak je door de paren van waarden tussen accolades { en } te zetten en te scheiden met komma's. Wat als paar bij elkaar hoort geef je met : aan. Hier een paar voorbeelden:</p>\n",
    "<ul>\n",
    "    <li><code>woordenboek_NLEN = {\"geel\":\"yellow\", \"zwart\":\"black\", \"blauw\": \"blue\", \"wit\":\"white\"}</code></li>\n",
    "    <li><code>weerstation = {\"maandag\":23.0, \"dinsdag\":24.5, \"woensdag\":24.1, \"donderdag\":22.0, \"vrijdag\":21.9}</code></li>\n",
    "    <li><code>gamescores = {\"Tim\": 500, \"Janneke\": 900, \"Bob\": 680}</code></li>\n",
    "    <li><code>leeg_dictionary = {}</code></li>\n",
    "</ul>\n",
    "<p></p>\n",
    "<p>Het laatste voorbeeld is een lege dictionary: een nieuwe dictionary waar nog niets in zit.</p>\n",
    "\n",
    "\n",
    "### Dictionary afdrukken\n",
    "<p>Met <code>print()</code> kun je een dictionary afdrukken. Zoals je ziet als je op de <i>Run</i>-knop drukt, worden de accolades { } ook afgedrukt.</p>"
   ]
  },
  {
   "cell_type": "code",
   "execution_count": null,
   "metadata": {},
   "outputs": [],
   "source": [
    "gamescores = {\"Tim\": 500, \"Janneke\": 900, \"Bob\": 680}   #maak een dictionary met de scores van de spelers\n",
    "print(gamescores)"
   ]
  }
 ],
 "metadata": {
  "kernelspec": {
   "display_name": "Python 3",
   "language": "python",
   "name": "python3"
  },
  "language_info": {
   "codemirror_mode": {
    "name": "ipython",
    "version": 3
   },
   "file_extension": ".py",
   "mimetype": "text/x-python",
   "name": "python",
   "nbconvert_exporter": "python",
   "pygments_lexer": "ipython3",
   "version": "3.9.0"
  }
 },
 "nbformat": 4,
 "nbformat_minor": 2
}
