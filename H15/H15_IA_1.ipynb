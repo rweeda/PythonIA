{
 "cells": [
  {
   "cell_type": "markdown",
   "metadata": {},
   "source": [
    "## 1: Dictionary maken en afdrukken\n",
    "\n",
    "### Wat is een dictionary \n",
    "\n",
    "<p>In een dictionary houd je paren van waarden bij. Bijvoorbeeld, de scores van elke speler in een spel:</p>\n",
    "<code>score_dictionary = {\"Tim\":500, \"Janneke\":900, \"Bob\":680, \"Els\": 680}</code>\n",
    "<p>Bij 'Tim' hoort de waarde 500, bij 'Janneke' de waarde 900, enz.</p>\n",
    "\n",
    "\n",
    "### Sleutel en waarde\n",
    "<p>Met '<code>:</code>' geef je aan welke waarden als een paar bij elkaar horen. Het linker deel heet de <b>sleutel</b> (in het Engels: key) en het rechter de <v>waarde</b> (in het Engels: value). Bij de sleutel 'Bob' hoort de waarde 680. </p>\n",
    "\n",
    "<p>We spreken af: voor een key gebruik je alleen integers (getallen) of strings (tekst). Een key kan wel een andere type hebben (als het hashable is), maar daar gaan we nu niet op in.</p> \n",
    "\n",
    "\n",
    "### Dictionary maken\n",
    "<p>Een dictionary maak je door de paren van waarden tussen accolades '<code>{</code>' en '<code>}</code>' te zetten en te scheiden met komma's. Wat als paar bij elkaar hoort, geef je met '<code>:</code>' aan. Hier een paar voorbeelden:</p>\n",
    "<p>\n",
    "    <code>woordenboekNLEN = {\"geel\":\"yellow\", \"zwart\":\"black\", \"blauw\": \"blue\", \"wit\":\"white\"}</code><br>\n",
    "    <img src=\"https://raw.githubusercontent.com/rweeda/PythonIA/main/img/dicitonary_woordenboekNLEN.png\" width=\"300\">\n",
    "</p>\n",
    "    \n",
    " <p>\n",
    "    <code>weerstation = {\"maandag\":23.0, \"dinsdag\":24.5, \"woensdag\":24.1, \"donderdag\":22.0, \"vrijdag\":21.9}</code><br>\n",
    "    <img src=\"https://raw.githubusercontent.com/rweeda/PythonIA/main/img/dicitonary_weerstation.png\" width=\"300\">\n",
    "</p>\n",
    "    \n",
    "\n",
    "<p>   \n",
    "    <code>gamescores = {\"Tim\": 500, \"Janneke\": 900, \"Bob\": 680}</code><br>\n",
    "    <img src=\"https://raw.githubusercontent.com/rweeda/PythonIA/main/img/dicitonary_gamescores.png\" width=\"300\">\n",
    "</p>\n",
    "    \n",
    " <p>    \n",
    "    <code>leeg_dictionary = dict()</code>\n",
    "</p>\n",
    "\n",
    "<p>Je ziet bij de woorden dat tekst tussen aanhalingstekens staat en getallen niet. Het laatste voorbeeld is een lege dictionary: een nieuwe dictionary waar nog niets in zit.</p>\n",
    "\n",
    "<p><i>De bovenstaande afbeeldingen zijn gemaakt met <a href=\"https://pythontutor.com/\">Python Tutor</a></i>.</p>\n",
    "\n",
    "### Dictionary afdrukken\n",
    "<p>Met <code>print()</code> kun je een dictionary afdrukken. Zoals je ziet als je op de <i>Run</i>-knop drukt, worden de accolades { } ook afgedrukt.</p>"
   ]
  },
  {
   "cell_type": "code",
   "execution_count": null,
   "metadata": {},
   "outputs": [],
   "source": [
    "gamescores = {\"Tim\": 500, \"Janneke\": 900, \"Bob\": 680}   #maak een dictionary met de scores van de spelers\n",
    "print(gamescores)"
   ]
  }
 ],
 "metadata": {
  "kernelspec": {
   "display_name": "Python 3",
   "language": "python",
   "name": "python3"
  },
  "language_info": {
   "codemirror_mode": {
    "name": "ipython",
    "version": 3
   },
   "file_extension": ".py",
   "mimetype": "text/x-python",
   "name": "python",
   "nbconvert_exporter": "python",
   "pygments_lexer": "ipython3",
   "version": "3.13.2"
  }
 },
 "nbformat": 4,
 "nbformat_minor": 2
}
