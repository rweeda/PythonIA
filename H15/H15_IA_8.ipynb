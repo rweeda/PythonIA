{
 "cells": [
  {
   "cell_type": "markdown",
   "metadata": {},
   "source": [
    "## 8: <code>keys</code>, <code>values</code> en <code>items</code>\n",
    "<p>De methode <code>keys()</code> levert alle sleutels van de dictionary op, de methode <code>values()</code> alle waarden en de methode <code>items()</code> alle paren van sleutels en waarden.</p>"
   ]
  },
  {
   "cell_type": "code",
   "execution_count": null,
   "metadata": {},
   "outputs": [],
   "source": [
    "gamescores = {\"Tim\":500, \"Janneke\":900, \"Bob\":680, \"Els\": 680}\n",
    "\n",
    "print(gamescores.keys())        # print de sleutels van de dictionary\n",
    "print(gamescores.values())      # print de waarden van de dictionary\n",
    "print(gamescores.items())       # print de paren van de dictionary"
   ]
  },
  {
   "cell_type": "markdown",
   "metadata": {},
   "source": [
    "<p>Met de bovenstaande code worden objecten opgeleverd, namelijk <code>dict_keys</code>, <code>dict_values</code> en <code>dict_items</code>.</p>\n",
    "\n",
    "<p>Om de bovenstaande uitkomsten in een lijst te krijgen, kun je die met <code>list()</code> omzetten naar een lijst:</p>"
   ]
  },
  {
   "cell_type": "code",
   "execution_count": null,
   "metadata": {},
   "outputs": [],
   "source": [
    "gamescores = {\"Tim\":500, \"Janneke\":900, \"Bob\":680, \"Els\": 680}\n",
    "\n",
    "print( list(gamescores.keys()) )    # print een lijst van de sleutels\n",
    "print( list(gamescores.values()) )  # print een lijst van de waarden\n",
    "print( list(gamescores.items()) )   # print een lijst van de sleutels en waarden"
   ]
  },
  {
   "cell_type": "markdown",
   "metadata": {},
   "source": [
    "### Opdracht 11.7 Lijsten maken van delen van het trainingsschema\n",
    "<p>Maak lijsten van de volgende gegevens van Toms trainingen en print ze:</p>\n",
    "<ol style=\"list-style-type: lower-alpha\">\n",
    "<li>trainingsdagen (de sleutels);</li>\n",
    "<li>sporten (de waardes);</li>\n",
    "<li>alle trainingsdagen met bijbehorende sporten.</li>\n",
    "</ol>\n",
    "\n",
    "<!-- ANTWOORD:\n",
    "trainingsschema = {\"maandag\":\"hardlopen\", \"woensdag\":\"fitness\", \"zaterdag\":\"voetbal\",\"zondag\": \"wielrennen\"}\n",
    "\n",
    "#opdracht a\n",
    "print( list(trainingsschema.keys()) )    # print een lijst van de trainingsdagen\n",
    "\n",
    "#opdracht b\n",
    "print( list(trainingsschema.values()) )  # print een lijst van de sporten\n",
    "\n",
    "#opdracht c\n",
    "print( list(trainingsschema.items()) )   # print een lijst van alle trainingsdagen met bijbehorende sporten. -->"
   ]
  },
  {
   "cell_type": "code",
   "execution_count": null,
   "metadata": {},
   "outputs": [],
   "source": [
    "trainingsschema = {\"maandag\":\"hardlopen\", \"woensdag\":\"fitness\", \"zaterdag\":\"voetbal\",\"zondag\": \"wielrennen\"}\n"
   ]
  },
  {
   "cell_type": "markdown",
   "metadata": {},
   "source": [
    "<p>Klik <a href=\"https://rweeda.github.io/PythonIA/docs/IA_H15_oplossingen.html#opgave157\">hier</a> voor een voorbeelduitwerking.</p>"
   ]
  }
 ],
 "metadata": {
  "kernelspec": {
   "display_name": "Python 3",
   "language": "python",
   "name": "python3"
  },
  "language_info": {
   "codemirror_mode": {
    "name": "ipython",
    "version": 3
   },
   "file_extension": ".py",
   "mimetype": "text/x-python",
   "name": "python",
   "nbconvert_exporter": "python",
   "pygments_lexer": "ipython3",
   "version": "3.13.2"
  }
 },
 "nbformat": 4,
 "nbformat_minor": 2
}
