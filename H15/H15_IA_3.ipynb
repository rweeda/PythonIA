{
 "cells": [
  {
   "cell_type": "markdown",
   "metadata": {},
   "source": [
    "## 3: Waarde toevoegen aan een dictionary\n",
    "<p>Je kunt een waarde toevoegen aan een dictionary. Je geeft de sleutel tussen vierkante haken mee [ ] en rechts van de =-teken de bijbehorende waarde. Hieronder voegen we voor Lukas (de sleutel) een score van 400 (de bijbehorende waarde) toe aan de dictionary <code>gamescores</code>.</p>\n"
   ]
  },
  {
   "cell_type": "code",
   "execution_count": null,
   "metadata": {},
   "outputs": [],
   "source": [
    "gamescores = {\"Tim\":500, \"Janneke\":900, \"Bob\":680, \"Els\": 680}\n",
    "gamescores[\"Lukas\"] = 400   #voeg voor de sleutel \"Lukas\" de waarde 400 toe\n",
    "\n",
    "print(gamescores)"
   ]
  },
  {
   "cell_type": "markdown",
   "metadata": {},
   "source": [
    "### Opdracht 11.3 Trainingsschema uitbreiden\n",
    "<p>Het trainingsschema van Tom wordt uitgebreid met wielrennen op zondag. Voeg de training toe aan zijn schema. Doe dat op dezelfde manier als hierboven, dus op regel twee met [ ]. Druk daarna het trainingsschema af.</p>\n",
    "\n",
    "<!-- #ANTWOORD\n",
    "trainingsschema = {\"maandag\":\"hardlopen\", \"woensdag\":\"fitness\", \"zaterdag\":\"voetbal\"}\n",
    "trainingsschema[\"zondag\"] = \"wielrennen\"\n",
    "\n",
    "print(trainingsschema) -->"
   ]
  },
  {
   "cell_type": "code",
   "execution_count": null,
   "metadata": {},
   "outputs": [],
   "source": [
    "trainingsschema = {\"maandag\":\"hardlopen\", \"woensdag\":\"fitness\", \"zaterdag\":\"voetbal\"}\n",
    "\n"
   ]
  },
  {
   "cell_type": "markdown",
   "metadata": {},
   "source": [
    "<p>Klik <a href=\"https://rweeda.github.io/PythonIA/docs/IA_H15_oplossingen.html#opgave153\">hier</a> voor een voorbeelduitwerking.</p>"
   ]
  }
 ],
 "metadata": {
  "kernelspec": {
   "display_name": "Python 3",
   "language": "python",
   "name": "python3"
  },
  "language_info": {
   "codemirror_mode": {
    "name": "ipython",
    "version": 3
   },
   "file_extension": ".py",
   "mimetype": "text/x-python",
   "name": "python",
   "nbconvert_exporter": "python",
   "pygments_lexer": "ipython3",
   "version": "3.9.0"
  }
 },
 "nbformat": 4,
 "nbformat_minor": 2
}
