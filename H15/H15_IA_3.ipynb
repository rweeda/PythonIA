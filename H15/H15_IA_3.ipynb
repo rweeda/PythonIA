{
 "cells": [
  {
   "cell_type": "markdown",
   "metadata": {},
   "source": [
    "## 3: Waarde toevoegen aan een dictionary\n",
    "<p>Je kunt een waarde toevoegen aan een dictionary. Je geeft de sleutel tussen vierkante haken mee <code>[ ]</code> en rechts van het '<code>=</code>'-teken de bijbehorende waarde. Hieronder voegen we voor Lukas (de sleutel) een score van 400 (de bijbehorende waarde) toe aan de dictionary <code>gamescores</code>.</p>\n"
   ]
  },
  {
   "cell_type": "code",
   "execution_count": null,
   "metadata": {},
   "outputs": [],
   "source": [
    "gamescores = {\"Tim\":500, \"Janneke\":900, \"Bob\":680, \"Els\": 680}\n",
    "gamescores[\"Lukas\"] = 400   #voeg aan de sleutel \"Lukas\" de waarde 400 toe\n",
    "\n",
    "print(gamescores)"
   ]
  },
  {
   "cell_type": "markdown",
   "metadata": {},
   "source": [
    "<p>Met de onderstaande visualisatie kun je stap voor stap zien hoe de dictionary bij elke regel code verandert door op <i>Next</i> te klikken.<br>\n",
    "<iframe width=\"800\" height=\"300\" frameborder=\"0\" src=\"https://pythontutor.com/iframe-embed.html#code=gamescores%20%3D%20%7B%22Tim%22%3A500,%20%22Janneke%22%3A900,%20%22Bob%22%3A680,%20%22Els%22%3A%20680%7D%0Agamescores%5B%22Lukas%22%5D%20%3D%20400%20%20%20%23voeg%20aan%20de%20sleutel%20%22Lukas%22%20de%20waarde%20400%20toe&codeDivHeight=400&codeDivWidth=350&cumulative=false&curInstr=0&heapPrimitives=nevernest&origin=opt-frontend.js&py=311&rawInputLstJSON=%5B%5D&textReferences=false\"> </iframe></p>\n"
   ]
  },
  {
   "cell_type": "markdown",
   "metadata": {},
   "source": [
    "### Opdracht 11.3 Trainingsschema uitbreiden\n",
    "<p>Het trainingsschema van Tom wordt uitgebreid met wielrennen op zondag. Voeg de training toe aan zijn schema. Doe dat op dezelfde manier als hierboven, dus op regel twee met <code>[ ]</code>. Druk daarna het trainingsschema af.</p>\n",
    "\n",
    "<!-- #ANTWOORD\n",
    "trainingsschema = {\"maandag\":\"hardlopen\", \"woensdag\":\"fitness\", \"zaterdag\":\"voetbal\"}\n",
    "trainingsschema[\"zondag\"] = \"wielrennen\"\n",
    "\n",
    "print(trainingsschema) -->"
   ]
  },
  {
   "cell_type": "code",
   "execution_count": null,
   "metadata": {},
   "outputs": [],
   "source": [
    "trainingsschema = {\"maandag\":\"hardlopen\", \"woensdag\":\"fitness\", \"zaterdag\":\"voetbal\"}\n",
    "\n"
   ]
  },
  {
   "cell_type": "markdown",
   "metadata": {},
   "source": [
    "<p>Klik <a href=\"https://rweeda.github.io/PythonIA/docs/IA_H15_oplossingen.html#opgave153\">hier</a> voor een voorbeelduitwerking.</p>"
   ]
  }
 ],
 "metadata": {
  "kernelspec": {
   "display_name": "Python 3",
   "language": "python",
   "name": "python3"
  },
  "language_info": {
   "codemirror_mode": {
    "name": "ipython",
    "version": 3
   },
   "file_extension": ".py",
   "mimetype": "text/x-python",
   "name": "python",
   "nbconvert_exporter": "python",
   "pygments_lexer": "ipython3",
   "version": "3.13.2"
  }
 },
 "nbformat": 4,
 "nbformat_minor": 2
}
