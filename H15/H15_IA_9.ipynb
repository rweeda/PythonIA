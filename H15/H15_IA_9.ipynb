{
 "cells": [
  {
   "cell_type": "markdown",
   "metadata": {},
   "source": [
    "## 8: Specifieke eigenschappen van een dictionary\n",
    "<p>Hieronder staan de belangrijkste eigenschappen van een dictionary (en de verschillen met lijsten) op een rij:</p>\n",
    "<ul>\n",
    "<li>Een sleutel kan maar één keer voorkomen in een dictionary.</li>\n",
    "<li>Dictionaries zijn ongeordend: De volgorde van gegevens in een dictionary is willekeurig. Het toevoegen van nieuwe elementen kan op een verschillende computer tot een verschillende volgorde komen, de volgorde kan zelfs plotseling drastisch wijzigen.</li>\n",
    "<li>Dictionaries zijn vaak veel sneller dan lijsten als je een specifiek element wilt opvragen. Dat komt omdat Python de hele lijst doorzoekt als je wilt zien of een element in een lijst bestaat; als de lijst langer wordt, duurt het doorzoeken ook langer. Dat is bij een dictionary niet zo, omdat daarvoor de unieke sleutel gebruikt wordt. Een lijst kan soms wel sneller zijn, bijvoorbeeld als deze vooraf gesorteerd is en je er slim doorheen zoekt.\n",
    "</li>\n",
    "\n",
    "<li>Dictionaries nemen meer geheugen in beslag dan lijsten.</li>\n",
    "</ul>\n",
    "<p>Vele concepten die gelden voor lijsten zijn dus niet van toepassing op een dictionary. Zo kun je bijvoorbeeld een dictionary niet sorteren of elementen of op een bepaalde positie invoegen.</p>\n",
    "\n",
    "\n",
    "## Dictionaries vs lijsten: Wanneer welke gebruiken?\n",
    "<p>Lijsten ('Lists') en dictionaries zijn de twee meest-gebruikte data structuren in Python. Geen van beide is beter dan de ander, maar ze zijn nuttig bij verschillende problemen. Wanneer gebruik je welke?</p>\n",
    "\n",
    "\n",
    "<ul>\n",
    "<li>Lijsten zijn geordend, dictionaries niet. Dus als je elementen in een bepaald volgorde wilt houden, dan gebruik je lijsten.</li>\n",
    "\n",
    "<li>Als je alleen een reeks elementen nodig hebt die je kunt benaderen met hun index, kies dan een lijst. Een lijst is namelijk eenvoudiger dan een dictionary.</li>\n",
    "<li>Als je snel een element wilt hebben dat gekoppeld is aan een specifieke unieke sleutel, kies dan een dictionary.</li>\n",
    "</ul>\n"
   ]
  },
  {
   "cell_type": "markdown",
   "metadata": {},
   "source": [
    "### Opdracht 15.8 Keuzes maken: lijst of dictionary\n",
    "\n",
    "<p>Geef voor de volgende taken aan of je ze het beste met een lijst of een dictionary kan implementeren. Leg je keuze uit.</p>\n",
    "\n",
    "<ol style=\"list-style-type: lower-alpha\">\n",
    "<li>Maak een programma dat de namen van studenten in een klas opslaat en de naam van een willekeurige student kan ophalen.</li>\n",
    "<li>Maak een programma dat telefoonnummers opslaat en het telefoonnummer van een persoon kan ophalen op basis van hun naam.</li>\n",
    "<li>Maak een programma dat de cijfers van studenten opslaat en het gemiddelde cijfer van de klas berekent.</li>\n",
    "<li>Maak een programma dat de items in een winkelwagen opslaat en de totale prijs berekent.</li>\n",
    "<li>Maak een programma dat de frequentie van elk letter in een tekst telt.</li>\n",
    "</ol>\n",
    "\n",
    "\n",
    "\n",
    "<!-- ANTWOORDEN:\n",
    "<ol style=\"list-style-type: lower-alpha\">\n",
    "<li>Lijst: Een lijst is geschikt omdat je alleen de namen van studenten opslaat en de volgorde belangrijk kan zijn. Je hebt geen sleutel-waarde paren nodig, dus een lijst is eenvoudiger en efficiënter.</li>\n",
    "<li>Dictionary: Een dictionary is beter omdat je sleutel-waarde paren nodig hebt (naam-telefoonnummer). Dit maakt het ophalen van gegevens op basis van een sleutel (naam) veel efficiënter.</li>\n",
    "<li>Lijst: Een lijst is geschikt omdat je alleen de cijfers opslaat en je de volgorde van invoer wilt behouden om bijvoorbeeld de cijfers in volgorde van binnenkomst te verwerken.\n",
    "<li>Lijst: Een lijst is geschikt als je alleen de items opslaat en de volgorde van toevoeging belangrijk is. Als je echter ook de prijzen en hoeveelheden van elk item wilt opslaan, kan een Dictionary beter zijn.</li>\n",
    "<li>Dictionary: Een dictionary is ideaal omdat je elk letter als sleutel kunt gebruiken en de frequentie als waarde. Dit maakt het gemakkelijk om de frequentie van elk letter bij te houden en op te halen.</li>\n",
    "</ol> -->\n",
    "\n",
    "<p>Klik <a href=\"https://rweeda.github.io/PythonIA/docs/IA_H15_oplossingen.html#opgave158\">hier</a> voor een voorbeelduitwerking.</p>"
   ]
  }
 ],
 "metadata": {
  "kernelspec": {
   "display_name": "Python 3",
   "language": "python",
   "name": "python3"
  },
  "language_info": {
   "codemirror_mode": {
    "name": "ipython",
    "version": 3
   },
   "file_extension": ".py",
   "mimetype": "text/x-python",
   "name": "python",
   "nbconvert_exporter": "python",
   "pygments_lexer": "ipython3",
   "version": "3.9.0"
  }
 },
 "nbformat": 4,
 "nbformat_minor": 2
}
