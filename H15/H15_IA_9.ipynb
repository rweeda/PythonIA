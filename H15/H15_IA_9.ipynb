{
 "cells": [
  {
   "cell_type": "markdown",
   "metadata": {},
   "source": [
    "## 9: Specifieke eigenschappen van een dictionary\n",
    "<p>Hieronder staan de belangrijkste eigenschappen van een dictionary (en de verschillen met lijsten) op een rij:</p>\n",
    "<ul>\n",
    "<li>Een sleutel kan maar één keer voorkomen in een dictionary.</li>\n",
    "\n",
    "<li>Dictionary's zijn vaak veel sneller dan lijsten als je een specifiek element wilt opvragen. Dat komt omdat Python de hele lijst doorzoekt als je wilt zien of een element in een lijst bestaat; als de lijst langer wordt, duurt het doorzoeken ook langer. Dat is bij een dictionary niet zo, omdat daarvoor de unieke sleutel gebruikt wordt. Een lijst kan soms wel sneller zijn, bijvoorbeeld als deze vooraf gesorteerd is en je er slim doorheen zoekt.</li>\n",
    "<li>Dictionary's nemen meer geheugen in beslag dan lijsten.</li>\n",
    "<li>Tot Python 3.7 had de inhoud van een dictionary geen vaste volgorde.</li>\n",
    "\n",
    "</ul>\n",
    "<p>Vele concepten die gelden voor lijsten zijn dus niet van toepassing op een dictionary. Zo kun je bijvoorbeeld een dictionary niet sorteren op elementen of elementen op een bepaalde positie invoegen.</p>\n"
   ]
  }
 ],
 "metadata": {
  "kernelspec": {
   "display_name": "Python 3",
   "language": "python",
   "name": "python3"
  },
  "language_info": {
   "codemirror_mode": {
    "name": "ipython",
    "version": 3
   },
   "file_extension": ".py",
   "mimetype": "text/x-python",
   "name": "python",
   "nbconvert_exporter": "python",
   "pygments_lexer": "ipython3",
   "version": "3.13.2"
  }
 },
 "nbformat": 4,
 "nbformat_minor": 2
}
