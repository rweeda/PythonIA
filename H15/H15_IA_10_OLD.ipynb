{
 "cells": [
  {
   "cell_type": "markdown",
<<<<<<< HEAD
   "id": "ae1cc706-ebb9-485e-8f1a-90f3e38a64a9",
   "metadata": {},
   "source": [
    "## 12: Dictionaries opslaan op en laden van je computer\n",
    "\n",
    "Als je een dictionary maakt, dan bestaat deze alleen maar wanneer jouw Python programma draait. \n",
    "Stopt het programma, dan ben je je dictionary kwijt. Wat als er nou een manier was dat je een dictionary kon opslaan op je computer!"
=======
   "metadata": {},
   "source": [
    "\n",
    "## 10: Dictionary's vs. lijsten: Wanneer welke gebruiken?\n",
    "<p>Lijsten ('Lists') en dictionary's zijn de twee meest-gebruikte datastructuren in Python. Geen van beide is beter dan de ander, maar ze zijn nuttig bij verschillende problemen. Wanneer gebruik je welke?</p>\n",
    "\n",
    "\n",
    "<ul>\n",
    "<li>Lijsten zijn geordend, dictionary's niet. Dus als je elementen in een bepaalde volgorde wilt houden, dan gebruik je lijsten.</li>\n",
    "\n",
    "<li>Als je alleen een reeks elementen nodig hebt die je kunt benaderen met hun index, kies dan een lijst. Een lijst is namelijk eenvoudiger dan een dictionary.</li>\n",
    "<li>Als je snel een element wilt hebben dat gekoppeld is aan een specifieke unieke sleutel, kies dan een dictionary.</li>\n",
    "</ul>"
>>>>>>> f8fdf4aada92fb1fb4b149daca173241fb5ba3d1
   ]
  },
  {
   "cell_type": "markdown",
<<<<<<< HEAD
   "id": "fe3ce868-ae22-4621-8c42-f90cc3e4988b",
   "metadata": {},
   "source": [
    "### Een dictionary opslaan op je computer\n",
    "\n",
    "Hieronder zie je een dictionary met drie *keys* en drie *values*."
   ]
  },
  {
   "cell_type": "code",
   "execution_count": 3,
   "id": "e2a252c0-15b1-4171-b4de-2487a96780e6",
   "metadata": {},
   "outputs": [],
   "source": [
    "game_info = {\n",
    "    \"gold\": 100,\n",
    "    \"silver\": 50,\n",
    "    \"sword\" : True\n",
    "}"
   ]
  },
  {
   "cell_type": "markdown",
   "id": "af46a7b8-28ec-4ad4-a705-62b82cdf2c8e",
   "metadata": {},
   "source": [
    "We gaan nu dit dictionary opslaan op de computer die dit mooie notebook draait."
   ]
  },
  {
   "cell_type": "code",
   "execution_count": 5,
   "id": "c9632ba2-ed68-47c3-a6a4-44652ed78492",
   "metadata": {},
   "outputs": [],
   "source": [
    "import json\n",
    "outfile = open('game.json', 'w')\n",
    "json.dump(game_info, outfile)\n",
    "outfile.close()"
   ]
  },
  {
   "cell_type": "markdown",
   "id": "2e22e287-dd56-4d07-adf1-77169aa89a8a",
   "metadata": {},
   "source": [
    "Wat hebben we hier gedaan?\n",
    "\n",
    "```python\n",
    "import json\n",
    "```\n",
    "We importeren hier de **json** package. Deze helpt ons met de dictionary opslaan op een computer.\n",
    "\n",
    "```python\n",
    "outfile = open('game.json', 'w')\n",
    "```\n",
    "We laten Python een bestand maken in dezelfde map als dit notebook, waarvan de naam **game.json** is. De **w** is nodig om te zeggen dat we informatie gaan toevoegen aan een bestand.\n",
    "\n",
    "```python\n",
    "json.dump(game_info, outfile)\n",
    "```\n",
    "Nu gebruiken we het json package om ons dictionary **game_info** te schrijven naar ons nieuwe bestand **outfile**.\n",
    "\n",
    "```python\n",
    "outfile.close()\n",
    "```\n",
    "We moeten ons bestand wel weer netjes sluiten.\n",
    "\n"
   ]
  },
  {
   "cell_type": "markdown",
   "id": "b85fd968-7aa5-4421-bdf2-37a55755448d",
   "metadata": {},
   "source": [
    "### Een dictionary laden van een computer\n",
    "Je hebt net geleerd hoe je een dictionary kan opslaan op je computer. Nu laten we zien hoe we ons net opgeslagen dictionary weer kunnen laden vanaf de computer."
   ]
  },
  {
   "cell_type": "code",
   "execution_count": 7,
   "id": "cd6f0a29-dbc4-425b-a099-54eeed6f11d0",
   "metadata": {},
   "outputs": [
    {
     "name": "stdout",
     "output_type": "stream",
     "text": [
      "{'gold': 100, 'silver': 50, 'sword': True}\n"
     ]
    }
   ],
   "source": [
    "import json\n",
    "infile = open('game.json', 'r')\n",
    "spel_data = json.load(infile)\n",
    "infile.close()\n",
    "print(spel_data)"
   ]
  },
  {
   "cell_type": "markdown",
   "id": "0ca2aaf0-bd5b-4be7-9fb9-1eb15f2285de",
   "metadata": {},
   "source": [
    "Wat gebeurt hier?\n",
    "\n",
    "```python\n",
    "infile = open('game.json', 'r')\n",
    "```\n",
    "We openen het bestand **game.json** om er informatie uit te lezen (vandaar 'r' in plaats van 'w').\n",
    "\n",
    "```python\n",
    "spel_data = json.load(infile)\n",
    "```\n",
    "We gebruik json.load om het dictionary in het bestand te laden als een Python dictionary. De variabele **spel_data** gaat verwijzen naar dit dictionary.\n",
    "\n",
    "```python\n",
    "infile.close()\n",
    "```\n",
    "Uiteraard sluiten we het bestand weer.\n"
   ]
  },
  {
   "cell_type": "markdown",
   "id": "5c3b30d5-172b-4e97-9370-59cbca00bb3a",
   "metadata": {},
   "source": [
    "### Opdracht 11.x: Onze eigen IMDB\n",
    "We gaan proberen de ratings van films op te slaan. \n",
    "- sla onderstaande dictionary **movie_ratings**\n",
    "- op in een bestand genaamd **movie_ratings.json**\n",
    "- en voeg één extra film toe aan de dictionary"
   ]
  },
  {
   "cell_type": "code",
   "execution_count": 10,
   "id": "2e772893-f2e6-4b86-a31a-0482401f3122",
   "metadata": {},
   "outputs": [],
   "source": [
    "movie_ratings = {\n",
    "    \"The Shawshank Redemption\" : {\n",
    "        \"rating\": 9.3,\n",
    "        \"year\": 1994\n",
    "    },\n",
    "    \"The Godfather\" : {\n",
    "        \"rating\": 9.2,\n",
    "        \"year\" : 1972\n",
    "    }\n",
    "}"
   ]
  },
  {
   "cell_type": "code",
   "execution_count": 1,
   "id": "ef1e3c67-449a-4bba-bec8-869a2903223e",
   "metadata": {},
   "outputs": [],
   "source": [
    "# uitwerking\n",
    "\n",
    "movie_ratings = {\n",
    "    \"The Shawshank Redemption\" : {\n",
    "        \"rating\": 9.3,\n",
    "        \"year\": 1994\n",
    "    },\n",
    "    \"The Godfather\" : {\n",
    "        \"rating\": 9.2,\n",
    "        \"year\" : 1972\n",
    "    },\n",
    "    \"The Dark Knight\" : {\n",
    "        \"rating\": 9,\n",
    "        \"year\": 2008\n",
    "    }\n",
    "}\n",
    "\n",
    "import json\n",
    "outfile = open('movie_ratings.json', 'w')\n",
    "json.dump(movie_ratings, outfile)\n",
    "outfile.close()"
   ]
  },
  {
   "cell_type": "markdown",
   "id": "135f11e7-33e4-4eb8-9910-0a6804c9f657",
   "metadata": {},
   "source": [
    "### Opdracht 11.x: Opvragen van onze eigen IMDB\n",
    "Gebruik **json.load** om:\n",
    "- het bestand **movie_ratings.json** te lezen\n",
    "- gebruik de variable **ratings** om te verwijzen naar het dictionary"
   ]
  },
  {
   "cell_type": "code",
   "execution_count": 14,
   "id": "3a6f02b2-b3bb-441c-8df8-ea3b5d4cd76f",
   "metadata": {},
   "outputs": [
    {
     "name": "stdout",
     "output_type": "stream",
     "text": [
      "{'The Shawshank Redemption': {'rating': 9.3, 'year': 1994}, 'The Godfather': {'rating': 9.2, 'year': 1972}, 'The Dark Knight': {'rating': 9, 'year': 2008}}\n"
     ]
    }
   ],
   "source": [
    "# uitwerking\n",
    "import json\n",
    "infile = open('movie_ratings.json', 'r')\n",
    "ratings = json.load(infile)\n",
    "infile.close()\n",
    "print(ratings)"
   ]
  },
  {
   "cell_type": "code",
   "execution_count": null,
   "id": "17778ee0-4b13-485b-96a7-53ae8f40330c",
   "metadata": {},
   "outputs": [],
   "source": []
=======
   "metadata": {},
   "source": [
    "### Opdracht 11.8 Keuzes maken: lijst of dictionary\n",
    "\n",
    "<p>Geef voor de volgende taken aan of je ze het beste met een lijst of een dictionary kan implementeren. Leg je keuze uit.</p>\n",
    "\n",
    "<ol style=\"list-style-type: lower-alpha\">\n",
    "<li>Schrijf een programma dat de namen van studenten in een klas opslaat en de naam van een willekeurige student kan ophalen.</li>\n",
    "<li>Schrijf een programma dat telefoonnummers opslaat en het telefoonnummer van een persoon kan ophalen op basis van zijn naam.</li>\n",
    "<li>Schrijf een programma dat de cijfers van studenten opslaat en het gemiddelde cijfer van de klas berekent.</li>\n",
    "<li>Schrijf een programma dat de items in een winkelwagen opslaat en de totale prijs berekent.</li>\n",
    "<li>Schrijf een programma dat de frequentie van elke letter in een tekst telt.</li>\n",
    "<li>Je kent de namen van leerlingen in je klas. Schrijf een programma dat het aantal leerlingen in je klas bepaalt.</li>\n",
    "<li>Schrijf een programma dat een wachtrij bij de Efteling bijhoudt. De volgorde waarin je je meldt, bepaalt wanneer je de attractie in mag.</li>\n",
    "<li>Je wilt zo snel mogelijk het cijfer van Pietje voor Wiskunde opvragen.</li>\n",
    "</ol>\n",
    "\n",
    "\n",
    "\n",
    "<!-- ANTWOORDEN:\n",
    "<ol style=\"list-style-type: lower-alpha\">\n",
    "<li>Lijst: Een lijst is geschikt omdat je alleen de namen van studenten opslaat en de volgorde belangrijk kan zijn. Je hebt geen sleutel-waarde paren nodig, dus een lijst is eenvoudiger en efficiënter.</li>\n",
    "<li>Dictionary: Een dictionary is beter omdat je sleutel-waarde paren nodig hebt (naam-telefoonnummer). Dit maakt het ophalen van gegevens op basis van een sleutel (naam) veel efficiënter.</li>\n",
    "<li>Lijst: Een lijst is geschikt omdat je alleen de cijfers opslaat en je de volgorde van invoer wilt behouden om bijvoorbeeld de cijfers in volgorde van binnenkomst te verwerken.\n",
    "<li>Lijst: Een lijst is geschikt als je alleen de items opslaat en de volgorde van toevoeging belangrijk is. Als je echter ook de prijzen en hoeveelheden van elk item wilt opslaan, kan een Dictionary beter zijn.</li>\n",
    "<li>Dictionary: Een dictionary is ideaal omdat je elk letter als sleutel kunt gebruiken en de frequentie als waarde. Dit maakt het gemakkelijk om de frequentie van elk letter bij te houden en op te halen.</li>\n",
    "</ol> -->\n",
    "\n",
    "<p>Klik <a href=\"https://rweeda.github.io/PythonIA/docs/IA_H15_oplossingen.html#opgave158\">hier</a> voor een voorbeelduitwerking.</p>"
   ]
>>>>>>> f8fdf4aada92fb1fb4b149daca173241fb5ba3d1
  }
 ],
 "metadata": {
  "kernelspec": {
   "display_name": "Python 3",
   "language": "python",
   "name": "python3"
  },
  "language_info": {
   "codemirror_mode": {
    "name": "ipython",
    "version": 3
   },
   "file_extension": ".py",
   "mimetype": "text/x-python",
   "name": "python",
   "nbconvert_exporter": "python",
   "pygments_lexer": "ipython3",
   "version": "3.13.2"
  }
 },
 "nbformat": 4,
<<<<<<< HEAD
 "nbformat_minor": 5
=======
 "nbformat_minor": 2
>>>>>>> f8fdf4aada92fb1fb4b149daca173241fb5ba3d1
}
