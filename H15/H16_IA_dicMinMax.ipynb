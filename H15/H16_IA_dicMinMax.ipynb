{
 "cells": [
  {
   "cell_type": "markdown",
   "metadata": {},
   "source": [
    "## 5: Kleinste en grootste waarde uit een dictionary bepalen\n",
    "<p>Met een <code>for</code>-loop kun je ook bepalen wat het kleinste (of grootste) getal is dat in een dictionary voorkomt. Je gebruikt daarvoor een variabele om bij te houden wat de kleinste waarde is die je tot dan toe gezien hebt. Kom je nog een kleinere waarde tegen, dan sla je die kleinere waarde op in je variabele. Om te beginnen is de eerste waarde de kleinste waarde tot dan toe.</p>\n",
    "\n",
    "\n",
    "TODO IMAGE\n",
    "\n",
    "<p><img src=\"https://course.cs.ru.nl/pythonVO/img/10.5Kleinste_Stroomdiagram.jpg\" alt=\"Figuur: Stroomdiagram kleinste\" width=\"400\"></p>\n",
    "\n",
    "\n",
    "\n",
    "\n"
   ]
  },
  {
   "cell_type": "code",
   "execution_count": null,
   "metadata": {},
   "outputs": [
    {
     "name": "stdout",
     "output_type": "stream",
     "text": [
      "De stad met de minste inwoners is Dorpje met 13000 inwoners.\n",
      "De stad met de minste inwoners is Dorpje met 13000 inwoners.\n"
     ]
    }
   ],
   "source": [
    "steden = {\n",
    "    \"Amsterdam\": {\"land\": \"Nederland\", \"inwoners\": 921000, \"werelddeel\": \"Europa\"},\n",
    "    \"Buenos Aires\": {\"land\": \"Argentinië\", \"inwoners\": 2890000, \"werelddeel\": \"Zuid-Amerika\"},\n",
    "    \"Rome\": {\"land\": \"Italië\", \"inwoners\": 2873000, \"werelddeel\": \"Europa\"},\n",
    "    \"São Paulo\": {\"land\": \"Brazilië\", \"inwoners\": 12330000, \"werelddeel\": \"Zuid-Amerika\"},\n",
    "    \"Tokyo\": {\"land\": \"Japan\", \"inwoners\": 13960000, \"werelddeel\": \"Azië\"},\n",
    "}\n",
    "\n",
    "# Zet de sleutels (stedenamen) in een lijst\n",
    "stad_namen = list(steden.keys())\n",
    "\n",
    "# Initialiseer minimum met de eerste stad\n",
    "min_inwoners = steden[stad_namen[0]][\"inwoners\"]\n",
    "kleinste_stad = stad_namen[0]\n",
    "\n",
    "# Loop met while door de rest van de steden\n",
    "for stad in stad_namen:\n",
    "    # Vergelijk het aantal inwoners met de huidige minimum\n",
    "\n",
    "    if steden[stad][\"inwoners\"] < min_inwoners:\n",
    "        min_inwoners = steden[stad][\"inwoners\"] \t \t\n",
    "        kleinste_stad = stad\n",
    "\n",
    "print(f\"De stad met de minste inwoners is {kleinste_stad} met {min_inwoners} inwoners.\")"
   ]
  },
  {
   "cell_type": "markdown",
   "metadata": {},
   "source": [
    "\n",
    "### Opdracht 10.7 De meeste likes\n",
    "<p>Een groepje meiden wil hun aantal likes bij TikTok vergelijken. Hun likes staan in een lijst:\n",
    "    <!--<pre class=\"python\">\n",
    "likes_lijst = [102, 110, 502, 234, 340, 20]\n",
    "</pre>-->\n",
    "\n",
    "</p>\n",
    "<p>Bepaal wat het grootste aantal likes is. Hiervoor gebruik je een <code>for</code>-loop zoals in het vorige voorbeeld gedaan is, maar in plaats van naar het kleinste ga je op zoek naar de grootste.</p>\n"
   ]
  },
  {
   "cell_type": "code",
   "execution_count": null,
   "metadata": {},
   "outputs": [],
   "source": [
    "likes_lijst = [102, 110, 502, 234, 340, 20]"
   ]
  },
  {
   "cell_type": "markdown",
   "metadata": {},
   "source": [
    "\n",
    "<p>Bekijk <a href=\"https://rweeda.github.io/PythonIA/docs/IA_H10_oplossingen.html#opgave1051\" target=\"_blank\">hier</a> de voorbeelduitwerking.</p>"
   ]
  }
 ],
 "metadata": {
  "kernelspec": {
   "display_name": "Python 3",
   "language": "python",
   "name": "python3"
  },
  "language_info": {
   "codemirror_mode": {
    "name": "ipython",
    "version": 3
   },
   "file_extension": ".py",
   "mimetype": "text/x-python",
   "name": "python",
   "nbconvert_exporter": "python",
   "pygments_lexer": "ipython3",
   "version": "3.13.2"
  }
 },
 "nbformat": 4,
 "nbformat_minor": 2
}
