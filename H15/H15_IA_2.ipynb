{
 "cells": [
  {
   "cell_type": "markdown",
   "metadata": {},
   "source": [
    "## 2: Een waarde uit een dictionary ophalen\n",
    "\n",
    "<p>Je kunt de bijbehorende waarde van een sleutelwaarde-paar uit een dictionary opvragen met de <b>sleutel</b>. Je geeft de sleutel tussen vierkante haken [ ] mee.</p>"
   ]
  },
  {
   "cell_type": "code",
   "execution_count": null,
   "metadata": {},
   "outputs": [],
   "source": [
    "gamescores = {\"Tim\":500, \"Janneke\":900, \"Bob\":680, \"Els\": 680}\n",
    "\n",
    "score_van_Bob = gamescores[\"Bob\"]   # haalt de bijbehorende waarde van de sleutel \"Bob\" op, namelijk 680\n",
    "print(score_van_Bob)"
   ]
  },
  {
   "cell_type": "markdown",
   "metadata": {},
   "source": [
    "<p>Met de sleutel 'Bob' kun je de bijbehorenden waarde (680) opvragen.</p>"
   ]
  },
  {
   "cell_type": "markdown",
   "metadata": {},
   "source": [
    "### Opdracht 11.1 Dictionary met een trainingsschema maken en afdrukken\n",
    "<p>Tom heeft het volgende trainingsschema meegekregen:<br> maandag: hardlopen, woensdag: fitness, zaterdag: voetbal</p>\n",
    "\n",
    "<ol style=\"list-style-type: lower-alpha\">\n",
    "<li>Zet de trainingen van Tom in een dictionary.</li>\n",
    "<li>Druk de dictionary af.</li>\n",
    "<li>Druk de training van zaterdag af.</li>\n",
    "<li>Wat gebeurt er als je een niet-bestaande training probeert af te drukken, zoals die van dinsdag?</li>\n",
    "</ol>\n",
    "\n",
    "<!-- #ANTWOORD\n",
    "trainingsschema = {\"maandag\":\"hardlopen\", \"woensdag\":\"fitness\", \"zaterdag\":\"voetbal\"}\n",
    "print(trainingsschema)              # print de dictionary\n",
    "\n",
    "training_zat = trainingsschema[\"zaterdag\"]  # haalt de waarde van de sleutel \"zaterdag\", namelijk voetbal\n",
    "print( training_zat ) \n",
    "\n",
    "training_dinsdag = trainingsschema[\"dinsdag\"] # haalt de waarde van de sleutel \"dinsdag\", maar deze bestaat niet\n",
    "print( training_dinsdag )   # 'dinsdag' is geen sleutel, dus geeft dit een foutmelding KeyError \n",
    "-->"
   ]
  },
  {
   "cell_type": "code",
   "execution_count": null,
   "metadata": {},
   "outputs": [],
   "source": []
  },
  {
   "cell_type": "markdown",
   "metadata": {},
   "source": [
    "<p>Klik <a href=\"https://rweeda.github.io/PythonIA/docs/IA_H15_oplossingen.html#opgave151\">hier</a> voor een voorbeelduitwerking.</p>"
   ]
  },
  {
   "cell_type": "markdown",
   "metadata": {},
   "source": [
    "### Als de sleutel niet bestaat, met <code>get()</code>\n",
    "<p>De <code>get()</code>-methode kun je gebruiken om een waarde uit de dictionary te halen, zelfs als je\n",
    "niet weet of de sleutel die je zoekt wel in de dictionary zit.\n",
    "<ul>\n",
    "<li>Als de sleutel bestaat, wordt de bijbehorende waarde opgeleverd.</li>\n",
    "<li>Als de sleutel niet bestaat, levert zij <code>None</code> op.</li>\n",
    "</ul>"
   ]
  },
  {
   "cell_type": "code",
   "execution_count": null,
   "metadata": {},
   "outputs": [],
   "source": [
    "gamescores = {\"Tim\":500, \"Janneke\":900, \"Bob\":680, \"Els\": 680}\n",
    "\n",
    "score_van_Bob = gamescores.get(\"Bob\") # haalt de waarde van de sleutel \"Bob\" op, namelijk 680\n",
    "print(score_van_Bob)\n",
    "\n",
    "score_van_niet_bestaande_speler = gamescores.get(\"THOMAS\") # de sleutel \"THOMAS\" bestaat niet, dus de waarde is None\n",
    "print(score_van_niet_bestaande_speler) "
   ]
  },
  {
   "cell_type": "markdown",
   "metadata": {},
   "source": [
    "<p>Met <code>get()</code> kun je dus achterhalen of een sleutel in een dictionary zit, zonder dat het programma een foutmelding oplevert. In je code kun je controleren of de waarde gelijk is aan <code>None</code>:</p>"
   ]
  },
  {
   "cell_type": "code",
   "execution_count": null,
   "metadata": {},
   "outputs": [],
   "source": [
    "gamescores = {\"Tim\":500, \"Janneke\":900, \"Bob\":680, \"Els\": 680}\n",
    "\n",
    "score_van_niet_bestaande_speler = gamescores.get(\"THOMAS\") # de sleutel \"THOMAS\" bestaat niet, dus de waarde is None\n",
    "if score_van_niet_bestaande_speler is None:\n",
    "    print(\"speler bestaat niet\") "
   ]
  },
  {
   "cell_type": "markdown",
   "metadata": {},
   "source": [
    "### Opdracht 11.2 Waarde met <code>get()</code> ophalen\n",
    "\n",
    "<p>Gebruik <code>get()</code> om te controleren of er op de volgende dagen een training staat. Zo ja, druk de training af; zo nee, druk dan af: '<i>Geen training!</i>'</p>\n",
    "<ol style=\"list-style-type: lower-alpha\">\n",
    "<li>woensdag</li>\n",
    "<li>zondag</li>\n",
    "</ol>\n",
    "\n",
    "<!-- ANTWOORD:\n",
    "trainingsschema = {\"maandag\":\"hardlopen\", \"woensdag\":\"fitness\", \"zaterdag\":\"voetbal\"}\n",
    "\n",
    "#opdracht a\n",
    "training_wo = trainingsschema[\"woensdag\"]  # haalt de waarde van de sleutel \"woensdag\", namelijk fitness\n",
    "if training_wo == None: # er is geen training\n",
    "    print(\"Geen training!\") # print dan \"Geen training!\"\n",
    "else:\n",
    "    print( training_wo ) \n",
    "\n",
    "#opdracht b\n",
    "training_zondag = trainingsschema.get(\"dinsdag\") # haalt de waarde van de sleutel 'zondag', maar deze bestaat niet\n",
    "\n",
    "#opdracht b\n",
    "if training_zondag == None: # er is geen training\n",
    "    print(\"Geen training!\") # print dan \"Geen training!\"\n",
    "else: \n",
    "    print( training_zondag )                # 'zondag' is geen sleutel, dus levert get() 'None' op \n",
    "\n",
    "    -->"
   ]
  },
  {
   "cell_type": "code",
   "execution_count": null,
   "metadata": {},
   "outputs": [],
   "source": [
    "trainingsschema = {\"maandag\":\"hardlopen\", \"woensdag\":\"fitness\", \"zaterdag\":\"voetbal\"}\n"
   ]
  },
  {
   "cell_type": "markdown",
   "metadata": {},
   "source": [
    "<p>Klik <a href=\"https://rweeda.github.io/PythonIA/docs/IA_H15_oplossingen.html#opgave152\">hier</a> voor een voorbeelduitwerking.</p>"
   ]
  }
 ],
 "metadata": {
  "kernelspec": {
   "display_name": "Python 3",
   "language": "python",
   "name": "python3"
  },
  "language_info": {
   "codemirror_mode": {
    "name": "ipython",
    "version": 3
   },
   "file_extension": ".py",
   "mimetype": "text/x-python",
   "name": "python",
   "nbconvert_exporter": "python",
   "pygments_lexer": "ipython3",
   "version": "3.13.2"
  }
 },
 "nbformat": 4,
 "nbformat_minor": 2
}
