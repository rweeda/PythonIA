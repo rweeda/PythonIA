{
 "cells": [
  {
   "cell_type": "markdown",
   "id": "92582174",
   "metadata": {},
   "source": [
    "## Logische opertoren gebruiken om te zoeken\n",
    "\n",
    "<p>Met <code>and</code>, <code>or</code> and <code>not</code> kun je condities samenstellen, bijvoorbeeld als je zoekt naar bepaalde informatie. Deze heten *logische operatoren*.</p>\n",
    "\n",
    "<p>In het voorbeeld hieronder zie je het verchil tussen een <code>and</code> en een <code>or</code>. Als je de code uitvoerd zie je dat de <code>and</code> maar één stad oplevert, terwijl je met de <code>or</code> alle steden krijgt.</p>"
   ]
  },
  {
   "cell_type": "code",
   "execution_count": 2,
   "id": "8faea2a0",
   "metadata": {},
   "outputs": [
    {
     "name": "stdout",
     "output_type": "stream",
     "text": [
      "Rome heeft meer dan 1 miljoen inwoners EN ligt in Europa.\n",
      "Amsterdam heeft meer dan 1 miljoen inwoners OF ligt in Europa.\n",
      "Buenos Aires heeft meer dan 1 miljoen inwoners OF ligt in Europa.\n",
      "Rome heeft meer dan 1 miljoen inwoners OF ligt in Europa.\n",
      "São Paulo heeft meer dan 1 miljoen inwoners OF ligt in Europa.\n",
      "Tokyo heeft meer dan 1 miljoen inwoners OF ligt in Europa.\n"
     ]
    }
   ],
   "source": [
    "steden = {\n",
    "    \"Amsterdam\": {\"land\": \"Nederland\", \"inwoners\": 921000, \"werelddeel\": \"Europa\"},\n",
    "    \"Buenos Aires\": {\"land\": \"Argentinië\", \"inwoners\": 2890000, \"werelddeel\": \"Zuid-Amerika\"},\n",
    "    \"Rome\": {\"land\": \"Italië\", \"inwoners\": 2873000, \"werelddeel\": \"Europa\"},\n",
    "    \"São Paulo\": {\"land\": \"Brazilië\", \"inwoners\": 12330000, \"werelddeel\": \"Zuid-Amerika\"},\n",
    "    \"Tokyo\": {\"land\": \"Japan\", \"inwoners\": 13960000, \"werelddeel\": \"Azië\"},\n",
    "\n",
    "}\n",
    "\n",
    "for stad, gegevens in steden.items():\t#voor elke stad in de dictionary steden\n",
    "    if steden[stad][\"inwoners\"] > 1000000 and steden[stad][\"werelddeel\"]==\"Europa\": # steden met meer dan 1 miljoen inwoners en in Europa\n",
    "        print(stad, \"heeft meer dan 1 miljoen inwoners EN ligt in Europa.\")\n",
    "\n",
    "for stad, gegevens in steden.items():\t#voor elke stad in de dictionary steden\n",
    "    if steden[stad][\"inwoners\"] > 1000000 or steden[stad][\"werelddeel\"]==\"Europa\":\t# steden met meer dan 1 miljoen inwoners of in Europa\n",
    "        print(stad, \"heeft meer dan 1 miljoen inwoners OF ligt in Europa.\")\n"
   ]
  },
  {
   "cell_type": "markdown",
   "id": "5b9e08c9",
   "metadata": {},
   "source": [
    "<p>In het voorbeeld hieronder zie wat er gebeurt als je een <code>not</code> combineert met een <code>and</code> of <code>or</code>.</p>"
   ]
  },
  {
   "cell_type": "code",
   "execution_count": 3,
   "id": "a5c5e881",
   "metadata": {},
   "outputs": [
    {
     "name": "stdout",
     "output_type": "stream",
     "text": [
      "Buenos Aires heeft meer dan 1 miljoen inwoners EN ligt NIET in Europa.\n",
      "São Paulo heeft meer dan 1 miljoen inwoners EN ligt NIET in Europa.\n",
      "Tokyo heeft meer dan 1 miljoen inwoners EN ligt NIET in Europa.\n",
      "Buenos Aires heeft meer dan 1 miljoen inwoners OF ligt NIET in Europa.\n",
      "Rome heeft meer dan 1 miljoen inwoners OF ligt NIET in Europa.\n",
      "São Paulo heeft meer dan 1 miljoen inwoners OF ligt NIET in Europa.\n",
      "Tokyo heeft meer dan 1 miljoen inwoners OF ligt NIET in Europa.\n"
     ]
    }
   ],
   "source": [
    "steden = {\n",
    "    \"Amsterdam\": {\"land\": \"Nederland\", \"inwoners\": 921000, \"werelddeel\": \"Europa\"},\n",
    "    \"Buenos Aires\": {\"land\": \"Argentinië\", \"inwoners\": 2890000, \"werelddeel\": \"Zuid-Amerika\"},\n",
    "    \"Rome\": {\"land\": \"Italië\", \"inwoners\": 2873000, \"werelddeel\": \"Europa\"},\n",
    "    \"São Paulo\": {\"land\": \"Brazilië\", \"inwoners\": 12330000, \"werelddeel\": \"Zuid-Amerika\"},\n",
    "    \"Tokyo\": {\"land\": \"Japan\", \"inwoners\": 13960000, \"werelddeel\": \"Azië\"},\n",
    "\n",
    "}\n",
    "\n",
    "for stad, gegevens in steden.items():\t#voor elke stad in de dictionary steden\n",
    "    if steden[stad][\"inwoners\"] > 1000000 and not steden[stad][\"werelddeel\"]==\"Europa\": #steden met meer dan 1 miljoen inwoners en niet in Europa\n",
    "        print(stad, \"heeft meer dan 1 miljoen inwoners EN ligt NIET in Europa.\")\n",
    "\n",
    "for stad, gegevens in steden.items():\t#voor elke stad in de dictionary steden\n",
    "    if steden[stad][\"inwoners\"] > 1000000 or not steden[stad][\"werelddeel\"]==\"Europa\": # steden met meer dan 1 miljoen inwoners of niet in Europa\n",
    "        print(stad, \"heeft meer dan 1 miljoen inwoners OF ligt NIET in Europa.\")\t\n"
   ]
  },
  {
   "cell_type": "markdown",
   "id": "f55449fd",
   "metadata": {},
   "source": [
    "## Haakjes bij meerdere logische operatoren\n",
    "\n",
    "<p>Gebruik je meer dan twee logische operatoren, gebruik dan altijd haakjes zodat je de juiste informatie krijgt. In het voorbeeld hieronder zie je dat <code>(A and B) or C</code>  wat anders betekend dan <code>A and (B or C)</code>:</p>"
   ]
  },
  {
   "cell_type": "code",
   "execution_count": null,
   "id": "b9c15c42",
   "metadata": {},
   "outputs": [
    {
     "name": "stdout",
     "output_type": "stream",
     "text": [
      "( Amsterdam heeft minder dan 1 miljoen inwoners EN ligt in Europa) OF ligt in Azië.\n",
      "( Tokyo heeft minder dan 1 miljoen inwoners EN ligt in Europa) OF ligt in Azië.\n",
      "Amsterdam heeft minder dan 1 miljoen inwoners  EN (ligt in Europa OF ligt in Azië).\n"
     ]
    }
   ],
   "source": [
    "steden = {\n",
    "    \"Amsterdam\": {\"land\": \"Nederland\", \"inwoners\": 921000, \"werelddeel\": \"Europa\"},\n",
    "    \"Buenos Aires\": {\"land\": \"Argentinië\", \"inwoners\": 2890000, \"werelddeel\": \"Zuid-Amerika\"},\n",
    "    \"Rome\": {\"land\": \"Italië\", \"inwoners\": 2873000, \"werelddeel\": \"Europa\"},\n",
    "    \"São Paulo\": {\"land\": \"Brazilië\", \"inwoners\": 12330000, \"werelddeel\": \"Zuid-Amerika\"},\n",
    "    \"Tokyo\": {\"land\": \"Japan\", \"inwoners\": 13960000, \"werelddeel\": \"Azië\"},\n",
    "\n",
    "}\n",
    "\n",
    "#haakjes om de and: (A and B) or C\n",
    "for stad, gegevens in steden.items():\t#voor elke stad in de dictionary steden\n",
    "    if (steden[stad][\"inwoners\"] < 1000000 and steden[stad][\"werelddeel\"]==\"Europa\") or steden[stad][\"werelddeel\"]==\"Azië\":\t# steden met (minder dan 1 miljoen inwoners EN in Europa), OF de steden in Azië\n",
    "        print(\"(\",stad, \"heeft minder dan 1 miljoen inwoners EN ligt in Europa ) OF ligt in Azië.\")\n",
    "\n",
    "#haakjes om de or: A and (B or C)\n",
    "for stad, gegevens in steden.items():\t#voor elke stad in de dictionary steden\n",
    "    if steden[stad][\"inwoners\"] < 1000000 and (steden[stad][\"werelddeel\"]==\"Europa\" or steden[stad][\"werelddeel\"]==\"Azië\"):\t# steden met minder dan 1 miljoen inwoners EN  (in Europa OF in Azië)\n",
    "        print(stad, \"heeft minder dan 1 miljoen inwoners  EN ( ligt in Europa OF ligt in Azië ).\")"
   ]
  },
  {
   "cell_type": "markdown",
   "id": "9655b9bc",
   "metadata": {},
   "source": [
    "### Opdracht logische operatoren <code>and</code> en <code>or</code>\n",
    "\n",
    "Schrijf een programma dat de diersoorten print die aan de volgende eisen voldoet:\n",
    "<ol type=\"a\">\n",
    "<li>Het is een zoogdier en het verblijft in de savanne.\n",
    "<li>Het is een zoogdier of het vervlijft in de savanne.\n",
    "</ol>\n",
    "\n"
   ]
  },
  {
   "cell_type": "code",
   "execution_count": null,
   "id": "4369df9f",
   "metadata": {},
   "outputs": [
    {
     "name": "stdout",
     "output_type": "stream",
     "text": [
      "Leeuw is een zoogdier EN verblijft in de savanne.\n",
      "Olifant is een zoogdier EN verblijft in de savanne.\n",
      "Leeuw is een zoogdier OF verblijft in de savanne.\n",
      "Olifant is een zoogdier OF verblijft in de savanne.\n",
      "IJsbeer is een zoogdier OF verblijft in de savanne.\n",
      "Leeuw is een zoogdier OF ( verblijft in de savanne EN er zijn meer dan 3 dieren ).\n",
      "Olifant is een zoogdier OF ( verblijft in de savanne EN er zijn meer dan 3 dieren ).\n",
      "IJsbeer is een zoogdier OF ( verblijft in de savanne EN er zijn meer dan 3 dieren ).\n"
     ]
    }
   ],
   "source": [
    "dierentuin = {\n",
    "    \"Leeuw\": {\"soort\": \"Zoogdier\", \"verblijf\": \"Savanne\", \"dieet\": [\"vlees\"], \"aantal\": 2},\n",
    "    \"Pinguïn\": {\"soort\": \"Vogel\", \"verblijf\": \"Poolgebied\", \"dieet\": [\"vis\", \"kril\"], \"aantal\": 15},\n",
    "    \"Python\": {\"soort\": \"Reptiel\", \"verblijf\": \"Terrarium\", \"dieet\": [\"muizen\", \"ratten\"], \"aantal\": 3},\n",
    "    \"Olifant\": {\"soort\": \"Zoogdier\", \"verblijf\": \"Savanne\", \"dieet\": [\"planten\", \"fruit\", \"bladeren\"], \"aantal\": 1},\n",
    "    \"IJsbeer\": {\"soort\": \"Zoogdier\", \"verblijf\": \"Poolgebied\", \"dieet\": [\"vlees\"], \"aantal\": 2}\n",
    "}\n",
    "\n",
    "\n"
   ]
  },
  {
   "cell_type": "markdown",
   "id": "45d883e1",
   "metadata": {},
   "source": [
    "<p>Bekijk <a href=\"https://rweeda.github.io/PythonIA/docs/IA_H10_oplossingen.html#opgave16.X\" target=\"_blank\">hier</a> de voorbeelduitwerking.</p>\n",
    "\n",
    "<!-- ANTWOORD\n",
    "for diersoort, gegevens in dierentuin.items():\t#voor elk dier in de dictionary dierentuin\n",
    "    if gegevens[\"soort\"] == \"Zoogdier\" and gegevens[\"verblijf\"] == \"Savanne\":\t#dieren die zoogdieren zijn EN in de savanne verblijven\n",
    "        print(diersoort, \"is een zoogdier EN verblijft in de savanne.\")\n",
    "\n",
    "for diersoort, gegevens in dierentuin.items():\t#voor elk dier in de dictionary dierentuin\n",
    "    if gegevens[\"soort\"] == \"Zoogdier\" or gegevens[\"verblijf\"] == \"Savanne\":\t#dieren die zoogdieren zijn OF in de savanne verblijven\n",
    "        print(diersoort, \"is een zoogdier OF verblijft in de savanne.\")\n",
    "        -->"
   ]
  },
  {
   "cell_type": "markdown",
   "id": "0e954889",
   "metadata": {},
   "source": [
    "### Opdracht logische operatoren <code>and</code> en <code>or</code> combineren\n",
    "\n",
    "Schrijf een programma dat de diersoorten print die aan de volgende eisen voldoet:\n",
    "<ol type=\"a\">\n",
    "<li>Het is een zoogdier, of het verblijft in de savanne en er zijn meer dan 3 exemplaren van.\n",
    "<li>Het is een zoogdier of het verblijft in de savanne, en er zijn meer dan 3 exemplaren van.\n",
    "</ol>\n",
    "Leg uit waarom bij de tweede niets wordt afgedrukt.\n",
    "\n",
    "<p>Tip: gebruik haakjes!</p>"
   ]
  },
  {
   "cell_type": "code",
   "execution_count": null,
   "id": "8f3538f5",
   "metadata": {},
   "outputs": [],
   "source": [
    "dierentuin = {\n",
    "    \"Leeuw\": {\"soort\": \"Zoogdier\", \"verblijf\": \"Savanne\", \"dieet\": [\"vlees\"], \"aantal\": 2},\n",
    "    \"Pinguïn\": {\"soort\": \"Vogel\", \"verblijf\": \"Poolgebied\", \"dieet\": [\"vis\", \"kril\"], \"aantal\": 15},\n",
    "    \"Python\": {\"soort\": \"Reptiel\", \"verblijf\": \"Terrarium\", \"dieet\": [\"muizen\", \"ratten\"], \"aantal\": 3},\n",
    "    \"Olifant\": {\"soort\": \"Zoogdier\", \"verblijf\": \"Savanne\", \"dieet\": [\"planten\", \"fruit\", \"bladeren\"], \"aantal\": 1},\n",
    "    \"IJsbeer\": {\"soort\": \"Zoogdier\", \"verblijf\": \"Poolgebied\", \"dieet\": [\"vlees\"], \"aantal\": 2}\n",
    "}\n",
    "\n"
   ]
  },
  {
   "cell_type": "markdown",
   "id": "232eeecd",
   "metadata": {},
   "source": [
    "<p>Bekijk <a href=\"https://rweeda.github.io/PythonIA/docs/IA_H10_oplossingen.html#opgave16.X\" target=\"_blank\">hier</a> de voorbeelduitwerking.</p>\n",
    "\n",
    "<!-- ANTWOORD\n",
    "for diersoort, gegevens in dierentuin.items():\t#voor elk dier in de dictionary dierentuin\n",
    "    if gegevens[\"soort\"] == \"Zoogdier\" or (gegevens[\"verblijf\"] == \"Savanne\" and gegevens[\"aantal\"] > 3 ):\t#dieren die zoogdieren zijn OF (in de savanne verblijven EN meer dan 3 exemplaren)\n",
    "        print(diersoort, \"is een zoogdier OF ( verblijft in de savanne EN er zijn meer dan 3 exemplaren ).\")\n",
    "\n",
    "\n",
    "for diersoort, gegevens in dierentuin.items():\t#voor elk dier in de dictionary dierentuin\n",
    "    if (gegevens[\"soort\"] == \"Zoogdier\" or gegevens[\"verblijf\"] == \"Savanne\") and gegevens[\"aantal\"] > 3:    #dieren die (zoogdieren zijn OF in de savanne verblijven) EN meer dan 3 exemplaren\n",
    "        print(diersoort, \"is een ( zoogdier OF verblijft in de savanne ) EN er zijn meer dan 3 exemplaren.\")\n",
    "       \n",
    "       \n",
    "Bij de tweede wordt niets afgedrukt omdat aan de eerste eis alleen Leeuw, Olifant en IJsbeer voldaan, maar van geen van die zijn er meer dan 3 exemplaren      \n",
    "        -->"
   ]
  },
  {
   "cell_type": "markdown",
   "id": "7d09315a",
   "metadata": {},
   "source": [
    "### Opdracht logische operatoren <code>and</code>, <code>or</code> en <code>not</code> combineren\n",
    "\n",
    "Schrijf een programma dat de diersoorten print die aan de volgende eisen voldoet:\n",
    "<ol type=\"a\">\n",
    "<li>Het is een zoogdier maar verblijft niet in de Savanne of Terrarium\n",
    "<li>Het is een zoogdier of, het verblijft in de savanne maar er zijn niet minder dan 3 exemplaren van.\n",
    "</ol>\n",
    "Verklaar elk van je antwoorden.\n",
    "<p>Tip: gebruik haakjes!</p>"
   ]
  },
  {
   "cell_type": "code",
   "execution_count": null,
   "id": "d3d23e24",
   "metadata": {},
   "outputs": [
    {
     "name": "stdout",
     "output_type": "stream",
     "text": [
      "IJsbeer is een zoogdier en verblijft niet in de savanne of terrarium.\n",
      "Pinguïn is geen zoogdier of verblijft in de savanne en er zijn niet minder dan 3.\n",
      "Python is geen zoogdier of verblijft in de savanne en er zijn niet minder dan 3.\n"
     ]
    }
   ],
   "source": [
    "dierentuin = {\n",
    "    \"Leeuw\": {\"soort\": \"Zoogdier\", \"verblijf\": \"Savanne\", \"dieet\": [\"vlees\"], \"aantal\": 2},\n",
    "    \"Pinguïn\": {\"soort\": \"Vogel\", \"verblijf\": \"Poolgebied\", \"dieet\": [\"vis\", \"kril\"], \"aantal\": 15},\n",
    "    \"Python\": {\"soort\": \"Reptiel\", \"verblijf\": \"Terrarium\", \"dieet\": [\"muizen\", \"ratten\"], \"aantal\": 3},\n",
    "    \"Olifant\": {\"soort\": \"Zoogdier\", \"verblijf\": \"Savanne\", \"dieet\": [\"planten\", \"fruit\", \"bladeren\"], \"aantal\": 1},\n",
    "    \"IJsbeer\": {\"soort\": \"Zoogdier\", \"verblijf\": \"Poolgebied\", \"dieet\": [\"vlees\"], \"aantal\": 2}\n",
    "}\n"
   ]
  },
  {
   "cell_type": "markdown",
   "id": "393c12a4",
   "metadata": {},
   "source": [
    "<p>Bekijk <a href=\"https://rweeda.github.io/PythonIA/docs/IA_H10_oplossingen.html#opgave16.X\" target=\"_blank\">hier</a> de voorbeelduitwerking.</p>\n",
    "\n",
    "<!-- ANTWOORD\n",
    "\n",
    "\n",
    "#A and not (B or C)\n",
    "for dier, gegevens in dierentuin.items():\t#voor elk dier in de dictionary dierentuin\n",
    "    if gegevens[\"soort\"] == \"Zoogdier\" and not (gegevens[\"verblijf\"] == \"Savanne\" or gegevens[\"verblijf\"] == \"Terrarium\"):    #dieren die zoogdieren zijn en niet in de savanne of terrarium verblijven\n",
    "        print(dier, \"is een zoogdier en verblijft niet in de savanne of terrarium.\")\n",
    "# Verklaring: Er zijn drie zoogdieren (Leeuw, Olifant, IJsbeer), daarvan verblijft alleen de IJsbeer niet in de savanne of terrarium\n",
    "\n",
    "#not A or (b and not C)\n",
    "for dier, gegevens in dierentuin.items():\t#voor elk dier in de dictionary dierentuin\n",
    "    if not gegevens[\"soort\"] == \"Zoogdier\" or (gegevens[\"verblijf\"] == \"Savanne\" and not gegevens[\"aantal\"] < 3):       #dieren die niet zoogdieren zijn of in de savanne verblijven en niet minder dan 3 zijn\n",
    "        print(dier, \"is geen zoogdier of verblijft in de savanne en er zijn niet minder dan 3.\")\n",
    "# Verklaring: Er zijn 2 dieren die geen zoogdieren zijn (Pinguïn, Python), dus die voldoen. Daarnaast zijn er twee die in de savanne verblijven (Leeuw en Olifant) maar daarvan zijn er niet genoeg exemplaren.\n",
    " -->"
   ]
  },
  {
   "cell_type": "markdown",
   "id": "9d8ee1af",
   "metadata": {},
   "source": [
    "### Opdracht 16.X: welke diersoorten eten vlees of vis\n",
    "\n",
    "Schrijf een programma dat alle diersoorten print die vlees of vis eten.\n",
    "\n",
    "<p>Verwachte uitvoer:<br>\n",
    "<i>Leeuw heeft vis of vlees in zijn dieet.<br>\n",
    "Pinguïn heeft vis of vlees in zijn dieet.<br>\n",
    "IJsbeer heeft vis of vlees in zijn dieet.</i></p>"
   ]
  },
  {
   "cell_type": "code",
   "execution_count": null,
   "id": "5370c90a",
   "metadata": {},
   "outputs": [
    {
     "name": "stdout",
     "output_type": "stream",
     "text": [
      "Leeuw heeft vis of vlees in zijn dieet.\n",
      "Pinguïn heeft vis of vlees in zijn dieet.\n",
      "IJsbeer heeft vis of vlees in zijn dieet.\n"
     ]
    }
   ],
   "source": [
    "dierentuin = {\n",
    "    \"Leeuw\": {\"soort\": \"Zoogdier\", \"verblijf\": \"Savanne\", \"dieet\": [\"vlees\"], \"aantal\": 2},\n",
    "    \"Pinguïn\": {\"soort\": \"Vogel\", \"verblijf\": \"Poolgebied\", \"dieet\": [\"vis\", \"kril\"], \"aantal\": 15},\n",
    "    \"Python\": {\"soort\": \"Reptiel\", \"verblijf\": \"Terrarium\", \"dieet\": [\"muizen\", \"ratten\"], \"aantal\": 3},\n",
    "    \"Olifant\": {\"soort\": \"Zoogdier\", \"verblijf\": \"Savanne\", \"dieet\": [\"planten\", \"fruit\", \"bladeren\"], \"aantal\": 1},\n",
    "    \"IJsbeer\": {\"soort\": \"Zoogdier\", \"verblijf\": \"Poolgebied\", \"dieet\": [\"vlees\"], \"aantal\": 2}\n",
    "}\n",
    "\n"
   ]
  },
  {
   "cell_type": "markdown",
   "id": "f401223e",
   "metadata": {},
   "source": [
    "<p>Bekijk <a href=\"https://rweeda.github.io/PythonIA/docs/IA_H10_oplossingen.html#opgave16.X\" target=\"_blank\">hier</a> de voorbeelduitwerking.</p>\n",
    "<!-- ANTWOORD:\n",
    "for dier, gegevens in dierentuin.items():\t#voor elk dier in de dictionary dierentuin\n",
    "    if \"vis\" in gegevens[\"dieet\"] or \"vlees\" in gegevens[\"dieet\"]:\t#dieren met dieet van vis of vlees\n",
    "        print(dier, \"heeft vis of vlees in zijn dieet.\")\n",
    "-->"
   ]
  },
  {
   "cell_type": "markdown",
   "id": "9ed679bc",
   "metadata": {},
   "source": [
    "Opdracht 16.X Aantal slangen of pinguins\n",
    "<p>Schrijf een programma dat bepaalt hoeveel zoogdieren en vogels er zijn en deze afdrukt.</p>\n",
    "\n",
    "<p>Verwachte uitvoer: <i>Aantal zoogdieren of vogels in de dierentuin: 20</i></p>"
   ]
  },
  {
   "cell_type": "code",
   "execution_count": null,
   "id": "28aac25a",
   "metadata": {},
   "outputs": [
    {
     "name": "stdout",
     "output_type": "stream",
     "text": [
      "Aantal zoogdieren of vogels in de dierentuin: 20\n"
     ]
    }
   ],
   "source": [
    "dierentuin = {\n",
    "    \"Leeuw\": {\"soort\": \"Zoogdier\", \"verblijf\": \"Savanne\", \"dieet\": [\"vlees\"], \"aantal\": 2},\n",
    "    \"Pinguïn\": {\"soort\": \"Vogel\", \"verblijf\": \"Poolgebied\", \"dieet\": [\"vis\", \"kril\"], \"aantal\": 15},\n",
    "    \"Python\": {\"soort\": \"Reptiel\", \"verblijf\": \"Terrarium\", \"dieet\": [\"muizen\", \"ratten\"], \"aantal\": 3},\n",
    "    \"Olifant\": {\"soort\": \"Zoogdier\", \"verblijf\": \"Savanne\", \"dieet\": [\"planten\", \"fruit\", \"bladeren\"], \"aantal\": 1},\n",
    "    \"IJsbeer\": {\"soort\": \"Zoogdier\", \"verblijf\": \"Poolgebied\", \"dieet\": [\"vlees\"], \"aantal\": 2}\n",
    "}\n",
    "\n"
   ]
  },
  {
   "cell_type": "markdown",
   "id": "0a25989f",
   "metadata": {},
   "source": [
    "<p>Bekijk <a href=\"https://rweeda.github.io/PythonIA/docs/IA_H10_oplossingen.html#opgave16.X\" target=\"_blank\">hier</a> de voorbeelduitwerking.</p>\n",
    "<!-- ANTWOORD:\n",
    "teller = 0\t#teller op 0 zetten\n",
    "for dier, gegevens in dierentuin.items():\t#voor elk dier in de dictionary dierentuin\n",
    "    if gegevens[\"soort\"] == \"Zoogdier\" or gegevens[\"soort\"] == \"Vogel\":\t#dieren die zoogdieren of vogels zijn\n",
    "        teller += gegevens[\"aantal\"]\t#teller optellen met het aantal dieren\n",
    "\n",
    "print(\"Aantal zoogdieren of vogels in de dierentuin:\", teller)\n",
    "-->"
   ]
  }
 ],
 "metadata": {
  "kernelspec": {
   "display_name": "Python 3",
   "language": "python",
   "name": "python3"
  },
  "language_info": {
   "codemirror_mode": {
    "name": "ipython",
    "version": 3
   },
   "file_extension": ".py",
   "mimetype": "text/x-python",
   "name": "python",
   "nbconvert_exporter": "python",
   "pygments_lexer": "ipython3",
   "version": "3.13.2"
  }
 },
 "nbformat": 4,
 "nbformat_minor": 5
}
