{
 "cells": [
  {
   "cell_type": "markdown",
   "metadata": {},
   "source": [
    "## 4: Globale variabelen\n",
    "\n",
    "<p><i>Globale variabelen</i> zijn variabelen die je voor meerdere functies van je programma nodig hebt. Globale variabelen definieer je bovenaan je programma. Het verschil met lokale variabelen is dat lokale variabelen alleen bestaan binnen de functie of het blok code waarin ze gedeclareerd worden.</p>\n",
    "\n",
    "\n",
    "<p>Het is een goede gewoonte om zo min mogelijk globale variabelen te gebruiken. Als je een variabele in een aantal functies gebruikt en de waarde aanpast, wordt het onoverzichtelijk wat er allemaal met die waarde gebeurt. Zo wordt het lastig om te redeneren over wat je code doet en wordt het opsporen van fouten nog lastiger. Als je een bepaalde waarde binnen meerdere functies wilt gebruiken, kun je dat het beste doen door ze door te geven als parameters en retourwaarden. In het voorbeeld hieronder zie je hoe de prijs (zonder BTW) als parameter aan de functie wordt gegeven, en de prijs inclusief BTW wordt geretourneerd. </p>\n",
    "\n",
    "<p><b>Constanten</b></p>\n",
    "<p><i>Constanten</i> zijn variabelen die gedurende het programma niet veranderen, maar die je in je programma wel op meerdere plekken gebruikt. Deze kan je dan wel als globale variabelen gebruiken. De naam van een constante geef je met hoofdletters aan en zet je bovenaan je programma. In het voorbeeld hieronder zie je dat er voor <code>PERC_BTW</code> een constante wordt gebruikt.</p>"
   ]
  },
  {
   "cell_type": "code",
   "execution_count": null,
   "metadata": {},
   "outputs": [],
   "source": [
    "#GLOBALE VARIABELEN\n",
    "PERC_BTW = 21\n",
    "\n",
    "### FUNCTIEDEFINITIE\n",
    "#Doel: bereken prijs van een artikel met BTW, zoals in advertentie mag staan\n",
    "def berekenPrijsMetBTW( prijs_zonder_BTW ):\n",
    "\tprijs_met_BTW = prijs_zonder_BTW * ( (1+PERC_BTW)/100 )\n",
    "\treturn prijs_met_BTW\n",
    "\t\n",
    "### HOOFDPROGRAMMA\n",
    "advertentieprijs = berekenPrijsMetBTW ( 20.00 )\n",
    "print(\"Prijs (incl BTW):\", advertentieprijs, \" euro\" )"
   ]
  },
  {
   "cell_type": "markdown",
   "metadata": {},
   "source": [
    "<p>Terwijl het programma draait zul je het percentage van de BTW niet veranderen. In tegenstelling, hiermee zal een score gedurende een spelletje wel veranderen. Maar als de overheid ervoor kiest om de BTW aan te passen, dan kan dat heel makkelijk bovenaan de code teruggevonden worden en hoeft ze maar op een plek aangepast worden.</p>\n"
   ]
  },
  {
   "cell_type": "markdown",
   "metadata": {},
   "source": [
    "### Opdracht 6.8: Constanten\n",
    "\n",
    "<p>Speel met een vriend of vriendin een paar keer steen-papier-schaar. Ken je het spel niet? Kijk dan <a href=\"https://weethetsnel.nl/instructie/2223-Hoe-werkt-het-steen-papier-schaar-spel\">hier</a> voor uitleg. Houd op een blaadje bij hoe vaak ieder gewonnen heeft en hoe vaak er gelijk is gespeeld. Bekijk je scoreblad en bepaal wat de constanten en wat de variabelen zijn.</p>\n"
   ]
  },
  {
   "cell_type": "markdown",
   "metadata": {},
   "source": [
    "<p>Bekijk <a href=\"Https://course.cs.ru.nl/pythonVO/Teams/IA_uitwerkingen/IA_H6_oplossingen.html#opgave641\" target=\"_blank\">hier</a> de voorbeelduitwerking.</p>\n"
   ]
  }
 ],
 "metadata": {
  "kernelspec": {
   "display_name": "Python 3",
   "language": "python",
   "name": "python3"
  },
  "language_info": {
   "codemirror_mode": {
    "name": "ipython",
    "version": 3
   },
   "file_extension": ".py",
   "mimetype": "text/x-python",
   "name": "python",
   "nbconvert_exporter": "python",
   "pygments_lexer": "ipython3",
   "version": "3.12.2"
  }
 },
 "nbformat": 4,
 "nbformat_minor": 2
}
