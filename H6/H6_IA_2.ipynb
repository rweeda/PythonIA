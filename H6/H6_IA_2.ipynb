{
 "cells": [
  {
   "cell_type": "markdown",
   "metadata": {},
   "source": [
    "## 2: Functies met een retourwaarde\n",
    "\n",
    "<p>Een functie kan informatie opleveren. Die informatie heet de retourwaarde. Dat resultaat moet je in je hoofdprogramma in een variabele opslaan. In je programma kun je later met die variabele verder werken.</p>\n",
    "\n",
    "\n",
    "<p>In de code hieronder wordt de functie <code>kiesWillekeurigCompliment()</code> aangeroepen in het hoofdprogramma. De retourwaarde van <code>kiesWillekeurigCompliment()</code> is een <code>gekozen_compliment</code>. De retourwaarde wordt teruggeven aan het hoofdprogramma en moet opgeslagen worden in de variabele <code>compliment_van_de_dag</code>. Het bijbehorende stroomdiagram zie je onder de code.\n"
   ]
  },
  {
   "cell_type": "code",
   "execution_count": null,
   "metadata": {},
   "outputs": [],
   "source": [
    "import random\n",
    "\n",
    "### FUNCTIEDEFINITIE\n",
    "def kiesWillekeurigCompliment():\n",
    "\twillekeurig = random.randint(1,3) #kies een willekeurig getal: 1,2 of 3\n",
    "\tif willekeurig == 1:\n",
    "\t\tgekozen_compliment = \"lief\"\n",
    "\telif willekeurig == 2:\n",
    "\t\tgekozen_compliment = \"leuk\"\n",
    "\telse:\n",
    "\t\tgekozen_compliment = \"slim\"\n",
    "\n",
    "\treturn gekozen_compliment\n",
    "\n",
    "### HOOFDPROGRAMMA\n",
    "compliment_van_de_dag = kiesWillekeurigCompliment()\n",
    "print(\"Jij bent \"+ compliment_van_de_dag + \"!\" )\n",
    "print(\"Klaar\")"
   ]
  },
  {
   "cell_type": "markdown",
   "metadata": {},
   "source": [
    "<div style=\"display:flex\">\n",
    "<!--\n",
    "<img src=\"https://raw.githubusercontent.com/rweeda/PythonIA/main/img/Python6.2_willekeurigComplimentHoofdprogramma.jpg\" alt=\"Stroomdiagram hoofdprogramma\" width=\"400\" height=\"450\" class=\"img-fluid atto_image_button_text-bottom\">\n",
    "<img src=\"https://raw.githubusercontent.com/rweeda/PythonIA/main/img/Python6.2_willekeurigCompliment.jpg\" alt=\"Stroomdiagram kiesWillekeurigCompliment\" width=\"650\" height=\"620\" class=\"img-fluid atto_image_button_text-bottom\">-->\n",
    "\n",
    "<img src=\"https://raw.githubusercontent.com/rweeda/PythonIA/main/img/Python6.2_willekeurigComplimentHoofdprogramma.jpg\" alt=\"Stroomdiagram hoofdprogramma\" width=30% >   &nbsp;\n",
    "<img src=\"https://raw.githubusercontent.com/rweeda/PythonIA/main/img/Python6.2_willekeurigCompliment.jpg\" alt=\"Stroomdiagram kiesWillekeurigCompliment\" width=60% height=80%>\n",
    "</div>"
   ]
  },
  {
   "cell_type": "markdown",
   "metadata": {},
   "source": [
    "### Opdracht 6.3: Dobbelen\n",
    "\n",
    "<p>Schrijf een programma dat voor een Monopoly-spel twee dobbelstenen werpt.</p>\n",
    "<p>Het programma bestaat uit twee onderdelen (zie ook de stroomdiagrammen hieronder):</p>\n",
    "<ol>\n",
    "    <li>Een functie <code>gooiDobbelsteen()</code> die een willekeurig getal tussen de 1 en 6 bepaalt en dit retourneert. Het rechter stroomdiagram hieronder toont de werking van de functie <code>gooiDobbelsteen()</code>.</li>\n",
    "    <li>Het hoofdprogramma waarin je:\n",
    "        <ul>\n",
    "            <li>de functie <code>gooiDobbelsteen()</code> aanroept en het resultaat in de variabele <code>eersteDobbelworp</code> opslaat;\n",
    "            </li>\n",
    "            <li>de functie <code>gooiDobbelsteen()</code> een tweede keer aanroept en het resultaat in de variabele <code>tweedeDobbelworp</code> opslaat;\n",
    "            </li>\n",
    "            <li>de uitkomst van beide worpen uitprint. Het linker stroomdiagram hieronder toont het algoritme voor het <b>hoofdprogramma</b>.\n",
    "            </li>\n",
    "        </ul>\n",
    "    </li>\n",
    "\n",
    "</ol>\n",
    "\n",
    "<div style=\"display:flex\">\n",
    "<img src=\"https://raw.githubusercontent.com/rweeda/PythonIA/main/img/Python611_Stroomdiagram_Hoofdprogramma_dobbelen.jpg\" width=30% alt=\"Stroomdiagram voor hoofdprogramma van <code>dobbelen</code>\">&nbsp;\n",
    "<img src=\"https://raw.githubusercontent.com/rweeda/PythonIA/main/img/Python611_Stroomdiagram_gooiDobbelsteen.jpg\" alt=\"Stroomdiagram voor functie gooiDobbelsteen()\" width=\"50%\" height=\"50%\">\n",
    "<!--\n",
    "<img src=\"https://raw.githubusercontent.com/rweeda/PythonIA/main/img/Python611_Stroomdiagram_Hoofdprogramma_dobbelen.jpg\" width=\"400\" alt=\"Stroomdiagram voor hoofdprogramma van <code>dobbelen</code>\">\n",
    "<img src=\"https://raw.githubusercontent.com/rweeda/PythonIA/main/img/Python611_Stroomdiagram_gooiDobbelsteen.jpg\" alt=\"Stroomdiagram voor functie gooiDobbelsteen()\" width=\"600\" height=\"294\" class=\"img-fluid atto_image_button_text-bottom\">\n",
    "--><br>\n",
    "</div>\n",
    "\n",
    "<p>Het linker stroomdiagram beschrijft het <b>hoofdprogramma</b>, het rechter de functie <code>gooiDobbelsteen()</code>.</p>\n",
    "<p>De opdracht is om een functie <code>gooiDobbelsteen</code> te schrijven die je vanuit je hoofdprogramma twee keer aanroept, zoals hierboven is uitgelegd.</p>\n"
   ]
  },
  {
   "cell_type": "code",
   "execution_count": null,
   "metadata": {
    "tags": [
     "Opdracht"
    ]
   },
   "outputs": [],
   "source": []
  }
 ],
 "metadata": {
  "kernelspec": {
   "display_name": "Python 3",
   "language": "python",
   "name": "python3"
  },
  "language_info": {
   "codemirror_mode": {
    "name": "ipython",
    "version": 3
   },
   "file_extension": ".py",
   "mimetype": "text/x-python",
   "name": "python",
   "nbconvert_exporter": "python",
   "pygments_lexer": "ipython3",
   "version": "3.12.2"
  }
 },
 "nbformat": 4,
 "nbformat_minor": 2
}
