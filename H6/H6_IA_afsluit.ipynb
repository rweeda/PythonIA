{
 "cells": [
  {
   "cell_type": "markdown",
   "metadata": {},
   "source": [
    "## Onderwerp 6 - Afsluitende Opdrachten\n",
    "\n",
    "<p>Met de volgende afsluitende opdrachten kun je kijken hoe goed je de stof beheerst. Controleer steeds je eigen oplossing met de voorbeelduitwerking.</p>\n"
   ]
  },
  {
   "cell_type": "markdown",
   "metadata": {},
   "source": [
    "### Afsluitende opdracht 6.1: Vind de fout\n",
    "\n",
    "<p>\n",
    "    Voer de onderstaande code uit.</p>\n",
    "<ol style=\"list-style-type: lower-alpha\">\n",
    "    <li>Wat is er fout aan de volgende code?</li>\n",
    "    <li>Waar komt \"None\" vandaan achter \"De berekende oppervlakte\"?</li>\n",
    "    <li>Los het probleem in de functie op.</li>\n",
    "</ol>"
   ]
  },
  {
   "cell_type": "code",
   "execution_count": null,
   "metadata": {
    "tags": [
     "Opdracht"
    ]
   },
   "outputs": [],
   "source": [
    "### FUNCTIEDEFINITIE\n",
    "def oppervlakte_van_driehoek( basis, hoogte ):\n",
    "    opp = 0.5 * basis * hoogte\n",
    "    print( \"Een driehoek met basis\", basis, \"en hoogte\",\n",
    "        hoogte, \"heeft een oppervlakte van\", opp )\n",
    "\n",
    "### HOOFDPROGRAMMA MET AANROEP VAN FUNCTIE\n",
    "berekende_oppervlakte = oppervlakte_van_driehoek( 5, 4 )\n",
    "print( \"De berekende oppervlakte is:\", berekende_oppervlakte )"
   ]
  },
  {
   "cell_type": "markdown",
   "metadata": {},
   "source": [
    "<p>Bekijk <a href=\"Https://course.cs.ru.nl/pythonVO/Teams/IA_uitwerkingen/IA_H6_oplossingen.html#AfOpgave61\" target=\"_blank\">hier</a> de voorbeelduitwerking.</p>\n"
   ]
  },
  {
   "cell_type": "markdown",
   "metadata": {},
   "source": [
    "### Afsluitende opdracht 6.2: Munt opgooien\n",
    "\n",
    "<p>Schrijf een programma dat een munt opgooit:</p>\n",
    "<ul>\n",
    "    <li>Het linker stroomdiagram hieronder geeft aan hoe het hoofdprogramma eruitziet. Dit roept de functie <code>gooiMunt()</code> aan en drukt het resultaat af.</li>\n",
    "    <li>Het rechter stroomdiagram toont de functie <code>gooiMunt()</code>. De functie <code>gooiMunt()</code> geeft willekeurig een tekst \"KOP\" of\n",
    "        \"MUNT\" als resultaat. Maak gebruik van een willekeurig gekozen getal dat 0 of 1 wordt. Als dit 0 is, dan wordt het \"KOP\", anders \"MUNT\".</li>\n",
    "</ul>\n",
    "<!--\n",
    "<div style=\"display:flex\">\n",
    "<img src=\"https://raw.githubusercontent.com/rweeda/PythonIA/main/img/Python6_Stroomdiagram_muntOpgooien_hoofdprogramma.jpg\" alt=\"Stroomdiagram van hoofdprogramma voor opdracht Munt opgooien\" width=\"400\" height=\"300\">\n",
    "-->\n",
    "<!--\n",
    "<img src=\"https://raw.githubusercontent.com/rweeda/PythonIA/main/img/Python6_Stroomdiagram_gooiMunt.jpg\" alt=\"Stroomdiagram van functie gooiMunt\" width=\"800\" height=\"564\" class=\"atto_image_button_text-bottom\"><br>\n",
    "-->\n",
    "\n",
    "\n",
    "\n",
    "<div style=\"display:flex\">\n",
    "<img src=\"https://raw.githubusercontent.com/rweeda/PythonIA/main/img/Python6_Stroomdiagram_muntOpgooien_hoofdprogramma.jpg\" alt=\"Stroomdiagram van hoofdprogramma voor opdracht Munt opgooien\" width=\"400\" height=\"300\"> &nbsp;\n",
    "\n",
    "<div style=\"display:flex\"><img src=\"https://raw.githubusercontent.com/rweeda/PythonIA/main/img/Python6_Stroomdiagram_gooiMunt.jpg\" alt=\"Stroomdiagram van functie gooiMunt\" width=\"800\" ><br>\n",
    "</div>\n"
   ]
  },
  {
   "cell_type": "code",
   "execution_count": null,
   "metadata": {
    "tags": [
     "Opdracht"
    ]
   },
   "outputs": [],
   "source": [
    "### FUNCTIEDEFINITIES\n",
    "\n",
    "\n",
    "### HOOFDPROGRAMMA\n",
    "\n"
   ]
  },
  {
   "cell_type": "markdown",
   "metadata": {},
   "source": [
    "<p>Bekijk <a href=\"Https://course.cs.ru.nl/pythonVO/Teams/IA_uitwerkingen/IA_H6_oplossingen.html#AfOpgave62\" target=\"_blank\">hier</a> de voorbeelduitwerking.</p>\n"
   ]
  },
  {
   "cell_type": "markdown",
   "metadata": {},
   "source": [
    "### Afsluitende opdracht 6.3: Geldig e-mailadres\n",
    "\n",
    "<p>Schrijf een programma dat de gebruiker om een e-mailadres vraagt en controleert of dit geldig is. Het volgende stroomdiagram geeft het algoritme van het hoofdprogramma weer:</p>\n",
    "\n",
    "\n",
    "<img src=\"https://raw.githubusercontent.com/rweeda/PythonIA/main/img/Python6_Stroomdiagram_geldigEmailadres_hoofdprogramma.jpg\" alt=\"Stroomdiagram van hoofdprogramma voor opdracht Munt opgooien\" width=45%>\n",
    "\n",
    "<p>\n",
    "    Om je code overzichtelijk te houden maak je natuurlijk gebruik van functies:\n",
    "</p>\n",
    "<ol style=\"list-style-type: lower-alpha\">\n",
    "    <li>Schrijf een functie <code>vraagInvoer()</code> die de gebruiker om een invoer vraagt, netjes print wat de gebruiker heeft ingevoerd en dit retourneert. Test je functie.\n",
    "    </li>\n",
    "    <li>Schrijf een functie <code>controleEmailadres()</code> dat een e-mailadres als parameter krijgt en op de eisen controleert. In het geval dat het e-mailadres niet voldoet, geef je feedback over wat er precies mis mee is en return je <code>False</code>. Als het e-mailadres goed is, meld je dat aan de gebruiker en return je <code>True</code>.\n",
    "        <ul>\n",
    "            <li>Het e-mailadres moet minstens 5 en maximaal 20 karakters bevatten.\n",
    "            </li>\n",
    "            <li>De volgende vreemde tekens mogen niet voorkomen: \"?\", \"%\", \"&amp;\".\n",
    "            </li>\n",
    "            <li>Een apenstaartje \"@\" en een punt \".\" moeten wel voorkomen.\n",
    "            </li>\n",
    "        </ul>\n",
    "    </li>\n",
    "    <li>In het hoofdprogramma gebruik je de functies <code>vraagInvoer()</code> en <code>controleEmailadres()</code>. Als het e-mailadres geldig is, print <i>Toegang verleend</i> en anders <i>Jammer</i>.\n",
    "    </li>\n",
    "    <li>Test het programma met verschillende invoeren.\n",
    "    </li>\n",
    "</ol>\n",
    "<p></p>"
   ]
  },
  {
   "cell_type": "code",
   "execution_count": null,
   "metadata": {
    "tags": [
     "Opdracht"
    ]
   },
   "outputs": [],
   "source": [
    "### FUNCTIEDEFINITIES\n",
    "\n",
    "\n",
    "### HOOFDPROGRAMMA\n"
   ]
  },
  {
   "cell_type": "markdown",
   "metadata": {},
   "source": [
    "<p>Bekijk <a href=\"Https://course.cs.ru.nl/pythonVO/Teams/IA_uitwerkingen/IA_H6_oplossingen.html#AfOpgave63\" target=\"_blank\">hier</a> de voorbeelduitwerking.</p>\n"
   ]
  },
  {
   "cell_type": "markdown",
   "metadata": {},
   "source": [
    "### Afsluitende opdracht 6.4: Deelbaar door 7\n",
    "\n",
    "<p>Schrijf een programma dat bepaalt of een getal deelbaar is door 7:</p>\n",
    "<ol style=\"list-style-type: lower-alpha\">\n",
    "    <li>Schrijf de functie <code>isDeelbaarDoor7()</code> dat een getal als parameter krijgt, het resultaat <code>True</code> retourneert als een gegeven getal deelbaar is door 7 en anders <code>False</code>.\n",
    "    </li>\n",
    "    <li>Roep de functie <code>isDeelbaarDoor7()</code> aan vanuit je hoofdprogramma.\n",
    "    </li>\n",
    "    <li>Sla het resultaat van de functie op in een variabele.\n",
    "    </li>\n",
    "    <li>Druk de waarde van deze variabele in het hoofdprogramma af.\n",
    "    </li>\n",
    "    <li>Test je functie met verschillende waarden.\n",
    "    </li>\n",
    "    <li>Schrijf commentaar bij je code. Geef aan wat de invoer en uitvoer zijn, en voor welke waarden je programma werkt.\n",
    "    </li>\n",
    "</ol>\n",
    "\n",
    "<p>Tips:\n",
    "    Met modulo ( <code>%</code> ) kun je bepalen of deelbaar is door een ander getal of niet. Bijvoorbeeld:\n",
    "</p>\n",
    "<ul>\n",
    "    <li>Als <code>getal%7</code> gelijk is aan 0, dan is getal deelbaar door 7.\n",
    "    </li>\n",
    "    <li>Als <code>getal%7</code> ongelijk is aan 0, dan is getal niet deelbaar door 7.\n",
    "    </li>\n",
    "</ul>\n",
    "<p></p>"
   ]
  },
  {
   "cell_type": "code",
   "execution_count": null,
   "metadata": {
    "tags": [
     "Opdracht"
    ]
   },
   "outputs": [],
   "source": [
    "### FUNCTIEDEFINITIES\n",
    "\n",
    "\n",
    "### HOOFDPROGRAMMA\n",
    "\n"
   ]
  },
  {
   "cell_type": "markdown",
   "metadata": {},
   "source": [
    "<p>Bekijk <a href=\"Https://course.cs.ru.nl/pythonVO/Teams/IA_uitwerkingen/IA_H6_oplossingen.html#AfOpgave64\" target=\"_blank\">hier</a> de voorbeelduitwerking.</p>\n"
   ]
  },
  {
   "cell_type": "markdown",
   "metadata": {},
   "source": [
    "### Afsluitende opdracht 6.5: BMI\n",
    "\n",
    "<p>De Body Mass Index (BMI) geeft een schatting van het gezondheidsrisico van je lichaamsgewicht in verhouding tot je lichaamslengte. Schrijf een programma dat een gebruiker om zijn gegevens vraagt (deel A), de BMI berekent (deel B) en vervolgens een advies geeft (deel C). Het linker stroomdiagram geeft het algoritme voor het hoofdprogramma weer. Het rechter stroomdiagram laat zien hoe het advies gegeven wordt (deel C).</p>\n",
    "\n",
    "\n",
    "<div style=\"display:flex\">\n",
    "<!--\n",
    "<img src=\"https://raw.githubusercontent.com/rweeda/PythonIA/main/img/Python6_Stroomdiagram_BMIhoofdprogramma.jpg\" alt=\"Stroomdiagram van hoofdprogramma voor opdracht BMI\" width=\"250\">-->\n",
    "<img src=\"https://raw.githubusercontent.com/rweeda/PythonIA/main/img/Python6_Stroomdiagram_BMIhoofdprogramma.jpg\" alt=\"Stroomdiagram van hoofdprogramma voor opdracht BMI\" width=30% >&nbsp;\n",
    "<img src=\"https://raw.githubusercontent.com/rweeda/PythonIA/main/img/Python6_Stroomdiagram_BMIadvies.jpg\" alt=\"Stroomdiagram voor BMI advies\" width=80%>\n",
    "<!--<img src=\"https://raw.githubusercontent.com/rweeda/PythonIA/main/img/Python6_Stroomdiagram_BMIadvies.jpg\" alt=\"Stroomdiagram voor BMI advies\" width=\"950\" height=\"559\" class=\"img-fluid atto_image_button_text-bottom\"><br>\n",
    "-->\n",
    "</div>\n",
    "\n",
    "<p><b>DEEL A</b>. Invoer vragen</p>\n",
    "\n",
    "<p>In je hoofdprogramma vraag je de gebruiker om de lengte (in meters) en gewicht (in kilogram) in te tikken. Bedenk dat het kommagetallen zijn. Gebruik dus float in plaats van int.</p>\n",
    "\n",
    "<p><b>DEEL B</b>. BMI berekenen</p>\n",
    "<p>De BMI bereken je door het gewicht in kilo’s te delen door de lengte in meters in het kwadraat. Als je bijvoorbeeld 1,62 meter lang bent en 56 kilo weegt, heb je een BMI van 21,3:</p>\n",
    "<p>berekening: <code>(56 / (1.62 * 1.62))</code> </p>\n",
    "\n",
    "<ol style=\"list-style-type: lower-alpha\">\n",
    "    <li>Schrijf een functie die de BMI berekent. Deze krijgt lengte en gewicht als parameters mee en geeft als resultaat de BMI terug.</li>\n",
    "    <li>Roep je functie aan in het hoofdprogramma.</li>\n",
    "    <li>Sla het resultaat van je functie (dus de BMI) op in het hoofdprogramma en print het daarna.</li>\n",
    "</ol>\n",
    "\n",
    "<p><b>DEEL C</b>. Advies geven</p>\n",
    "<p>Een BMI-score van 18,5 wordt als te licht gezien, tussen de 18,5 en de 25 heb je een gezond gewicht en daarboven heb je overgewicht.</p>\n",
    "<ol style=\"list-style-type: lower-alpha\">\n",
    "    <li>Schrijf een functie die de BMI krijgt en als resultaat advies teruggeeft, zoals in het stroomdiagram hierboven. Het advies luidt:\n",
    "        <ul>\n",
    "            <li>Bij een BMI kleiner dan of gelijk aan 18,5: <i>Je mag best wel wat aankomen</i>.\n",
    "            </li>\n",
    "            <li>Bij een BMI groter dan 18,5 en kleiner dan 25: <i>Blijf op dit gewicht</i>.\n",
    "            </li>\n",
    "            <li>Bij een BMI groter dan of gelijk aan 25: <i>Je kunt het beste wat afvallen</i>.\n",
    "            </li>\n",
    "        </ul>\n",
    "    </li>\n",
    "    <li>Roep je functie aan in het hoofdprogramma.</li>\n",
    "    <li>Print het resultaat van je functie, dus het advies aan de gebruiker.</li>\n",
    "</ol>"
   ]
  },
  {
   "cell_type": "code",
   "execution_count": null,
   "metadata": {
    "tags": [
     "Opdracht"
    ]
   },
   "outputs": [],
   "source": []
  },
  {
   "cell_type": "markdown",
   "metadata": {},
   "source": [
    "<p>Bekijk <a href=\"Https://course.cs.ru.nl/pythonVO/Teams/IA_uitwerkingen/IA_H6_oplossingen.html#AfOpgave65\" target=\"_blank\">hier</a> de voorbeelduitwerking.</p>\n"
   ]
  }
 ],
 "metadata": {
  "kernelspec": {
   "display_name": "Python 3",
   "language": "python",
   "name": "python3"
  },
  "language_info": {
   "codemirror_mode": {
    "name": "ipython",
    "version": 3
   },
   "file_extension": ".py",
   "mimetype": "text/x-python",
   "name": "python",
   "nbconvert_exporter": "python",
   "pygments_lexer": "ipython3",
   "version": "3.12.2"
  }
 },
 "nbformat": 4,
 "nbformat_minor": 2
}
