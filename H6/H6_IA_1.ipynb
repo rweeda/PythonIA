{
 "cells": [
  {
   "cell_type": "markdown",
   "metadata": {},
   "source": [
    "## 1: Bereik van variabelen\n",
    "\n",
    "<img src=\"http://course.cs.ru.nl/pythonVO/Jupyter/img/Python6_AfbLocalVar.jpg\" alt=\"Figuur: Bereik van variabelen bij blokken code\" width=\"200\" height=\"222\" class=\"img-responsive atto_image_button_right\">\n",
    "\n",
    "<p>Een variabele die je binnen een functie aanmaakt, bestaat alleen binnen die functie. Zo'n variabele heet een <i>lokale variabele</i>. Na het blok worden de lokale variabelen vernietigd. Het bereik van een variabele is het blok code waarin\n",
    "    de variabele is gedeclareerd en alle blokken code die daarbinnen vallen. Het plaatje hiernaast laat zien dat het bereik van de variabele <code>lengte</code> beperkt is tot de definitie van <code>figuur</code>.</p>\n",
    "<p>\n",
    "\n",
    "</p>\n",
    "\n",
    "<p>Met <i>parameters</i> en <i>retourwaarden</i> geef je waarden aan programmaonderdelen door, dus buiten 'hun blok'.\n",
    "</p>\n",
    "\n",
    "<p><b>Retourwaarden met <code>return</code></b></p>\n",
    "\n",
    "[![Watch the video](https://img.youtube.com/vi/Qm_RhF2D_Gg/hqdefault.jpg)](https://www.youtube.com/embed/Qm_RhF2D_Gg)\n",
    "\n",
    "<p>Wil je de waarde in het hoofdprogramma gebruiken, dan moet je deze met een <code>return</code> opleveren aan het hoofdprogramma.</p>\n",
    "\n",
    "<p>We bekijken nu het voorbeeld hieronder.<br> Een lokale variabele <code>verdubbelde_punten</code> wordt in de functie op regel 3 gedeclareerd, waar dezede waarde 26 krijgt (<code>punten * 2</code>). Na regel 4 houdt het inspringen op; dat\n",
    "    is het einde van de functie. Als de functie ophoudt, bestaat <code>verdubbelde_punten</code> niet meer. Om de verdubbelde waarde in het hoofdprogramma te kunnen printen (op regel 8) moet je twee dingen doen:</p>\n",
    "<ol>\n",
    "    <li>De functie moet de verdubbelde <b>waarde opleveren</b> met een <code>return</code> (regel 4) en</li>\n",
    "    <li>In het hoofdprogramma moet de <b>opgeleverde waarde opgeslagen</b> worden in een variabele <code>nieuwe_punten</code>(regel 7). Merk op dat je deze variabele een andere naam mag geven.</li>\n",
    "</ol>"
   ]
  },
  {
   "cell_type": "code",
   "execution_count": null,
   "metadata": {},
   "outputs": [],
   "source": [
    "### FUNCTIEDEFINITIE\n",
    "def verdubbel( punten ):\n",
    "  verdubbelde_punten = punten * 2\n",
    "  return verdubbelde_punten\n",
    "\n",
    "### HOOFDPROGRAMMA\n",
    "nieuwe_punten = verdubbel( 13 )\n",
    "print( nieuwe_punten )"
   ]
  },
  {
   "cell_type": "markdown",
   "metadata": {},
   "source": [
    "<p><b>Parameters</b></p>\n",
    "<p>Met parameters kun je vanuit het hoofdprogramma waarden (extra informatie) aan een functie geven. Bekijk het voorbeeld hierboven nogmaals:\n",
    "</p>\n",
    "<ul>\n",
    "    <li>De waarde 13 wordt meegegeven als parameter bij de aanroep van de functie <code>verdubbel()</code> (regel 7).\n",
    "    </li>\n",
    "    <li>De variabele <code>punten</code> wordt gedeclareerd in de functiedefinitie waar ze de waarde 13 krijgt (regel 2).\n",
    "    </li>\n",
    "    <li>De variabele <code>punten</code> wordt gebruikt voor het berekenen van <code>verdubbelde_punten</code> (regel 3).\n",
    "    </li>\n",
    "    <li>Na afloop van de functie <code>verdubbel()</code> bestaat <code>punten</code> niet meer (na regel 4).</li>\n",
    "</ul>\n",
    "<p></p>"
   ]
  },
  {
   "cell_type": "markdown",
   "metadata": {},
   "source": [
    "### Opdracht 6.1: Onderdelen van een functie benoemen\n",
    "\n",
    "Hieronder staat code. Geef voor elk van de volgende termen een voorbeeld uit de code:\n",
    "<ol>\n",
    "    <li>Naam van de functie\n",
    "    </li>\n",
    "    <li>Code dat bij de functie hoort\n",
    "    </li>\n",
    "    <li>Parameters\n",
    "    </li>\n",
    "    <li>Type van parameters\n",
    "    </li>\n",
    "    <li>Retourwaarde\n",
    "    </li>\n",
    "    <li>Type van retourwaarde\n",
    "    </li>\n",
    "</ol>"
   ]
  },
  {
   "cell_type": "code",
   "execution_count": null,
   "metadata": {
    "tags": [
     "Opdracht"
    ]
   },
   "outputs": [],
   "source": [
    "def berekenOppervlakte( breedte, hoogte ):\n",
    "\toppervlakte = breedte * hoogte\n",
    "\treturn oppervlakte\n",
    "\n",
    "berekende_oppervlakte = berekenOppervlakte( 4, 5 )\n",
    "print( berekende_oppervlakte )"
   ]
  },
  {
   "cell_type": "markdown",
   "metadata": {},
   "source": [
    "<p>Bekijk <a href=\"Https://course.cs.ru.nl/pythonVO/Teams/IA_uitwerkingen/IA_H6_oplossingen.html#opgave611\" target=\"_blank\">hier</a> de voorbeelduitwerking.</p>\n"
   ]
  },
  {
   "cell_type": "markdown",
   "metadata": {},
   "source": [
    "### Opdracht 6.2: Bereik van variabelen\n",
    "\n",
    "Als je de code hieronder runt, krijgt je een foutmelding. Lees de foutmelding en leg aan je buurman of buurvrouw uit wat het probleem is.\n"
   ]
  },
  {
   "cell_type": "code",
   "execution_count": null,
   "metadata": {
    "tags": [
     "Opdracht"
    ]
   },
   "outputs": [],
   "source": [
    "### FUNCTIEDEFINITIE\n",
    "def bepaalKleur():\n",
    "\tkleur = \"blauw\"\n",
    "\tprint(\"1e keer:\", kleur)\n",
    "\n",
    "### HOOFDPROGRAMMA\n",
    "print(\"2e keer:\", kleur)"
   ]
  },
  {
   "cell_type": "markdown",
   "metadata": {},
   "source": [
    "<p>Bekijk <a href=\"Https://course.cs.ru.nl/pythonVO/Teams/IA_uitwerkingen/IA_H6_oplossingen.html#opgave612\" target=\"_blank\">hier</a> de voorbeelduitwerking.</p>\n"
   ]
  }
 ],
 "metadata": {
  "kernelspec": {
   "display_name": "Python 3",
   "language": "python",
   "name": "python3"
  },
  "language_info": {
   "codemirror_mode": {
    "name": "ipython",
    "version": 3
   },
   "file_extension": ".py",
   "mimetype": "text/x-python",
   "name": "python",
   "nbconvert_exporter": "python",
   "pygments_lexer": "ipython3",
   "version": "3.12.2"
  }
 },
 "nbformat": 4,
 "nbformat_minor": 2
}
