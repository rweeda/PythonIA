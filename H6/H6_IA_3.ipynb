{
 "cells": [
  {
   "cell_type": "markdown",
   "metadata": {},
   "source": [
    "## 3: Functies met retourwaarden en parameters\n",
    "\n",
    "<p>Voor de meeste berekeningen heb je informatie (parameters) nodig en lever je ook een retourwaarde (resultaat) op. </p>\n",
    "\n",
    "\n",
    "<p>Bekijk de code hieronder. De functie <code>plakWoordenAanElkaar()</code> krijgt twee woorden als parameters binnen, plakt deze aan elkaar en slaat het samengestelde woord op in de variabele <code>resultaat</code>.\n"
   ]
  },
  {
   "cell_type": "code",
   "execution_count": null,
   "metadata": {},
   "outputs": [],
   "source": [
    "### FUNCTIEDEFINITIE\n",
    "def plakWoordenAanElkaar( woord1, woord2 ):\n",
    "    resultaat = woord1 + woord2\n",
    "    return resultaat\n",
    "\n",
    "### HOOFDPROGRAMMA MET AANROEP VAN FUNCTIE\n",
    "samenstelling = plakWoordenAanElkaar( \"fiets\", \"bel\" )\n",
    "print(samenstelling)"
   ]
  },
  {
   "cell_type": "markdown",
   "metadata": {},
   "source": [
    "We bekijken hoe de code wordt uitgevoerd:<p></p>\n",
    "<ol>\n",
    "    <li>De code wordt van boven naar beneden gelezen, maar definities worden overgeslagen.\n",
    "    </li>\n",
    "    <li>Op regel 7 wordt de functie <code>plakWoordenAanElkaar()</code> aangeroepen met twee strings.\n",
    "    </li>\n",
    "    <li>De code springt dan naar regel 2, de definitie van de functie. Hier wordt bepaald dat de eerste string \"fiets\" in de variabele <code>woord1</code> wordt opgeslagen en de tweede string \"bel\" in variabele <code>woord2</code>.\n",
    "    </li>\n",
    "    <li>Op regel 3 worden de twee strings aan elkaar geplakt en wordt het samengestelde woord opgeslagen in de variabele <code>resultaat</code>.\n",
    "    </li>\n",
    "    <li>Op regel 4 wordt met een <code>return</code> de waarde van <code>resultaat</code> opgeleverd.\n",
    "    </li>\n",
    "    <li>De functie is afgelopen en gaat terug naar regel 7. De variabelen <code>woord1</code>, <code>woord2</code> en <code>resultaat</code> werden in de functie gemaakt en bestonden alleen in de functie. Na regel 4 bestaan ze niet meer.\n",
    "    </li>\n",
    "    <li>Op regel 7 wordt de waarde van <code>resultaat</code>, namelijk \"fietsbel\" teruggegeven aan het hoofdprogramma. Om \"fietsbel\" in het hoofdprogramma te onthouden wordt het resultaat opgeslagen in de variabele <code>samenstelling</code>.\n",
    "    </li>\n",
    "    <li>Op regel 8 wordt de variabele <code>samenstelling</code> afgedrukt.\n",
    "    </li>\n",
    "</ol>\n",
    "\n",
    "\n",
    "\n",
    "Merk op dat:\n",
    "<ul>\n",
    "    <li>de variabelen <code>woord1</code>, <code>woord2</code> en <code>resultaat</code> in de functie gemaakt worden en alleen in de functie bestaan. Zij heten <em>lokale variabelen</em>.\n",
    "    </li>\n",
    "    <li>dat wat met een <code>return</code> wordt opgeleverd in het hoofdprogramma in een variabele <b>moet</b> worden opgeslagen. In dit voorbeeld gebeurt dat in de variabele <code>samenstelling</code> op regel 7\n",
    "    </li>\n",
    "</ul>"
   ]
  },
  {
   "cell_type": "markdown",
   "metadata": {},
   "source": [
    "### Opdracht 6.4: Een berekening retourneren\n",
    "\n",
    "<p>Lees de code hieronder.</p>\n",
    "<ol style=\"list-style-type: lower-alpha\">\n",
    "    <li>Bedenk een zinvolle naam voor de functie <code>berekenIets()</code>. Pas het ook aan in de code. Run je code om te controleren of deze nog goed werkt.\n",
    "    </li>\n",
    "    <li>Geef ook zinvolle namen aan de variabelen a en b. Pas het ook aan in de code. Run je code om te controleren of deze nog goed werkt.\n",
    "    </li>\n",
    "    <li>Wat is de levensduur van <code>korting</code>? Dat wil zeggen, op welk regelnummer wordt de variabele aangemaakt? En na welk regelnummer houdt ze op te bestaan?\n",
    "    </li>\n",
    "</ol>"
   ]
  },
  {
   "cell_type": "code",
   "execution_count": null,
   "metadata": {
    "tags": [
     "Opdracht"
    ]
   },
   "outputs": [],
   "source": [
    "### FUNCTIEDEFINITIE\n",
    "def berekenIets(a, perc_korting):\n",
    "\tkorting = a * perc_korting/100\n",
    "\tb = a - korting\n",
    "\treturn b\n",
    "\t\n",
    "### HOOFDPROGRAMMA\n",
    "prijs_met_korting = berekenIets(20.00, 30)\n",
    "print(\"Met korting kost het product nu \" + str(prijs_met_korting) + \" euro\" )\n"
   ]
  },
  {
   "cell_type": "markdown",
   "metadata": {},
   "source": [
    "<p>Bekijk <a href=\"Https://course.cs.ru.nl/pythonVO/Teams/IA_uitwerkingen/IA_H6_oplossingen.html#opgave631\" target=\"_blank\">hier</a> de voorbeelduitwerking.</p>\n"
   ]
  },
  {
   "cell_type": "markdown",
   "metadata": {},
   "source": [
    "### Opdracht 6.5: Fietsen en wielen\n",
    "\n",
    "<p>De functie <code>telAantalWielen()</code> telt aan de hand van het aantal fietsen hoeveel wielen er zijn en print dit. Het <code>aantal_wielen</code> is een lokale variabele en bestaat dus alleen binnen de functie.</p>\n",
    "\n",
    "<p>Op regel 8 willen we het aantal kunnen printen in een volzin. De uitvoer van je programma moet zijn:\n",
    "    <i>\"Met 10 fietsen heb je 20 wielen.\"</i>\n",
    "</p>\n",
    "\n",
    "<ol style=\"list-style-type: lower-alpha\">\n",
    "    <li>Haal het commentaar '#' op regel 8 weg. Welke foutmelding krijg je? Leg uit wat het probleem is.</li>\n",
    "    <li>Los het probleem op. Om het <code>aantal_wielen</code> op regel 8 te kunnen gebruiken moeten er twee dingen gebeuren:\n",
    "        <ol>\n",
    "            <li>aan het einde van de functie <code>telAantalWielen()</code> moet de variabele <code>aantal_wielen</code> worden opgeleverd (het wordt nu alleen op regel 4 geprint, maar niet opgeleverd) en\n",
    "            </li>\n",
    "            <li>de waarde die opgeleverd wordt door de functie moet worden opgeslagen op regel 7 (tip: <code>aantal_wielen = ... </code> )\n",
    "            </li>\n",
    "        </ol>\n",
    "    </li>\n",
    "    <li>Test je functie. Krijg je de uitvoer die verwacht wordt?</li>\n",
    "</ol>"
   ]
  },
  {
   "cell_type": "code",
   "execution_count": null,
   "metadata": {
    "tags": [
     "Opdracht"
    ]
   },
   "outputs": [],
   "source": [
    "### FUNCTIEDEFINITIE\n",
    "def telAantalWielen( aantal_fietsen ):\n",
    "  aantal_wielen = aantal_fietsen * 2\n",
    "  print( aantal_wielen )\n",
    "\n",
    "### HOOFDPROGRAMMA\n",
    "telAantalWielen( 10 ) # roep functie aan\n",
    "#print(\"Met zoveel fietsen heb je\", berekend_aantal_wielen, \"wielen.\" )"
   ]
  },
  {
   "cell_type": "markdown",
   "metadata": {},
   "source": [
    "<p>Bekijk <a href=\"Https://course.cs.ru.nl/pythonVO/Teams/IA_uitwerkingen/IA_H6_oplossingen.html#opgave632\" target=\"_blank\">hier</a> de voorbeelduitwerking.</p>\n"
   ]
  },
  {
   "cell_type": "markdown",
   "metadata": {},
   "source": [
    "### Opdracht 6.6: Toetscijfer berekenen\n",
    "\n",
    "<p>Je cijfer op een wiskundetoets bestaande uit 60 punten wordt zo berekend:</p>\n",
    "<p><code>cijfer = ( aantal_punten*9 ) / 60 + 1 </code></p>\n",
    "<p>Heb je 40 punten gehaald, dan is je cijfer een 7.</p>\n",
    "\n",
    "<p><b>DEEL A</b>: </p>\n",
    "<p>Maak een definitie voor het berekenen van je cijfer:</p>\n",
    "<ol style=\"list-style-type: lower-alpha\">\n",
    "    <li>Op regel 3 zet je de functiedefinitie, dus de naam van de functie met tussen haakjes de parameter en een <code>:</code> aan het einde van de regel.\n",
    "    </li>\n",
    "    <li>Op regel 4 zet je de berekening van het cijfer.\n",
    "    </li>\n",
    "    <li>Op regel 5 retourneer je het resultaat met een <code>return</code>.\n",
    "    </li>\n",
    "</ol>\n",
    "\n",
    "<p><b>DEEL B</b>: </p>\n",
    "<p>Roep de functie aan en print je eindcijfer:</p>\n",
    "<ol style=\"list-style-type: lower-alpha\">\n",
    "    <li>Roep de functie op regel 9 aan met <code>berekenCijfer( 40 )</code>.\n",
    "    </li>\n",
    "    <li>Sla op regel 9 ook het resultaat op in een variabele.\n",
    "    </li>\n",
    "    <li>Op regel 10 print je die variabele.\n",
    "    </li>\n",
    "</ol>"
   ]
  },
  {
   "cell_type": "code",
   "execution_count": null,
   "metadata": {
    "tags": [
     "Opdracht"
    ]
   },
   "outputs": [],
   "source": [
    "### FUNCTIEDEFINITIE\n",
    "\n",
    "#def ....\n",
    "\t#cijfer = (aantal_punten*9) / 60 + 1\n",
    "\t#return(...)\n",
    "\t\n",
    "### HOOFDPROGRAMMA MET AANROEP VAN FUNCTIE\n",
    "\n",
    "#roep hier je functie aan en sla het resultaat op in een variabele\n",
    "#print(...)\n"
   ]
  },
  {
   "cell_type": "markdown",
   "metadata": {},
   "source": [
    "<p>Bekijk <a href=\"Https://course.cs.ru.nl/pythonVO/Teams/IA_uitwerkingen/IA_H6_oplossingen.html#opgave633\" target=\"_blank\">hier</a> de voorbeelduitwerking.</p>\n"
   ]
  },
  {
   "cell_type": "markdown",
   "metadata": {},
   "source": [
    "### Opdracht 6.7: Volume van een balk\n",
    "\n",
    "<p>Schrijf een functie die het volume van een balk berekent en oplevert:</p>\n",
    "<ul>\n",
    "    <li>De functie krijgt drie parameters mee: de lengte, breedte en hoogte.\n",
    "    </li>\n",
    "    <li>Het volume van een balk bereken je door de lengte, breedte en hoogte met elkaar te vermenigvuldigen.\n",
    "    </li>\n",
    "    <li>In het hoofdprogramma roep je de functie aan en sla je de retourwaarde op in een variabele.\n",
    "    </li>\n",
    "    <li>Druk daarna het berekende volume af.\n",
    "    </li>\n",
    "</ul>\n"
   ]
  },
  {
   "cell_type": "code",
   "execution_count": null,
   "metadata": {
    "tags": [
     "Opdracht"
    ]
   },
   "outputs": [],
   "source": []
  },
  {
   "cell_type": "markdown",
   "metadata": {},
   "source": [
    "<p>Bekijk <a href=\"Https://course.cs.ru.nl/pythonVO/Teams/IA_uitwerkingen/IA_H6_oplossingen.html#opgave634\" target=\"_blank\">hier</a> de voorbeelduitwerking.</p>"
   ]
  }
 ],
 "metadata": {
  "kernelspec": {
   "display_name": "Python 3",
   "language": "python",
   "name": "python3"
  },
  "language_info": {
   "codemirror_mode": {
    "name": "ipython",
    "version": 3
   },
   "file_extension": ".py",
   "mimetype": "text/x-python",
   "name": "python",
   "nbconvert_exporter": "python",
   "pygments_lexer": "ipython3",
   "version": "3.12.2"
  }
 },
 "nbformat": 4,
 "nbformat_minor": 2
}
