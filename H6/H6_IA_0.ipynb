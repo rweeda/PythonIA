{
 "cells": [
  {
   "cell_type": "markdown",
   "metadata": {},
   "source": [
    "# Onderwerp 6 - Functies (deel 2)\n",
    "\n",
    "<img src=\"http://course.cs.ru.nl/pythonVO/Jupyter/img/Python6_AfbLocalVar.jpg\" alt=\"Figuur: Bereik van variabelen bij blokken code\" width=\"200\" height=\"222\" class=\"img-responsive atto_image_button_right\">\n",
    "\n",
    "<p>Bij het vorige onderwerp heb je kennis gemaakt met functies. Een groot voordeel van met functies werken is dat je elk brok los kunt bedenken, schrijven en testen. Zo is het makkelijker, als je een fout maakt, erachter te komen waar deze zit en te bedenken hoe je deze moet oplossen. We hebben in het vorige onderwerp gekeken naar functies met parameters (die specifieke informatie moeten krijgen om dingen te doen) en zonder parameters. We gaan nu uitgebreider in op retourwaarden van functies en op het bereik van variabelen.</p>\n",
    "\n",
    "\n",
    "\n",
    "\n",
    "In dit onderwerp:\n",
    "<ul>\n",
    "    <li>leer je de onderdelen van een functie;</li>\n",
    "    <li>leer je wat het bereik van een variabele is;</li>\n",
    "    <li>leer je hoe je een functie schrijft die met een return iets oplevert;</li>\n",
    "    <li>leer je een retourwaarde van een functie op te slaan in het hoofdprogramma om daar te kunnen gebruiken;</li>\n",
    "    <li>leer je een stroomdiagram omzetten in een programma;</li>\n",
    "    <li>leer je dat je de code van een functie afzonderlijk moet testen;</li>\n",
    "    <li>leer je namen van constanten in hoofdletters schrijven, zodat duidelijk is dat de waarde hiervan niet aangepast mag worden;</li>\n",
    "    <li>leer je code overzichtelijk te maken door functiedefinities boven aan de code bij elkaar te zetten, apart van de code van het hoofdprogramma;</li>\n",
    "    <li> leer je zinvolle (functie)commentaar toe te voegen om de leesbaarheid van je code te verbeteren;\n",
    "    </li>\n",
    "    <li> leer je met <b>Ctrl&nbsp;</b>en <b>/</b> meerdere regels code in &eacute;&eacute;n keer in (of uit) commentaar te zetten.</li>\n",
    "</ul>\n",
    "\n",
    "<div class=\"fa fa-clock-o fa-3x\"></div><br> <b>2 uur</b>"
   ]
  }
 ],
 "metadata": {
  "kernelspec": {
   "display_name": "Python 3",
   "language": "python",
   "name": "python3"
  },
  "language_info": {
   "codemirror_mode": {
    "name": "ipython",
    "version": 3
   },
   "file_extension": ".py",
   "mimetype": "text/x-python",
   "name": "python",
   "nbconvert_exporter": "python",
   "pygments_lexer": "ipython3",
   "version": "3.12.2"
  }
 },
 "nbformat": 4,
 "nbformat_minor": 2
}
