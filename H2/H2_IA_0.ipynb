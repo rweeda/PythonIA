{
 "cells": [
  {
   "cell_type": "markdown",
   "id": "42a14256-91c8-446e-92a7-ab6bf11055d3",
   "metadata": {},
   "source": [
    "# Hoofdstuk 2 - Interactie\n",
    "\n",
    "<div style=\"display:flex\">\n",
    "\n",
    "<p>Je kunt interactie met de gebruiker krijgen door op het scherm te\n",
    "printen en vragen aan de gebruiker te stellen. Hoe je dat precies doet,\n",
    "is afhankelijk van wat je precies wilt vragen of printen.</p>\n",
    "<img src=\"http://course.cs.ru.nl/pythonVO/Jupyter/img/Python4_kaartunplugged.jpg\" width=50% alt=\"Stroomdiagram\">\n",
    "</div>\n",
    "</p>\n",
    "<p>\n",
    "<span style=\"font-size: 1rem;\">In dit onderwerp:</span>\n",
    "</p>\n",
    "<ul>\n",
    "<li>\n",
    "leer je dat het datatype van een tekst een <code>string</code> heet, een\n",
    "geheel getal een <code>int</code> en een kommagetal een\n",
    "<code>float</code>;\n",
    "</li>\n",
    "<li>\n",
    "leer je om tekst en/of getallen op het scherm te tonen met\n",
    "<code>print()</code>;\n",
    "</li>\n",
    "<li>\n",
    "leer je een <code>,</code> (komma) te gebruiken om meerdere dingen met\n",
    "spaties af te drukken;\n",
    "</li>\n",
    "<li>\n",
    "leer je <code>+</code> gebruiken om teksten zonder spatie aan elkaar te\n",
    "“plakken”;\n",
    "</li>\n",
    "<li>\n",
    "leer je <code>input()</code> gebruiken om invoer van een gebruiker te\n",
    "krijgen en op te slaan;\n",
    "</li>\n",
    "<li>\n",
    "leer je de invoer van een gebruiker omzetten van <code>string</code>\n",
    "(tekst) naar<code> int</code> (geheel getal), of van <code>string</code>\n",
    "naar <code>float</code> (kommagetal);\n",
    "</li>\n",
    "<li>\n",
    "leer je een getal aan tekst plakken door met <code>str()</code> eerst\n",
    "het getal om te zetten naar een string (tekst) en het daarna met\n",
    "<code>+</code> aan de tekst te plakken;\n",
    "</li>\n",
    "<li>\n",
    "leer je rekenen met getallen ( <code>+, -, \\* /, \\*\\*, % </code>) en\n",
    "waar nodig gebruik maken van haakjes.\n",
    "</li>\n",
    "</ul>\n",
    "\n",
    "Verwachte tijd: <b>2 uur</b>"
   ]
  }
 ],
 "metadata": {
  "kernelspec": {
   "display_name": "Python 3",
   "language": "python",
   "name": "python3"
  },
  "language_info": {
   "codemirror_mode": {
    "name": "ipython",
    "version": 3
   },
   "file_extension": ".py",
   "mimetype": "text/x-python",
   "name": "python",
   "nbconvert_exporter": "python",
   "pygments_lexer": "ipython3",
   "version": "3.12.2"
  }
 },
 "nbformat": 4,
 "nbformat_minor": 5
}
