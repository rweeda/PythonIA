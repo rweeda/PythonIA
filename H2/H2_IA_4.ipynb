{
 "cells": [
  {
   "cell_type": "markdown",
   "id": "a3d8727d",
   "metadata": {},
   "source": [
    "## 4: Tekst afdrukken\n",
    "\n",
    "<p>Een <code>string</code> (tekst) zet je eerst tussen aanhalingstekens en druk je dan af met <code>print()</code>:</p>"
   ]
  },
  {
   "cell_type": "code",
   "execution_count": null,
   "id": "e320da47",
   "metadata": {},
   "outputs": [],
   "source": [
    "print( \"f\" )           # druk 1 letter af\n",
    "print( \"fiets\" )      # gebruikt dubbele aanhalingstekens om een string af te drukken\n",
    "print( 'fiets' )       # gebruikt enkele aanhalingstekens om een string af te drukken\n",
    "print() "
   ]
  },
  {
   "cell_type": "markdown",
   "id": "b6b11300",
   "metadata": {},
   "source": [
    "### Opdracht 2.2: Verbeter de fout\n",
    "\n",
    "<p>In elk van de regels code hieronder zitten fouten. Kun jij ze vinden en verbeteren?</p>"
   ]
  },
  {
   "cell_type": "code",
   "execution_count": null,
   "id": "c01edcbe",
   "metadata": {
    "tags": [
     "Opdracht"
    ]
   },
   "outputs": [],
   "source": [
    "print( \"Een boodschap\" ).\n",
    "print( \"Een boodschap ' )\n",
    "print( 'Een boodschapf\" ' )"
   ]
  }
 ],
 "metadata": {
  "kernelspec": {
   "display_name": "Python 3",
   "language": "python",
   "name": "python3"
  },
  "language_info": {
   "codemirror_mode": {
    "name": "ipython",
    "version": 3
   },
   "file_extension": ".py",
   "mimetype": "text/x-python",
   "name": "python",
   "nbconvert_exporter": "python",
   "pygments_lexer": "ipython3",
   "version": "3.11.8"
  }
 },
 "nbformat": 4,
 "nbformat_minor": 5
}
