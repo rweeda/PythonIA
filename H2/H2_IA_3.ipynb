{
 "cells": [
  {
   "cell_type": "markdown",
   "id": "ae72dca6",
   "metadata": {},
   "source": [
    "<!--<iframe width=\"640\" height=\"360\" src=\"https://www.youtube.com/embed/yABNv-Vq22k\" title=\"YouTube video player\" frameborder=\"0\" allow=\"accelerometer; autoplay; clipboard-write; encrypted-media; gyroscope; picture-in-picture\" allowfullscreen=\"\" data-dashlane-frameid=\"198\" class=\"cursor-hover\"></iframe>-->\n",
    "\n",
    "<!--[![Watch the video](https://img.youtube.com/vi/yABNv-Vq22k/hqdefault.jpg)](https://www.youtube.com/embed/yABNv-Vq22k)-->\n"
   ]
  },
  {
   "cell_type": "markdown",
   "id": "ce23b7b5",
   "metadata": {},
   "source": [
    "## 3: Getallen afdrukken\n",
    "\n",
    "\n",
    "<p>Een <code>int</code> (geheel getal) of <code>float</code> (kommagetal) druk je op het scherm af met <code>print()</code>. Merk op dat een <code>float</code> geen komma, maar een punt heeft.</p>"
   ]
  },
  {
   "cell_type": "code",
   "execution_count": null,
   "id": "b352fc19",
   "metadata": {},
   "outputs": [],
   "source": [
    "print( 5 )                     # druk getal 5 af\n",
    "print( 0.2 )                   # druk het kommagetal 0.2 af\n",
    "print( 5, 0.2 ) "
   ]
  },
  {
   "cell_type": "markdown",
   "id": "6abf625a",
   "metadata": {},
   "source": [
    "### Opdracht 2.1: Floats (kommagetallen) afdrukken\n",
    "\n",
    "<p class=\"cursor-hover\">In de code hieronder willen we een <code>float</code> afdrukken, namelijk <code>3.14</code>. Maar, in plaats van een kommagetal drukt het programma eerst het getal 3 af, dan een spatie en dan 14. Run het programma. Kun jij de fout vinden en herstellen?</p>"
   ]
  },
  {
   "cell_type": "code",
   "execution_count": null,
   "id": "494ff255",
   "metadata": {
    "tags": [
     "Opdracht"
    ]
   },
   "outputs": [],
   "source": [
    "print( 3,14 )"
   ]
  },
  {
   "cell_type": "markdown",
   "id": "365b909d",
   "metadata": {},
   "source": [
    "<hr>\n",
    "<p>De komma werkt dus zo dat wat tussen haakjes staat als twee verschillende <i>parameters</i> (informatie voor de functie <code>print()</code>) wordt gezien: eerste het ene printen, dan pas het tweede.</p>"
   ]
  }
 ],
 "metadata": {
  "kernelspec": {
   "display_name": "Python 3",
   "language": "python",
   "name": "python3"
  },
  "language_info": {
   "codemirror_mode": {
    "name": "ipython",
    "version": 3
   },
   "file_extension": ".py",
   "mimetype": "text/x-python",
   "name": "python",
   "nbconvert_exporter": "python",
   "pygments_lexer": "ipython3",
   "version": "3.11.8"
  }
 },
 "nbformat": 4,
 "nbformat_minor": 5
}
