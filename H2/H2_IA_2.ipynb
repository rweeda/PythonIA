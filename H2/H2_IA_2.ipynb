{
 "cells": [
  {
   "cell_type": "markdown",
   "id": "65f1f24f",
   "metadata": {},
   "source": [
    "## 2: Op het scherm afdrukken\n",
    "\n",
    "<p class=\"cursor-hover\">Met <code>print()</code> kun je op het scherm afdrukken. De <code>print()</code>-functie gebruik je soms net iets anders als je getallen of tekst wil afdrukken. Hoe dat zit, bespreken we nu.</p>"
   ]
  },
  {
   "cell_type": "markdown",
   "id": "573d587d",
   "metadata": {},
   "source": [
    "[<img src=\"https://img.youtube.com/vi/yABNv-Vq22k/hqdefault.jpg\" width=\"600\" height=\"300\"/>](https://www.youtube.com/embed/yABNv-Vq22k)\n"
   ]
  },
  {
   "cell_type": "markdown",
   "id": "07085a19",
   "metadata": {},
   "source": [
    "<!--<p><iframe width=\"640\" height=\"360\" src=\"https://www.youtube.com/embed/yABNv-Vq22k\" title=\"YouTube video player\" frameborder=\"0\" allow=\"accelerometer; autoplay; clipboard-write; encrypted-media; gyroscope; picture-in-picture\" allowfullscreen=\"\" data-dashlane-frameid=\"198\" class=\"cursor-hover\"></iframe></p>-->"
   ]
  }
 ],
 "metadata": {
  "kernelspec": {
   "display_name": "Python 3",
   "language": "python",
   "name": "python3"
  },
  "language_info": {
   "codemirror_mode": {
    "name": "ipython",
    "version": 3
   },
   "file_extension": ".py",
   "mimetype": "text/x-python",
   "name": "python",
   "nbconvert_exporter": "python",
   "pygments_lexer": "ipython3",
   "version": "3.11.8"
  }
 },
 "nbformat": 4,
 "nbformat_minor": 5
}
