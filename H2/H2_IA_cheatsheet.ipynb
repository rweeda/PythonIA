{
 "cells": [
  {
   "cell_type": "markdown",
   "id": "f3aa1972",
   "metadata": {},
   "source": [
    "# Onderwerp 2 - Interactie: Samenvatting\n",
    "\n",
    "In dit onderwerp leer je de basis van datatypes, tekst en getallen, printen en invoer. Hieronder staan korte voorbeelden die je zelf kunt uitvoeren.\n"
   ]
  },
  {
   "cell_type": "markdown",
   "id": "c11bb36b",
   "metadata": {},
   "source": [
    "## 2.1: Datatypes: <code>string</code>, <code>int</code> en <code>float</code>"
   ]
  },
  {
   "cell_type": "code",
   "execution_count": null,
   "id": "1dd71efe",
   "metadata": {},
   "outputs": [],
   "source": [
    "naam = \"Janneke\"        # Een tekst heet een string\n",
    "print(naam, type(naam))\n",
    "\n",
    "leeftijd = 13           # Een geheel getal heet een int\n",
    "print(leeftijd, type(leeftijd))\n",
    "\n",
    "pi = 3.14 # Een kommagetal heet een float\n",
    "print(pi, type(pi))"
   ]
  },
  {
   "cell_type": "markdown",
   "id": "913734bf",
   "metadata": {},
   "source": [
    "## 2.3&2.4: Tekst en/of getallen tonen met <code>print()</code>"
   ]
  },
  {
   "cell_type": "code",
   "execution_count": null,
   "id": "a2f13fb2",
   "metadata": {},
   "outputs": [],
   "source": [
    "print(\"Hallo wereld\")           # Je kunt één ding printen\n",
    "\n",
    "print(\"Leeftijd:\", 13)          # Met een komma scheid je meerdere dingen, er komt automatisch een spatie tussen\n",
    "\n",
    "print(\"Voornaam:\" + \"Janneke\")  # Met + plak je teksten direct aan elkaar zonder spatie"
   ]
  },
  {
   "cell_type": "markdown",
   "id": "8eb62910",
   "metadata": {},
   "source": [
    "## 2.8: Getallen en tekst aan elkaar plakken met gebruik van <code>str()</code>"
   ]
  },
  {
   "cell_type": "code",
   "execution_count": null,
   "id": "ce897613",
   "metadata": {},
   "outputs": [],
   "source": [
    "leeftijd = 13                                   # leeftijd is een getal (int)\n",
    "zin = \"Ik ben \" + str(leeftijd) + \" jaar oud.\"  # maak met str() een string van getal leeftijd, en plak alles aan elkaar\n",
    "print(zin)"
   ]
  },
  {
   "cell_type": "markdown",
   "id": "47d591f4",
   "metadata": {},
   "source": [
    "## 2.9: Invoer vragen met <code>input()</code>"
   ]
  },
  {
   "cell_type": "code",
   "execution_count": null,
   "id": "a556764d",
   "metadata": {},
   "outputs": [],
   "source": [
    "naam = input(\"Wat is je naam? \") # met input() kun je de gebruiker om invoer vragen\n",
    "print(\"Hallo, \" + naam)          # standaard is de invoer een string (tekst)"
   ]
  },
  {
   "cell_type": "markdown",
   "id": "027a228a",
   "metadata": {},
   "source": [
    "## 2.10: Invoer omzetten naar <code>int</code> of <code>float</code>"
   ]
  },
  {
   "cell_type": "code",
   "execution_count": null,
   "id": "2e2a697a",
   "metadata": {},
   "outputs": [],
   "source": [
    "invoer = input(\"Geef een geheel getal: \")    # standaard is de invoer een string (tekst)\n",
    "getal_int = int(invoer)  # zet invoer om in een int (getal)\n",
    "print(\"Je gaf het geheel getal:\", getal_int)\n",
    "\n",
    "kommagetal = float(input(\"Geef een kommagetal: \")) # Omzetten naar float (kommagetal) direct bij input\n",
    "print(\"Je gaf het kommagetal:\", kommagetal)"
   ]
  },
  {
   "cell_type": "markdown",
   "id": "5e0a4e5a",
   "metadata": {},
   "source": [
    "## 2.11: Rekenen met getallen"
   ]
  },
  {
   "cell_type": "code",
   "execution_count": null,
   "id": "95f5e66f",
   "metadata": {},
   "outputs": [],
   "source": [
    "a = 10\n",
    "b = 3\n",
    "print(\"Optellen:\", a + b)\n",
    "print(\"Aftrekken:\", a - b)\n",
    "print(\"Vermenigvuldigen:\", a * b)\n",
    "print(\"Delen:\", a / b)\n",
    "print(\"Machtsverheffen:\", a ** b)   # a tot de macht b\n",
    "print(\"Modulo (rest):\", a % b)      # klokrekenen: steeds b eraf halen"
   ]
  }
 ],
 "metadata": {
  "kernelspec": {
   "display_name": "Python 3",
   "language": "python",
   "name": "python3"
  },
  "language_info": {
   "codemirror_mode": {
    "name": "ipython",
    "version": 3
   },
   "file_extension": ".py",
   "mimetype": "text/x-python",
   "name": "python",
   "nbconvert_exporter": "python",
   "pygments_lexer": "ipython3",
   "version": "3.13.2"
  }
 },
 "nbformat": 4,
 "nbformat_minor": 5
}
