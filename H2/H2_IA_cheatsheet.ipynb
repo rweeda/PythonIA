{
 "cells": [
  {
   "cell_type": "markdown",
   "id": "f3aa1972",
   "metadata": {},
   "source": [
    "# Onderwerp 2 - Interactie: Samenvatting\n",
    "\n",
    "In dit onderwerp leer je de basis van datatypes, tekst en getallen, printen en invoer. Hieronder staan korte voorbeelden die je zelf kunt uitvoeren.\n"
   ]
  },
  {
   "cell_type": "markdown",
   "id": "c11bb36b",
   "metadata": {},
   "source": [
    "## 2.1: Datatypes: <code>string</code>, <code>int</code> en <code>float</code>"
   ]
  },
  {
   "cell_type": "code",
   "execution_count": null,
   "id": "1dd71efe",
   "metadata": {},
   "outputs": [],
   "source": [
    "# Een tekst heet een string\n",
    "naam = \"Ada\"\n",
    "print(naam, type(naam))\n",
    "\n",
    "# Een geheel getal heet een int\n",
    "leeftijd = 13\n",
    "print(leeftijd, type(leeftijd))\n",
    "\n",
    "# Een kommagetal heet een float\n",
    "pi = 3.14\n",
    "print(pi, type(pi))"
   ]
  },
  {
   "cell_type": "markdown",
   "id": "913734bf",
   "metadata": {},
   "source": [
    "## 2.3&2.4: Tekst en/of getallen tonen met <code>print()</code>"
   ]
  },
  {
   "cell_type": "code",
   "execution_count": null,
   "id": "a2f13fb2",
   "metadata": {},
   "outputs": [],
   "source": [
    "# Je kunt één ding printen\n",
    "print(\"Hallo wereld\")\n",
    "\n",
    "# Met een komma scheid je meerdere dingen, er komt automatisch een spatie tussen\n",
    "print(\"Leeftijd:\", 13)\n",
    "\n",
    "# Met + plak je teksten direct aan elkaar zonder spatie\n",
    "print(\"Voornaam:\" + \"Ada\")"
   ]
  },
  {
   "cell_type": "markdown",
   "id": "8eb62910",
   "metadata": {},
   "source": [
    "## 2.8: Getallen en tekst aan elkaar plakken met gebruik van <code>str()</code>"
   ]
  },
  {
   "cell_type": "code",
   "execution_count": null,
   "id": "ce897613",
   "metadata": {},
   "outputs": [],
   "source": [
    "leeftijd = 13\n",
    "zin = \"Ik ben \" + str(leeftijd) + \" jaar oud.\"\n",
    "print(zin)"
   ]
  },
  {
   "cell_type": "markdown",
   "id": "47d591f4",
   "metadata": {},
   "source": [
    "## 2.9: Invoer vragen met <code>input()</code>"
   ]
  },
  {
   "cell_type": "code",
   "execution_count": null,
   "id": "a556764d",
   "metadata": {},
   "outputs": [],
   "source": [
    "# Met input() kun je de gebruiker om invoer vragen\n",
    "# Standaard wordt de invoer opgeslagen als string (tekst)\n",
    "naam = input(\"Wat is je naam? \")\n",
    "print(\"Hallo, \" + naam)"
   ]
  },
  {
   "cell_type": "markdown",
   "id": "027a228a",
   "metadata": {},
   "source": [
    "## 2.10: Invoer omzetten naar <code>int</code> of <code>float</code>"
   ]
  },
  {
   "cell_type": "code",
   "execution_count": null,
   "id": "2e2a697a",
   "metadata": {},
   "outputs": [],
   "source": [
    "# Invoer wordt standaard een string\n",
    "getal = input(\"Geef een geheel getal: \")\n",
    "\n",
    "# Omzetten naar int\n",
    "getal_int = int(getal)\n",
    "print(\"Je gaf het geheel getal:\", getal_int)\n",
    "\n",
    "# Omzetten naar float\n",
    "kommagetal = float(input(\"Geef een kommagetal: \"))\n",
    "print(\"Je gaf het kommagetal:\", kommagetal)"
   ]
  },
  {
   "cell_type": "markdown",
   "id": "5e0a4e5a",
   "metadata": {},
   "source": [
    "## 2.11: Rekenen met getallen"
   ]
  },
  {
   "cell_type": "code",
   "execution_count": null,
   "id": "95f5e66f",
   "metadata": {},
   "outputs": [],
   "source": [
    "a = 10\n",
    "b = 3\n",
    "print(\"Optellen:\", a + b)\n",
    "print(\"Aftrekken:\", a - b)\n",
    "print(\"Vermenigvuldigen:\", a * b)\n",
    "print(\"Delen:\", a / b)\n",
    "print(\"Machtsverheffen:\", a ** b)\n",
    "print(\"Modulo (rest):\", a % b)\n",
    "\n",
    "# Haakjes gebruiken voor de juiste volgorde\n",
    "uitkomst = (a + b) * 2\n",
    "print(\"(a + b) * 2 =\", uitkomst)"
   ]
  }
 ],
 "metadata": {
  "language_info": {
   "name": "python"
  }
 },
 "nbformat": 4,
 "nbformat_minor": 5
}
