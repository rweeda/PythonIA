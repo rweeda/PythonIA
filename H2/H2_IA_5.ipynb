{
 "cells": [
  {
   "cell_type": "markdown",
   "id": "80732216",
   "metadata": {},
   "source": [
    "## 5: Een rijtje gegevens afdrukken\n",
    "\n",
    "<p class=\"cursor-hover\">Meerdere dingen achter elkaar printen kan door deze met een komma te scheiden. Dat noemen we een rijtje. Ieder element in het rijtje wordt dan afgedrukt, telkens met een spatie ertussen. Run de code hieronder om het effect te zien:</p>"
   ]
  },
  {
   "cell_type": "code",
   "execution_count": null,
   "id": "c1a0ff9f",
   "metadata": {},
   "outputs": [],
   "source": [
    "print(\"Anna\", \"Piet\", \"Jan\")    # druk een aantal teksten af, telkens met daartussen een spatie\n",
    "print(6, 2)                     # druk een aantal getallen af achter elkaar, met daartussen een spatie\n",
    "print( \"Ik heb\", 2, \"fietsen.\") # druk tekst en een getal af, met daartussen een spatie"
   ]
  }
 ],
 "metadata": {
  "kernelspec": {
   "display_name": "Python 3",
   "language": "python",
   "name": "python3"
  },
  "language_info": {
   "codemirror_mode": {
    "name": "ipython",
    "version": 3
   },
   "file_extension": ".py",
   "mimetype": "text/x-python",
   "name": "python",
   "nbconvert_exporter": "python",
   "pygments_lexer": "ipython3",
   "version": "3.11.8"
  }
 },
 "nbformat": 4,
 "nbformat_minor": 5
}
