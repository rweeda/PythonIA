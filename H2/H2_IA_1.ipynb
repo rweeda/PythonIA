{
 "cells": [
  {
   "cell_type": "markdown",
   "id": "bfa95949",
   "metadata": {},
   "source": [
    "## 1: Datatypes\n",
    "\n",
    "<p>Alles in Python heeft een <b class=\"cursor-hover\">datatype</b>: </p>\n",
    "\n",
    "<ul>\n",
    "\n",
    "<li class=\"cursor-hover\">\n",
    "<code>str</code> (kort voor <i>string</i>): een tekst<br>Voorbeeld: <code class=\"cursor-hover\">\"Hallo\", \"A\", \"a\", \"\"</code></li>\n",
    "\n",
    "<li class=\"cursor-hover\">\n",
    "<code>int</code> (kort voor <i>integer</i>): een geheel getal<br>Voorbeeld: 1, 4, 0, -5 </li>\n",
    "\n",
    "<li class=\"cursor-hover\">\n",
    "<code>float</code>: een kommagetal<br>Voorbeeld: 8.6, -3.1, 0.0</li>\n",
    "\n",
    "<li class=\"cursor-hover\">\n",
    "<code>bool</code> (kort voor <i class=\"cursor-hover\">Boolean</i>): waar of niet waar<br> \n",
    "Voorbeeld: <code>True</code> (waar) of <code>False</code> (niet waar)\n",
    "</li>\n",
    "\n",
    "</ul>\n",
    "\n",
    "\n",
    "<p><img src=\"https://course.cs.ru.nl/pythonVO/Jupyter/img/H1_datatypes.png\" alt=\"Datatypes in python\" width=\"722\" height=\"114\" class=\"img-responsive atto_image_button_text-bottom\"></p>"
   ]
  }
 ],
 "metadata": {
  "kernelspec": {
   "display_name": "Python 3",
   "language": "python",
   "name": "python3"
  },
  "language_info": {
   "codemirror_mode": {
    "name": "ipython",
    "version": 3
   },
   "file_extension": ".py",
   "mimetype": "text/x-python",
   "name": "python",
   "nbconvert_exporter": "python",
   "pygments_lexer": "ipython3",
   "version": "3.13.2"
  }
 },
 "nbformat": 4,
 "nbformat_minor": 5
}
