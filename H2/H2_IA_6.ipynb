{
 "cells": [
  {
   "cell_type": "markdown",
   "id": "48f0a8a6",
   "metadata": {},
   "source": [
    "## 6: Strings herhalend afdrukken\n",
    "\n",
    "<p>Strings kun je herhalen met een <code>*</code>:</p>"
   ]
  },
  {
   "cell_type": "code",
   "execution_count": null,
   "id": "5ab16d32",
   "metadata": {},
   "outputs": [],
   "source": [
    "print( 3*\"hallo\" ) # druk 3x de tekst \"hallo\" af"
   ]
  },
  {
   "cell_type": "markdown",
   "id": "dc36170c",
   "metadata": {},
   "source": [
    "### Opdracht 2.3: Uitroeptekens afdrukken\n",
    "\n",
    "<p>Schrijf een programma dat vijf uitroeptekens achter elkaar afdrukt zodat <i>!!!!!</i> op het scherm verschijnt.</p>"
   ]
  },
  {
   "cell_type": "code",
   "execution_count": null,
   "id": "ba341a98",
   "metadata": {
    "tags": [
     "Opdracht"
    ]
   },
   "outputs": [],
   "source": []
  }
 ],
 "metadata": {
  "kernelspec": {
   "display_name": "Python 3",
   "language": "python",
   "name": "python3"
  },
  "language_info": {
   "codemirror_mode": {
    "name": "ipython",
    "version": 3
   },
   "file_extension": ".py",
   "mimetype": "text/x-python",
   "name": "python",
   "nbconvert_exporter": "python",
   "pygments_lexer": "ipython3",
   "version": "3.11.8"
  }
 },
 "nbformat": 4,
 "nbformat_minor": 5
}
