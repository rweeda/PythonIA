{
 "cells": [
  {
   "cell_type": "markdown",
   "id": "dafe2e7b",
   "metadata": {},
   "source": [
    "# Onderwerp 2: Afsluitende opdrachten\n",
    "\n",
    "Met de volgende afsluitende opdrachten kun je kijken hoe goed je de stof beheerst. Controleer steeds je eigen oplossing met de voorbeeldoplossing.\n"
   ]
  },
  {
   "cell_type": "markdown",
   "id": "e9ca2ec4",
   "metadata": {},
   "source": [
    "### Afsluitende opdracht 2.1 Geld maakt gelukkig\n",
    "\n",
    "\n",
    "<p>In deze opdracht gaan we aan de slag met geld. We hebben twee\n",
    "    variabelen, namelijk hele <code>euro</code>'s en losse <code>cent</code>en. Print het bedrag op een\n",
    "    nette manier:<br> <i>Dat kost 10.25 euro.</i></p>\n",
    "<p>Gebruik hiervoor de\n",
    "    variabelen <code>euro</code>&nbsp;en <code>cent</code>.</p>\n",
    "<p>Tip: gebruik <code>+</code> om een '.' te plakken aan de getallen.</p>"
   ]
  },
  {
   "cell_type": "code",
   "execution_count": null,
   "id": "f14f9d0c",
   "metadata": {
    "tags": [
     "Opdracht"
    ]
   },
   "outputs": [],
   "source": [
    "euros = 3\n",
    "centen = 25\n",
    "\n",
    "print(\"Dat kost ... euro.\")"
   ]
  },
  {
   "cell_type": "markdown",
   "id": "e6d57359",
   "metadata": {},
   "source": [
    "<p>Bekijk <a href=\"https://course.cs.ru.nl/pythonVO/Teams/IA_uitwerkingen/IA_H2_oplossingen.html#AfOpgave21\" target=\"_blank\">hier</a> de voorbeelduitwerking.</p>"
   ]
  },
  {
   "cell_type": "markdown",
   "id": "e77605f4",
   "metadata": {},
   "source": [
    "### Afsluitende opdracht 2.2 Gebruiker kiest kleur\n",
    "\n",
    "<p>Het onderstaande programma tekent een rood vierkant.</p>\n",
    "<p>Pas het programma aan zodat die de gebruiker om een kleur vraagt (bijvoorbeeld: black, tan, gold, blue, red) en dan een vierkant tekent in die kleur, in plaats van in rood.\n",
    "    Print op het scherm ook welke kleur de gebruiker gekozen heeft.</p>"
   ]
  },
  {
   "cell_type": "code",
   "execution_count": null,
   "id": "f4f12073",
   "metadata": {
    "tags": [
     "Opdracht"
    ]
   },
   "outputs": [],
   "source": [
    "import turtle       # importeer turtle module\n",
    "\n",
    "turtle.color(\"red\")\n",
    "# NU WORDT ROOD GEKOZEN, MAAR VRAAG GEBUIKER OM EEN KLEUR\n",
    "\n",
    "# PRINT OP HET SCHERM WELKE KLEUR DE GEBRUIKER GEKOZEN HEEFT\n",
    "print(\"Je krijgt een .... vierkant.\")\n",
    "\n",
    "turtle.pendown()    # zet pen neer\n",
    "turtle.forward(150) # 150 stappen vooruit\n",
    "turtle.right(90)    # draai 90 graden naar rechts\n",
    "turtle.forward(150)\n",
    "turtle.right(90)\n",
    "turtle.forward(150)\n",
    "turtle.right(90)\n",
    "turtle.forward(150)\n",
    "turtle.right(90)\n",
    "\n",
    "turtle.done()       # klaar"
   ]
  },
  {
   "cell_type": "markdown",
   "id": "f107269f",
   "metadata": {},
   "source": [
    "<p>Bekijk <a href=\"https://course.cs.ru.nl/pythonVO/Teams/IA_uitwerkingen/IA_H2_oplossingen.html#AfOpgave22\" target=\"_blank\">hier</a> de voorbeelduitwerking.</p>"
   ]
  },
  {
   "cell_type": "markdown",
   "id": "d2871609",
   "metadata": {},
   "source": [
    "### Afsluitende opdracht 2.3 Bonus op de toets\n",
    "\n",
    "<p>De docent heeft besloten dat iedereen een bonus krijgt van een half punt op zijn toetscijfer. Vraag de gebruiker een cijfer in te voeren, print het oude cijfer, verhoog dat met een half punt en druk daarna het nieuwe cijfer als volgt af: \"Gefeliciteerd, met de bonus heb je nu een ... !\"</p>"
   ]
  },
  {
   "cell_type": "code",
   "execution_count": null,
   "id": "2948c77e",
   "metadata": {},
   "outputs": [],
   "source": []
  },
  {
   "cell_type": "markdown",
   "id": "1ff26b95",
   "metadata": {},
   "source": [
    "<p>Bekijk <a href=\"https://course.cs.ru.nl/pythonVO/Teams/IA_uitwerkingen/IA_H2_oplossingen.html#AfOpgave23\" target=\"_blank\">hier</a> de voorbeelduitwerking.</p>\n"
   ]
  },
  {
   "cell_type": "markdown",
   "id": "d9e3e63c",
   "metadata": {},
   "source": [
    "### Afsluitende opdracht 2.4 Centimeters naar meters\n",
    "\n",
    "<p>Schrijf een programma dat centimeters naar meters omrekent. Vraag de gebruiker om een geheel getal in te voeren. Deel dit door 100 en print het antwoord op het scherm.</p>\n",
    "<p>Dus als een gebruiker 250 intikt, dan is de uitvoer:</p>\n",
    "<p><i>Het aantal centimeters is: 250</i></p><i>\n",
    "</i>\n",
    "<p><i>Dat is 2.5 meter</i></p>"
   ]
  },
  {
   "cell_type": "code",
   "execution_count": null,
   "id": "d426c1cd",
   "metadata": {
    "tags": [
     "Opdracht"
    ]
   },
   "outputs": [],
   "source": []
  },
  {
   "cell_type": "markdown",
   "id": "1edddad0",
   "metadata": {},
   "source": [
    "<p>Bekijk <a href=\"https://course.cs.ru.nl/pythonVO/Teams/IA_uitwerkingen/IA_H2_oplossingen.html#AfOpgave24\">hier</a> de voorbeelduitwerking.</p>\n"
   ]
  },
  {
   "cell_type": "markdown",
   "id": "5659c399",
   "metadata": {},
   "source": [
    "### Afsluitende opdracht 2.5: BMI berekenen\n",
    "\n",
    "<p>Je kunt je BMI uitrekenen door je gewicht in kilo's te delen door het kwadraat van je lichaamslengte in meters. Als je bijvoorbeeld 65 kilo weegt en je bent 1,70 meter lang, dan bereken je je BMI als volgt:<br> 65 kilo / (1.70 x 1.70 meter) = 22.5 (afgerond).</p>\n",
    "\n",
    "<p>Schrijf een programma dat de BMI berekent. Vraag de gebruiker zijn lengte in meters en zijn gewicht in kilogram. Laat de gebruiker zien wat is ingevoerd en bereken en print de BMI. Bedenk dat lengte een kommagetal is.</p>\n",
    "Het resultaat zou zoiets moeten zijn:<p></p>\n",
    "\n",
    "<p><img src=\"https://raw.githubusercontent.com/rweeda/PythonIA/main/img//H2_af25_uitvoer_console.jpg\" alt=\"Opg Af2.5 uitvoer console voorbeeld\"></p>"
   ]
  },
  {
   "cell_type": "code",
   "execution_count": null,
   "id": "33c913ab",
   "metadata": {
    "tags": [
     "Opdracht"
    ]
   },
   "outputs": [],
   "source": []
  },
  {
   "cell_type": "markdown",
   "id": "4bb153e2",
   "metadata": {},
   "source": [
    "<p>Bekijk <a href=\"https://course.cs.ru.nl/pythonVO/Teams/IA_uitwerkingen/IA_H2_oplossingen.html#AfOpgave25\" target=\"_blank\">hier</a> de voorbeelduitwerking.</p>"
   ]
  },
  {
   "cell_type": "markdown",
   "id": "0cb8aa51",
   "metadata": {},
   "source": [
    "### Afsluitende opdracht 2.6: Invulverhaal\n",
    "\n",
    "\n",
    "<p>Je maakt een invulverhaal.</p>\n",
    "<ol>\n",
    "    <li>Schrijf een kort verhaaltje of gebruik dat hieronder. Streep een aantal woorden door en vervang ze door hun beschrijving;</li>\n",
    "    <li>Voor elke beschrijving vraag je de gebruiker om iets in te vullen. Als ze letterlijk het eerste invullen wat er in hen opkomt, wordt het juist grappig;</li>\n",
    "    <li> Elk antwoord sla je op in een andere variabele;</li>\n",
    "    <li> Daarna print je de nieuwe tekst af.\n",
    "    </li>\n",
    "</ol>\n",
    "\n",
    "\n",
    "<p>Je mag je eigen verhaal verzinnen of dit gebruiken:</p>\n",
    "\n",
    "\n",
    "<p>COOL PYJAMAFEEST.</p>\n",
    "\n",
    "<p>_ _ _ _ (Naam beste vriend) geeft een super pyjamafeestje met als thema _\n",
    "    _ _ _ (kleuterprogramma). Dat wordt dus de hele avond _ _ _ _ (zelfde\n",
    "    programma) kijken. Op je _ _ _ _ (vreemd voertuig) rijd je met een snelheid\n",
    "    van _ _ _ _ (getal met 3 nullen) km per uur naar haar huis. Het hele huis is versierd\n",
    "    in de kleuren _ _ _ _ (felle kleuren) en _ _ _ _ (kleur die vloekt bij\n",
    "    andere) en door het hele huis galmt de beat van _ _ _ _\n",
    "    (carnavalskraker).</p>"
   ]
  },
  {
   "cell_type": "code",
   "execution_count": null,
   "id": "6199dad4",
   "metadata": {
    "tags": [
     "Opdracht"
    ]
   },
   "outputs": [],
   "source": []
  },
  {
   "cell_type": "markdown",
   "id": "99a06725",
   "metadata": {},
   "source": [
    "<p>Bekijk <a href=\"https://course.cs.ru.nl/pythonVO/Teams/IA_uitwerkingen/IA_H2_oplossingen.html#AfOpgave26\" target=\"_blank\">hier</a> de voorbeelduitwerking.</p>"
   ]
  },
  {
   "cell_type": "markdown",
   "id": "8ef66421",
   "metadata": {},
   "source": [
    "### Afsluitende opdracht 2.7 Hoe lang duurt het nog?\n",
    "\n",
    "<p>13 uur, 47 minuten en 28 seconden is (13 * 60 * 60) + (47 * 60) + 28 = 49648 seconden.</p>\n",
    "\n",
    "<p>Schrijf een programma dat een aantal uren, minuten en seconden omrekent naar het aantal seconden.</p>\n",
    "\n",
    "<ol>\n",
    "    <li>Gebruik drie variabelen: één voor uren, één voor minuten en één voor seconden. Dit is in de code hieronder al gegeven;</li>\n",
    "    <li>Toon de tijd als volgt op het scherm: <i>13:47.28;</i></li>\n",
    "    <li>Bereken het aantal seconden (aan de hand van de variabelen);</li>\n",
    "    <li>Toon het aantal seconden op het scherm;</li>\n",
    "    <li>Voorzie van commentaar.</li>\n",
    "</ol>"
   ]
  },
  {
   "cell_type": "code",
   "execution_count": null,
   "id": "f8028bcb",
   "metadata": {
    "tags": [
     "Opdracht"
    ]
   },
   "outputs": [],
   "source": [
    "#Dit programma berekent het aantal seconden.\n",
    "uren = 13\n",
    "minuten = 47\n",
    "seconden = 28"
   ]
  },
  {
   "cell_type": "markdown",
   "id": "2518c10b",
   "metadata": {},
   "source": [
    "<p>Bekijk <a href=\"https://course.cs.ru.nl/pythonVO/Teams/IA_uitwerkingen/IA_H2_oplossingen.html#AfOpgave27\" target=\"_blank\">hier</a> de voorbeelduitwerking.</p>"
   ]
  }
 ],
 "metadata": {
  "kernelspec": {
   "display_name": "Python 3",
   "language": "python",
   "name": "python3"
  },
  "language_info": {
   "codemirror_mode": {
    "name": "ipython",
    "version": 3
   },
   "file_extension": ".py",
   "mimetype": "text/x-python",
   "name": "python",
   "nbconvert_exporter": "python",
   "pygments_lexer": "ipython3",
   "version": "3.11.8"
  }
 },
 "nbformat": 4,
 "nbformat_minor": 5
}
