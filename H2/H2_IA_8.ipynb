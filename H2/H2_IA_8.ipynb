{
 "cells": [
  {
   "cell_type": "markdown",
   "id": "a51e8c73",
   "metadata": {},
   "source": [
    "## 8: Strings aan getallen plakken\n",
    "\n",
    "<p class=\"cursor-hover\"><span style=\"font-size: 0.9375rem;\">Met </span><code>+</code><span style=\"font-size: 0.9375rem;\"> kun je:</span><br></p>\n",
    "<ul>\n",
    "    <li>twee ints (getallen) bij elkaar optellen, bijvoorbeeld: <code>4 + 3</code>;</li>\n",
    "    <li>twee strings (teksten) aan elkaar plakken, bijvoorbeeld: <code>\"Goede\" + \"morgen\"</code>.</li>\n",
    "</ul>\n",
    "<p>Maar een getal aan een tekst plakken gaat niet zomaar. Om dat te doen zet je het getal eerst om in een <code>string</code> met <code>str()</code>. Daarna kun je de twee strings aan elkaar plakken met een <code>+</code>:</p>\n",
    "\n"
   ]
  },
  {
   "cell_type": "code",
   "execution_count": null,
   "id": "ad1b5c1e",
   "metadata": {},
   "outputs": [],
   "source": [
    "print( str(4) + \"euro\")  # zet een getal om in een string, en plak het dan aan een andere string"
   ]
  },
  {
   "cell_type": "markdown",
   "id": "6ca75821",
   "metadata": {},
   "source": [
    "### Opdracht 2.5: Getallen en Strings aan elkaar plakken\n",
    "\n",
    "<p class=\"cursor-hover\">De code hieronder geeft een foutmelding. Herstel de fout, maar <b>alleen door code toe te voegen</b>. Je mag dus geen aanhalingstekens weghalen.</p>"
   ]
  },
  {
   "cell_type": "code",
   "execution_count": null,
   "id": "1f3dd73b",
   "metadata": {
    "tags": [
     "Opdracht"
    ]
   },
   "outputs": [],
   "source": [
    "print( \"Ik heb \" + 2 + \" fietsen.\")"
   ]
  },
  {
   "cell_type": "markdown",
   "id": "21779679",
   "metadata": {},
   "source": [
    "### Opdracht 2.6: (Komma)getallen en Strings aan elkaar plakken\n",
    "\n",
    "<p>Pas de volgende code aan zodat <code class=\"cursor-hover\">3.0gram</code> (aan elkaar!) wordt afgedrukt.</p>"
   ]
  },
  {
   "cell_type": "code",
   "execution_count": null,
   "id": "096c1806",
   "metadata": {
    "tags": [
     "Opdracht"
    ]
   },
   "outputs": [],
   "source": [
    "print( 3.0 , \"gram\")"
   ]
  },
  {
   "cell_type": "markdown",
   "id": "90b76535",
   "metadata": {},
   "source": [
    "### Opdracht 2.7: Een getal in tekst omzetten\n",
    "\n",
    "<p>Schrijf een programma dat, gegeven een bepaalde hoeveelheid zakgeld, de volgende tekst netjes afdrukt:</p>\n",
    "\n",
    "<p><i>Ik krijg 20.00 euro zakgeld.</i></p>\n",
    "\n",
    "<p>Tips:\n",
    "</p>\n",
    "<ul>\n",
    "    <li> Hiervoor moet je het getal 20 eerst naar een string omzetten. Daarvoor gebruik je <code>str(...)</code>;</li>\n",
    "    <li> Gebruik <code>+</code> om in een print de \".00\" er achteraan te \"plakken\".</li>\n",
    "</ul>\n"
   ]
  },
  {
   "cell_type": "code",
   "execution_count": null,
   "id": "56173073",
   "metadata": {
    "tags": [
     "Opdracht"
    ]
   },
   "outputs": [],
   "source": [
    "zakgeld = 20\n",
    "#print hier: Ik krijg 20.00 euro zakgeld."
   ]
  }
 ],
 "metadata": {
  "kernelspec": {
   "display_name": "Python 3",
   "language": "python",
   "name": "python3"
  },
  "language_info": {
   "codemirror_mode": {
    "name": "ipython",
    "version": 3
   },
   "file_extension": ".py",
   "mimetype": "text/x-python",
   "name": "python",
   "nbconvert_exporter": "python",
   "pygments_lexer": "ipython3",
   "version": "3.11.8"
  }
 },
 "nbformat": 4,
 "nbformat_minor": 5
}
