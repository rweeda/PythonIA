{
 "cells": [
  {
   "cell_type": "markdown",
   "id": "baa5e629",
   "metadata": {},
   "source": [
    "## 7: Strings achter elkaar afdrukken\n",
    "\n",
    "<p>In een <code>print()</code> kun je op twee manieren tekst achter elkaar afdrukken. Met een:</p>\n",
    "<ul>\n",
    "    <li><code>,</code> worden ze afgedrukt met een spatie ertussen;</li>\n",
    "    <li><code>+</code> worden ze aan elkaar \"geplakt\" zonder spatie.</li>\n",
    "</ul>"
   ]
  },
  {
   "cell_type": "code",
   "execution_count": null,
   "id": "e4f5f64e",
   "metadata": {},
   "outputs": [],
   "source": [
    "print( \"fiets\",\"bel\" )\t# achter elkaar zetten met spatie\n",
    "print( \"fiets\"+\"bel\" )\t#aan elkaar \"plakken\" zonder spatie"
   ]
  },
  {
   "cell_type": "markdown",
   "id": "82f1ccb7",
   "metadata": {},
   "source": [
    "### Opdracht 2.4: Strings plakken zonder spatie\n",
    "\n",
    "<p>Plak de twee strings hieronder achter elkaar zonder spatie en druk deze dan af, zodat <i>goedemorgen</i> op het scherm verschijnt.</p>\n"
   ]
  },
  {
   "cell_type": "code",
   "execution_count": null,
   "id": "52b7040b",
   "metadata": {
    "tags": [
     "Opdracht"
    ]
   },
   "outputs": [],
   "source": [
    "woord1 = \"goede\"\n",
    "woord2 = \"morgen\""
   ]
  }
 ],
 "metadata": {
  "kernelspec": {
   "display_name": "Python 3",
   "language": "python",
   "name": "python3"
  },
  "language_info": {
   "codemirror_mode": {
    "name": "ipython",
    "version": 3
   },
   "file_extension": ".py",
   "mimetype": "text/x-python",
   "name": "python",
   "nbconvert_exporter": "python",
   "pygments_lexer": "ipython3",
   "version": "3.11.8"
  }
 },
 "nbformat": 4,
 "nbformat_minor": 5
}
