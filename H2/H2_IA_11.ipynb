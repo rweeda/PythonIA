{
 "cells": [
  {
   "cell_type": "markdown",
   "id": "f3100201",
   "metadata": {},
   "source": [
    "## 11: Rekenen met getallen\n",
    "\n",
    "<p><!--<iframe width=\"640\" height=\"360\" src=\"https://www.youtube.com/embed/rhnwY1_K2Bk\" title=\"YouTube video player\" frameborder=\"0\" allow=\"accelerometer; autoplay; clipboard-write; encrypted-media; gyroscope; picture-in-picture\" allowfullscreen=\"\"></iframe>-->\n",
    "\n",
    "[![Watch the video](https://img.youtube.com/vi/VHfqNkKwfII/hqdefault.jpg)](https://www.youtube.com/embed/VHfqNkKwfII)\n",
    "</p>\n",
    "\n",
    "<p>Rekenen met <code>int</code> (gehele getallen) en <code>float</code> (kommagetallen) kun je doen met:</p>\n",
    "\n",
    "<pre class=\"python\">+   optelling\n",
    "-   aftrekking\n",
    "*   vermenigvuldiging\n",
    "/   deling\n",
    "**  machtsverheffing\n",
    "%   modulo (klokrekenen)\n",
    "</pre>"
   ]
  },
  {
   "cell_type": "code",
   "execution_count": null,
   "id": "f75d1fee",
   "metadata": {},
   "outputs": [],
   "source": [
    "print( 2 + 4 )\n",
    "print( 0.2 - 4 )\n",
    "print( 2 * 4 )\n",
    "print( 2 / 4 )\n",
    "print( 2 ** 4 )\t# 2 tot de macht 4\n",
    "print( 4 % 2 )  # klokrekenen: steeds 2 eraf trekken"
   ]
  },
  {
   "cell_type": "markdown",
   "id": "992d569c",
   "metadata": {},
   "source": [
    "<p>Als voorbeeld: je kunt '1' bij <code>leeftijd</code> optellen en opslaan als <code>leeftijd_volgend_jaar</code>:</p>"
   ]
  },
  {
   "cell_type": "code",
   "execution_count": null,
   "id": "968f21bf",
   "metadata": {},
   "outputs": [],
   "source": [
    "leeftijd = 15\n",
    "leeftijd_volgend_jaar = leeftijd + 1\n",
    "print( leeftijd_volgend_jaar )"
   ]
  },
  {
   "cell_type": "markdown",
   "id": "1028e2c8",
   "metadata": {},
   "source": [
    "<p>Bij langere berekeningen gebruik je haakjes om aan te geven wat als eerste uitgerekend moet worden, net als bij wiskunde.</p>"
   ]
  },
  {
   "cell_type": "markdown",
   "id": "14e14484",
   "metadata": {},
   "source": [
    "### Opdracht 2.12 Haakjes gebruiken\n",
    "<p>Pas de berekening hieronder aan zodat deze als uitvoer 5 heeft (dus eerst\n",
    "    6 en 4 optellen en dan pas delen door 2).</p>"
   ]
  },
  {
   "cell_type": "code",
   "execution_count": null,
   "id": "1d22465e",
   "metadata": {
    "tags": [
     "Opdracht"
    ]
   },
   "outputs": [],
   "source": [
    "antwoord = 6 + 4 / 2\n",
    "print( antwoord )"
   ]
  },
  {
   "cell_type": "markdown",
   "id": "eebb55ea",
   "metadata": {},
   "source": [
    "### Opdracht 2.13 Aantal seconden per week\n",
    "\n",
    "<p>Schrijf een programma dat het aantal seconden in een week berekent en\n",
    "    afdrukt.</p>\n",
    "<p><strong>Tip</strong>: je programma moet afdrukken: <i>Er zitten 604800 seconden in 1 week.</i></p>\n",
    "\n",
    "<p>Je moet daarvoor natuurlijk de berekening in Python doen en niet op je rekenmachine of telefoon.</p>\n"
   ]
  },
  {
   "cell_type": "code",
   "execution_count": null,
   "id": "db9ee073",
   "metadata": {
    "tags": [
     "Opdracht"
    ]
   },
   "outputs": [],
   "source": []
  },
  {
   "cell_type": "markdown",
   "id": "69ae5f5f",
   "metadata": {},
   "source": [
    "### Opdracht 2.14 Verdubbelaar\n",
    "\n",
    "<p>Schrijf een programma dat de gebruiker om een getal vraagt en vervolgens het dubbele afdrukt.</p>\n"
   ]
  },
  {
   "cell_type": "code",
   "execution_count": null,
   "id": "ee11b2c0",
   "metadata": {
    "tags": [
     "Opdracht"
    ]
   },
   "outputs": [],
   "source": []
  },
  {
   "cell_type": "markdown",
   "id": "cbc3914f",
   "metadata": {},
   "source": [
    "### Opdracht 2.15 Klokrekenen\n",
    "\n",
    "<p>We weten dat 13 uur hetzelfde is als 1 uur, en 23 uur hetzelfde als 11 uur. Om een 24-uursformaat om te zetten naar een 12-uursformaat, trekken we er 12 vanaf. Dit heet modulo 12. Het 12-uursformaat bereken je met: <code>23 % 12.</code></p>\n",
    "<p>Schrijf een programma dat de gebruiker vraagt om getal in een 24-uursformaat (bijvoorbeeld 23) en het 12-uursformaat print.</p>\n"
   ]
  },
  {
   "cell_type": "code",
   "execution_count": null,
   "id": "ed284518",
   "metadata": {
    "tags": [
     "Opdracht"
    ]
   },
   "outputs": [],
   "source": []
  }
 ],
 "metadata": {
  "kernelspec": {
   "display_name": "Python 3",
   "language": "python",
   "name": "python3"
  },
  "language_info": {
   "codemirror_mode": {
    "name": "ipython",
    "version": 3
   },
   "file_extension": ".py",
   "mimetype": "text/x-python",
   "name": "python",
   "nbconvert_exporter": "python",
   "pygments_lexer": "ipython3",
   "version": "3.11.8"
  }
 },
 "nbformat": 4,
 "nbformat_minor": 5
}
