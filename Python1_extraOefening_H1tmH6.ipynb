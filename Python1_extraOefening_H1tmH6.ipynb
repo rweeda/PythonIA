{
 "cells": [
  {
   "cell_type": "markdown",
   "metadata": {},
   "source": [
    "# Extra oefeningen Python 1: \n",
    "## H1 t/m H6"
   ]
  },
  {
   "cell_type": "markdown",
   "metadata": {},
   "source": [
    "<h3 id=\"opgaveSamen1\">Samenvattingsopgave 1: keuzes</h3>"
   ]
  },
  {
   "cell_type": "code",
   "execution_count": null,
   "metadata": {},
   "outputs": [],
   "source": [
    "print(\"Ben je bereid je best te doen? Typ 'j' of 'n'\")\n",
    "ingevoerde_best = input()\n",
    "\n",
    "print(\"Wat sta je nu voor informatica?\")\n",
    "invoer = input()\n",
    "ingevoerde_cijfer = float( invoer )"
   ]
  },
  {
   "cell_type": "markdown",
   "metadata": {},
   "source": [
    "<p>Bekijk <a href=\"HerP1_oplossingen.html#opgaveSamen1\" target=\"_blank\">hier</a> een voorbeeld uitwerking.</p>"
   ]
  },
  {
   "cell_type": "markdown",
   "metadata": {},
   "source": [
    "<h3 id=\"opgaveSamen2\">Samenvattingsopgave 2: cijfers</h3>"
   ]
  },
  {
   "cell_type": "code",
   "execution_count": null,
   "metadata": {},
   "outputs": [],
   "source": [
    "### FUNCTIE DEFINITIES  #####\n",
    "\n",
    "\n",
    "\n",
    "\n",
    "\n",
    "\n",
    "\n",
    "### HOOFDPROGRAMMA #####\n"
   ]
  },
  {
   "cell_type": "markdown",
   "metadata": {},
   "source": [
    "<p>Bekijk <a href=\"HerP1_oplossingen.html#opgaveSamen2\" target=\"_blank\">hier</a> een voorbeeld uitwerking.</p>"
   ]
  },
  {
   "cell_type": "markdown",
   "metadata": {},
   "source": [
    "<h3 id=\"opgaveSamen3\">Samenvattingsopgave 3: oefen met functies</h3>"
   ]
  },
  {
   "cell_type": "code",
   "execution_count": null,
   "metadata": {},
   "outputs": [],
   "source": [
    "##### FUNCTIE DEFINITIES ######\n",
    "def bepaalSom( ....  ,  ..... ): # welk twee getallen krijgt de functie binnen?\n",
    "  antwoord = ... # tel hier getal1 en getal2 bij elkaar op\n",
    "  ...... # return hier het antwoord\n",
    "\n",
    "\n",
    "#### HOOFDPROGRAMMA #####\n",
    "invoer1 = input (\"Geef een getal\")\n",
    "getal1 = int (invoer1)\n",
    "invoer2 = #### vraag hier om een tweede getal\n",
    "#### verander invoer2 in een getal en sla dat op in variabele getal2\n",
    "\n",
    "antwoord = bepaalSom( ..... )  # Welke twee getallen geef je mee?\n",
    "print(\"De som is\", ..... ) # welk variabele druk je af?"
   ]
  },
  {
   "cell_type": "markdown",
   "metadata": {},
   "source": [
    "<p>Bekijk <a href=\"HerP1_oplossingen.html#opgaveSamen3\" target=\"_blank\">hier</a> een voorbeeld uitwerking.</p>"
   ]
  },
  {
   "cell_type": "markdown",
   "metadata": {},
   "source": [
    "<h3 id=\"opgaveSamen4\">Samenvattingsopgave 4: nu zelf oefenen met functies</h3>"
   ]
  },
  {
   "cell_type": "code",
   "execution_count": null,
   "metadata": {},
   "outputs": [],
   "source": [
    "### FUNCTIE DEFINITIES #####\n",
    "# schrijf hier je definitie\n",
    "\n",
    "\n",
    "\n",
    "\n",
    "\n",
    "### HOOFDPROGAMMA ####\n",
    "lengte = 2\n",
    "breedte = 4\n",
    "# hier roep je straks je definitie aan\n"
   ]
  },
  {
   "cell_type": "markdown",
   "metadata": {},
   "source": [
    "<p>Bekijk <a href=\"HerP1_oplossingen.html#opgaveSamen4\" target=\"_blank\">hier</a> een voorbeeld uitwerking.</p>"
   ]
  }
 ],
 "metadata": {
  "language_info": {
   "name": "python"
  }
 },
 "nbformat": 4,
 "nbformat_minor": 2
}
