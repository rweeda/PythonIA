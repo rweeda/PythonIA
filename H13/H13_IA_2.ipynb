{
 "cells": [
  {
   "cell_type": "markdown",
   "metadata": {},
   "source": [
    "## 2: Globale variabelen declareren in Python\n",
    "\n",
    "[![Watch the video](https://img.youtube.com/vi/Mq0jA-9nPyE/hqdefault.jpg)](https://www.youtube.com/embed/Mq0jA-9nPyE)\n",
    "\n",
    "\n",
    "\n",
    "<p><i>Globale variabelen</i> zijn waarden die je door je hele programma heen kunt gebruiken, maar die meestal niet veranderen. Andere variabelen zijn <i>lokale variabelen</i>. Die kun je alleen gebruiken binnen de functie waarin je ze maakt en gebruikt.</p>\n",
    "\n",
    "\n",
    "<p>Het is een goede gewoonte om alleen constanten (\"variabelen\" die tijdens je programma niet kunnen veranderen) te gebruiken als globale variabelen. Voorbeelden van constante globale variabelen zijn\n",
    "    <code>PI=3.14</code> of <code>BTW=21</code>. Die veranderen niet (zomaar). Verandert de waarde van een globale variabele toch een keer wel, dan hoef je in je code dat maar op één plek aan te passen.\n",
    "</p>\n",
    "\n",
    "<p>Je declareert een globale variabele bovenaan in je code. Je kan dan vanuit elke functie bij de waarde.</p>\n",
    "\n",
    "\n"
   ]
  },
  {
   "cell_type": "markdown",
   "metadata": {},
   "source": [
    "### Opdracht 13.2 Prijs inclusief btw\n",
    "<p>Hieronder staat een programma dat de prijs van een product berekent inclusief 19% btw. Op Prinsjesdag wordt het btw-tarief verhoogd naar 21%. Pas de globale variabele in het onderstaande programma op één plek aan zodat het btw-tarief juist is.</p>\n"
   ]
  },
  {
   "cell_type": "code",
   "execution_count": null,
   "metadata": {},
   "outputs": [],
   "source": [
    "### GLOBALE VARIABELEN\n",
    "BTW = 0.19 # 19% btw\n",
    "\n",
    "### FUNCTIE DEFINITIES\n",
    "def berekenPrijsInclBTW(prijs_zonder_BTW):\n",
    "\tprijs_incl_BTW = prijs_zonder_BTW * (1+BTW) #vermenigvuldigen met 1,21\n",
    "\tafgeronde_prijs_incl_BTW = round(prijs_incl_BTW,2)\n",
    "\treturn afgeronde_prijs_incl_BTW\n",
    "\n",
    "### HOOFDPROGRAMMA\n",
    "prijs_verf_exclBTW = 19.90\n",
    "prijs = berekenPrijsInclBTW(prijs_verf_exclBTW)\n",
    "print(\"Prijs inclusief btw is:\", prijs)\n"
   ]
  },
  {
   "cell_type": "markdown",
   "metadata": {},
   "source": [
    "\n",
    "Klik <a href=\"https://rweeda.github.io/PythonIA/docs/IA_H14_oplossingen.html#opgave142\" target=\"_blank\">hier</a> voor een voorbeelduitwerking."
   ]
  }
 ],
 "metadata": {
  "kernelspec": {
   "display_name": "Python 3",
   "language": "python",
   "name": "python3"
  },
  "language_info": {
   "codemirror_mode": {
    "name": "ipython",
    "version": 3
   },
   "file_extension": ".py",
   "mimetype": "text/x-python",
   "name": "python",
   "nbconvert_exporter": "python",
   "pygments_lexer": "ipython3",
   "version": "3.11.8"
  }
 },
 "nbformat": 4,
 "nbformat_minor": 2
}
