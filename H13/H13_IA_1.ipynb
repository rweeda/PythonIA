{
 "cells": [
  {
   "cell_type": "markdown",
   "metadata": {},
   "source": [
    "## 1: Meerdere waarden opleveren in Python\n",
    "\n",
    "[![Watch the video](https://img.youtube.com/vi/vLHxPuS1VZk/hqdefault.jpg)](https://www.youtube.com/embed/vLHxPuS1VZk)\n",
    "\n",
    "<p>Een functie kan in principe maar één waarde opleveren. Dit zorgt ervoor dat je functie ook maar een doel heeft\n",
    "    en daardoor overzichtelijk, leesbaar en makkelijk aanpasbaar blijft.</p>\n",
    "\n",
    "<p>Maar soms kan het handig zijn als een functie\n",
    "    meerdere waarden teruggeeft. In Python kan dat. Je kunt meerdere waarden opleveren, gescheiden door een komma (oftewel\n",
    "    als lijst).</p>\n",
    "\n",
    "<p>In het voorbeeld hieronder retourneert de functie twee waarden: namelijk <code>worp1</code>\n",
    "    en <code>worp2</code>. Bij de functieaanroep op regel 10 worden beide waarden opgeslagen in de variabelen\n",
    "    <code>dobbel1</code> en <code>dobbel2</code>.\n",
    "\n",
    "</p>\n"
   ]
  },
  {
   "cell_type": "code",
   "execution_count": null,
   "metadata": {},
   "outputs": [],
   "source": [
    "import random\n",
    "\n",
    "### FUNCTIEDEFINITIE\n",
    "def gooi2dobbelstenen():\n",
    "\tworp1 = random.randint(1,6) #gooi 1e dobbelsteen\n",
    "\tworp2 = random.randint(1,6) #gooi 2e dobbelsteen\n",
    "\treturn worp1, worp2\n",
    "\n",
    "### HOOFDPROGRAMMA\n",
    "dobbel1, dobbel2 = gooi2dobbelstenen()\n",
    "print(dobbel1)\n",
    "print(dobbel2)"
   ]
  },
  {
   "cell_type": "markdown",
   "metadata": {},
   "source": [
    "### Opdracht 14.1 Meerdere waarden teruggeven\n",
    "Breid het programma hieronder uit zodat de functie <code>kiesWillekeurigeKlas</code>:\n",
    "<ol style=\"list-style-type: lower-alpha\">\n",
    "    <li>twee waarden oplevert: <code>willekeurige_jaarlaag</code> en <code>willekeurige_klas</code>;\n",
    "    </li>\n",
    "    <li>in het hoofdprogramma beide waarden opslaag als <code>jaar</code> en <code>klas</code>.</li>\n",
    "</ol>\n",
    "\n"
   ]
  },
  {
   "cell_type": "code",
   "execution_count": null,
   "metadata": {},
   "outputs": [],
   "source": [
    "import random\n",
    "\n",
    "jaarlaag = [4,5,6]\n",
    "klas = [\"a\", \"b\", \"c\", \"d\"]\n",
    "\n",
    "def kiesWillekeurigeKlas():\n",
    "  willekeurige_jaarlaag = random.choice( jaarlaag )\n",
    "  willekeurige_klas = random.choice( klas )\n",
    "  return ## HIER TWEE WAARDEN TERUGGEVEN\n",
    "\n",
    "### HOOFDPROGRAMMA\n",
    "#HIER TWEE WAARDEN OPSLAAN = kiesWillekeurigeKlas()\n",
    "print(jaar)\n",
    "print(klas)"
   ]
  },
  {
   "cell_type": "markdown",
   "metadata": {},
   "source": [
    "\n",
    "Klik <a href=\"H14_oplossingen.html#opgave141\" target=\"_blank\">hier</a> voor een voorbeelduitwerking.\n",
    "\n",
    "\n",
    "<!--\n",
    "import random\n",
    "\n",
    "jaarlaag = [4,5,6]\n",
    "klas = [\"a\", \"b\", \"c\", \"d\"]\n",
    "\n",
    "def kiesWillekeurigeKlas():\n",
    "  willekeurige_jaarlaag = random.choice( jaarlaag )\n",
    "  willekeurige_klas = random.choice( klas )\n",
    "  return ## HIER TWEE WAARDEN TERUGGEVEN\n",
    "\n",
    "### HOOFDPROGRAMMA\n",
    "#HIER TWEE WAARDEN OPSLAAN = kiesWillekeurigeKlas()\n",
    "print(jaar)\n",
    "print(klas)\n",
    "-->\n",
    "\n",
    "<!--8.2.8 Meerdere retourwaardes Je bent niet beperkt in je functies tot slechts één retourwaarde. Je kunt\n",
    "meerdere waardes in één keer retourneren door er komma’s tussen te zetten. Als je deze waardes wilt gebruiken in\n",
    "je programma na aanroep van de functies, moet je ze toekennen aan meerdere variabelen. Die zet je allemaal aan de\n",
    "linkerkant van de assignment operator, ook met komma’s ertussen. Dit kan ik het beste illustreren aan de hand van\n",
    "een voorbeeld: 104 Hoofdstuk 8. Functies listing0807.py import datetime def plusDagen( jaar , maand , dag,\n",
    "increment ): startdatum = datetime.datetime( jaar , maand , dag ) einddatum = startdatum + datetime.timedelta(\n",
    "days=increment ) return einddatum.year , einddatum.month , einddatum.day y, m, d = plusDagen( 2015 , 11, 13, 55\n",
    ") print( \"{}/{}/{}\".format( y, m, d ) ) De functie plusDagen() krijgt vier argumenten, namelijk integers die een jaar,\n",
    "een maand, een dag, en een aantal dagen die je wilt optellen bij de datum die wordt weergegeven door de eerste\n",
    "drie argumenten. Er worden drie waardes geretourneerd, namelijk een nieuw jaar, een nieuwe maand, en een nieuwe\n",
    "dag. De code stopt die in de variabelen y, m, en d. Als je de code hierboven bestudeert, vraag je je misschien af\n",
    "hoe plusDagen() precies werkt. Zoals ik al zei, het is een voordeel van functies dat zolang ze hun werk doen en je\n",
    "weet wat de argumenten zijn en wat er geretourneerd wordt, dat je niet hoeft te weten hoe de functie in elkaar zit.\n",
    "Je kunt de functie gebruiken zonder kennis van het interne proces. Dus je mag gewoon negeren wat je in\n",
    "plusDagen() ziet staan (overigens gebruikt de code van plusDagen() de datetime module, die aan de orde komt in\n",
    "hoofdstuk 27).-->"
   ]
  }
 ],
 "metadata": {
  "kernelspec": {
   "display_name": "Python 3",
   "language": "python",
   "name": "python3"
  },
  "language_info": {
   "codemirror_mode": {
    "name": "ipython",
    "version": 3
   },
   "file_extension": ".py",
   "mimetype": "text/x-python",
   "name": "python",
   "nbconvert_exporter": "python",
   "pygments_lexer": "ipython3",
   "version": "3.11.8"
  }
 },
 "nbformat": 4,
 "nbformat_minor": 2
}
