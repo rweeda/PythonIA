{
 "cells": [
  {
   "cell_type": "markdown",
   "metadata": {},
   "source": [
    "## 1: Meerdere waarden opleveren in Python\n",
    "\n",
    "[![Watch the video](https://img.youtube.com/vi/vLHxPuS1VZk/hqdefault.jpg)](https://www.youtube.com/embed/vLHxPuS1VZk)\n",
    "\n",
    "<p>Een functie kan in principe maar één waarde opleveren. Dit zorgt ervoor dat je functie ook maar een doel heeft\n",
    "    en daardoor overzichtelijk, leesbaar en makkelijk aanpasbaar blijft.</p>\n",
    "\n",
    "<p>Maar soms kan het handig zijn als een functie\n",
    "    meerdere waarden teruggeeft. In Python kan dat. Je kunt meerdere waarden opleveren, gescheiden door een komma (oftewel\n",
    "    als lijst).</p>\n",
    "\n",
    "<p>In het voorbeeld hieronder retourneert de functie twee waarden: namelijk <code>worp1</code>\n",
    "    en <code>worp2</code>. Bij de functieaanroep op regel 10 worden beide waarden opgeslagen in de variabelen\n",
    "    <code>dobbel1</code> en <code>dobbel2</code>.\n",
    "\n",
    "</p>\n"
   ]
  },
  {
   "cell_type": "code",
   "execution_count": null,
   "metadata": {},
   "outputs": [],
   "source": [
    "import random\n",
    "\n",
    "### FUNCTIEDEFINITIE\n",
    "def gooi2dobbelstenen():\n",
    "\tworp1 = random.randint(1,6) #gooi 1e dobbelsteen\n",
    "\tworp2 = random.randint(1,6) #gooi 2e dobbelsteen\n",
    "\treturn worp1, worp2\n",
    "\n",
    "### HOOFDPROGRAMMA\n",
    "dobbel1, dobbel2 = gooi2dobbelstenen()\n",
    "print(dobbel1)\n",
    "print(dobbel2)"
   ]
  },
  {
   "cell_type": "markdown",
   "metadata": {},
   "source": [
    "### Opdracht 14.1 Meerdere waarden teruggeven\n",
    "Breid het programma hieronder uit zodat de functie <code>kiesWillekeurigeKlas</code>:\n",
    "<ol style=\"list-style-type: lower-alpha\">\n",
    "    <li>twee waarden oplevert: <code>willekeurige_jaarlaag</code> en <code>willekeurige_klas</code>;\n",
    "    </li>\n",
    "    <li>in het hoofdprogramma beide waarden opslaag als <code>jaar</code> en <code>klas</code>.</li>\n",
    "</ol>\n",
    "\n"
   ]
  },
  {
   "cell_type": "code",
   "execution_count": null,
   "metadata": {},
   "outputs": [],
   "source": [
    "import random\n",
    "\n",
    "jaarlaag = [4,5,6]\n",
    "klas = [\"a\", \"b\", \"c\", \"d\"]\n",
    "\n",
    "def kiesWillekeurigeKlas():\n",
    "  willekeurige_jaarlaag = random.choice( jaarlaag )\n",
    "  willekeurige_klas = random.choice( klas )\n",
    "  return ## HIER TWEE WAARDEN TERUGGEVEN\n",
    "\n",
    "### HOOFDPROGRAMMA\n",
    "#HIER TWEE WAARDEN OPSLAAN = kiesWillekeurigeKlas()\n",
    "print(jaarlaag)\n",
    "print(klas)"
   ]
  }
 ],
 "metadata": {
  "kernelspec": {
   "display_name": "Python 3",
   "language": "python",
   "name": "python3"
  },
  "language_info": {
   "codemirror_mode": {
    "name": "ipython",
    "version": 3
   },
   "file_extension": ".py",
   "mimetype": "text/x-python",
   "name": "python",
   "nbconvert_exporter": "python",
   "pygments_lexer": "ipython3",
   "version": "3.11.8"
  }
 },
 "nbformat": 4,
 "nbformat_minor": 2
}
