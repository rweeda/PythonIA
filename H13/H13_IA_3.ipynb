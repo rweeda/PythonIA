{
 "cells": [
  {
   "cell_type": "markdown",
   "metadata": {},
   "source": [
    "## 3: Globale variabelen aanpassen in Python\n",
    "<p>Het is <b>geen</b> goede gewoonte om een globale variabele aan te passen. Daardoor heeft een functie namelijk bijeffecten, wat het moeilijker maakt om over je code te redeneren en dus ook om fouten op te sporen.</p>\n",
    "\n",
    "<p>Kan je er niet omheen en gebruik je een globale variabele die je in je programma wilt\n",
    "    aanpassen, dan geef je binnen de functie met <code>global</code> aan welke globale variabele jevwilt gebruiken. Daarna kan je de waarde aanpassen. Zie het voorbeeld hieronder:</p>\n",
    "\n"
   ]
  },
  {
   "cell_type": "code",
   "execution_count": null,
   "metadata": {},
   "outputs": [],
   "source": [
    "### GLOBALE VARIABELEN\n",
    "score = 10\n",
    "\n",
    "### FUNCTIEDEFINITIES\n",
    "def scoreAanpassen():\n",
    "\tglobal score #geef aan dat het om de globale variabele gaat\n",
    "\tscore = 8\n",
    "\tprint(\"Waarde score binnen functie:\", score)\n",
    "\n",
    "### HOOFDPROGRAMMA\n",
    "scoreAanpassen() #roep functie aan om score aan te passen\n",
    "print(\"Waarde score na functie:\", score)"
   ]
  },
  {
   "cell_type": "markdown",
   "metadata": {},
   "source": [
    "\n",
    "### Opdracht 14.3 Cijfer voor Engels opleuken\n",
    "<p>Je cijfer voor de toets Engels was nogal bedroevend. Je schrijft een functie om je cijfer op te leuken, maar die doet het niet. Verbeter de fout zodat je toch nog een 9,8 haalt.</p>\n",
    "\n"
   ]
  },
  {
   "cell_type": "code",
   "execution_count": null,
   "metadata": {},
   "outputs": [],
   "source": [
    "### GLOBALE VARIABELEN\n",
    "cijfer_engels = 3.4\n",
    "\n",
    "### FUNCTIEDEFINITIES\n",
    "def cijferVerbeteren():\n",
    "\tcijfer_engels = 9.8\n",
    "\tprint(\"Cijfer binnen functie:\", cijfer_engels)\n",
    "\n",
    "### HOOFDPROGRAMMA\n",
    "cijferVerbeteren()\n",
    "print(\"Cijfer na functie aanroep:\", cijfer_engels)"
   ]
  },
  {
   "cell_type": "markdown",
   "metadata": {},
   "source": [
    "Klik <a href=\"https://rweeda.github.io/PythonIA/docs/IA_H14_oplossingen.html#opgave142\" target=\"_blank\">hier</a> voor een voorbeelduitwerking.\n"
   ]
  }
 ],
 "metadata": {
  "kernelspec": {
   "display_name": "Python 3",
   "language": "python",
   "name": "python3"
  },
  "language_info": {
   "codemirror_mode": {
    "name": "ipython",
    "version": 3
   },
   "file_extension": ".py",
   "mimetype": "text/x-python",
   "name": "python",
   "nbconvert_exporter": "python",
   "pygments_lexer": "ipython3",
   "version": "3.11.8"
  }
 },
 "nbformat": 4,
 "nbformat_minor": 2
}
