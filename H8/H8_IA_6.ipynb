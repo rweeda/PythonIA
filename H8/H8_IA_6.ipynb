{
 "cells": [
  {
   "cell_type": "markdown",
   "metadata": {},
   "source": [
    "## 6: Samenvatting van de <code>for</code>-loop\n",
    "\n",
    "<p>Samengevat roep je een <code>for</code>-loop zo aan:</p>\n",
    "<p><code>for getal in range (startgetal, eindgrens, stapgrootte):</code></p>\n",
    "\n",
    "<p>Waarbij: </p>\n",
    "<ul>\n",
    "    <li>startgetal standaard 0 is;</li>\n",
    "    <li>men tot een eindgrens loopt (en niet tot en met);</li>\n",
    "    <li>de standaardstapgrootte 1 is.</li>\n",
    "</ul>\n",
    "<p></p>"
   ]
  }
 ],
 "metadata": {
  "kernelspec": {
   "display_name": "Python 3",
   "language": "python",
   "name": "python3"
  },
  "language_info": {
   "name": "python",
   "version": "3.12.3"
  }
 },
 "nbformat": 4,
 "nbformat_minor": 2
}
