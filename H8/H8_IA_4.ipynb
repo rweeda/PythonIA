{
 "cells": [
  {
   "cell_type": "markdown",
   "metadata": {},
   "source": [
    "## 4: Van startgetal tot eindgrens met stapgrootte (<code>for</code> met drie parameters)\n",
    "\n",
    "[![Watch the video](https://img.youtube.com/vi/-qAAKHi1NR8/hqdefault.jpg)](https://www.youtube.com/embed/-qAAKHi1NR8)\n",
    "\n",
    "<p>Standaard telt de for-loop steeds 1 op. Je kunt zelf de stapgrootte aangeven door\n",
    "    <code>range()</code> met drie parameters aan te roepen: eerst het startgetal, dan de eindgrens en als derde een\n",
    "    stapgrootte.\n",
    "</p>\n",
    "\n",
    "<p><code>for getal in range (startgetal, eindgrens, stapgrootte):</code></p>\n",
    "\n",
    "<p>Je kunt bijvoorbeeld aangeven dat steeds stappen van 2 gemaakt moet worden:</p>"
   ]
  },
  {
   "cell_type": "code",
   "execution_count": null,
   "metadata": {},
   "outputs": [],
   "source": [
    "for getal in range( 3, 13, 2 ):\n",
    "\tprint( getal )"
   ]
  },
  {
   "cell_type": "markdown",
   "metadata": {},
   "source": [
    "<p>Als je wilt aftellen, gebruik dan een negatieve stapgrootte. Je moet dan wel ervoor zorgen dat het startgetal\n",
    "    groter is dan de eindgrens.</p>"
   ]
  },
  {
   "cell_type": "code",
   "execution_count": null,
   "metadata": {},
   "outputs": [],
   "source": [
    "for teller in range( 10, 6, -1 ):\n",
    "    print( teller )"
   ]
  },
  {
   "cell_type": "markdown",
   "metadata": {},
   "source": [
    "### Opdracht 8.6: 3...2...1...Af!\n",
    "\n",
    "<p>De volgende code telt van 3 tot en met 1, en print dan \"<i>Af!</i>\". Helaas staan de regels code in de verkeerde volgorde en staat er een regel te veel in. Kan jij de code fixen?</p>\n"
   ]
  },
  {
   "cell_type": "code",
   "execution_count": null,
   "metadata": {
    "tags": [
     "Opdracht"
    ]
   },
   "outputs": [],
   "source": [
    "print(\"Af!\")\n",
    "\tprint(teller)\n",
    "for teller in range (3, 0, -1):\n",
    "for teller in range (3, 1, -1):"
   ]
  },
  {
   "cell_type": "markdown",
   "metadata": {},
   "source": [
    "### Opdracht 8.7: Veelvouden afdrukken met drie parameters\n",
    "\n",
    "<p>Druk alle veelvouden van 4 af, beginnend bij 21, aflopend tot 3. Dus: 21 17 13 9 5</p> Gebruik hiervoor maar twee regels code.<p></p>\n",
    "\n",
    "<p>Tips:\n",
    "</p>\n",
    "<ul>\n",
    "    <li>Gebruik een <code>for</code>-loop met drie parameters in de <code>range</code>.\n",
    "    </li>\n",
    "    <li>Voor het aftellen maak je gebruik van een negatieve stapgrootte.\n",
    "    </li>\n",
    "</ul>\n",
    "<p></p>"
   ]
  },
  {
   "cell_type": "code",
   "execution_count": null,
   "metadata": {
    "tags": [
     "Opdracht"
    ]
   },
   "outputs": [],
   "source": []
  }
 ],
 "metadata": {
  "kernelspec": {
   "display_name": "Python 3",
   "language": "python",
   "name": "python3"
  },
  "language_info": {
   "name": "python",
   "version": "3.12.3"
  }
 },
 "nbformat": 4,
 "nbformat_minor": 2
}
