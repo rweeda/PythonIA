{
 "cells": [
  {
   "cell_type": "markdown",
   "metadata": {},
   "source": [
    "## 1: Herhalingen met een for-loop\n",
    "\n",
    "[![Watch the video](https://img.youtube.com/vi/yxG46oJbbHc/hqdefault.jpg)](https://www.youtube.com/embed/yxG46oJbbHc)\n",
    "\n",
    "<p>Met <code>range()</code> geef je aan hoe vaak een <code>for</code>-loop herhaald wordt. Het volgende voorbeeld print 3 keer <i>Hallo</i> en na afloop van de loop print het\n",
    "    <i>Klaar!</i>.\n",
    "</p>"
   ]
  },
  {
   "cell_type": "code",
   "execution_count": null,
   "metadata": {},
   "outputs": [],
   "source": [
    "for teller in range (3):\n",
    "\tprint(\"Hallo\")\n",
    "print(\"Klaar!\")"
   ]
  },
  {
   "cell_type": "markdown",
   "metadata": {},
   "source": [
    "<p>Toelichting:</p>\n",
    "<ul>\n",
    "    <li><code>teller</code> is een variabele die bijhoudt hoe vaak de codeblok is uitgevoerd. De <code>teller</code> begint bij 0. De code wordt herhaald totdat <code>teller</code> gelijk is aan het getal bij <code>range</code>, in dit voorbeeld 3. In dit geval wordt de codeblok dus 3 keer uitgevoerd.</li>\n",
    "    <li>De codeblok die onder de <code>for</code> is ingesprongen wordt herhaald.<p></p>\n",
    "    </li>\n",
    "    <li>Elke keer na het uitvoeren van de codeblok wordt gekeken of de <code>teller</code> gelijk is aan het getal bij <code>range</code>. Als dat zo is, dan wordt de herhaling gestopt en gaat de code verder waar er nog niet is ingesprongen. Anders wordt de <code>teller</code> opgehoogd en herhaalt de codeblok nog een keer.\n",
    "    </li>\n",
    "</ul>\n",
    "\n",
    "<p>De volgende code drukt 10 waarden af, beginnend bij 0. Dus: 0, 1, 2, 3, ..., 9:</p>"
   ]
  },
  {
   "cell_type": "code",
   "execution_count": null,
   "metadata": {},
   "outputs": [],
   "source": [
    "for teller in range( 10 ):\n",
    "\tprint( teller )"
   ]
  },
  {
   "cell_type": "markdown",
   "metadata": {},
   "source": [
    "<p>In de code hierboven wordt de codeblok onder de <code>for</code> 10 keer uitgevoerd. Omdat we in de\n",
    "    informatica altijd bij 0 beginnen te tellen, krijgt <code>teller</code> eerst de waarde 0, dan 1, 2, ...  en als laatste 9.\n",
    "    Dat zijn 10 herhalingen.</p>"
   ]
  }
 ],
 "metadata": {
  "kernelspec": {
   "display_name": "Python 3",
   "language": "python",
   "name": "python3"
  },
  "language_info": {
   "name": "python",
   "version": "3.12.3"
  }
 },
 "nbformat": 4,
 "nbformat_minor": 2
}
