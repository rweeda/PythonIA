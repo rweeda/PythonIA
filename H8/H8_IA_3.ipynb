{
 "cells": [
  {
   "cell_type": "markdown",
   "metadata": {},
   "source": [
    "## 3: Van startgetal tot eindgrens (for met twee parameters)\n",
    "\n",
    "[![Watch the video](https://img.youtube.com/vi/OuLYvfjbB9s/hqdefault.jpg)](https://www.youtube.com/embed/OuLYvfjbB9s)\n",
    "\n",
    "<p>Je kunt ook aangeven bij welk getal de <code>teller</code> in de <code>for</code>-loop begint.\n",
    "    Standaard is dat 0. Als je <code>range()</code> met twee parameters aanroept, dan is de eerste het startgetal\n",
    "    en de tweede de eindgrens.</p>\n",
    "\n",
    "<p>De code hieronder drukt de getallen 2 tot 5 af (niet tot en met 5):</p>"
   ]
  },
  {
   "cell_type": "code",
   "execution_count": null,
   "metadata": {},
   "outputs": [],
   "source": [
    "for teller in range( 2, 5 ):\n",
    "  print( teller )"
   ]
  },
  {
   "cell_type": "markdown",
   "metadata": {},
   "source": [
    "### Opdracht 8.5: De getallen 102 t/m 106 afdrukken\n",
    "\n",
    "<p>Druk de getallen 102\n",
    "    tot en met 106 af. Gebruik hiervoor een <code>for</code>-loop. Na afloop print je <i>Klaar!</i></p>\n"
   ]
  },
  {
   "cell_type": "code",
   "execution_count": null,
   "metadata": {
    "tags": [
     "Opdracht"
    ]
   },
   "outputs": [],
   "source": []
  },
  {
   "cell_type": "markdown",
   "metadata": {},
   "source": [
    "<p>Klik <a href=\"https://course.cs.ru.nl/pythonVO/Teams/IA_uitwerkingen/IA_H8_oplossingen.html#opgave821\" target=\"_blank\">hier</a> voor een voorbeelduitwerking.</p>"
   ]
  }
 ],
 "metadata": {
  "kernelspec": {
   "display_name": "Python 3",
   "language": "python",
   "name": "python3"
  },
  "language_info": {
   "name": "python",
   "version": "3.12.3"
  }
 },
 "nbformat": 4,
 "nbformat_minor": 2
}
