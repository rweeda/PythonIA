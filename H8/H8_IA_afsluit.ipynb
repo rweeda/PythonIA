{
 "cells": [
  {
   "cell_type": "markdown",
   "metadata": {},
   "source": [
    "## Onderwerp 8: Afsluitende opdrachten\n",
    "\n",
    "<p>Met de volgende afsluitende opdrachten kun je kijken hoe goed je de stof beheerst. Controleer steeds je eigen oplossing met de voorbeeldoplossing.</p>\n"
   ]
  },
  {
   "cell_type": "markdown",
   "metadata": {},
   "source": [
    "### Afsluitende opdracht 8.1: Veelvouden van 5 onder de 100\n",
    "\n",
    "<p>Schrijf code die de veelvouden van 5 afdrukt. Stop nadat de 100 afgedrukt is.</p>\n",
    "<p>Je moet gebruikmaken van een <code>for</code>-loop. </p>\n",
    "\n",
    "<p>Je programma drukt dus de volgende reeks getallen af:</p>\n",
    "0<br>5<br>10<br>15<br>...<br>95<br>100"
   ]
  },
  {
   "cell_type": "code",
   "execution_count": null,
   "metadata": {
    "tags": [
     "Opdracht"
    ]
   },
   "outputs": [],
   "source": []
  },
  {
   "cell_type": "markdown",
   "metadata": {},
   "source": [
    "<p>Bekijk <a href=\"https://course.cs.ru.nl/pythonVO/Teams/IA_uitwerkingen/IA_H8_oplossingen.html#AfOpgave81\">hier</a> de voorbeelduitwerking.</p>\n"
   ]
  },
  {
   "cell_type": "markdown",
   "metadata": {},
   "source": [
    "### Afsluitende opdracht 8.2: Traceertabel\n",
    "\n",
    "<p>Bekijk de onderstaande code en beantwoord daarna de vragen eronder.</p>"
   ]
  },
  {
   "cell_type": "code",
   "execution_count": null,
   "metadata": {
    "tags": [
     "Opdracht"
    ]
   },
   "outputs": [],
   "source": [
    "def doeIets (getal):\n",
    "\tantwoord = 0\n",
    "\tfor teller in range (0,getal):\n",
    "\t\tantwoord += teller\n",
    "\treturn antwoord"
   ]
  },
  {
   "cell_type": "markdown",
   "metadata": {},
   "source": [
    "<p>A. Vul onderstaande traceertabel in voor het geval je <code>doeIets()</code> aanroept met de waarde 5.</p>\n",
    "\n",
    "<p>\n",
    "</p>\n",
    "<table cellspacing=\"\" cellpadding=\"\" border=\"1\" width=\"\" align=\"\">\n",
    "    <tbody>\n",
    "        <tr>\n",
    "            <th><code>teller</code></th>\n",
    "            <th><code>antwoord</code></th>\n",
    "        </tr>\n",
    "        <tr>\n",
    "            <td>0</td>\n",
    "            <td>0</td>\n",
    "        </tr>\n",
    "        <tr>\n",
    "            <td>1</td>\n",
    "            <td>1</td>\n",
    "        </tr>\n",
    "        <tr>\n",
    "            <td>&nbsp;</td>\n",
    "            <td>&nbsp;</td>\n",
    "        </tr>\n",
    "        <tr>\n",
    "            <td>&nbsp;</td>\n",
    "            <td>&nbsp;</td>\n",
    "        </tr>\n",
    "        <tr>\n",
    "            <td>&nbsp;</td>\n",
    "            <td>&nbsp;</td>\n",
    "        </tr>\n",
    "    </tbody>\n",
    "</table>\n",
    "<p></p>\n",
    "<p>B. De code van <code>doeIets()</code> heeft een doel. Vat dit doel samen in een zin en zet dit in commentaar boven de functiedefinitie van <code>doeIets()</code>. Let op: er wordt gevraagd om een samenvatting, niet een uitleg van wat elke regel code doet.</p>\n"
   ]
  },
  {
   "cell_type": "markdown",
   "metadata": {},
   "source": [
    "<p>Bekijk <a href=\"https://course.cs.ru.nl/pythonVO/Teams/IA_uitwerkingen/IA_H8_oplossingen.html#AfOpgave82\">hier</a> de voorbeelduitwerking.</p>\n"
   ]
  },
  {
   "cell_type": "markdown",
   "metadata": {},
   "source": [
    "### Afsluitende opdracht 8.3: Spirograaf\n",
    "\n",
    "<div style=\"display:flex\">\n",
    "<img src=\"http://course.cs.ru.nl/pythonVO/Jupyter/img/Python7_spirograaf.jpg\" alt=\"Spirograaf\" width=\"300\">\n",
    "&nbsp;<p>\n",
    "Deze spirograaf is gemaakt door 25 keer achter elkaar een vierkant te tekenen en tussendoor steeds 15 graden te draaien</p>\n",
    "</div>\n",
    "                Schrijf een programma dat de spirograaf tekent. Gebruik hierbij de onderstaande code.\n",
    "\n",
    "\n"
   ]
  },
  {
   "cell_type": "code",
   "execution_count": null,
   "metadata": {},
   "outputs": [],
   "source": [
    "import turtle"
   ]
  },
  {
   "cell_type": "markdown",
   "metadata": {},
   "source": [
    "<p>Bekijk <a href=\"https://course.cs.ru.nl/pythonVO/Teams/IA_uitwerkingen/IA_H8_oplossingen.html#AfOpgave83\">hier</a> de voorbeelduitwerking.</p>\n"
   ]
  },
  {
   "cell_type": "markdown",
   "metadata": {},
   "source": [
    "### Afsluitende opdracht 8.4: Aftellen tussen getallen gekozen door gebruiker\n",
    "\n",
    "<p>Schrijf een programma dat de gebruiker om twee getallen vraagt en dan aftelt van het grootste tot het kleinste (niet: tot en met).</p>\n"
   ]
  },
  {
   "cell_type": "code",
   "execution_count": null,
   "metadata": {
    "tags": [
     "Opdracht"
    ]
   },
   "outputs": [],
   "source": []
  },
  {
   "cell_type": "markdown",
   "metadata": {},
   "source": [
    "<p>Bekijk <a href=\"https://course.cs.ru.nl/pythonVO/Teams/IA_uitwerkingen/IA_H8_oplossingen.html#AfOpgave84\">hier</a> de voorbeelduitwerking.</p>\n"
   ]
  },
  {
   "cell_type": "markdown",
   "metadata": {},
   "source": [
    "### Afsluitende opdracht 8.5: Een bepaald aantal even getallen\n",
    "\n",
    "<p>Schrijf een programma dat de gebruiker om een getal vraagt. Vervolgens print je dat aantal even getallen beginnend bij 0.</p>\n",
    "\n",
    "<p>Dus, als de gebruiker 5 invoert, dan worden 0, 2, 4, 6, en 8 afgedrukt.</p>\n",
    "\n",
    "<p>Tip: Zorg eerst dat je programma werkt voor 5. Breid het daarna uit met de vraag aan de gebruiker.</p>\n"
   ]
  },
  {
   "cell_type": "code",
   "execution_count": null,
   "metadata": {
    "tags": [
     "Opdracht"
    ]
   },
   "outputs": [],
   "source": []
  },
  {
   "cell_type": "markdown",
   "metadata": {},
   "source": [
    "<p>Bekijk <a href=\"https://course.cs.ru.nl/pythonVO/Teams/IA_uitwerkingen/IA_H8_oplossingen.html#AfOpgave85\">hier</a> de voorbeelduitwerking.</p>\n"
   ]
  },
  {
   "cell_type": "markdown",
   "metadata": {},
   "source": [
    "### Afsluitende opdracht 8.6: Som van vier getallen\n",
    "\n",
    "<p>Schrijf een programma die de gebruiker om vier getallen vraagt en na afloop de som van die vier getallen afdrukt.</p>\n",
    "\n",
    "<p>Hiervoor gebruik je natuurlijk een <code>for</code>-loop en een variabele voor de <code>som</code>. In de loop hoog je de som op met het ingevoerde getal.</p>\n",
    "\n",
    "<p>Tips:\n",
    "</p>\n",
    "<ul>\n",
    "    <li>We gebruiken een variabele <code>som</code>. De <code>som</code> begint op 0.</li>\n",
    "    <li>We maken een loop die vier keer code herhaalt.\n",
    "    </li>\n",
    "    <li>Vraag de gebruiker om invoer en sla deze op in een variabele (vergeet niet de <code>int()</code>).</li>\n",
    "    <li>Tel het ingevoerde getal bij de huidige som op.\n",
    "    </li>\n",
    "    <li>Print de som na afloop van de loop.</li>\n",
    "</ul>\n",
    "<p></p>"
   ]
  },
  {
   "cell_type": "code",
   "execution_count": null,
   "metadata": {
    "tags": [
     "Opdracht"
    ]
   },
   "outputs": [],
   "source": []
  },
  {
   "cell_type": "markdown",
   "metadata": {},
   "source": [
    "<p>Bekijk <a href=\"https://course.cs.ru.nl/pythonVO/Teams/IA_uitwerkingen/IA_H8_oplossingen.html#AfOpgave86\">hier</a> de voorbeelduitwerking.</p>\n"
   ]
  },
  {
   "cell_type": "markdown",
   "metadata": {},
   "source": [
    "### Afsluitende opdracht 8.7 Driehoekje van sterretjes\n",
    "\n",
    "<p>Schrijf een functie die een getal als parameter krijgt en vervolgens een driehoekje van sterretjes afdrukt. Bijvoorbeeld, als de parameter 3 is, dan wordt het volgende afgedrukt:</p>\n",
    "*<br>**<br>***<br>**<br>*<br>\n",
    "\n",
    "<p>Tip: Weet je nog wat <code>print(3 * \"*\")</code> doet? Zo niet, probeer het dan eventjes uit.</p>\n"
   ]
  },
  {
   "cell_type": "code",
   "execution_count": null,
   "metadata": {
    "tags": [
     "Opdracht"
    ]
   },
   "outputs": [],
   "source": []
  },
  {
   "cell_type": "markdown",
   "metadata": {},
   "source": [
    "<p>Klik <a href=\"https://course.cs.ru.nl/pythonVO/Teams/IA_uitwerkingen/IA_H8_oplossingen.html#AfOpgave87\">hier</a> voor een voorbeelduitwerking.</p>"
   ]
  }
 ],
 "metadata": {
  "kernelspec": {
   "display_name": "Python 3",
   "language": "python",
   "name": "python3"
  },
  "language_info": {
   "name": "python",
   "version": "3.12.3"
  }
 },
 "nbformat": 4,
 "nbformat_minor": 2
}
