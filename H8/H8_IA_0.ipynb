{
 "cells": [
  {
   "cell_type": "markdown",
   "metadata": {},
   "source": [
    "# Onderwerp 8 - Herhalingen met een <code>for</code>-loop\n",
    "<div style=\"display:flex\">\n",
    "<p>Om dingen te herhalen kun je behalve een <code>while</code>-loop ook soms een <code>for</code>-loop gebruiken.<br>\n",
    "Een <code>while</code>-loop kan voor elke herhaling gebruikt worden. Een <code>for</code>-loop kun je alleen gebruiken als vooraf duidelijk is hoe vaak de code in de loop herhaald moet worden.</p>\n",
    "<img src=\"http://course.cs.ru.nl/pythonVO/Jupyter/img/H8_0.png\" alt=\"Spirograaf\" width=20%>\n",
    "</div>\n",
    "\n",
    "In dit onderwerp:\n",
    "<ul>\n",
    "    <li>leer je een <code>for</code>-loop te gebruiken om een actie herhaaldelijk uit te voeren;\n",
    "    </li>\n",
    "    <li>leer je <code>range()</code> met 1 parameter te gebruiken om te bepalen hoe vaak een actie herhaald moet worden. Bijvoorbeeld: <code>for teller in range(5):</code>\n",
    "    </li>\n",
    "    <li>leer je <code>range()</code> met 2 parameters te gebruiken om startwaarde en eindgrens van een herhaling aan te geven. Bijvoorbeeld: <code>for teller in range(2,7):</code>\n",
    "    </li>\n",
    "    <li>leer je <code>range()</code> met 3 parameters te gebruiken om startwaarde, eindgrens en stapgrootte van een herhaling aan te geven. Bijvoorbeeld: <code>for teller in range(2,13,3):</code>\n",
    "    </li>\n",
    "</ul>\n",
    "\n",
    "\n",
    "\n",
    "\n",
    "\n",
    "Verwerkingstijd: <b>1 uur</b>"
   ]
  }
 ],
 "metadata": {
  "kernelspec": {
   "display_name": "Python 3",
   "language": "python",
   "name": "python3"
  },
  "language_info": {
   "name": "python",
   "version": "3.12.3"
  }
 },
 "nbformat": 4,
 "nbformat_minor": 2
}
