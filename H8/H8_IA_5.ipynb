{
 "cells": [
  {
   "cell_type": "markdown",
   "metadata": {},
   "source": [
    "## 5: Andere rijtjes afdrukken met een <code>for</code>-loop\n",
    "\n",
    "<p>Je kunt ook in de <code>for</code>-loop met de teller rekenen. Op zo'n manier krijg je andere rijtjes getallen.</p>\n",
    "\n",
    "<p>Bijvoorbeeld, om de eerste vijf <i>even</i> getallen af te drukken kun je teller steeds met twee vermenigvuldigen:</p>\n"
   ]
  },
  {
   "cell_type": "code",
   "execution_count": null,
   "metadata": {},
   "outputs": [],
   "source": [
    "for teller in range(5):\n",
    "\tprint(teller*2)"
   ]
  },
  {
   "cell_type": "markdown",
   "metadata": {},
   "source": [
    "<p>En om de eerste vijf <i>oneven</i> getallen af te drukken, doe je hetzelfde, maar tel je steeds eentje bij het even getal op. Omdat je nog steeds vijf getallen wilt afdrukken loopt je teller van 0 tot 5:</p>\n"
   ]
  },
  {
   "cell_type": "code",
   "execution_count": null,
   "metadata": {},
   "outputs": [],
   "source": [
    "for teller in range(0,5):\n",
    "\tprint(teller*2 + 1)"
   ]
  },
  {
   "cell_type": "markdown",
   "metadata": {},
   "source": [
    "### Opdracht 8.8: Honderdvouden\n",
    "\n",
    "<p>Schrijf een programma dat de honderdvouden van 100 tot en met 1000 afdrukt.</p>\n",
    "\n",
    "<p>Dus de getallen 100, 200, 300, ..., 1000 worden afgedrukt.</p>"
   ]
  },
  {
   "cell_type": "code",
   "execution_count": null,
   "metadata": {
    "tags": [
     "Opdracht"
    ]
   },
   "outputs": [],
   "source": []
  },
  {
   "cell_type": "markdown",
   "metadata": {},
   "source": [
    "### Opdracht 8.9: Een bepaald aantal honderdvouden\n",
    "\n",
    "<p>De code hieronder drukt de eerste tien honderdvouden af. De teller wordt gebruikt om het aantal bij te houden, dus het vermenigvuldigen doen we in de print.</p>\n",
    "\n",
    "<p>Wijzig de code hieronder zodat de eerste vijf honderdvouden afgedrukt worden.</p>\n",
    "\n",
    "<p>Dus: 0, 100, 200, 300 en 400 worden afgedrukt.</p>"
   ]
  },
  {
   "cell_type": "code",
   "execution_count": null,
   "metadata": {
    "tags": [
     "Opdracht"
    ]
   },
   "outputs": [],
   "source": [
    "for aantal in range(10):\n",
    "\tprint(aantal*100)"
   ]
  }
 ],
 "metadata": {
  "kernelspec": {
   "display_name": "Python 3",
   "language": "python",
   "name": "python3"
  },
  "language_info": {
   "name": "python",
   "version": "3.12.3"
  }
 },
 "nbformat": 4,
 "nbformat_minor": 2
}
