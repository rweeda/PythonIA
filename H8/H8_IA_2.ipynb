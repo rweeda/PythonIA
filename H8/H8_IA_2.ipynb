{
 "cells": [
  {
   "cell_type": "markdown",
   "metadata": {},
   "source": [
    "## 2: Oefenen met een <code>for</code>-loop"
   ]
  },
  {
   "cell_type": "markdown",
   "metadata": {},
   "source": [
    "### Opdracht 8.1: Cirkel tekenen\n",
    "\n",
    "<p>Met de code hieronder kan Turtle een cirkel tekenen door gebruik te maken van een <code>for</code>-loop. Helaas staan de regels code in de verkeerde volgorde. Kan jij ze in de juiste volgorde zetten?</p>\n"
   ]
  },
  {
   "cell_type": "code",
   "execution_count": null,
   "metadata": {
    "tags": [
     "Opdracht"
    ]
   },
   "outputs": [],
   "source": [
    "\tturtle.forward(20)\n",
    "import turtle\n",
    "for aantal_herhalingen in range(40):\n",
    "turtle.pendown()\n",
    "turtle.done()\n",
    "\tturtle.right(10)"
   ]
  },
  {
   "cell_type": "markdown",
   "metadata": {},
   "source": [
    "<p>Bekijk <a href=\"https://course.cs.ru.nl/pythonVO/Teams/IA_uitwerkingen/IA_H8_oplossingen.html#opgave811\">hier</a>  de voorbeelduitwerking.</p>\n"
   ]
  },
  {
   "cell_type": "markdown",
   "metadata": {},
   "source": [
    "### Opdracht 8.2: Strafregels\n",
    "\n",
    "<p>Ben je vergeten je huiswerk te maken? Helaas zal je nu strafregels moeten schrijven. Gelukkig ben je een slimme scholier en besluit je om een programma te schrijven dat voor jou je strafwerk schrijft.</p>\n",
    "\n",
    "<p>Schrijf een programma dat gebruikt maakt van een <code>for</code>-loop om de volgende tekst 100 keer af te drukken: <i>Ik zal nooit meer vergeten om mijn informaticahuiswerk te maken.</i></p>\n",
    "<p>Na afloop druk je eenmalig af: <i>Dat beloof ik.</i></p>"
   ]
  },
  {
   "cell_type": "code",
   "execution_count": null,
   "metadata": {
    "tags": [
     "Opdracht"
    ]
   },
   "outputs": [],
   "source": [
    "print(\"Ik zal nooit meer vergeten om mijn informaticahuiswerk te maken.\")"
   ]
  },
  {
   "cell_type": "markdown",
   "metadata": {},
   "source": [
    "<p>Bekijk <a href=\"https://course.cs.ru.nl/pythonVO/Teams/IA_uitwerkingen/IA_H8_oplossingen.html#opgave812\">hier</a>  de voorbeelduitwerking.</p>\n"
   ]
  },
  {
   "cell_type": "markdown",
   "metadata": {},
   "source": [
    "### Opdracht 8.3: Vierkantje tekenen\n",
    "\n",
    "<p>De code hieronder tekent een vierkant. Maar er staat wel veel dubbele code in, namelijk: er worden twee regels code maar liefst vier keer herhaald. Vervang de acht regels code door twee regels. Gebruik een <code>for</code>-loop om twee regels code vier keer te herhalen. Test of je programma nog steeds een vierkant tekent.</p>\n"
   ]
  },
  {
   "cell_type": "code",
   "execution_count": null,
   "metadata": {
    "tags": [
     "Opdracht"
    ]
   },
   "outputs": [],
   "source": [
    "import turtle\n",
    "\n",
    "### FUNCTIEDEFINITIE\n",
    "\n",
    "#tekent een vierkant door 4 keer vooruit de gegeven lengte vooruit te lopen en 90 graden te draaien.\n",
    "def tekenVierkant( lengte ):\n",
    "    turtle.forward(lengte)\n",
    "    turtle.right(90)\n",
    "    turtle.forward(lengte)\n",
    "    turtle.right(90)\n",
    "    turtle.forward(lengte)\n",
    "    turtle.right(90)\n",
    "    turtle.forward(lengte)\n",
    "    turtle.right(90)\n",
    "\n",
    "\n",
    "### HOOFDPROGRAMMA\n",
    "turtle.pendown()\n",
    "for teller in range(4):\n",
    "\ttekenVierkant( 100 )\n",
    "\n"
   ]
  },
  {
   "cell_type": "markdown",
   "metadata": {},
   "source": [
    "<p>Bekijk <a href=\"https://course.cs.ru.nl/pythonVO/Teams/IA_uitwerkingen/IA_H8_oplossingen.html#opgave813\">hier</a>  de voorbeelduitwerking.</p>\n"
   ]
  },
  {
   "cell_type": "markdown",
   "metadata": {},
   "source": [
    "### Opdracht 8.4: Drie lievelingskleuren\n",
    "\n",
    "<p>Schrijf een programma dat een gebruiker om zijn drie lievelingskleuren vraagt en na de derde print: <br><i>Dat zijn drie mooie kleuren!</i> ,<br> Gebruik hiervoor een <code>for</code>-loop.</p>\n"
   ]
  },
  {
   "cell_type": "code",
   "execution_count": null,
   "metadata": {
    "tags": [
     "Opdracht"
    ]
   },
   "outputs": [],
   "source": []
  },
  {
   "cell_type": "markdown",
   "metadata": {},
   "source": [
    "<p>Bekijk <a href=\"http://course.cs.ru.nl/pythonVO/Jupyter/H8_oplossingen.html#opgave814\" target=\"_blank\">hier</a> de voorbeelduitwerking.</p>"
   ]
  }
 ],
 "metadata": {
  "kernelspec": {
   "display_name": "Python 3",
   "language": "python",
   "name": "python3"
  },
  "language_info": {
   "name": "python",
   "version": "3.12.3"
  }
 },
 "nbformat": 4,
 "nbformat_minor": 2
}
